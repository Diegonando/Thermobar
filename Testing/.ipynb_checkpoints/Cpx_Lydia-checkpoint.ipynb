{
 "cells": [
  {
   "cell_type": "markdown",
   "metadata": {},
   "source": [
    "# This code is a simple introduction to Cpx-Liquid melt matching\n",
    "- for a more advanced example, see Cpx_MeltMatch2_ScruggsPutirka\n",
    "- This notebook recreates the method of Gleeson et al. (2020) - JPET - https://doi.org/10.1093/petrology/egaa094"
   ]
  },
  {
   "cell_type": "markdown",
   "metadata": {},
   "source": [
    "## This imports all the python things you need"
   ]
  },
  {
   "cell_type": "code",
   "execution_count": 1,
   "metadata": {},
   "outputs": [],
   "source": [
    "import numpy as np\n",
    "import pandas as pd\n",
    "import sys\n",
    "sys.path.append(\"..\") # This allows you to put the python file in the folder above. So you can have lots of sub folders\n",
    "import matplotlib.pyplot as plt\n",
    "import Thermobar as pt"
   ]
  },
  {
   "cell_type": "markdown",
   "metadata": {},
   "source": [
    "## This sets plotting parameters"
   ]
  },
  {
   "cell_type": "code",
   "execution_count": 2,
   "metadata": {},
   "outputs": [],
   "source": [
    "# This sets some plotting things\n",
    "plt.rcParams[\"font.family\"] = 'arial'\n",
    "plt.rcParams[\"font.size\"] =12\n",
    "plt.rcParams[\"mathtext.default\"] = \"regular\"\n",
    "plt.rcParams[\"mathtext.fontset\"] = \"dejavusans\"\n",
    "plt.rcParams['patch.linewidth'] = 1\n",
    "plt.rcParams['axes.linewidth'] = 1 \n",
    "plt.rcParams[\"xtick.direction\"] = \"in\"\n",
    "plt.rcParams[\"ytick.direction\"] = \"in\"\n",
    "plt.rcParams[\"ytick.direction\"] = \"in\"\n",
    "plt.rcParams[\"xtick.major.size\"] = 6 # Sets length of ticks\n",
    "plt.rcParams[\"ytick.major.size\"] = 4 # Sets length of ticks\n",
    "plt.rcParams[\"ytick.labelsize\"] = 12 # Sets size of numbers on tick marks\n",
    "plt.rcParams[\"xtick.labelsize\"] = 12 # Sets size of numbers on tick marks\n",
    "plt.rcParams[\"axes.titlesize\"] = 14 # Overall title\n",
    "plt.rcParams[\"axes.labelsize\"] = 14 # Axes labels\n",
    "\n"
   ]
  },
  {
   "cell_type": "markdown",
   "metadata": {},
   "source": [
    "# Loading in Data\n",
    "- In this case, Gleson et al had cpxs in the sheet \"cpxs\" and melts in the \"melts\"\n",
    "- You column headings need to be \"Sample_ID\", \"SiO2_Liq\", \"MgO_Cpx\" etc. e.g., oxide, then underscore, capital letter for phase"
   ]
  },
  {
   "cell_type": "code",
   "execution_count": 4,
   "metadata": {},
   "outputs": [],
   "source": [
    "# Loading Liquids\n",
    "out=pt.import_excel('mn_cp_all_endings.xlsx', sheet_name=\"WR\")\n",
    "my_input_Liqs=out['my_input']\n",
    "myLiquids1=out['Liqs']\n",
    "\n",
    "out2=pt.import_excel('mn_cp_all_endings.xlsx', sheet_name=\"tenerife_cp_all\")\n",
    "my_input_Cpxs=out2['my_input']\n",
    "myCPXs1=out2['Cpxs']\n",
    "\n",
    "\n"
   ]
  },
  {
   "cell_type": "code",
   "execution_count": 5,
   "metadata": {},
   "outputs": [
    {
     "data": {
      "text/html": [
       "<div>\n",
       "<style scoped>\n",
       "    .dataframe tbody tr th:only-of-type {\n",
       "        vertical-align: middle;\n",
       "    }\n",
       "\n",
       "    .dataframe tbody tr th {\n",
       "        vertical-align: top;\n",
       "    }\n",
       "\n",
       "    .dataframe thead th {\n",
       "        text-align: right;\n",
       "    }\n",
       "</style>\n",
       "<table border=\"1\" class=\"dataframe\">\n",
       "  <thead>\n",
       "    <tr style=\"text-align: right;\">\n",
       "      <th></th>\n",
       "      <th>SiO2_Cpx</th>\n",
       "      <th>TiO2_Cpx</th>\n",
       "      <th>Al2O3_Cpx</th>\n",
       "      <th>FeOt_Cpx</th>\n",
       "      <th>MnO_Cpx</th>\n",
       "      <th>MgO_Cpx</th>\n",
       "      <th>CaO_Cpx</th>\n",
       "      <th>Na2O_Cpx</th>\n",
       "      <th>K2O_Cpx</th>\n",
       "      <th>Cr2O3_Cpx</th>\n",
       "      <th>Sample_ID_Cpx</th>\n",
       "    </tr>\n",
       "  </thead>\n",
       "  <tbody>\n",
       "    <tr>\n",
       "      <th>0</th>\n",
       "      <td>51.60</td>\n",
       "      <td>0.53</td>\n",
       "      <td>2.79</td>\n",
       "      <td>4.30</td>\n",
       "      <td>0.07</td>\n",
       "      <td>16.04</td>\n",
       "      <td>24.08</td>\n",
       "      <td>0.15</td>\n",
       "      <td>0</td>\n",
       "      <td>0.30</td>\n",
       "      <td>CF195-GCPX-93_core2</td>\n",
       "    </tr>\n",
       "    <tr>\n",
       "      <th>1</th>\n",
       "      <td>48.96</td>\n",
       "      <td>0.78</td>\n",
       "      <td>4.53</td>\n",
       "      <td>6.21</td>\n",
       "      <td>0.14</td>\n",
       "      <td>14.17</td>\n",
       "      <td>23.30</td>\n",
       "      <td>0.12</td>\n",
       "      <td>0</td>\n",
       "      <td>0.02</td>\n",
       "      <td>CF195_GPX_21-rim1</td>\n",
       "    </tr>\n",
       "    <tr>\n",
       "      <th>2</th>\n",
       "      <td>49.87</td>\n",
       "      <td>0.73</td>\n",
       "      <td>3.90</td>\n",
       "      <td>4.97</td>\n",
       "      <td>0.08</td>\n",
       "      <td>14.94</td>\n",
       "      <td>23.69</td>\n",
       "      <td>0.14</td>\n",
       "      <td>0</td>\n",
       "      <td>0.00</td>\n",
       "      <td>CF195_GPX_21-rim2</td>\n",
       "    </tr>\n",
       "    <tr>\n",
       "      <th>3</th>\n",
       "      <td>50.18</td>\n",
       "      <td>0.63</td>\n",
       "      <td>3.01</td>\n",
       "      <td>8.01</td>\n",
       "      <td>0.33</td>\n",
       "      <td>13.56</td>\n",
       "      <td>23.18</td>\n",
       "      <td>0.43</td>\n",
       "      <td>0</td>\n",
       "      <td>0.12</td>\n",
       "      <td>CF195-GCPX-93_rim2</td>\n",
       "    </tr>\n",
       "    <tr>\n",
       "      <th>4</th>\n",
       "      <td>48.99</td>\n",
       "      <td>0.64</td>\n",
       "      <td>4.47</td>\n",
       "      <td>8.00</td>\n",
       "      <td>0.16</td>\n",
       "      <td>13.45</td>\n",
       "      <td>23.66</td>\n",
       "      <td>0.16</td>\n",
       "      <td>0</td>\n",
       "      <td>0.00</td>\n",
       "      <td>CF195-GCPX-111_core1</td>\n",
       "    </tr>\n",
       "    <tr>\n",
       "      <th>...</th>\n",
       "      <td>...</td>\n",
       "      <td>...</td>\n",
       "      <td>...</td>\n",
       "      <td>...</td>\n",
       "      <td>...</td>\n",
       "      <td>...</td>\n",
       "      <td>...</td>\n",
       "      <td>...</td>\n",
       "      <td>...</td>\n",
       "      <td>...</td>\n",
       "      <td>...</td>\n",
       "    </tr>\n",
       "    <tr>\n",
       "      <th>139</th>\n",
       "      <td>50.67</td>\n",
       "      <td>0.48</td>\n",
       "      <td>2.95</td>\n",
       "      <td>3.95</td>\n",
       "      <td>0.06</td>\n",
       "      <td>16.07</td>\n",
       "      <td>23.19</td>\n",
       "      <td>0.11</td>\n",
       "      <td>0</td>\n",
       "      <td>0.18</td>\n",
       "      <td>CF195_CPX_252-m1</td>\n",
       "    </tr>\n",
       "    <tr>\n",
       "      <th>140</th>\n",
       "      <td>51.66</td>\n",
       "      <td>0.39</td>\n",
       "      <td>2.17</td>\n",
       "      <td>3.79</td>\n",
       "      <td>0.09</td>\n",
       "      <td>16.44</td>\n",
       "      <td>23.36</td>\n",
       "      <td>0.10</td>\n",
       "      <td>0</td>\n",
       "      <td>0.14</td>\n",
       "      <td>CF195_CPX_252-m2</td>\n",
       "    </tr>\n",
       "    <tr>\n",
       "      <th>141</th>\n",
       "      <td>51.53</td>\n",
       "      <td>0.41</td>\n",
       "      <td>2.38</td>\n",
       "      <td>3.81</td>\n",
       "      <td>0.09</td>\n",
       "      <td>16.05</td>\n",
       "      <td>23.25</td>\n",
       "      <td>0.08</td>\n",
       "      <td>0</td>\n",
       "      <td>0.16</td>\n",
       "      <td>CF195_CPX_252-m3</td>\n",
       "    </tr>\n",
       "    <tr>\n",
       "      <th>142</th>\n",
       "      <td>50.41</td>\n",
       "      <td>0.58</td>\n",
       "      <td>3.20</td>\n",
       "      <td>5.49</td>\n",
       "      <td>0.14</td>\n",
       "      <td>15.11</td>\n",
       "      <td>22.53</td>\n",
       "      <td>0.11</td>\n",
       "      <td>0</td>\n",
       "      <td>0.00</td>\n",
       "      <td>CF195_CPX_252-core1</td>\n",
       "    </tr>\n",
       "    <tr>\n",
       "      <th>143</th>\n",
       "      <td>50.00</td>\n",
       "      <td>0.61</td>\n",
       "      <td>3.27</td>\n",
       "      <td>5.56</td>\n",
       "      <td>0.12</td>\n",
       "      <td>15.37</td>\n",
       "      <td>22.48</td>\n",
       "      <td>0.14</td>\n",
       "      <td>0</td>\n",
       "      <td>0.03</td>\n",
       "      <td>CF195_CPX_252-core2</td>\n",
       "    </tr>\n",
       "  </tbody>\n",
       "</table>\n",
       "<p>144 rows × 11 columns</p>\n",
       "</div>"
      ],
      "text/plain": [
       "     SiO2_Cpx  TiO2_Cpx  Al2O3_Cpx  FeOt_Cpx  MnO_Cpx  MgO_Cpx  CaO_Cpx  \\\n",
       "0       51.60      0.53       2.79      4.30     0.07    16.04    24.08   \n",
       "1       48.96      0.78       4.53      6.21     0.14    14.17    23.30   \n",
       "2       49.87      0.73       3.90      4.97     0.08    14.94    23.69   \n",
       "3       50.18      0.63       3.01      8.01     0.33    13.56    23.18   \n",
       "4       48.99      0.64       4.47      8.00     0.16    13.45    23.66   \n",
       "..        ...       ...        ...       ...      ...      ...      ...   \n",
       "139     50.67      0.48       2.95      3.95     0.06    16.07    23.19   \n",
       "140     51.66      0.39       2.17      3.79     0.09    16.44    23.36   \n",
       "141     51.53      0.41       2.38      3.81     0.09    16.05    23.25   \n",
       "142     50.41      0.58       3.20      5.49     0.14    15.11    22.53   \n",
       "143     50.00      0.61       3.27      5.56     0.12    15.37    22.48   \n",
       "\n",
       "     Na2O_Cpx  K2O_Cpx  Cr2O3_Cpx         Sample_ID_Cpx  \n",
       "0        0.15        0       0.30   CF195-GCPX-93_core2  \n",
       "1        0.12        0       0.02     CF195_GPX_21-rim1  \n",
       "2        0.14        0       0.00     CF195_GPX_21-rim2  \n",
       "3        0.43        0       0.12    CF195-GCPX-93_rim2  \n",
       "4        0.16        0       0.00  CF195-GCPX-111_core1  \n",
       "..        ...      ...        ...                   ...  \n",
       "139      0.11        0       0.18      CF195_CPX_252-m1  \n",
       "140      0.10        0       0.14      CF195_CPX_252-m2  \n",
       "141      0.08        0       0.16      CF195_CPX_252-m3  \n",
       "142      0.11        0       0.00   CF195_CPX_252-core1  \n",
       "143      0.14        0       0.03   CF195_CPX_252-core2  \n",
       "\n",
       "[144 rows x 11 columns]"
      ]
     },
     "execution_count": 5,
     "metadata": {},
     "output_type": "execute_result"
    }
   ],
   "source": [
    "myCPXs1"
   ]
  },
  {
   "cell_type": "code",
   "execution_count": 6,
   "metadata": {},
   "outputs": [
    {
     "data": {
      "text/html": [
       "<div>\n",
       "<style scoped>\n",
       "    .dataframe tbody tr th:only-of-type {\n",
       "        vertical-align: middle;\n",
       "    }\n",
       "\n",
       "    .dataframe tbody tr th {\n",
       "        vertical-align: top;\n",
       "    }\n",
       "\n",
       "    .dataframe thead th {\n",
       "        text-align: right;\n",
       "    }\n",
       "</style>\n",
       "<table border=\"1\" class=\"dataframe\">\n",
       "  <thead>\n",
       "    <tr style=\"text-align: right;\">\n",
       "      <th></th>\n",
       "      <th>SiO2_Liq</th>\n",
       "      <th>TiO2_Liq</th>\n",
       "      <th>Al2O3_Liq</th>\n",
       "      <th>FeOt_Liq</th>\n",
       "      <th>MnO_Liq</th>\n",
       "      <th>MgO_Liq</th>\n",
       "      <th>CaO_Liq</th>\n",
       "      <th>Na2O_Liq</th>\n",
       "      <th>K2O_Liq</th>\n",
       "      <th>Cr2O3_Liq</th>\n",
       "      <th>P2O5_Liq</th>\n",
       "      <th>H2O_Liq</th>\n",
       "      <th>Fe3Fet_Liq</th>\n",
       "      <th>NiO_Liq</th>\n",
       "      <th>CoO_Liq</th>\n",
       "      <th>CO2_Liq</th>\n",
       "      <th>Sample_ID_Liq</th>\n",
       "    </tr>\n",
       "  </thead>\n",
       "  <tbody>\n",
       "    <tr>\n",
       "      <th>0</th>\n",
       "      <td>60.76</td>\n",
       "      <td>0.42</td>\n",
       "      <td>19.09</td>\n",
       "      <td>3.05</td>\n",
       "      <td>0.27</td>\n",
       "      <td>0.23</td>\n",
       "      <td>1.89</td>\n",
       "      <td>7.09</td>\n",
       "      <td>7.17</td>\n",
       "      <td>0</td>\n",
       "      <td>0.03</td>\n",
       "      <td>0.0</td>\n",
       "      <td>0.0</td>\n",
       "      <td>0</td>\n",
       "      <td>0.0</td>\n",
       "      <td>0.0</td>\n",
       "      <td>0</td>\n",
       "    </tr>\n",
       "    <tr>\n",
       "      <th>1</th>\n",
       "      <td>60.77</td>\n",
       "      <td>0.43</td>\n",
       "      <td>19.39</td>\n",
       "      <td>3.05</td>\n",
       "      <td>0.27</td>\n",
       "      <td>0.24</td>\n",
       "      <td>1.94</td>\n",
       "      <td>6.82</td>\n",
       "      <td>7.08</td>\n",
       "      <td>0</td>\n",
       "      <td>0.02</td>\n",
       "      <td>0.0</td>\n",
       "      <td>0.0</td>\n",
       "      <td>0</td>\n",
       "      <td>0.0</td>\n",
       "      <td>0.0</td>\n",
       "      <td>1</td>\n",
       "    </tr>\n",
       "    <tr>\n",
       "      <th>2</th>\n",
       "      <td>63.71</td>\n",
       "      <td>0.31</td>\n",
       "      <td>19.91</td>\n",
       "      <td>1.63</td>\n",
       "      <td>0.07</td>\n",
       "      <td>0.12</td>\n",
       "      <td>1.55</td>\n",
       "      <td>6.67</td>\n",
       "      <td>6.04</td>\n",
       "      <td>0</td>\n",
       "      <td>0.01</td>\n",
       "      <td>0.0</td>\n",
       "      <td>0.0</td>\n",
       "      <td>0</td>\n",
       "      <td>0.0</td>\n",
       "      <td>0.0</td>\n",
       "      <td>2</td>\n",
       "    </tr>\n",
       "    <tr>\n",
       "      <th>3</th>\n",
       "      <td>58.87</td>\n",
       "      <td>0.44</td>\n",
       "      <td>19.89</td>\n",
       "      <td>2.92</td>\n",
       "      <td>0.22</td>\n",
       "      <td>0.32</td>\n",
       "      <td>1.97</td>\n",
       "      <td>7.21</td>\n",
       "      <td>7.19</td>\n",
       "      <td>0</td>\n",
       "      <td>0.04</td>\n",
       "      <td>0.0</td>\n",
       "      <td>0.0</td>\n",
       "      <td>0</td>\n",
       "      <td>0.0</td>\n",
       "      <td>0.0</td>\n",
       "      <td>3</td>\n",
       "    </tr>\n",
       "    <tr>\n",
       "      <th>4</th>\n",
       "      <td>58.86</td>\n",
       "      <td>0.43</td>\n",
       "      <td>19.99</td>\n",
       "      <td>2.93</td>\n",
       "      <td>0.22</td>\n",
       "      <td>0.29</td>\n",
       "      <td>1.92</td>\n",
       "      <td>7.15</td>\n",
       "      <td>7.17</td>\n",
       "      <td>0</td>\n",
       "      <td>0.04</td>\n",
       "      <td>0.0</td>\n",
       "      <td>0.0</td>\n",
       "      <td>0</td>\n",
       "      <td>0.0</td>\n",
       "      <td>0.0</td>\n",
       "      <td>4</td>\n",
       "    </tr>\n",
       "  </tbody>\n",
       "</table>\n",
       "</div>"
      ],
      "text/plain": [
       "   SiO2_Liq  TiO2_Liq  Al2O3_Liq  FeOt_Liq  MnO_Liq  MgO_Liq  CaO_Liq  \\\n",
       "0     60.76      0.42      19.09      3.05     0.27     0.23     1.89   \n",
       "1     60.77      0.43      19.39      3.05     0.27     0.24     1.94   \n",
       "2     63.71      0.31      19.91      1.63     0.07     0.12     1.55   \n",
       "3     58.87      0.44      19.89      2.92     0.22     0.32     1.97   \n",
       "4     58.86      0.43      19.99      2.93     0.22     0.29     1.92   \n",
       "\n",
       "   Na2O_Liq  K2O_Liq  Cr2O3_Liq  P2O5_Liq  H2O_Liq  Fe3Fet_Liq  NiO_Liq  \\\n",
       "0      7.09     7.17          0      0.03      0.0         0.0        0   \n",
       "1      6.82     7.08          0      0.02      0.0         0.0        0   \n",
       "2      6.67     6.04          0      0.01      0.0         0.0        0   \n",
       "3      7.21     7.19          0      0.04      0.0         0.0        0   \n",
       "4      7.15     7.17          0      0.04      0.0         0.0        0   \n",
       "\n",
       "   CoO_Liq  CO2_Liq  Sample_ID_Liq  \n",
       "0      0.0      0.0              0  \n",
       "1      0.0      0.0              1  \n",
       "2      0.0      0.0              2  \n",
       "3      0.0      0.0              3  \n",
       "4      0.0      0.0              4  "
      ]
     },
     "metadata": {},
     "output_type": "display_data"
    },
    {
     "data": {
      "text/html": [
       "<div>\n",
       "<style scoped>\n",
       "    .dataframe tbody tr th:only-of-type {\n",
       "        vertical-align: middle;\n",
       "    }\n",
       "\n",
       "    .dataframe tbody tr th {\n",
       "        vertical-align: top;\n",
       "    }\n",
       "\n",
       "    .dataframe thead th {\n",
       "        text-align: right;\n",
       "    }\n",
       "</style>\n",
       "<table border=\"1\" class=\"dataframe\">\n",
       "  <thead>\n",
       "    <tr style=\"text-align: right;\">\n",
       "      <th></th>\n",
       "      <th>SiO2_Cpx</th>\n",
       "      <th>TiO2_Cpx</th>\n",
       "      <th>Al2O3_Cpx</th>\n",
       "      <th>FeOt_Cpx</th>\n",
       "      <th>MnO_Cpx</th>\n",
       "      <th>MgO_Cpx</th>\n",
       "      <th>CaO_Cpx</th>\n",
       "      <th>Na2O_Cpx</th>\n",
       "      <th>K2O_Cpx</th>\n",
       "      <th>Cr2O3_Cpx</th>\n",
       "      <th>Sample_ID_Cpx</th>\n",
       "    </tr>\n",
       "  </thead>\n",
       "  <tbody>\n",
       "    <tr>\n",
       "      <th>0</th>\n",
       "      <td>51.60</td>\n",
       "      <td>0.53</td>\n",
       "      <td>2.79</td>\n",
       "      <td>4.30</td>\n",
       "      <td>0.07</td>\n",
       "      <td>16.04</td>\n",
       "      <td>24.08</td>\n",
       "      <td>0.15</td>\n",
       "      <td>0</td>\n",
       "      <td>0.30</td>\n",
       "      <td>CF195-GCPX-93_core2</td>\n",
       "    </tr>\n",
       "    <tr>\n",
       "      <th>1</th>\n",
       "      <td>48.96</td>\n",
       "      <td>0.78</td>\n",
       "      <td>4.53</td>\n",
       "      <td>6.21</td>\n",
       "      <td>0.14</td>\n",
       "      <td>14.17</td>\n",
       "      <td>23.30</td>\n",
       "      <td>0.12</td>\n",
       "      <td>0</td>\n",
       "      <td>0.02</td>\n",
       "      <td>CF195_GPX_21-rim1</td>\n",
       "    </tr>\n",
       "    <tr>\n",
       "      <th>2</th>\n",
       "      <td>49.87</td>\n",
       "      <td>0.73</td>\n",
       "      <td>3.90</td>\n",
       "      <td>4.97</td>\n",
       "      <td>0.08</td>\n",
       "      <td>14.94</td>\n",
       "      <td>23.69</td>\n",
       "      <td>0.14</td>\n",
       "      <td>0</td>\n",
       "      <td>0.00</td>\n",
       "      <td>CF195_GPX_21-rim2</td>\n",
       "    </tr>\n",
       "    <tr>\n",
       "      <th>3</th>\n",
       "      <td>50.18</td>\n",
       "      <td>0.63</td>\n",
       "      <td>3.01</td>\n",
       "      <td>8.01</td>\n",
       "      <td>0.33</td>\n",
       "      <td>13.56</td>\n",
       "      <td>23.18</td>\n",
       "      <td>0.43</td>\n",
       "      <td>0</td>\n",
       "      <td>0.12</td>\n",
       "      <td>CF195-GCPX-93_rim2</td>\n",
       "    </tr>\n",
       "    <tr>\n",
       "      <th>4</th>\n",
       "      <td>48.99</td>\n",
       "      <td>0.64</td>\n",
       "      <td>4.47</td>\n",
       "      <td>8.00</td>\n",
       "      <td>0.16</td>\n",
       "      <td>13.45</td>\n",
       "      <td>23.66</td>\n",
       "      <td>0.16</td>\n",
       "      <td>0</td>\n",
       "      <td>0.00</td>\n",
       "      <td>CF195-GCPX-111_core1</td>\n",
       "    </tr>\n",
       "  </tbody>\n",
       "</table>\n",
       "</div>"
      ],
      "text/plain": [
       "   SiO2_Cpx  TiO2_Cpx  Al2O3_Cpx  FeOt_Cpx  MnO_Cpx  MgO_Cpx  CaO_Cpx  \\\n",
       "0     51.60      0.53       2.79      4.30     0.07    16.04    24.08   \n",
       "1     48.96      0.78       4.53      6.21     0.14    14.17    23.30   \n",
       "2     49.87      0.73       3.90      4.97     0.08    14.94    23.69   \n",
       "3     50.18      0.63       3.01      8.01     0.33    13.56    23.18   \n",
       "4     48.99      0.64       4.47      8.00     0.16    13.45    23.66   \n",
       "\n",
       "   Na2O_Cpx  K2O_Cpx  Cr2O3_Cpx         Sample_ID_Cpx  \n",
       "0      0.15        0       0.30   CF195-GCPX-93_core2  \n",
       "1      0.12        0       0.02     CF195_GPX_21-rim1  \n",
       "2      0.14        0       0.00     CF195_GPX_21-rim2  \n",
       "3      0.43        0       0.12    CF195-GCPX-93_rim2  \n",
       "4      0.16        0       0.00  CF195-GCPX-111_core1  "
      ]
     },
     "metadata": {},
     "output_type": "display_data"
    }
   ],
   "source": [
    "# You can check inputs have read in right using .head()\n",
    "display(myLiquids1.head())\n",
    "display(myCPXs1.head())"
   ]
  },
  {
   "cell_type": "markdown",
   "metadata": {},
   "source": [
    "# Melt matching function\n",
    "- Initially, we use the default, where all equilibrium criteria are considered, and specify the H2O content of the liquid is 0.5. "
   ]
  },
  {
   "cell_type": "code",
   "execution_count": 7,
   "metadata": {},
   "outputs": [
    {
     "name": "stdout",
     "output_type": "stream",
     "text": [
      "Caution, you have selected to use the Kd-Fe-Mg model of Masotta et al. (2013)which is only valid for trachyte and phonolitic magmas.  use PutKd=True to use the Kd model of Putirka (2008)\n",
      "Considering 16704 Liq-Cpx pairs, be patient if this is >>1 million!\n",
      "Youve selected a P-independent function\n",
      "Youve selected a P-independent function\n",
      "171 Matches remaining after initial Kd filter. Now moving onto iterative calculations\n",
      "Youve selected a P-independent function\n",
      "Youve selected a T-independent function\n",
      "Youve selected a T-independent function\n",
      "Finished calculating Ps and Ts, now just averaging the results. Almost there!\n",
      "Done!\n"
     ]
    }
   ],
   "source": [
    "melt_match_out=pt.calculate_cpx_liq_press_temp_matching(liq_comps=myLiquids1, cpx_comps=myCPXs1, \n",
    "equationP=\"P_Mas2013_Palk2012\", equationT=\"T_Mas2013_Talk2012\", KdMatch=\"Masotta\",\n",
    "KdErr=0.05,   Fe3Fet_Liq=0.0, sigma=2)"
   ]
  },
  {
   "cell_type": "code",
   "execution_count": 18,
   "metadata": {},
   "outputs": [],
   "source": [
    "Avs=melt_match_out['Av_PTs']\n",
    "rims=Avs.loc[Avs['Sample_ID_Cpx'].str.contains('rim')]\n",
    "cores=Avs.loc[Avs['Sample_ID_Cpx'].str.contains('core')]"
   ]
  },
  {
   "cell_type": "code",
   "execution_count": 19,
   "metadata": {},
   "outputs": [
    {
     "data": {
      "text/html": [
       "<div>\n",
       "<style scoped>\n",
       "    .dataframe tbody tr th:only-of-type {\n",
       "        vertical-align: middle;\n",
       "    }\n",
       "\n",
       "    .dataframe tbody tr th {\n",
       "        vertical-align: top;\n",
       "    }\n",
       "\n",
       "    .dataframe thead th {\n",
       "        text-align: right;\n",
       "    }\n",
       "</style>\n",
       "<table border=\"1\" class=\"dataframe\">\n",
       "  <thead>\n",
       "    <tr style=\"text-align: right;\">\n",
       "      <th></th>\n",
       "      <th>No. of liquids averaged</th>\n",
       "      <th>Sample_ID_Cpx</th>\n",
       "      <th>Mean_T_K_calc</th>\n",
       "      <th>st_dev_T_K_calc</th>\n",
       "      <th>Mean_P_kbar_calc</th>\n",
       "      <th>st_dev_P_kbar_calc</th>\n",
       "      <th>Mean_Delta_Kd_Put2008</th>\n",
       "      <th>Mean_Delta_Kd_Mas2013</th>\n",
       "      <th>Mean_Delta_EnFs</th>\n",
       "      <th>Mean_Delta_CaTs</th>\n",
       "      <th>...</th>\n",
       "      <th>Mean_Mgno_Liq_Fe2</th>\n",
       "      <th>Mean_DeltaFeMg_WB</th>\n",
       "      <th>Mean_T_Liq_MinP</th>\n",
       "      <th>Mean_T_Liq_MaxP</th>\n",
       "      <th>Mean_Kd_Ideal_Put</th>\n",
       "      <th>Mean_Kd_Ideal_Masotta</th>\n",
       "      <th>Mean_DiHd_Pred_Mollo</th>\n",
       "      <th>Mean_EnFs_Pred_Mollo</th>\n",
       "      <th>Mean_CaTs_Pred_P1999</th>\n",
       "      <th>Mean_CrCaTS_Pred_P1999</th>\n",
       "    </tr>\n",
       "  </thead>\n",
       "  <tbody>\n",
       "    <tr>\n",
       "      <th>0</th>\n",
       "      <td>3</td>\n",
       "      <td>CF195-GCPX-93_rim2</td>\n",
       "      <td>1291.787467</td>\n",
       "      <td>5.031104</td>\n",
       "      <td>1.564923</td>\n",
       "      <td>0.250724</td>\n",
       "      <td>0.021977</td>\n",
       "      <td>0.023702</td>\n",
       "      <td>0.005624</td>\n",
       "      <td>0.003869</td>\n",
       "      <td>...</td>\n",
       "      <td>0.425534</td>\n",
       "      <td>0.021144</td>\n",
       "      <td>1291.787467</td>\n",
       "      <td>1291.787467</td>\n",
       "      <td>0.237469</td>\n",
       "      <td>0.253388</td>\n",
       "      <td>0.832506</td>\n",
       "      <td>0.072905</td>\n",
       "      <td>0.003869</td>\n",
       "      <td>0.0</td>\n",
       "    </tr>\n",
       "    <tr>\n",
       "      <th>0</th>\n",
       "      <td>2</td>\n",
       "      <td>CF195-GCPX-111_core1</td>\n",
       "      <td>1304.725343</td>\n",
       "      <td>6.942578</td>\n",
       "      <td>0.862790</td>\n",
       "      <td>0.026754</td>\n",
       "      <td>0.022137</td>\n",
       "      <td>0.008959</td>\n",
       "      <td>0.012108</td>\n",
       "      <td>0.028484</td>\n",
       "      <td>...</td>\n",
       "      <td>0.440131</td>\n",
       "      <td>0.016263</td>\n",
       "      <td>1304.725343</td>\n",
       "      <td>1304.725343</td>\n",
       "      <td>0.240623</td>\n",
       "      <td>0.253801</td>\n",
       "      <td>0.831085</td>\n",
       "      <td>0.085013</td>\n",
       "      <td>0.004383</td>\n",
       "      <td>0.0</td>\n",
       "    </tr>\n",
       "    <tr>\n",
       "      <th>0</th>\n",
       "      <td>3</td>\n",
       "      <td>CF195-GCPX-111_core2</td>\n",
       "      <td>1297.339845</td>\n",
       "      <td>4.924219</td>\n",
       "      <td>0.957404</td>\n",
       "      <td>0.265774</td>\n",
       "      <td>0.025259</td>\n",
       "      <td>0.026676</td>\n",
       "      <td>0.013670</td>\n",
       "      <td>0.024821</td>\n",
       "      <td>...</td>\n",
       "      <td>0.425534</td>\n",
       "      <td>0.022669</td>\n",
       "      <td>1297.339845</td>\n",
       "      <td>1297.339845</td>\n",
       "      <td>0.238825</td>\n",
       "      <td>0.255967</td>\n",
       "      <td>0.834273</td>\n",
       "      <td>0.079184</td>\n",
       "      <td>0.004148</td>\n",
       "      <td>0.0</td>\n",
       "    </tr>\n",
       "    <tr>\n",
       "      <th>0</th>\n",
       "      <td>3</td>\n",
       "      <td>CF195-GCPX-111_core3</td>\n",
       "      <td>1297.813600</td>\n",
       "      <td>4.916990</td>\n",
       "      <td>0.961043</td>\n",
       "      <td>0.266878</td>\n",
       "      <td>0.025864</td>\n",
       "      <td>0.027253</td>\n",
       "      <td>0.013935</td>\n",
       "      <td>0.025282</td>\n",
       "      <td>...</td>\n",
       "      <td>0.425534</td>\n",
       "      <td>0.023382</td>\n",
       "      <td>1297.813600</td>\n",
       "      <td>1297.813600</td>\n",
       "      <td>0.238941</td>\n",
       "      <td>0.256187</td>\n",
       "      <td>0.833351</td>\n",
       "      <td>0.080650</td>\n",
       "      <td>0.004237</td>\n",
       "      <td>0.0</td>\n",
       "    </tr>\n",
       "    <tr>\n",
       "      <th>0</th>\n",
       "      <td>2</td>\n",
       "      <td>CF195_GPX_21-core2</td>\n",
       "      <td>1312.914612</td>\n",
       "      <td>7.867718</td>\n",
       "      <td>0.977417</td>\n",
       "      <td>0.021121</td>\n",
       "      <td>0.013114</td>\n",
       "      <td>0.023925</td>\n",
       "      <td>0.017941</td>\n",
       "      <td>0.033159</td>\n",
       "      <td>...</td>\n",
       "      <td>0.440131</td>\n",
       "      <td>0.018817</td>\n",
       "      <td>1312.914612</td>\n",
       "      <td>1312.914612</td>\n",
       "      <td>0.242608</td>\n",
       "      <td>0.257551</td>\n",
       "      <td>0.821081</td>\n",
       "      <td>0.092415</td>\n",
       "      <td>0.004846</td>\n",
       "      <td>0.0</td>\n",
       "    </tr>\n",
       "    <tr>\n",
       "      <th>...</th>\n",
       "      <td>...</td>\n",
       "      <td>...</td>\n",
       "      <td>...</td>\n",
       "      <td>...</td>\n",
       "      <td>...</td>\n",
       "      <td>...</td>\n",
       "      <td>...</td>\n",
       "      <td>...</td>\n",
       "      <td>...</td>\n",
       "      <td>...</td>\n",
       "      <td>...</td>\n",
       "      <td>...</td>\n",
       "      <td>...</td>\n",
       "      <td>...</td>\n",
       "      <td>...</td>\n",
       "      <td>...</td>\n",
       "      <td>...</td>\n",
       "      <td>...</td>\n",
       "      <td>...</td>\n",
       "      <td>...</td>\n",
       "      <td>...</td>\n",
       "    </tr>\n",
       "    <tr>\n",
       "      <th>0</th>\n",
       "      <td>3</td>\n",
       "      <td>CF195-CPX-185_rim2</td>\n",
       "      <td>1292.712681</td>\n",
       "      <td>4.974470</td>\n",
       "      <td>1.906521</td>\n",
       "      <td>0.255171</td>\n",
       "      <td>0.025939</td>\n",
       "      <td>0.027619</td>\n",
       "      <td>0.006439</td>\n",
       "      <td>0.009971</td>\n",
       "      <td>...</td>\n",
       "      <td>0.425534</td>\n",
       "      <td>0.023025</td>\n",
       "      <td>1292.712681</td>\n",
       "      <td>1292.712681</td>\n",
       "      <td>0.237695</td>\n",
       "      <td>0.253818</td>\n",
       "      <td>0.825192</td>\n",
       "      <td>0.080866</td>\n",
       "      <td>0.004422</td>\n",
       "      <td>0.0</td>\n",
       "    </tr>\n",
       "    <tr>\n",
       "      <th>0</th>\n",
       "      <td>3</td>\n",
       "      <td>CF195-CPX-185_rim3</td>\n",
       "      <td>1290.298824</td>\n",
       "      <td>4.981014</td>\n",
       "      <td>2.079775</td>\n",
       "      <td>0.250775</td>\n",
       "      <td>0.024276</td>\n",
       "      <td>0.026097</td>\n",
       "      <td>0.007165</td>\n",
       "      <td>0.002901</td>\n",
       "      <td>...</td>\n",
       "      <td>0.425534</td>\n",
       "      <td>0.020960</td>\n",
       "      <td>1290.298824</td>\n",
       "      <td>1290.298824</td>\n",
       "      <td>0.237105</td>\n",
       "      <td>0.252698</td>\n",
       "      <td>0.827737</td>\n",
       "      <td>0.075803</td>\n",
       "      <td>0.004135</td>\n",
       "      <td>0.0</td>\n",
       "    </tr>\n",
       "    <tr>\n",
       "      <th>0</th>\n",
       "      <td>3</td>\n",
       "      <td>CF195_CPX_138-rim1</td>\n",
       "      <td>1292.788188</td>\n",
       "      <td>5.186336</td>\n",
       "      <td>2.018161</td>\n",
       "      <td>0.246466</td>\n",
       "      <td>0.021508</td>\n",
       "      <td>0.023142</td>\n",
       "      <td>0.003021</td>\n",
       "      <td>0.000343</td>\n",
       "      <td>...</td>\n",
       "      <td>0.425534</td>\n",
       "      <td>0.021402</td>\n",
       "      <td>1292.788188</td>\n",
       "      <td>1292.788188</td>\n",
       "      <td>0.237714</td>\n",
       "      <td>0.253853</td>\n",
       "      <td>0.823242</td>\n",
       "      <td>0.077495</td>\n",
       "      <td>0.004230</td>\n",
       "      <td>0.0</td>\n",
       "    </tr>\n",
       "    <tr>\n",
       "      <th>0</th>\n",
       "      <td>3</td>\n",
       "      <td>CF195_CPX_138-rim2</td>\n",
       "      <td>1289.871409</td>\n",
       "      <td>4.859636</td>\n",
       "      <td>1.861542</td>\n",
       "      <td>0.254763</td>\n",
       "      <td>0.025798</td>\n",
       "      <td>0.027668</td>\n",
       "      <td>0.002899</td>\n",
       "      <td>0.004052</td>\n",
       "      <td>...</td>\n",
       "      <td>0.425534</td>\n",
       "      <td>0.022587</td>\n",
       "      <td>1289.871409</td>\n",
       "      <td>1289.871409</td>\n",
       "      <td>0.237000</td>\n",
       "      <td>0.252500</td>\n",
       "      <td>0.829306</td>\n",
       "      <td>0.075059</td>\n",
       "      <td>0.004052</td>\n",
       "      <td>0.0</td>\n",
       "    </tr>\n",
       "    <tr>\n",
       "      <th>0</th>\n",
       "      <td>3</td>\n",
       "      <td>CF195_CPX_138-rim3</td>\n",
       "      <td>1288.274158</td>\n",
       "      <td>4.910004</td>\n",
       "      <td>2.257449</td>\n",
       "      <td>0.250745</td>\n",
       "      <td>0.024803</td>\n",
       "      <td>0.026758</td>\n",
       "      <td>0.003695</td>\n",
       "      <td>0.002326</td>\n",
       "      <td>...</td>\n",
       "      <td>0.425534</td>\n",
       "      <td>0.021349</td>\n",
       "      <td>1288.274158</td>\n",
       "      <td>1288.274158</td>\n",
       "      <td>0.236609</td>\n",
       "      <td>0.251759</td>\n",
       "      <td>0.827393</td>\n",
       "      <td>0.073499</td>\n",
       "      <td>0.004021</td>\n",
       "      <td>0.0</td>\n",
       "    </tr>\n",
       "  </tbody>\n",
       "</table>\n",
       "<p>62 rows × 107 columns</p>\n",
       "</div>"
      ],
      "text/plain": [
       "    No. of liquids averaged         Sample_ID_Cpx  Mean_T_K_calc  \\\n",
       "0                         3    CF195-GCPX-93_rim2    1291.787467   \n",
       "0                         2  CF195-GCPX-111_core1    1304.725343   \n",
       "0                         3  CF195-GCPX-111_core2    1297.339845   \n",
       "0                         3  CF195-GCPX-111_core3    1297.813600   \n",
       "0                         2    CF195_GPX_21-core2    1312.914612   \n",
       "..                      ...                   ...            ...   \n",
       "0                         3    CF195-CPX-185_rim2    1292.712681   \n",
       "0                         3    CF195-CPX-185_rim3    1290.298824   \n",
       "0                         3    CF195_CPX_138-rim1    1292.788188   \n",
       "0                         3    CF195_CPX_138-rim2    1289.871409   \n",
       "0                         3    CF195_CPX_138-rim3    1288.274158   \n",
       "\n",
       "    st_dev_T_K_calc  Mean_P_kbar_calc  st_dev_P_kbar_calc  \\\n",
       "0          5.031104          1.564923            0.250724   \n",
       "0          6.942578          0.862790            0.026754   \n",
       "0          4.924219          0.957404            0.265774   \n",
       "0          4.916990          0.961043            0.266878   \n",
       "0          7.867718          0.977417            0.021121   \n",
       "..              ...               ...                 ...   \n",
       "0          4.974470          1.906521            0.255171   \n",
       "0          4.981014          2.079775            0.250775   \n",
       "0          5.186336          2.018161            0.246466   \n",
       "0          4.859636          1.861542            0.254763   \n",
       "0          4.910004          2.257449            0.250745   \n",
       "\n",
       "    Mean_Delta_Kd_Put2008  Mean_Delta_Kd_Mas2013  Mean_Delta_EnFs  \\\n",
       "0                0.021977               0.023702         0.005624   \n",
       "0                0.022137               0.008959         0.012108   \n",
       "0                0.025259               0.026676         0.013670   \n",
       "0                0.025864               0.027253         0.013935   \n",
       "0                0.013114               0.023925         0.017941   \n",
       "..                    ...                    ...              ...   \n",
       "0                0.025939               0.027619         0.006439   \n",
       "0                0.024276               0.026097         0.007165   \n",
       "0                0.021508               0.023142         0.003021   \n",
       "0                0.025798               0.027668         0.002899   \n",
       "0                0.024803               0.026758         0.003695   \n",
       "\n",
       "    Mean_Delta_CaTs  ...  Mean_Mgno_Liq_Fe2  Mean_DeltaFeMg_WB  \\\n",
       "0          0.003869  ...           0.425534           0.021144   \n",
       "0          0.028484  ...           0.440131           0.016263   \n",
       "0          0.024821  ...           0.425534           0.022669   \n",
       "0          0.025282  ...           0.425534           0.023382   \n",
       "0          0.033159  ...           0.440131           0.018817   \n",
       "..              ...  ...                ...                ...   \n",
       "0          0.009971  ...           0.425534           0.023025   \n",
       "0          0.002901  ...           0.425534           0.020960   \n",
       "0          0.000343  ...           0.425534           0.021402   \n",
       "0          0.004052  ...           0.425534           0.022587   \n",
       "0          0.002326  ...           0.425534           0.021349   \n",
       "\n",
       "    Mean_T_Liq_MinP  Mean_T_Liq_MaxP  Mean_Kd_Ideal_Put  \\\n",
       "0       1291.787467      1291.787467           0.237469   \n",
       "0       1304.725343      1304.725343           0.240623   \n",
       "0       1297.339845      1297.339845           0.238825   \n",
       "0       1297.813600      1297.813600           0.238941   \n",
       "0       1312.914612      1312.914612           0.242608   \n",
       "..              ...              ...                ...   \n",
       "0       1292.712681      1292.712681           0.237695   \n",
       "0       1290.298824      1290.298824           0.237105   \n",
       "0       1292.788188      1292.788188           0.237714   \n",
       "0       1289.871409      1289.871409           0.237000   \n",
       "0       1288.274158      1288.274158           0.236609   \n",
       "\n",
       "    Mean_Kd_Ideal_Masotta  Mean_DiHd_Pred_Mollo  Mean_EnFs_Pred_Mollo  \\\n",
       "0                0.253388              0.832506              0.072905   \n",
       "0                0.253801              0.831085              0.085013   \n",
       "0                0.255967              0.834273              0.079184   \n",
       "0                0.256187              0.833351              0.080650   \n",
       "0                0.257551              0.821081              0.092415   \n",
       "..                    ...                   ...                   ...   \n",
       "0                0.253818              0.825192              0.080866   \n",
       "0                0.252698              0.827737              0.075803   \n",
       "0                0.253853              0.823242              0.077495   \n",
       "0                0.252500              0.829306              0.075059   \n",
       "0                0.251759              0.827393              0.073499   \n",
       "\n",
       "    Mean_CaTs_Pred_P1999  Mean_CrCaTS_Pred_P1999  \n",
       "0               0.003869                     0.0  \n",
       "0               0.004383                     0.0  \n",
       "0               0.004148                     0.0  \n",
       "0               0.004237                     0.0  \n",
       "0               0.004846                     0.0  \n",
       "..                   ...                     ...  \n",
       "0               0.004422                     0.0  \n",
       "0               0.004135                     0.0  \n",
       "0               0.004230                     0.0  \n",
       "0               0.004052                     0.0  \n",
       "0               0.004021                     0.0  \n",
       "\n",
       "[62 rows x 107 columns]"
      ]
     },
     "execution_count": 19,
     "metadata": {},
     "output_type": "execute_result"
    }
   ],
   "source": [
    "Avs"
   ]
  },
  {
   "cell_type": "code",
   "execution_count": 26,
   "metadata": {},
   "outputs": [
    {
     "data": {
      "text/plain": [
       "Text(0, 0.5, '#')"
      ]
     },
     "execution_count": 26,
     "metadata": {},
     "output_type": "execute_result"
    },
    {
     "data": {
      "image/png": "[encoded data removed]",
      "text/plain": [
       "<Figure size 432x288 with 1 Axes>"
      ]
     },
     "metadata": {
      "needs_background": "light"
     },
     "output_type": "display_data"
    }
   ],
   "source": [
    "plt.hist(rims['Mean_P_kbar_calc'], label='rims')\n",
    "plt.hist(cores['Mean_P_kbar_calc'], label='cores')\n",
    "plt.legend()\n",
    "plt.xlabel('Pressure (kbar)')\n",
    "plt.ylabel('#')"
   ]
  },
  {
   "cell_type": "code",
   "execution_count": 29,
   "metadata": {},
   "outputs": [
    {
     "name": "stdout",
     "output_type": "stream",
     "text": [
      "KstestResult(statistic=0.2857142857142857, pvalue=0.3310967002469194)\n"
     ]
    }
   ],
   "source": []
  },
  {
   "cell_type": "markdown",
   "metadata": {},
   "source": [
    "# 5 wt \" H2O\""
   ]
  },
  {
   "cell_type": "code",
   "execution_count": 30,
   "metadata": {},
   "outputs": [
    {
     "name": "stdout",
     "output_type": "stream",
     "text": [
      "Caution, you have selected to use the Kd-Fe-Mg model of Masotta et al. (2013)which is only valid for trachyte and phonolitic magmas.  use PutKd=True to use the Kd model of Putirka (2008)\n",
      "Considering 16704 Liq-Cpx pairs, be patient if this is >>1 million!\n",
      "Youve selected a P-independent function\n",
      "Youve selected a P-independent function\n",
      "203 Matches remaining after initial Kd filter. Now moving onto iterative calculations\n",
      "Youve selected a P-independent function\n",
      "Youve selected a T-independent function\n",
      "Youve selected a T-independent function\n",
      "Finished calculating Ps and Ts, now just averaging the results. Almost there!\n",
      "Done!\n"
     ]
    }
   ],
   "source": [
    "melt_match_out_5=pt.calculate_cpx_liq_press_temp_matching(liq_comps=myLiquids1, cpx_comps=myCPXs1, \n",
    "equationP=\"P_Mas2013_Palk2012\", equationT=\"T_Mas2013_Talk2012\", KdMatch=\"Masotta\",\n",
    "KdErr=0.05,   Fe3Fet_Liq=0.0, sigma=2, H2O_Liq=5)"
   ]
  },
  {
   "cell_type": "code",
   "execution_count": 33,
   "metadata": {},
   "outputs": [],
   "source": [
    "Avs5=melt_match_out_5['Av_PTs']\n",
    "rims5=Avs5.loc[Avs5['Sample_ID_Cpx'].str.contains('rim')]\n",
    "cores5=Avs5.loc[Avs5['Sample_ID_Cpx'].str.contains('core')]"
   ]
  },
  {
   "cell_type": "code",
   "execution_count": 39,
   "metadata": {},
   "outputs": [
    {
     "data": {
      "text/plain": [
       "Text(0, 0.5, '#')"
      ]
     },
     "execution_count": 39,
     "metadata": {},
     "output_type": "execute_result"
    },
    {
     "data": {
      "image/png": "[encoded data removed]",
      "text/plain": [
       "<Figure size 432x288 with 1 Axes>"
      ]
     },
     "metadata": {
      "needs_background": "light"
     },
     "output_type": "display_data"
    }
   ],
   "source": [
    "All5=melt_match_out_5['All_PTs']\n",
    "rims5All=All5.loc[All5['Sample_ID_Cpx'].str.contains('rim')]\n",
    "cores5All=All5.loc[All5['Sample_ID_Cpx'].str.contains('core')]\n",
    "plt.hist(rims5All['P_kbar_calc'], label='rims')\n",
    "plt.hist(cores5All['P_kbar_calc'], label='cores')\n",
    "plt.legend()\n",
    "plt.xlabel('Pressure (kbar)')\n",
    "plt.ylabel('#')"
   ]
  },
  {
   "cell_type": "code",
   "execution_count": 36,
   "metadata": {},
   "outputs": [
    {
     "data": {
      "text/html": [
       "<div>\n",
       "<style scoped>\n",
       "    .dataframe tbody tr th:only-of-type {\n",
       "        vertical-align: middle;\n",
       "    }\n",
       "\n",
       "    .dataframe tbody tr th {\n",
       "        vertical-align: top;\n",
       "    }\n",
       "\n",
       "    .dataframe thead th {\n",
       "        text-align: right;\n",
       "    }\n",
       "</style>\n",
       "<table border=\"1\" class=\"dataframe\">\n",
       "  <thead>\n",
       "    <tr style=\"text-align: right;\">\n",
       "      <th></th>\n",
       "      <th>No. of liquids averaged</th>\n",
       "      <th>Sample_ID_Cpx</th>\n",
       "      <th>Mean_T_K_calc</th>\n",
       "      <th>st_dev_T_K_calc</th>\n",
       "      <th>Mean_P_kbar_calc</th>\n",
       "      <th>st_dev_P_kbar_calc</th>\n",
       "      <th>Mean_Delta_Kd_Put2008</th>\n",
       "      <th>Mean_Delta_Kd_Mas2013</th>\n",
       "      <th>Mean_Delta_EnFs</th>\n",
       "      <th>Mean_Delta_CaTs</th>\n",
       "      <th>...</th>\n",
       "      <th>Mean_Mgno_Liq_Fe2</th>\n",
       "      <th>Mean_DeltaFeMg_WB</th>\n",
       "      <th>Mean_T_Liq_MinP</th>\n",
       "      <th>Mean_T_Liq_MaxP</th>\n",
       "      <th>Mean_Kd_Ideal_Put</th>\n",
       "      <th>Mean_Kd_Ideal_Masotta</th>\n",
       "      <th>Mean_DiHd_Pred_Mollo</th>\n",
       "      <th>Mean_EnFs_Pred_Mollo</th>\n",
       "      <th>Mean_CaTs_Pred_P1999</th>\n",
       "      <th>Mean_CrCaTS_Pred_P1999</th>\n",
       "    </tr>\n",
       "  </thead>\n",
       "  <tbody>\n",
       "    <tr>\n",
       "      <th>0</th>\n",
       "      <td>3</td>\n",
       "      <td>CF195-GCPX-111_core1</td>\n",
       "      <td>1272.518904</td>\n",
       "      <td>4.982364</td>\n",
       "      <td>1.080464</td>\n",
       "      <td>0.264766</td>\n",
       "      <td>0.024243</td>\n",
       "      <td>0.027098</td>\n",
       "      <td>0.005613</td>\n",
       "      <td>0.028734</td>\n",
       "      <td>...</td>\n",
       "      <td>0.425534</td>\n",
       "      <td>0.020637</td>\n",
       "      <td>1272.518904</td>\n",
       "      <td>1272.518904</td>\n",
       "      <td>0.232732</td>\n",
       "      <td>0.244472</td>\n",
       "      <td>0.856568</td>\n",
       "      <td>0.078518</td>\n",
       "      <td>0.004132</td>\n",
       "      <td>0.0</td>\n",
       "    </tr>\n",
       "    <tr>\n",
       "      <th>0</th>\n",
       "      <td>4</td>\n",
       "      <td>CF195-GCPX-111_core2</td>\n",
       "      <td>1266.749294</td>\n",
       "      <td>3.870985</td>\n",
       "      <td>1.216780</td>\n",
       "      <td>0.310115</td>\n",
       "      <td>0.026149</td>\n",
       "      <td>0.035722</td>\n",
       "      <td>0.009253</td>\n",
       "      <td>0.025118</td>\n",
       "      <td>...</td>\n",
       "      <td>0.414088</td>\n",
       "      <td>0.026286</td>\n",
       "      <td>1266.749294</td>\n",
       "      <td>1266.749294</td>\n",
       "      <td>0.231305</td>\n",
       "      <td>0.246272</td>\n",
       "      <td>0.860663</td>\n",
       "      <td>0.074767</td>\n",
       "      <td>0.003851</td>\n",
       "      <td>0.0</td>\n",
       "    </tr>\n",
       "    <tr>\n",
       "      <th>0</th>\n",
       "      <td>4</td>\n",
       "      <td>CF195-GCPX-111_core3</td>\n",
       "      <td>1267.204717</td>\n",
       "      <td>3.866489</td>\n",
       "      <td>1.219874</td>\n",
       "      <td>0.311523</td>\n",
       "      <td>0.026312</td>\n",
       "      <td>0.035895</td>\n",
       "      <td>0.009471</td>\n",
       "      <td>0.025583</td>\n",
       "      <td>...</td>\n",
       "      <td>0.414088</td>\n",
       "      <td>0.026447</td>\n",
       "      <td>1267.204717</td>\n",
       "      <td>1267.204717</td>\n",
       "      <td>0.231417</td>\n",
       "      <td>0.246486</td>\n",
       "      <td>0.859704</td>\n",
       "      <td>0.076186</td>\n",
       "      <td>0.003935</td>\n",
       "      <td>0.0</td>\n",
       "    </tr>\n",
       "    <tr>\n",
       "      <th>0</th>\n",
       "      <td>2</td>\n",
       "      <td>CF195_GPX_21-core2</td>\n",
       "      <td>1281.311203</td>\n",
       "      <td>7.493513</td>\n",
       "      <td>1.347563</td>\n",
       "      <td>0.021121</td>\n",
       "      <td>0.013157</td>\n",
       "      <td>0.009556</td>\n",
       "      <td>0.012151</td>\n",
       "      <td>0.033432</td>\n",
       "      <td>...</td>\n",
       "      <td>0.440131</td>\n",
       "      <td>0.018817</td>\n",
       "      <td>1281.311203</td>\n",
       "      <td>1281.311203</td>\n",
       "      <td>0.234898</td>\n",
       "      <td>0.243181</td>\n",
       "      <td>0.849281</td>\n",
       "      <td>0.086625</td>\n",
       "      <td>0.004574</td>\n",
       "      <td>0.0</td>\n",
       "    </tr>\n",
       "    <tr>\n",
       "      <th>0</th>\n",
       "      <td>4</td>\n",
       "      <td>CF195_CPX_50-core1</td>\n",
       "      <td>1260.646283</td>\n",
       "      <td>3.868607</td>\n",
       "      <td>2.206177</td>\n",
       "      <td>0.280499</td>\n",
       "      <td>0.026060</td>\n",
       "      <td>0.035508</td>\n",
       "      <td>0.003103</td>\n",
       "      <td>0.003483</td>\n",
       "      <td>...</td>\n",
       "      <td>0.414088</td>\n",
       "      <td>0.026211</td>\n",
       "      <td>1260.646283</td>\n",
       "      <td>1260.646283</td>\n",
       "      <td>0.229790</td>\n",
       "      <td>0.243412</td>\n",
       "      <td>0.853406</td>\n",
       "      <td>0.072876</td>\n",
       "      <td>0.003902</td>\n",
       "      <td>0.0</td>\n",
       "    </tr>\n",
       "    <tr>\n",
       "      <th>0</th>\n",
       "      <td>4</td>\n",
       "      <td>CF195_CPX_50-core2</td>\n",
       "      <td>1257.478740</td>\n",
       "      <td>3.817272</td>\n",
       "      <td>2.553620</td>\n",
       "      <td>0.271723</td>\n",
       "      <td>0.026035</td>\n",
       "      <td>0.035439</td>\n",
       "      <td>0.002906</td>\n",
       "      <td>0.002260</td>\n",
       "      <td>...</td>\n",
       "      <td>0.414088</td>\n",
       "      <td>0.026171</td>\n",
       "      <td>1257.478740</td>\n",
       "      <td>1257.478740</td>\n",
       "      <td>0.229002</td>\n",
       "      <td>0.241931</td>\n",
       "      <td>0.853749</td>\n",
       "      <td>0.068860</td>\n",
       "      <td>0.003711</td>\n",
       "      <td>0.0</td>\n",
       "    </tr>\n",
       "    <tr>\n",
       "      <th>0</th>\n",
       "      <td>3</td>\n",
       "      <td>CF195-CPX-85_core1</td>\n",
       "      <td>1254.278973</td>\n",
       "      <td>2.630161</td>\n",
       "      <td>2.070656</td>\n",
       "      <td>0.267189</td>\n",
       "      <td>0.017815</td>\n",
       "      <td>0.031330</td>\n",
       "      <td>0.002566</td>\n",
       "      <td>0.003619</td>\n",
       "      <td>...</td>\n",
       "      <td>0.400319</td>\n",
       "      <td>0.018740</td>\n",
       "      <td>1254.278973</td>\n",
       "      <td>1254.278973</td>\n",
       "      <td>0.228205</td>\n",
       "      <td>0.239452</td>\n",
       "      <td>0.861768</td>\n",
       "      <td>0.066531</td>\n",
       "      <td>0.003619</td>\n",
       "      <td>0.0</td>\n",
       "    </tr>\n",
       "    <tr>\n",
       "      <th>0</th>\n",
       "      <td>4</td>\n",
       "      <td>CF195_CPX_50-core3</td>\n",
       "      <td>1258.495978</td>\n",
       "      <td>3.708301</td>\n",
       "      <td>2.259234</td>\n",
       "      <td>0.288489</td>\n",
       "      <td>0.029407</td>\n",
       "      <td>0.036581</td>\n",
       "      <td>0.003910</td>\n",
       "      <td>0.008199</td>\n",
       "      <td>...</td>\n",
       "      <td>0.414088</td>\n",
       "      <td>0.027204</td>\n",
       "      <td>1258.495978</td>\n",
       "      <td>1258.495978</td>\n",
       "      <td>0.229255</td>\n",
       "      <td>0.242409</td>\n",
       "      <td>0.856141</td>\n",
       "      <td>0.072764</td>\n",
       "      <td>0.003905</td>\n",
       "      <td>0.0</td>\n",
       "    </tr>\n",
       "    <tr>\n",
       "      <th>0</th>\n",
       "      <td>2</td>\n",
       "      <td>CF195-CPX-85_core3</td>\n",
       "      <td>1254.978468</td>\n",
       "      <td>2.141614</td>\n",
       "      <td>1.834754</td>\n",
       "      <td>0.075798</td>\n",
       "      <td>0.008524</td>\n",
       "      <td>0.016935</td>\n",
       "      <td>0.002247</td>\n",
       "      <td>0.003576</td>\n",
       "      <td>...</td>\n",
       "      <td>0.388045</td>\n",
       "      <td>0.011671</td>\n",
       "      <td>1254.978468</td>\n",
       "      <td>1254.978468</td>\n",
       "      <td>0.228380</td>\n",
       "      <td>0.250252</td>\n",
       "      <td>0.855721</td>\n",
       "      <td>0.068359</td>\n",
       "      <td>0.003576</td>\n",
       "      <td>0.0</td>\n",
       "    </tr>\n",
       "    <tr>\n",
       "      <th>0</th>\n",
       "      <td>2</td>\n",
       "      <td>CF195-CPX-85_core4</td>\n",
       "      <td>1282.248651</td>\n",
       "      <td>7.647903</td>\n",
       "      <td>1.382605</td>\n",
       "      <td>0.019139</td>\n",
       "      <td>0.012751</td>\n",
       "      <td>0.016109</td>\n",
       "      <td>0.007066</td>\n",
       "      <td>0.026685</td>\n",
       "      <td>...</td>\n",
       "      <td>0.440131</td>\n",
       "      <td>0.025809</td>\n",
       "      <td>1282.248651</td>\n",
       "      <td>1282.248651</td>\n",
       "      <td>0.235129</td>\n",
       "      <td>0.243608</td>\n",
       "      <td>0.845849</td>\n",
       "      <td>0.086699</td>\n",
       "      <td>0.004585</td>\n",
       "      <td>0.0</td>\n",
       "    </tr>\n",
       "    <tr>\n",
       "      <th>0</th>\n",
       "      <td>3</td>\n",
       "      <td>CF195-CPX-161_core</td>\n",
       "      <td>1255.672222</td>\n",
       "      <td>2.513383</td>\n",
       "      <td>2.400436</td>\n",
       "      <td>0.246139</td>\n",
       "      <td>0.017400</td>\n",
       "      <td>0.031735</td>\n",
       "      <td>0.002063</td>\n",
       "      <td>0.003865</td>\n",
       "      <td>...</td>\n",
       "      <td>0.400319</td>\n",
       "      <td>0.018966</td>\n",
       "      <td>1255.672222</td>\n",
       "      <td>1255.672222</td>\n",
       "      <td>0.228553</td>\n",
       "      <td>0.240097</td>\n",
       "      <td>0.855319</td>\n",
       "      <td>0.070823</td>\n",
       "      <td>0.003944</td>\n",
       "      <td>0.0</td>\n",
       "    </tr>\n",
       "    <tr>\n",
       "      <th>0</th>\n",
       "      <td>3</td>\n",
       "      <td>CF195_CPX_126-core1</td>\n",
       "      <td>1254.966552</td>\n",
       "      <td>2.554650</td>\n",
       "      <td>2.481511</td>\n",
       "      <td>0.243211</td>\n",
       "      <td>0.018272</td>\n",
       "      <td>0.031074</td>\n",
       "      <td>0.004977</td>\n",
       "      <td>0.003953</td>\n",
       "      <td>...</td>\n",
       "      <td>0.400319</td>\n",
       "      <td>0.018316</td>\n",
       "      <td>1254.966552</td>\n",
       "      <td>1254.966552</td>\n",
       "      <td>0.228377</td>\n",
       "      <td>0.239770</td>\n",
       "      <td>0.852994</td>\n",
       "      <td>0.070747</td>\n",
       "      <td>0.003953</td>\n",
       "      <td>0.0</td>\n",
       "    </tr>\n",
       "    <tr>\n",
       "      <th>0</th>\n",
       "      <td>4</td>\n",
       "      <td>CF195_CPX_126-core2</td>\n",
       "      <td>1259.276751</td>\n",
       "      <td>3.784391</td>\n",
       "      <td>2.330156</td>\n",
       "      <td>0.282417</td>\n",
       "      <td>0.026871</td>\n",
       "      <td>0.036078</td>\n",
       "      <td>0.003377</td>\n",
       "      <td>0.005220</td>\n",
       "      <td>...</td>\n",
       "      <td>0.414088</td>\n",
       "      <td>0.026747</td>\n",
       "      <td>1259.276751</td>\n",
       "      <td>1259.276751</td>\n",
       "      <td>0.229450</td>\n",
       "      <td>0.242772</td>\n",
       "      <td>0.854059</td>\n",
       "      <td>0.073007</td>\n",
       "      <td>0.003931</td>\n",
       "      <td>0.0</td>\n",
       "    </tr>\n",
       "    <tr>\n",
       "      <th>0</th>\n",
       "      <td>3</td>\n",
       "      <td>CF195_CPX_138-core3</td>\n",
       "      <td>1254.694268</td>\n",
       "      <td>2.530102</td>\n",
       "      <td>2.381473</td>\n",
       "      <td>0.246145</td>\n",
       "      <td>0.017030</td>\n",
       "      <td>0.031869</td>\n",
       "      <td>0.002880</td>\n",
       "      <td>0.003791</td>\n",
       "      <td>...</td>\n",
       "      <td>0.400319</td>\n",
       "      <td>0.019332</td>\n",
       "      <td>1254.694268</td>\n",
       "      <td>1254.694268</td>\n",
       "      <td>0.228309</td>\n",
       "      <td>0.239643</td>\n",
       "      <td>0.856518</td>\n",
       "      <td>0.068475</td>\n",
       "      <td>0.003791</td>\n",
       "      <td>0.0</td>\n",
       "    </tr>\n",
       "  </tbody>\n",
       "</table>\n",
       "<p>14 rows × 107 columns</p>\n",
       "</div>"
      ],
      "text/plain": [
       "   No. of liquids averaged         Sample_ID_Cpx  Mean_T_K_calc  \\\n",
       "0                        3  CF195-GCPX-111_core1    1272.518904   \n",
       "0                        4  CF195-GCPX-111_core2    1266.749294   \n",
       "0                        4  CF195-GCPX-111_core3    1267.204717   \n",
       "0                        2    CF195_GPX_21-core2    1281.311203   \n",
       "0                        4    CF195_CPX_50-core1    1260.646283   \n",
       "0                        4    CF195_CPX_50-core2    1257.478740   \n",
       "0                        3    CF195-CPX-85_core1    1254.278973   \n",
       "0                        4    CF195_CPX_50-core3    1258.495978   \n",
       "0                        2    CF195-CPX-85_core3    1254.978468   \n",
       "0                        2    CF195-CPX-85_core4    1282.248651   \n",
       "0                        3    CF195-CPX-161_core    1255.672222   \n",
       "0                        3   CF195_CPX_126-core1    1254.966552   \n",
       "0                        4   CF195_CPX_126-core2    1259.276751   \n",
       "0                        3   CF195_CPX_138-core3    1254.694268   \n",
       "\n",
       "   st_dev_T_K_calc  Mean_P_kbar_calc  st_dev_P_kbar_calc  \\\n",
       "0         4.982364          1.080464            0.264766   \n",
       "0         3.870985          1.216780            0.310115   \n",
       "0         3.866489          1.219874            0.311523   \n",
       "0         7.493513          1.347563            0.021121   \n",
       "0         3.868607          2.206177            0.280499   \n",
       "0         3.817272          2.553620            0.271723   \n",
       "0         2.630161          2.070656            0.267189   \n",
       "0         3.708301          2.259234            0.288489   \n",
       "0         2.141614          1.834754            0.075798   \n",
       "0         7.647903          1.382605            0.019139   \n",
       "0         2.513383          2.400436            0.246139   \n",
       "0         2.554650          2.481511            0.243211   \n",
       "0         3.784391          2.330156            0.282417   \n",
       "0         2.530102          2.381473            0.246145   \n",
       "\n",
       "   Mean_Delta_Kd_Put2008  Mean_Delta_Kd_Mas2013  Mean_Delta_EnFs  \\\n",
       "0               0.024243               0.027098         0.005613   \n",
       "0               0.026149               0.035722         0.009253   \n",
       "0               0.026312               0.035895         0.009471   \n",
       "0               0.013157               0.009556         0.012151   \n",
       "0               0.026060               0.035508         0.003103   \n",
       "0               0.026035               0.035439         0.002906   \n",
       "0               0.017815               0.031330         0.002566   \n",
       "0               0.029407               0.036581         0.003910   \n",
       "0               0.008524               0.016935         0.002247   \n",
       "0               0.012751               0.016109         0.007066   \n",
       "0               0.017400               0.031735         0.002063   \n",
       "0               0.018272               0.031074         0.004977   \n",
       "0               0.026871               0.036078         0.003377   \n",
       "0               0.017030               0.031869         0.002880   \n",
       "\n",
       "   Mean_Delta_CaTs  ...  Mean_Mgno_Liq_Fe2  Mean_DeltaFeMg_WB  \\\n",
       "0         0.028734  ...           0.425534           0.020637   \n",
       "0         0.025118  ...           0.414088           0.026286   \n",
       "0         0.025583  ...           0.414088           0.026447   \n",
       "0         0.033432  ...           0.440131           0.018817   \n",
       "0         0.003483  ...           0.414088           0.026211   \n",
       "0         0.002260  ...           0.414088           0.026171   \n",
       "0         0.003619  ...           0.400319           0.018740   \n",
       "0         0.008199  ...           0.414088           0.027204   \n",
       "0         0.003576  ...           0.388045           0.011671   \n",
       "0         0.026685  ...           0.440131           0.025809   \n",
       "0         0.003865  ...           0.400319           0.018966   \n",
       "0         0.003953  ...           0.400319           0.018316   \n",
       "0         0.005220  ...           0.414088           0.026747   \n",
       "0         0.003791  ...           0.400319           0.019332   \n",
       "\n",
       "   Mean_T_Liq_MinP  Mean_T_Liq_MaxP  Mean_Kd_Ideal_Put  Mean_Kd_Ideal_Masotta  \\\n",
       "0      1272.518904      1272.518904           0.232732               0.244472   \n",
       "0      1266.749294      1266.749294           0.231305               0.246272   \n",
       "0      1267.204717      1267.204717           0.231417               0.246486   \n",
       "0      1281.311203      1281.311203           0.234898               0.243181   \n",
       "0      1260.646283      1260.646283           0.229790               0.243412   \n",
       "0      1257.478740      1257.478740           0.229002               0.241931   \n",
       "0      1254.278973      1254.278973           0.228205               0.239452   \n",
       "0      1258.495978      1258.495978           0.229255               0.242409   \n",
       "0      1254.978468      1254.978468           0.228380               0.250252   \n",
       "0      1282.248651      1282.248651           0.235129               0.243608   \n",
       "0      1255.672222      1255.672222           0.228553               0.240097   \n",
       "0      1254.966552      1254.966552           0.228377               0.239770   \n",
       "0      1259.276751      1259.276751           0.229450               0.242772   \n",
       "0      1254.694268      1254.694268           0.228309               0.239643   \n",
       "\n",
       "   Mean_DiHd_Pred_Mollo  Mean_EnFs_Pred_Mollo  Mean_CaTs_Pred_P1999  \\\n",
       "0              0.856568              0.078518              0.004132   \n",
       "0              0.860663              0.074767              0.003851   \n",
       "0              0.859704              0.076186              0.003935   \n",
       "0              0.849281              0.086625              0.004574   \n",
       "0              0.853406              0.072876              0.003902   \n",
       "0              0.853749              0.068860              0.003711   \n",
       "0              0.861768              0.066531              0.003619   \n",
       "0              0.856141              0.072764              0.003905   \n",
       "0              0.855721              0.068359              0.003576   \n",
       "0              0.845849              0.086699              0.004585   \n",
       "0              0.855319              0.070823              0.003944   \n",
       "0              0.852994              0.070747              0.003953   \n",
       "0              0.854059              0.073007              0.003931   \n",
       "0              0.856518              0.068475              0.003791   \n",
       "\n",
       "   Mean_CrCaTS_Pred_P1999  \n",
       "0                     0.0  \n",
       "0                     0.0  \n",
       "0                     0.0  \n",
       "0                     0.0  \n",
       "0                     0.0  \n",
       "0                     0.0  \n",
       "0                     0.0  \n",
       "0                     0.0  \n",
       "0                     0.0  \n",
       "0                     0.0  \n",
       "0                     0.0  \n",
       "0                     0.0  \n",
       "0                     0.0  \n",
       "0                     0.0  \n",
       "\n",
       "[14 rows x 107 columns]"
      ]
     },
     "execution_count": 36,
     "metadata": {},
     "output_type": "execute_result"
    }
   ],
   "source": [
    "cores5"
   ]
  },
  {
   "cell_type": "code",
   "execution_count": 34,
   "metadata": {},
   "outputs": [
    {
     "data": {
      "text/plain": [
       "Text(0, 0.5, '#')"
      ]
     },
     "execution_count": 34,
     "metadata": {},
     "output_type": "execute_result"
    },
    {
     "data": {
      "image/png": "[encoded data removed]",
      "text/plain": [
       "<Figure size 432x288 with 1 Axes>"
      ]
     },
     "metadata": {
      "needs_background": "light"
     },
     "output_type": "display_data"
    }
   ],
   "source": [
    "plt.hist(rims5['Mean_P_kbar_calc'], label='rims')\n",
    "plt.hist(cores5['Mean_P_kbar_calc'], label='cores')\n",
    "plt.legend()\n",
    "plt.xlabel('Pressure (kbar)')\n",
    "plt.ylabel('#')"
   ]
  },
  {
   "cell_type": "code",
   "execution_count": 40,
   "metadata": {},
   "outputs": [
    {
     "name": "stdout",
     "output_type": "stream",
     "text": [
      "KstestResult(statistic=0.2435064935064935, pvalue=0.4796410386021369)\n"
     ]
    }
   ],
   "source": [
    "from scipy import stats\n",
    "test_M_L=stats.ks_2samp(rims5['Mean_P_kbar_calc'], cores5['Mean_P_kbar_calc'])\n",
    "print(test_M_L)\n"
   ]
  },
  {
   "cell_type": "markdown",
   "metadata": {},
   "source": [
    "## Are cores and rims matching different liquids?\n",
    "- No all matches are the same 4 liquids"
   ]
  },
  {
   "cell_type": "code",
   "execution_count": 45,
   "metadata": {},
   "outputs": [
    {
     "data": {
      "text/plain": [
       "[<matplotlib.lines.Line2D at 0x20669288c70>]"
      ]
     },
     "execution_count": 45,
     "metadata": {},
     "output_type": "execute_result"
    },
    {
     "data": {
      "image/png": "[encoded data removed]",
      "text/plain": [
       "<Figure size 432x288 with 1 Axes>"
      ]
     },
     "metadata": {
      "needs_background": "light"
     },
     "output_type": "display_data"
    }
   ],
   "source": [
    "plt.plot(rims5All['SiO2_Liq'], rims5All['MgO_Liq'], 'ok', mfc='blue')\n",
    "plt.plot(cores5All['SiO2_Liq'], cores5All['MgO_Liq'], 'ok', mfc='orange')\n"
   ]
  },
  {
   "cell_type": "code",
   "execution_count": 73,
   "metadata": {},
   "outputs": [
    {
     "data": {
      "text/plain": [
       "[<matplotlib.lines.Line2D at 0x2066aafd5e0>]"
      ]
     },
     "execution_count": 73,
     "metadata": {},
     "output_type": "execute_result"
    },
    {
     "data": {
      "image/png": "[encoded data removed]",
      "text/plain": [
       "<Figure size 432x288 with 1 Axes>"
      ]
     },
     "metadata": {
      "needs_background": "light"
     },
     "output_type": "display_data"
    }
   ],
   "source": [
    "plt.plot(myLiquids1['FeOt_Liq'], myLiquids1['MgO_Liq'], '.k')\n",
    "plt.plot(rims5All['FeOt_Liq'], rims5All['MgO_Liq'], 'or')\n"
   ]
  },
  {
   "cell_type": "code",
   "execution_count": 51,
   "metadata": {},
   "outputs": [
    {
     "data": {
      "text/plain": [
       "array([58.9684, 56.638 , 57.3489, 58.6536])"
      ]
     },
     "execution_count": 51,
     "metadata": {},
     "output_type": "execute_result"
    }
   ],
   "source": [
    "rims5All['SiO2_Liq'].unique()"
   ]
  },
  {
   "cell_type": "code",
   "execution_count": 52,
   "metadata": {},
   "outputs": [
    {
     "data": {
      "text/plain": [
       "array([58.9684, 56.638 , 57.3489, 58.6536])"
      ]
     },
     "execution_count": 52,
     "metadata": {},
     "output_type": "execute_result"
    }
   ],
   "source": [
    "cores5All['SiO2_Liq'].unique()"
   ]
  },
  {
   "cell_type": "code",
   "execution_count": 53,
   "metadata": {},
   "outputs": [
    {
     "data": {
      "text/plain": [
       "array([60.76  , 60.77  , 63.71  , 58.87  , 58.86  , 59.08  , 58.68  ,\n",
       "       59.05  , 59.04  , 59.26  , 59.14  , 59.42  , 59.56  , 59.18  ,\n",
       "       59.59  , 59.5   , 58.82  , 59.35  , 60.2   , 58.66  , 58.72  ,\n",
       "       56.6   , 59.6   , 56.5   , 57.19  , 58.62  , 57.66  , 57.48  ,\n",
       "       57.69  , 59.43  , 58.83  , 58.84  , 56.79  , 58.39  , 56.27  ,\n",
       "       55.42  , 54.66  , 56.31  , 55.9   , 56.52  , 55.79  , 56.16  ,\n",
       "       53.43  , 53.34  , 49.92  , 53.38  , 53.01  , 58.77  , 57.35  ,\n",
       "       57.81  , 56.19  , 58.05  , 57.63  , 58.35  , 58.26  , 59.68  ,\n",
       "       58.71  , 57.83  , 58.59  , 58.4601, 58.3656, 58.9684, 56.9479,\n",
       "       58.4075, 57.1545, 57.7904, 58.1678, 60.9346, 58.7254, 58.207 ,\n",
       "       58.6536, 58.8274, 59.7472, 57.3054, 58.4458, 56.638 , 58.4476,\n",
       "       56.2364, 57.3489, 57.5235, 57.823 , 58.0926, 56.2717, 56.5634,\n",
       "       57.2084, 57.2269, 57.1543, 57.4702, 57.8833, 57.6922, 57.9845,\n",
       "       58.6258, 59.2242, 60.91  , 60.61  , 60.82  , 60.83  , 61.1   ,\n",
       "       61.52  , 55.3   , 56.    , 58.1   , 57.2   , 61.21  , 60.96  ,\n",
       "       60.13  , 61.73  , 61.19  , 59.99  ])"
      ]
     },
     "execution_count": 53,
     "metadata": {},
     "output_type": "execute_result"
    }
   ],
   "source": [
    "myLiquids1['SiO2_Liq'].unique()"
   ]
  },
  {
   "cell_type": "markdown",
   "metadata": {},
   "source": [
    "## This is weird, so lets look at all matches, and the distribution of equilibrium tests"
   ]
  },
  {
   "cell_type": "code",
   "execution_count": 57,
   "metadata": {},
   "outputs": [
    {
     "name": "stdout",
     "output_type": "stream",
     "text": [
      "Caution, you have selected to use the Kd-Fe-Mg model of Masotta et al. (2013)which is only valid for trachyte and phonolitic magmas.  use PutKd=True to use the Kd model of Putirka (2008)\n",
      "Considering 16704 Liq-Cpx pairs, be patient if this is >>1 million!\n",
      "Youve selected a P-independent function\n",
      "Youve selected a P-independent function\n",
      "16704 Matches remaining after initial Kd filter. Now moving onto iterative calculations\n",
      "Youve selected a P-independent function\n",
      "Youve selected a T-independent function\n",
      "Youve selected a T-independent function\n",
      "Finished calculating Ps and Ts, now just averaging the results. Almost there!\n",
      "Done!\n"
     ]
    }
   ],
   "source": [
    "melt_match_out_lots=pt.calculate_cpx_liq_press_temp_matching(liq_comps=myLiquids1, cpx_comps=myCPXs1, \n",
    "equationP=\"P_Mas2013_Palk2012\", equationT=\"T_Mas2013_Talk2012\", KdMatch=\"Masotta\",\n",
    "KdErr=1,   Fe3Fet_Liq=0.0, sigma=100, H2O_Liq=5)"
   ]
  },
  {
   "cell_type": "code",
   "execution_count": 58,
   "metadata": {},
   "outputs": [],
   "source": [
    "melt_match_out_lots_all=melt_match_out_lots['All_PTs']"
   ]
  },
  {
   "cell_type": "code",
   "execution_count": 61,
   "metadata": {},
   "outputs": [
    {
     "data": {
      "text/plain": [
       "16704"
      ]
     },
     "execution_count": 61,
     "metadata": {},
     "output_type": "execute_result"
    }
   ],
   "source": [
    "# checking you got them all\n",
    "len(melt_match_out_lots_all)"
   ]
  },
  {
   "cell_type": "code",
   "execution_count": 64,
   "metadata": {},
   "outputs": [
    {
     "data": {
      "text/plain": [
       "Text(0.5, 0, 'Delta Kd Masotta')"
      ]
     },
     "execution_count": 64,
     "metadata": {},
     "output_type": "execute_result"
    },
    {
     "data": {
      "image/png": "[encoded data removed]",
      "text/plain": [
       "<Figure size 432x288 with 1 Axes>"
      ]
     },
     "metadata": {
      "needs_background": "light"
     },
     "output_type": "display_data"
    }
   ],
   "source": [
    "plt.hist(melt_match_out_lots_all['Delta_Kd_Mas2013'])\n",
    "plt.xlabel('Delta Kd Masotta')"
   ]
  },
  {
   "cell_type": "code",
   "execution_count": 68,
   "metadata": {},
   "outputs": [
    {
     "data": {
      "text/plain": [
       "[<matplotlib.lines.Line2D at 0x20669852fa0>]"
      ]
     },
     "execution_count": 68,
     "metadata": {},
     "output_type": "execute_result"
    },
    {
     "data": {
      "image/png": "[encoded data removed]",
      "text/plain": [
       "<Figure size 432x288 with 1 Axes>"
      ]
     },
     "metadata": {
      "needs_background": "light"
     },
     "output_type": "display_data"
    }
   ],
   "source": [
    "plt.hist(melt_match_out_lots_all['Delta_EnFs'])\n",
    "plt.xlabel('Delta EnFs Mollo')\n",
    "plt.plot([0.05, 0.05], [0, 4000], ':r')"
   ]
  },
  {
   "cell_type": "code",
   "execution_count": 69,
   "metadata": {},
   "outputs": [
    {
     "data": {
      "text/plain": [
       "[<matplotlib.lines.Line2D at 0x206698843d0>]"
      ]
     },
     "execution_count": 69,
     "metadata": {},
     "output_type": "execute_result"
    },
    {
     "data": {
      "image/png": "[encoded data removed]",
      "text/plain": [
       "<Figure size 432x288 with 1 Axes>"
      ]
     },
     "metadata": {
      "needs_background": "light"
     },
     "output_type": "display_data"
    }
   ],
   "source": [
    "plt.hist(melt_match_out_lots_all['Delta_DiHd'])\n",
    "plt.xlabel('Delta DiHd Mollo')\n",
    "plt.plot([0.06, 0.06], [0, 4000], ':r')"
   ]
  },
  {
   "cell_type": "code",
   "execution_count": 70,
   "metadata": {},
   "outputs": [
    {
     "data": {
      "text/plain": [
       "[<matplotlib.lines.Line2D at 0x20669890b50>]"
      ]
     },
     "execution_count": 70,
     "metadata": {},
     "output_type": "execute_result"
    },
    {
     "data": {
      "image/png": "[encoded data removed]",
      "text/plain": [
       "<Figure size 432x288 with 1 Axes>"
      ]
     },
     "metadata": {
      "needs_background": "light"
     },
     "output_type": "display_data"
    }
   ],
   "source": [
    "plt.hist(melt_match_out_lots_all['Delta_CaTs'])\n",
    "plt.xlabel('Delta CaTs Put')\n",
    "plt.plot([0.03, 0.03], [0, 4000], ':r')"
   ]
  },
  {
   "cell_type": "markdown",
   "metadata": {},
   "source": [
    "## Clearly, the KD filter is the most restricting... Perhaps set at 0.08, after Putirka"
   ]
  },
  {
   "cell_type": "code",
   "execution_count": 71,
   "metadata": {},
   "outputs": [
    {
     "name": "stdout",
     "output_type": "stream",
     "text": [
      "Caution, you have selected to use the Kd-Fe-Mg model of Masotta et al. (2013)which is only valid for trachyte and phonolitic magmas.  use PutKd=True to use the Kd model of Putirka (2008)\n",
      "Considering 16704 Liq-Cpx pairs, be patient if this is >>1 million!\n",
      "Youve selected a P-independent function\n",
      "Youve selected a P-independent function\n",
      "568 Matches remaining after initial Kd filter. Now moving onto iterative calculations\n",
      "Youve selected a P-independent function\n",
      "Youve selected a T-independent function\n",
      "Youve selected a T-independent function\n",
      "Finished calculating Ps and Ts, now just averaging the results. Almost there!\n",
      "Done!\n"
     ]
    }
   ],
   "source": [
    "melt_match_out_5_008=pt.calculate_cpx_liq_press_temp_matching(liq_comps=myLiquids1, cpx_comps=myCPXs1, \n",
    "equationP=\"P_Mas2013_Palk2012\", equationT=\"T_Mas2013_Talk2012\", KdMatch=\"Masotta\",\n",
    "KdErr=0.08,   Fe3Fet_Liq=0.0, sigma=2, H2O_Liq=5)"
   ]
  },
  {
   "cell_type": "code",
   "execution_count": 72,
   "metadata": {},
   "outputs": [
    {
     "data": {
      "text/plain": [
       "Text(0, 0.5, '#')"
      ]
     },
     "execution_count": 72,
     "metadata": {},
     "output_type": "execute_result"
    },
    {
     "data": {
      "image/png": "[encoded data removed]",
      "text/plain": [
       "<Figure size 432x288 with 1 Axes>"
      ]
     },
     "metadata": {
      "needs_background": "light"
     },
     "output_type": "display_data"
    }
   ],
   "source": [
    "All5_008=melt_match_out_5_008['All_PTs']\n",
    "rims5All_008=All5_008.loc[All5_008['Sample_ID_Cpx'].str.contains('rim')]\n",
    "cores5All_008=All5_008.loc[All5_008['Sample_ID_Cpx'].str.contains('core')]\n",
    "plt.hist(rims5All_008['P_kbar_calc'], label='rims')\n",
    "plt.hist(cores5All_008['P_kbar_calc'], label='cores')\n",
    "plt.legend()\n",
    "plt.xlabel('Pressure (kbar)')\n",
    "plt.ylabel('#')"
   ]
  },
  {
   "cell_type": "code",
   "execution_count": 74,
   "metadata": {},
   "outputs": [
    {
     "data": {
      "text/plain": [
       "[<matplotlib.lines.Line2D at 0x2066aa6bd60>]"
      ]
     },
     "execution_count": 74,
     "metadata": {},
     "output_type": "execute_result"
    },
    {
     "data": {
      "image/png": "[encoded data removed]",
      "text/plain": [
       "<Figure size 432x288 with 1 Axes>"
      ]
     },
     "metadata": {
      "needs_background": "light"
     },
     "output_type": "display_data"
    }
   ],
   "source": [
    "plt.plot(myLiquids1['FeOt_Liq'], myLiquids1['MgO_Liq'], '.k')\n",
    "plt.plot(rims5All_008['FeOt_Liq'], rims5All_008['MgO_Liq'], 'or')\n"
   ]
  },
  {
   "cell_type": "code",
   "execution_count": null,
   "metadata": {},
   "outputs": [],
   "source": []
  }
 ],
 "metadata": {
  "kernelspec": {
   "display_name": "Python 3",
   "language": "python",
   "name": "python3"
  },
  "language_info": {
   "codemirror_mode": {
    "name": "ipython",
    "version": 3
   },
   "file_extension": ".py",
   "mimetype": "text/x-python",
   "name": "python",
   "nbconvert_exporter": "python",
   "pygments_lexer": "ipython3",
   "version": "3.8.5"
  }
 },
 "nbformat": 4,
 "nbformat_minor": 4
}
