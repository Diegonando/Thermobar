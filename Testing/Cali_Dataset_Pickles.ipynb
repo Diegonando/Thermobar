{
 "cells": [
  {
   "cell_type": "code",
   "execution_count": 1,
   "id": "1e1580e8-7347-4a80-a39d-639d595e6e38",
   "metadata": {},
   "outputs": [],
   "source": [
    "import Thermobar as pt\n",
    "import pandas as pd\n",
    "import numpy as np\n",
    "import matplotlib.pyplot as plt"
   ]
  },
  {
   "cell_type": "code",
   "execution_count": 8,
   "id": "5d4954c4-8e53-49e3-bb4e-f1cd06a0d252",
   "metadata": {},
   "outputs": [],
   "source": [
    "Ridolfi_Cali_out=pt.import_excel('Calibration_Datasets.xlsx', sheet_name='Ridolfi21_Cali')\n",
    "Ridolfi_Cali_Amp=Ridolfi_Cali_out['Amps']\n",
    "Ridolfi_Cali_input=Ridolfi_Cali_out['my_input']\n",
    "\n",
    "from pickle import dump\n",
    "import pickle\n",
    "Ridolfi_Cali_input.to_pickle(\"Ridolfi_Cali_input.pkl\")\n",
    "Ridolfi_Cali_Amp.to_pickle(\"Ridolfi_Cali_Amp.pkl\")"
   ]
  },
  {
   "cell_type": "code",
   "execution_count": 4,
   "id": "089c3b0f-eee4-4cef-b84b-729856ded371",
   "metadata": {},
   "outputs": [],
   "source": [
    "Petrelli20_Cali_out=pt.import_excel('Calibration_Datasets.xlsx', sheet_name='Petrelli20_Cali')\n",
    "Petrelli20_Cali_Cpx=Petrelli20_Cali_out['Cpxs']\n",
    "Petrelli20_Cali_input=Petrelli20_Cali_out['my_input']\n",
    "\n",
    "from pickle import dump\n",
    "import pickle\n",
    "Petrelli20_Cali_input.to_pickle(\"Petrelli20_Cali_input.pkl\")\n",
    "Petrelli20_Cali_Cpx.to_pickle(\"Petrelli20_Cali_Cpx.pkl\")"
   ]
  },
  {
   "cell_type": "code",
   "execution_count": 5,
   "id": "aac2063c-5339-4088-93a7-4f8f3dc32dc6",
   "metadata": {},
   "outputs": [],
   "source": [
    "Putirka16_Cali_out=pt.import_excel('Calibration_Datasets.xlsx', sheet_name='Putirka16_Cali')\n",
    "Putirka16_Cali_Amp=Putirka16_Cali_out['Amps']\n",
    "Putirka16_Cali_input=Putirka16_Cali_out['my_input']\n",
    "\n",
    "from pickle import dump\n",
    "import pickle\n",
    "Putirka16_Cali_input.to_pickle(\"Putirka16_Cali_input.pkl\")\n",
    "Putirka16_Cali_Amp.to_pickle(\"Putirka16_Cali_Amp.pkl\")"
   ]
  },
  {
   "cell_type": "code",
   "execution_count": 7,
   "id": "535116b8-d532-4560-8ff7-3ca7d17c532e",
   "metadata": {},
   "outputs": [],
   "source": [
    "Waters_Lange2015_Cali_out=pt.import_excel('Calibration_Datasets.xlsx', sheet_name='Waters_Lange2015_Cali')\n",
    "Waters_Lange2015_Cali_Amp=Waters_Lange2015_Cali_out['Plags']\n",
    "Waters_Lange2015_Cali_input=Waters_Lange2015_Cali_out['my_input']\n",
    "\n",
    "from pickle import dump\n",
    "import pickle\n",
    "Waters_Lange2015_Cali_input.to_pickle(\"Waters_Lange2015_Cali_input.pkl\")\n",
    "Waters_Lange2015_Cali_Amp.to_pickle(\"Waters_Lange2015_Cali_Amp.pkl\")"
   ]
  },
  {
   "cell_type": "code",
   "execution_count": null,
   "id": "23fc9718-45c9-4b32-863d-cf0333de9c06",
   "metadata": {},
   "outputs": [],
   "source": []
  }
 ],
 "metadata": {
  "kernelspec": {
   "display_name": "Python 3",
   "language": "python",
   "name": "python3"
  },
  "language_info": {
   "codemirror_mode": {
    "name": "ipython",
    "version": 3
   },
   "file_extension": ".py",
   "mimetype": "text/x-python",
   "name": "python",
   "nbconvert_exporter": "python",
   "pygments_lexer": "ipython3",
   "version": "3.8.12"
  }
 },
 "nbformat": 4,
 "nbformat_minor": 5
}
