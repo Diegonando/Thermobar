{
 "cells": [
  {
   "cell_type": "code",
   "execution_count": 1,
   "id": "1e1580e8-7347-4a80-a39d-639d595e6e38",
   "metadata": {},
   "outputs": [],
   "source": [
    "import Thermobar as pt\n",
    "import pandas as pd\n",
    "import numpy as np\n",
    "import matplotlib.pyplot as plt"
   ]
  },
  {
   "cell_type": "code",
   "execution_count": 8,
   "id": "5d4954c4-8e53-49e3-bb4e-f1cd06a0d252",
   "metadata": {},
   "outputs": [],
   "source": [
    "Ridolfi_Cali_out=pt.import_excel('Calibration_Datasets.xlsx', sheet_name='Ridolfi21_Cali')\n",
    "Ridolfi_Cali_Amp=Ridolfi_Cali_out['Amps']\n",
    "Ridolfi_Cali_input=Ridolfi_Cali_out['my_input']\n",
    "\n",
    "from pickle import dump\n",
    "import pickle\n",
    "Ridolfi_Cali_input.to_pickle(\"Ridolfi_Cali_input.pkl\")\n",
    "Ridolfi_Cali_Amp.to_pickle(\"Ridolfi_Cali_Amp.pkl\")"
   ]
  },
  {
   "cell_type": "code",
   "execution_count": 15,
   "id": "666204b2-1b83-400c-909c-1a345c762cd4",
   "metadata": {},
   "outputs": [],
   "source": [
    "NeavePutirka_2017_Cali_out=pt.import_excel('Calibration_Datasets.xlsx', sheet_name='NeavePutirka_2017_Cali')\n",
    "NeavePutirka_2017_Cali_Cpx=NeavePutirka_2017_Cali_out['Cpxs']\n",
    "NeavePutirka_2017_Cali_Liqs=NeavePutirka_2017_Cali_out['Liqs']\n",
    "NeavePutirka_2017_Cali_input=NeavePutirka_2017_Cali_out['my_input']\n",
    "\n",
    "# Calculating Cpx components to also save. \n",
    "cpx_comps_Pet=pt.calculate_clinopyroxene_liquid_components(cpx_comps=NeavePutirka_2017_Cali_Cpx, liq_comps=NeavePutirka_2017_Cali_Liqs)\n",
    "cpx_comps_Pet['P_kbar']=NeavePutirka_2017_Cali_input['P_kbar']\n",
    "cpx_comps_Pet['T_K']=NeavePutirka_2017_Cali_input['T_K']\n",
    "\n",
    "from pickle import dump\n",
    "import pickle\n",
    "cpx_comps_Pet.to_pickle(\"NeavePutirka_2017_Cali_input.pkl\")\n",
    "NeavePutirka_2017_Cali_Cpx.to_pickle(\"NeavePutirka_2017_Cali_Cpx.pkl\")"
   ]
  },
  {
   "cell_type": "code",
   "execution_count": 13,
   "id": "089c3b0f-eee4-4cef-b84b-729856ded371",
   "metadata": {},
   "outputs": [],
   "source": [
    "Petrelli20_Cali_out=pt.import_excel('Calibration_Datasets.xlsx', sheet_name='Petrelli20_Cali')\n",
    "Petrelli20_Cali_Cpx=Petrelli20_Cali_out['Cpxs']\n",
    "Petrelli20_Cali_Liqs=Petrelli20_Cali_out['Liqs']\n",
    "Petrelli20_Cali_input=Petrelli20_Cali_out['my_input']\n",
    "\n",
    "# Calculating Cpx components to also save. \n",
    "cpx_comps_Pet=pt.calculate_clinopyroxene_liquid_components(cpx_comps=Petrelli20_Cali_Cpx, liq_comps=Petrelli20_Cali_Liqs)\n",
    "cpx_comps_Pet['P_kbar']=Petrelli20_Cali_input['P_kbar']\n",
    "cpx_comps_Pet['T_K']=Petrelli20_Cali_input['T_K']\n",
    "\n",
    "from pickle import dump\n",
    "import pickle\n",
    "cpx_comps_Pet.to_pickle(\"Petrelli20_Cali_input.pkl\")\n",
    "Petrelli20_Cali_Cpx.to_pickle(\"Petrelli20_Cali_Cpx.pkl\")"
   ]
  },
  {
   "cell_type": "code",
   "execution_count": 17,
   "id": "f1c526c2-f885-4127-9932-39ab1bf1d891",
   "metadata": {},
   "outputs": [
    {
     "name": "stderr",
     "output_type": "stream",
     "text": [
      "C:\\Users\\penny\\anaconda3\\lib\\site-packages\\pandas\\core\\arraylike.py:364: RuntimeWarning: divide by zero encountered in log\n",
      "  result = getattr(ufunc, method)(*inputs, **kwargs)\n"
     ]
    }
   ],
   "source": [
    "Putirka2008_Cali_out=pt.import_excel('Calibration_Datasets.xlsx', sheet_name='Putirka2008_CpxLiq')\n",
    "Putirka2008_Cali_Cpx=Putirka2008_Cali_out['Cpxs']\n",
    "Putirka2008_Cali_Liqs=Putirka2008_Cali_out['Liqs']\n",
    "Putirka2008_Cali_input=Putirka2008_Cali_out['my_input']\n",
    "\n",
    "# Calculating Cpx components to also save. \n",
    "cpx_comps_Pet=pt.calculate_clinopyroxene_liquid_components(cpx_comps=Putirka2008_Cali_Cpx, liq_comps=Putirka2008_Cali_Liqs)\n",
    "cpx_comps_Pet['P_kbar']=Putirka2008_Cali_input['P_kbar']\n",
    "cpx_comps_Pet['T_K']=Putirka2008_Cali_input['T_K']\n",
    "\n",
    "from pickle import dump\n",
    "import pickle\n",
    "cpx_comps_Pet.to_pickle(\"Putirka2008_Cali_input.pkl\")\n",
    "Putirka2008_Cali_Cpx.to_pickle(\"Putirka2008_Cali_Cpx.pkl\")"
   ]
  },
  {
   "cell_type": "code",
   "execution_count": 5,
   "id": "aac2063c-5339-4088-93a7-4f8f3dc32dc6",
   "metadata": {},
   "outputs": [],
   "source": [
    "Putirka16_Cali_out=pt.import_excel('Calibration_Datasets.xlsx', sheet_name='Putirka16_Cali')\n",
    "Putirka16_Cali_Amp=Putirka16_Cali_out['Amps']\n",
    "Putirka16_Cali_input=Putirka16_Cali_out['my_input']\n",
    "\n",
    "from pickle import dump\n",
    "import pickle\n",
    "Putirka16_Cali_input.to_pickle(\"Putirka16_Cali_input.pkl\")\n",
    "Putirka16_Cali_Amp.to_pickle(\"Putirka16_Cali_Amp.pkl\")"
   ]
  },
  {
   "cell_type": "code",
   "execution_count": 7,
   "id": "535116b8-d532-4560-8ff7-3ca7d17c532e",
   "metadata": {},
   "outputs": [],
   "source": [
    "Waters_Lange2015_Cali_out=pt.import_excel('Calibration_Datasets.xlsx', sheet_name='Waters_Lange2015_Cali')\n",
    "Waters_Lange2015_Cali_Amp=Waters_Lange2015_Cali_out['Plags']\n",
    "Waters_Lange2015_Cali_input=Waters_Lange2015_Cali_out['my_input']\n",
    "\n",
    "from pickle import dump\n",
    "import pickle\n",
    "Waters_Lange2015_Cali_input.to_pickle(\"Waters_Lange2015_Cali_input.pkl\")\n",
    "Waters_Lange2015_Cali_Amp.to_pickle(\"Waters_Lange2015_Cali_Amp.pkl\")"
   ]
  },
  {
   "cell_type": "code",
   "execution_count": 20,
   "id": "23fc9718-45c9-4b32-863d-cf0333de9c06",
   "metadata": {},
   "outputs": [],
   "source": [
    "Masotta2019_Cali_out=pt.import_excel('Calibration_Datasets.xlsx', sheet_name='Masotta2019_PlagLiq_Cali')\n",
    "Masotta2019_Cali_Amp=Masotta2019_Cali_out['Plags']\n",
    "Masotta2019_Cali_input=Masotta2019_Cali_out['my_input']\n",
    "\n",
    "from pickle import dump\n",
    "import pickle\n",
    "Masotta2019_Cali_input.to_pickle(\"Masotta2019_Cali_input.pkl\")\n",
    "Masotta2019_Cali_Amp.to_pickle(\"Masotta2019_Cali_Amp.pkl\")"
   ]
  },
  {
   "cell_type": "code",
   "execution_count": null,
   "id": "dc9399d3-4728-497d-afae-843d558b2bec",
   "metadata": {},
   "outputs": [],
   "source": []
  }
 ],
 "metadata": {
  "kernelspec": {
   "display_name": "Python 3",
   "language": "python",
   "name": "python3"
  },
  "language_info": {
   "codemirror_mode": {
    "name": "ipython",
    "version": 3
   },
   "file_extension": ".py",
   "mimetype": "text/x-python",
   "name": "python",
   "nbconvert_exporter": "python",
   "pygments_lexer": "ipython3",
   "version": "3.8.12"
  }
 },
 "nbformat": 4,
 "nbformat_minor": 5
}
