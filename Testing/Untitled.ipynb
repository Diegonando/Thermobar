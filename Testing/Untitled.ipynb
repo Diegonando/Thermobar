{
 "cells": [
  {
   "cell_type": "code",
   "execution_count": null,
   "id": "44042bec-6129-43e7-b106-657d8357dd26",
   "metadata": {},
   "outputs": [],
   "source": []
  }
 ],
 "metadata": {
  "kernelspec": {
   "display_name": "",
   "name": ""
  },
  "language_info": {
   "name": ""
  }
 },
 "nbformat": 4,
 "nbformat_minor": 5
}
