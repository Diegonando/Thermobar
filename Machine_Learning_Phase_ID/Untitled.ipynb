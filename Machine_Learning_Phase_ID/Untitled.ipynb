{
 "cells": [
  {
   "cell_type": "code",
   "execution_count": 1,
   "id": "1532eccd-5dc9-4b21-9149-6bb0fbc29e4f",
   "metadata": {},
   "outputs": [],
   "source": [
    "import numpy as np\n",
    "import pandas as pd\n",
    "import sys\n",
    "sys.path.append(\"../\")\n",
    "import matplotlib.pyplot as plt\n",
    "import PT_Thermobar_V1 as pw\n",
    "import sympy as sym\n",
    "pd.options.display.max_columns = None"
   ]
  },
  {
   "cell_type": "code",
   "execution_count": 2,
   "id": "d750e649-8258-4dd4-89b3-cd367c90cf2a",
   "metadata": {},
   "outputs": [
    {
     "name": "stderr",
     "output_type": "stream",
     "text": [
      "C:\\Users\\penny\\anaconda3\\lib\\site-packages\\ipykernel\\ipkernel.py:283: DeprecationWarning: `should_run_async` will not call `transform_cell` automatically in the future. Please pass the result to `transformed_cell` argument and any exception that happen during thetransform in `preprocessing_exc_tuple` in IPython 7.17 and above.\n",
      "  and should_run_async(code)\n"
     ]
    },
    {
     "name": "stdout",
     "output_type": "stream",
     "text": [
      "Only Fe2O3_Liq found in input, the code has allocated this to FeOt_Ol, and set Fe3FeT_Liq=0, e.g., assuming this is XRF data. If there really is some Fe3+, set Fe3Fet_Liq=value.\n",
      "We have set Fe3Fet_Liq to zero, as you only entered FeOt. You can input a Fe3FeT_Liq column to specify this value instead\n",
      "We have set Fe3Fet_Liq to zero, as you only entered FeOt. You can input a Fe3FeT_Liq column to specify this value instead\n"
     ]
    }
   ],
   "source": [
    "out_Cpx=pw.import_Excel('Lassen.xlsx', sheet_name=\"Hollyday_Cpx\")\n",
    "my_input_Cpx=out_Cpx['my_input']\n",
    "myCpxs=out_Cpx['Cpxs']\n",
    "\n",
    "out_Liq_H=pw.import_Excel('Lassen.xlsx', sheet_name=\"Hollyday_WR\")\n",
    "my_input_Liq_H=out_Liq_H['my_input']\n",
    "myLiqs_H=out_Liq_H['Liqs']\n",
    "\n",
    "out_Liq_C=pw.import_Excel('Lassen.xlsx', sheet_name=\"Clynne_WR\")\n",
    "my_input_Liq_C=out_Liq_C['my_input']\n",
    "myLiqs_C=out_Liq_C['Liqs']\n",
    "\n",
    "out_Liq_W=pw.import_Excel('Lassen.xlsx', sheet_name=\"Walowski_Primitive\")\n",
    "my_input_Liq_W=out_Liq_W['my_input']\n",
    "myLiqs_W=out_Liq_W['Liqs']"
   ]
  },
  {
   "cell_type": "code",
   "execution_count": 4,
   "id": "f7db5a3d-d002-4eb8-bc76-ff45a88049a2",
   "metadata": {},
   "outputs": [
    {
     "name": "stdout",
     "output_type": "stream",
     "text": [
      "Considering 11240 Liq-Cpx pairs, be patient if this is >>1 million!\n"
     ]
    }
   ],
   "source": [
    "Matches_C=pw.calculate_Cpx_Liq_PT_melt_matching(Liq_Comps=myLiqs_C, Cpx_Comps=myCpxs, equationP=\"P_Neave2017\", equationT=\"T_Put2008_eq33\", sigma=100, Fe3FeT_Liq=0.2, KdErr=100, \n",
    "                                             Return_All_Matches=True)"
   ]
  },
  {
   "cell_type": "code",
   "execution_count": 5,
   "id": "94bb121d-fe1f-46fd-bf8d-e1330fbe0840",
   "metadata": {},
   "outputs": [
    {
     "name": "stdout",
     "output_type": "stream",
     "text": [
      "Considering 40 Liq-Cpx pairs, be patient if this is >>1 million!\n"
     ]
    },
    {
     "name": "stderr",
     "output_type": "stream",
     "text": [
      "C:\\Users\\penny\\anaconda3\\lib\\site-packages\\ipykernel\\ipkernel.py:283: DeprecationWarning: `should_run_async` will not call `transform_cell` automatically in the future. Please pass the result to `transformed_cell` argument and any exception that happen during thetransform in `preprocessing_exc_tuple` in IPython 7.17 and above.\n",
      "  and should_run_async(code)\n"
     ]
    }
   ],
   "source": [
    "Matches_W=pw.calculate_Cpx_Liq_PT_melt_matching(Liq_Comps=myLiqs_W, Cpx_Comps=myCpxs, equationP=\"P_Neave2017\", equationT=\"T_Put2008_eq33\", sigma=100, Fe3FeT_Liq=0.2, KdErr=100, \n",
    "                                             Return_All_Matches=True)"
   ]
  },
  {
   "cell_type": "code",
   "execution_count": 6,
   "id": "85f46460-a060-4391-9a4d-226f30585adc",
   "metadata": {},
   "outputs": [
    {
     "name": "stderr",
     "output_type": "stream",
     "text": [
      "C:\\Users\\penny\\anaconda3\\lib\\site-packages\\ipykernel\\ipkernel.py:283: DeprecationWarning: `should_run_async` will not call `transform_cell` automatically in the future. Please pass the result to `transformed_cell` argument and any exception that happen during thetransform in `preprocessing_exc_tuple` in IPython 7.17 and above.\n",
      "  and should_run_async(code)\n"
     ]
    }
   ],
   "source": [
    "Kd=pw.calculate_Clinopyroxene_Rhodes_Diagram_Lines(Min_Mgno=.50, Max_Mgno=.80,  simple=True)"
   ]
  },
  {
   "cell_type": "code",
   "execution_count": 10,
   "id": "21cf5775-cfbe-4599-8961-a1db017bad83",
   "metadata": {},
   "outputs": [
    {
     "data": {
      "text/html": [
       "<div>\n",
       "<style scoped>\n",
       "    .dataframe tbody tr th:only-of-type {\n",
       "        vertical-align: middle;\n",
       "    }\n",
       "\n",
       "    .dataframe tbody tr th {\n",
       "        vertical-align: top;\n",
       "    }\n",
       "\n",
       "    .dataframe thead th {\n",
       "        text-align: right;\n",
       "    }\n",
       "</style>\n",
       "<table border=\"1\" class=\"dataframe\">\n",
       "  <thead>\n",
       "    <tr style=\"text-align: right;\">\n",
       "      <th></th>\n",
       "      <th>Mg#_Liq</th>\n",
       "      <th>Eq_Cpx_Mg# (Kd=0.28)</th>\n",
       "      <th>Eq_Cpx_Mg# (Kd=0.2)</th>\n",
       "      <th>Eq_Cpx_Mg# (Kd=0.36)</th>\n",
       "    </tr>\n",
       "  </thead>\n",
       "  <tbody>\n",
       "    <tr>\n",
       "      <th>0</th>\n",
       "      <td>0.500000</td>\n",
       "      <td>0.781250</td>\n",
       "      <td>0.833333</td>\n",
       "      <td>0.735294</td>\n",
       "    </tr>\n",
       "    <tr>\n",
       "      <th>1</th>\n",
       "      <td>0.503030</td>\n",
       "      <td>0.783314</td>\n",
       "      <td>0.835010</td>\n",
       "      <td>0.737647</td>\n",
       "    </tr>\n",
       "    <tr>\n",
       "      <th>2</th>\n",
       "      <td>0.506061</td>\n",
       "      <td>0.785365</td>\n",
       "      <td>0.836673</td>\n",
       "      <td>0.739986</td>\n",
       "    </tr>\n",
       "    <tr>\n",
       "      <th>3</th>\n",
       "      <td>0.509091</td>\n",
       "      <td>0.787402</td>\n",
       "      <td>0.838323</td>\n",
       "      <td>0.742312</td>\n",
       "    </tr>\n",
       "    <tr>\n",
       "      <th>4</th>\n",
       "      <td>0.512121</td>\n",
       "      <td>0.789425</td>\n",
       "      <td>0.839960</td>\n",
       "      <td>0.744625</td>\n",
       "    </tr>\n",
       "    <tr>\n",
       "      <th>...</th>\n",
       "      <td>...</td>\n",
       "      <td>...</td>\n",
       "      <td>...</td>\n",
       "      <td>...</td>\n",
       "    </tr>\n",
       "    <tr>\n",
       "      <th>95</th>\n",
       "      <td>0.787879</td>\n",
       "      <td>0.929900</td>\n",
       "      <td>0.948905</td>\n",
       "      <td>0.911641</td>\n",
       "    </tr>\n",
       "    <tr>\n",
       "      <th>96</th>\n",
       "      <td>0.790909</td>\n",
       "      <td>0.931079</td>\n",
       "      <td>0.949782</td>\n",
       "      <td>0.913098</td>\n",
       "    </tr>\n",
       "    <tr>\n",
       "      <th>97</th>\n",
       "      <td>0.793939</td>\n",
       "      <td>0.932252</td>\n",
       "      <td>0.950653</td>\n",
       "      <td>0.914549</td>\n",
       "    </tr>\n",
       "    <tr>\n",
       "      <th>98</th>\n",
       "      <td>0.796970</td>\n",
       "      <td>0.933419</td>\n",
       "      <td>0.951520</td>\n",
       "      <td>0.915993</td>\n",
       "    </tr>\n",
       "    <tr>\n",
       "      <th>99</th>\n",
       "      <td>0.800000</td>\n",
       "      <td>0.934579</td>\n",
       "      <td>0.952381</td>\n",
       "      <td>0.917431</td>\n",
       "    </tr>\n",
       "  </tbody>\n",
       "</table>\n",
       "<p>100 rows × 4 columns</p>\n",
       "</div>"
      ],
      "text/plain": [
       "     Mg#_Liq  Eq_Cpx_Mg# (Kd=0.28)  Eq_Cpx_Mg# (Kd=0.2)  Eq_Cpx_Mg# (Kd=0.36)\n",
       "0   0.500000              0.781250             0.833333              0.735294\n",
       "1   0.503030              0.783314             0.835010              0.737647\n",
       "2   0.506061              0.785365             0.836673              0.739986\n",
       "3   0.509091              0.787402             0.838323              0.742312\n",
       "4   0.512121              0.789425             0.839960              0.744625\n",
       "..       ...                   ...                  ...                   ...\n",
       "95  0.787879              0.929900             0.948905              0.911641\n",
       "96  0.790909              0.931079             0.949782              0.913098\n",
       "97  0.793939              0.932252             0.950653              0.914549\n",
       "98  0.796970              0.933419             0.951520              0.915993\n",
       "99  0.800000              0.934579             0.952381              0.917431\n",
       "\n",
       "[100 rows x 4 columns]"
      ]
     },
     "execution_count": 10,
     "metadata": {},
     "output_type": "execute_result"
    }
   ],
   "source": [
    "Kd"
   ]
  },
  {
   "cell_type": "code",
   "execution_count": 12,
   "id": "0b84bd5b-aa23-4169-b60d-d2d847d57da2",
   "metadata": {},
   "outputs": [
    {
     "name": "stderr",
     "output_type": "stream",
     "text": [
      "C:\\Users\\penny\\anaconda3\\lib\\site-packages\\ipykernel\\ipkernel.py:283: DeprecationWarning: `should_run_async` will not call `transform_cell` automatically in the future. Please pass the result to `transformed_cell` argument and any exception that happen during thetransform in `preprocessing_exc_tuple` in IPython 7.17 and above.\n",
      "  and should_run_async(code)\n"
     ]
    },
    {
     "data": {
      "text/plain": [
       "[<matplotlib.lines.Line2D at 0x1956a71d6a0>]"
      ]
     },
     "execution_count": 12,
     "metadata": {},
     "output_type": "execute_result"
    },
    {
     "data": {
      "image/png": "[encoded data removed]",
      "text/plain": [
       "<Figure size 432x288 with 1 Axes>"
      ]
     },
     "metadata": {
      "needs_background": "light"
     },
     "output_type": "display_data"
    }
   ],
   "source": [
    "plt.plot(Matches_C['Mg_Number_Liq_Fe3'], Matches_C['Mgno_CPX'], '.k')\n",
    "plt.plot(Kd['Mg#_Liq'], Kd['Eq_Cpx_Mg# (Kd=0.36)'], '-r')\n",
    "plt.plot(Kd['Mg#_Liq'], Kd['Eq_Cpx_Mg# (Kd=0.2)'], '-r')\n"
   ]
  },
  {
   "cell_type": "code",
   "execution_count": 13,
   "id": "53b31180-82d0-4734-8622-48eb7c1a3d07",
   "metadata": {},
   "outputs": [
    {
     "name": "stderr",
     "output_type": "stream",
     "text": [
      "C:\\Users\\penny\\anaconda3\\lib\\site-packages\\ipykernel\\ipkernel.py:283: DeprecationWarning: `should_run_async` will not call `transform_cell` automatically in the future. Please pass the result to `transformed_cell` argument and any exception that happen during thetransform in `preprocessing_exc_tuple` in IPython 7.17 and above.\n",
      "  and should_run_async(code)\n"
     ]
    },
    {
     "data": {
      "text/plain": [
       "[<matplotlib.lines.Line2D at 0x1956a77ea00>]"
      ]
     },
     "execution_count": 13,
     "metadata": {},
     "output_type": "execute_result"
    },
    {
     "data": {
      "image/png": "[encoded data removed]",
      "text/plain": [
       "<Figure size 432x288 with 1 Axes>"
      ]
     },
     "metadata": {
      "needs_background": "light"
     },
     "output_type": "display_data"
    }
   ],
   "source": [
    "plt.plot(Matches_W['Mg_Number_Liq_Fe3'], Matches_W['Mgno_CPX'], '.k')\n",
    "plt.plot(Kd['Mg#_Liq'], Kd['Eq_Cpx_Mg# (Kd=0.36)'], '-r')\n",
    "plt.plot(Kd['Mg#_Liq'], Kd['Eq_Cpx_Mg# (Kd=0.2)'], '-r')\n",
    "\n"
   ]
  },
  {
   "cell_type": "code",
   "execution_count": 36,
   "id": "09b5c879-ac1c-4e6f-8135-0c125ac7692a",
   "metadata": {},
   "outputs": [
    {
     "name": "stdout",
     "output_type": "stream",
     "text": [
      "Considering 11240 Liq-Cpx pairs, be patient if this is >>1 million!\n",
      "4683 Matches remaining after initial Kd filter. Now moving onto iterative calculations\n"
     ]
    },
    {
     "name": "stderr",
     "output_type": "stream",
     "text": [
      "..\\PT_Thermobar_V1.py:5199: UserWarning: Some inputted liquids have SiO2>68wt%, which exceeds the upper calibration range of the Neave and Putirka (2017) model.\n",
      "  P_func=calculate_Cpx_Liq_Press(MeltMatch=MeltMatch, equationP=equationP, Eq_Tests=False)\n"
     ]
    },
    {
     "name": "stdout",
     "output_type": "stream",
     "text": [
      "Done!\n"
     ]
    }
   ],
   "source": [
    "PT=pw.calculate_Cpx_Liq_PT_melt_matching(Liq_Comps=myLiqs_C, Cpx_Comps=myCpxs, equationP=\"P_Neave2017\", equationT=\"T_Put2008_eq33\", H2O_Liq=3)"
   ]
  },
  {
   "cell_type": "code",
   "execution_count": 59,
   "id": "f8467f01-0eee-4ef1-8d30-a5a3fa57900a",
   "metadata": {},
   "outputs": [
    {
     "name": "stderr",
     "output_type": "stream",
     "text": [
      "C:\\Users\\penny\\anaconda3\\lib\\site-packages\\ipykernel\\ipkernel.py:283: DeprecationWarning: `should_run_async` will not call `transform_cell` automatically in the future. Please pass the result to `transformed_cell` argument and any exception that happen during thetransform in `preprocessing_exc_tuple` in IPython 7.17 and above.\n",
      "  and should_run_async(code)\n"
     ]
    },
    {
     "name": "stdout",
     "output_type": "stream",
     "text": [
      "Considering 40 Liq-Cpx pairs, be patient if this is >>1 million!\n",
      "40 Matches remaining after initial Kd filter. Now moving onto iterative calculations\n",
      "Done!\n"
     ]
    }
   ],
   "source": [
    "PT=pw.calculate_Cpx_Liq_PT_melt_matching(Liq_Comps=myLiqs_W, Cpx_Comps=myCpxs, equationP=\"P_Neave2017\", equationT=\"T_Put2008_eq33\", H2O_Liq=3, KdErr=1, sigma=10)"
   ]
  },
  {
   "cell_type": "code",
   "execution_count": 37,
   "id": "0de7905d-68e4-4826-ae4d-0fa1764759af",
   "metadata": {},
   "outputs": [
    {
     "name": "stderr",
     "output_type": "stream",
     "text": [
      "C:\\Users\\penny\\anaconda3\\lib\\site-packages\\ipykernel\\ipkernel.py:283: DeprecationWarning: `should_run_async` will not call `transform_cell` automatically in the future. Please pass the result to `transformed_cell` argument and any exception that happen during thetransform in `preprocessing_exc_tuple` in IPython 7.17 and above.\n",
      "  and should_run_async(code)\n"
     ]
    },
    {
     "data": {
      "text/plain": [
       "(array([2., 2., 9., 6., 4., 7., 7., 1., 0., 1.]),\n",
       " array([-0.93494899, -0.56213329, -0.18931759,  0.18349811,  0.55631381,\n",
       "         0.92912952,  1.30194522,  1.67476092,  2.04757662,  2.42039232,\n",
       "         2.79320803]),\n",
       " <BarContainer object of 10 artists>)"
      ]
     },
     "execution_count": 37,
     "metadata": {},
     "output_type": "execute_result"
    },
    {
     "data": {
      "image/png": "[encoded data removed]",
      "text/plain": [
       "<Figure size 432x288 with 1 Axes>"
      ]
     },
     "metadata": {
      "needs_background": "light"
     },
     "output_type": "display_data"
    }
   ],
   "source": [
    "Avs=PT['Averaged_PTs']\n",
    "All=PT['All_PTs']\n",
    "plt.hist(Avs['Mean_P_kbar_calc'])"
   ]
  },
  {
   "cell_type": "code",
   "execution_count": 38,
   "id": "ca9d9c89-83e3-4122-93ed-ec3b5b02e4ae",
   "metadata": {},
   "outputs": [
    {
     "data": {
      "text/plain": [
       "(array([ 33., 165., 463., 552., 569., 388., 214., 103.,  49.,  18.]),\n",
       " array([-1.60161465, -1.0548735 , -0.50813236,  0.03860879,  0.58534994,\n",
       "         1.13209109,  1.67883224,  2.22557339,  2.77231454,  3.31905569,\n",
       "         3.86579683]),\n",
       " <BarContainer object of 10 artists>)"
      ]
     },
     "execution_count": 38,
     "metadata": {},
     "output_type": "execute_result"
    },
    {
     "data": {
      "image/png": "[encoded data removed]",
      "text/plain": [
       "<Figure size 432x288 with 1 Axes>"
      ]
     },
     "metadata": {
      "needs_background": "light"
     },
     "output_type": "display_data"
    }
   ],
   "source": [
    "plt.hist(All['P_kbar_calc'])"
   ]
  },
  {
   "cell_type": "code",
   "execution_count": 39,
   "id": "32190a91-eeb9-47f5-847c-21378f4ea4b3",
   "metadata": {},
   "outputs": [
    {
     "data": {
      "text/plain": [
       "[<matplotlib.lines.Line2D at 0x1d5b2571e80>]"
      ]
     },
     "execution_count": 39,
     "metadata": {},
     "output_type": "execute_result"
    },
    {
     "data": {
      "image/png": "[encoded data removed]",
      "text/plain": [
       "<Figure size 432x288 with 1 Axes>"
      ]
     },
     "metadata": {
      "needs_background": "light"
     },
     "output_type": "display_data"
    }
   ],
   "source": [
    "plt.plot(All['P_kbar_calc'], All['MgO_Liq'],'ok')"
   ]
  },
  {
   "cell_type": "code",
   "execution_count": 40,
   "id": "0416e918-2143-4ab2-a208-70819a39fa1b",
   "metadata": {},
   "outputs": [
    {
     "name": "stderr",
     "output_type": "stream",
     "text": [
      "C:\\Users\\penny\\anaconda3\\lib\\site-packages\\ipykernel\\ipkernel.py:283: DeprecationWarning: `should_run_async` will not call `transform_cell` automatically in the future. Please pass the result to `transformed_cell` argument and any exception that happen during thetransform in `preprocessing_exc_tuple` in IPython 7.17 and above.\n",
      "  and should_run_async(code)\n"
     ]
    },
    {
     "name": "stdout",
     "output_type": "stream",
     "text": [
      "Considering 11240 Liq-Cpx pairs, be patient if this is >>1 million!\n",
      "4683 Matches remaining after initial Kd filter. Now moving onto iterative calculations\n",
      "Done!\n"
     ]
    }
   ],
   "source": [
    "PT=pw.calculate_Cpx_Liq_PT_melt_matching(Liq_Comps=myLiqs_C, Cpx_Comps=myCpxs, equationP=\"P_Wieser2021_H2O_indep\", equationT=\"T_Put2008_eq33\", H2O_Liq=3)"
   ]
  },
  {
   "cell_type": "code",
   "execution_count": 45,
   "id": "4e9c8a2b-621c-4c37-84b6-58a6dcd8e103",
   "metadata": {},
   "outputs": [
    {
     "data": {
      "text/plain": [
       "[<matplotlib.lines.Line2D at 0x1d5b228c370>]"
      ]
     },
     "execution_count": 45,
     "metadata": {},
     "output_type": "execute_result"
    },
    {
     "data": {
      "image/png": "[encoded data removed]",
      "text/plain": [
       "<Figure size 432x288 with 1 Axes>"
      ]
     },
     "metadata": {
      "needs_background": "light"
     },
     "output_type": "display_data"
    }
   ],
   "source": [
    "All=PT['All_PTs']\n",
    "Av=PT['Averaged_PTs']\n",
    "plt.plot(Av['Mean_P_kbar_calc'], Av['Mean_MgO_Liq'],'ok')"
   ]
  },
  {
   "cell_type": "code",
   "execution_count": null,
   "id": "402ebc58-ce3e-430e-a2c5-248576f5b46d",
   "metadata": {},
   "outputs": [],
   "source": []
  }
 ],
 "metadata": {
  "kernelspec": {
   "display_name": "Python 3",
   "language": "python",
   "name": "python3"
  },
  "language_info": {
   "codemirror_mode": {
    "name": "ipython",
    "version": 3
   },
   "file_extension": ".py",
   "mimetype": "text/x-python",
   "name": "python",
   "nbconvert_exporter": "python",
   "pygments_lexer": "ipython3",
   "version": "3.8.5"
  }
 },
 "nbformat": 4,
 "nbformat_minor": 5
}
