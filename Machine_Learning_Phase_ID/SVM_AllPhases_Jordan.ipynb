{
 "cells": [
  {
   "cell_type": "code",
   "execution_count": 1,
   "id": "d7b01d85-6ff7-40c8-ae6a-d4e5130cf18c",
   "metadata": {},
   "outputs": [],
   "source": [
    "import Thermobar as pt\n",
    "import pandas as pd\n",
    "import numpy as np\n",
    "import matplotlib.pyplot as plt\n",
    "from pickle import load\n",
    "import pickle"
   ]
  },
  {
   "cell_type": "code",
   "execution_count": 3,
   "id": "f6185efc-e1b2-4371-9a27-0df5d0bed9be",
   "metadata": {},
   "outputs": [
    {
     "data": {
      "text/html": [
       "<div>\n",
       "<style scoped>\n",
       "    .dataframe tbody tr th:only-of-type {\n",
       "        vertical-align: middle;\n",
       "    }\n",
       "\n",
       "    .dataframe tbody tr th {\n",
       "        vertical-align: top;\n",
       "    }\n",
       "\n",
       "    .dataframe thead th {\n",
       "        text-align: right;\n",
       "    }\n",
       "</style>\n",
       "<table border=\"1\" class=\"dataframe\">\n",
       "  <thead>\n",
       "    <tr style=\"text-align: right;\">\n",
       "      <th></th>\n",
       "      <th>SiO2</th>\n",
       "      <th>TiO2</th>\n",
       "      <th>Al2O3</th>\n",
       "      <th>FeOt</th>\n",
       "      <th>MnO</th>\n",
       "      <th>MgO</th>\n",
       "      <th>CaO</th>\n",
       "      <th>Na2O</th>\n",
       "      <th>K2O</th>\n",
       "      <th>Cr2O3</th>\n",
       "      <th>P2O5</th>\n",
       "      <th>Sum_Oxides</th>\n",
       "      <th>Phase_Min_Group_ML</th>\n",
       "      <th>Phase_Mineral</th>\n",
       "      <th>Ab</th>\n",
       "      <th>An</th>\n",
       "      <th>Or</th>\n",
       "      <th>Fspar_Class</th>\n",
       "      <th>Ca/CaMgFe</th>\n",
       "    </tr>\n",
       "  </thead>\n",
       "  <tbody>\n",
       "    <tr>\n",
       "      <th>0</th>\n",
       "      <td>64.3063</td>\n",
       "      <td>0.021011</td>\n",
       "      <td>18.2247</td>\n",
       "      <td>0.161222</td>\n",
       "      <td>0.006077</td>\n",
       "      <td>0.0</td>\n",
       "      <td>0.624609</td>\n",
       "      <td>5.28518</td>\n",
       "      <td>8.09002</td>\n",
       "      <td>0.0</td>\n",
       "      <td>0.0</td>\n",
       "      <td>96.719119</td>\n",
       "      <td>Fspar</td>\n",
       "      <td>Kspar</td>\n",
       "      <td>0.482515</td>\n",
       "      <td>0.031513</td>\n",
       "      <td>0.485973</td>\n",
       "      <td>Sanidine</td>\n",
       "      <td>N/A</td>\n",
       "    </tr>\n",
       "    <tr>\n",
       "      <th>1</th>\n",
       "      <td>66.0925</td>\n",
       "      <td>0.017386</td>\n",
       "      <td>18.3707</td>\n",
       "      <td>0.113386</td>\n",
       "      <td>0.000000</td>\n",
       "      <td>0.0</td>\n",
       "      <td>0.463835</td>\n",
       "      <td>5.20276</td>\n",
       "      <td>8.73465</td>\n",
       "      <td>0.0</td>\n",
       "      <td>0.0</td>\n",
       "      <td>98.995217</td>\n",
       "      <td>Fspar</td>\n",
       "      <td>Kspar</td>\n",
       "      <td>0.464271</td>\n",
       "      <td>0.022873</td>\n",
       "      <td>0.512855</td>\n",
       "      <td>Sanidine</td>\n",
       "      <td>N/A</td>\n",
       "    </tr>\n",
       "    <tr>\n",
       "      <th>2</th>\n",
       "      <td>65.9092</td>\n",
       "      <td>0.015583</td>\n",
       "      <td>18.4277</td>\n",
       "      <td>0.137234</td>\n",
       "      <td>0.000000</td>\n",
       "      <td>0.0</td>\n",
       "      <td>0.516232</td>\n",
       "      <td>5.16370</td>\n",
       "      <td>8.72313</td>\n",
       "      <td>0.0</td>\n",
       "      <td>0.0</td>\n",
       "      <td>98.892779</td>\n",
       "      <td>Fspar</td>\n",
       "      <td>Kspar</td>\n",
       "      <td>0.461514</td>\n",
       "      <td>0.025497</td>\n",
       "      <td>0.512989</td>\n",
       "      <td>Sanidine</td>\n",
       "      <td>N/A</td>\n",
       "    </tr>\n",
       "    <tr>\n",
       "      <th>3</th>\n",
       "      <td>66.1148</td>\n",
       "      <td>0.018833</td>\n",
       "      <td>18.5615</td>\n",
       "      <td>0.122854</td>\n",
       "      <td>0.020247</td>\n",
       "      <td>0.0</td>\n",
       "      <td>0.508770</td>\n",
       "      <td>5.23344</td>\n",
       "      <td>8.66407</td>\n",
       "      <td>0.0</td>\n",
       "      <td>0.0</td>\n",
       "      <td>99.244514</td>\n",
       "      <td>Fspar</td>\n",
       "      <td>Kspar</td>\n",
       "      <td>0.466631</td>\n",
       "      <td>0.025069</td>\n",
       "      <td>0.5083</td>\n",
       "      <td>Sanidine</td>\n",
       "      <td>N/A</td>\n",
       "    </tr>\n",
       "    <tr>\n",
       "      <th>4</th>\n",
       "      <td>66.4107</td>\n",
       "      <td>0.000000</td>\n",
       "      <td>18.6387</td>\n",
       "      <td>0.091056</td>\n",
       "      <td>0.000000</td>\n",
       "      <td>0.0</td>\n",
       "      <td>0.562197</td>\n",
       "      <td>5.26987</td>\n",
       "      <td>8.51813</td>\n",
       "      <td>0.0</td>\n",
       "      <td>0.0</td>\n",
       "      <td>99.490653</td>\n",
       "      <td>Fspar</td>\n",
       "      <td>Kspar</td>\n",
       "      <td>0.471143</td>\n",
       "      <td>0.027776</td>\n",
       "      <td>0.501081</td>\n",
       "      <td>Sanidine</td>\n",
       "      <td>N/A</td>\n",
       "    </tr>\n",
       "    <tr>\n",
       "      <th>...</th>\n",
       "      <td>...</td>\n",
       "      <td>...</td>\n",
       "      <td>...</td>\n",
       "      <td>...</td>\n",
       "      <td>...</td>\n",
       "      <td>...</td>\n",
       "      <td>...</td>\n",
       "      <td>...</td>\n",
       "      <td>...</td>\n",
       "      <td>...</td>\n",
       "      <td>...</td>\n",
       "      <td>...</td>\n",
       "      <td>...</td>\n",
       "      <td>...</td>\n",
       "      <td>...</td>\n",
       "      <td>...</td>\n",
       "      <td>...</td>\n",
       "      <td>...</td>\n",
       "      <td>...</td>\n",
       "    </tr>\n",
       "    <tr>\n",
       "      <th>691</th>\n",
       "      <td>61.6998</td>\n",
       "      <td>0.091662</td>\n",
       "      <td>18.3270</td>\n",
       "      <td>0.000000</td>\n",
       "      <td>0.000000</td>\n",
       "      <td>0.0</td>\n",
       "      <td>0.003693</td>\n",
       "      <td>1.77829</td>\n",
       "      <td>13.76100</td>\n",
       "      <td>0.0</td>\n",
       "      <td>0.0</td>\n",
       "      <td>95.661445</td>\n",
       "      <td>Fspar</td>\n",
       "      <td>Kspar</td>\n",
       "      <td>0.164128</td>\n",
       "      <td>0.000188</td>\n",
       "      <td>0.835684</td>\n",
       "      <td>Sanidine</td>\n",
       "      <td>N/A</td>\n",
       "    </tr>\n",
       "    <tr>\n",
       "      <th>692</th>\n",
       "      <td>63.7160</td>\n",
       "      <td>0.000000</td>\n",
       "      <td>18.6734</td>\n",
       "      <td>0.000000</td>\n",
       "      <td>0.000000</td>\n",
       "      <td>0.0</td>\n",
       "      <td>0.005477</td>\n",
       "      <td>1.75034</td>\n",
       "      <td>13.79230</td>\n",
       "      <td>0.0</td>\n",
       "      <td>0.0</td>\n",
       "      <td>97.937517</td>\n",
       "      <td>Fspar</td>\n",
       "      <td>Kspar</td>\n",
       "      <td>0.161643</td>\n",
       "      <td>0.00028</td>\n",
       "      <td>0.838077</td>\n",
       "      <td>Sanidine</td>\n",
       "      <td>N/A</td>\n",
       "    </tr>\n",
       "    <tr>\n",
       "      <th>693</th>\n",
       "      <td>63.2802</td>\n",
       "      <td>0.000000</td>\n",
       "      <td>18.7136</td>\n",
       "      <td>0.000000</td>\n",
       "      <td>0.000000</td>\n",
       "      <td>0.0</td>\n",
       "      <td>0.000000</td>\n",
       "      <td>1.76903</td>\n",
       "      <td>14.00350</td>\n",
       "      <td>0.0</td>\n",
       "      <td>0.0</td>\n",
       "      <td>97.766330</td>\n",
       "      <td>Fspar</td>\n",
       "      <td>Kspar</td>\n",
       "      <td>0.161069</td>\n",
       "      <td>0.0</td>\n",
       "      <td>0.838931</td>\n",
       "      <td>Sanidine</td>\n",
       "      <td>N/A</td>\n",
       "    </tr>\n",
       "    <tr>\n",
       "      <th>694</th>\n",
       "      <td>63.7372</td>\n",
       "      <td>0.031927</td>\n",
       "      <td>18.6757</td>\n",
       "      <td>0.000000</td>\n",
       "      <td>0.000000</td>\n",
       "      <td>0.0</td>\n",
       "      <td>0.000000</td>\n",
       "      <td>1.73697</td>\n",
       "      <td>13.85760</td>\n",
       "      <td>0.0</td>\n",
       "      <td>0.0</td>\n",
       "      <td>98.039397</td>\n",
       "      <td>Fspar</td>\n",
       "      <td>Kspar</td>\n",
       "      <td>0.160016</td>\n",
       "      <td>0.0</td>\n",
       "      <td>0.839984</td>\n",
       "      <td>Sanidine</td>\n",
       "      <td>N/A</td>\n",
       "    </tr>\n",
       "    <tr>\n",
       "      <th>695</th>\n",
       "      <td>62.2358</td>\n",
       "      <td>0.000000</td>\n",
       "      <td>18.1827</td>\n",
       "      <td>0.000000</td>\n",
       "      <td>0.000000</td>\n",
       "      <td>0.0</td>\n",
       "      <td>0.000000</td>\n",
       "      <td>1.77585</td>\n",
       "      <td>13.76750</td>\n",
       "      <td>0.0</td>\n",
       "      <td>0.0</td>\n",
       "      <td>95.961850</td>\n",
       "      <td>Fspar</td>\n",
       "      <td>Kspar</td>\n",
       "      <td>0.163906</td>\n",
       "      <td>0.0</td>\n",
       "      <td>0.836094</td>\n",
       "      <td>Sanidine</td>\n",
       "      <td>N/A</td>\n",
       "    </tr>\n",
       "  </tbody>\n",
       "</table>\n",
       "<p>696 rows × 19 columns</p>\n",
       "</div>"
      ],
      "text/plain": [
       "        SiO2      TiO2    Al2O3      FeOt       MnO  MgO       CaO     Na2O  \\\n",
       "0    64.3063  0.021011  18.2247  0.161222  0.006077  0.0  0.624609  5.28518   \n",
       "1    66.0925  0.017386  18.3707  0.113386  0.000000  0.0  0.463835  5.20276   \n",
       "2    65.9092  0.015583  18.4277  0.137234  0.000000  0.0  0.516232  5.16370   \n",
       "3    66.1148  0.018833  18.5615  0.122854  0.020247  0.0  0.508770  5.23344   \n",
       "4    66.4107  0.000000  18.6387  0.091056  0.000000  0.0  0.562197  5.26987   \n",
       "..       ...       ...      ...       ...       ...  ...       ...      ...   \n",
       "691  61.6998  0.091662  18.3270  0.000000  0.000000  0.0  0.003693  1.77829   \n",
       "692  63.7160  0.000000  18.6734  0.000000  0.000000  0.0  0.005477  1.75034   \n",
       "693  63.2802  0.000000  18.7136  0.000000  0.000000  0.0  0.000000  1.76903   \n",
       "694  63.7372  0.031927  18.6757  0.000000  0.000000  0.0  0.000000  1.73697   \n",
       "695  62.2358  0.000000  18.1827  0.000000  0.000000  0.0  0.000000  1.77585   \n",
       "\n",
       "          K2O  Cr2O3  P2O5  Sum_Oxides Phase_Min_Group_ML Phase_Mineral  \\\n",
       "0     8.09002    0.0   0.0   96.719119              Fspar         Kspar   \n",
       "1     8.73465    0.0   0.0   98.995217              Fspar         Kspar   \n",
       "2     8.72313    0.0   0.0   98.892779              Fspar         Kspar   \n",
       "3     8.66407    0.0   0.0   99.244514              Fspar         Kspar   \n",
       "4     8.51813    0.0   0.0   99.490653              Fspar         Kspar   \n",
       "..        ...    ...   ...         ...                ...           ...   \n",
       "691  13.76100    0.0   0.0   95.661445              Fspar         Kspar   \n",
       "692  13.79230    0.0   0.0   97.937517              Fspar         Kspar   \n",
       "693  14.00350    0.0   0.0   97.766330              Fspar         Kspar   \n",
       "694  13.85760    0.0   0.0   98.039397              Fspar         Kspar   \n",
       "695  13.76750    0.0   0.0   95.961850              Fspar         Kspar   \n",
       "\n",
       "           Ab        An        Or Fspar_Class Ca/CaMgFe  \n",
       "0    0.482515  0.031513  0.485973    Sanidine       N/A  \n",
       "1    0.464271  0.022873  0.512855    Sanidine       N/A  \n",
       "2    0.461514  0.025497  0.512989    Sanidine       N/A  \n",
       "3    0.466631  0.025069    0.5083    Sanidine       N/A  \n",
       "4    0.471143  0.027776  0.501081    Sanidine       N/A  \n",
       "..        ...       ...       ...         ...       ...  \n",
       "691  0.164128  0.000188  0.835684    Sanidine       N/A  \n",
       "692  0.161643   0.00028  0.838077    Sanidine       N/A  \n",
       "693  0.161069       0.0  0.838931    Sanidine       N/A  \n",
       "694  0.160016       0.0  0.839984    Sanidine       N/A  \n",
       "695  0.163906       0.0  0.836094    Sanidine       N/A  \n",
       "\n",
       "[696 rows x 19 columns]"
      ]
     },
     "execution_count": 3,
     "metadata": {},
     "output_type": "execute_result"
    }
   ],
   "source": [
    "Sham=pt.classify_phases('Kspars_Shamloo.xlsx', sheet_name='alkali feldspar_with_headings', return_end_members=True,\n",
    "                        str_to_drop='_Kspar')\n",
    "Sham"
   ]
  },
  {
   "cell_type": "markdown",
   "id": "15c9d477-90c0-43cf-9861-c4979d56728d",
   "metadata": {},
   "source": [
    "## Loading machine learning model"
   ]
  },
  {
   "cell_type": "code",
   "execution_count": 2,
   "id": "4331bc43-9f90-458b-86a2-7c60c1f078a7",
   "metadata": {},
   "outputs": [],
   "source": [
    "# with open('svc_model_linear_MinClass.pkl', 'rb') as f:\n",
    "#         svc_model=load(f)\n",
    "# with open('scaler_MinClass.pkl', 'rb') as f:\n",
    "#         scaler=load(f)"
   ]
  },
  {
   "cell_type": "markdown",
   "id": "aa9d1916-f4c0-493c-94f8-af38cf0e973b",
   "metadata": {},
   "source": [
    "## Jordans Galan data"
   ]
  },
  {
   "cell_type": "code",
   "execution_count": 3,
   "id": "66cc73f8-63f6-41de-8fd4-ec9220701bcf",
   "metadata": {},
   "outputs": [],
   "source": [
    "# def classify_phases(filename, sheet_name, return_end_members=False):\n",
    "#     Excel_In=pt.import_excel(filename, sheet_name)\n",
    "#     Oxides=Excel_In['my_oxides']\n",
    "#     with open('svc_model_linear_MinClass.pkl', 'rb') as f:\n",
    "#         svc_model=load(f)\n",
    "#     with open('scaler_MinClass.pkl', 'rb') as f:\n",
    "#         scaler=load(f)  \n",
    "        \n",
    "#     # Dropping things which are often missing\n",
    "#     Oxides_dropoxides=Oxides.drop(columns=['Cr2O3', 'K2O', 'P2O5'])\n",
    "#     X_in=Oxides_dropoxides.values\n",
    "    \n",
    "#     ## This does the machine learning classification\n",
    "#     X_in_scaled= scaler.transform(X_in)\n",
    "#     svc_predictions=svc_model.predict(X_in_scaled) \n",
    "#     Oxides_out=Oxides.copy()\n",
    "#     Oxides_out['Sum_Oxides']=Oxides.sum(axis=1)\n",
    "#     Oxides_out['Phase_Min_Group_ML']=svc_predictions\n",
    "#     Oxides_out[['Phase_Min_Group_ML']]=Oxides_out[['Phase_Min_Group_ML']].replace(0, \"Amp\")    \n",
    "#     Oxides_out[['Phase_Min_Group_ML']]=Oxides_out[['Phase_Min_Group_ML']].replace(1, \"Px\")\n",
    "#     Oxides_out[['Phase_Min_Group_ML']]=Oxides_out[['Phase_Min_Group_ML']].replace(2, \"Fspar\")\n",
    "#     Oxides_out[['Phase_Min_Group_ML']]=Oxides_out[['Phase_Min_Group_ML']].replace(3, \"Ol\")\n",
    "#     Oxides_out[['Phase_Min_Group_ML']]=Oxides_out[['Phase_Min_Group_ML']].replace(4, \"Sp\")\n",
    "#     Oxides_out[['Phase_Min_Group_ML']]=Oxides_out[['Phase_Min_Group_ML']].replace(5, \"Ox\")\n",
    "\n",
    "    \n",
    "#     Oxides_out.loc[Oxides_out['Sum_Oxides']<90, 'Phase_Min_Group_ML'] = \"Not Classified - Total<90\"    \n",
    "#     Oxides_out.loc[Oxides_out['Sum_Oxides']>110, 'Phase_Min_Group_ML'] = \"Not Classified - Total>110\"\n",
    "#     Oxides_out['Phase_Mineral']=Oxides_out['Phase_Min_Group_ML']\n",
    "    \n",
    "#     #This does manual classification for feldsdpars.\n",
    "#     Fspar=Oxides_out['Phase_Min_Group_ML']==\"Fspar\" # This checks we are only doing it for felspar\n",
    "#     Oxides_Fspar=Oxides_out.add_suffix('_Plag')\n",
    "#     Fspar_components=pt.calculate_cat_fractions_plagioclase(plag_comps=Oxides_Fspar)\n",
    "#     Fspar_An=Fspar_components['An_Plag']\n",
    "#     Fspar_Ab=Fspar_components['Ab_Plag']\n",
    "#     Fspar_Or=Fspar_components['Or_Plag']  \n",
    "#     if return_end_members==True:\n",
    "#         Oxides_out['Ab']=Fspar_Ab\n",
    "#         Oxides_out.loc[Oxides_out['Phase_Min_Group_ML']!=\"Fspar\", 'Ab']=\"N/A\"\n",
    "#         Oxides_out['An']=Fspar_An\n",
    "#         Oxides_out.loc[Oxides_out['Phase_Min_Group_ML']!=\"Fspar\", 'An']=\"N/A\"\n",
    "#         Oxides_out['Or']=Fspar_Or\n",
    "#         Oxides_out.loc[Oxides_out['Phase_Min_Group_ML']!=\"Fspar\", 'Or']=\"N/A\"\n",
    "        \n",
    "#     Oxides_out.loc[( (Fspar) & (Fspar_An>0.1) & (Fspar_Or<0.1) ), 'Phase_Mineral'] = \"Plag\"    \n",
    "#     Oxides_out.loc[( (Fspar) & (Fspar_Or>0.1) & (Fspar_An<0.1)), 'Phase_Mineral'] = \"Kspar\"    \n",
    "#     Oxides_out.loc[(Fspar & (Fspar_An<0.1) &  (Fspar_Or<0.1)), 'Phase_Mineral'] = \"Albite\"      \n",
    "    \n",
    "#     Oxides_out['Fspar_Class']=Oxides_out['Phase_Min_Group_ML']\n",
    "\n",
    "#     Oxides_out.loc[( (Fspar) & (Fspar_An<0.1) &  (Fspar_Or<0.1) ), 'Fspar_Class'] = \"Albite\"                        \n",
    "#     Oxides_out.loc[( (Fspar) & (Fspar_Or.between(0.1, 0.37) ) &  (Fspar_An<0.2)), 'Fspar_Class'] = \"Anorthoclase\"                        \n",
    "#     Oxides_out.loc[( (Fspar) & (Fspar_Or>0.37) &  (Fspar_An<0.2) ), 'Fspar_Class'] = \"Sanidine\"                        \n",
    "#     Oxides_out.loc[( (Fspar) & (Fspar_An.between(0.1, 0.3)) &  (Fspar_Or<0.1) ), 'Fspar_Class'] = \"Oligoclase\"                        \n",
    "#     Oxides_out.loc[( (Fspar) & (Fspar_An.between(0.3, 0.5)) &  (Fspar_Or<0.1) ), 'Fspar_Class'] = \"Andesine\"                        \n",
    "#     Oxides_out.loc[( (Fspar) & (Fspar_An.between(0.5, 0.7)) &  (Fspar_Or<0.1) ), 'Fspar_Class'] = \"Bytownite\"                        \n",
    "#     Oxides_out.loc[( (Fspar) & (Fspar_An>0.9) &  (Fspar_Or<0.1) ), 'Fspar_Class'] = \"Anorthite\"                        \n",
    "#     Oxides_out.loc[Oxides_out['Phase_Min_Group_ML']!=\"Fspar\", 'Fspar_Class']=\"N/A\"\n",
    "    \n",
    "#     # This does Manual Classification for Pyroxenes\n",
    "#     Oxides_Pyroxenes=Oxides_out.add_suffix('_Opx')\n",
    "#     Px=Oxides_out['Phase_Min_Group_ML']==\"Px\"\n",
    "\n",
    "#     Px_components=pt.calculate_orthopyroxene_components(opx_comps=Oxides_Pyroxenes)\n",
    "#     Px_CaMgFe=Px_components['Ca_CaMgFe']\n",
    "#     Oxides_out.loc[( (Px) & (Px_CaMgFe<0.05) ), 'Phase_Mineral'] = \"Opx\"     \n",
    "#     Oxides_out.loc[( (Px) & (Px_CaMgFe.between(0.05, 0.2)) ), 'Phase_Mineral'] = \"Pig\"     \n",
    "#     Oxides_out.loc[( (Px) & (Px_CaMgFe>0.2) ), 'Phase_Mineral'] = \"Cpx\" \n",
    "#     if return_end_members==True:\n",
    "#         Oxides_out['Ca/CaMgFe Px']=Px_CaMgFe\n",
    "#         Oxides_out.loc[Oxides_out['Phase_Min_Group_ML']!=\"Px\", 'Ca/CaMgFe']=\"N/A\"    \n",
    "\n",
    "#     # This does manual classification for amphiboles, based on Leake (1997)\n",
    "    \n",
    "    \n",
    "#     return Oxides_out"
   ]
  },
  {
   "cell_type": "code",
   "execution_count": 4,
   "id": "23c72125-a4f6-4faf-8481-61a1db281c18",
   "metadata": {},
   "outputs": [
    {
     "data": {
      "text/html": [
       "<div>\n",
       "<style scoped>\n",
       "    .dataframe tbody tr th:only-of-type {\n",
       "        vertical-align: middle;\n",
       "    }\n",
       "\n",
       "    .dataframe tbody tr th {\n",
       "        vertical-align: top;\n",
       "    }\n",
       "\n",
       "    .dataframe thead th {\n",
       "        text-align: right;\n",
       "    }\n",
       "</style>\n",
       "<table border=\"1\" class=\"dataframe\">\n",
       "  <thead>\n",
       "    <tr style=\"text-align: right;\">\n",
       "      <th></th>\n",
       "      <th>SiO2</th>\n",
       "      <th>TiO2</th>\n",
       "      <th>Al2O3</th>\n",
       "      <th>FeOt</th>\n",
       "      <th>MnO</th>\n",
       "      <th>MgO</th>\n",
       "      <th>CaO</th>\n",
       "      <th>Na2O</th>\n",
       "      <th>K2O</th>\n",
       "      <th>Cr2O3</th>\n",
       "      <th>P2O5</th>\n",
       "      <th>Sum_Oxides</th>\n",
       "      <th>Phase_Min_Group_ML</th>\n",
       "      <th>Phase_Mineral</th>\n",
       "      <th>Ab</th>\n",
       "      <th>An</th>\n",
       "      <th>Or</th>\n",
       "      <th>Fspar_Class</th>\n",
       "      <th>Ca/CaMgFe Px</th>\n",
       "      <th>Ca/CaMgFe</th>\n",
       "    </tr>\n",
       "  </thead>\n",
       "  <tbody>\n",
       "    <tr>\n",
       "      <th>0</th>\n",
       "      <td>54.222949</td>\n",
       "      <td>0.005338</td>\n",
       "      <td>29.043135</td>\n",
       "      <td>0.0</td>\n",
       "      <td>0.0</td>\n",
       "      <td>0.000000</td>\n",
       "      <td>11.338169</td>\n",
       "      <td>4.641997</td>\n",
       "      <td>0.274048</td>\n",
       "      <td>0.0</td>\n",
       "      <td>0.0</td>\n",
       "      <td>99.525636</td>\n",
       "      <td>Fspar</td>\n",
       "      <td>Plag</td>\n",
       "      <td>0.41865</td>\n",
       "      <td>0.565087</td>\n",
       "      <td>0.016262</td>\n",
       "      <td>Bytownite</td>\n",
       "      <td>1.000000</td>\n",
       "      <td>N/A</td>\n",
       "    </tr>\n",
       "    <tr>\n",
       "      <th>1</th>\n",
       "      <td>59.963641</td>\n",
       "      <td>0.002335</td>\n",
       "      <td>24.441535</td>\n",
       "      <td>0.0</td>\n",
       "      <td>0.0</td>\n",
       "      <td>0.000000</td>\n",
       "      <td>5.982782</td>\n",
       "      <td>7.207719</td>\n",
       "      <td>0.824191</td>\n",
       "      <td>0.0</td>\n",
       "      <td>0.0</td>\n",
       "      <td>98.422204</td>\n",
       "      <td>Fspar</td>\n",
       "      <td>Plag</td>\n",
       "      <td>0.651915</td>\n",
       "      <td>0.299035</td>\n",
       "      <td>0.049049</td>\n",
       "      <td>Oligoclase</td>\n",
       "      <td>1.000000</td>\n",
       "      <td>N/A</td>\n",
       "    </tr>\n",
       "    <tr>\n",
       "      <th>2</th>\n",
       "      <td>58.288756</td>\n",
       "      <td>0.008007</td>\n",
       "      <td>25.793447</td>\n",
       "      <td>0.0</td>\n",
       "      <td>0.0</td>\n",
       "      <td>0.002487</td>\n",
       "      <td>7.559945</td>\n",
       "      <td>6.370226</td>\n",
       "      <td>0.585679</td>\n",
       "      <td>0.0</td>\n",
       "      <td>0.0</td>\n",
       "      <td>98.608547</td>\n",
       "      <td>Fspar</td>\n",
       "      <td>Plag</td>\n",
       "      <td>0.582641</td>\n",
       "      <td>0.382112</td>\n",
       "      <td>0.035247</td>\n",
       "      <td>Andesine</td>\n",
       "      <td>0.999542</td>\n",
       "      <td>N/A</td>\n",
       "    </tr>\n",
       "    <tr>\n",
       "      <th>3</th>\n",
       "      <td>60.637746</td>\n",
       "      <td>0.011176</td>\n",
       "      <td>24.388819</td>\n",
       "      <td>0.0</td>\n",
       "      <td>0.0</td>\n",
       "      <td>0.000000</td>\n",
       "      <td>5.920378</td>\n",
       "      <td>7.319465</td>\n",
       "      <td>0.829852</td>\n",
       "      <td>0.0</td>\n",
       "      <td>0.0</td>\n",
       "      <td>99.107437</td>\n",
       "      <td>Fspar</td>\n",
       "      <td>Plag</td>\n",
       "      <td>0.657208</td>\n",
       "      <td>0.293764</td>\n",
       "      <td>0.049027</td>\n",
       "      <td>Oligoclase</td>\n",
       "      <td>1.000000</td>\n",
       "      <td>N/A</td>\n",
       "    </tr>\n",
       "    <tr>\n",
       "      <th>4</th>\n",
       "      <td>59.899248</td>\n",
       "      <td>0.002168</td>\n",
       "      <td>24.970396</td>\n",
       "      <td>0.0</td>\n",
       "      <td>0.0</td>\n",
       "      <td>0.003317</td>\n",
       "      <td>6.479214</td>\n",
       "      <td>7.045423</td>\n",
       "      <td>0.821902</td>\n",
       "      <td>0.0</td>\n",
       "      <td>0.0</td>\n",
       "      <td>99.221668</td>\n",
       "      <td>Fspar</td>\n",
       "      <td>Plag</td>\n",
       "      <td>0.630928</td>\n",
       "      <td>0.320643</td>\n",
       "      <td>0.048429</td>\n",
       "      <td>Andesine</td>\n",
       "      <td>0.999288</td>\n",
       "      <td>N/A</td>\n",
       "    </tr>\n",
       "    <tr>\n",
       "      <th>...</th>\n",
       "      <td>...</td>\n",
       "      <td>...</td>\n",
       "      <td>...</td>\n",
       "      <td>...</td>\n",
       "      <td>...</td>\n",
       "      <td>...</td>\n",
       "      <td>...</td>\n",
       "      <td>...</td>\n",
       "      <td>...</td>\n",
       "      <td>...</td>\n",
       "      <td>...</td>\n",
       "      <td>...</td>\n",
       "      <td>...</td>\n",
       "      <td>...</td>\n",
       "      <td>...</td>\n",
       "      <td>...</td>\n",
       "      <td>...</td>\n",
       "      <td>...</td>\n",
       "      <td>...</td>\n",
       "      <td>...</td>\n",
       "    </tr>\n",
       "    <tr>\n",
       "      <th>63</th>\n",
       "      <td>56.011434</td>\n",
       "      <td>0.008841</td>\n",
       "      <td>28.368219</td>\n",
       "      <td>0.0</td>\n",
       "      <td>0.0</td>\n",
       "      <td>0.000000</td>\n",
       "      <td>10.380706</td>\n",
       "      <td>5.206391</td>\n",
       "      <td>0.374873</td>\n",
       "      <td>0.0</td>\n",
       "      <td>0.0</td>\n",
       "      <td>100.350462</td>\n",
       "      <td>Fspar</td>\n",
       "      <td>Plag</td>\n",
       "      <td>0.465287</td>\n",
       "      <td>0.512669</td>\n",
       "      <td>0.022043</td>\n",
       "      <td>Bytownite</td>\n",
       "      <td>1.000000</td>\n",
       "      <td>N/A</td>\n",
       "    </tr>\n",
       "    <tr>\n",
       "      <th>64</th>\n",
       "      <td>55.733320</td>\n",
       "      <td>0.017181</td>\n",
       "      <td>28.509362</td>\n",
       "      <td>0.0</td>\n",
       "      <td>0.0</td>\n",
       "      <td>0.000000</td>\n",
       "      <td>10.483965</td>\n",
       "      <td>5.079817</td>\n",
       "      <td>0.329821</td>\n",
       "      <td>0.0</td>\n",
       "      <td>0.0</td>\n",
       "      <td>100.153465</td>\n",
       "      <td>Fspar</td>\n",
       "      <td>Plag</td>\n",
       "      <td>0.458034</td>\n",
       "      <td>0.522398</td>\n",
       "      <td>0.019568</td>\n",
       "      <td>Bytownite</td>\n",
       "      <td>1.000000</td>\n",
       "      <td>N/A</td>\n",
       "    </tr>\n",
       "    <tr>\n",
       "      <th>65</th>\n",
       "      <td>57.974915</td>\n",
       "      <td>0.007506</td>\n",
       "      <td>26.091037</td>\n",
       "      <td>0.0</td>\n",
       "      <td>0.0</td>\n",
       "      <td>0.003317</td>\n",
       "      <td>8.265415</td>\n",
       "      <td>6.035661</td>\n",
       "      <td>0.508343</td>\n",
       "      <td>0.0</td>\n",
       "      <td>0.0</td>\n",
       "      <td>98.886194</td>\n",
       "      <td>Fspar</td>\n",
       "      <td>Plag</td>\n",
       "      <td>0.551818</td>\n",
       "      <td>0.417601</td>\n",
       "      <td>0.03058</td>\n",
       "      <td>Andesine</td>\n",
       "      <td>0.999442</td>\n",
       "      <td>N/A</td>\n",
       "    </tr>\n",
       "    <tr>\n",
       "      <th>66</th>\n",
       "      <td>61.291313</td>\n",
       "      <td>0.002836</td>\n",
       "      <td>24.551502</td>\n",
       "      <td>0.0</td>\n",
       "      <td>0.0</td>\n",
       "      <td>0.000663</td>\n",
       "      <td>6.235615</td>\n",
       "      <td>7.065373</td>\n",
       "      <td>0.758299</td>\n",
       "      <td>0.0</td>\n",
       "      <td>0.0</td>\n",
       "      <td>99.905601</td>\n",
       "      <td>Fspar</td>\n",
       "      <td>Plag</td>\n",
       "      <td>0.641709</td>\n",
       "      <td>0.312974</td>\n",
       "      <td>0.045316</td>\n",
       "      <td>Andesine</td>\n",
       "      <td>0.999852</td>\n",
       "      <td>N/A</td>\n",
       "    </tr>\n",
       "    <tr>\n",
       "      <th>67</th>\n",
       "      <td>59.138286</td>\n",
       "      <td>0.000500</td>\n",
       "      <td>25.830291</td>\n",
       "      <td>0.0</td>\n",
       "      <td>0.0</td>\n",
       "      <td>0.000000</td>\n",
       "      <td>7.599542</td>\n",
       "      <td>6.372518</td>\n",
       "      <td>0.593870</td>\n",
       "      <td>0.0</td>\n",
       "      <td>0.0</td>\n",
       "      <td>99.535008</td>\n",
       "      <td>Fspar</td>\n",
       "      <td>Plag</td>\n",
       "      <td>0.581279</td>\n",
       "      <td>0.383078</td>\n",
       "      <td>0.035643</td>\n",
       "      <td>Andesine</td>\n",
       "      <td>1.000000</td>\n",
       "      <td>N/A</td>\n",
       "    </tr>\n",
       "  </tbody>\n",
       "</table>\n",
       "<p>68 rows × 20 columns</p>\n",
       "</div>"
      ],
      "text/plain": [
       "         SiO2      TiO2      Al2O3  FeOt  MnO       MgO        CaO      Na2O  \\\n",
       "0   54.222949  0.005338  29.043135   0.0  0.0  0.000000  11.338169  4.641997   \n",
       "1   59.963641  0.002335  24.441535   0.0  0.0  0.000000   5.982782  7.207719   \n",
       "2   58.288756  0.008007  25.793447   0.0  0.0  0.002487   7.559945  6.370226   \n",
       "3   60.637746  0.011176  24.388819   0.0  0.0  0.000000   5.920378  7.319465   \n",
       "4   59.899248  0.002168  24.970396   0.0  0.0  0.003317   6.479214  7.045423   \n",
       "..        ...       ...        ...   ...  ...       ...        ...       ...   \n",
       "63  56.011434  0.008841  28.368219   0.0  0.0  0.000000  10.380706  5.206391   \n",
       "64  55.733320  0.017181  28.509362   0.0  0.0  0.000000  10.483965  5.079817   \n",
       "65  57.974915  0.007506  26.091037   0.0  0.0  0.003317   8.265415  6.035661   \n",
       "66  61.291313  0.002836  24.551502   0.0  0.0  0.000663   6.235615  7.065373   \n",
       "67  59.138286  0.000500  25.830291   0.0  0.0  0.000000   7.599542  6.372518   \n",
       "\n",
       "         K2O  Cr2O3  P2O5  Sum_Oxides Phase_Min_Group_ML Phase_Mineral  \\\n",
       "0   0.274048    0.0   0.0   99.525636              Fspar          Plag   \n",
       "1   0.824191    0.0   0.0   98.422204              Fspar          Plag   \n",
       "2   0.585679    0.0   0.0   98.608547              Fspar          Plag   \n",
       "3   0.829852    0.0   0.0   99.107437              Fspar          Plag   \n",
       "4   0.821902    0.0   0.0   99.221668              Fspar          Plag   \n",
       "..       ...    ...   ...         ...                ...           ...   \n",
       "63  0.374873    0.0   0.0  100.350462              Fspar          Plag   \n",
       "64  0.329821    0.0   0.0  100.153465              Fspar          Plag   \n",
       "65  0.508343    0.0   0.0   98.886194              Fspar          Plag   \n",
       "66  0.758299    0.0   0.0   99.905601              Fspar          Plag   \n",
       "67  0.593870    0.0   0.0   99.535008              Fspar          Plag   \n",
       "\n",
       "          Ab        An        Or Fspar_Class  Ca/CaMgFe Px Ca/CaMgFe  \n",
       "0    0.41865  0.565087  0.016262   Bytownite      1.000000       N/A  \n",
       "1   0.651915  0.299035  0.049049  Oligoclase      1.000000       N/A  \n",
       "2   0.582641  0.382112  0.035247    Andesine      0.999542       N/A  \n",
       "3   0.657208  0.293764  0.049027  Oligoclase      1.000000       N/A  \n",
       "4   0.630928  0.320643  0.048429    Andesine      0.999288       N/A  \n",
       "..       ...       ...       ...         ...           ...       ...  \n",
       "63  0.465287  0.512669  0.022043   Bytownite      1.000000       N/A  \n",
       "64  0.458034  0.522398  0.019568   Bytownite      1.000000       N/A  \n",
       "65  0.551818  0.417601   0.03058    Andesine      0.999442       N/A  \n",
       "66  0.641709  0.312974  0.045316    Andesine      0.999852       N/A  \n",
       "67  0.581279  0.383078  0.035643    Andesine      1.000000       N/A  \n",
       "\n",
       "[68 rows x 20 columns]"
      ]
     },
     "execution_count": 4,
     "metadata": {},
     "output_type": "execute_result"
    }
   ],
   "source": [
    "Galan=pt.classify_phases('Galan_plag_oxides.xlsx', sheet_name='oxides', return_end_members=True)\n",
    "Galan"
   ]
  },
  {
   "cell_type": "code",
   "execution_count": null,
   "id": "ab2689d3-c621-43db-882f-5f177f2578fb",
   "metadata": {},
   "outputs": [],
   "source": [
    "Galan=classify_phases('CT_sanidine_supplementary_data.xlsx', sheet_name='EPMA analyses', return_end_members=True)\n",
    "sum(Galan['Fspar_Class']!=\"Sanidine\")\n"
   ]
  },
  {
   "cell_type": "code",
   "execution_count": null,
   "id": "0afe90c9-f966-4b8c-9a3a-4447d21008e6",
   "metadata": {},
   "outputs": [],
   "source": [
    "## Importing Hannas data\n",
    "Hannah=classify_phases('KSpars_Shamloo.xlsx', sheet_name='alkali feldspar', return_end_members=True)\n",
    "sum(Hannah['Fspar_Class']!=\"Sanidine\")"
   ]
  },
  {
   "cell_type": "code",
   "execution_count": null,
   "id": "1b344f1d-dfa0-4f40-a5b7-1fafcbc3dcf3",
   "metadata": {},
   "outputs": [],
   "source": [
    "Hannah.loc[Hannah['Fspar_Class']!=\"Sanidine\"]"
   ]
  },
  {
   "cell_type": "markdown",
   "id": "4c9220e4-291d-45bb-ae76-92ea92a5b3f5",
   "metadata": {},
   "source": [
    "## Importing Jordans data"
   ]
  },
  {
   "cell_type": "code",
   "execution_count": null,
   "id": "4df37c7b-17b5-4938-b82c-a39fff7c1408",
   "metadata": {},
   "outputs": [],
   "source": [
    "classify_phases('Toba_master_spots.xlsx', sheet_name='plagioclase', return_end_members=True)"
   ]
  },
  {
   "cell_type": "code",
   "execution_count": null,
   "id": "6b9a12e3-3e12-4c79-818d-aa919d49d39a",
   "metadata": {},
   "outputs": [],
   "source": [
    "Jordan_Plag_in=pt.import_excel('Toba_master_spots.xlsx', sheet_name='plagioclase')\n",
    "Jordan_Plag_in"
   ]
  },
  {
   "cell_type": "code",
   "execution_count": null,
   "id": "e588c0e9-85ff-4399-8d1b-d63140dd39a7",
   "metadata": {},
   "outputs": [],
   "source": [
    "Jordan_Plag_Ox_noclass=Jordan_Plag_Ox.drop(columns=['Cr2O3', 'K2O', 'P2O5'])"
   ]
  },
  {
   "cell_type": "code",
   "execution_count": null,
   "id": "c78595b5-d72f-4a87-bd64-d6d9c6840fe7",
   "metadata": {},
   "outputs": [],
   "source": [
    "Jordan_Plag_Ox_noclass"
   ]
  },
  {
   "cell_type": "code",
   "execution_count": null,
   "id": "c1eb1605-1106-447d-a36e-649cf5c0aa7c",
   "metadata": {},
   "outputs": [],
   "source": [
    "X_Jordan_Plag=Jordan_Plag_Ox_noclass.values\n",
    "X_Jordan_Plag_scaled= scaler.transform(X_Jordan_Plag)\n",
    "svc_predictions_Jordan_Plag=svc_model.predict(X_Jordan_Plag_scaled)"
   ]
  },
  {
   "cell_type": "code",
   "execution_count": null,
   "id": "5cb5e81f-c8c3-4ec7-ba59-19647e706703",
   "metadata": {},
   "outputs": [],
   "source": [
    "Jordan_Plag_Ox_noclass['Phase']=svc_predictions_Jordan_Plag"
   ]
  },
  {
   "cell_type": "code",
   "execution_count": null,
   "id": "a61ec936-e2d5-4ec1-b4b4-3947274dfbf4",
   "metadata": {},
   "outputs": [],
   "source": [
    "Jordan_Plag_Ox_noclass[['Phase']]=Jordan_Plag_Ox_noclass[['Phase']].replace(2, \"Fspar\")"
   ]
  },
  {
   "cell_type": "code",
   "execution_count": null,
   "id": "71fef966-a683-477b-a89a-fe1ca51ea414",
   "metadata": {},
   "outputs": [],
   "source": [
    "Jordan_Plag_Ox_noclass[['Phase']]"
   ]
  },
  {
   "cell_type": "code",
   "execution_count": null,
   "id": "fd473695-e2e3-4315-b8e9-2580557d1490",
   "metadata": {},
   "outputs": [],
   "source": [
    "notPlag=Jordan_Plag_Ox_noclass['Phase']!=2"
   ]
  },
  {
   "cell_type": "code",
   "execution_count": null,
   "id": "3d736f44-e50c-4061-b35d-3afefde517e6",
   "metadata": {},
   "outputs": [],
   "source": [
    "Jordan_Plag_Ox_noclass.loc[notPlag]"
   ]
  },
  {
   "cell_type": "code",
   "execution_count": null,
   "id": "2155b1b3-8bda-460f-8798-1a58d1ba1017",
   "metadata": {},
   "outputs": [],
   "source": []
  },
  {
   "cell_type": "code",
   "execution_count": null,
   "id": "f370c63b-539c-4735-9c8d-e3ecf1df8c23",
   "metadata": {},
   "outputs": [],
   "source": [
    "Oxides_out=classify_phases('Toba_master_spots.xlsx', sheet_name='inclusions')"
   ]
  },
  {
   "cell_type": "code",
   "execution_count": null,
   "id": "1f1a7991-722e-4b32-b834-978d6d61fc73",
   "metadata": {},
   "outputs": [],
   "source": [
    "Oxides_Amphiboles=Oxides_out.add_suffix('_Amp')\n",
    "amp_sites=pt.get_amp_sites_from_input(amp_comps=Oxides_Amphiboles)\n",
    "amp_cations=pt.calculate_23oxygens_amphibole(amp_comps=Oxides_Amphiboles)\n",
    "ferric_ferrous=pt.amp_components_ferric_ferrous(amp_sites, amp_cations)\n",
    "plt.plot(ferric_ferrous['SiO2'], ferric_ferrous['MgO']/(ferric_ferrous['MgO']+ferric_ferrous['FeO']), '.k', label='AfterFe re-adjust')\n",
    "plt.plot(amp_cations['SiO2_Amp_cat_23ox'], amp_cations['MgO_Amp_cat_23ox']\n",
    "         /(amp_cations['MgO_Amp_cat_23ox']+ferric_ferrous['FeO']), '.r', label='Si, Mg, Fe 23ox, FeO from re-adjust')\n",
    "plt.plot(amp_cations['SiO2_Amp_cat_23ox'], amp_cations['MgO_Amp_cat_23ox']/\n",
    "         (amp_cations['MgO_Amp_cat_23ox']+amp_cations['FeOt_Amp_cat_23ox']), '.b', label='Si, Mg, FeOt, 23ox')\n",
    "plt.legend()\n",
    "plt.xlabel('Si')\n",
    "plt.ylabel('Mg/Mg+Fe')"
   ]
  },
  {
   "cell_type": "code",
   "execution_count": null,
   "id": "3e17fab2-6344-4da5-9f30-5135a4a6b1f5",
   "metadata": {},
   "outputs": [],
   "source": [
    "amp_cations"
   ]
  },
  {
   "cell_type": "code",
   "execution_count": null,
   "id": "720b3abd-372b-4557-b9b5-6befd03be7ea",
   "metadata": {},
   "outputs": [],
   "source": [
    "ferric_ferrous"
   ]
  },
  {
   "cell_type": "code",
   "execution_count": null,
   "id": "42be08d1-3bf1-4058-a4c5-9862f05c3105",
   "metadata": {},
   "outputs": [],
   "source": [
    "plt.plot(amp_sites['Si_T']"
   ]
  },
  {
   "cell_type": "code",
   "execution_count": null,
   "id": "7a53d6ea-3662-4bac-aa7f-f1848fe367b5",
   "metadata": {},
   "outputs": [],
   "source": [
    "Jordan_Class_inc=classify_phases('Toba_master_spots.xlsx', sheet_name='inclusions')\n",
    "Jordan_Class_inc"
   ]
  },
  {
   "cell_type": "code",
   "execution_count": null,
   "id": "ad09a37c-67ee-4aa2-93b1-81349cbf2b26",
   "metadata": {},
   "outputs": [],
   "source": [
    "Oxides_out=Jordan_Class_inc\n",
    "Px=Oxides_out['Phase_Min_Group_ML']==\"Px\"\n",
    "Px"
   ]
  },
  {
   "cell_type": "code",
   "execution_count": null,
   "id": "610f74ac-11d5-4e39-9681-61d542e2aede",
   "metadata": {},
   "outputs": [],
   "source": [
    "Jordan_Class_Plag=classify_phases('Toba_master_spots.xlsx', sheet_name='plagioclase')\n",
    "sum(Jordan_Class_Plag['Phase_Min_Group_ML'] !=\"Fspar\")\n",
    "# Empty row\n",
    "Jordan_Class_Plag.to_clipboard(excel=True)"
   ]
  },
  {
   "cell_type": "code",
   "execution_count": null,
   "id": "5b9ea2c6-b9b0-4d8f-bd9b-57f0f0358b1a",
   "metadata": {},
   "outputs": [],
   "source": [
    "Jordan_Class_inc=classify_phases('Toba_master_spots.xlsx', sheet_name='inclusions')\n",
    "Jordan_Class_inc.to_clipboard(excel=True)"
   ]
  },
  {
   "cell_type": "code",
   "execution_count": null,
   "id": "caa213d3-23a5-48eb-ba25-53274b31c073",
   "metadata": {},
   "outputs": [],
   "source": [
    "df=Jordan_Class_inc\n",
    "df.loc[df['Sum_Oxides']<90, 'Phase_Min_Group_ML'] = \"Not Classified - Low Total\""
   ]
  },
  {
   "cell_type": "code",
   "execution_count": null,
   "id": "dab2380a-9cd7-4170-9aa0-32ee5dd1be6e",
   "metadata": {},
   "outputs": [],
   "source": [
    "df"
   ]
  },
  {
   "cell_type": "code",
   "execution_count": null,
   "id": "05160db6-0d27-4ec2-a889-ce04277eeada",
   "metadata": {},
   "outputs": [],
   "source": [
    "Jordan_Class_Amp=classify_phases('Toba_master_spots.xlsx', sheet_name='amphibole')\n",
    "sum(Jordan_Class_Amp['Phase_Min_Group_ML'] !=\"Amp\")\n",
    "# Empty row"
   ]
  },
  {
   "cell_type": "code",
   "execution_count": null,
   "id": "3c45fa49-85ea-43ce-9b34-6ddcd8c47362",
   "metadata": {},
   "outputs": [],
   "source": [
    "Jordan_Class_inc=classify_phases('Toba_master_spots.xlsx', sheet_name='inclusions')\n",
    "Jordan_Class_inc.to_clipboard(excel=True)"
   ]
  },
  {
   "cell_type": "code",
   "execution_count": null,
   "id": "8ca20516-ce0b-4f95-aa44-6d7c5a5595f8",
   "metadata": {},
   "outputs": [],
   "source": [
    "Jordan_Class_inc"
   ]
  },
  {
   "cell_type": "markdown",
   "id": "1257b0a2-a00e-4d98-ba20-af08405eb85b",
   "metadata": {},
   "source": [
    "## Importing data for Amp (Phase=0)"
   ]
  },
  {
   "cell_type": "code",
   "execution_count": null,
   "id": "9e3d8250-0a4d-44b9-919e-ae21c7e4f830",
   "metadata": {},
   "outputs": [],
   "source": [
    "import warnings as w\n",
    "with w.catch_warnings():\n",
    "    w.simplefilter('ignore')\n",
    "    LEPR_Amp_in=pt.import_excel('MachineLearning_MinClass.xlsx', sheet_name=\"Amp\")\n",
    "    LEPR_Amp_PreFilt=LEPR_Amp_in['Amps']\n",
    "LEPR_Amp_Sums=pt.calculate_23oxygens_amphibole(amp_comps=LEPR_Amp_PreFilt).cation_sum_All\n",
    "LEPR_Amp=LEPR_Amp_PreFilt.loc[LEPR_Amp_Sums.between(15.5, 16)]\n",
    "LEPR_Amp_nosuf=LEPR_Amp.copy()\n",
    "LEPR_Amp_nosuf.drop(columns=['F_Amp', 'Cl_Amp'], inplace=True)\n",
    "LEPR_Amp_nosuf.columns = [col.replace('_Amp', '') for col in LEPR_Amp_nosuf.columns]\n",
    "LEPR_Amp_nosuf['Phase']=0"
   ]
  },
  {
   "cell_type": "markdown",
   "id": "008b034a-f004-4b06-aa67-9ee3aa3d51af",
   "metadata": {},
   "source": [
    "## Importing data Cpx (phase=1)"
   ]
  },
  {
   "cell_type": "code",
   "execution_count": null,
   "id": "a8d4fcdf-5aaa-46b4-a060-701a01ddfcda",
   "metadata": {},
   "outputs": [],
   "source": [
    "import warnings as w\n",
    "with w.catch_warnings():\n",
    "    w.simplefilter('ignore')\n",
    "    LEPR_Cpx_in=pt.import_excel('MachineLearning_MinClass.xlsx', sheet_name=\"Cpx\")\n",
    "    LEPR_px_input=LEPR_Cpx_in['my_input']\n",
    "    LEPR_Cpx_PreFilt=LEPR_Cpx_in['Cpxs']\n",
    "\n",
    "LEPR_Cpx_cs=pt.calculate_clinopyroxene_components(cpx_comps=LEPR_Cpx_PreFilt)\n",
    "LEPR_Cpx_Sums=LEPR_Cpx_cs.Cation_Sum_Cpx\n",
    "LEPR_CaCaMgFe=LEPR_Cpx_cs.Ca_CaMgFe\n",
    "LEPR_Cpx=LEPR_Cpx_PreFilt.loc[(LEPR_Cpx_Sums.between(a, b))]\n",
    "LEPR_Cpx_nosuf=LEPR_Cpx.copy()\n",
    "LEPR_Cpx_nosuf.columns = [col.replace('_Cpx', '') for col in LEPR_Cpx_nosuf.columns]\n",
    "LEPR_Cpx_nosuf['Phase']=1\n"
   ]
  },
  {
   "cell_type": "markdown",
   "id": "4e664f96-22d6-4c39-8e3c-b02b7452fba2",
   "metadata": {},
   "source": [
    "## Importing data Opx (Phase=1)"
   ]
  },
  {
   "cell_type": "code",
   "execution_count": null,
   "id": "54c77893-cc70-462b-a3d0-419b00db9194",
   "metadata": {},
   "outputs": [],
   "source": [
    "import warnings as w\n",
    "with w.catch_warnings():\n",
    "    w.simplefilter('ignore')    \n",
    "    LEPR_Opx_in=pt.import_excel('MachineLearning_MinClass.xlsx', sheet_name=\"Opx\")\n",
    "    LEPR_px_input=LEPR_Opx_in['my_input']\n",
    "    LEPR_Opx_PreFilt=LEPR_Opx_in['Opxs']\n",
    "\n",
    "LEPR_Opx_cs=pt.calculate_orthopyroxene_components(opx_comps=LEPR_Opx_PreFilt)\n",
    "LEPR_Opx_Sums=LEPR_Opx_cs.Cation_Sum_Opx\n",
    "LEPR_CaCaMgFe=LEPR_Opx_cs.Ca_CaMgFe\n",
    "\n",
    "\n",
    "LEPR_Opx=LEPR_Opx_PreFilt.loc[(LEPR_Opx_Sums.between(a, b)) ]\n",
    "\n",
    "\n",
    "LEPR_Opx_nosuf=LEPR_Opx.copy()\n",
    "LEPR_Opx_nosuf.columns = [col.replace('_Opx', '') for col in LEPR_Opx_nosuf.columns]\n",
    "\n",
    "LEPR_Opx_nosuf['Phase']=1"
   ]
  },
  {
   "cell_type": "markdown",
   "id": "ed2a20bd-2943-43e4-b3e8-2d4b5ab54b90",
   "metadata": {},
   "source": [
    "## Importing data for Plag (Phase=2)"
   ]
  },
  {
   "cell_type": "code",
   "execution_count": null,
   "id": "046bd54e-b3b2-4ba6-8835-55d12e5a3f3a",
   "metadata": {},
   "outputs": [],
   "source": [
    "import warnings as w\n",
    "with w.catch_warnings():\n",
    "    w.simplefilter('ignore')    \n",
    "    LEPR_Plag_in=pt.import_excel('MachineLearning_MinClass.xlsx', sheet_name=\"Plag\")\n",
    "    LEPR_px_input=LEPR_Plag_in['my_input']\n",
    "    LEPR_Plag_PreFilt=LEPR_Plag_in['Plags']\n",
    "\n",
    "\n",
    "LEPR_Plag=LEPR_Plag_PreFilt\n",
    "\n",
    "\n",
    "LEPR_Plag_nosuf=LEPR_Plag.copy()\n",
    "LEPR_Plag_nosuf.columns = [col.replace('_Plag', '') for col in LEPR_Plag_nosuf.columns]\n",
    "\n",
    "\n",
    "LEPR_Plag_nosuf['Phase']=2"
   ]
  },
  {
   "cell_type": "markdown",
   "id": "3f79a4f2-ce70-4140-aaf9-f468e30a0036",
   "metadata": {},
   "source": [
    "## Importing data for olivine (Phase = 3)"
   ]
  },
  {
   "cell_type": "code",
   "execution_count": null,
   "id": "bc2f5fa0-1e66-4f86-bc3b-11811a3ad17d",
   "metadata": {},
   "outputs": [],
   "source": [
    "import warnings as w\n",
    "with w.catch_warnings():\n",
    "    w.simplefilter('ignore')    \n",
    "    LEPR_Ol_in=pt.import_excel('MachineLearning_MinClass.xlsx', sheet_name=\"Ol\")\n",
    "    LEPR_px_input=LEPR_Ol_in['my_input']\n",
    "    LEPR_Ol_PreFilt=LEPR_Ol_in['Ols']\n",
    "\n",
    "\n",
    "LEPR_Ol=LEPR_Ol_PreFilt\n",
    "\n",
    "\n",
    "LEPR_Ol_nosuf=LEPR_Ol.copy()\n",
    "LEPR_Ol_nosuf.columns = [col.replace('_Ol', '') for col in LEPR_Ol_nosuf.columns]\n",
    "\n",
    "LEPR_Ol_nosuf['Phase']=3"
   ]
  },
  {
   "cell_type": "markdown",
   "id": "7a05badf-5718-43ad-9e18-4691c2c628c9",
   "metadata": {},
   "source": [
    "## Importing Spinel data (Phase = 4)"
   ]
  },
  {
   "cell_type": "code",
   "execution_count": null,
   "id": "308a4497-6b9d-4f8c-a499-cb1179951700",
   "metadata": {},
   "outputs": [],
   "source": [
    "import warnings as w\n",
    "with w.catch_warnings():\n",
    "    w.simplefilter('ignore')\n",
    "    LEPR_Sp_in=pt.import_excel('MachineLearning_MinClass.xlsx', sheet_name=\"Cr_Sp\")\n",
    "    LEPR_Sp_input=LEPR_Sp_in['my_input']\n",
    "    LEPR_Sp_PreFilt=LEPR_Sp_in['Sps']\n",
    "\n",
    "LEPR_Sp=LEPR_Sp_PreFilt\n",
    "LEPR_Sp_nosuf=LEPR_Sp.copy()\n",
    "LEPR_Sp_nosuf.columns = [col.replace('_Sp', '') for col in LEPR_Sp_nosuf.columns]\n",
    "LEPR_Sp_nosuf['Phase']=4\n"
   ]
  },
  {
   "cell_type": "markdown",
   "id": "d61e1e7e-90d3-4901-80c1-f0c457521afe",
   "metadata": {},
   "source": [
    "## Importing Oxide, phase = 5"
   ]
  },
  {
   "cell_type": "code",
   "execution_count": null,
   "id": "b8541f7d-cd0a-40cd-b4e6-ca72daaaad16",
   "metadata": {},
   "outputs": [],
   "source": [
    "import warnings as w\n",
    "with w.catch_warnings():\n",
    "    w.simplefilter('ignore')\n",
    "    LEPR_Ox_in=pt.import_excel('MachineLearning_MinClass.xlsx', sheet_name=\"Oxide\")\n",
    "    LEPR_Ox_input=LEPR_Ox_in['my_input']\n",
    "    LEPR_Ox_PreFilt=LEPR_Ox_in['Sps']\n",
    "\n",
    "\n",
    "LEPR_Ox=LEPR_Ox_PreFilt\n",
    "\n",
    "LEPR_Ox_nosuf=LEPR_Ox.copy()\n",
    "LEPR_Ox_nosuf.columns = [col.replace('_Sp', '') for col in LEPR_Ox_nosuf.columns]\n",
    "LEPR_Ox_nosuf['Phase']=5\n"
   ]
  },
  {
   "cell_type": "markdown",
   "id": "3a8febff-704b-47c3-9cac-d3f4021eda21",
   "metadata": {},
   "source": [
    "## Alk Feldspar Phase = 2"
   ]
  },
  {
   "cell_type": "code",
   "execution_count": null,
   "id": "e962dc7a-bcfd-43b6-978c-91df9ba9469e",
   "metadata": {},
   "outputs": [],
   "source": [
    "import warnings as w\n",
    "with w.catch_warnings():\n",
    "    w.simplefilter('ignore')    \n",
    "    LEPR_Kspar_in=pt.import_excel('MachineLearning_MinClass.xlsx', sheet_name=\"Kspar\")\n",
    "    LEPR_px_input=LEPR_Kspar_in['my_input']\n",
    "    LEPR_Kspar_PreFilt=LEPR_Kspar_in['Kspars']\n",
    "\n",
    "\n",
    "LEPR_Kspar=LEPR_Kspar_PreFilt\n",
    "\n",
    "\n",
    "LEPR_Kspar_nosuf=LEPR_Kspar.copy()\n",
    "LEPR_Kspar_nosuf.columns = [col.replace('_Kspar', '') for col in LEPR_Kspar_nosuf.columns]\n",
    "\n",
    "\n",
    "LEPR_Kspar_nosuf['Phase']=2"
   ]
  },
  {
   "cell_type": "markdown",
   "id": "b230c4cf-0f36-4f88-b3d1-672f1458ebe5",
   "metadata": {},
   "source": [
    "## Stitching different phases together"
   ]
  },
  {
   "cell_type": "code",
   "execution_count": null,
   "id": "f7d637cf-c2f0-4132-b9e9-c539da2ccea0",
   "metadata": {},
   "outputs": [],
   "source": [
    "LEPR_Combo=pd.concat([LEPR_Cpx_nosuf, LEPR_Amp_nosuf, LEPR_Opx_nosuf,  LEPR_Plag_nosuf, \n",
    "                      LEPR_Ol_nosuf,  LEPR_Sp_nosuf, LEPR_Ox_nosuf, LEPR_Kspar_nosuf], axis=0, ignore_index=True)#.reset_index(drop=True, inplace=True)\n",
    "LEPR_Y=LEPR_Combo['Phase']\n",
    "LEPR_Combo_noclass=LEPR_Combo.drop(columns=['Phase', 'Sample_ID', 'NiO', 'Cr2O3', 'K2O'])\n",
    "LEPR_X=LEPR_Combo_noclass.values"
   ]
  },
  {
   "cell_type": "markdown",
   "id": "177fd4bf-47f6-46c5-be9e-c4581d3f3fc4",
   "metadata": {},
   "source": [
    "## Importing new data from my compilation"
   ]
  },
  {
   "cell_type": "code",
   "execution_count": null,
   "id": "0976e450-ff27-4f5f-aeaa-a249ae1f84b6",
   "metadata": {},
   "outputs": [],
   "source": [
    "PW_Amp_in=pt.import_excel(r\"C:\\Users\\penny\\OneDrive - Oregon State University\\Postdoc\\PyMME\\MyBarometers\\LEPR_Tests\\LEPR_Wet_Stitched.xlsx\", sheet_name=\"Amp\")\n",
    "PW_Amp_input=PW_Amp_in['my_input']\n",
    "PW_Amp_PreFilt=PW_Amp_in['Amps']\n",
    "PW_Amp_Sums=pt.calculate_23oxygens_amphibole(amp_comps=PW_Amp_PreFilt).cation_sum_All\n",
    "PW_Amp=PW_Amp_PreFilt.loc[PW_Amp_Sums.between(15.5, 16)]\n",
    "PW_Amp_nosuf=PW_Amp.copy()\n",
    "PW_Amp_nosuf.drop(columns=['F_Amp', 'Cl_Amp'], inplace=True)\n",
    "PW_Amp_nosuf.columns = [col.replace('_Amp', '') for col in PW_Amp_nosuf.columns]\n",
    "PW_Amp_nosuf['Phase']=0"
   ]
  },
  {
   "cell_type": "code",
   "execution_count": null,
   "id": "4489ae02-f4fd-488f-84fc-5c8a907c9f5c",
   "metadata": {},
   "outputs": [],
   "source": [
    "PW_Cpx_in=pt.import_excel(r\"C:\\Users\\penny\\OneDrive - Oregon State University\\Postdoc\\PyMME\\MyBarometers\\LEPR_Tests\\LEPR_Wet_Stitched.xlsx\", sheet_name=\"Cpx\")\n",
    "PW_Cpx_input=PW_Cpx_in['my_input']\n",
    "PW_Cpx_PreFilt=PW_Cpx_in['Cpxs']\n",
    "PW_Cpx_cs=pt.calculate_clinopyroxene_components(cpx_comps=PW_Cpx_PreFilt)\n",
    "PW_Cpx_Sums=PW_Cpx_cs.Cation_Sum_Cpx\n",
    "PW_CaCaMgFe=PW_Cpx_cs.Ca_CaMgFe\n",
    "\n",
    "\n",
    "PW_Cpx=PW_Cpx_PreFilt.loc[(PW_Cpx_Sums.between(a, b)) & (PW_CaCaMgFe>0.2) ]\n",
    "\n",
    "\n",
    "PW_Cpx_nosuf=PW_Cpx.copy()\n",
    "PW_Cpx_nosuf.columns = [col.replace('_Cpx', '') for col in PW_Cpx_nosuf.columns]\n",
    "\n",
    "PW_Cpx_nosuf['Phase']=1\n"
   ]
  },
  {
   "cell_type": "code",
   "execution_count": null,
   "id": "818b5315-2d5a-4516-a433-45e1ef62f1bd",
   "metadata": {},
   "outputs": [],
   "source": [
    "PW_Opx_in=pt.import_excel(r\"C:\\Users\\penny\\OneDrive - Oregon State University\\Postdoc\\PyMME\\MyBarometers\\LEPR_Tests\\LEPR_Wet_Stitched.xlsx\", sheet_name=\"Opx\")\n",
    "PW_Opx_input=PW_Opx_in['my_input']\n",
    "PW_Opx_PreFilt=PW_Opx_in['Opxs']\n",
    "PW_Opx_cs=pt.calculate_orthopyroxene_components(opx_comps=PW_Opx_PreFilt)\n",
    "PW_Opx_Sums=PW_Opx_cs.Cation_Sum_Opx\n",
    "PW_CaCaMgFe=PW_Opx_cs.Ca_CaMgFe\n",
    "\n",
    "\n",
    "PW_Opx=PW_Opx_PreFilt.loc[(PW_Opx_Sums.between(a, b)) & (PW_CaCaMgFe<0.05) ]\n",
    "\n",
    "\n",
    "PW_Opx_nosuf=PW_Opx.copy()\n",
    "PW_Opx_nosuf.columns = [col.replace('_Opx', '') for col in PW_Opx_nosuf.columns]\n",
    "\n",
    "PW_Opx_nosuf['Phase']=1\n"
   ]
  },
  {
   "cell_type": "code",
   "execution_count": null,
   "id": "8895affa-b899-4203-8ab6-5340011e4149",
   "metadata": {},
   "outputs": [],
   "source": [
    "plt.plot(PW_Opx_cs['Ca_CaMgFe'], PW_Opx_PreFilt['CaO_Opx'], 'ok')"
   ]
  },
  {
   "cell_type": "code",
   "execution_count": null,
   "id": "785b3f16-87be-47d4-9206-b16cc28224c8",
   "metadata": {},
   "outputs": [],
   "source": [
    "PW_Plag_in=pt.import_excel(r\"C:\\Users\\penny\\OneDrive - Oregon State University\\Postdoc\\PyMME\\MyBarometers\\LEPR_Tests\\LEPR_Wet_Stitched.xlsx\", \n",
    "                           sheet_name=\"Plag-Liq\")\n",
    "PW_Plag_input=PW_Plag_in['my_input']\n",
    "PW_Plag_PreFilt=PW_Plag_in['Plags']\n",
    "\n",
    "\n",
    "PW_Plag=PW_Plag_PreFilt\n",
    "\n",
    "\n",
    "PW_Plag_nosuf=PW_Plag.copy()\n",
    "PW_Plag_nosuf.columns = [col.replace('_Plag', '') for col in PW_Plag_nosuf.columns]\n",
    "\n",
    "PW_Plag_nosuf['Phase']=2\n"
   ]
  },
  {
   "cell_type": "code",
   "execution_count": null,
   "id": "d0b42b8b-cef6-4fbd-85d7-c31f7f994266",
   "metadata": {},
   "outputs": [],
   "source": [
    "PW_Ol_in=pt.import_excel(r\"C:\\Users\\penny\\OneDrive - Oregon State University\\Postdoc\\PyMME\\MyBarometers\\LEPR_Tests\\LEPR_Wet_Stitched.xlsx\", sheet_name=\"Ol-Liq\")\n",
    "PW_Ol_input=PW_Ol_in['my_input']\n",
    "PW_Ol_PreFilt=PW_Ol_in['Ols']\n",
    "\n",
    "\n",
    "PW_Ol=PW_Ol_PreFilt\n",
    "\n",
    "\n",
    "PW_Ol_nosuf=PW_Ol.copy()\n",
    "PW_Ol_nosuf.columns = [col.replace('_Ol', '') for col in PW_Ol_nosuf.columns]\n",
    "\n",
    "PW_Ol_nosuf['Phase']=3\n"
   ]
  },
  {
   "cell_type": "code",
   "execution_count": null,
   "id": "9d5a2ddb-1f9e-488f-9394-64236502dd3f",
   "metadata": {},
   "outputs": [],
   "source": [
    "PW_Combo=pd.concat([PW_Cpx_nosuf, PW_Amp_nosuf, PW_Opx_nosuf, PW_Plag_nosuf, PW_Ol_nosuf]  , axis=0, ignore_index=True)#.reset_index(drop=True, inplace=True)\n",
    "PW_Y=PW_Combo['Phase']\n",
    "PW_Combo_noclass=PW_Combo.drop(columns=['Phase', 'Sample_ID', 'NiO', 'Cr2O3', 'K2O'])\n",
    "PW_X=PW_Combo_noclass.values"
   ]
  },
  {
   "cell_type": "markdown",
   "id": "da6c0c0f-928c-4479-9520-1070ec626dbe",
   "metadata": {},
   "source": [
    "## Importing LEPR data from Keith's barometry calibrations\n",
    "- Amp compositions stored in LEPR_Amp\n",
    "- Cpx compositions stored in Cpx_Amp, have already taken out those with Ca_CaMgFe<0.05 (e.g. Opxs that have snuck into LEPR)"
   ]
  },
  {
   "cell_type": "code",
   "execution_count": null,
   "id": "c0e7bb27-86be-4b6d-8993-4f8bd6a59e94",
   "metadata": {},
   "outputs": [],
   "source": [
    "fig, ((ax0, ax1), (ax2, ax3)) = plt.subplots(2, 2, figsize=(12, 10))\n",
    "ax0.plot(LEPR_Cpx['SiO2_Cpx'], LEPR_Cpx['CaO_Cpx'], '.r', label='Cpx (+pig)')\n",
    "ax0.plot(LEPR_Opx['SiO2_Opx'], LEPR_Opx['CaO_Opx'], '.k', alpha=0.1, label='opx')\n",
    "ax0.set_xlabel('SiO2')\n",
    "ax0.set_ylabel('CaO')\n",
    "ax0.set_title('Experiments')"
   ]
  },
  {
   "cell_type": "code",
   "execution_count": null,
   "id": "d4ed39fc-5b68-4eee-9739-6c0106f310e4",
   "metadata": {},
   "outputs": [],
   "source": [
    "## Viualizing differences\n",
    "fig, ((ax0, ax1), (ax2, ax3)) = plt.subplots(2, 2, figsize=(12, 10))\n",
    "ax0.plot(LEPR_Cpx['SiO2_Cpx'], LEPR_Cpx['CaO_Cpx'], '.r')\n",
    "ax0.plot(LEPR_Amp['SiO2_Amp'], LEPR_Amp['CaO_Amp'], '.c', alpha=0.5)\n",
    "ax0.plot(LEPR_Opx['SiO2_Opx'], LEPR_Opx['CaO_Opx'], '.k', alpha=0.1)\n",
    "ax0.plot(LEPR_Plag['SiO2_Plag'], LEPR_Plag['CaO_Plag'], '.g', alpha=0.1)\n",
    "ax0.plot(LEPR_Ol['SiO2_Ol'], LEPR_Ol['CaO_Ol'], '.m', alpha=0.1)\n",
    "ax0.plot(LEPR_Sp['SiO2_Sp'], LEPR_Sp['CaO_Sp'], '*k', alpha=0.7, ms=3)\n",
    "ax0.plot(LEPR_Ox['SiO2_Sp'], LEPR_Ox['CaO_Sp'], '*g', alpha=0.7, ms=3)\n",
    "ax0.plot(LEPR_Kspar['SiO2_Kspar'], LEPR_Kspar['CaO_Kspar'], '.', mfc='darkgreen', alpha=0.7, ms=3)\n",
    "\n",
    "ax1.plot(LEPR_Cpx['MgO_Cpx'], LEPR_Cpx['Al2O3_Cpx'], '.r')\n",
    "ax1.plot(LEPR_Amp['MgO_Amp'], LEPR_Amp['Al2O3_Amp'], '.c', alpha=0.5)\n",
    "ax1.plot(LEPR_Opx['MgO_Opx'], LEPR_Opx['Al2O3_Opx'], '.k', alpha=0.1)\n",
    "ax1.plot(LEPR_Plag['MgO_Plag'], LEPR_Plag['Al2O3_Plag'], '.g', alpha=0.1)\n",
    "ax1.plot(LEPR_Ol['MgO_Ol'], LEPR_Ol['Al2O3_Ol'], '.m', alpha=0.1)\n",
    "ax1.plot(LEPR_Sp['MgO_Sp'], LEPR_Sp['Al2O3_Sp'], '*k', alpha=0.7, ms=3)\n",
    "ax1.plot(LEPR_Ox['MgO_Sp'], LEPR_Ox['Al2O3_Sp'], '*g', alpha=0.7, ms=3)\n",
    "ax1.plot(LEPR_Kspar['MgO_Kspar'], LEPR_Kspar['Al2O3_Kspar'], '.', mfc='darkgreen', alpha=0.7, ms=3)\n",
    "\n",
    "\n",
    "ax2.plot(LEPR_Cpx['FeOt_Cpx'], LEPR_Cpx['Na2O_Cpx'], '.r')\n",
    "ax2.plot(LEPR_Amp['FeOt_Amp'], LEPR_Amp['Na2O_Amp'], '.c', alpha=0.5)\n",
    "ax2.plot(LEPR_Opx['FeOt_Opx'], LEPR_Opx['Na2O_Opx'], '.k', alpha=0.1)\n",
    "ax2.plot(LEPR_Plag['FeOt_Plag'], LEPR_Plag['Na2O_Plag'], '.g', alpha=0.1)\n",
    "ax2.plot(LEPR_Ol['FeOt_Ol'], LEPR_Ol['Na2O_Ol'], '.m', alpha=0.1)\n",
    "ax2.plot(LEPR_Sp['FeOt_Sp'], LEPR_Sp['Na2O_Sp'], '*k', alpha=0.7, ms=3)\n",
    "ax2.plot(LEPR_Ox['FeOt_Sp'], LEPR_Ox['Na2O_Sp'], '*g', alpha=0.7, ms=3)\n",
    "ax2.plot(LEPR_Kspar['FeOt_Kspar'], LEPR_Kspar['Na2O_Kspar'], '.', mfc='darkgreen', alpha=0.7, ms=3)\n",
    "\n",
    "ax3.plot(LEPR_Cpx['FeOt_Cpx'], LEPR_Cpx['TiO2_Cpx'], '.r')\n",
    "ax3.plot(LEPR_Amp['FeOt_Amp'], LEPR_Amp['TiO2_Amp'], '.c', alpha=0.5)\n",
    "ax3.plot(LEPR_Opx['FeOt_Opx'], LEPR_Opx['TiO2_Opx'], '.k', alpha=0.1)\n",
    "ax3.plot(LEPR_Plag['FeOt_Plag'], LEPR_Plag['TiO2_Plag'], '.g', alpha=0.1)\n",
    "ax3.plot(LEPR_Ol['FeOt_Ol'], LEPR_Ol['TiO2_Ol'], '.m', alpha=0.1)\n",
    "ax3.plot(LEPR_Sp['FeOt_Sp'], LEPR_Sp['TiO2_Sp'], '*k', alpha=0.7, ms=3)\n",
    "ax3.plot(LEPR_Ox['FeOt_Sp'], LEPR_Ox['TiO2_Sp'], '*g', alpha=0.7, ms=3)\n",
    "ax3.plot(LEPR_Kspar['FeOt_Kspar'], LEPR_Kspar['TiO2_Kspar'], '.', mfc='darkgreen', alpha=0.7, ms=3)\n",
    "\n",
    "\n"
   ]
  },
  {
   "cell_type": "code",
   "execution_count": null,
   "id": "38bc9b72-f6b9-470a-993f-69bf5394de8b",
   "metadata": {},
   "outputs": [],
   "source": [
    "## Viualizing differences\n",
    "fig, ((ax0, ax1), (ax2, ax4)) = plt.subplots(2, 2, figsize=(12, 10))\n",
    "ax0.plot(PW_Cpx['SiO2_Cpx'], PW_Cpx['CaO_Cpx'], '.r')\n",
    "ax0.plot(PW_Amp['SiO2_Amp'], PW_Amp['CaO_Amp'], '.c', alpha=0.5)\n",
    "ax0.plot(PW_Opx['SiO2_Opx'], PW_Opx['CaO_Opx'], '.k', alpha=0.1)\n",
    "ax0.plot(PW_Plag['SiO2_Plag'], PW_Plag['CaO_Plag'], '.g', alpha=0.1)\n",
    "ax0.plot(PW_Ol['SiO2_Ol'], PW_Ol['CaO_Ol'], '.m', alpha=0.1)\n",
    "\n",
    "ax1.plot(PW_Cpx['MgO_Cpx'], PW_Cpx['Al2O3_Cpx'], '.r')\n",
    "ax1.plot(PW_Amp['MgO_Amp'], PW_Amp['Al2O3_Amp'], '.c', alpha=0.5)\n",
    "ax1.plot(PW_Opx['MgO_Opx'], PW_Opx['Al2O3_Opx'], '.k', alpha=0.1)\n",
    "ax1.plot(PW_Plag['MgO_Plag'], PW_Plag['Al2O3_Plag'], '.g', alpha=0.1)\n",
    "ax1.plot(PW_Ol['MgO_Ol'], PW_Ol['Al2O3_Ol'], '.m', alpha=0.1)\n",
    "\n",
    "ax2.plot(PW_Cpx['FeOt_Cpx'], PW_Cpx['Na2O_Cpx'], '.r')\n",
    "ax2.plot(PW_Amp['FeOt_Amp'], PW_Amp['Na2O_Amp'], '.c', alpha=0.5)\n",
    "ax2.plot(PW_Opx['FeOt_Opx'], PW_Opx['Na2O_Opx'], '.k', alpha=0.1)\n",
    "ax2.plot(PW_Plag['FeOt_Plag'], PW_Plag['Na2O_Plag'], '.g', alpha=0.1)\n",
    "ax2.plot(PW_Ol['FeOt_Ol'], PW_Ol['Na2O_Ol'], '.m', alpha=0.1)"
   ]
  },
  {
   "cell_type": "markdown",
   "id": "9052adde-7e6c-45f6-982d-138e264b2209",
   "metadata": {},
   "source": [
    "## Tutorial from https://www.geeksforgeeks.org/multiclass-classification-using-scikit-learn/"
   ]
  },
  {
   "cell_type": "code",
   "execution_count": null,
   "id": "f4b00127-2d93-4464-9159-6a73c48b8e2a",
   "metadata": {},
   "outputs": [],
   "source": [
    "from sklearn import datasets\n",
    "from sklearn.metrics import confusion_matrix\n",
    "from sklearn.model_selection import train_test_split"
   ]
  },
  {
   "cell_type": "code",
   "execution_count": null,
   "id": "80e4b01c-9101-4331-be2c-f5363f178e14",
   "metadata": {},
   "outputs": [],
   "source": [
    "# In my example, 0 is amphibole, 1 is cpx, 2 is Opx, 3 is Plag, 4 is Ol"
   ]
  },
  {
   "cell_type": "code",
   "execution_count": null,
   "id": "4b97249b-09ec-460c-9016-d5d75338481f",
   "metadata": {},
   "outputs": [],
   "source": [
    "from sklearn.preprocessing import StandardScaler\n",
    "X_test_noscaled=PW_X\n",
    "y_test=PW_Y\n",
    "\n",
    "X_train_noscaled=LEPR_X\n",
    "y_train=LEPR_Y\n",
    "\n",
    "scaler = StandardScaler().fit(X_train_noscaled)\n",
    "X_train_scaled = scaler.transform(X_train_noscaled)\n",
    "X_test_scaled=scaler.transform(X_test_noscaled)\n",
    "# from sklearn.tree import DecisionTreeClassifier\n",
    "# dtree_model = DecisionTreeClassifier(random_state=3).fit(X_train, y_train)\n",
    "# svc_predictions = dtree_model.predict(X_test)\n",
    "\n",
    "# cm = confusion_matrix(y_test, svc_predictions)\n",
    "\n",
    "from sklearn.svm import SVC\n",
    "svc_model_linear = SVC(kernel = 'linear', C = 1).fit(X_train_scaled, y_train)\n",
    "svc_predictions = svc_model_linear.predict(X_test_scaled)\n",
    "  \n",
    "# model accuracy for X_test  \n",
    "accuracy = svc_model_linear.score(X_test_scaled, y_test)\n",
    "  \n",
    "# creating a confusion matrix\n",
    "cm = confusion_matrix(y_test, svc_predictions)"
   ]
  },
  {
   "cell_type": "code",
   "execution_count": null,
   "id": "1e723203-9ae5-4b3f-9179-3ba9fd3c3c8b",
   "metadata": {},
   "outputs": [],
   "source": [
    "accuracy"
   ]
  },
  {
   "cell_type": "code",
   "execution_count": null,
   "id": "c624714f-68fd-4390-9546-2b7bf481e6c6",
   "metadata": {},
   "outputs": [],
   "source": [
    "len(PW_Cpx)"
   ]
  },
  {
   "cell_type": "code",
   "execution_count": null,
   "id": "ac00a2bb-6376-4bdf-8c68-17758609e6ae",
   "metadata": {},
   "outputs": [],
   "source": [
    "# 'amp', cpx+opx+pig, plag+alk, ol, sp, ox, alk\n",
    "cm"
   ]
  },
  {
   "attachments": {
    "1931f2ee-3ad4-4484-8303-06af626a65a3.png": {
     "image/png": "[encoded data removed]"
    }
   },
   "cell_type": "markdown",
   "id": "35b10c84-fd42-4ba9-a09b-0a6ca0c4b535",
   "metadata": {},
   "source": [
    "![image.png](attachment:1931f2ee-3ad4-4484-8303-06af626a65a3.png)"
   ]
  },
  {
   "cell_type": "code",
   "execution_count": null,
   "id": "857d10c0-a76b-4a3b-86a8-dc183065f445",
   "metadata": {},
   "outputs": [],
   "source": [
    "pred_amp_svc=svc_predictions==0\n",
    "pred_px_svc=svc_predictions==1\n",
    "pred_fspar_svc=svc_predictions==2\n",
    "pred_ol_svc=svc_predictions==3\n",
    "pred_sp_svc=svc_predictions==4\n",
    "pred_ox_svc=svc_predictions==5\n",
    "\n",
    "plt.plot(PW_Combo['SiO2'].loc[pred_amp_svc], PW_Combo['CaO'].loc[pred_amp_svc], '.r')\n",
    "plt.plot(PW_Combo['SiO2'].loc[pred_px_svc], PW_Combo['CaO'].loc[pred_px_svc], '.c')\n",
    "plt.plot(PW_Combo['SiO2'].loc[pred_fspar_svc], PW_Combo['CaO'].loc[pred_fspar_svc], '.g')\n",
    "plt.plot(PW_Combo['SiO2'].loc[pred_ol_svc], PW_Combo['CaO'].loc[pred_ol_svc], '.m')\n",
    "plt.plot(PW_Combo['SiO2'].loc[pred_sp_svc], PW_Combo['CaO'].loc[pred_sp_svc], '*k', alpha=0.7, ms=3)\n",
    "plt.plot(PW_Combo['SiO2'].loc[pred_ox_svc], PW_Combo['CaO'].loc[pred_ox_svc],  '*g', alpha=0.7, ms=3)\n",
    "\n"
   ]
  },
  {
   "cell_type": "markdown",
   "id": "4c8da2dd-ca5b-465e-80aa-a578d174595f",
   "metadata": {},
   "source": [
    "## True Cpxs -Perfect classification!?"
   ]
  },
  {
   "cell_type": "code",
   "execution_count": null,
   "id": "5bc92c10-18eb-4577-b786-3a5e873080ff",
   "metadata": {},
   "outputs": [],
   "source": [
    "## Currently none classified as Pigeonites\n",
    "print('Number predicted Cpx')\n",
    "sum(svc_predictions==1)"
   ]
  },
  {
   "cell_type": "code",
   "execution_count": null,
   "id": "dbf4b571-4f20-4821-af13-81df83f9bf62",
   "metadata": {},
   "outputs": [],
   "source": [
    "\n",
    "Actual_Cpx=PW_Combo['Phase']==1\n",
    "plt.plot(PW_Combo['SiO2'].loc[pred_amp_svc&Actual_Cpx], PW_Combo['CaO'].loc[pred_amp_svc&Actual_Cpx], '.r')\n",
    "plt.plot(PW_Combo['SiO2'].loc[pred_px_svc&Actual_Cpx], PW_Combo['CaO'].loc[pred_px_svc&Actual_Cpx], '.c')\n",
    "plt.plot(PW_Combo['SiO2'].loc[pred_fspar_svc&Actual_Cpx], PW_Combo['CaO'].loc[pred_fspar_svc&Actual_Cpx], '.g')\n",
    "plt.plot(PW_Combo['SiO2'].loc[pred_ol_svc&Actual_Cpx], PW_Combo['CaO'].loc[pred_ol_svc&Actual_Cpx], '.m')\n",
    "plt.plot(PW_Combo['SiO2'].loc[pred_sp_svc&Actual_Cpx], PW_Combo['CaO'].loc[pred_sp_svc&Actual_Cpx], '*k', alpha=0.7, ms=3)\n",
    "plt.plot(PW_Combo['SiO2'].loc[pred_ox_svc&Actual_Cpx], PW_Combo['CaO'].loc[pred_ox_svc&Actual_Cpx],  '*g', alpha=0.7, ms=3)\n"
   ]
  },
  {
   "cell_type": "markdown",
   "id": "da047894-fada-4a4b-a87d-cb2945d8dc8d",
   "metadata": {},
   "source": [
    "## True Plags\n",
    "- Things one is cpx, and 2 are opx. This is very feasible. "
   ]
  },
  {
   "cell_type": "code",
   "execution_count": null,
   "id": "ec4071f6-7348-4065-be4a-d7b3ef2ce696",
   "metadata": {},
   "outputs": [],
   "source": [
    "Actual_Plag=PW_Combo['Phase']==2\n",
    "plt.plot(PW_Combo['SiO2'].loc[pred_amp_svc&Actual_Plag], PW_Combo['CaO'].loc[pred_amp_svc&Actual_Plag], '.r')\n",
    "plt.plot(PW_Combo['SiO2'].loc[pred_px_svc&Actual_Plag], PW_Combo['CaO'].loc[pred_px_svc&Actual_Plag], '.c')\n",
    "plt.plot(PW_Combo['SiO2'].loc[pred_fspar_svc&Actual_Plag], PW_Combo['CaO'].loc[pred_fspar_svc&Actual_Plag], '.g')\n",
    "plt.plot(PW_Combo['SiO2'].loc[pred_ol_svc&Actual_Plag], PW_Combo['CaO'].loc[pred_ol_svc&Actual_Plag], '.m')\n",
    "plt.plot(PW_Combo['SiO2'].loc[pred_sp_svc&Actual_Plag], PW_Combo['CaO'].loc[pred_sp_svc&Actual_Plag], '*k', alpha=0.7, ms=3)\n",
    "plt.plot(PW_Combo['SiO2'].loc[pred_ox_svc&Actual_Plag], PW_Combo['CaO'].loc[pred_ox_svc&Actual_Plag],  '*g', alpha=0.7, ms=3)\n"
   ]
  },
  {
   "cell_type": "code",
   "execution_count": null,
   "id": "684e82ba-549f-4bba-bace-7be21bd91611",
   "metadata": {},
   "outputs": [],
   "source": [
    "Actual_Amp=PW_Combo['Phase']==0\n",
    "plt.plot(PW_Combo['SiO2'].loc[pred_amp_svc&Actual_Amp], PW_Combo['CaO'].loc[pred_amp_svc&Actual_Amp], '.r')\n",
    "plt.plot(PW_Combo['SiO2'].loc[pred_px_svc&Actual_Amp], PW_Combo['CaO'].loc[pred_px_svc&Actual_Amp], '.c')\n",
    "plt.plot(PW_Combo['SiO2'].loc[pred_fspar_svc&Actual_Amp], PW_Combo['CaO'].loc[pred_fspar_svc&Actual_Amp], '.g')\n",
    "plt.plot(PW_Combo['SiO2'].loc[pred_ol_svc&Actual_Amp], PW_Combo['CaO'].loc[pred_ol_svc&Actual_Amp], '.m')\n",
    "plt.plot(PW_Combo['SiO2'].loc[pred_sp_svc&Actual_Amp], PW_Combo['CaO'].loc[pred_sp_svc&Actual_Amp], '*k', alpha=0.7, ms=3)\n",
    "plt.plot(PW_Combo['SiO2'].loc[pred_ox_svc&Actual_Amp], PW_Combo['CaO'].loc[pred_ox_svc&Actual_Amp],  '*g', alpha=0.7, ms=3)\n"
   ]
  },
  {
   "cell_type": "code",
   "execution_count": null,
   "id": "56b50e4e-e8e8-41fb-85dc-e89f819b2450",
   "metadata": {},
   "outputs": [],
   "source": [
    "## CHeck dataset is wrong - Shift it off. \n",
    "PW_Combo.loc[pred_pig_svc&Actual_Plag]"
   ]
  },
  {
   "cell_type": "markdown",
   "id": "00011f55-6f14-4458-a0b9-d7e2acc0495f",
   "metadata": {},
   "source": [
    "##### These are from Peterman et al. And clearly not the phase they say they are..."
   ]
  },
  {
   "attachments": {
    "6cd5eb14-8df6-463b-a507-3c8fa0df8e50.png": {
     "image/png": "[encoded data removed]"
    },
    "9fcfc19a-a1cf-4e11-99b9-cf92fc3f7323.png": {
     "image/png": "[encoded data removed]"
    },
    "b813e037-c5e2-4aea-b678-fdbcaf2b626d.png": {
     "image/png": "[encoded data removed]"
    }
   },
   "cell_type": "markdown",
   "id": "568f0751-6064-4693-8231-e87b22b9e77b",
   "metadata": {},
   "source": [
    "![image.png](attachment:b813e037-c5e2-4aea-b678-fdbcaf2b626d.png)\n",
    "![image.png](attachment:9fcfc19a-a1cf-4e11-99b9-cf92fc3f7323.png)\n",
    "![image.png](attachment:6cd5eb14-8df6-463b-a507-3c8fa0df8e50.png)"
   ]
  },
  {
   "cell_type": "code",
   "execution_count": null,
   "id": "10abb656-b4ba-459c-a853-3961a3c28681",
   "metadata": {},
   "outputs": [],
   "source": [
    "PW_Combo.loc[pred_kspar_svc&Actual_Plag]"
   ]
  },
  {
   "cell_type": "code",
   "execution_count": null,
   "id": "e1572995-8357-4fa8-88ff-6706610fc51f",
   "metadata": {},
   "outputs": [],
   "source": [
    "## Why doesnt it classify as oxide"
   ]
  },
  {
   "cell_type": "code",
   "execution_count": null,
   "id": "c4b2f1b6-dc8c-404d-9b9c-aec73486951f",
   "metadata": {},
   "outputs": [],
   "source": [
    "MisClass_Pig=PW_Combo.loc[pred_pig_svc&Actual_Plag]\n",
    "plt.plot(LEPR_Sp['MgO_Sp'], LEPR_Sp['CaO_Sp'], '*k', alpha=0.7, ms=3)\n",
    "plt.plot(LEPR_Ox['MgO_Sp'], LEPR_Ox['CaO_Sp'], '*g', alpha=0.7, ms=3)\n",
    "plt.plot(LEPR_Pig['MgO_Cpx'], LEPR_Pig['CaO_Cpx'], '*c', alpha=0.7, ms=3)\n",
    "plt.plot(LEPR_Plag['MgO_Plag'], LEPR_Plag['CaO_Plag'], '*r', alpha=0.7, ms=3)\n",
    "\n",
    "plt.plot(MisClass_Pig['MgO'], MisClass_Pig['CaO'], 'sk', mfc='c', alpha=0.7, ms=3)\n"
   ]
  },
  {
   "cell_type": "code",
   "execution_count": null,
   "id": "4fae3104-905b-4f12-ab31-6e0dfcf4c1a1",
   "metadata": {},
   "outputs": [],
   "source": [
    "plt.plot(LEPR_Cpx['SiO2_Cpx'], LEPR_Cpx['CaO_Cpx'], '.c')\n",
    "\n",
    "plt.plot(PW_Combo['SiO2'].loc[pred_cpx_svc&Actual_Plag], PW_Combo['CaO'].loc[pred_cpx_svc&Actual_Plag], '*c')\n"
   ]
  },
  {
   "cell_type": "markdown",
   "id": "e5de13bb-d311-4197-87ea-4ede87353f0d",
   "metadata": {},
   "source": [
    "## True amphiboles"
   ]
  },
  {
   "cell_type": "code",
   "execution_count": null,
   "id": "41410a6d-3e26-4229-b6d9-8971f5dd07f1",
   "metadata": {},
   "outputs": [],
   "source": [
    "pred_amp_svc=svc_predictions==0\n",
    "pred_cpx_svc=svc_predictions==1\n",
    "pred_opx_svc=svc_predictions==2\n",
    "pred_plag_svc=svc_predictions==3\n",
    "pred_ol_svc=svc_predictions==4\n",
    "\n",
    "Actual_Amp=PW_Combo['Phase']==0\n",
    "plt.plot(PW_Combo['SiO2'].loc[pred_amp_svc&Actual_Amp], PW_Combo['CaO'].loc[pred_amp_svc&Actual_Amp], '.r')\n",
    "plt.plot(PW_Combo['SiO2'].loc[pred_cpx_svc&Actual_Amp], PW_Combo['CaO'].loc[pred_cpx_svc&Actual_Amp], '.c')\n",
    "plt.plot(PW_Combo['SiO2'].loc[pred_opx_svc&Actual_Amp], PW_Combo['CaO'].loc[pred_opx_svc&Actual_Amp], '.k')\n",
    "plt.plot(PW_Combo['SiO2'].loc[pred_plag_svc&Actual_Amp], PW_Combo['CaO'].loc[pred_plag_svc&Actual_Amp], '.g')\n",
    "plt.plot(PW_Combo['SiO2'].loc[pred_ol_svc&Actual_Amp], PW_Combo['CaO'].loc[pred_ol_svc&Actual_Amp], '.m')"
   ]
  },
  {
   "cell_type": "code",
   "execution_count": null,
   "id": "df9b81b4-4a28-4157-bb40-c8bd47892e49",
   "metadata": {},
   "outputs": [],
   "source": [
    "## Writing this all as a function. "
   ]
  },
  {
   "cell_type": "markdown",
   "id": "efb0c628-e3ee-41d4-8212-c4759d3ba790",
   "metadata": {},
   "source": [
    "## Saving the variables"
   ]
  },
  {
   "cell_type": "code",
   "execution_count": null,
   "id": "1226e20a-e5dd-4d20-a406-39460a79db13",
   "metadata": {},
   "outputs": [],
   "source": [
    "from pickle import dump\n",
    "import pickle\n",
    "dump(scaler, open('scaler_MinClass.pkl', 'wb'))\n",
    "dump(svc_model_linear, open('svc_model_linear_MinClass.pkl', 'wb'))\n"
   ]
  },
  {
   "cell_type": "code",
   "execution_count": null,
   "id": "9eddbec1-f935-4755-9be7-2bb75d8de8df",
   "metadata": {},
   "outputs": [],
   "source": []
  }
 ],
 "metadata": {
  "kernelspec": {
   "display_name": "Python 3",
   "language": "python",
   "name": "python3"
  },
  "language_info": {
   "codemirror_mode": {
    "name": "ipython",
    "version": 3
   },
   "file_extension": ".py",
   "mimetype": "text/x-python",
   "name": "python",
   "nbconvert_exporter": "python",
   "pygments_lexer": "ipython3",
   "version": "3.8.5"
  }
 },
 "nbformat": 4,
 "nbformat_minor": 5
}
