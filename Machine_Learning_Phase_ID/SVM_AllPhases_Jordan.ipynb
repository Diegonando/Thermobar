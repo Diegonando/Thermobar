{
 "cells": [
  {
   "cell_type": "code",
   "execution_count": 1,
   "id": "d7b01d85-6ff7-40c8-ae6a-d4e5130cf18c",
   "metadata": {},
   "outputs": [],
   "source": [
    "import Thermobar as pt\n",
    "import pandas as pd\n",
    "import numpy as np\n",
    "import matplotlib.pyplot as plt\n",
    "from pickle import load\n",
    "import pickle"
   ]
  },
  {
   "cell_type": "code",
   "execution_count": 13,
   "id": "8f3b2628-fcdd-4051-934f-dd1fbb4daa6f",
   "metadata": {},
   "outputs": [],
   "source": [
    "Han=pt.classify_phases(filename='test_penny.xlsx', sheet_name='Sheet1',\n",
    "                        return_end_members=True)\n",
    "Han\n",
    "Han.to_excel('Hannah_test.xlsx')"
   ]
  },
  {
   "cell_type": "code",
   "execution_count": 4,
   "id": "6796fa4d-1f1c-4ac0-a3b6-c6bd75579926",
   "metadata": {},
   "outputs": [],
   "source": []
  },
  {
   "cell_type": "code",
   "execution_count": 6,
   "id": "da7099ae-50dd-43c2-ab36-579e2dea57c2",
   "metadata": {},
   "outputs": [
    {
     "data": {
      "application/vnd.plotly.v1+json": {
       "config": {
        "plotlyServerURL": "https://plot.ly"
       },
       "data": [
        {
         "a": [
          0.1243687578409256,
          0.1903408417265694,
          0.1062753970653828,
          0.11637723190804516,
          0.20040413138072333,
          0.1519679342188524,
          0.17491936155631238,
          0.1345182911747922,
          0.13987358543511408,
          0.1355140584936303,
          0.2458797255521613
         ],
         "b": [
          0.6397484138804166,
          0.6036269922351811,
          0.6440280687032512,
          0.5777020174435509,
          0.5931211222078282,
          0.47532294285532856,
          0.519570236283846,
          0.5143672281745685,
          0.5143126533486394,
          0.5602941756275941,
          0.49673550684467593
         ],
         "c": [
          0.23588282827865784,
          0.20603216603824948,
          0.24969653423136592,
          0.30592075064840396,
          0.20647474641144845,
          0.372709122925819,
          0.30551040215984165,
          0.3511144806506393,
          0.3458137612162465,
          0.30419176587877556,
          0.25738476760316276
         ],
         "hovertemplate": "Or=%{a}<br>Ab=%{b}<br>An=%{c}<extra></extra>",
         "legendgroup": "",
         "marker": {
          "color": "#636efa",
          "symbol": "circle"
         },
         "mode": "markers",
         "name": "",
         "showlegend": false,
         "subplot": "ternary",
         "type": "scatterternary"
        }
       ],
       "layout": {
        "autosize": true,
        "legend": {
         "tracegroupgap": 0
        },
        "margin": {
         "t": 60
        },
        "template": {
         "data": {
          "bar": [
           {
            "error_x": {
             "color": "#2a3f5f"
            },
            "error_y": {
             "color": "#2a3f5f"
            },
            "marker": {
             "line": {
              "color": "#E5ECF6",
              "width": 0.5
             },
             "pattern": {
              "fillmode": "overlay",
              "size": 10,
              "solidity": 0.2
             }
            },
            "type": "bar"
           }
          ],
          "barpolar": [
           {
            "marker": {
             "line": {
              "color": "#E5ECF6",
              "width": 0.5
             },
             "pattern": {
              "fillmode": "overlay",
              "size": 10,
              "solidity": 0.2
             }
            },
            "type": "barpolar"
           }
          ],
          "carpet": [
           {
            "aaxis": {
             "endlinecolor": "#2a3f5f",
             "gridcolor": "white",
             "linecolor": "white",
             "minorgridcolor": "white",
             "startlinecolor": "#2a3f5f"
            },
            "baxis": {
             "endlinecolor": "#2a3f5f",
             "gridcolor": "white",
             "linecolor": "white",
             "minorgridcolor": "white",
             "startlinecolor": "#2a3f5f"
            },
            "type": "carpet"
           }
          ],
          "choropleth": [
           {
            "colorbar": {
             "outlinewidth": 0,
             "ticks": ""
            },
            "type": "choropleth"
           }
          ],
          "contour": [
           {
            "colorbar": {
             "outlinewidth": 0,
             "ticks": ""
            },
            "colorscale": [
             [
              0,
              "#0d0887"
             ],
             [
              0.1111111111111111,
              "#46039f"
             ],
             [
              0.2222222222222222,
              "#7201a8"
             ],
             [
              0.3333333333333333,
              "#9c179e"
             ],
             [
              0.4444444444444444,
              "#bd3786"
             ],
             [
              0.5555555555555556,
              "#d8576b"
             ],
             [
              0.6666666666666666,
              "#ed7953"
             ],
             [
              0.7777777777777778,
              "#fb9f3a"
             ],
             [
              0.8888888888888888,
              "#fdca26"
             ],
             [
              1,
              "#f0f921"
             ]
            ],
            "type": "contour"
           }
          ],
          "contourcarpet": [
           {
            "colorbar": {
             "outlinewidth": 0,
             "ticks": ""
            },
            "type": "contourcarpet"
           }
          ],
          "heatmap": [
           {
            "colorbar": {
             "outlinewidth": 0,
             "ticks": ""
            },
            "colorscale": [
             [
              0,
              "#0d0887"
             ],
             [
              0.1111111111111111,
              "#46039f"
             ],
             [
              0.2222222222222222,
              "#7201a8"
             ],
             [
              0.3333333333333333,
              "#9c179e"
             ],
             [
              0.4444444444444444,
              "#bd3786"
             ],
             [
              0.5555555555555556,
              "#d8576b"
             ],
             [
              0.6666666666666666,
              "#ed7953"
             ],
             [
              0.7777777777777778,
              "#fb9f3a"
             ],
             [
              0.8888888888888888,
              "#fdca26"
             ],
             [
              1,
              "#f0f921"
             ]
            ],
            "type": "heatmap"
           }
          ],
          "heatmapgl": [
           {
            "colorbar": {
             "outlinewidth": 0,
             "ticks": ""
            },
            "colorscale": [
             [
              0,
              "#0d0887"
             ],
             [
              0.1111111111111111,
              "#46039f"
             ],
             [
              0.2222222222222222,
              "#7201a8"
             ],
             [
              0.3333333333333333,
              "#9c179e"
             ],
             [
              0.4444444444444444,
              "#bd3786"
             ],
             [
              0.5555555555555556,
              "#d8576b"
             ],
             [
              0.6666666666666666,
              "#ed7953"
             ],
             [
              0.7777777777777778,
              "#fb9f3a"
             ],
             [
              0.8888888888888888,
              "#fdca26"
             ],
             [
              1,
              "#f0f921"
             ]
            ],
            "type": "heatmapgl"
           }
          ],
          "histogram": [
           {
            "marker": {
             "pattern": {
              "fillmode": "overlay",
              "size": 10,
              "solidity": 0.2
             }
            },
            "type": "histogram"
           }
          ],
          "histogram2d": [
           {
            "colorbar": {
             "outlinewidth": 0,
             "ticks": ""
            },
            "colorscale": [
             [
              0,
              "#0d0887"
             ],
             [
              0.1111111111111111,
              "#46039f"
             ],
             [
              0.2222222222222222,
              "#7201a8"
             ],
             [
              0.3333333333333333,
              "#9c179e"
             ],
             [
              0.4444444444444444,
              "#bd3786"
             ],
             [
              0.5555555555555556,
              "#d8576b"
             ],
             [
              0.6666666666666666,
              "#ed7953"
             ],
             [
              0.7777777777777778,
              "#fb9f3a"
             ],
             [
              0.8888888888888888,
              "#fdca26"
             ],
             [
              1,
              "#f0f921"
             ]
            ],
            "type": "histogram2d"
           }
          ],
          "histogram2dcontour": [
           {
            "colorbar": {
             "outlinewidth": 0,
             "ticks": ""
            },
            "colorscale": [
             [
              0,
              "#0d0887"
             ],
             [
              0.1111111111111111,
              "#46039f"
             ],
             [
              0.2222222222222222,
              "#7201a8"
             ],
             [
              0.3333333333333333,
              "#9c179e"
             ],
             [
              0.4444444444444444,
              "#bd3786"
             ],
             [
              0.5555555555555556,
              "#d8576b"
             ],
             [
              0.6666666666666666,
              "#ed7953"
             ],
             [
              0.7777777777777778,
              "#fb9f3a"
             ],
             [
              0.8888888888888888,
              "#fdca26"
             ],
             [
              1,
              "#f0f921"
             ]
            ],
            "type": "histogram2dcontour"
           }
          ],
          "mesh3d": [
           {
            "colorbar": {
             "outlinewidth": 0,
             "ticks": ""
            },
            "type": "mesh3d"
           }
          ],
          "parcoords": [
           {
            "line": {
             "colorbar": {
              "outlinewidth": 0,
              "ticks": ""
             }
            },
            "type": "parcoords"
           }
          ],
          "pie": [
           {
            "automargin": true,
            "type": "pie"
           }
          ],
          "scatter": [
           {
            "marker": {
             "colorbar": {
              "outlinewidth": 0,
              "ticks": ""
             }
            },
            "type": "scatter"
           }
          ],
          "scatter3d": [
           {
            "line": {
             "colorbar": {
              "outlinewidth": 0,
              "ticks": ""
             }
            },
            "marker": {
             "colorbar": {
              "outlinewidth": 0,
              "ticks": ""
             }
            },
            "type": "scatter3d"
           }
          ],
          "scattercarpet": [
           {
            "marker": {
             "colorbar": {
              "outlinewidth": 0,
              "ticks": ""
             }
            },
            "type": "scattercarpet"
           }
          ],
          "scattergeo": [
           {
            "marker": {
             "colorbar": {
              "outlinewidth": 0,
              "ticks": ""
             }
            },
            "type": "scattergeo"
           }
          ],
          "scattergl": [
           {
            "marker": {
             "colorbar": {
              "outlinewidth": 0,
              "ticks": ""
             }
            },
            "type": "scattergl"
           }
          ],
          "scattermapbox": [
           {
            "marker": {
             "colorbar": {
              "outlinewidth": 0,
              "ticks": ""
             }
            },
            "type": "scattermapbox"
           }
          ],
          "scatterpolar": [
           {
            "marker": {
             "colorbar": {
              "outlinewidth": 0,
              "ticks": ""
             }
            },
            "type": "scatterpolar"
           }
          ],
          "scatterpolargl": [
           {
            "marker": {
             "colorbar": {
              "outlinewidth": 0,
              "ticks": ""
             }
            },
            "type": "scatterpolargl"
           }
          ],
          "scatterternary": [
           {
            "marker": {
             "colorbar": {
              "outlinewidth": 0,
              "ticks": ""
             }
            },
            "type": "scatterternary"
           }
          ],
          "surface": [
           {
            "colorbar": {
             "outlinewidth": 0,
             "ticks": ""
            },
            "colorscale": [
             [
              0,
              "#0d0887"
             ],
             [
              0.1111111111111111,
              "#46039f"
             ],
             [
              0.2222222222222222,
              "#7201a8"
             ],
             [
              0.3333333333333333,
              "#9c179e"
             ],
             [
              0.4444444444444444,
              "#bd3786"
             ],
             [
              0.5555555555555556,
              "#d8576b"
             ],
             [
              0.6666666666666666,
              "#ed7953"
             ],
             [
              0.7777777777777778,
              "#fb9f3a"
             ],
             [
              0.8888888888888888,
              "#fdca26"
             ],
             [
              1,
              "#f0f921"
             ]
            ],
            "type": "surface"
           }
          ],
          "table": [
           {
            "cells": {
             "fill": {
              "color": "#EBF0F8"
             },
             "line": {
              "color": "white"
             }
            },
            "header": {
             "fill": {
              "color": "#C8D4E3"
             },
             "line": {
              "color": "white"
             }
            },
            "type": "table"
           }
          ]
         },
         "layout": {
          "annotationdefaults": {
           "arrowcolor": "#2a3f5f",
           "arrowhead": 0,
           "arrowwidth": 1
          },
          "autotypenumbers": "strict",
          "coloraxis": {
           "colorbar": {
            "outlinewidth": 0,
            "ticks": ""
           }
          },
          "colorscale": {
           "diverging": [
            [
             0,
             "#8e0152"
            ],
            [
             0.1,
             "#c51b7d"
            ],
            [
             0.2,
             "#de77ae"
            ],
            [
             0.3,
             "#f1b6da"
            ],
            [
             0.4,
             "#fde0ef"
            ],
            [
             0.5,
             "#f7f7f7"
            ],
            [
             0.6,
             "#e6f5d0"
            ],
            [
             0.7,
             "#b8e186"
            ],
            [
             0.8,
             "#7fbc41"
            ],
            [
             0.9,
             "#4d9221"
            ],
            [
             1,
             "#276419"
            ]
           ],
           "sequential": [
            [
             0,
             "#0d0887"
            ],
            [
             0.1111111111111111,
             "#46039f"
            ],
            [
             0.2222222222222222,
             "#7201a8"
            ],
            [
             0.3333333333333333,
             "#9c179e"
            ],
            [
             0.4444444444444444,
             "#bd3786"
            ],
            [
             0.5555555555555556,
             "#d8576b"
            ],
            [
             0.6666666666666666,
             "#ed7953"
            ],
            [
             0.7777777777777778,
             "#fb9f3a"
            ],
            [
             0.8888888888888888,
             "#fdca26"
            ],
            [
             1,
             "#f0f921"
            ]
           ],
           "sequentialminus": [
            [
             0,
             "#0d0887"
            ],
            [
             0.1111111111111111,
             "#46039f"
            ],
            [
             0.2222222222222222,
             "#7201a8"
            ],
            [
             0.3333333333333333,
             "#9c179e"
            ],
            [
             0.4444444444444444,
             "#bd3786"
            ],
            [
             0.5555555555555556,
             "#d8576b"
            ],
            [
             0.6666666666666666,
             "#ed7953"
            ],
            [
             0.7777777777777778,
             "#fb9f3a"
            ],
            [
             0.8888888888888888,
             "#fdca26"
            ],
            [
             1,
             "#f0f921"
            ]
           ]
          },
          "colorway": [
           "#636efa",
           "#EF553B",
           "#00cc96",
           "#ab63fa",
           "#FFA15A",
           "#19d3f3",
           "#FF6692",
           "#B6E880",
           "#FF97FF",
           "#FECB52"
          ],
          "font": {
           "color": "#2a3f5f"
          },
          "geo": {
           "bgcolor": "white",
           "lakecolor": "white",
           "landcolor": "#E5ECF6",
           "showlakes": true,
           "showland": true,
           "subunitcolor": "white"
          },
          "hoverlabel": {
           "align": "left"
          },
          "hovermode": "closest",
          "mapbox": {
           "style": "light"
          },
          "paper_bgcolor": "white",
          "plot_bgcolor": "#E5ECF6",
          "polar": {
           "angularaxis": {
            "gridcolor": "white",
            "linecolor": "white",
            "ticks": ""
           },
           "bgcolor": "#E5ECF6",
           "radialaxis": {
            "gridcolor": "white",
            "linecolor": "white",
            "ticks": ""
           }
          },
          "scene": {
           "xaxis": {
            "backgroundcolor": "#E5ECF6",
            "gridcolor": "white",
            "gridwidth": 2,
            "linecolor": "white",
            "showbackground": true,
            "ticks": "",
            "zerolinecolor": "white"
           },
           "yaxis": {
            "backgroundcolor": "#E5ECF6",
            "gridcolor": "white",
            "gridwidth": 2,
            "linecolor": "white",
            "showbackground": true,
            "ticks": "",
            "zerolinecolor": "white"
           },
           "zaxis": {
            "backgroundcolor": "#E5ECF6",
            "gridcolor": "white",
            "gridwidth": 2,
            "linecolor": "white",
            "showbackground": true,
            "ticks": "",
            "zerolinecolor": "white"
           }
          },
          "shapedefaults": {
           "line": {
            "color": "#2a3f5f"
           }
          },
          "ternary": {
           "aaxis": {
            "gridcolor": "white",
            "linecolor": "white",
            "ticks": ""
           },
           "baxis": {
            "gridcolor": "white",
            "linecolor": "white",
            "ticks": ""
           },
           "bgcolor": "#E5ECF6",
           "caxis": {
            "gridcolor": "white",
            "linecolor": "white",
            "ticks": ""
           }
          },
          "title": {
           "x": 0.05
          },
          "xaxis": {
           "automargin": true,
           "gridcolor": "white",
           "linecolor": "white",
           "ticks": "",
           "title": {
            "standoff": 15
           },
           "zerolinecolor": "white",
           "zerolinewidth": 2
          },
          "yaxis": {
           "automargin": true,
           "gridcolor": "white",
           "linecolor": "white",
           "ticks": "",
           "title": {
            "standoff": 15
           },
           "zerolinecolor": "white",
           "zerolinewidth": 2
          }
         }
        },
        "ternary": {
         "aaxis": {
          "title": {
           "text": "Or"
          }
         },
         "baxis": {
          "title": {
           "text": "Ab"
          }
         },
         "caxis": {
          "title": {
           "text": "An"
          }
         },
         "domain": {
          "x": [
           0,
           1
          ],
          "y": [
           0,
           1
          ]
         }
        }
       }
      },
      "image/png": "[encoded data removed]",
      "text/html": [
       "<div>                            <div id=\"aec9682d-8981-413c-9188-8e9381284d7f\" class=\"plotly-graph-div\" style=\"height:525px; width:100%;\"></div>            <script type=\"text/javascript\">                require([\"plotly\"], function(Plotly) {                    window.PLOTLYENV=window.PLOTLYENV || {};                                    if (document.getElementById(\"aec9682d-8981-413c-9188-8e9381284d7f\")) {                    Plotly.newPlot(                        \"aec9682d-8981-413c-9188-8e9381284d7f\",                        [{\"a\":[0.1243687578409256,0.1903408417265694,0.1062753970653828,0.11637723190804516,0.20040413138072333,0.1519679342188524,0.17491936155631238,0.1345182911747922,0.13987358543511408,0.1355140584936303,0.2458797255521613],\"b\":[0.6397484138804166,0.6036269922351811,0.6440280687032512,0.5777020174435509,0.5931211222078282,0.47532294285532856,0.519570236283846,0.5143672281745685,0.5143126533486394,0.5602941756275941,0.49673550684467593],\"c\":[0.23588282827865784,0.20603216603824948,0.24969653423136592,0.30592075064840396,0.20647474641144845,0.372709122925819,0.30551040215984165,0.3511144806506393,0.3458137612162465,0.30419176587877556,0.25738476760316276],\"hovertemplate\":\"Or=%{a}<br>Ab=%{b}<br>An=%{c}<extra></extra>\",\"legendgroup\":\"\",\"marker\":{\"color\":\"#636efa\",\"symbol\":\"circle\"},\"mode\":\"markers\",\"name\":\"\",\"showlegend\":false,\"subplot\":\"ternary\",\"type\":\"scatterternary\"}],                        {\"legend\":{\"tracegroupgap\":0},\"margin\":{\"t\":60},\"template\":{\"data\":{\"bar\":[{\"error_x\":{\"color\":\"#2a3f5f\"},\"error_y\":{\"color\":\"#2a3f5f\"},\"marker\":{\"line\":{\"color\":\"#E5ECF6\",\"width\":0.5},\"pattern\":{\"fillmode\":\"overlay\",\"size\":10,\"solidity\":0.2}},\"type\":\"bar\"}],\"barpolar\":[{\"marker\":{\"line\":{\"color\":\"#E5ECF6\",\"width\":0.5},\"pattern\":{\"fillmode\":\"overlay\",\"size\":10,\"solidity\":0.2}},\"type\":\"barpolar\"}],\"carpet\":[{\"aaxis\":{\"endlinecolor\":\"#2a3f5f\",\"gridcolor\":\"white\",\"linecolor\":\"white\",\"minorgridcolor\":\"white\",\"startlinecolor\":\"#2a3f5f\"},\"baxis\":{\"endlinecolor\":\"#2a3f5f\",\"gridcolor\":\"white\",\"linecolor\":\"white\",\"minorgridcolor\":\"white\",\"startlinecolor\":\"#2a3f5f\"},\"type\":\"carpet\"}],\"choropleth\":[{\"colorbar\":{\"outlinewidth\":0,\"ticks\":\"\"},\"type\":\"choropleth\"}],\"contour\":[{\"colorbar\":{\"outlinewidth\":0,\"ticks\":\"\"},\"colorscale\":[[0.0,\"#0d0887\"],[0.1111111111111111,\"#46039f\"],[0.2222222222222222,\"#7201a8\"],[0.3333333333333333,\"#9c179e\"],[0.4444444444444444,\"#bd3786\"],[0.5555555555555556,\"#d8576b\"],[0.6666666666666666,\"#ed7953\"],[0.7777777777777778,\"#fb9f3a\"],[0.8888888888888888,\"#fdca26\"],[1.0,\"#f0f921\"]],\"type\":\"contour\"}],\"contourcarpet\":[{\"colorbar\":{\"outlinewidth\":0,\"ticks\":\"\"},\"type\":\"contourcarpet\"}],\"heatmap\":[{\"colorbar\":{\"outlinewidth\":0,\"ticks\":\"\"},\"colorscale\":[[0.0,\"#0d0887\"],[0.1111111111111111,\"#46039f\"],[0.2222222222222222,\"#7201a8\"],[0.3333333333333333,\"#9c179e\"],[0.4444444444444444,\"#bd3786\"],[0.5555555555555556,\"#d8576b\"],[0.6666666666666666,\"#ed7953\"],[0.7777777777777778,\"#fb9f3a\"],[0.8888888888888888,\"#fdca26\"],[1.0,\"#f0f921\"]],\"type\":\"heatmap\"}],\"heatmapgl\":[{\"colorbar\":{\"outlinewidth\":0,\"ticks\":\"\"},\"colorscale\":[[0.0,\"#0d0887\"],[0.1111111111111111,\"#46039f\"],[0.2222222222222222,\"#7201a8\"],[0.3333333333333333,\"#9c179e\"],[0.4444444444444444,\"#bd3786\"],[0.5555555555555556,\"#d8576b\"],[0.6666666666666666,\"#ed7953\"],[0.7777777777777778,\"#fb9f3a\"],[0.8888888888888888,\"#fdca26\"],[1.0,\"#f0f921\"]],\"type\":\"heatmapgl\"}],\"histogram\":[{\"marker\":{\"pattern\":{\"fillmode\":\"overlay\",\"size\":10,\"solidity\":0.2}},\"type\":\"histogram\"}],\"histogram2d\":[{\"colorbar\":{\"outlinewidth\":0,\"ticks\":\"\"},\"colorscale\":[[0.0,\"#0d0887\"],[0.1111111111111111,\"#46039f\"],[0.2222222222222222,\"#7201a8\"],[0.3333333333333333,\"#9c179e\"],[0.4444444444444444,\"#bd3786\"],[0.5555555555555556,\"#d8576b\"],[0.6666666666666666,\"#ed7953\"],[0.7777777777777778,\"#fb9f3a\"],[0.8888888888888888,\"#fdca26\"],[1.0,\"#f0f921\"]],\"type\":\"histogram2d\"}],\"histogram2dcontour\":[{\"colorbar\":{\"outlinewidth\":0,\"ticks\":\"\"},\"colorscale\":[[0.0,\"#0d0887\"],[0.1111111111111111,\"#46039f\"],[0.2222222222222222,\"#7201a8\"],[0.3333333333333333,\"#9c179e\"],[0.4444444444444444,\"#bd3786\"],[0.5555555555555556,\"#d8576b\"],[0.6666666666666666,\"#ed7953\"],[0.7777777777777778,\"#fb9f3a\"],[0.8888888888888888,\"#fdca26\"],[1.0,\"#f0f921\"]],\"type\":\"histogram2dcontour\"}],\"mesh3d\":[{\"colorbar\":{\"outlinewidth\":0,\"ticks\":\"\"},\"type\":\"mesh3d\"}],\"parcoords\":[{\"line\":{\"colorbar\":{\"outlinewidth\":0,\"ticks\":\"\"}},\"type\":\"parcoords\"}],\"pie\":[{\"automargin\":true,\"type\":\"pie\"}],\"scatter\":[{\"marker\":{\"colorbar\":{\"outlinewidth\":0,\"ticks\":\"\"}},\"type\":\"scatter\"}],\"scatter3d\":[{\"line\":{\"colorbar\":{\"outlinewidth\":0,\"ticks\":\"\"}},\"marker\":{\"colorbar\":{\"outlinewidth\":0,\"ticks\":\"\"}},\"type\":\"scatter3d\"}],\"scattercarpet\":[{\"marker\":{\"colorbar\":{\"outlinewidth\":0,\"ticks\":\"\"}},\"type\":\"scattercarpet\"}],\"scattergeo\":[{\"marker\":{\"colorbar\":{\"outlinewidth\":0,\"ticks\":\"\"}},\"type\":\"scattergeo\"}],\"scattergl\":[{\"marker\":{\"colorbar\":{\"outlinewidth\":0,\"ticks\":\"\"}},\"type\":\"scattergl\"}],\"scattermapbox\":[{\"marker\":{\"colorbar\":{\"outlinewidth\":0,\"ticks\":\"\"}},\"type\":\"scattermapbox\"}],\"scatterpolar\":[{\"marker\":{\"colorbar\":{\"outlinewidth\":0,\"ticks\":\"\"}},\"type\":\"scatterpolar\"}],\"scatterpolargl\":[{\"marker\":{\"colorbar\":{\"outlinewidth\":0,\"ticks\":\"\"}},\"type\":\"scatterpolargl\"}],\"scatterternary\":[{\"marker\":{\"colorbar\":{\"outlinewidth\":0,\"ticks\":\"\"}},\"type\":\"scatterternary\"}],\"surface\":[{\"colorbar\":{\"outlinewidth\":0,\"ticks\":\"\"},\"colorscale\":[[0.0,\"#0d0887\"],[0.1111111111111111,\"#46039f\"],[0.2222222222222222,\"#7201a8\"],[0.3333333333333333,\"#9c179e\"],[0.4444444444444444,\"#bd3786\"],[0.5555555555555556,\"#d8576b\"],[0.6666666666666666,\"#ed7953\"],[0.7777777777777778,\"#fb9f3a\"],[0.8888888888888888,\"#fdca26\"],[1.0,\"#f0f921\"]],\"type\":\"surface\"}],\"table\":[{\"cells\":{\"fill\":{\"color\":\"#EBF0F8\"},\"line\":{\"color\":\"white\"}},\"header\":{\"fill\":{\"color\":\"#C8D4E3\"},\"line\":{\"color\":\"white\"}},\"type\":\"table\"}]},\"layout\":{\"annotationdefaults\":{\"arrowcolor\":\"#2a3f5f\",\"arrowhead\":0,\"arrowwidth\":1},\"autotypenumbers\":\"strict\",\"coloraxis\":{\"colorbar\":{\"outlinewidth\":0,\"ticks\":\"\"}},\"colorscale\":{\"diverging\":[[0,\"#8e0152\"],[0.1,\"#c51b7d\"],[0.2,\"#de77ae\"],[0.3,\"#f1b6da\"],[0.4,\"#fde0ef\"],[0.5,\"#f7f7f7\"],[0.6,\"#e6f5d0\"],[0.7,\"#b8e186\"],[0.8,\"#7fbc41\"],[0.9,\"#4d9221\"],[1,\"#276419\"]],\"sequential\":[[0.0,\"#0d0887\"],[0.1111111111111111,\"#46039f\"],[0.2222222222222222,\"#7201a8\"],[0.3333333333333333,\"#9c179e\"],[0.4444444444444444,\"#bd3786\"],[0.5555555555555556,\"#d8576b\"],[0.6666666666666666,\"#ed7953\"],[0.7777777777777778,\"#fb9f3a\"],[0.8888888888888888,\"#fdca26\"],[1.0,\"#f0f921\"]],\"sequentialminus\":[[0.0,\"#0d0887\"],[0.1111111111111111,\"#46039f\"],[0.2222222222222222,\"#7201a8\"],[0.3333333333333333,\"#9c179e\"],[0.4444444444444444,\"#bd3786\"],[0.5555555555555556,\"#d8576b\"],[0.6666666666666666,\"#ed7953\"],[0.7777777777777778,\"#fb9f3a\"],[0.8888888888888888,\"#fdca26\"],[1.0,\"#f0f921\"]]},\"colorway\":[\"#636efa\",\"#EF553B\",\"#00cc96\",\"#ab63fa\",\"#FFA15A\",\"#19d3f3\",\"#FF6692\",\"#B6E880\",\"#FF97FF\",\"#FECB52\"],\"font\":{\"color\":\"#2a3f5f\"},\"geo\":{\"bgcolor\":\"white\",\"lakecolor\":\"white\",\"landcolor\":\"#E5ECF6\",\"showlakes\":true,\"showland\":true,\"subunitcolor\":\"white\"},\"hoverlabel\":{\"align\":\"left\"},\"hovermode\":\"closest\",\"mapbox\":{\"style\":\"light\"},\"paper_bgcolor\":\"white\",\"plot_bgcolor\":\"#E5ECF6\",\"polar\":{\"angularaxis\":{\"gridcolor\":\"white\",\"linecolor\":\"white\",\"ticks\":\"\"},\"bgcolor\":\"#E5ECF6\",\"radialaxis\":{\"gridcolor\":\"white\",\"linecolor\":\"white\",\"ticks\":\"\"}},\"scene\":{\"xaxis\":{\"backgroundcolor\":\"#E5ECF6\",\"gridcolor\":\"white\",\"gridwidth\":2,\"linecolor\":\"white\",\"showbackground\":true,\"ticks\":\"\",\"zerolinecolor\":\"white\"},\"yaxis\":{\"backgroundcolor\":\"#E5ECF6\",\"gridcolor\":\"white\",\"gridwidth\":2,\"linecolor\":\"white\",\"showbackground\":true,\"ticks\":\"\",\"zerolinecolor\":\"white\"},\"zaxis\":{\"backgroundcolor\":\"#E5ECF6\",\"gridcolor\":\"white\",\"gridwidth\":2,\"linecolor\":\"white\",\"showbackground\":true,\"ticks\":\"\",\"zerolinecolor\":\"white\"}},\"shapedefaults\":{\"line\":{\"color\":\"#2a3f5f\"}},\"ternary\":{\"aaxis\":{\"gridcolor\":\"white\",\"linecolor\":\"white\",\"ticks\":\"\"},\"baxis\":{\"gridcolor\":\"white\",\"linecolor\":\"white\",\"ticks\":\"\"},\"bgcolor\":\"#E5ECF6\",\"caxis\":{\"gridcolor\":\"white\",\"linecolor\":\"white\",\"ticks\":\"\"}},\"title\":{\"x\":0.05},\"xaxis\":{\"automargin\":true,\"gridcolor\":\"white\",\"linecolor\":\"white\",\"ticks\":\"\",\"title\":{\"standoff\":15},\"zerolinecolor\":\"white\",\"zerolinewidth\":2},\"yaxis\":{\"automargin\":true,\"gridcolor\":\"white\",\"linecolor\":\"white\",\"ticks\":\"\",\"title\":{\"standoff\":15},\"zerolinecolor\":\"white\",\"zerolinewidth\":2}}},\"ternary\":{\"aaxis\":{\"title\":{\"text\":\"Or\"}},\"baxis\":{\"title\":{\"text\":\"Ab\"}},\"caxis\":{\"title\":{\"text\":\"An\"}},\"domain\":{\"x\":[0.0,1.0],\"y\":[0.0,1.0]}}},                        {\"responsive\": true}                    ).then(function(){\n",
       "                            \n",
       "var gd = document.getElementById('aec9682d-8981-413c-9188-8e9381284d7f');\n",
       "var x = new MutationObserver(function (mutations, observer) {{\n",
       "        var display = window.getComputedStyle(gd).display;\n",
       "        if (!display || display === 'none') {{\n",
       "            console.log([gd, 'removed!']);\n",
       "            Plotly.purge(gd);\n",
       "            observer.disconnect();\n",
       "        }}\n",
       "}});\n",
       "\n",
       "// Listen for the removal of the full notebook cells\n",
       "var notebookContainer = gd.closest('#notebook-container');\n",
       "if (notebookContainer) {{\n",
       "    x.observe(notebookContainer, {childList: true});\n",
       "}}\n",
       "\n",
       "// Listen for the clearing of the current output cell\n",
       "var outputEl = gd.closest('.output');\n",
       "if (outputEl) {{\n",
       "    x.observe(outputEl, {childList: true});\n",
       "}}\n",
       "\n",
       "                        })                };                });            </script>        </div>"
      ]
     },
     "metadata": {},
     "output_type": "display_data"
    }
   ],
   "source": [
    "Fspar_Class=Han.loc[Han[\"Fspar_Class\"]==\"Fspar\"]\n",
    "import plotly.express as px\n",
    "fig = px.scatter_ternary(Fspar_Class, a=\"Or\", b=\"Ab\", c=\"An\")\n",
    "fig.show()"
   ]
  },
  {
   "cell_type": "code",
   "execution_count": 7,
   "id": "5a735fd7-f856-4d28-bd0e-65e68c211192",
   "metadata": {},
   "outputs": [
    {
     "data": {
      "application/vnd.plotly.v1+json": {
       "config": {
        "plotlyServerURL": "https://plot.ly"
       },
       "data": [
        {
         "a": [
          0.7385027042953853,
          0.7527662336773409,
          0.7305826521843877,
          0.7445026784509854,
          0.7255796825149239,
          0.7359908465463835,
          0.7629663577861594,
          0.8027219814145752,
          0.8136414437150925,
          0.8172715347174949,
          0.8324911844555438,
          0.8423205965065593,
          0.7782420099534775,
          0.8545894609658296,
          0.7980860194282099,
          0.7887830359455554,
          0.8568226267270488,
          0.8520757640885188,
          0.7431840549115825,
          0.7681826642840985,
          0.8754900487324991,
          0.8727148371788627,
          0.7680158978057426,
          0.7488476028441298,
          0.8725171140307347,
          0.8654139463196998,
          0.8200920712971693,
          0.8197952350516439,
          0.8543564859470285,
          0.8500484805444726,
          0.868617251703812,
          0.8693103080085738,
          0.5297172986104313,
          0.5153134944948901,
          0.4914938788710637,
          0.5164625347994696,
          0.3858517739014803,
          0.37905346346372937,
          0.5956758114678724,
          0.6220207835780065,
          0.7288345809731811,
          0.581237264022783,
          0.6620161341757691,
          0.6986446510151667,
          0.6898479964986796,
          0.7161558742021663,
          0.6485180366323309,
          0.6388694765699043,
          0.6111408755018445,
          0.6534428122678655,
          0.7205371590258237,
          0.6909785759617119,
          0.7167429848609773,
          0.762609939049499,
          0.7532815220717105,
          0.6822528884180414,
          0.628373450905841,
          0.584686457633335,
          0.6355985192638944,
          0.6382850720561996,
          0.6201622881901792,
          0.545993093320374,
          0.6108153779179781,
          0.5865667544192754,
          0.5896420403829559,
          0.5405314602146993,
          0.47832858863174793,
          0.5431436456958911,
          0.5508452886047842,
          0.5376662685629443,
          0.550256388966148,
          0.6028156073345663,
          0.5518800113322342,
          0.5987545063873098,
          0.6093781530251516,
          0.5801126643746458,
          0.5915575376013731,
          0.6570731908500865,
          0.7044169818397764,
          0.760256436102739,
          0.5921672280851924,
          0.6136831450775924,
          0.6316190859940405,
          0.7134628731406146,
          0.7069597622742678,
          0.7470461474562029,
          0.4084509240759031,
          0.4566445932421479,
          0.4124963754468275,
          0.4113831166778459,
          0.4440132455797685,
          0.756959315121517,
          0.6561044732819509,
          0.6445724708499215,
          0.5277179007603467,
          0.473655949431957,
          0.690770552459824,
          0.6626874983662127,
          0.42311156173636677,
          0.4126143261476707,
          0.42439875438300667,
          0.4140917127617616,
          0.4063684775090085,
          0.8947828910941472,
          0.9138608962484764
         ],
         "b": [
          0.24723033950462855,
          0.23692897174424835,
          0.25589113890057,
          0.24307213528995275,
          0.260049482808335,
          0.25162206045135815,
          0.228706243504133,
          0.19203434943519376,
          0.18169259221872228,
          0.17873321707402443,
          0.16456655355665115,
          0.1543592695917053,
          0.21532888263342728,
          0.14346784083342826,
          0.19846230871596418,
          0.20411692914907795,
          0.14156670448034814,
          0.1457279074114573,
          0.24233217259097062,
          0.2233458768805273,
          0.12324019880827732,
          0.12581214980779004,
          0.2225749470026567,
          0.23832994665673274,
          0.12548375836419134,
          0.13263152745359832,
          0.17489198480031462,
          0.17541988605357392,
          0.141610290786429,
          0.14745822224594357,
          0.12922801888094723,
          0.12878771982306053,
          0.4513854089444027,
          0.4645316564897624,
          0.49639611166482606,
          0.474563039410959,
          0.6131936834914945,
          0.6200129368738866,
          0.3398164751405822,
          0.33163553908372956,
          0.22207602551735633,
          0.31551775666587323,
          0.2859860314891305,
          0.25558466612891784,
          0.26691797623229185,
          0.24594078264870017,
          0.2730067981446768,
          0.29628999948449264,
          0.3562400803076593,
          0.29742153661746745,
          0.2539673363620967,
          0.27189213641945076,
          0.2505461400329245,
          0.21357714899909952,
          0.21844395024854493,
          0.2821611668308985,
          0.33661477084744057,
          0.34990089657066625,
          0.3158836648422602,
          0.31647187265270893,
          0.3323167589267434,
          0.3682143762495051,
          0.3103317960926291,
          0.3437760738854634,
          0.3463440028687015,
          0.3746730007930437,
          0.41574224162014367,
          0.3983980191403157,
          0.394674860038155,
          0.33159237712982853,
          0.39488987454002095,
          0.35795794988912677,
          0.4057797401726884,
          0.3694216335169621,
          0.357238935750416,
          0.3657960223064919,
          0.37444877017253225,
          0.3168089875123846,
          0.27794574755412516,
          0.22590073371772643,
          0.37426050653736004,
          0.3550380233545261,
          0.3389501112677068,
          0.2535757623499414,
          0.27199265078074314,
          0.19113615436532502,
          0.5651238349459642,
          0.5394960424686037,
          0.5807671872542308,
          0.5833087634395892,
          0.5535589186484163,
          0.2373523853890265,
          0.3320874052074355,
          0.34152102779678006,
          0.464056455996802,
          0.5123857440029463,
          0.2984311916380051,
          0.3236661894950199,
          0.5593637972953419,
          0.5715173182693709,
          0.5660065792382782,
          0.5838564569695059,
          0.5911071239760998,
          0.10417044361374327,
          0.08459788122710227
         ],
         "c": [
          0.014266956199986077,
          0.010304794578410784,
          0.013526208915042269,
          0.012425186259061822,
          0.014370834676741,
          0.012387093002258324,
          0.008327398709707607,
          0.005243669150230964,
          0.004665964066185268,
          0.003995248208480681,
          0.002942261987804975,
          0.0033201339017353846,
          0.006429107413095182,
          0.001942698200742187,
          0.0034516718558259564,
          0.007100034905366592,
          0.0016106687926031266,
          0.002196328500023824,
          0.014483772497446947,
          0.008471458835374158,
          0.0012697524592236067,
          0.001473013013347313,
          0.009409155191600682,
          0.012822450499137439,
          0.00199912760507387,
          0.0019545262267018624,
          0.005015943902516078,
          0.004784878894782209,
          0.0040332232665424616,
          0.0024932972095838566,
          0.002154729415240733,
          0.0019019721683655871,
          0.018897292445166053,
          0.020154849015347556,
          0.012110009464110281,
          0.008974425789571416,
          0.0009545426070252649,
          0.0009335996623840366,
          0.06450771339154539,
          0.04634367733826393,
          0.04908939350946256,
          0.10324497931134381,
          0.05199783433510047,
          0.04577068285591549,
          0.04323402726902863,
          0.0379033431491336,
          0.07847516522299235,
          0.06484052394560307,
          0.03261904419049621,
          0.049135651114667105,
          0.02549550461207965,
          0.03712928761883735,
          0.03271087510609816,
          0.02381291195140143,
          0.028274527679744574,
          0.03558594475106002,
          0.035011778246718396,
          0.06541264579599869,
          0.048517815893845295,
          0.04524305529109156,
          0.04752095288307744,
          0.08579253043012093,
          0.07885282598939271,
          0.0696571716952612,
          0.06401395674834261,
          0.08479553899225706,
          0.10592916974810837,
          0.05845833516379314,
          0.05447985135706085,
          0.13074135430722705,
          0.05485373649383099,
          0.0392264427763069,
          0.04234024849507739,
          0.031823860095728074,
          0.033382911224432335,
          0.054091313318862286,
          0.03399369222609461,
          0.026117821637528873,
          0.01763727060609846,
          0.013842830179534568,
          0.03357226537744759,
          0.03127883156788152,
          0.029430802738252666,
          0.032961364509444036,
          0.021047586944989132,
          0.06181769817847206,
          0.02642524097813274,
          0.0038593642892484088,
          0.006736437298941718,
          0.005308119882564974,
          0.0024278357718152095,
          0.00568829948945644,
          0.011808121510613643,
          0.013906501353298437,
          0.008225643242851195,
          0.013958306565096718,
          0.010798255902170819,
          0.013646312138767474,
          0.017524640968291292,
          0.01586835558295835,
          0.009594666378715071,
          0.0020518302687324978,
          0.002524398514891717,
          0.0010466652921095473,
          0.0015412225244213432
         ],
         "hovertemplate": "Or=%{a}<br>Ab=%{b}<br>An=%{c}<extra></extra>",
         "legendgroup": "",
         "marker": {
          "color": "#636efa",
          "symbol": "circle"
         },
         "mode": "markers",
         "name": "",
         "showlegend": false,
         "subplot": "ternary",
         "type": "scatterternary"
        }
       ],
       "layout": {
        "autosize": true,
        "legend": {
         "tracegroupgap": 0
        },
        "margin": {
         "t": 60
        },
        "template": {
         "data": {
          "bar": [
           {
            "error_x": {
             "color": "#2a3f5f"
            },
            "error_y": {
             "color": "#2a3f5f"
            },
            "marker": {
             "line": {
              "color": "#E5ECF6",
              "width": 0.5
             },
             "pattern": {
              "fillmode": "overlay",
              "size": 10,
              "solidity": 0.2
             }
            },
            "type": "bar"
           }
          ],
          "barpolar": [
           {
            "marker": {
             "line": {
              "color": "#E5ECF6",
              "width": 0.5
             },
             "pattern": {
              "fillmode": "overlay",
              "size": 10,
              "solidity": 0.2
             }
            },
            "type": "barpolar"
           }
          ],
          "carpet": [
           {
            "aaxis": {
             "endlinecolor": "#2a3f5f",
             "gridcolor": "white",
             "linecolor": "white",
             "minorgridcolor": "white",
             "startlinecolor": "#2a3f5f"
            },
            "baxis": {
             "endlinecolor": "#2a3f5f",
             "gridcolor": "white",
             "linecolor": "white",
             "minorgridcolor": "white",
             "startlinecolor": "#2a3f5f"
            },
            "type": "carpet"
           }
          ],
          "choropleth": [
           {
            "colorbar": {
             "outlinewidth": 0,
             "ticks": ""
            },
            "type": "choropleth"
           }
          ],
          "contour": [
           {
            "colorbar": {
             "outlinewidth": 0,
             "ticks": ""
            },
            "colorscale": [
             [
              0,
              "#0d0887"
             ],
             [
              0.1111111111111111,
              "#46039f"
             ],
             [
              0.2222222222222222,
              "#7201a8"
             ],
             [
              0.3333333333333333,
              "#9c179e"
             ],
             [
              0.4444444444444444,
              "#bd3786"
             ],
             [
              0.5555555555555556,
              "#d8576b"
             ],
             [
              0.6666666666666666,
              "#ed7953"
             ],
             [
              0.7777777777777778,
              "#fb9f3a"
             ],
             [
              0.8888888888888888,
              "#fdca26"
             ],
             [
              1,
              "#f0f921"
             ]
            ],
            "type": "contour"
           }
          ],
          "contourcarpet": [
           {
            "colorbar": {
             "outlinewidth": 0,
             "ticks": ""
            },
            "type": "contourcarpet"
           }
          ],
          "heatmap": [
           {
            "colorbar": {
             "outlinewidth": 0,
             "ticks": ""
            },
            "colorscale": [
             [
              0,
              "#0d0887"
             ],
             [
              0.1111111111111111,
              "#46039f"
             ],
             [
              0.2222222222222222,
              "#7201a8"
             ],
             [
              0.3333333333333333,
              "#9c179e"
             ],
             [
              0.4444444444444444,
              "#bd3786"
             ],
             [
              0.5555555555555556,
              "#d8576b"
             ],
             [
              0.6666666666666666,
              "#ed7953"
             ],
             [
              0.7777777777777778,
              "#fb9f3a"
             ],
             [
              0.8888888888888888,
              "#fdca26"
             ],
             [
              1,
              "#f0f921"
             ]
            ],
            "type": "heatmap"
           }
          ],
          "heatmapgl": [
           {
            "colorbar": {
             "outlinewidth": 0,
             "ticks": ""
            },
            "colorscale": [
             [
              0,
              "#0d0887"
             ],
             [
              0.1111111111111111,
              "#46039f"
             ],
             [
              0.2222222222222222,
              "#7201a8"
             ],
             [
              0.3333333333333333,
              "#9c179e"
             ],
             [
              0.4444444444444444,
              "#bd3786"
             ],
             [
              0.5555555555555556,
              "#d8576b"
             ],
             [
              0.6666666666666666,
              "#ed7953"
             ],
             [
              0.7777777777777778,
              "#fb9f3a"
             ],
             [
              0.8888888888888888,
              "#fdca26"
             ],
             [
              1,
              "#f0f921"
             ]
            ],
            "type": "heatmapgl"
           }
          ],
          "histogram": [
           {
            "marker": {
             "pattern": {
              "fillmode": "overlay",
              "size": 10,
              "solidity": 0.2
             }
            },
            "type": "histogram"
           }
          ],
          "histogram2d": [
           {
            "colorbar": {
             "outlinewidth": 0,
             "ticks": ""
            },
            "colorscale": [
             [
              0,
              "#0d0887"
             ],
             [
              0.1111111111111111,
              "#46039f"
             ],
             [
              0.2222222222222222,
              "#7201a8"
             ],
             [
              0.3333333333333333,
              "#9c179e"
             ],
             [
              0.4444444444444444,
              "#bd3786"
             ],
             [
              0.5555555555555556,
              "#d8576b"
             ],
             [
              0.6666666666666666,
              "#ed7953"
             ],
             [
              0.7777777777777778,
              "#fb9f3a"
             ],
             [
              0.8888888888888888,
              "#fdca26"
             ],
             [
              1,
              "#f0f921"
             ]
            ],
            "type": "histogram2d"
           }
          ],
          "histogram2dcontour": [
           {
            "colorbar": {
             "outlinewidth": 0,
             "ticks": ""
            },
            "colorscale": [
             [
              0,
              "#0d0887"
             ],
             [
              0.1111111111111111,
              "#46039f"
             ],
             [
              0.2222222222222222,
              "#7201a8"
             ],
             [
              0.3333333333333333,
              "#9c179e"
             ],
             [
              0.4444444444444444,
              "#bd3786"
             ],
             [
              0.5555555555555556,
              "#d8576b"
             ],
             [
              0.6666666666666666,
              "#ed7953"
             ],
             [
              0.7777777777777778,
              "#fb9f3a"
             ],
             [
              0.8888888888888888,
              "#fdca26"
             ],
             [
              1,
              "#f0f921"
             ]
            ],
            "type": "histogram2dcontour"
           }
          ],
          "mesh3d": [
           {
            "colorbar": {
             "outlinewidth": 0,
             "ticks": ""
            },
            "type": "mesh3d"
           }
          ],
          "parcoords": [
           {
            "line": {
             "colorbar": {
              "outlinewidth": 0,
              "ticks": ""
             }
            },
            "type": "parcoords"
           }
          ],
          "pie": [
           {
            "automargin": true,
            "type": "pie"
           }
          ],
          "scatter": [
           {
            "marker": {
             "colorbar": {
              "outlinewidth": 0,
              "ticks": ""
             }
            },
            "type": "scatter"
           }
          ],
          "scatter3d": [
           {
            "line": {
             "colorbar": {
              "outlinewidth": 0,
              "ticks": ""
             }
            },
            "marker": {
             "colorbar": {
              "outlinewidth": 0,
              "ticks": ""
             }
            },
            "type": "scatter3d"
           }
          ],
          "scattercarpet": [
           {
            "marker": {
             "colorbar": {
              "outlinewidth": 0,
              "ticks": ""
             }
            },
            "type": "scattercarpet"
           }
          ],
          "scattergeo": [
           {
            "marker": {
             "colorbar": {
              "outlinewidth": 0,
              "ticks": ""
             }
            },
            "type": "scattergeo"
           }
          ],
          "scattergl": [
           {
            "marker": {
             "colorbar": {
              "outlinewidth": 0,
              "ticks": ""
             }
            },
            "type": "scattergl"
           }
          ],
          "scattermapbox": [
           {
            "marker": {
             "colorbar": {
              "outlinewidth": 0,
              "ticks": ""
             }
            },
            "type": "scattermapbox"
           }
          ],
          "scatterpolar": [
           {
            "marker": {
             "colorbar": {
              "outlinewidth": 0,
              "ticks": ""
             }
            },
            "type": "scatterpolar"
           }
          ],
          "scatterpolargl": [
           {
            "marker": {
             "colorbar": {
              "outlinewidth": 0,
              "ticks": ""
             }
            },
            "type": "scatterpolargl"
           }
          ],
          "scatterternary": [
           {
            "marker": {
             "colorbar": {
              "outlinewidth": 0,
              "ticks": ""
             }
            },
            "type": "scatterternary"
           }
          ],
          "surface": [
           {
            "colorbar": {
             "outlinewidth": 0,
             "ticks": ""
            },
            "colorscale": [
             [
              0,
              "#0d0887"
             ],
             [
              0.1111111111111111,
              "#46039f"
             ],
             [
              0.2222222222222222,
              "#7201a8"
             ],
             [
              0.3333333333333333,
              "#9c179e"
             ],
             [
              0.4444444444444444,
              "#bd3786"
             ],
             [
              0.5555555555555556,
              "#d8576b"
             ],
             [
              0.6666666666666666,
              "#ed7953"
             ],
             [
              0.7777777777777778,
              "#fb9f3a"
             ],
             [
              0.8888888888888888,
              "#fdca26"
             ],
             [
              1,
              "#f0f921"
             ]
            ],
            "type": "surface"
           }
          ],
          "table": [
           {
            "cells": {
             "fill": {
              "color": "#EBF0F8"
             },
             "line": {
              "color": "white"
             }
            },
            "header": {
             "fill": {
              "color": "#C8D4E3"
             },
             "line": {
              "color": "white"
             }
            },
            "type": "table"
           }
          ]
         },
         "layout": {
          "annotationdefaults": {
           "arrowcolor": "#2a3f5f",
           "arrowhead": 0,
           "arrowwidth": 1
          },
          "autotypenumbers": "strict",
          "coloraxis": {
           "colorbar": {
            "outlinewidth": 0,
            "ticks": ""
           }
          },
          "colorscale": {
           "diverging": [
            [
             0,
             "#8e0152"
            ],
            [
             0.1,
             "#c51b7d"
            ],
            [
             0.2,
             "#de77ae"
            ],
            [
             0.3,
             "#f1b6da"
            ],
            [
             0.4,
             "#fde0ef"
            ],
            [
             0.5,
             "#f7f7f7"
            ],
            [
             0.6,
             "#e6f5d0"
            ],
            [
             0.7,
             "#b8e186"
            ],
            [
             0.8,
             "#7fbc41"
            ],
            [
             0.9,
             "#4d9221"
            ],
            [
             1,
             "#276419"
            ]
           ],
           "sequential": [
            [
             0,
             "#0d0887"
            ],
            [
             0.1111111111111111,
             "#46039f"
            ],
            [
             0.2222222222222222,
             "#7201a8"
            ],
            [
             0.3333333333333333,
             "#9c179e"
            ],
            [
             0.4444444444444444,
             "#bd3786"
            ],
            [
             0.5555555555555556,
             "#d8576b"
            ],
            [
             0.6666666666666666,
             "#ed7953"
            ],
            [
             0.7777777777777778,
             "#fb9f3a"
            ],
            [
             0.8888888888888888,
             "#fdca26"
            ],
            [
             1,
             "#f0f921"
            ]
           ],
           "sequentialminus": [
            [
             0,
             "#0d0887"
            ],
            [
             0.1111111111111111,
             "#46039f"
            ],
            [
             0.2222222222222222,
             "#7201a8"
            ],
            [
             0.3333333333333333,
             "#9c179e"
            ],
            [
             0.4444444444444444,
             "#bd3786"
            ],
            [
             0.5555555555555556,
             "#d8576b"
            ],
            [
             0.6666666666666666,
             "#ed7953"
            ],
            [
             0.7777777777777778,
             "#fb9f3a"
            ],
            [
             0.8888888888888888,
             "#fdca26"
            ],
            [
             1,
             "#f0f921"
            ]
           ]
          },
          "colorway": [
           "#636efa",
           "#EF553B",
           "#00cc96",
           "#ab63fa",
           "#FFA15A",
           "#19d3f3",
           "#FF6692",
           "#B6E880",
           "#FF97FF",
           "#FECB52"
          ],
          "font": {
           "color": "#2a3f5f"
          },
          "geo": {
           "bgcolor": "white",
           "lakecolor": "white",
           "landcolor": "#E5ECF6",
           "showlakes": true,
           "showland": true,
           "subunitcolor": "white"
          },
          "hoverlabel": {
           "align": "left"
          },
          "hovermode": "closest",
          "mapbox": {
           "style": "light"
          },
          "paper_bgcolor": "white",
          "plot_bgcolor": "#E5ECF6",
          "polar": {
           "angularaxis": {
            "gridcolor": "white",
            "linecolor": "white",
            "ticks": ""
           },
           "bgcolor": "#E5ECF6",
           "radialaxis": {
            "gridcolor": "white",
            "linecolor": "white",
            "ticks": ""
           }
          },
          "scene": {
           "xaxis": {
            "backgroundcolor": "#E5ECF6",
            "gridcolor": "white",
            "gridwidth": 2,
            "linecolor": "white",
            "showbackground": true,
            "ticks": "",
            "zerolinecolor": "white"
           },
           "yaxis": {
            "backgroundcolor": "#E5ECF6",
            "gridcolor": "white",
            "gridwidth": 2,
            "linecolor": "white",
            "showbackground": true,
            "ticks": "",
            "zerolinecolor": "white"
           },
           "zaxis": {
            "backgroundcolor": "#E5ECF6",
            "gridcolor": "white",
            "gridwidth": 2,
            "linecolor": "white",
            "showbackground": true,
            "ticks": "",
            "zerolinecolor": "white"
           }
          },
          "shapedefaults": {
           "line": {
            "color": "#2a3f5f"
           }
          },
          "ternary": {
           "aaxis": {
            "gridcolor": "white",
            "linecolor": "white",
            "ticks": ""
           },
           "baxis": {
            "gridcolor": "white",
            "linecolor": "white",
            "ticks": ""
           },
           "bgcolor": "#E5ECF6",
           "caxis": {
            "gridcolor": "white",
            "linecolor": "white",
            "ticks": ""
           }
          },
          "title": {
           "x": 0.05
          },
          "xaxis": {
           "automargin": true,
           "gridcolor": "white",
           "linecolor": "white",
           "ticks": "",
           "title": {
            "standoff": 15
           },
           "zerolinecolor": "white",
           "zerolinewidth": 2
          },
          "yaxis": {
           "automargin": true,
           "gridcolor": "white",
           "linecolor": "white",
           "ticks": "",
           "title": {
            "standoff": 15
           },
           "zerolinecolor": "white",
           "zerolinewidth": 2
          }
         }
        },
        "ternary": {
         "aaxis": {
          "title": {
           "text": "Or"
          }
         },
         "baxis": {
          "title": {
           "text": "Ab"
          }
         },
         "caxis": {
          "title": {
           "text": "An"
          }
         },
         "domain": {
          "x": [
           0,
           1
          ],
          "y": [
           0,
           1
          ]
         }
        }
       }
      },
      "image/png": "[encoded data removed]",
      "text/html": [
       "<div>                            <div id=\"3e44af88-64cf-4f50-b43f-2a231db00923\" class=\"plotly-graph-div\" style=\"height:525px; width:100%;\"></div>            <script type=\"text/javascript\">                require([\"plotly\"], function(Plotly) {                    window.PLOTLYENV=window.PLOTLYENV || {};                                    if (document.getElementById(\"3e44af88-64cf-4f50-b43f-2a231db00923\")) {                    Plotly.newPlot(                        \"3e44af88-64cf-4f50-b43f-2a231db00923\",                        [{\"a\":[0.7385027042953853,0.7527662336773409,0.7305826521843877,0.7445026784509854,0.7255796825149239,0.7359908465463835,0.7629663577861594,0.8027219814145752,0.8136414437150925,0.8172715347174949,0.8324911844555438,0.8423205965065593,0.7782420099534775,0.8545894609658296,0.7980860194282099,0.7887830359455554,0.8568226267270488,0.8520757640885188,0.7431840549115825,0.7681826642840985,0.8754900487324991,0.8727148371788627,0.7680158978057426,0.7488476028441298,0.8725171140307347,0.8654139463196998,0.8200920712971693,0.8197952350516439,0.8543564859470285,0.8500484805444726,0.868617251703812,0.8693103080085738,0.5297172986104313,0.5153134944948901,0.4914938788710637,0.5164625347994696,0.3858517739014803,0.37905346346372937,0.5956758114678724,0.6220207835780065,0.7288345809731811,0.581237264022783,0.6620161341757691,0.6986446510151667,0.6898479964986796,0.7161558742021663,0.6485180366323309,0.6388694765699043,0.6111408755018445,0.6534428122678655,0.7205371590258237,0.6909785759617119,0.7167429848609773,0.762609939049499,0.7532815220717105,0.6822528884180414,0.628373450905841,0.584686457633335,0.6355985192638944,0.6382850720561996,0.6201622881901792,0.545993093320374,0.6108153779179781,0.5865667544192754,0.5896420403829559,0.5405314602146993,0.47832858863174793,0.5431436456958911,0.5508452886047842,0.5376662685629443,0.550256388966148,0.6028156073345663,0.5518800113322342,0.5987545063873098,0.6093781530251516,0.5801126643746458,0.5915575376013731,0.6570731908500865,0.7044169818397764,0.760256436102739,0.5921672280851924,0.6136831450775924,0.6316190859940405,0.7134628731406146,0.7069597622742678,0.7470461474562029,0.4084509240759031,0.4566445932421479,0.4124963754468275,0.4113831166778459,0.4440132455797685,0.756959315121517,0.6561044732819509,0.6445724708499215,0.5277179007603467,0.473655949431957,0.690770552459824,0.6626874983662127,0.42311156173636677,0.4126143261476707,0.42439875438300667,0.4140917127617616,0.4063684775090085,0.8947828910941472,0.9138608962484764],\"b\":[0.24723033950462855,0.23692897174424835,0.25589113890057,0.24307213528995275,0.260049482808335,0.25162206045135815,0.228706243504133,0.19203434943519376,0.18169259221872228,0.17873321707402443,0.16456655355665115,0.1543592695917053,0.21532888263342728,0.14346784083342826,0.19846230871596418,0.20411692914907795,0.14156670448034814,0.1457279074114573,0.24233217259097062,0.2233458768805273,0.12324019880827732,0.12581214980779004,0.2225749470026567,0.23832994665673274,0.12548375836419134,0.13263152745359832,0.17489198480031462,0.17541988605357392,0.141610290786429,0.14745822224594357,0.12922801888094723,0.12878771982306053,0.4513854089444027,0.4645316564897624,0.49639611166482606,0.474563039410959,0.6131936834914945,0.6200129368738866,0.3398164751405822,0.33163553908372956,0.22207602551735633,0.31551775666587323,0.2859860314891305,0.25558466612891784,0.26691797623229185,0.24594078264870017,0.2730067981446768,0.29628999948449264,0.3562400803076593,0.29742153661746745,0.2539673363620967,0.27189213641945076,0.2505461400329245,0.21357714899909952,0.21844395024854493,0.2821611668308985,0.33661477084744057,0.34990089657066625,0.3158836648422602,0.31647187265270893,0.3323167589267434,0.3682143762495051,0.3103317960926291,0.3437760738854634,0.3463440028687015,0.3746730007930437,0.41574224162014367,0.3983980191403157,0.394674860038155,0.33159237712982853,0.39488987454002095,0.35795794988912677,0.4057797401726884,0.3694216335169621,0.357238935750416,0.3657960223064919,0.37444877017253225,0.3168089875123846,0.27794574755412516,0.22590073371772643,0.37426050653736004,0.3550380233545261,0.3389501112677068,0.2535757623499414,0.27199265078074314,0.19113615436532502,0.5651238349459642,0.5394960424686037,0.5807671872542308,0.5833087634395892,0.5535589186484163,0.2373523853890265,0.3320874052074355,0.34152102779678006,0.464056455996802,0.5123857440029463,0.2984311916380051,0.3236661894950199,0.5593637972953419,0.5715173182693709,0.5660065792382782,0.5838564569695059,0.5911071239760998,0.10417044361374327,0.08459788122710227],\"c\":[0.014266956199986077,0.010304794578410784,0.013526208915042269,0.012425186259061822,0.014370834676741,0.012387093002258324,0.008327398709707607,0.005243669150230964,0.004665964066185268,0.003995248208480681,0.002942261987804975,0.0033201339017353846,0.006429107413095182,0.001942698200742187,0.0034516718558259564,0.007100034905366592,0.0016106687926031266,0.002196328500023824,0.014483772497446947,0.008471458835374158,0.0012697524592236067,0.001473013013347313,0.009409155191600682,0.012822450499137439,0.00199912760507387,0.0019545262267018624,0.005015943902516078,0.004784878894782209,0.0040332232665424616,0.0024932972095838566,0.002154729415240733,0.0019019721683655871,0.018897292445166053,0.020154849015347556,0.012110009464110281,0.008974425789571416,0.0009545426070252649,0.0009335996623840366,0.06450771339154539,0.04634367733826393,0.04908939350946256,0.10324497931134381,0.05199783433510047,0.04577068285591549,0.04323402726902863,0.0379033431491336,0.07847516522299235,0.06484052394560307,0.03261904419049621,0.049135651114667105,0.02549550461207965,0.03712928761883735,0.03271087510609816,0.02381291195140143,0.028274527679744574,0.03558594475106002,0.035011778246718396,0.06541264579599869,0.048517815893845295,0.04524305529109156,0.04752095288307744,0.08579253043012093,0.07885282598939271,0.0696571716952612,0.06401395674834261,0.08479553899225706,0.10592916974810837,0.05845833516379314,0.05447985135706085,0.13074135430722705,0.05485373649383099,0.0392264427763069,0.04234024849507739,0.031823860095728074,0.033382911224432335,0.054091313318862286,0.03399369222609461,0.026117821637528873,0.01763727060609846,0.013842830179534568,0.03357226537744759,0.03127883156788152,0.029430802738252666,0.032961364509444036,0.021047586944989132,0.06181769817847206,0.02642524097813274,0.0038593642892484088,0.006736437298941718,0.005308119882564974,0.0024278357718152095,0.00568829948945644,0.011808121510613643,0.013906501353298437,0.008225643242851195,0.013958306565096718,0.010798255902170819,0.013646312138767474,0.017524640968291292,0.01586835558295835,0.009594666378715071,0.0020518302687324978,0.002524398514891717,0.0010466652921095473,0.0015412225244213432],\"hovertemplate\":\"Or=%{a}<br>Ab=%{b}<br>An=%{c}<extra></extra>\",\"legendgroup\":\"\",\"marker\":{\"color\":\"#636efa\",\"symbol\":\"circle\"},\"mode\":\"markers\",\"name\":\"\",\"showlegend\":false,\"subplot\":\"ternary\",\"type\":\"scatterternary\"}],                        {\"legend\":{\"tracegroupgap\":0},\"margin\":{\"t\":60},\"template\":{\"data\":{\"bar\":[{\"error_x\":{\"color\":\"#2a3f5f\"},\"error_y\":{\"color\":\"#2a3f5f\"},\"marker\":{\"line\":{\"color\":\"#E5ECF6\",\"width\":0.5},\"pattern\":{\"fillmode\":\"overlay\",\"size\":10,\"solidity\":0.2}},\"type\":\"bar\"}],\"barpolar\":[{\"marker\":{\"line\":{\"color\":\"#E5ECF6\",\"width\":0.5},\"pattern\":{\"fillmode\":\"overlay\",\"size\":10,\"solidity\":0.2}},\"type\":\"barpolar\"}],\"carpet\":[{\"aaxis\":{\"endlinecolor\":\"#2a3f5f\",\"gridcolor\":\"white\",\"linecolor\":\"white\",\"minorgridcolor\":\"white\",\"startlinecolor\":\"#2a3f5f\"},\"baxis\":{\"endlinecolor\":\"#2a3f5f\",\"gridcolor\":\"white\",\"linecolor\":\"white\",\"minorgridcolor\":\"white\",\"startlinecolor\":\"#2a3f5f\"},\"type\":\"carpet\"}],\"choropleth\":[{\"colorbar\":{\"outlinewidth\":0,\"ticks\":\"\"},\"type\":\"choropleth\"}],\"contour\":[{\"colorbar\":{\"outlinewidth\":0,\"ticks\":\"\"},\"colorscale\":[[0.0,\"#0d0887\"],[0.1111111111111111,\"#46039f\"],[0.2222222222222222,\"#7201a8\"],[0.3333333333333333,\"#9c179e\"],[0.4444444444444444,\"#bd3786\"],[0.5555555555555556,\"#d8576b\"],[0.6666666666666666,\"#ed7953\"],[0.7777777777777778,\"#fb9f3a\"],[0.8888888888888888,\"#fdca26\"],[1.0,\"#f0f921\"]],\"type\":\"contour\"}],\"contourcarpet\":[{\"colorbar\":{\"outlinewidth\":0,\"ticks\":\"\"},\"type\":\"contourcarpet\"}],\"heatmap\":[{\"colorbar\":{\"outlinewidth\":0,\"ticks\":\"\"},\"colorscale\":[[0.0,\"#0d0887\"],[0.1111111111111111,\"#46039f\"],[0.2222222222222222,\"#7201a8\"],[0.3333333333333333,\"#9c179e\"],[0.4444444444444444,\"#bd3786\"],[0.5555555555555556,\"#d8576b\"],[0.6666666666666666,\"#ed7953\"],[0.7777777777777778,\"#fb9f3a\"],[0.8888888888888888,\"#fdca26\"],[1.0,\"#f0f921\"]],\"type\":\"heatmap\"}],\"heatmapgl\":[{\"colorbar\":{\"outlinewidth\":0,\"ticks\":\"\"},\"colorscale\":[[0.0,\"#0d0887\"],[0.1111111111111111,\"#46039f\"],[0.2222222222222222,\"#7201a8\"],[0.3333333333333333,\"#9c179e\"],[0.4444444444444444,\"#bd3786\"],[0.5555555555555556,\"#d8576b\"],[0.6666666666666666,\"#ed7953\"],[0.7777777777777778,\"#fb9f3a\"],[0.8888888888888888,\"#fdca26\"],[1.0,\"#f0f921\"]],\"type\":\"heatmapgl\"}],\"histogram\":[{\"marker\":{\"pattern\":{\"fillmode\":\"overlay\",\"size\":10,\"solidity\":0.2}},\"type\":\"histogram\"}],\"histogram2d\":[{\"colorbar\":{\"outlinewidth\":0,\"ticks\":\"\"},\"colorscale\":[[0.0,\"#0d0887\"],[0.1111111111111111,\"#46039f\"],[0.2222222222222222,\"#7201a8\"],[0.3333333333333333,\"#9c179e\"],[0.4444444444444444,\"#bd3786\"],[0.5555555555555556,\"#d8576b\"],[0.6666666666666666,\"#ed7953\"],[0.7777777777777778,\"#fb9f3a\"],[0.8888888888888888,\"#fdca26\"],[1.0,\"#f0f921\"]],\"type\":\"histogram2d\"}],\"histogram2dcontour\":[{\"colorbar\":{\"outlinewidth\":0,\"ticks\":\"\"},\"colorscale\":[[0.0,\"#0d0887\"],[0.1111111111111111,\"#46039f\"],[0.2222222222222222,\"#7201a8\"],[0.3333333333333333,\"#9c179e\"],[0.4444444444444444,\"#bd3786\"],[0.5555555555555556,\"#d8576b\"],[0.6666666666666666,\"#ed7953\"],[0.7777777777777778,\"#fb9f3a\"],[0.8888888888888888,\"#fdca26\"],[1.0,\"#f0f921\"]],\"type\":\"histogram2dcontour\"}],\"mesh3d\":[{\"colorbar\":{\"outlinewidth\":0,\"ticks\":\"\"},\"type\":\"mesh3d\"}],\"parcoords\":[{\"line\":{\"colorbar\":{\"outlinewidth\":0,\"ticks\":\"\"}},\"type\":\"parcoords\"}],\"pie\":[{\"automargin\":true,\"type\":\"pie\"}],\"scatter\":[{\"marker\":{\"colorbar\":{\"outlinewidth\":0,\"ticks\":\"\"}},\"type\":\"scatter\"}],\"scatter3d\":[{\"line\":{\"colorbar\":{\"outlinewidth\":0,\"ticks\":\"\"}},\"marker\":{\"colorbar\":{\"outlinewidth\":0,\"ticks\":\"\"}},\"type\":\"scatter3d\"}],\"scattercarpet\":[{\"marker\":{\"colorbar\":{\"outlinewidth\":0,\"ticks\":\"\"}},\"type\":\"scattercarpet\"}],\"scattergeo\":[{\"marker\":{\"colorbar\":{\"outlinewidth\":0,\"ticks\":\"\"}},\"type\":\"scattergeo\"}],\"scattergl\":[{\"marker\":{\"colorbar\":{\"outlinewidth\":0,\"ticks\":\"\"}},\"type\":\"scattergl\"}],\"scattermapbox\":[{\"marker\":{\"colorbar\":{\"outlinewidth\":0,\"ticks\":\"\"}},\"type\":\"scattermapbox\"}],\"scatterpolar\":[{\"marker\":{\"colorbar\":{\"outlinewidth\":0,\"ticks\":\"\"}},\"type\":\"scatterpolar\"}],\"scatterpolargl\":[{\"marker\":{\"colorbar\":{\"outlinewidth\":0,\"ticks\":\"\"}},\"type\":\"scatterpolargl\"}],\"scatterternary\":[{\"marker\":{\"colorbar\":{\"outlinewidth\":0,\"ticks\":\"\"}},\"type\":\"scatterternary\"}],\"surface\":[{\"colorbar\":{\"outlinewidth\":0,\"ticks\":\"\"},\"colorscale\":[[0.0,\"#0d0887\"],[0.1111111111111111,\"#46039f\"],[0.2222222222222222,\"#7201a8\"],[0.3333333333333333,\"#9c179e\"],[0.4444444444444444,\"#bd3786\"],[0.5555555555555556,\"#d8576b\"],[0.6666666666666666,\"#ed7953\"],[0.7777777777777778,\"#fb9f3a\"],[0.8888888888888888,\"#fdca26\"],[1.0,\"#f0f921\"]],\"type\":\"surface\"}],\"table\":[{\"cells\":{\"fill\":{\"color\":\"#EBF0F8\"},\"line\":{\"color\":\"white\"}},\"header\":{\"fill\":{\"color\":\"#C8D4E3\"},\"line\":{\"color\":\"white\"}},\"type\":\"table\"}]},\"layout\":{\"annotationdefaults\":{\"arrowcolor\":\"#2a3f5f\",\"arrowhead\":0,\"arrowwidth\":1},\"autotypenumbers\":\"strict\",\"coloraxis\":{\"colorbar\":{\"outlinewidth\":0,\"ticks\":\"\"}},\"colorscale\":{\"diverging\":[[0,\"#8e0152\"],[0.1,\"#c51b7d\"],[0.2,\"#de77ae\"],[0.3,\"#f1b6da\"],[0.4,\"#fde0ef\"],[0.5,\"#f7f7f7\"],[0.6,\"#e6f5d0\"],[0.7,\"#b8e186\"],[0.8,\"#7fbc41\"],[0.9,\"#4d9221\"],[1,\"#276419\"]],\"sequential\":[[0.0,\"#0d0887\"],[0.1111111111111111,\"#46039f\"],[0.2222222222222222,\"#7201a8\"],[0.3333333333333333,\"#9c179e\"],[0.4444444444444444,\"#bd3786\"],[0.5555555555555556,\"#d8576b\"],[0.6666666666666666,\"#ed7953\"],[0.7777777777777778,\"#fb9f3a\"],[0.8888888888888888,\"#fdca26\"],[1.0,\"#f0f921\"]],\"sequentialminus\":[[0.0,\"#0d0887\"],[0.1111111111111111,\"#46039f\"],[0.2222222222222222,\"#7201a8\"],[0.3333333333333333,\"#9c179e\"],[0.4444444444444444,\"#bd3786\"],[0.5555555555555556,\"#d8576b\"],[0.6666666666666666,\"#ed7953\"],[0.7777777777777778,\"#fb9f3a\"],[0.8888888888888888,\"#fdca26\"],[1.0,\"#f0f921\"]]},\"colorway\":[\"#636efa\",\"#EF553B\",\"#00cc96\",\"#ab63fa\",\"#FFA15A\",\"#19d3f3\",\"#FF6692\",\"#B6E880\",\"#FF97FF\",\"#FECB52\"],\"font\":{\"color\":\"#2a3f5f\"},\"geo\":{\"bgcolor\":\"white\",\"lakecolor\":\"white\",\"landcolor\":\"#E5ECF6\",\"showlakes\":true,\"showland\":true,\"subunitcolor\":\"white\"},\"hoverlabel\":{\"align\":\"left\"},\"hovermode\":\"closest\",\"mapbox\":{\"style\":\"light\"},\"paper_bgcolor\":\"white\",\"plot_bgcolor\":\"#E5ECF6\",\"polar\":{\"angularaxis\":{\"gridcolor\":\"white\",\"linecolor\":\"white\",\"ticks\":\"\"},\"bgcolor\":\"#E5ECF6\",\"radialaxis\":{\"gridcolor\":\"white\",\"linecolor\":\"white\",\"ticks\":\"\"}},\"scene\":{\"xaxis\":{\"backgroundcolor\":\"#E5ECF6\",\"gridcolor\":\"white\",\"gridwidth\":2,\"linecolor\":\"white\",\"showbackground\":true,\"ticks\":\"\",\"zerolinecolor\":\"white\"},\"yaxis\":{\"backgroundcolor\":\"#E5ECF6\",\"gridcolor\":\"white\",\"gridwidth\":2,\"linecolor\":\"white\",\"showbackground\":true,\"ticks\":\"\",\"zerolinecolor\":\"white\"},\"zaxis\":{\"backgroundcolor\":\"#E5ECF6\",\"gridcolor\":\"white\",\"gridwidth\":2,\"linecolor\":\"white\",\"showbackground\":true,\"ticks\":\"\",\"zerolinecolor\":\"white\"}},\"shapedefaults\":{\"line\":{\"color\":\"#2a3f5f\"}},\"ternary\":{\"aaxis\":{\"gridcolor\":\"white\",\"linecolor\":\"white\",\"ticks\":\"\"},\"baxis\":{\"gridcolor\":\"white\",\"linecolor\":\"white\",\"ticks\":\"\"},\"bgcolor\":\"#E5ECF6\",\"caxis\":{\"gridcolor\":\"white\",\"linecolor\":\"white\",\"ticks\":\"\"}},\"title\":{\"x\":0.05},\"xaxis\":{\"automargin\":true,\"gridcolor\":\"white\",\"linecolor\":\"white\",\"ticks\":\"\",\"title\":{\"standoff\":15},\"zerolinecolor\":\"white\",\"zerolinewidth\":2},\"yaxis\":{\"automargin\":true,\"gridcolor\":\"white\",\"linecolor\":\"white\",\"ticks\":\"\",\"title\":{\"standoff\":15},\"zerolinecolor\":\"white\",\"zerolinewidth\":2}}},\"ternary\":{\"aaxis\":{\"title\":{\"text\":\"Or\"}},\"baxis\":{\"title\":{\"text\":\"Ab\"}},\"caxis\":{\"title\":{\"text\":\"An\"}},\"domain\":{\"x\":[0.0,1.0],\"y\":[0.0,1.0]}}},                        {\"responsive\": true}                    ).then(function(){\n",
       "                            \n",
       "var gd = document.getElementById('3e44af88-64cf-4f50-b43f-2a231db00923');\n",
       "var x = new MutationObserver(function (mutations, observer) {{\n",
       "        var display = window.getComputedStyle(gd).display;\n",
       "        if (!display || display === 'none') {{\n",
       "            console.log([gd, 'removed!']);\n",
       "            Plotly.purge(gd);\n",
       "            observer.disconnect();\n",
       "        }}\n",
       "}});\n",
       "\n",
       "// Listen for the removal of the full notebook cells\n",
       "var notebookContainer = gd.closest('#notebook-container');\n",
       "if (notebookContainer) {{\n",
       "    x.observe(notebookContainer, {childList: true});\n",
       "}}\n",
       "\n",
       "// Listen for the clearing of the current output cell\n",
       "var outputEl = gd.closest('.output');\n",
       "if (outputEl) {{\n",
       "    x.observe(outputEl, {childList: true});\n",
       "}}\n",
       "\n",
       "                        })                };                });            </script>        </div>"
      ]
     },
     "metadata": {},
     "output_type": "display_data"
    }
   ],
   "source": [
    "Fspar_Class=Han.loc[Han[\"Fspar_Class\"]==\"Sanidine\"]\n",
    "import plotly.express as px\n",
    "fig = px.scatter_ternary(Fspar_Class, a=\"Or\", b=\"Ab\", c=\"An\")\n",
    "fig.show()"
   ]
  },
  {
   "cell_type": "code",
   "execution_count": 8,
   "id": "8960f6f0-26f2-497d-b8f8-e0d54392a68a",
   "metadata": {},
   "outputs": [
    {
     "data": {
      "text/plain": [
       "array(['Sanidine', 'N/A', 'Anorthoclase', 'Fspar', 'Oligoclase',\n",
       "       'Andesine', 'Bytownite', 'Anorthite'], dtype=object)"
      ]
     },
     "execution_count": 8,
     "metadata": {},
     "output_type": "execute_result"
    }
   ],
   "source": [
    "Han[\"Fspar_Class\"].unique()"
   ]
  },
  {
   "cell_type": "code",
   "execution_count": 10,
   "id": "596f6df3-96e1-48b9-915c-621ac6295544",
   "metadata": {},
   "outputs": [
    {
     "data": {
      "application/vnd.plotly.v1+json": {
       "config": {
        "plotlyServerURL": "https://plot.ly"
       },
       "data": [
        {
         "a": [
          0.08215322868856845,
          0.08575759151805162,
          0.005589304049401278,
          0.07664742997789176,
          0.005454428659267374,
          0.01222978284768772,
          0.04770960450677131,
          0.04947392425090791,
          0.007127632748846868,
          0.04970401097384203,
          0.01590723305333719,
          0.03343412629940368,
          0.05170284771961908,
          0.02007093164814444,
          0.05358878385984267,
          0.012288010149410944,
          0.06116701329134833,
          0.011890514480428993,
          0.0549447496079738,
          0.02259293552683661,
          0.010971179025123567,
          0.07426941521438601,
          0.06666125222074382,
          0.019821077823612532,
          0.028181551996700027,
          0.06297945691170992,
          0.05981537851180474,
          0.012109656019867798,
          0.012756613599268052,
          0.05458722415676032,
          0.059609427566656326,
          0.007969195363247472,
          0.07844786803023007,
          0.05791264449084821,
          0.046129133704836844,
          0.029530978958678733,
          0.0709482158057555,
          0.07473491319006009,
          0.07122910236856339,
          0.008906048738646755,
          0.05842945065033811
         ],
         "b": [
          0.7145667705503248,
          0.6750947507552216,
          0.8419280688486684,
          0.7783118179433077,
          0.8478219453800638,
          0.8470143158738174,
          0.8141039092055655,
          0.8055868757961653,
          0.8450569479547132,
          0.8107164239669158,
          0.8324889591000113,
          0.8227814876569816,
          0.8029198329231587,
          0.8264203637997672,
          0.7860040845232965,
          0.8366021868763849,
          0.7886974466105341,
          0.8501961982426278,
          0.8082063703003557,
          0.8379129771904069,
          0.8398041795970584,
          0.7807139535429529,
          0.7893718891474705,
          0.8376513065815543,
          0.8314676970110608,
          0.8055728579988237,
          0.8037128511973073,
          0.8438136650391789,
          0.8422730500572065,
          0.8074747949634059,
          0.8012350226481416,
          0.8490431237507482,
          0.7905684019568807,
          0.8100097010070587,
          0.8125270554692153,
          0.83348175639704,
          0.7965477239003025,
          0.78661936593429,
          0.7961358248346722,
          0.8515754352921294,
          0.7963614706025012
         ],
         "c": [
          0.20328000076110678,
          0.23914765772672672,
          0.1524826271019303,
          0.14504075207880052,
          0.14672362596066882,
          0.14075590127849485,
          0.1381864862876632,
          0.14493919995292687,
          0.14781541929643996,
          0.1395795650592422,
          0.1516038078466515,
          0.14378438604361476,
          0.1453773193572222,
          0.15350870455208832,
          0.1604071316168608,
          0.15110980297420415,
          0.15013554009811758,
          0.13791328727694319,
          0.13684888009167048,
          0.13949408728275647,
          0.14922464137781796,
          0.1450166312426611,
          0.14396685863178574,
          0.1425276155948332,
          0.14035075099223912,
          0.1314476850894663,
          0.13647177029088792,
          0.1440766789409533,
          0.14497033634352544,
          0.13793798087983383,
          0.1391555497852021,
          0.1429876808860043,
          0.13098373001288924,
          0.13207765450209308,
          0.14134381082594785,
          0.13698726464428124,
          0.13250406029394204,
          0.13864572087564986,
          0.1326350727967645,
          0.13951851596922385,
          0.14520907874716066
         ],
         "hovertemplate": "Or=%{a}<br>Ab=%{b}<br>An=%{c}<extra></extra>",
         "legendgroup": "",
         "marker": {
          "color": "#636efa",
          "symbol": "circle"
         },
         "mode": "markers",
         "name": "",
         "showlegend": false,
         "subplot": "ternary",
         "type": "scatterternary"
        }
       ],
       "layout": {
        "autosize": true,
        "legend": {
         "tracegroupgap": 0
        },
        "margin": {
         "t": 60
        },
        "template": {
         "data": {
          "bar": [
           {
            "error_x": {
             "color": "#2a3f5f"
            },
            "error_y": {
             "color": "#2a3f5f"
            },
            "marker": {
             "line": {
              "color": "#E5ECF6",
              "width": 0.5
             },
             "pattern": {
              "fillmode": "overlay",
              "size": 10,
              "solidity": 0.2
             }
            },
            "type": "bar"
           }
          ],
          "barpolar": [
           {
            "marker": {
             "line": {
              "color": "#E5ECF6",
              "width": 0.5
             },
             "pattern": {
              "fillmode": "overlay",
              "size": 10,
              "solidity": 0.2
             }
            },
            "type": "barpolar"
           }
          ],
          "carpet": [
           {
            "aaxis": {
             "endlinecolor": "#2a3f5f",
             "gridcolor": "white",
             "linecolor": "white",
             "minorgridcolor": "white",
             "startlinecolor": "#2a3f5f"
            },
            "baxis": {
             "endlinecolor": "#2a3f5f",
             "gridcolor": "white",
             "linecolor": "white",
             "minorgridcolor": "white",
             "startlinecolor": "#2a3f5f"
            },
            "type": "carpet"
           }
          ],
          "choropleth": [
           {
            "colorbar": {
             "outlinewidth": 0,
             "ticks": ""
            },
            "type": "choropleth"
           }
          ],
          "contour": [
           {
            "colorbar": {
             "outlinewidth": 0,
             "ticks": ""
            },
            "colorscale": [
             [
              0,
              "#0d0887"
             ],
             [
              0.1111111111111111,
              "#46039f"
             ],
             [
              0.2222222222222222,
              "#7201a8"
             ],
             [
              0.3333333333333333,
              "#9c179e"
             ],
             [
              0.4444444444444444,
              "#bd3786"
             ],
             [
              0.5555555555555556,
              "#d8576b"
             ],
             [
              0.6666666666666666,
              "#ed7953"
             ],
             [
              0.7777777777777778,
              "#fb9f3a"
             ],
             [
              0.8888888888888888,
              "#fdca26"
             ],
             [
              1,
              "#f0f921"
             ]
            ],
            "type": "contour"
           }
          ],
          "contourcarpet": [
           {
            "colorbar": {
             "outlinewidth": 0,
             "ticks": ""
            },
            "type": "contourcarpet"
           }
          ],
          "heatmap": [
           {
            "colorbar": {
             "outlinewidth": 0,
             "ticks": ""
            },
            "colorscale": [
             [
              0,
              "#0d0887"
             ],
             [
              0.1111111111111111,
              "#46039f"
             ],
             [
              0.2222222222222222,
              "#7201a8"
             ],
             [
              0.3333333333333333,
              "#9c179e"
             ],
             [
              0.4444444444444444,
              "#bd3786"
             ],
             [
              0.5555555555555556,
              "#d8576b"
             ],
             [
              0.6666666666666666,
              "#ed7953"
             ],
             [
              0.7777777777777778,
              "#fb9f3a"
             ],
             [
              0.8888888888888888,
              "#fdca26"
             ],
             [
              1,
              "#f0f921"
             ]
            ],
            "type": "heatmap"
           }
          ],
          "heatmapgl": [
           {
            "colorbar": {
             "outlinewidth": 0,
             "ticks": ""
            },
            "colorscale": [
             [
              0,
              "#0d0887"
             ],
             [
              0.1111111111111111,
              "#46039f"
             ],
             [
              0.2222222222222222,
              "#7201a8"
             ],
             [
              0.3333333333333333,
              "#9c179e"
             ],
             [
              0.4444444444444444,
              "#bd3786"
             ],
             [
              0.5555555555555556,
              "#d8576b"
             ],
             [
              0.6666666666666666,
              "#ed7953"
             ],
             [
              0.7777777777777778,
              "#fb9f3a"
             ],
             [
              0.8888888888888888,
              "#fdca26"
             ],
             [
              1,
              "#f0f921"
             ]
            ],
            "type": "heatmapgl"
           }
          ],
          "histogram": [
           {
            "marker": {
             "pattern": {
              "fillmode": "overlay",
              "size": 10,
              "solidity": 0.2
             }
            },
            "type": "histogram"
           }
          ],
          "histogram2d": [
           {
            "colorbar": {
             "outlinewidth": 0,
             "ticks": ""
            },
            "colorscale": [
             [
              0,
              "#0d0887"
             ],
             [
              0.1111111111111111,
              "#46039f"
             ],
             [
              0.2222222222222222,
              "#7201a8"
             ],
             [
              0.3333333333333333,
              "#9c179e"
             ],
             [
              0.4444444444444444,
              "#bd3786"
             ],
             [
              0.5555555555555556,
              "#d8576b"
             ],
             [
              0.6666666666666666,
              "#ed7953"
             ],
             [
              0.7777777777777778,
              "#fb9f3a"
             ],
             [
              0.8888888888888888,
              "#fdca26"
             ],
             [
              1,
              "#f0f921"
             ]
            ],
            "type": "histogram2d"
           }
          ],
          "histogram2dcontour": [
           {
            "colorbar": {
             "outlinewidth": 0,
             "ticks": ""
            },
            "colorscale": [
             [
              0,
              "#0d0887"
             ],
             [
              0.1111111111111111,
              "#46039f"
             ],
             [
              0.2222222222222222,
              "#7201a8"
             ],
             [
              0.3333333333333333,
              "#9c179e"
             ],
             [
              0.4444444444444444,
              "#bd3786"
             ],
             [
              0.5555555555555556,
              "#d8576b"
             ],
             [
              0.6666666666666666,
              "#ed7953"
             ],
             [
              0.7777777777777778,
              "#fb9f3a"
             ],
             [
              0.8888888888888888,
              "#fdca26"
             ],
             [
              1,
              "#f0f921"
             ]
            ],
            "type": "histogram2dcontour"
           }
          ],
          "mesh3d": [
           {
            "colorbar": {
             "outlinewidth": 0,
             "ticks": ""
            },
            "type": "mesh3d"
           }
          ],
          "parcoords": [
           {
            "line": {
             "colorbar": {
              "outlinewidth": 0,
              "ticks": ""
             }
            },
            "type": "parcoords"
           }
          ],
          "pie": [
           {
            "automargin": true,
            "type": "pie"
           }
          ],
          "scatter": [
           {
            "marker": {
             "colorbar": {
              "outlinewidth": 0,
              "ticks": ""
             }
            },
            "type": "scatter"
           }
          ],
          "scatter3d": [
           {
            "line": {
             "colorbar": {
              "outlinewidth": 0,
              "ticks": ""
             }
            },
            "marker": {
             "colorbar": {
              "outlinewidth": 0,
              "ticks": ""
             }
            },
            "type": "scatter3d"
           }
          ],
          "scattercarpet": [
           {
            "marker": {
             "colorbar": {
              "outlinewidth": 0,
              "ticks": ""
             }
            },
            "type": "scattercarpet"
           }
          ],
          "scattergeo": [
           {
            "marker": {
             "colorbar": {
              "outlinewidth": 0,
              "ticks": ""
             }
            },
            "type": "scattergeo"
           }
          ],
          "scattergl": [
           {
            "marker": {
             "colorbar": {
              "outlinewidth": 0,
              "ticks": ""
             }
            },
            "type": "scattergl"
           }
          ],
          "scattermapbox": [
           {
            "marker": {
             "colorbar": {
              "outlinewidth": 0,
              "ticks": ""
             }
            },
            "type": "scattermapbox"
           }
          ],
          "scatterpolar": [
           {
            "marker": {
             "colorbar": {
              "outlinewidth": 0,
              "ticks": ""
             }
            },
            "type": "scatterpolar"
           }
          ],
          "scatterpolargl": [
           {
            "marker": {
             "colorbar": {
              "outlinewidth": 0,
              "ticks": ""
             }
            },
            "type": "scatterpolargl"
           }
          ],
          "scatterternary": [
           {
            "marker": {
             "colorbar": {
              "outlinewidth": 0,
              "ticks": ""
             }
            },
            "type": "scatterternary"
           }
          ],
          "surface": [
           {
            "colorbar": {
             "outlinewidth": 0,
             "ticks": ""
            },
            "colorscale": [
             [
              0,
              "#0d0887"
             ],
             [
              0.1111111111111111,
              "#46039f"
             ],
             [
              0.2222222222222222,
              "#7201a8"
             ],
             [
              0.3333333333333333,
              "#9c179e"
             ],
             [
              0.4444444444444444,
              "#bd3786"
             ],
             [
              0.5555555555555556,
              "#d8576b"
             ],
             [
              0.6666666666666666,
              "#ed7953"
             ],
             [
              0.7777777777777778,
              "#fb9f3a"
             ],
             [
              0.8888888888888888,
              "#fdca26"
             ],
             [
              1,
              "#f0f921"
             ]
            ],
            "type": "surface"
           }
          ],
          "table": [
           {
            "cells": {
             "fill": {
              "color": "#EBF0F8"
             },
             "line": {
              "color": "white"
             }
            },
            "header": {
             "fill": {
              "color": "#C8D4E3"
             },
             "line": {
              "color": "white"
             }
            },
            "type": "table"
           }
          ]
         },
         "layout": {
          "annotationdefaults": {
           "arrowcolor": "#2a3f5f",
           "arrowhead": 0,
           "arrowwidth": 1
          },
          "autotypenumbers": "strict",
          "coloraxis": {
           "colorbar": {
            "outlinewidth": 0,
            "ticks": ""
           }
          },
          "colorscale": {
           "diverging": [
            [
             0,
             "#8e0152"
            ],
            [
             0.1,
             "#c51b7d"
            ],
            [
             0.2,
             "#de77ae"
            ],
            [
             0.3,
             "#f1b6da"
            ],
            [
             0.4,
             "#fde0ef"
            ],
            [
             0.5,
             "#f7f7f7"
            ],
            [
             0.6,
             "#e6f5d0"
            ],
            [
             0.7,
             "#b8e186"
            ],
            [
             0.8,
             "#7fbc41"
            ],
            [
             0.9,
             "#4d9221"
            ],
            [
             1,
             "#276419"
            ]
           ],
           "sequential": [
            [
             0,
             "#0d0887"
            ],
            [
             0.1111111111111111,
             "#46039f"
            ],
            [
             0.2222222222222222,
             "#7201a8"
            ],
            [
             0.3333333333333333,
             "#9c179e"
            ],
            [
             0.4444444444444444,
             "#bd3786"
            ],
            [
             0.5555555555555556,
             "#d8576b"
            ],
            [
             0.6666666666666666,
             "#ed7953"
            ],
            [
             0.7777777777777778,
             "#fb9f3a"
            ],
            [
             0.8888888888888888,
             "#fdca26"
            ],
            [
             1,
             "#f0f921"
            ]
           ],
           "sequentialminus": [
            [
             0,
             "#0d0887"
            ],
            [
             0.1111111111111111,
             "#46039f"
            ],
            [
             0.2222222222222222,
             "#7201a8"
            ],
            [
             0.3333333333333333,
             "#9c179e"
            ],
            [
             0.4444444444444444,
             "#bd3786"
            ],
            [
             0.5555555555555556,
             "#d8576b"
            ],
            [
             0.6666666666666666,
             "#ed7953"
            ],
            [
             0.7777777777777778,
             "#fb9f3a"
            ],
            [
             0.8888888888888888,
             "#fdca26"
            ],
            [
             1,
             "#f0f921"
            ]
           ]
          },
          "colorway": [
           "#636efa",
           "#EF553B",
           "#00cc96",
           "#ab63fa",
           "#FFA15A",
           "#19d3f3",
           "#FF6692",
           "#B6E880",
           "#FF97FF",
           "#FECB52"
          ],
          "font": {
           "color": "#2a3f5f"
          },
          "geo": {
           "bgcolor": "white",
           "lakecolor": "white",
           "landcolor": "#E5ECF6",
           "showlakes": true,
           "showland": true,
           "subunitcolor": "white"
          },
          "hoverlabel": {
           "align": "left"
          },
          "hovermode": "closest",
          "mapbox": {
           "style": "light"
          },
          "paper_bgcolor": "white",
          "plot_bgcolor": "#E5ECF6",
          "polar": {
           "angularaxis": {
            "gridcolor": "white",
            "linecolor": "white",
            "ticks": ""
           },
           "bgcolor": "#E5ECF6",
           "radialaxis": {
            "gridcolor": "white",
            "linecolor": "white",
            "ticks": ""
           }
          },
          "scene": {
           "xaxis": {
            "backgroundcolor": "#E5ECF6",
            "gridcolor": "white",
            "gridwidth": 2,
            "linecolor": "white",
            "showbackground": true,
            "ticks": "",
            "zerolinecolor": "white"
           },
           "yaxis": {
            "backgroundcolor": "#E5ECF6",
            "gridcolor": "white",
            "gridwidth": 2,
            "linecolor": "white",
            "showbackground": true,
            "ticks": "",
            "zerolinecolor": "white"
           },
           "zaxis": {
            "backgroundcolor": "#E5ECF6",
            "gridcolor": "white",
            "gridwidth": 2,
            "linecolor": "white",
            "showbackground": true,
            "ticks": "",
            "zerolinecolor": "white"
           }
          },
          "shapedefaults": {
           "line": {
            "color": "#2a3f5f"
           }
          },
          "ternary": {
           "aaxis": {
            "gridcolor": "white",
            "linecolor": "white",
            "ticks": ""
           },
           "baxis": {
            "gridcolor": "white",
            "linecolor": "white",
            "ticks": ""
           },
           "bgcolor": "#E5ECF6",
           "caxis": {
            "gridcolor": "white",
            "linecolor": "white",
            "ticks": ""
           }
          },
          "title": {
           "x": 0.05
          },
          "xaxis": {
           "automargin": true,
           "gridcolor": "white",
           "linecolor": "white",
           "ticks": "",
           "title": {
            "standoff": 15
           },
           "zerolinecolor": "white",
           "zerolinewidth": 2
          },
          "yaxis": {
           "automargin": true,
           "gridcolor": "white",
           "linecolor": "white",
           "ticks": "",
           "title": {
            "standoff": 15
           },
           "zerolinecolor": "white",
           "zerolinewidth": 2
          }
         }
        },
        "ternary": {
         "aaxis": {
          "title": {
           "text": "Or"
          }
         },
         "baxis": {
          "title": {
           "text": "Ab"
          }
         },
         "caxis": {
          "title": {
           "text": "An"
          }
         },
         "domain": {
          "x": [
           0,
           1
          ],
          "y": [
           0,
           1
          ]
         }
        }
       }
      },
      "image/png": "[encoded data removed]",
      "text/html": [
       "<div>                            <div id=\"7a3b2392-8639-401b-9b18-90e123d4201a\" class=\"plotly-graph-div\" style=\"height:525px; width:100%;\"></div>            <script type=\"text/javascript\">                require([\"plotly\"], function(Plotly) {                    window.PLOTLYENV=window.PLOTLYENV || {};                                    if (document.getElementById(\"7a3b2392-8639-401b-9b18-90e123d4201a\")) {                    Plotly.newPlot(                        \"7a3b2392-8639-401b-9b18-90e123d4201a\",                        [{\"a\":[0.08215322868856845,0.08575759151805162,0.005589304049401278,0.07664742997789176,0.005454428659267374,0.01222978284768772,0.04770960450677131,0.04947392425090791,0.007127632748846868,0.04970401097384203,0.01590723305333719,0.03343412629940368,0.05170284771961908,0.02007093164814444,0.05358878385984267,0.012288010149410944,0.06116701329134833,0.011890514480428993,0.0549447496079738,0.02259293552683661,0.010971179025123567,0.07426941521438601,0.06666125222074382,0.019821077823612532,0.028181551996700027,0.06297945691170992,0.05981537851180474,0.012109656019867798,0.012756613599268052,0.05458722415676032,0.059609427566656326,0.007969195363247472,0.07844786803023007,0.05791264449084821,0.046129133704836844,0.029530978958678733,0.0709482158057555,0.07473491319006009,0.07122910236856339,0.008906048738646755,0.05842945065033811],\"b\":[0.7145667705503248,0.6750947507552216,0.8419280688486684,0.7783118179433077,0.8478219453800638,0.8470143158738174,0.8141039092055655,0.8055868757961653,0.8450569479547132,0.8107164239669158,0.8324889591000113,0.8227814876569816,0.8029198329231587,0.8264203637997672,0.7860040845232965,0.8366021868763849,0.7886974466105341,0.8501961982426278,0.8082063703003557,0.8379129771904069,0.8398041795970584,0.7807139535429529,0.7893718891474705,0.8376513065815543,0.8314676970110608,0.8055728579988237,0.8037128511973073,0.8438136650391789,0.8422730500572065,0.8074747949634059,0.8012350226481416,0.8490431237507482,0.7905684019568807,0.8100097010070587,0.8125270554692153,0.83348175639704,0.7965477239003025,0.78661936593429,0.7961358248346722,0.8515754352921294,0.7963614706025012],\"c\":[0.20328000076110678,0.23914765772672672,0.1524826271019303,0.14504075207880052,0.14672362596066882,0.14075590127849485,0.1381864862876632,0.14493919995292687,0.14781541929643996,0.1395795650592422,0.1516038078466515,0.14378438604361476,0.1453773193572222,0.15350870455208832,0.1604071316168608,0.15110980297420415,0.15013554009811758,0.13791328727694319,0.13684888009167048,0.13949408728275647,0.14922464137781796,0.1450166312426611,0.14396685863178574,0.1425276155948332,0.14035075099223912,0.1314476850894663,0.13647177029088792,0.1440766789409533,0.14497033634352544,0.13793798087983383,0.1391555497852021,0.1429876808860043,0.13098373001288924,0.13207765450209308,0.14134381082594785,0.13698726464428124,0.13250406029394204,0.13864572087564986,0.1326350727967645,0.13951851596922385,0.14520907874716066],\"hovertemplate\":\"Or=%{a}<br>Ab=%{b}<br>An=%{c}<extra></extra>\",\"legendgroup\":\"\",\"marker\":{\"color\":\"#636efa\",\"symbol\":\"circle\"},\"mode\":\"markers\",\"name\":\"\",\"showlegend\":false,\"subplot\":\"ternary\",\"type\":\"scatterternary\"}],                        {\"legend\":{\"tracegroupgap\":0},\"margin\":{\"t\":60},\"template\":{\"data\":{\"bar\":[{\"error_x\":{\"color\":\"#2a3f5f\"},\"error_y\":{\"color\":\"#2a3f5f\"},\"marker\":{\"line\":{\"color\":\"#E5ECF6\",\"width\":0.5},\"pattern\":{\"fillmode\":\"overlay\",\"size\":10,\"solidity\":0.2}},\"type\":\"bar\"}],\"barpolar\":[{\"marker\":{\"line\":{\"color\":\"#E5ECF6\",\"width\":0.5},\"pattern\":{\"fillmode\":\"overlay\",\"size\":10,\"solidity\":0.2}},\"type\":\"barpolar\"}],\"carpet\":[{\"aaxis\":{\"endlinecolor\":\"#2a3f5f\",\"gridcolor\":\"white\",\"linecolor\":\"white\",\"minorgridcolor\":\"white\",\"startlinecolor\":\"#2a3f5f\"},\"baxis\":{\"endlinecolor\":\"#2a3f5f\",\"gridcolor\":\"white\",\"linecolor\":\"white\",\"minorgridcolor\":\"white\",\"startlinecolor\":\"#2a3f5f\"},\"type\":\"carpet\"}],\"choropleth\":[{\"colorbar\":{\"outlinewidth\":0,\"ticks\":\"\"},\"type\":\"choropleth\"}],\"contour\":[{\"colorbar\":{\"outlinewidth\":0,\"ticks\":\"\"},\"colorscale\":[[0.0,\"#0d0887\"],[0.1111111111111111,\"#46039f\"],[0.2222222222222222,\"#7201a8\"],[0.3333333333333333,\"#9c179e\"],[0.4444444444444444,\"#bd3786\"],[0.5555555555555556,\"#d8576b\"],[0.6666666666666666,\"#ed7953\"],[0.7777777777777778,\"#fb9f3a\"],[0.8888888888888888,\"#fdca26\"],[1.0,\"#f0f921\"]],\"type\":\"contour\"}],\"contourcarpet\":[{\"colorbar\":{\"outlinewidth\":0,\"ticks\":\"\"},\"type\":\"contourcarpet\"}],\"heatmap\":[{\"colorbar\":{\"outlinewidth\":0,\"ticks\":\"\"},\"colorscale\":[[0.0,\"#0d0887\"],[0.1111111111111111,\"#46039f\"],[0.2222222222222222,\"#7201a8\"],[0.3333333333333333,\"#9c179e\"],[0.4444444444444444,\"#bd3786\"],[0.5555555555555556,\"#d8576b\"],[0.6666666666666666,\"#ed7953\"],[0.7777777777777778,\"#fb9f3a\"],[0.8888888888888888,\"#fdca26\"],[1.0,\"#f0f921\"]],\"type\":\"heatmap\"}],\"heatmapgl\":[{\"colorbar\":{\"outlinewidth\":0,\"ticks\":\"\"},\"colorscale\":[[0.0,\"#0d0887\"],[0.1111111111111111,\"#46039f\"],[0.2222222222222222,\"#7201a8\"],[0.3333333333333333,\"#9c179e\"],[0.4444444444444444,\"#bd3786\"],[0.5555555555555556,\"#d8576b\"],[0.6666666666666666,\"#ed7953\"],[0.7777777777777778,\"#fb9f3a\"],[0.8888888888888888,\"#fdca26\"],[1.0,\"#f0f921\"]],\"type\":\"heatmapgl\"}],\"histogram\":[{\"marker\":{\"pattern\":{\"fillmode\":\"overlay\",\"size\":10,\"solidity\":0.2}},\"type\":\"histogram\"}],\"histogram2d\":[{\"colorbar\":{\"outlinewidth\":0,\"ticks\":\"\"},\"colorscale\":[[0.0,\"#0d0887\"],[0.1111111111111111,\"#46039f\"],[0.2222222222222222,\"#7201a8\"],[0.3333333333333333,\"#9c179e\"],[0.4444444444444444,\"#bd3786\"],[0.5555555555555556,\"#d8576b\"],[0.6666666666666666,\"#ed7953\"],[0.7777777777777778,\"#fb9f3a\"],[0.8888888888888888,\"#fdca26\"],[1.0,\"#f0f921\"]],\"type\":\"histogram2d\"}],\"histogram2dcontour\":[{\"colorbar\":{\"outlinewidth\":0,\"ticks\":\"\"},\"colorscale\":[[0.0,\"#0d0887\"],[0.1111111111111111,\"#46039f\"],[0.2222222222222222,\"#7201a8\"],[0.3333333333333333,\"#9c179e\"],[0.4444444444444444,\"#bd3786\"],[0.5555555555555556,\"#d8576b\"],[0.6666666666666666,\"#ed7953\"],[0.7777777777777778,\"#fb9f3a\"],[0.8888888888888888,\"#fdca26\"],[1.0,\"#f0f921\"]],\"type\":\"histogram2dcontour\"}],\"mesh3d\":[{\"colorbar\":{\"outlinewidth\":0,\"ticks\":\"\"},\"type\":\"mesh3d\"}],\"parcoords\":[{\"line\":{\"colorbar\":{\"outlinewidth\":0,\"ticks\":\"\"}},\"type\":\"parcoords\"}],\"pie\":[{\"automargin\":true,\"type\":\"pie\"}],\"scatter\":[{\"marker\":{\"colorbar\":{\"outlinewidth\":0,\"ticks\":\"\"}},\"type\":\"scatter\"}],\"scatter3d\":[{\"line\":{\"colorbar\":{\"outlinewidth\":0,\"ticks\":\"\"}},\"marker\":{\"colorbar\":{\"outlinewidth\":0,\"ticks\":\"\"}},\"type\":\"scatter3d\"}],\"scattercarpet\":[{\"marker\":{\"colorbar\":{\"outlinewidth\":0,\"ticks\":\"\"}},\"type\":\"scattercarpet\"}],\"scattergeo\":[{\"marker\":{\"colorbar\":{\"outlinewidth\":0,\"ticks\":\"\"}},\"type\":\"scattergeo\"}],\"scattergl\":[{\"marker\":{\"colorbar\":{\"outlinewidth\":0,\"ticks\":\"\"}},\"type\":\"scattergl\"}],\"scattermapbox\":[{\"marker\":{\"colorbar\":{\"outlinewidth\":0,\"ticks\":\"\"}},\"type\":\"scattermapbox\"}],\"scatterpolar\":[{\"marker\":{\"colorbar\":{\"outlinewidth\":0,\"ticks\":\"\"}},\"type\":\"scatterpolar\"}],\"scatterpolargl\":[{\"marker\":{\"colorbar\":{\"outlinewidth\":0,\"ticks\":\"\"}},\"type\":\"scatterpolargl\"}],\"scatterternary\":[{\"marker\":{\"colorbar\":{\"outlinewidth\":0,\"ticks\":\"\"}},\"type\":\"scatterternary\"}],\"surface\":[{\"colorbar\":{\"outlinewidth\":0,\"ticks\":\"\"},\"colorscale\":[[0.0,\"#0d0887\"],[0.1111111111111111,\"#46039f\"],[0.2222222222222222,\"#7201a8\"],[0.3333333333333333,\"#9c179e\"],[0.4444444444444444,\"#bd3786\"],[0.5555555555555556,\"#d8576b\"],[0.6666666666666666,\"#ed7953\"],[0.7777777777777778,\"#fb9f3a\"],[0.8888888888888888,\"#fdca26\"],[1.0,\"#f0f921\"]],\"type\":\"surface\"}],\"table\":[{\"cells\":{\"fill\":{\"color\":\"#EBF0F8\"},\"line\":{\"color\":\"white\"}},\"header\":{\"fill\":{\"color\":\"#C8D4E3\"},\"line\":{\"color\":\"white\"}},\"type\":\"table\"}]},\"layout\":{\"annotationdefaults\":{\"arrowcolor\":\"#2a3f5f\",\"arrowhead\":0,\"arrowwidth\":1},\"autotypenumbers\":\"strict\",\"coloraxis\":{\"colorbar\":{\"outlinewidth\":0,\"ticks\":\"\"}},\"colorscale\":{\"diverging\":[[0,\"#8e0152\"],[0.1,\"#c51b7d\"],[0.2,\"#de77ae\"],[0.3,\"#f1b6da\"],[0.4,\"#fde0ef\"],[0.5,\"#f7f7f7\"],[0.6,\"#e6f5d0\"],[0.7,\"#b8e186\"],[0.8,\"#7fbc41\"],[0.9,\"#4d9221\"],[1,\"#276419\"]],\"sequential\":[[0.0,\"#0d0887\"],[0.1111111111111111,\"#46039f\"],[0.2222222222222222,\"#7201a8\"],[0.3333333333333333,\"#9c179e\"],[0.4444444444444444,\"#bd3786\"],[0.5555555555555556,\"#d8576b\"],[0.6666666666666666,\"#ed7953\"],[0.7777777777777778,\"#fb9f3a\"],[0.8888888888888888,\"#fdca26\"],[1.0,\"#f0f921\"]],\"sequentialminus\":[[0.0,\"#0d0887\"],[0.1111111111111111,\"#46039f\"],[0.2222222222222222,\"#7201a8\"],[0.3333333333333333,\"#9c179e\"],[0.4444444444444444,\"#bd3786\"],[0.5555555555555556,\"#d8576b\"],[0.6666666666666666,\"#ed7953\"],[0.7777777777777778,\"#fb9f3a\"],[0.8888888888888888,\"#fdca26\"],[1.0,\"#f0f921\"]]},\"colorway\":[\"#636efa\",\"#EF553B\",\"#00cc96\",\"#ab63fa\",\"#FFA15A\",\"#19d3f3\",\"#FF6692\",\"#B6E880\",\"#FF97FF\",\"#FECB52\"],\"font\":{\"color\":\"#2a3f5f\"},\"geo\":{\"bgcolor\":\"white\",\"lakecolor\":\"white\",\"landcolor\":\"#E5ECF6\",\"showlakes\":true,\"showland\":true,\"subunitcolor\":\"white\"},\"hoverlabel\":{\"align\":\"left\"},\"hovermode\":\"closest\",\"mapbox\":{\"style\":\"light\"},\"paper_bgcolor\":\"white\",\"plot_bgcolor\":\"#E5ECF6\",\"polar\":{\"angularaxis\":{\"gridcolor\":\"white\",\"linecolor\":\"white\",\"ticks\":\"\"},\"bgcolor\":\"#E5ECF6\",\"radialaxis\":{\"gridcolor\":\"white\",\"linecolor\":\"white\",\"ticks\":\"\"}},\"scene\":{\"xaxis\":{\"backgroundcolor\":\"#E5ECF6\",\"gridcolor\":\"white\",\"gridwidth\":2,\"linecolor\":\"white\",\"showbackground\":true,\"ticks\":\"\",\"zerolinecolor\":\"white\"},\"yaxis\":{\"backgroundcolor\":\"#E5ECF6\",\"gridcolor\":\"white\",\"gridwidth\":2,\"linecolor\":\"white\",\"showbackground\":true,\"ticks\":\"\",\"zerolinecolor\":\"white\"},\"zaxis\":{\"backgroundcolor\":\"#E5ECF6\",\"gridcolor\":\"white\",\"gridwidth\":2,\"linecolor\":\"white\",\"showbackground\":true,\"ticks\":\"\",\"zerolinecolor\":\"white\"}},\"shapedefaults\":{\"line\":{\"color\":\"#2a3f5f\"}},\"ternary\":{\"aaxis\":{\"gridcolor\":\"white\",\"linecolor\":\"white\",\"ticks\":\"\"},\"baxis\":{\"gridcolor\":\"white\",\"linecolor\":\"white\",\"ticks\":\"\"},\"bgcolor\":\"#E5ECF6\",\"caxis\":{\"gridcolor\":\"white\",\"linecolor\":\"white\",\"ticks\":\"\"}},\"title\":{\"x\":0.05},\"xaxis\":{\"automargin\":true,\"gridcolor\":\"white\",\"linecolor\":\"white\",\"ticks\":\"\",\"title\":{\"standoff\":15},\"zerolinecolor\":\"white\",\"zerolinewidth\":2},\"yaxis\":{\"automargin\":true,\"gridcolor\":\"white\",\"linecolor\":\"white\",\"ticks\":\"\",\"title\":{\"standoff\":15},\"zerolinecolor\":\"white\",\"zerolinewidth\":2}}},\"ternary\":{\"aaxis\":{\"title\":{\"text\":\"Or\"}},\"baxis\":{\"title\":{\"text\":\"Ab\"}},\"caxis\":{\"title\":{\"text\":\"An\"}},\"domain\":{\"x\":[0.0,1.0],\"y\":[0.0,1.0]}}},                        {\"responsive\": true}                    ).then(function(){\n",
       "                            \n",
       "var gd = document.getElementById('7a3b2392-8639-401b-9b18-90e123d4201a');\n",
       "var x = new MutationObserver(function (mutations, observer) {{\n",
       "        var display = window.getComputedStyle(gd).display;\n",
       "        if (!display || display === 'none') {{\n",
       "            console.log([gd, 'removed!']);\n",
       "            Plotly.purge(gd);\n",
       "            observer.disconnect();\n",
       "        }}\n",
       "}});\n",
       "\n",
       "// Listen for the removal of the full notebook cells\n",
       "var notebookContainer = gd.closest('#notebook-container');\n",
       "if (notebookContainer) {{\n",
       "    x.observe(notebookContainer, {childList: true});\n",
       "}}\n",
       "\n",
       "// Listen for the clearing of the current output cell\n",
       "var outputEl = gd.closest('.output');\n",
       "if (outputEl) {{\n",
       "    x.observe(outputEl, {childList: true});\n",
       "}}\n",
       "\n",
       "                        })                };                });            </script>        </div>"
      ]
     },
     "metadata": {},
     "output_type": "display_data"
    }
   ],
   "source": [
    "Fspar_Class=Han.loc[Han[\"Fspar_Class\"]==\"Oligoclase\"]\n",
    "import plotly.express as px\n",
    "fig = px.scatter_ternary(Fspar_Class, a=\"Or\", b=\"Ab\", c=\"An\")\n",
    "fig.show()"
   ]
  },
  {
   "cell_type": "code",
   "execution_count": 11,
   "id": "11bfde78-7501-40a6-b882-7f3ef608d8d3",
   "metadata": {},
   "outputs": [
    {
     "data": {
      "application/vnd.plotly.v1+json": {
       "config": {
        "plotlyServerURL": "https://plot.ly"
       },
       "data": [
        {
         "a": [
          0.36925484232732864,
          0.28534747907290237,
          0.20130011376756873,
          0.1559138365019953,
          0.3573943193751913
         ],
         "b": [
          0.623739257016394,
          0.6766347732115418,
          0.6841100914425076,
          0.6546681912735208,
          0.5904028086814102
         ],
         "c": [
          0.007005900656277414,
          0.03801774771555591,
          0.11458979478992369,
          0.1894179722244839,
          0.05220287194339859
         ],
         "hovertemplate": "Or=%{a}<br>Ab=%{b}<br>An=%{c}<extra></extra>",
         "legendgroup": "",
         "marker": {
          "color": "#636efa",
          "symbol": "circle"
         },
         "mode": "markers",
         "name": "",
         "showlegend": false,
         "subplot": "ternary",
         "type": "scatterternary"
        }
       ],
       "layout": {
        "autosize": true,
        "legend": {
         "tracegroupgap": 0
        },
        "margin": {
         "t": 60
        },
        "template": {
         "data": {
          "bar": [
           {
            "error_x": {
             "color": "#2a3f5f"
            },
            "error_y": {
             "color": "#2a3f5f"
            },
            "marker": {
             "line": {
              "color": "#E5ECF6",
              "width": 0.5
             },
             "pattern": {
              "fillmode": "overlay",
              "size": 10,
              "solidity": 0.2
             }
            },
            "type": "bar"
           }
          ],
          "barpolar": [
           {
            "marker": {
             "line": {
              "color": "#E5ECF6",
              "width": 0.5
             },
             "pattern": {
              "fillmode": "overlay",
              "size": 10,
              "solidity": 0.2
             }
            },
            "type": "barpolar"
           }
          ],
          "carpet": [
           {
            "aaxis": {
             "endlinecolor": "#2a3f5f",
             "gridcolor": "white",
             "linecolor": "white",
             "minorgridcolor": "white",
             "startlinecolor": "#2a3f5f"
            },
            "baxis": {
             "endlinecolor": "#2a3f5f",
             "gridcolor": "white",
             "linecolor": "white",
             "minorgridcolor": "white",
             "startlinecolor": "#2a3f5f"
            },
            "type": "carpet"
           }
          ],
          "choropleth": [
           {
            "colorbar": {
             "outlinewidth": 0,
             "ticks": ""
            },
            "type": "choropleth"
           }
          ],
          "contour": [
           {
            "colorbar": {
             "outlinewidth": 0,
             "ticks": ""
            },
            "colorscale": [
             [
              0,
              "#0d0887"
             ],
             [
              0.1111111111111111,
              "#46039f"
             ],
             [
              0.2222222222222222,
              "#7201a8"
             ],
             [
              0.3333333333333333,
              "#9c179e"
             ],
             [
              0.4444444444444444,
              "#bd3786"
             ],
             [
              0.5555555555555556,
              "#d8576b"
             ],
             [
              0.6666666666666666,
              "#ed7953"
             ],
             [
              0.7777777777777778,
              "#fb9f3a"
             ],
             [
              0.8888888888888888,
              "#fdca26"
             ],
             [
              1,
              "#f0f921"
             ]
            ],
            "type": "contour"
           }
          ],
          "contourcarpet": [
           {
            "colorbar": {
             "outlinewidth": 0,
             "ticks": ""
            },
            "type": "contourcarpet"
           }
          ],
          "heatmap": [
           {
            "colorbar": {
             "outlinewidth": 0,
             "ticks": ""
            },
            "colorscale": [
             [
              0,
              "#0d0887"
             ],
             [
              0.1111111111111111,
              "#46039f"
             ],
             [
              0.2222222222222222,
              "#7201a8"
             ],
             [
              0.3333333333333333,
              "#9c179e"
             ],
             [
              0.4444444444444444,
              "#bd3786"
             ],
             [
              0.5555555555555556,
              "#d8576b"
             ],
             [
              0.6666666666666666,
              "#ed7953"
             ],
             [
              0.7777777777777778,
              "#fb9f3a"
             ],
             [
              0.8888888888888888,
              "#fdca26"
             ],
             [
              1,
              "#f0f921"
             ]
            ],
            "type": "heatmap"
           }
          ],
          "heatmapgl": [
           {
            "colorbar": {
             "outlinewidth": 0,
             "ticks": ""
            },
            "colorscale": [
             [
              0,
              "#0d0887"
             ],
             [
              0.1111111111111111,
              "#46039f"
             ],
             [
              0.2222222222222222,
              "#7201a8"
             ],
             [
              0.3333333333333333,
              "#9c179e"
             ],
             [
              0.4444444444444444,
              "#bd3786"
             ],
             [
              0.5555555555555556,
              "#d8576b"
             ],
             [
              0.6666666666666666,
              "#ed7953"
             ],
             [
              0.7777777777777778,
              "#fb9f3a"
             ],
             [
              0.8888888888888888,
              "#fdca26"
             ],
             [
              1,
              "#f0f921"
             ]
            ],
            "type": "heatmapgl"
           }
          ],
          "histogram": [
           {
            "marker": {
             "pattern": {
              "fillmode": "overlay",
              "size": 10,
              "solidity": 0.2
             }
            },
            "type": "histogram"
           }
          ],
          "histogram2d": [
           {
            "colorbar": {
             "outlinewidth": 0,
             "ticks": ""
            },
            "colorscale": [
             [
              0,
              "#0d0887"
             ],
             [
              0.1111111111111111,
              "#46039f"
             ],
             [
              0.2222222222222222,
              "#7201a8"
             ],
             [
              0.3333333333333333,
              "#9c179e"
             ],
             [
              0.4444444444444444,
              "#bd3786"
             ],
             [
              0.5555555555555556,
              "#d8576b"
             ],
             [
              0.6666666666666666,
              "#ed7953"
             ],
             [
              0.7777777777777778,
              "#fb9f3a"
             ],
             [
              0.8888888888888888,
              "#fdca26"
             ],
             [
              1,
              "#f0f921"
             ]
            ],
            "type": "histogram2d"
           }
          ],
          "histogram2dcontour": [
           {
            "colorbar": {
             "outlinewidth": 0,
             "ticks": ""
            },
            "colorscale": [
             [
              0,
              "#0d0887"
             ],
             [
              0.1111111111111111,
              "#46039f"
             ],
             [
              0.2222222222222222,
              "#7201a8"
             ],
             [
              0.3333333333333333,
              "#9c179e"
             ],
             [
              0.4444444444444444,
              "#bd3786"
             ],
             [
              0.5555555555555556,
              "#d8576b"
             ],
             [
              0.6666666666666666,
              "#ed7953"
             ],
             [
              0.7777777777777778,
              "#fb9f3a"
             ],
             [
              0.8888888888888888,
              "#fdca26"
             ],
             [
              1,
              "#f0f921"
             ]
            ],
            "type": "histogram2dcontour"
           }
          ],
          "mesh3d": [
           {
            "colorbar": {
             "outlinewidth": 0,
             "ticks": ""
            },
            "type": "mesh3d"
           }
          ],
          "parcoords": [
           {
            "line": {
             "colorbar": {
              "outlinewidth": 0,
              "ticks": ""
             }
            },
            "type": "parcoords"
           }
          ],
          "pie": [
           {
            "automargin": true,
            "type": "pie"
           }
          ],
          "scatter": [
           {
            "marker": {
             "colorbar": {
              "outlinewidth": 0,
              "ticks": ""
             }
            },
            "type": "scatter"
           }
          ],
          "scatter3d": [
           {
            "line": {
             "colorbar": {
              "outlinewidth": 0,
              "ticks": ""
             }
            },
            "marker": {
             "colorbar": {
              "outlinewidth": 0,
              "ticks": ""
             }
            },
            "type": "scatter3d"
           }
          ],
          "scattercarpet": [
           {
            "marker": {
             "colorbar": {
              "outlinewidth": 0,
              "ticks": ""
             }
            },
            "type": "scattercarpet"
           }
          ],
          "scattergeo": [
           {
            "marker": {
             "colorbar": {
              "outlinewidth": 0,
              "ticks": ""
             }
            },
            "type": "scattergeo"
           }
          ],
          "scattergl": [
           {
            "marker": {
             "colorbar": {
              "outlinewidth": 0,
              "ticks": ""
             }
            },
            "type": "scattergl"
           }
          ],
          "scattermapbox": [
           {
            "marker": {
             "colorbar": {
              "outlinewidth": 0,
              "ticks": ""
             }
            },
            "type": "scattermapbox"
           }
          ],
          "scatterpolar": [
           {
            "marker": {
             "colorbar": {
              "outlinewidth": 0,
              "ticks": ""
             }
            },
            "type": "scatterpolar"
           }
          ],
          "scatterpolargl": [
           {
            "marker": {
             "colorbar": {
              "outlinewidth": 0,
              "ticks": ""
             }
            },
            "type": "scatterpolargl"
           }
          ],
          "scatterternary": [
           {
            "marker": {
             "colorbar": {
              "outlinewidth": 0,
              "ticks": ""
             }
            },
            "type": "scatterternary"
           }
          ],
          "surface": [
           {
            "colorbar": {
             "outlinewidth": 0,
             "ticks": ""
            },
            "colorscale": [
             [
              0,
              "#0d0887"
             ],
             [
              0.1111111111111111,
              "#46039f"
             ],
             [
              0.2222222222222222,
              "#7201a8"
             ],
             [
              0.3333333333333333,
              "#9c179e"
             ],
             [
              0.4444444444444444,
              "#bd3786"
             ],
             [
              0.5555555555555556,
              "#d8576b"
             ],
             [
              0.6666666666666666,
              "#ed7953"
             ],
             [
              0.7777777777777778,
              "#fb9f3a"
             ],
             [
              0.8888888888888888,
              "#fdca26"
             ],
             [
              1,
              "#f0f921"
             ]
            ],
            "type": "surface"
           }
          ],
          "table": [
           {
            "cells": {
             "fill": {
              "color": "#EBF0F8"
             },
             "line": {
              "color": "white"
             }
            },
            "header": {
             "fill": {
              "color": "#C8D4E3"
             },
             "line": {
              "color": "white"
             }
            },
            "type": "table"
           }
          ]
         },
         "layout": {
          "annotationdefaults": {
           "arrowcolor": "#2a3f5f",
           "arrowhead": 0,
           "arrowwidth": 1
          },
          "autotypenumbers": "strict",
          "coloraxis": {
           "colorbar": {
            "outlinewidth": 0,
            "ticks": ""
           }
          },
          "colorscale": {
           "diverging": [
            [
             0,
             "#8e0152"
            ],
            [
             0.1,
             "#c51b7d"
            ],
            [
             0.2,
             "#de77ae"
            ],
            [
             0.3,
             "#f1b6da"
            ],
            [
             0.4,
             "#fde0ef"
            ],
            [
             0.5,
             "#f7f7f7"
            ],
            [
             0.6,
             "#e6f5d0"
            ],
            [
             0.7,
             "#b8e186"
            ],
            [
             0.8,
             "#7fbc41"
            ],
            [
             0.9,
             "#4d9221"
            ],
            [
             1,
             "#276419"
            ]
           ],
           "sequential": [
            [
             0,
             "#0d0887"
            ],
            [
             0.1111111111111111,
             "#46039f"
            ],
            [
             0.2222222222222222,
             "#7201a8"
            ],
            [
             0.3333333333333333,
             "#9c179e"
            ],
            [
             0.4444444444444444,
             "#bd3786"
            ],
            [
             0.5555555555555556,
             "#d8576b"
            ],
            [
             0.6666666666666666,
             "#ed7953"
            ],
            [
             0.7777777777777778,
             "#fb9f3a"
            ],
            [
             0.8888888888888888,
             "#fdca26"
            ],
            [
             1,
             "#f0f921"
            ]
           ],
           "sequentialminus": [
            [
             0,
             "#0d0887"
            ],
            [
             0.1111111111111111,
             "#46039f"
            ],
            [
             0.2222222222222222,
             "#7201a8"
            ],
            [
             0.3333333333333333,
             "#9c179e"
            ],
            [
             0.4444444444444444,
             "#bd3786"
            ],
            [
             0.5555555555555556,
             "#d8576b"
            ],
            [
             0.6666666666666666,
             "#ed7953"
            ],
            [
             0.7777777777777778,
             "#fb9f3a"
            ],
            [
             0.8888888888888888,
             "#fdca26"
            ],
            [
             1,
             "#f0f921"
            ]
           ]
          },
          "colorway": [
           "#636efa",
           "#EF553B",
           "#00cc96",
           "#ab63fa",
           "#FFA15A",
           "#19d3f3",
           "#FF6692",
           "#B6E880",
           "#FF97FF",
           "#FECB52"
          ],
          "font": {
           "color": "#2a3f5f"
          },
          "geo": {
           "bgcolor": "white",
           "lakecolor": "white",
           "landcolor": "#E5ECF6",
           "showlakes": true,
           "showland": true,
           "subunitcolor": "white"
          },
          "hoverlabel": {
           "align": "left"
          },
          "hovermode": "closest",
          "mapbox": {
           "style": "light"
          },
          "paper_bgcolor": "white",
          "plot_bgcolor": "#E5ECF6",
          "polar": {
           "angularaxis": {
            "gridcolor": "white",
            "linecolor": "white",
            "ticks": ""
           },
           "bgcolor": "#E5ECF6",
           "radialaxis": {
            "gridcolor": "white",
            "linecolor": "white",
            "ticks": ""
           }
          },
          "scene": {
           "xaxis": {
            "backgroundcolor": "#E5ECF6",
            "gridcolor": "white",
            "gridwidth": 2,
            "linecolor": "white",
            "showbackground": true,
            "ticks": "",
            "zerolinecolor": "white"
           },
           "yaxis": {
            "backgroundcolor": "#E5ECF6",
            "gridcolor": "white",
            "gridwidth": 2,
            "linecolor": "white",
            "showbackground": true,
            "ticks": "",
            "zerolinecolor": "white"
           },
           "zaxis": {
            "backgroundcolor": "#E5ECF6",
            "gridcolor": "white",
            "gridwidth": 2,
            "linecolor": "white",
            "showbackground": true,
            "ticks": "",
            "zerolinecolor": "white"
           }
          },
          "shapedefaults": {
           "line": {
            "color": "#2a3f5f"
           }
          },
          "ternary": {
           "aaxis": {
            "gridcolor": "white",
            "linecolor": "white",
            "ticks": ""
           },
           "baxis": {
            "gridcolor": "white",
            "linecolor": "white",
            "ticks": ""
           },
           "bgcolor": "#E5ECF6",
           "caxis": {
            "gridcolor": "white",
            "linecolor": "white",
            "ticks": ""
           }
          },
          "title": {
           "x": 0.05
          },
          "xaxis": {
           "automargin": true,
           "gridcolor": "white",
           "linecolor": "white",
           "ticks": "",
           "title": {
            "standoff": 15
           },
           "zerolinecolor": "white",
           "zerolinewidth": 2
          },
          "yaxis": {
           "automargin": true,
           "gridcolor": "white",
           "linecolor": "white",
           "ticks": "",
           "title": {
            "standoff": 15
           },
           "zerolinecolor": "white",
           "zerolinewidth": 2
          }
         }
        },
        "ternary": {
         "aaxis": {
          "title": {
           "text": "Or"
          }
         },
         "baxis": {
          "title": {
           "text": "Ab"
          }
         },
         "caxis": {
          "title": {
           "text": "An"
          }
         },
         "domain": {
          "x": [
           0,
           1
          ],
          "y": [
           0,
           1
          ]
         }
        }
       }
      },
      "image/png": "[encoded data removed]",
      "text/html": [
       "<div>                            <div id=\"714e0d8c-6ba2-4653-9139-cfaafb124763\" class=\"plotly-graph-div\" style=\"height:525px; width:100%;\"></div>            <script type=\"text/javascript\">                require([\"plotly\"], function(Plotly) {                    window.PLOTLYENV=window.PLOTLYENV || {};                                    if (document.getElementById(\"714e0d8c-6ba2-4653-9139-cfaafb124763\")) {                    Plotly.newPlot(                        \"714e0d8c-6ba2-4653-9139-cfaafb124763\",                        [{\"a\":[0.36925484232732864,0.28534747907290237,0.20130011376756873,0.1559138365019953,0.3573943193751913],\"b\":[0.623739257016394,0.6766347732115418,0.6841100914425076,0.6546681912735208,0.5904028086814102],\"c\":[0.007005900656277414,0.03801774771555591,0.11458979478992369,0.1894179722244839,0.05220287194339859],\"hovertemplate\":\"Or=%{a}<br>Ab=%{b}<br>An=%{c}<extra></extra>\",\"legendgroup\":\"\",\"marker\":{\"color\":\"#636efa\",\"symbol\":\"circle\"},\"mode\":\"markers\",\"name\":\"\",\"showlegend\":false,\"subplot\":\"ternary\",\"type\":\"scatterternary\"}],                        {\"legend\":{\"tracegroupgap\":0},\"margin\":{\"t\":60},\"template\":{\"data\":{\"bar\":[{\"error_x\":{\"color\":\"#2a3f5f\"},\"error_y\":{\"color\":\"#2a3f5f\"},\"marker\":{\"line\":{\"color\":\"#E5ECF6\",\"width\":0.5},\"pattern\":{\"fillmode\":\"overlay\",\"size\":10,\"solidity\":0.2}},\"type\":\"bar\"}],\"barpolar\":[{\"marker\":{\"line\":{\"color\":\"#E5ECF6\",\"width\":0.5},\"pattern\":{\"fillmode\":\"overlay\",\"size\":10,\"solidity\":0.2}},\"type\":\"barpolar\"}],\"carpet\":[{\"aaxis\":{\"endlinecolor\":\"#2a3f5f\",\"gridcolor\":\"white\",\"linecolor\":\"white\",\"minorgridcolor\":\"white\",\"startlinecolor\":\"#2a3f5f\"},\"baxis\":{\"endlinecolor\":\"#2a3f5f\",\"gridcolor\":\"white\",\"linecolor\":\"white\",\"minorgridcolor\":\"white\",\"startlinecolor\":\"#2a3f5f\"},\"type\":\"carpet\"}],\"choropleth\":[{\"colorbar\":{\"outlinewidth\":0,\"ticks\":\"\"},\"type\":\"choropleth\"}],\"contour\":[{\"colorbar\":{\"outlinewidth\":0,\"ticks\":\"\"},\"colorscale\":[[0.0,\"#0d0887\"],[0.1111111111111111,\"#46039f\"],[0.2222222222222222,\"#7201a8\"],[0.3333333333333333,\"#9c179e\"],[0.4444444444444444,\"#bd3786\"],[0.5555555555555556,\"#d8576b\"],[0.6666666666666666,\"#ed7953\"],[0.7777777777777778,\"#fb9f3a\"],[0.8888888888888888,\"#fdca26\"],[1.0,\"#f0f921\"]],\"type\":\"contour\"}],\"contourcarpet\":[{\"colorbar\":{\"outlinewidth\":0,\"ticks\":\"\"},\"type\":\"contourcarpet\"}],\"heatmap\":[{\"colorbar\":{\"outlinewidth\":0,\"ticks\":\"\"},\"colorscale\":[[0.0,\"#0d0887\"],[0.1111111111111111,\"#46039f\"],[0.2222222222222222,\"#7201a8\"],[0.3333333333333333,\"#9c179e\"],[0.4444444444444444,\"#bd3786\"],[0.5555555555555556,\"#d8576b\"],[0.6666666666666666,\"#ed7953\"],[0.7777777777777778,\"#fb9f3a\"],[0.8888888888888888,\"#fdca26\"],[1.0,\"#f0f921\"]],\"type\":\"heatmap\"}],\"heatmapgl\":[{\"colorbar\":{\"outlinewidth\":0,\"ticks\":\"\"},\"colorscale\":[[0.0,\"#0d0887\"],[0.1111111111111111,\"#46039f\"],[0.2222222222222222,\"#7201a8\"],[0.3333333333333333,\"#9c179e\"],[0.4444444444444444,\"#bd3786\"],[0.5555555555555556,\"#d8576b\"],[0.6666666666666666,\"#ed7953\"],[0.7777777777777778,\"#fb9f3a\"],[0.8888888888888888,\"#fdca26\"],[1.0,\"#f0f921\"]],\"type\":\"heatmapgl\"}],\"histogram\":[{\"marker\":{\"pattern\":{\"fillmode\":\"overlay\",\"size\":10,\"solidity\":0.2}},\"type\":\"histogram\"}],\"histogram2d\":[{\"colorbar\":{\"outlinewidth\":0,\"ticks\":\"\"},\"colorscale\":[[0.0,\"#0d0887\"],[0.1111111111111111,\"#46039f\"],[0.2222222222222222,\"#7201a8\"],[0.3333333333333333,\"#9c179e\"],[0.4444444444444444,\"#bd3786\"],[0.5555555555555556,\"#d8576b\"],[0.6666666666666666,\"#ed7953\"],[0.7777777777777778,\"#fb9f3a\"],[0.8888888888888888,\"#fdca26\"],[1.0,\"#f0f921\"]],\"type\":\"histogram2d\"}],\"histogram2dcontour\":[{\"colorbar\":{\"outlinewidth\":0,\"ticks\":\"\"},\"colorscale\":[[0.0,\"#0d0887\"],[0.1111111111111111,\"#46039f\"],[0.2222222222222222,\"#7201a8\"],[0.3333333333333333,\"#9c179e\"],[0.4444444444444444,\"#bd3786\"],[0.5555555555555556,\"#d8576b\"],[0.6666666666666666,\"#ed7953\"],[0.7777777777777778,\"#fb9f3a\"],[0.8888888888888888,\"#fdca26\"],[1.0,\"#f0f921\"]],\"type\":\"histogram2dcontour\"}],\"mesh3d\":[{\"colorbar\":{\"outlinewidth\":0,\"ticks\":\"\"},\"type\":\"mesh3d\"}],\"parcoords\":[{\"line\":{\"colorbar\":{\"outlinewidth\":0,\"ticks\":\"\"}},\"type\":\"parcoords\"}],\"pie\":[{\"automargin\":true,\"type\":\"pie\"}],\"scatter\":[{\"marker\":{\"colorbar\":{\"outlinewidth\":0,\"ticks\":\"\"}},\"type\":\"scatter\"}],\"scatter3d\":[{\"line\":{\"colorbar\":{\"outlinewidth\":0,\"ticks\":\"\"}},\"marker\":{\"colorbar\":{\"outlinewidth\":0,\"ticks\":\"\"}},\"type\":\"scatter3d\"}],\"scattercarpet\":[{\"marker\":{\"colorbar\":{\"outlinewidth\":0,\"ticks\":\"\"}},\"type\":\"scattercarpet\"}],\"scattergeo\":[{\"marker\":{\"colorbar\":{\"outlinewidth\":0,\"ticks\":\"\"}},\"type\":\"scattergeo\"}],\"scattergl\":[{\"marker\":{\"colorbar\":{\"outlinewidth\":0,\"ticks\":\"\"}},\"type\":\"scattergl\"}],\"scattermapbox\":[{\"marker\":{\"colorbar\":{\"outlinewidth\":0,\"ticks\":\"\"}},\"type\":\"scattermapbox\"}],\"scatterpolar\":[{\"marker\":{\"colorbar\":{\"outlinewidth\":0,\"ticks\":\"\"}},\"type\":\"scatterpolar\"}],\"scatterpolargl\":[{\"marker\":{\"colorbar\":{\"outlinewidth\":0,\"ticks\":\"\"}},\"type\":\"scatterpolargl\"}],\"scatterternary\":[{\"marker\":{\"colorbar\":{\"outlinewidth\":0,\"ticks\":\"\"}},\"type\":\"scatterternary\"}],\"surface\":[{\"colorbar\":{\"outlinewidth\":0,\"ticks\":\"\"},\"colorscale\":[[0.0,\"#0d0887\"],[0.1111111111111111,\"#46039f\"],[0.2222222222222222,\"#7201a8\"],[0.3333333333333333,\"#9c179e\"],[0.4444444444444444,\"#bd3786\"],[0.5555555555555556,\"#d8576b\"],[0.6666666666666666,\"#ed7953\"],[0.7777777777777778,\"#fb9f3a\"],[0.8888888888888888,\"#fdca26\"],[1.0,\"#f0f921\"]],\"type\":\"surface\"}],\"table\":[{\"cells\":{\"fill\":{\"color\":\"#EBF0F8\"},\"line\":{\"color\":\"white\"}},\"header\":{\"fill\":{\"color\":\"#C8D4E3\"},\"line\":{\"color\":\"white\"}},\"type\":\"table\"}]},\"layout\":{\"annotationdefaults\":{\"arrowcolor\":\"#2a3f5f\",\"arrowhead\":0,\"arrowwidth\":1},\"autotypenumbers\":\"strict\",\"coloraxis\":{\"colorbar\":{\"outlinewidth\":0,\"ticks\":\"\"}},\"colorscale\":{\"diverging\":[[0,\"#8e0152\"],[0.1,\"#c51b7d\"],[0.2,\"#de77ae\"],[0.3,\"#f1b6da\"],[0.4,\"#fde0ef\"],[0.5,\"#f7f7f7\"],[0.6,\"#e6f5d0\"],[0.7,\"#b8e186\"],[0.8,\"#7fbc41\"],[0.9,\"#4d9221\"],[1,\"#276419\"]],\"sequential\":[[0.0,\"#0d0887\"],[0.1111111111111111,\"#46039f\"],[0.2222222222222222,\"#7201a8\"],[0.3333333333333333,\"#9c179e\"],[0.4444444444444444,\"#bd3786\"],[0.5555555555555556,\"#d8576b\"],[0.6666666666666666,\"#ed7953\"],[0.7777777777777778,\"#fb9f3a\"],[0.8888888888888888,\"#fdca26\"],[1.0,\"#f0f921\"]],\"sequentialminus\":[[0.0,\"#0d0887\"],[0.1111111111111111,\"#46039f\"],[0.2222222222222222,\"#7201a8\"],[0.3333333333333333,\"#9c179e\"],[0.4444444444444444,\"#bd3786\"],[0.5555555555555556,\"#d8576b\"],[0.6666666666666666,\"#ed7953\"],[0.7777777777777778,\"#fb9f3a\"],[0.8888888888888888,\"#fdca26\"],[1.0,\"#f0f921\"]]},\"colorway\":[\"#636efa\",\"#EF553B\",\"#00cc96\",\"#ab63fa\",\"#FFA15A\",\"#19d3f3\",\"#FF6692\",\"#B6E880\",\"#FF97FF\",\"#FECB52\"],\"font\":{\"color\":\"#2a3f5f\"},\"geo\":{\"bgcolor\":\"white\",\"lakecolor\":\"white\",\"landcolor\":\"#E5ECF6\",\"showlakes\":true,\"showland\":true,\"subunitcolor\":\"white\"},\"hoverlabel\":{\"align\":\"left\"},\"hovermode\":\"closest\",\"mapbox\":{\"style\":\"light\"},\"paper_bgcolor\":\"white\",\"plot_bgcolor\":\"#E5ECF6\",\"polar\":{\"angularaxis\":{\"gridcolor\":\"white\",\"linecolor\":\"white\",\"ticks\":\"\"},\"bgcolor\":\"#E5ECF6\",\"radialaxis\":{\"gridcolor\":\"white\",\"linecolor\":\"white\",\"ticks\":\"\"}},\"scene\":{\"xaxis\":{\"backgroundcolor\":\"#E5ECF6\",\"gridcolor\":\"white\",\"gridwidth\":2,\"linecolor\":\"white\",\"showbackground\":true,\"ticks\":\"\",\"zerolinecolor\":\"white\"},\"yaxis\":{\"backgroundcolor\":\"#E5ECF6\",\"gridcolor\":\"white\",\"gridwidth\":2,\"linecolor\":\"white\",\"showbackground\":true,\"ticks\":\"\",\"zerolinecolor\":\"white\"},\"zaxis\":{\"backgroundcolor\":\"#E5ECF6\",\"gridcolor\":\"white\",\"gridwidth\":2,\"linecolor\":\"white\",\"showbackground\":true,\"ticks\":\"\",\"zerolinecolor\":\"white\"}},\"shapedefaults\":{\"line\":{\"color\":\"#2a3f5f\"}},\"ternary\":{\"aaxis\":{\"gridcolor\":\"white\",\"linecolor\":\"white\",\"ticks\":\"\"},\"baxis\":{\"gridcolor\":\"white\",\"linecolor\":\"white\",\"ticks\":\"\"},\"bgcolor\":\"#E5ECF6\",\"caxis\":{\"gridcolor\":\"white\",\"linecolor\":\"white\",\"ticks\":\"\"}},\"title\":{\"x\":0.05},\"xaxis\":{\"automargin\":true,\"gridcolor\":\"white\",\"linecolor\":\"white\",\"ticks\":\"\",\"title\":{\"standoff\":15},\"zerolinecolor\":\"white\",\"zerolinewidth\":2},\"yaxis\":{\"automargin\":true,\"gridcolor\":\"white\",\"linecolor\":\"white\",\"ticks\":\"\",\"title\":{\"standoff\":15},\"zerolinecolor\":\"white\",\"zerolinewidth\":2}}},\"ternary\":{\"aaxis\":{\"title\":{\"text\":\"Or\"}},\"baxis\":{\"title\":{\"text\":\"Ab\"}},\"caxis\":{\"title\":{\"text\":\"An\"}},\"domain\":{\"x\":[0.0,1.0],\"y\":[0.0,1.0]}}},                        {\"responsive\": true}                    ).then(function(){\n",
       "                            \n",
       "var gd = document.getElementById('714e0d8c-6ba2-4653-9139-cfaafb124763');\n",
       "var x = new MutationObserver(function (mutations, observer) {{\n",
       "        var display = window.getComputedStyle(gd).display;\n",
       "        if (!display || display === 'none') {{\n",
       "            console.log([gd, 'removed!']);\n",
       "            Plotly.purge(gd);\n",
       "            observer.disconnect();\n",
       "        }}\n",
       "}});\n",
       "\n",
       "// Listen for the removal of the full notebook cells\n",
       "var notebookContainer = gd.closest('#notebook-container');\n",
       "if (notebookContainer) {{\n",
       "    x.observe(notebookContainer, {childList: true});\n",
       "}}\n",
       "\n",
       "// Listen for the clearing of the current output cell\n",
       "var outputEl = gd.closest('.output');\n",
       "if (outputEl) {{\n",
       "    x.observe(outputEl, {childList: true});\n",
       "}}\n",
       "\n",
       "                        })                };                });            </script>        </div>"
      ]
     },
     "metadata": {},
     "output_type": "display_data"
    }
   ],
   "source": [
    "Fspar_Class=Han.loc[Han[\"Fspar_Class\"]==\"Anorthoclase\"]\n",
    "import plotly.express as px\n",
    "fig = px.scatter_ternary(Fspar_Class, a=\"Or\", b=\"Ab\", c=\"An\")\n",
    "fig.show()"
   ]
  },
  {
   "cell_type": "code",
   "execution_count": null,
   "id": "4e81043a-82d5-43f9-a1c1-43b1594f45c3",
   "metadata": {},
   "outputs": [],
   "source": [
    "fig = px.scatter_ternary(df, a=\"Joly\", b=\"Coderre\", c=\"Bergeron\")\n",
    "fig.show()"
   ]
  },
  {
   "cell_type": "code",
   "execution_count": null,
   "id": "cd2c7392-5931-4b93-807a-00fb22196d4a",
   "metadata": {},
   "outputs": [],
   "source": [
    "import plotly.express as px\n",
    "plt.px.scatter_ternary(df, a=\"An\", b=\"Or\", c=\"An\")"
   ]
  },
  {
   "cell_type": "code",
   "execution_count": null,
   "id": "3235e66e-7cbb-4a55-b2ff-2943570bc60d",
   "metadata": {},
   "outputs": [],
   "source": [
    "#!pip install plotly\n",
    "\n",
    "df = Han\n",
    "fig = px.scatter_ternary(Han, a=\"An\", b=\"Ab\", c=\"Or\")\n",
    "fig.show()\n"
   ]
  },
  {
   "cell_type": "code",
   "execution_count": null,
   "id": "f6185efc-e1b2-4371-9a27-0df5d0bed9be",
   "metadata": {},
   "outputs": [],
   "source": [
    "GEOROC_Amp=pt.classify_phases('GEOROC_amphioles_filtered_Ca_cationsums.xlsx', sheet_name='test', str_to_drop=\"_Amp\",\n",
    "                        return_end_members=True)\n",
    "GEOROC_Amp"
   ]
  },
  {
   "cell_type": "code",
   "execution_count": null,
   "id": "960d8556-08db-4243-ae06-9897d49e9896",
   "metadata": {},
   "outputs": [],
   "source": [
    "sum(GEOROC_Amp['Phase_Min_Group_ML']==\"Px\")"
   ]
  },
  {
   "cell_type": "code",
   "execution_count": null,
   "id": "949d6018-515d-45e0-a452-f860c74f3619",
   "metadata": {},
   "outputs": [],
   "source": [
    "100*sum(GEOROC_Amp['Phase_Min_Group_ML']==\"Px\")/len(GEOROC_Amp['Phase_Min_Group_ML']==\"Amp\")"
   ]
  },
  {
   "cell_type": "code",
   "execution_count": null,
   "id": "048014e8-3d8f-47da-baf7-350c4504ef80",
   "metadata": {},
   "outputs": [],
   "source": [
    "GEOROC_Amp_px_class=GEOROC_Amp.loc[GEOROC_Amp['Phase_Min_Group_ML']==\"Px\"]\n",
    "GEOROC_Amp_amp_class=GEOROC_Amp.loc[GEOROC_Amp['Phase_Min_Group_ML']==\"Amp\"]"
   ]
  },
  {
   "cell_type": "markdown",
   "id": "37ed14ea-f008-44bb-871a-3181b10797dd",
   "metadata": {},
   "source": [
    "## What do ones that say they are amphibole loGEOROC_Amp_amp_classok like"
   ]
  },
  {
   "cell_type": "code",
   "execution_count": null,
   "id": "02dd6008-3b90-4142-80b0-48ba33196e90",
   "metadata": {},
   "outputs": [],
   "source": [
    "plt.plot(GEOROC_Amp_amp_class['SiO2_input'], GEOROC_Amp_amp_class['CaO_input'], '.k')\n",
    "plt.plot(GEOROC_Amp_px_class['SiO2_input'], GEOROC_Amp_px_class['CaO_input'], '.r', alpha=0.1)\n"
   ]
  },
  {
   "cell_type": "code",
   "execution_count": null,
   "id": "5fe69174-7e13-44d1-bf69-867745ea27df",
   "metadata": {},
   "outputs": [],
   "source": [
    "plt.plot(GEOROC_Amp_amp_class['SiO2_input'], GEOROC_Amp_amp_class['Na_K_A'], '.k')\n",
    "plt.plot(GEOROC_Amp_px_class['SiO2_input'], GEOROC_Amp_px_class['Na_K_A'], '.r', alpha=0.05)\n"
   ]
  },
  {
   "cell_type": "code",
   "execution_count": null,
   "id": "6b797bd9-e420-4b09-8b29-1d608229681f",
   "metadata": {},
   "outputs": [],
   "source": [
    "plt.plot(GEOROC_Amp_amp_class['Ca_B'], GEOROC_Amp_amp_class['Na_K_A'], '.k')\n",
    "plt.plot(GEOROC_Amp_px_class['Ca_B'], GEOROC_Amp_px_class['Na_K_A'], '.r', alpha=0.05)\n"
   ]
  },
  {
   "cell_type": "markdown",
   "id": "15c9d477-90c0-43cf-9861-c4979d56728d",
   "metadata": {},
   "source": [
    "## Loading machine learning model"
   ]
  },
  {
   "cell_type": "code",
   "execution_count": null,
   "id": "23c72125-a4f6-4faf-8481-61a1db281c18",
   "metadata": {},
   "outputs": [],
   "source": [
    "Galan=pt.classify_phases('Galan_plag_oxides.xlsx', sheet_name='oxides', return_end_members=True)\n",
    "Galan"
   ]
  },
  {
   "cell_type": "code",
   "execution_count": null,
   "id": "ab2689d3-c621-43db-882f-5f177f2578fb",
   "metadata": {},
   "outputs": [],
   "source": [
    "Galan=classify_phases('CT_sanidine_supplementary_data.xlsx', sheet_name='EPMA analyses', return_end_members=True)\n",
    "sum(Galan['Fspar_Class']!=\"Sanidine\")\n"
   ]
  },
  {
   "cell_type": "code",
   "execution_count": null,
   "id": "0afe90c9-f966-4b8c-9a3a-4447d21008e6",
   "metadata": {},
   "outputs": [],
   "source": [
    "## Importing Hannas data\n",
    "Hannah=classify_phases('KSpars_Shamloo.xlsx', sheet_name='alkali feldspar', return_end_members=True)\n",
    "sum(Hannah['Fspar_Class']!=\"Sanidine\")"
   ]
  },
  {
   "cell_type": "code",
   "execution_count": null,
   "id": "1b344f1d-dfa0-4f40-a5b7-1fafcbc3dcf3",
   "metadata": {},
   "outputs": [],
   "source": [
    "Hannah.loc[Hannah['Fspar_Class']!=\"Sanidine\"]"
   ]
  },
  {
   "cell_type": "markdown",
   "id": "4c9220e4-291d-45bb-ae76-92ea92a5b3f5",
   "metadata": {},
   "source": [
    "## Importing Jordans data"
   ]
  },
  {
   "cell_type": "code",
   "execution_count": null,
   "id": "4df37c7b-17b5-4938-b82c-a39fff7c1408",
   "metadata": {},
   "outputs": [],
   "source": [
    "classify_phases('Toba_master_spots.xlsx', sheet_name='plagioclase', return_end_members=True)"
   ]
  },
  {
   "cell_type": "code",
   "execution_count": null,
   "id": "6b9a12e3-3e12-4c79-818d-aa919d49d39a",
   "metadata": {},
   "outputs": [],
   "source": [
    "Jordan_Plag_in=pt.import_excel('Toba_master_spots.xlsx', sheet_name='plagioclase')\n",
    "Jordan_Plag_in"
   ]
  },
  {
   "cell_type": "code",
   "execution_count": null,
   "id": "e588c0e9-85ff-4399-8d1b-d63140dd39a7",
   "metadata": {},
   "outputs": [],
   "source": [
    "Jordan_Plag_Ox_noclass=Jordan_Plag_Ox.drop(columns=['Cr2O3', 'K2O', 'P2O5'])"
   ]
  },
  {
   "cell_type": "code",
   "execution_count": null,
   "id": "c78595b5-d72f-4a87-bd64-d6d9c6840fe7",
   "metadata": {},
   "outputs": [],
   "source": [
    "Jordan_Plag_Ox_noclass"
   ]
  },
  {
   "cell_type": "code",
   "execution_count": null,
   "id": "c1eb1605-1106-447d-a36e-649cf5c0aa7c",
   "metadata": {},
   "outputs": [],
   "source": [
    "X_Jordan_Plag=Jordan_Plag_Ox_noclass.values\n",
    "X_Jordan_Plag_scaled= scaler.transform(X_Jordan_Plag)\n",
    "svc_predictions_Jordan_Plag=svc_model.predict(X_Jordan_Plag_scaled)"
   ]
  },
  {
   "cell_type": "code",
   "execution_count": null,
   "id": "5cb5e81f-c8c3-4ec7-ba59-19647e706703",
   "metadata": {},
   "outputs": [],
   "source": [
    "Jordan_Plag_Ox_noclass['Phase']=svc_predictions_Jordan_Plag"
   ]
  },
  {
   "cell_type": "code",
   "execution_count": null,
   "id": "a61ec936-e2d5-4ec1-b4b4-3947274dfbf4",
   "metadata": {},
   "outputs": [],
   "source": [
    "Jordan_Plag_Ox_noclass[['Phase']]=Jordan_Plag_Ox_noclass[['Phase']].replace(2, \"Fspar\")"
   ]
  },
  {
   "cell_type": "code",
   "execution_count": null,
   "id": "71fef966-a683-477b-a89a-fe1ca51ea414",
   "metadata": {},
   "outputs": [],
   "source": [
    "Jordan_Plag_Ox_noclass[['Phase']]"
   ]
  },
  {
   "cell_type": "code",
   "execution_count": null,
   "id": "fd473695-e2e3-4315-b8e9-2580557d1490",
   "metadata": {},
   "outputs": [],
   "source": [
    "notPlag=Jordan_Plag_Ox_noclass['Phase']!=2"
   ]
  },
  {
   "cell_type": "code",
   "execution_count": null,
   "id": "3d736f44-e50c-4061-b35d-3afefde517e6",
   "metadata": {},
   "outputs": [],
   "source": [
    "Jordan_Plag_Ox_noclass.loc[notPlag]"
   ]
  },
  {
   "cell_type": "code",
   "execution_count": null,
   "id": "2155b1b3-8bda-460f-8798-1a58d1ba1017",
   "metadata": {},
   "outputs": [],
   "source": []
  },
  {
   "cell_type": "code",
   "execution_count": null,
   "id": "f370c63b-539c-4735-9c8d-e3ecf1df8c23",
   "metadata": {},
   "outputs": [],
   "source": [
    "Oxides_out=classify_phases('Toba_master_spots.xlsx', sheet_name='inclusions')"
   ]
  },
  {
   "cell_type": "code",
   "execution_count": null,
   "id": "1f1a7991-722e-4b32-b834-978d6d61fc73",
   "metadata": {},
   "outputs": [],
   "source": [
    "Oxides_Amphiboles=Oxides_out.add_suffix('_Amp')\n",
    "amp_sites=pt.get_amp_sites_from_input(amp_comps=Oxides_Amphiboles)\n",
    "amp_cations=pt.calculate_23oxygens_amphibole(amp_comps=Oxides_Amphiboles)\n",
    "ferric_ferrous=pt.amp_components_ferric_ferrous(amp_sites, amp_cations)\n",
    "plt.plot(ferric_ferrous['SiO2'], ferric_ferrous['MgO']/(ferric_ferrous['MgO']+ferric_ferrous['FeO']), '.k', label='AfterFe re-adjust')\n",
    "plt.plot(amp_cations['SiO2_Amp_cat_23ox'], amp_cations['MgO_Amp_cat_23ox']\n",
    "         /(amp_cations['MgO_Amp_cat_23ox']+ferric_ferrous['FeO']), '.r', label='Si, Mg, Fe 23ox, FeO from re-adjust')\n",
    "plt.plot(amp_cations['SiO2_Amp_cat_23ox'], amp_cations['MgO_Amp_cat_23ox']/\n",
    "         (amp_cations['MgO_Amp_cat_23ox']+amp_cations['FeOt_Amp_cat_23ox']), '.b', label='Si, Mg, FeOt, 23ox')\n",
    "plt.legend()\n",
    "plt.xlabel('Si')\n",
    "plt.ylabel('Mg/Mg+Fe')"
   ]
  },
  {
   "cell_type": "code",
   "execution_count": null,
   "id": "3e17fab2-6344-4da5-9f30-5135a4a6b1f5",
   "metadata": {},
   "outputs": [],
   "source": [
    "amp_cations"
   ]
  },
  {
   "cell_type": "code",
   "execution_count": null,
   "id": "720b3abd-372b-4557-b9b5-6befd03be7ea",
   "metadata": {},
   "outputs": [],
   "source": [
    "ferric_ferrous"
   ]
  },
  {
   "cell_type": "code",
   "execution_count": null,
   "id": "42be08d1-3bf1-4058-a4c5-9862f05c3105",
   "metadata": {},
   "outputs": [],
   "source": [
    "plt.plot(amp_sites['Si_T']"
   ]
  },
  {
   "cell_type": "code",
   "execution_count": null,
   "id": "7a53d6ea-3662-4bac-aa7f-f1848fe367b5",
   "metadata": {},
   "outputs": [],
   "source": [
    "Jordan_Class_inc=classify_phases('Toba_master_spots.xlsx', sheet_name='inclusions')\n",
    "Jordan_Class_inc"
   ]
  },
  {
   "cell_type": "code",
   "execution_count": null,
   "id": "ad09a37c-67ee-4aa2-93b1-81349cbf2b26",
   "metadata": {},
   "outputs": [],
   "source": [
    "Oxides_out=Jordan_Class_inc\n",
    "Px=Oxides_out['Phase_Min_Group_ML']==\"Px\"\n",
    "Px"
   ]
  },
  {
   "cell_type": "code",
   "execution_count": null,
   "id": "610f74ac-11d5-4e39-9681-61d542e2aede",
   "metadata": {},
   "outputs": [],
   "source": [
    "Jordan_Class_Plag=classify_phases('Toba_master_spots.xlsx', sheet_name='plagioclase')\n",
    "sum(Jordan_Class_Plag['Phase_Min_Group_ML'] !=\"Fspar\")\n",
    "# Empty row\n",
    "Jordan_Class_Plag.to_clipboard(excel=True)"
   ]
  },
  {
   "cell_type": "code",
   "execution_count": null,
   "id": "5b9ea2c6-b9b0-4d8f-bd9b-57f0f0358b1a",
   "metadata": {},
   "outputs": [],
   "source": [
    "Jordan_Class_inc=classify_phases('Toba_master_spots.xlsx', sheet_name='inclusions')\n",
    "Jordan_Class_inc.to_clipboard(excel=True)"
   ]
  },
  {
   "cell_type": "code",
   "execution_count": null,
   "id": "caa213d3-23a5-48eb-ba25-53274b31c073",
   "metadata": {},
   "outputs": [],
   "source": [
    "df=Jordan_Class_inc\n",
    "df.loc[df['Sum_Oxides']<90, 'Phase_Min_Group_ML'] = \"Not Classified - Low Total\""
   ]
  },
  {
   "cell_type": "code",
   "execution_count": null,
   "id": "dab2380a-9cd7-4170-9aa0-32ee5dd1be6e",
   "metadata": {},
   "outputs": [],
   "source": [
    "df"
   ]
  },
  {
   "cell_type": "code",
   "execution_count": null,
   "id": "05160db6-0d27-4ec2-a889-ce04277eeada",
   "metadata": {},
   "outputs": [],
   "source": [
    "Jordan_Class_Amp=classify_phases('Toba_master_spots.xlsx', sheet_name='amphibole')\n",
    "sum(Jordan_Class_Amp['Phase_Min_Group_ML'] !=\"Amp\")\n",
    "# Empty row"
   ]
  },
  {
   "cell_type": "code",
   "execution_count": null,
   "id": "3c45fa49-85ea-43ce-9b34-6ddcd8c47362",
   "metadata": {},
   "outputs": [],
   "source": [
    "Jordan_Class_inc=classify_phases('Toba_master_spots.xlsx', sheet_name='inclusions')\n",
    "Jordan_Class_inc.to_clipboard(excel=True)"
   ]
  },
  {
   "cell_type": "code",
   "execution_count": null,
   "id": "8ca20516-ce0b-4f95-aa44-6d7c5a5595f8",
   "metadata": {},
   "outputs": [],
   "source": [
    "Jordan_Class_inc"
   ]
  },
  {
   "cell_type": "markdown",
   "id": "1257b0a2-a00e-4d98-ba20-af08405eb85b",
   "metadata": {},
   "source": [
    "## Importing data for Amp (Phase=0)"
   ]
  },
  {
   "cell_type": "code",
   "execution_count": null,
   "id": "9e3d8250-0a4d-44b9-919e-ae21c7e4f830",
   "metadata": {},
   "outputs": [],
   "source": [
    "import warnings as w\n",
    "with w.catch_warnings():\n",
    "    w.simplefilter('ignore')\n",
    "    LEPR_Amp_in=pt.import_excel('MachineLearning_MinClass.xlsx', sheet_name=\"Amp\")\n",
    "    LEPR_Amp_PreFilt=LEPR_Amp_in['Amps']\n",
    "LEPR_Amp_Sums=pt.calculate_23oxygens_amphibole(amp_comps=LEPR_Amp_PreFilt).cation_sum_All\n",
    "LEPR_Amp=LEPR_Amp_PreFilt.loc[LEPR_Amp_Sums.between(15.5, 16)]\n",
    "LEPR_Amp_nosuf=LEPR_Amp.copy()\n",
    "LEPR_Amp_nosuf.drop(columns=['F_Amp', 'Cl_Amp'], inplace=True)\n",
    "LEPR_Amp_nosuf.columns = [col.replace('_Amp', '') for col in LEPR_Amp_nosuf.columns]\n",
    "LEPR_Amp_nosuf['Phase']=0"
   ]
  },
  {
   "cell_type": "markdown",
   "id": "008b034a-f004-4b06-aa67-9ee3aa3d51af",
   "metadata": {},
   "source": [
    "## Importing data Cpx (phase=1)"
   ]
  },
  {
   "cell_type": "code",
   "execution_count": null,
   "id": "a8d4fcdf-5aaa-46b4-a060-701a01ddfcda",
   "metadata": {},
   "outputs": [],
   "source": [
    "import warnings as w\n",
    "with w.catch_warnings():\n",
    "    w.simplefilter('ignore')\n",
    "    LEPR_Cpx_in=pt.import_excel('MachineLearning_MinClass.xlsx', sheet_name=\"Cpx\")\n",
    "    LEPR_px_input=LEPR_Cpx_in['my_input']\n",
    "    LEPR_Cpx_PreFilt=LEPR_Cpx_in['Cpxs']\n",
    "\n",
    "LEPR_Cpx_cs=pt.calculate_clinopyroxene_components(cpx_comps=LEPR_Cpx_PreFilt)\n",
    "LEPR_Cpx_Sums=LEPR_Cpx_cs.Cation_Sum_Cpx\n",
    "LEPR_CaCaMgFe=LEPR_Cpx_cs.Ca_CaMgFe\n",
    "LEPR_Cpx=LEPR_Cpx_PreFilt.loc[(LEPR_Cpx_Sums.between(a, b))]\n",
    "LEPR_Cpx_nosuf=LEPR_Cpx.copy()\n",
    "LEPR_Cpx_nosuf.columns = [col.replace('_Cpx', '') for col in LEPR_Cpx_nosuf.columns]\n",
    "LEPR_Cpx_nosuf['Phase']=1\n"
   ]
  },
  {
   "cell_type": "markdown",
   "id": "4e664f96-22d6-4c39-8e3c-b02b7452fba2",
   "metadata": {},
   "source": [
    "## Importing data Opx (Phase=1)"
   ]
  },
  {
   "cell_type": "code",
   "execution_count": null,
   "id": "54c77893-cc70-462b-a3d0-419b00db9194",
   "metadata": {},
   "outputs": [],
   "source": [
    "import warnings as w\n",
    "with w.catch_warnings():\n",
    "    w.simplefilter('ignore')    \n",
    "    LEPR_Opx_in=pt.import_excel('MachineLearning_MinClass.xlsx', sheet_name=\"Opx\")\n",
    "    LEPR_px_input=LEPR_Opx_in['my_input']\n",
    "    LEPR_Opx_PreFilt=LEPR_Opx_in['Opxs']\n",
    "\n",
    "LEPR_Opx_cs=pt.calculate_orthopyroxene_components(opx_comps=LEPR_Opx_PreFilt)\n",
    "LEPR_Opx_Sums=LEPR_Opx_cs.Cation_Sum_Opx\n",
    "LEPR_CaCaMgFe=LEPR_Opx_cs.Ca_CaMgFe\n",
    "\n",
    "\n",
    "LEPR_Opx=LEPR_Opx_PreFilt.loc[(LEPR_Opx_Sums.between(a, b)) ]\n",
    "\n",
    "\n",
    "LEPR_Opx_nosuf=LEPR_Opx.copy()\n",
    "LEPR_Opx_nosuf.columns = [col.replace('_Opx', '') for col in LEPR_Opx_nosuf.columns]\n",
    "\n",
    "LEPR_Opx_nosuf['Phase']=1"
   ]
  },
  {
   "cell_type": "markdown",
   "id": "ed2a20bd-2943-43e4-b3e8-2d4b5ab54b90",
   "metadata": {},
   "source": [
    "## Importing data for Plag (Phase=2)"
   ]
  },
  {
   "cell_type": "code",
   "execution_count": null,
   "id": "046bd54e-b3b2-4ba6-8835-55d12e5a3f3a",
   "metadata": {},
   "outputs": [],
   "source": [
    "import warnings as w\n",
    "with w.catch_warnings():\n",
    "    w.simplefilter('ignore')    \n",
    "    LEPR_Plag_in=pt.import_excel('MachineLearning_MinClass.xlsx', sheet_name=\"Plag\")\n",
    "    LEPR_px_input=LEPR_Plag_in['my_input']\n",
    "    LEPR_Plag_PreFilt=LEPR_Plag_in['Plags']\n",
    "\n",
    "\n",
    "LEPR_Plag=LEPR_Plag_PreFilt\n",
    "\n",
    "\n",
    "LEPR_Plag_nosuf=LEPR_Plag.copy()\n",
    "LEPR_Plag_nosuf.columns = [col.replace('_Plag', '') for col in LEPR_Plag_nosuf.columns]\n",
    "\n",
    "\n",
    "LEPR_Plag_nosuf['Phase']=2"
   ]
  },
  {
   "cell_type": "markdown",
   "id": "3f79a4f2-ce70-4140-aaf9-f468e30a0036",
   "metadata": {},
   "source": [
    "## Importing data for olivine (Phase = 3)"
   ]
  },
  {
   "cell_type": "code",
   "execution_count": null,
   "id": "bc2f5fa0-1e66-4f86-bc3b-11811a3ad17d",
   "metadata": {},
   "outputs": [],
   "source": [
    "import warnings as w\n",
    "with w.catch_warnings():\n",
    "    w.simplefilter('ignore')    \n",
    "    LEPR_Ol_in=pt.import_excel('MachineLearning_MinClass.xlsx', sheet_name=\"Ol\")\n",
    "    LEPR_px_input=LEPR_Ol_in['my_input']\n",
    "    LEPR_Ol_PreFilt=LEPR_Ol_in['Ols']\n",
    "\n",
    "\n",
    "LEPR_Ol=LEPR_Ol_PreFilt\n",
    "\n",
    "\n",
    "LEPR_Ol_nosuf=LEPR_Ol.copy()\n",
    "LEPR_Ol_nosuf.columns = [col.replace('_Ol', '') for col in LEPR_Ol_nosuf.columns]\n",
    "\n",
    "LEPR_Ol_nosuf['Phase']=3"
   ]
  },
  {
   "cell_type": "markdown",
   "id": "7a05badf-5718-43ad-9e18-4691c2c628c9",
   "metadata": {},
   "source": [
    "## Importing Spinel data (Phase = 4)"
   ]
  },
  {
   "cell_type": "code",
   "execution_count": null,
   "id": "308a4497-6b9d-4f8c-a499-cb1179951700",
   "metadata": {},
   "outputs": [],
   "source": [
    "import warnings as w\n",
    "with w.catch_warnings():\n",
    "    w.simplefilter('ignore')\n",
    "    LEPR_Sp_in=pt.import_excel('MachineLearning_MinClass.xlsx', sheet_name=\"Cr_Sp\")\n",
    "    LEPR_Sp_input=LEPR_Sp_in['my_input']\n",
    "    LEPR_Sp_PreFilt=LEPR_Sp_in['Sps']\n",
    "\n",
    "LEPR_Sp=LEPR_Sp_PreFilt\n",
    "LEPR_Sp_nosuf=LEPR_Sp.copy()\n",
    "LEPR_Sp_nosuf.columns = [col.replace('_Sp', '') for col in LEPR_Sp_nosuf.columns]\n",
    "LEPR_Sp_nosuf['Phase']=4\n"
   ]
  },
  {
   "cell_type": "markdown",
   "id": "d61e1e7e-90d3-4901-80c1-f0c457521afe",
   "metadata": {},
   "source": [
    "## Importing Oxide, phase = 5"
   ]
  },
  {
   "cell_type": "code",
   "execution_count": null,
   "id": "b8541f7d-cd0a-40cd-b4e6-ca72daaaad16",
   "metadata": {},
   "outputs": [],
   "source": [
    "import warnings as w\n",
    "with w.catch_warnings():\n",
    "    w.simplefilter('ignore')\n",
    "    LEPR_Ox_in=pt.import_excel('MachineLearning_MinClass.xlsx', sheet_name=\"Oxide\")\n",
    "    LEPR_Ox_input=LEPR_Ox_in['my_input']\n",
    "    LEPR_Ox_PreFilt=LEPR_Ox_in['Sps']\n",
    "\n",
    "\n",
    "LEPR_Ox=LEPR_Ox_PreFilt\n",
    "\n",
    "LEPR_Ox_nosuf=LEPR_Ox.copy()\n",
    "LEPR_Ox_nosuf.columns = [col.replace('_Sp', '') for col in LEPR_Ox_nosuf.columns]\n",
    "LEPR_Ox_nosuf['Phase']=5\n"
   ]
  },
  {
   "cell_type": "markdown",
   "id": "3a8febff-704b-47c3-9cac-d3f4021eda21",
   "metadata": {},
   "source": [
    "## Alk Feldspar Phase = 2"
   ]
  },
  {
   "cell_type": "code",
   "execution_count": null,
   "id": "e962dc7a-bcfd-43b6-978c-91df9ba9469e",
   "metadata": {},
   "outputs": [],
   "source": [
    "import warnings as w\n",
    "with w.catch_warnings():\n",
    "    w.simplefilter('ignore')    \n",
    "    LEPR_Kspar_in=pt.import_excel('MachineLearning_MinClass.xlsx', sheet_name=\"Kspar\")\n",
    "    LEPR_px_input=LEPR_Kspar_in['my_input']\n",
    "    LEPR_Kspar_PreFilt=LEPR_Kspar_in['Kspars']\n",
    "\n",
    "\n",
    "LEPR_Kspar=LEPR_Kspar_PreFilt\n",
    "\n",
    "\n",
    "LEPR_Kspar_nosuf=LEPR_Kspar.copy()\n",
    "LEPR_Kspar_nosuf.columns = [col.replace('_Kspar', '') for col in LEPR_Kspar_nosuf.columns]\n",
    "\n",
    "\n",
    "LEPR_Kspar_nosuf['Phase']=2"
   ]
  },
  {
   "cell_type": "markdown",
   "id": "b230c4cf-0f36-4f88-b3d1-672f1458ebe5",
   "metadata": {},
   "source": [
    "## Stitching different phases together"
   ]
  },
  {
   "cell_type": "code",
   "execution_count": null,
   "id": "f7d637cf-c2f0-4132-b9e9-c539da2ccea0",
   "metadata": {},
   "outputs": [],
   "source": [
    "LEPR_Combo=pd.concat([LEPR_Cpx_nosuf, LEPR_Amp_nosuf, LEPR_Opx_nosuf,  LEPR_Plag_nosuf, \n",
    "                      LEPR_Ol_nosuf,  LEPR_Sp_nosuf, LEPR_Ox_nosuf, LEPR_Kspar_nosuf], axis=0, ignore_index=True)#.reset_index(drop=True, inplace=True)\n",
    "LEPR_Y=LEPR_Combo['Phase']\n",
    "LEPR_Combo_noclass=LEPR_Combo.drop(columns=['Phase', 'Sample_ID', 'NiO', 'Cr2O3', 'K2O'])\n",
    "LEPR_X=LEPR_Combo_noclass.values"
   ]
  },
  {
   "cell_type": "markdown",
   "id": "177fd4bf-47f6-46c5-be9e-c4581d3f3fc4",
   "metadata": {},
   "source": [
    "## Importing new data from my compilation"
   ]
  },
  {
   "cell_type": "code",
   "execution_count": null,
   "id": "0976e450-ff27-4f5f-aeaa-a249ae1f84b6",
   "metadata": {},
   "outputs": [],
   "source": [
    "PW_Amp_in=pt.import_excel(r\"C:\\Users\\penny\\OneDrive - Oregon State University\\Postdoc\\PyMME\\MyBarometers\\LEPR_Tests\\LEPR_Wet_Stitched.xlsx\", sheet_name=\"Amp\")\n",
    "PW_Amp_input=PW_Amp_in['my_input']\n",
    "PW_Amp_PreFilt=PW_Amp_in['Amps']\n",
    "PW_Amp_Sums=pt.calculate_23oxygens_amphibole(amp_comps=PW_Amp_PreFilt).cation_sum_All\n",
    "PW_Amp=PW_Amp_PreFilt.loc[PW_Amp_Sums.between(15.5, 16)]\n",
    "PW_Amp_nosuf=PW_Amp.copy()\n",
    "PW_Amp_nosuf.drop(columns=['F_Amp', 'Cl_Amp'], inplace=True)\n",
    "PW_Amp_nosuf.columns = [col.replace('_Amp', '') for col in PW_Amp_nosuf.columns]\n",
    "PW_Amp_nosuf['Phase']=0"
   ]
  },
  {
   "cell_type": "code",
   "execution_count": null,
   "id": "4489ae02-f4fd-488f-84fc-5c8a907c9f5c",
   "metadata": {},
   "outputs": [],
   "source": [
    "PW_Cpx_in=pt.import_excel(r\"C:\\Users\\penny\\OneDrive - Oregon State University\\Postdoc\\PyMME\\MyBarometers\\LEPR_Tests\\LEPR_Wet_Stitched.xlsx\", sheet_name=\"Cpx\")\n",
    "PW_Cpx_input=PW_Cpx_in['my_input']\n",
    "PW_Cpx_PreFilt=PW_Cpx_in['Cpxs']\n",
    "PW_Cpx_cs=pt.calculate_clinopyroxene_components(cpx_comps=PW_Cpx_PreFilt)\n",
    "PW_Cpx_Sums=PW_Cpx_cs.Cation_Sum_Cpx\n",
    "PW_CaCaMgFe=PW_Cpx_cs.Ca_CaMgFe\n",
    "\n",
    "\n",
    "PW_Cpx=PW_Cpx_PreFilt.loc[(PW_Cpx_Sums.between(a, b)) & (PW_CaCaMgFe>0.2) ]\n",
    "\n",
    "\n",
    "PW_Cpx_nosuf=PW_Cpx.copy()\n",
    "PW_Cpx_nosuf.columns = [col.replace('_Cpx', '') for col in PW_Cpx_nosuf.columns]\n",
    "\n",
    "PW_Cpx_nosuf['Phase']=1\n"
   ]
  },
  {
   "cell_type": "code",
   "execution_count": null,
   "id": "818b5315-2d5a-4516-a433-45e1ef62f1bd",
   "metadata": {},
   "outputs": [],
   "source": [
    "PW_Opx_in=pt.import_excel(r\"C:\\Users\\penny\\OneDrive - Oregon State University\\Postdoc\\PyMME\\MyBarometers\\LEPR_Tests\\LEPR_Wet_Stitched.xlsx\", sheet_name=\"Opx\")\n",
    "PW_Opx_input=PW_Opx_in['my_input']\n",
    "PW_Opx_PreFilt=PW_Opx_in['Opxs']\n",
    "PW_Opx_cs=pt.calculate_orthopyroxene_components(opx_comps=PW_Opx_PreFilt)\n",
    "PW_Opx_Sums=PW_Opx_cs.Cation_Sum_Opx\n",
    "PW_CaCaMgFe=PW_Opx_cs.Ca_CaMgFe\n",
    "\n",
    "\n",
    "PW_Opx=PW_Opx_PreFilt.loc[(PW_Opx_Sums.between(a, b)) & (PW_CaCaMgFe<0.05) ]\n",
    "\n",
    "\n",
    "PW_Opx_nosuf=PW_Opx.copy()\n",
    "PW_Opx_nosuf.columns = [col.replace('_Opx', '') for col in PW_Opx_nosuf.columns]\n",
    "\n",
    "PW_Opx_nosuf['Phase']=1\n"
   ]
  },
  {
   "cell_type": "code",
   "execution_count": null,
   "id": "8895affa-b899-4203-8ab6-5340011e4149",
   "metadata": {},
   "outputs": [],
   "source": [
    "plt.plot(PW_Opx_cs['Ca_CaMgFe'], PW_Opx_PreFilt['CaO_Opx'], 'ok')"
   ]
  },
  {
   "cell_type": "code",
   "execution_count": null,
   "id": "785b3f16-87be-47d4-9206-b16cc28224c8",
   "metadata": {},
   "outputs": [],
   "source": [
    "PW_Plag_in=pt.import_excel(r\"C:\\Users\\penny\\OneDrive - Oregon State University\\Postdoc\\PyMME\\MyBarometers\\LEPR_Tests\\LEPR_Wet_Stitched.xlsx\", \n",
    "                           sheet_name=\"Plag-Liq\")\n",
    "PW_Plag_input=PW_Plag_in['my_input']\n",
    "PW_Plag_PreFilt=PW_Plag_in['Plags']\n",
    "\n",
    "\n",
    "PW_Plag=PW_Plag_PreFilt\n",
    "\n",
    "\n",
    "PW_Plag_nosuf=PW_Plag.copy()\n",
    "PW_Plag_nosuf.columns = [col.replace('_Plag', '') for col in PW_Plag_nosuf.columns]\n",
    "\n",
    "PW_Plag_nosuf['Phase']=2\n"
   ]
  },
  {
   "cell_type": "code",
   "execution_count": null,
   "id": "d0b42b8b-cef6-4fbd-85d7-c31f7f994266",
   "metadata": {},
   "outputs": [],
   "source": [
    "PW_Ol_in=pt.import_excel(r\"C:\\Users\\penny\\OneDrive - Oregon State University\\Postdoc\\PyMME\\MyBarometers\\LEPR_Tests\\LEPR_Wet_Stitched.xlsx\", sheet_name=\"Ol-Liq\")\n",
    "PW_Ol_input=PW_Ol_in['my_input']\n",
    "PW_Ol_PreFilt=PW_Ol_in['Ols']\n",
    "\n",
    "\n",
    "PW_Ol=PW_Ol_PreFilt\n",
    "\n",
    "\n",
    "PW_Ol_nosuf=PW_Ol.copy()\n",
    "PW_Ol_nosuf.columns = [col.replace('_Ol', '') for col in PW_Ol_nosuf.columns]\n",
    "\n",
    "PW_Ol_nosuf['Phase']=3\n"
   ]
  },
  {
   "cell_type": "code",
   "execution_count": null,
   "id": "9d5a2ddb-1f9e-488f-9394-64236502dd3f",
   "metadata": {},
   "outputs": [],
   "source": [
    "PW_Combo=pd.concat([PW_Cpx_nosuf, PW_Amp_nosuf, PW_Opx_nosuf, PW_Plag_nosuf, PW_Ol_nosuf]  , axis=0, ignore_index=True)#.reset_index(drop=True, inplace=True)\n",
    "PW_Y=PW_Combo['Phase']\n",
    "PW_Combo_noclass=PW_Combo.drop(columns=['Phase', 'Sample_ID', 'NiO', 'Cr2O3', 'K2O'])\n",
    "PW_X=PW_Combo_noclass.values"
   ]
  },
  {
   "cell_type": "markdown",
   "id": "da6c0c0f-928c-4479-9520-1070ec626dbe",
   "metadata": {},
   "source": [
    "## Importing LEPR data from Keith's barometry calibrations\n",
    "- Amp compositions stored in LEPR_Amp\n",
    "- Cpx compositions stored in Cpx_Amp, have already taken out those with Ca_CaMgFe<0.05 (e.g. Opxs that have snuck into LEPR)"
   ]
  },
  {
   "cell_type": "code",
   "execution_count": null,
   "id": "c0e7bb27-86be-4b6d-8993-4f8bd6a59e94",
   "metadata": {},
   "outputs": [],
   "source": [
    "fig, ((ax0, ax1), (ax2, ax3)) = plt.subplots(2, 2, figsize=(12, 10))\n",
    "ax0.plot(LEPR_Cpx['SiO2_Cpx'], LEPR_Cpx['CaO_Cpx'], '.r', label='Cpx (+pig)')\n",
    "ax0.plot(LEPR_Opx['SiO2_Opx'], LEPR_Opx['CaO_Opx'], '.k', alpha=0.1, label='opx')\n",
    "ax0.set_xlabel('SiO2')\n",
    "ax0.set_ylabel('CaO')\n",
    "ax0.set_title('Experiments')"
   ]
  },
  {
   "cell_type": "code",
   "execution_count": null,
   "id": "d4ed39fc-5b68-4eee-9739-6c0106f310e4",
   "metadata": {},
   "outputs": [],
   "source": [
    "## Viualizing differences\n",
    "fig, ((ax0, ax1), (ax2, ax3)) = plt.subplots(2, 2, figsize=(12, 10))\n",
    "ax0.plot(LEPR_Cpx['SiO2_Cpx'], LEPR_Cpx['CaO_Cpx'], '.r')\n",
    "ax0.plot(LEPR_Amp['SiO2_Amp'], LEPR_Amp['CaO_Amp'], '.c', alpha=0.5)\n",
    "ax0.plot(LEPR_Opx['SiO2_Opx'], LEPR_Opx['CaO_Opx'], '.k', alpha=0.1)\n",
    "ax0.plot(LEPR_Plag['SiO2_Plag'], LEPR_Plag['CaO_Plag'], '.g', alpha=0.1)\n",
    "ax0.plot(LEPR_Ol['SiO2_Ol'], LEPR_Ol['CaO_Ol'], '.m', alpha=0.1)\n",
    "ax0.plot(LEPR_Sp['SiO2_Sp'], LEPR_Sp['CaO_Sp'], '*k', alpha=0.7, ms=3)\n",
    "ax0.plot(LEPR_Ox['SiO2_Sp'], LEPR_Ox['CaO_Sp'], '*g', alpha=0.7, ms=3)\n",
    "ax0.plot(LEPR_Kspar['SiO2_Kspar'], LEPR_Kspar['CaO_Kspar'], '.', mfc='darkgreen', alpha=0.7, ms=3)\n",
    "\n",
    "ax1.plot(LEPR_Cpx['MgO_Cpx'], LEPR_Cpx['Al2O3_Cpx'], '.r')\n",
    "ax1.plot(LEPR_Amp['MgO_Amp'], LEPR_Amp['Al2O3_Amp'], '.c', alpha=0.5)\n",
    "ax1.plot(LEPR_Opx['MgO_Opx'], LEPR_Opx['Al2O3_Opx'], '.k', alpha=0.1)\n",
    "ax1.plot(LEPR_Plag['MgO_Plag'], LEPR_Plag['Al2O3_Plag'], '.g', alpha=0.1)\n",
    "ax1.plot(LEPR_Ol['MgO_Ol'], LEPR_Ol['Al2O3_Ol'], '.m', alpha=0.1)\n",
    "ax1.plot(LEPR_Sp['MgO_Sp'], LEPR_Sp['Al2O3_Sp'], '*k', alpha=0.7, ms=3)\n",
    "ax1.plot(LEPR_Ox['MgO_Sp'], LEPR_Ox['Al2O3_Sp'], '*g', alpha=0.7, ms=3)\n",
    "ax1.plot(LEPR_Kspar['MgO_Kspar'], LEPR_Kspar['Al2O3_Kspar'], '.', mfc='darkgreen', alpha=0.7, ms=3)\n",
    "\n",
    "\n",
    "ax2.plot(LEPR_Cpx['FeOt_Cpx'], LEPR_Cpx['Na2O_Cpx'], '.r')\n",
    "ax2.plot(LEPR_Amp['FeOt_Amp'], LEPR_Amp['Na2O_Amp'], '.c', alpha=0.5)\n",
    "ax2.plot(LEPR_Opx['FeOt_Opx'], LEPR_Opx['Na2O_Opx'], '.k', alpha=0.1)\n",
    "ax2.plot(LEPR_Plag['FeOt_Plag'], LEPR_Plag['Na2O_Plag'], '.g', alpha=0.1)\n",
    "ax2.plot(LEPR_Ol['FeOt_Ol'], LEPR_Ol['Na2O_Ol'], '.m', alpha=0.1)\n",
    "ax2.plot(LEPR_Sp['FeOt_Sp'], LEPR_Sp['Na2O_Sp'], '*k', alpha=0.7, ms=3)\n",
    "ax2.plot(LEPR_Ox['FeOt_Sp'], LEPR_Ox['Na2O_Sp'], '*g', alpha=0.7, ms=3)\n",
    "ax2.plot(LEPR_Kspar['FeOt_Kspar'], LEPR_Kspar['Na2O_Kspar'], '.', mfc='darkgreen', alpha=0.7, ms=3)\n",
    "\n",
    "ax3.plot(LEPR_Cpx['FeOt_Cpx'], LEPR_Cpx['TiO2_Cpx'], '.r')\n",
    "ax3.plot(LEPR_Amp['FeOt_Amp'], LEPR_Amp['TiO2_Amp'], '.c', alpha=0.5)\n",
    "ax3.plot(LEPR_Opx['FeOt_Opx'], LEPR_Opx['TiO2_Opx'], '.k', alpha=0.1)\n",
    "ax3.plot(LEPR_Plag['FeOt_Plag'], LEPR_Plag['TiO2_Plag'], '.g', alpha=0.1)\n",
    "ax3.plot(LEPR_Ol['FeOt_Ol'], LEPR_Ol['TiO2_Ol'], '.m', alpha=0.1)\n",
    "ax3.plot(LEPR_Sp['FeOt_Sp'], LEPR_Sp['TiO2_Sp'], '*k', alpha=0.7, ms=3)\n",
    "ax3.plot(LEPR_Ox['FeOt_Sp'], LEPR_Ox['TiO2_Sp'], '*g', alpha=0.7, ms=3)\n",
    "ax3.plot(LEPR_Kspar['FeOt_Kspar'], LEPR_Kspar['TiO2_Kspar'], '.', mfc='darkgreen', alpha=0.7, ms=3)\n",
    "\n",
    "\n"
   ]
  },
  {
   "cell_type": "code",
   "execution_count": null,
   "id": "38bc9b72-f6b9-470a-993f-69bf5394de8b",
   "metadata": {},
   "outputs": [],
   "source": [
    "## Viualizing differences\n",
    "fig, ((ax0, ax1), (ax2, ax4)) = plt.subplots(2, 2, figsize=(12, 10))\n",
    "ax0.plot(PW_Cpx['SiO2_Cpx'], PW_Cpx['CaO_Cpx'], '.r')\n",
    "ax0.plot(PW_Amp['SiO2_Amp'], PW_Amp['CaO_Amp'], '.c', alpha=0.5)\n",
    "ax0.plot(PW_Opx['SiO2_Opx'], PW_Opx['CaO_Opx'], '.k', alpha=0.1)\n",
    "ax0.plot(PW_Plag['SiO2_Plag'], PW_Plag['CaO_Plag'], '.g', alpha=0.1)\n",
    "ax0.plot(PW_Ol['SiO2_Ol'], PW_Ol['CaO_Ol'], '.m', alpha=0.1)\n",
    "\n",
    "ax1.plot(PW_Cpx['MgO_Cpx'], PW_Cpx['Al2O3_Cpx'], '.r')\n",
    "ax1.plot(PW_Amp['MgO_Amp'], PW_Amp['Al2O3_Amp'], '.c', alpha=0.5)\n",
    "ax1.plot(PW_Opx['MgO_Opx'], PW_Opx['Al2O3_Opx'], '.k', alpha=0.1)\n",
    "ax1.plot(PW_Plag['MgO_Plag'], PW_Plag['Al2O3_Plag'], '.g', alpha=0.1)\n",
    "ax1.plot(PW_Ol['MgO_Ol'], PW_Ol['Al2O3_Ol'], '.m', alpha=0.1)\n",
    "\n",
    "ax2.plot(PW_Cpx['FeOt_Cpx'], PW_Cpx['Na2O_Cpx'], '.r')\n",
    "ax2.plot(PW_Amp['FeOt_Amp'], PW_Amp['Na2O_Amp'], '.c', alpha=0.5)\n",
    "ax2.plot(PW_Opx['FeOt_Opx'], PW_Opx['Na2O_Opx'], '.k', alpha=0.1)\n",
    "ax2.plot(PW_Plag['FeOt_Plag'], PW_Plag['Na2O_Plag'], '.g', alpha=0.1)\n",
    "ax2.plot(PW_Ol['FeOt_Ol'], PW_Ol['Na2O_Ol'], '.m', alpha=0.1)"
   ]
  },
  {
   "cell_type": "markdown",
   "id": "9052adde-7e6c-45f6-982d-138e264b2209",
   "metadata": {},
   "source": [
    "## Tutorial from https://www.geeksforgeeks.org/multiclass-classification-using-scikit-learn/"
   ]
  },
  {
   "cell_type": "code",
   "execution_count": null,
   "id": "f4b00127-2d93-4464-9159-6a73c48b8e2a",
   "metadata": {},
   "outputs": [],
   "source": [
    "from sklearn import datasets\n",
    "from sklearn.metrics import confusion_matrix\n",
    "from sklearn.model_selection import train_test_split"
   ]
  },
  {
   "cell_type": "code",
   "execution_count": null,
   "id": "80e4b01c-9101-4331-be2c-f5363f178e14",
   "metadata": {},
   "outputs": [],
   "source": [
    "# In my example, 0 is amphibole, 1 is cpx, 2 is Opx, 3 is Plag, 4 is Ol"
   ]
  },
  {
   "cell_type": "code",
   "execution_count": null,
   "id": "4b97249b-09ec-460c-9016-d5d75338481f",
   "metadata": {},
   "outputs": [],
   "source": [
    "from sklearn.preprocessing import StandardScaler\n",
    "X_test_noscaled=PW_X\n",
    "y_test=PW_Y\n",
    "\n",
    "X_train_noscaled=LEPR_X\n",
    "y_train=LEPR_Y\n",
    "\n",
    "scaler = StandardScaler().fit(X_train_noscaled)\n",
    "X_train_scaled = scaler.transform(X_train_noscaled)\n",
    "X_test_scaled=scaler.transform(X_test_noscaled)\n",
    "# from sklearn.tree import DecisionTreeClassifier\n",
    "# dtree_model = DecisionTreeClassifier(random_state=3).fit(X_train, y_train)\n",
    "# svc_predictions = dtree_model.predict(X_test)\n",
    "\n",
    "# cm = confusion_matrix(y_test, svc_predictions)\n",
    "\n",
    "from sklearn.svm import SVC\n",
    "svc_model_linear = SVC(kernel = 'linear', C = 1).fit(X_train_scaled, y_train)\n",
    "svc_predictions = svc_model_linear.predict(X_test_scaled)\n",
    "  \n",
    "# model accuracy for X_test  \n",
    "accuracy = svc_model_linear.score(X_test_scaled, y_test)\n",
    "  \n",
    "# creating a confusion matrix\n",
    "cm = confusion_matrix(y_test, svc_predictions)"
   ]
  },
  {
   "cell_type": "code",
   "execution_count": null,
   "id": "1e723203-9ae5-4b3f-9179-3ba9fd3c3c8b",
   "metadata": {},
   "outputs": [],
   "source": [
    "accuracy"
   ]
  },
  {
   "cell_type": "code",
   "execution_count": null,
   "id": "c624714f-68fd-4390-9546-2b7bf481e6c6",
   "metadata": {},
   "outputs": [],
   "source": [
    "len(PW_Cpx)"
   ]
  },
  {
   "cell_type": "code",
   "execution_count": null,
   "id": "ac00a2bb-6376-4bdf-8c68-17758609e6ae",
   "metadata": {},
   "outputs": [],
   "source": [
    "# 'amp', cpx+opx+pig, plag+alk, ol, sp, ox, alk\n",
    "cm"
   ]
  },
  {
   "attachments": {
    "1931f2ee-3ad4-4484-8303-06af626a65a3.png": {
     "image/png": "[encoded data removed]"
    }
   },
   "cell_type": "markdown",
   "id": "35b10c84-fd42-4ba9-a09b-0a6ca0c4b535",
   "metadata": {},
   "source": [
    "![image.png](attachment:1931f2ee-3ad4-4484-8303-06af626a65a3.png)"
   ]
  },
  {
   "cell_type": "code",
   "execution_count": null,
   "id": "857d10c0-a76b-4a3b-86a8-dc183065f445",
   "metadata": {},
   "outputs": [],
   "source": [
    "pred_amp_svc=svc_predictions==0\n",
    "pred_px_svc=svc_predictions==1\n",
    "pred_fspar_svc=svc_predictions==2\n",
    "pred_ol_svc=svc_predictions==3\n",
    "pred_sp_svc=svc_predictions==4\n",
    "pred_ox_svc=svc_predictions==5\n",
    "\n",
    "plt.plot(PW_Combo['SiO2'].loc[pred_amp_svc], PW_Combo['CaO'].loc[pred_amp_svc], '.r')\n",
    "plt.plot(PW_Combo['SiO2'].loc[pred_px_svc], PW_Combo['CaO'].loc[pred_px_svc], '.c')\n",
    "plt.plot(PW_Combo['SiO2'].loc[pred_fspar_svc], PW_Combo['CaO'].loc[pred_fspar_svc], '.g')\n",
    "plt.plot(PW_Combo['SiO2'].loc[pred_ol_svc], PW_Combo['CaO'].loc[pred_ol_svc], '.m')\n",
    "plt.plot(PW_Combo['SiO2'].loc[pred_sp_svc], PW_Combo['CaO'].loc[pred_sp_svc], '*k', alpha=0.7, ms=3)\n",
    "plt.plot(PW_Combo['SiO2'].loc[pred_ox_svc], PW_Combo['CaO'].loc[pred_ox_svc],  '*g', alpha=0.7, ms=3)\n",
    "\n"
   ]
  },
  {
   "cell_type": "markdown",
   "id": "4c8da2dd-ca5b-465e-80aa-a578d174595f",
   "metadata": {},
   "source": [
    "## True Cpxs -Perfect classification!?"
   ]
  },
  {
   "cell_type": "code",
   "execution_count": null,
   "id": "5bc92c10-18eb-4577-b786-3a5e873080ff",
   "metadata": {},
   "outputs": [],
   "source": [
    "## Currently none classified as Pigeonites\n",
    "print('Number predicted Cpx')\n",
    "sum(svc_predictions==1)"
   ]
  },
  {
   "cell_type": "code",
   "execution_count": null,
   "id": "dbf4b571-4f20-4821-af13-81df83f9bf62",
   "metadata": {},
   "outputs": [],
   "source": [
    "\n",
    "Actual_Cpx=PW_Combo['Phase']==1\n",
    "plt.plot(PW_Combo['SiO2'].loc[pred_amp_svc&Actual_Cpx], PW_Combo['CaO'].loc[pred_amp_svc&Actual_Cpx], '.r')\n",
    "plt.plot(PW_Combo['SiO2'].loc[pred_px_svc&Actual_Cpx], PW_Combo['CaO'].loc[pred_px_svc&Actual_Cpx], '.c')\n",
    "plt.plot(PW_Combo['SiO2'].loc[pred_fspar_svc&Actual_Cpx], PW_Combo['CaO'].loc[pred_fspar_svc&Actual_Cpx], '.g')\n",
    "plt.plot(PW_Combo['SiO2'].loc[pred_ol_svc&Actual_Cpx], PW_Combo['CaO'].loc[pred_ol_svc&Actual_Cpx], '.m')\n",
    "plt.plot(PW_Combo['SiO2'].loc[pred_sp_svc&Actual_Cpx], PW_Combo['CaO'].loc[pred_sp_svc&Actual_Cpx], '*k', alpha=0.7, ms=3)\n",
    "plt.plot(PW_Combo['SiO2'].loc[pred_ox_svc&Actual_Cpx], PW_Combo['CaO'].loc[pred_ox_svc&Actual_Cpx],  '*g', alpha=0.7, ms=3)\n"
   ]
  },
  {
   "cell_type": "markdown",
   "id": "da047894-fada-4a4b-a87d-cb2945d8dc8d",
   "metadata": {},
   "source": [
    "## True Plags\n",
    "- Things one is cpx, and 2 are opx. This is very feasible. "
   ]
  },
  {
   "cell_type": "code",
   "execution_count": null,
   "id": "ec4071f6-7348-4065-be4a-d7b3ef2ce696",
   "metadata": {},
   "outputs": [],
   "source": [
    "Actual_Plag=PW_Combo['Phase']==2\n",
    "plt.plot(PW_Combo['SiO2'].loc[pred_amp_svc&Actual_Plag], PW_Combo['CaO'].loc[pred_amp_svc&Actual_Plag], '.r')\n",
    "plt.plot(PW_Combo['SiO2'].loc[pred_px_svc&Actual_Plag], PW_Combo['CaO'].loc[pred_px_svc&Actual_Plag], '.c')\n",
    "plt.plot(PW_Combo['SiO2'].loc[pred_fspar_svc&Actual_Plag], PW_Combo['CaO'].loc[pred_fspar_svc&Actual_Plag], '.g')\n",
    "plt.plot(PW_Combo['SiO2'].loc[pred_ol_svc&Actual_Plag], PW_Combo['CaO'].loc[pred_ol_svc&Actual_Plag], '.m')\n",
    "plt.plot(PW_Combo['SiO2'].loc[pred_sp_svc&Actual_Plag], PW_Combo['CaO'].loc[pred_sp_svc&Actual_Plag], '*k', alpha=0.7, ms=3)\n",
    "plt.plot(PW_Combo['SiO2'].loc[pred_ox_svc&Actual_Plag], PW_Combo['CaO'].loc[pred_ox_svc&Actual_Plag],  '*g', alpha=0.7, ms=3)\n"
   ]
  },
  {
   "cell_type": "code",
   "execution_count": null,
   "id": "684e82ba-549f-4bba-bace-7be21bd91611",
   "metadata": {},
   "outputs": [],
   "source": [
    "Actual_Amp=PW_Combo['Phase']==0\n",
    "plt.plot(PW_Combo['SiO2'].loc[pred_amp_svc&Actual_Amp], PW_Combo['CaO'].loc[pred_amp_svc&Actual_Amp], '.r')\n",
    "plt.plot(PW_Combo['SiO2'].loc[pred_px_svc&Actual_Amp], PW_Combo['CaO'].loc[pred_px_svc&Actual_Amp], '.c')\n",
    "plt.plot(PW_Combo['SiO2'].loc[pred_fspar_svc&Actual_Amp], PW_Combo['CaO'].loc[pred_fspar_svc&Actual_Amp], '.g')\n",
    "plt.plot(PW_Combo['SiO2'].loc[pred_ol_svc&Actual_Amp], PW_Combo['CaO'].loc[pred_ol_svc&Actual_Amp], '.m')\n",
    "plt.plot(PW_Combo['SiO2'].loc[pred_sp_svc&Actual_Amp], PW_Combo['CaO'].loc[pred_sp_svc&Actual_Amp], '*k', alpha=0.7, ms=3)\n",
    "plt.plot(PW_Combo['SiO2'].loc[pred_ox_svc&Actual_Amp], PW_Combo['CaO'].loc[pred_ox_svc&Actual_Amp],  '*g', alpha=0.7, ms=3)\n"
   ]
  },
  {
   "cell_type": "code",
   "execution_count": null,
   "id": "56b50e4e-e8e8-41fb-85dc-e89f819b2450",
   "metadata": {},
   "outputs": [],
   "source": [
    "## CHeck dataset is wrong - Shift it off. \n",
    "PW_Combo.loc[pred_pig_svc&Actual_Plag]"
   ]
  },
  {
   "cell_type": "markdown",
   "id": "00011f55-6f14-4458-a0b9-d7e2acc0495f",
   "metadata": {},
   "source": [
    "##### These are from Peterman et al. And clearly not the phase they say they are..."
   ]
  },
  {
   "attachments": {
    "6cd5eb14-8df6-463b-a507-3c8fa0df8e50.png": {
     "image/png": "[encoded data removed]"
    },
    "9fcfc19a-a1cf-4e11-99b9-cf92fc3f7323.png": {
     "image/png": "[encoded data removed]"
    },
    "b813e037-c5e2-4aea-b678-fdbcaf2b626d.png": {
     "image/png": "[encoded data removed]"
    }
   },
   "cell_type": "markdown",
   "id": "568f0751-6064-4693-8231-e87b22b9e77b",
   "metadata": {},
   "source": [
    "![image.png](attachment:b813e037-c5e2-4aea-b678-fdbcaf2b626d.png)\n",
    "![image.png](attachment:9fcfc19a-a1cf-4e11-99b9-cf92fc3f7323.png)\n",
    "![image.png](attachment:6cd5eb14-8df6-463b-a507-3c8fa0df8e50.png)"
   ]
  },
  {
   "cell_type": "code",
   "execution_count": null,
   "id": "10abb656-b4ba-459c-a853-3961a3c28681",
   "metadata": {},
   "outputs": [],
   "source": [
    "PW_Combo.loc[pred_kspar_svc&Actual_Plag]"
   ]
  },
  {
   "cell_type": "code",
   "execution_count": null,
   "id": "e1572995-8357-4fa8-88ff-6706610fc51f",
   "metadata": {},
   "outputs": [],
   "source": [
    "## Why doesnt it classify as oxide"
   ]
  },
  {
   "cell_type": "code",
   "execution_count": null,
   "id": "c4b2f1b6-dc8c-404d-9b9c-aec73486951f",
   "metadata": {},
   "outputs": [],
   "source": [
    "MisClass_Pig=PW_Combo.loc[pred_pig_svc&Actual_Plag]\n",
    "plt.plot(LEPR_Sp['MgO_Sp'], LEPR_Sp['CaO_Sp'], '*k', alpha=0.7, ms=3)\n",
    "plt.plot(LEPR_Ox['MgO_Sp'], LEPR_Ox['CaO_Sp'], '*g', alpha=0.7, ms=3)\n",
    "plt.plot(LEPR_Pig['MgO_Cpx'], LEPR_Pig['CaO_Cpx'], '*c', alpha=0.7, ms=3)\n",
    "plt.plot(LEPR_Plag['MgO_Plag'], LEPR_Plag['CaO_Plag'], '*r', alpha=0.7, ms=3)\n",
    "\n",
    "plt.plot(MisClass_Pig['MgO'], MisClass_Pig['CaO'], 'sk', mfc='c', alpha=0.7, ms=3)\n"
   ]
  },
  {
   "cell_type": "code",
   "execution_count": null,
   "id": "4fae3104-905b-4f12-ab31-6e0dfcf4c1a1",
   "metadata": {},
   "outputs": [],
   "source": [
    "plt.plot(LEPR_Cpx['SiO2_Cpx'], LEPR_Cpx['CaO_Cpx'], '.c')\n",
    "\n",
    "plt.plot(PW_Combo['SiO2'].loc[pred_cpx_svc&Actual_Plag], PW_Combo['CaO'].loc[pred_cpx_svc&Actual_Plag], '*c')\n"
   ]
  },
  {
   "cell_type": "markdown",
   "id": "e5de13bb-d311-4197-87ea-4ede87353f0d",
   "metadata": {},
   "source": [
    "## True amphiboles"
   ]
  },
  {
   "cell_type": "code",
   "execution_count": null,
   "id": "41410a6d-3e26-4229-b6d9-8971f5dd07f1",
   "metadata": {},
   "outputs": [],
   "source": [
    "pred_amp_svc=svc_predictions==0\n",
    "pred_cpx_svc=svc_predictions==1\n",
    "pred_opx_svc=svc_predictions==2\n",
    "pred_plag_svc=svc_predictions==3\n",
    "pred_ol_svc=svc_predictions==4\n",
    "\n",
    "Actual_Amp=PW_Combo['Phase']==0\n",
    "plt.plot(PW_Combo['SiO2'].loc[pred_amp_svc&Actual_Amp], PW_Combo['CaO'].loc[pred_amp_svc&Actual_Amp], '.r')\n",
    "plt.plot(PW_Combo['SiO2'].loc[pred_cpx_svc&Actual_Amp], PW_Combo['CaO'].loc[pred_cpx_svc&Actual_Amp], '.c')\n",
    "plt.plot(PW_Combo['SiO2'].loc[pred_opx_svc&Actual_Amp], PW_Combo['CaO'].loc[pred_opx_svc&Actual_Amp], '.k')\n",
    "plt.plot(PW_Combo['SiO2'].loc[pred_plag_svc&Actual_Amp], PW_Combo['CaO'].loc[pred_plag_svc&Actual_Amp], '.g')\n",
    "plt.plot(PW_Combo['SiO2'].loc[pred_ol_svc&Actual_Amp], PW_Combo['CaO'].loc[pred_ol_svc&Actual_Amp], '.m')"
   ]
  },
  {
   "cell_type": "code",
   "execution_count": null,
   "id": "df9b81b4-4a28-4157-bb40-c8bd47892e49",
   "metadata": {},
   "outputs": [],
   "source": [
    "## Writing this all as a function. "
   ]
  },
  {
   "cell_type": "markdown",
   "id": "efb0c628-e3ee-41d4-8212-c4759d3ba790",
   "metadata": {},
   "source": [
    "## Saving the variables"
   ]
  },
  {
   "cell_type": "code",
   "execution_count": null,
   "id": "1226e20a-e5dd-4d20-a406-39460a79db13",
   "metadata": {},
   "outputs": [],
   "source": [
    "from pickle import dump\n",
    "import pickle\n",
    "dump(scaler, open('scaler_MinClass.pkl', 'wb'))\n",
    "dump(svc_model_linear, open('svc_model_linear_MinClass.pkl', 'wb'))\n"
   ]
  },
  {
   "cell_type": "code",
   "execution_count": null,
   "id": "9eddbec1-f935-4755-9be7-2bb75d8de8df",
   "metadata": {},
   "outputs": [],
   "source": []
  }
 ],
 "metadata": {
  "kernelspec": {
   "display_name": "Python 3",
   "language": "python",
   "name": "python3"
  },
  "language_info": {
   "codemirror_mode": {
    "name": "ipython",
    "version": 3
   },
   "file_extension": ".py",
   "mimetype": "text/x-python",
   "name": "python",
   "nbconvert_exporter": "python",
   "pygments_lexer": "ipython3",
   "version": "3.8.5"
  }
 },
 "nbformat": 4,
 "nbformat_minor": 5
}
