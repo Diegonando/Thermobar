{
 "cells": [
  {
   "cell_type": "code",
   "execution_count": 1,
   "id": "c0a6da4c-9d4a-4171-b89d-1680a0eacf0c",
   "metadata": {},
   "outputs": [],
   "source": [
    "## This notebook benchmarks to the results in supporting table A3 from Gavrilenko et al. "
   ]
  },
  {
   "cell_type": "code",
   "execution_count": 2,
   "id": "c7444a77-ad58-4dff-a05e-df30ec513d2f",
   "metadata": {},
   "outputs": [],
   "source": [
    "import numpy as np\n",
    "import pandas as pd\n",
    "import sys\n",
    "sys.path.append(\"../..\")\n",
    "import matplotlib.pyplot as plt\n",
    "import Thermobar as pt\n",
    "from functools import partial"
   ]
  },
  {
   "cell_type": "code",
   "execution_count": 3,
   "id": "3860e55f-1ca4-441a-ae2a-96512fbf5b37",
   "metadata": {},
   "outputs": [],
   "source": [
    "out=pt.import_excel('Olivine_Liquid_hygrometer.xlsx', sheet_name=\"Sheet1\")\n",
    "my_input=out['my_input']\n",
    "myOls1=out['Ols']\n",
    "myLiquids1=out['Liqs']"
   ]
  },
  {
   "cell_type": "markdown",
   "id": "31671da4-89cf-4abb-8f51-d7198d6c7807",
   "metadata": {},
   "source": [
    "## Using parameterization in Thermobar\n",
    "- Discrepencies reflect rounding errors, as supportin info only gives to 1 decimal place "
   ]
  },
  {
   "cell_type": "code",
   "execution_count": 4,
   "id": "0467812a-6e66-42c2-85d1-04811605bc25",
   "metadata": {},
   "outputs": [
    {
     "data": {
      "text/plain": [
       "Text(0, 0.5, 'H2O Calc (Gavrilenko)')"
      ]
     },
     "execution_count": 4,
     "metadata": {},
     "output_type": "execute_result"
    },
    {
     "data": {
      "image/png": "[encoded data removed]",
      "text/plain": [
       "<Figure size 432x288 with 1 Axes>"
      ]
     },
     "metadata": {
      "needs_background": "light"
     },
     "output_type": "display_data"
    }
   ],
   "source": [
    "H2O_Calc_Thermobar=pt.calculate_ol_liq_hygr(liq_comps=myLiquids1, ol_comps=myOls1, equationH=\"H_Gavr2016\")\n",
    "H2O_Calc_Thermobar_round=np.round(H2O_Calc_Thermobar, 1)\n",
    "plt.plot(H2O_Calc_Thermobar, my_input['H2O Inferred'], 'ok', label='not rounded')\n",
    "plt.plot(H2O_Calc_Thermobar_round, my_input['H2O Inferred'], 'or', label='rounded')\n",
    "plt.xlabel('H2O Calc (Wieser)')\n",
    "plt.ylabel('H2O Calc (Gavrilenko)')"
   ]
  },
  {
   "cell_type": "code",
   "execution_count": 5,
   "id": "59ef63f5-a265-4e23-8939-d8e0e60ee9f7",
   "metadata": {},
   "outputs": [
    {
     "data": {
      "text/plain": [
       "0     0.546187\n",
       "1     0.520448\n",
       "2     0.528772\n",
       "3          NaN\n",
       "4     0.535829\n",
       "5     0.522482\n",
       "6     0.529931\n",
       "7          NaN\n",
       "8     0.546809\n",
       "9     0.543688\n",
       "10    0.551872\n",
       "11         NaN\n",
       "12    0.561788\n",
       "13    0.569770\n",
       "14    0.569363\n",
       "15         NaN\n",
       "16    0.489775\n",
       "17    0.499975\n",
       "18    0.507921\n",
       "19         NaN\n",
       "20    0.539648\n",
       "21    0.533066\n",
       "22    0.538263\n",
       "Name: SiO2_Liq_mol_frac, dtype: float64"
      ]
     },
     "execution_count": 5,
     "metadata": {},
     "output_type": "execute_result"
    }
   ],
   "source": [
    "liq_comps_c=myLiquids1\n",
    "ol_comps_c=myOls1\n",
    "anhyd_cat_frac = pt.calculate_anhydrous_cat_fractions_liquid(liq_comps=liq_comps_c)\n",
    "ol_cat_frac = pt.calculate_cat_fractions_olivine(ol_comps=ol_comps_c)\n",
    "Liq_Ols = pd.concat([anhyd_cat_frac, ol_cat_frac], axis=1)\n",
    "Liq_Ols['SiO2_Liq_mol_frac']"
   ]
  },
  {
   "cell_type": "code",
   "execution_count": 13,
   "id": "5c0e0a96-a39b-4a70-8fab-ed901340e881",
   "metadata": {},
   "outputs": [
    {
     "name": "stdout",
     "output_type": "stream",
     "text": [
      "(*, CaO_Liq, MgO_Liq, CaO_Ol)\n"
     ]
    },
    {
     "data": {
      "text/plain": [
       "Text(0, 0.5, 'H2O Calc (Wieser/Gavrilenko)')"
      ]
     },
     "execution_count": 13,
     "metadata": {},
     "output_type": "execute_result"
    },
    {
     "data": {
      "image/png": "[encoded data removed]",
      "text/plain": [
       "<Figure size 432x288 with 1 Axes>"
      ]
     },
     "metadata": {
      "needs_background": "light"
     },
     "output_type": "display_data"
    }
   ],
   "source": [
    "plt.plot(my_input['MgO_Liq'], H2O_Calc_Thermobar/my_input['H2O Inferred'], 'ok')\n",
    "plt.plot(my_input['MgO_Liq'], H2O_Calc_Thermobar_round/my_input['H2O Inferred'], 'or')\n",
    "\n",
    "plt.xlabel('H2O Calc (Gavrilenko)')\n",
    "plt.ylabel('H2O Calc (Wieser/Gavrilenko)')"
   ]
  },
  {
   "cell_type": "markdown",
   "id": "a11ff9e3-b520-4f7c-b1c3-5943f8c8fbcf",
   "metadata": {},
   "source": [
    "## Intermediate calculations for components used in calculation"
   ]
  },
  {
   "cell_type": "code",
   "execution_count": 14,
   "id": "723d9c34-3632-49e2-bfdc-359ea7ab0573",
   "metadata": {},
   "outputs": [
    {
     "data": {
      "text/plain": [
       "array([       nan, 3.8790013 , 3.87453055,        nan,        nan,\n",
       "       6.43349637, 6.35296403,        nan,        nan, 2.95550378,\n",
       "       3.84773878,        nan,        nan, 2.74072029, 2.74072029,\n",
       "              nan,        nan, 2.04624863, 3.08379921,        nan,\n",
       "              nan, 3.47919886, 3.46546831])"
      ]
     },
     "execution_count": 14,
     "metadata": {},
     "output_type": "execute_result"
    }
   ],
   "source": [
    "CaO_Ol=myOls1['CaO_Ol']\n",
    "CaO_Liq=myLiquids1['CaO_Liq']\n",
    "MgO_Liq=myLiquids1['MgO_Liq']\n",
    "DCa_dry_HighMgO=0.00042*MgO_Liq+0.0196\n",
    "DCa_dry_LowMgO=-0.0043*MgO_Liq+0.072\n",
    "DCa_dry_calc=np.empty(len(MgO_Liq), dtype=float)\n",
    "DeltaCa=np.empty(len(MgO_Liq), dtype=float)\n",
    "\n",
    "H2O_Calc=np.empty(len(MgO_Liq), dtype=float)\n",
    "\n",
    "DCa_Meas=CaO_Ol/CaO_Liq\n",
    "DCa_Divider=0.00462*MgO_Liq-0.027\n",
    "for i in range(0, len(MgO_Liq)):\n",
    "    if DCa_Meas[i]<=DCa_Divider[i]:\n",
    "        DCa_dry_calc[i]=DCa_dry_HighMgO[i]\n",
    "        DeltaCa[i]=DCa_dry_calc[i]-DCa_Meas[i]\n",
    "        H2O_Calc[i]=397*DeltaCa[i]\n",
    "    else:\n",
    "        DCa_dry_calc[i]=DCa_dry_LowMgO[i]\n",
    "        DeltaCa[i]=DCa_dry_calc[i]-DCa_Meas[i]    \n",
    "        H2O_Calc[i]=188*DeltaCa[i]\n",
    "H2O_Calc[CaO_Ol==0]=np.nan\n",
    "    \n",
    "H2O_Calc"
   ]
  },
  {
   "cell_type": "code",
   "execution_count": 15,
   "id": "669cc66b-1d81-4bb3-bd26-a6375ef35be3",
   "metadata": {},
   "outputs": [
    {
     "data": {
      "text/plain": [
       "Text(0, 0.5, 'DCa dry calc (Gavrilenko)')"
      ]
     },
     "execution_count": 15,
     "metadata": {},
     "output_type": "execute_result"
    },
    {
     "data": {
      "image/png": "[encoded data removed]",
      "text/plain": [
       "<Figure size 432x288 with 1 Axes>"
      ]
     },
     "metadata": {
      "needs_background": "light"
     },
     "output_type": "display_data"
    }
   ],
   "source": [
    "plt.plot(DCa_dry_calc, my_input['D CaO Ol/L Dry'], 'ok')\n",
    "plt.xlabel('DCa dry calc (Wieser)')\n",
    "plt.ylabel('DCa dry calc (Gavrilenko)')"
   ]
  },
  {
   "cell_type": "code",
   "execution_count": 16,
   "id": "bd48dced-cd54-4d73-aa76-16604e893d8a",
   "metadata": {},
   "outputs": [
    {
     "data": {
      "text/plain": [
       "Text(0, 0.5, 'DCa Meas (Gavrilenko)')"
      ]
     },
     "execution_count": 16,
     "metadata": {},
     "output_type": "execute_result"
    },
    {
     "data": {
      "image/png": "[encoded data removed]",
      "text/plain": [
       "<Figure size 432x288 with 1 Axes>"
      ]
     },
     "metadata": {
      "needs_background": "light"
     },
     "output_type": "display_data"
    }
   ],
   "source": [
    "plt.plot(DCa_Meas, my_input['D CaO Ol/L Obs'], 'ok')\n",
    "plt.xlabel('DCa Meas (Wieser)')\n",
    "plt.ylabel('DCa Meas (Gavrilenko)')"
   ]
  },
  {
   "cell_type": "code",
   "execution_count": null,
   "id": "203aa536-49e7-4d9d-b1da-3aaf49204dd6",
   "metadata": {},
   "outputs": [],
   "source": []
  }
 ],
 "metadata": {
  "kernelspec": {
   "display_name": "Python 3",
   "language": "python",
   "name": "python3"
  },
  "language_info": {
   "codemirror_mode": {
    "name": "ipython",
    "version": 3
   },
   "file_extension": ".py",
   "mimetype": "text/x-python",
   "name": "python",
   "nbconvert_exporter": "python",
   "pygments_lexer": "ipython3",
   "version": "3.8.5"
  }
 },
 "nbformat": 4,
 "nbformat_minor": 5
}
