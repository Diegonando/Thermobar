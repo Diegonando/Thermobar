{
 "cells": [
  {
   "cell_type": "code",
   "execution_count": 12,
   "id": "dd97ea52-8294-47f0-bed1-f045a4ad9bf6",
   "metadata": {},
   "outputs": [
    {
     "name": "stdout",
     "output_type": "stream",
     "text": [
      "f1\n",
      "1.0348060316942216\n",
      "1.1898115610065942\n",
      "1.0025534318142875\n",
      "1.113147817577296\n",
      "1.0\n",
      "0.9464544388973414\n",
      "0.9752085744274291\n",
      "0.9798642081861855\n",
      "0.9639227080092669\n",
      "0.9511522834549923\n",
      "f\n",
      "0.9899321040930927\n"
     ]
    }
   ],
   "source": [
    "from numpy import *\n",
    "\n",
    "def recalc(w):\n",
    "    mw = array([60.09,79.90,151.99,101.94,159.7,71.85,70.94,40.32,56.08,61.98,94.20])\n",
    "    nm = array([1,1,2,2,2,1,1,1,1,2,2])\n",
    "    no = array([2,2,3,3,3,1,1,1,1,1,1])\n",
    "    p = w / mw\n",
    "    fac = n / sum(p*no)\n",
    "    c = fac * p * nm\n",
    "    csum = sum(c)\n",
    "\n",
    "    # minimum Fe3 constraints:\n",
    "    f1 = 16/csum  # >16 cations\n",
    "\n",
    "    f2 = 8/c[0]   # > 8 Si\n",
    "    f3 = 15/(csum-c[9]-c[10])   # no Na in M4\n",
    "    f4 = 2/c[8]   # > 2 Ca\n",
    "    f5 = 1.0\n",
    "\n",
    "    # maximum Fe3 constraints:\n",
    "    f6 = 8/(c[0]+c[3])   # Si+Al<8\n",
    "    f7 = 15/(csum-c[10]) # No Na in A site\n",
    "    f8 = 12.9/(csum-c[8]-c[9]-c[10])  # Sum of M1, M2, M3 < 5\n",
    "    f9 = 36/(46-c[0]-c[3]-c[1]) # Fe3 + Al + Ti in M2 > 2, corrected from paper\n",
    "    f10 = 46/(c[4]+c[5]+46)  # max fe3, corrected from paper\n",
    "\n",
    "    fmin = min(f1,f2,f3,f4,f5)\n",
    "    fmax = max(f6,f7,f8,f9,f10)\n",
    "    if fmin >1: fmin = 1\n",
    "    if fmax >1: fmax = 1\n",
    "    f = (fmin+fmax)/2\n",
    "    # f = 2*n / (R * c[5] + 2*n)  # ferric ratio can be used instead\n",
    "    c = f * c\n",
    "    print('f1')\n",
    "    print(f1)\n",
    "    print(f2)\n",
    "    print(f3)   \n",
    "    print(f4) \n",
    "    print(f5)  \n",
    "    print(f6)  \n",
    "    print(f7)\n",
    "    print(f8)    \n",
    "    print(f9)    \n",
    "    print(f10)   \n",
    "    print('f')\n",
    "    print(f)\n",
    "    c[4] = 2 * n * (1 - f)\n",
    "    c[5] = c[5] - c[4]\n",
    "    f = c[5] / (c[5] + c[4])\n",
    "    w[4] = w[5] * (1 - f) * 1.11134\n",
    "    w[5] = w[5] * f \n",
    "    return c, f\n",
    "\n",
    "# set up terms\n",
    "ox = array([\"SiO2\",\"TiO2\",\"Cr2O3\",\"Al2O3\",\"Fe2O3\",\"FeO\",\"MnO\",\"MgO\",\"CaO\",\"Na2O\",\"K2O\"])\n",
    "\n",
    "# sample analysis below:\n",
    "w = array([44.75,1.77,0.00,9.76,0.00,18.80,0.32,9.42,11.16,1.44,0.42])\n",
    "\n",
    "# amphibole: oxygen basis n=23, ferric ratio R=0.2\n",
    "n = 23\n",
    "R = 0.2\n",
    "\n",
    "c, f = recalc(w)"
   ]
  },
  {
   "cell_type": "code",
   "execution_count": null,
   "id": "c5b8fc2f-2e36-49bc-8c32-b978ada50e78",
   "metadata": {},
   "outputs": [],
   "source": [
    "c, f = recalc(w)\n",
    "print(\"Amphibole recalculation:\")\n",
    "print(\"{:10} {:9} {:8}\".format(\"oxide\",\"wt %\",\"cat\"))\n",
    "for i in range(11):\n",
    "    print(\"{:6} {:8.2f} {:8.3f}\".format(ox[i], w[i], c[i]))\n",
    "    print(\"{:3} {:11.2f} {:8.3f}\".format(\"sum\",sum(w),sum(c)))\n",
    "    print(f)"
   ]
  },
  {
   "cell_type": "code",
   "execution_count": null,
   "id": "35c74187-9564-44c1-967a-f3a659c5f615",
   "metadata": {},
   "outputs": [],
   "source": []
  }
 ],
 "metadata": {
  "kernelspec": {
   "display_name": "Python 3",
   "language": "python",
   "name": "python3"
  },
  "language_info": {
   "codemirror_mode": {
    "name": "ipython",
    "version": 3
   },
   "file_extension": ".py",
   "mimetype": "text/x-python",
   "name": "python",
   "nbconvert_exporter": "python",
   "pygments_lexer": "ipython3",
   "version": "3.8.5"
  }
 },
 "nbformat": 4,
 "nbformat_minor": 5
}
