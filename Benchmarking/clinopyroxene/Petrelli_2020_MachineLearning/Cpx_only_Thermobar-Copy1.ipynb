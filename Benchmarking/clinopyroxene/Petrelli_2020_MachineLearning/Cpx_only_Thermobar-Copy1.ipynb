{
 "cells": [
  {
   "cell_type": "code",
   "execution_count": 1,
   "id": "d74fa112-c673-4162-8ea5-d7d88ee27228",
   "metadata": {},
   "outputs": [],
   "source": [
    "import numpy as np\n",
    "import pandas as pd\n",
    "import matplotlib.pyplot as plt\n",
    "from sklearn.preprocessing import StandardScaler\n",
    "from sklearn.ensemble import ExtraTreesRegressor\n",
    "from sklearn.metrics import mean_squared_error \n",
    "from sklearn.metrics import r2_score\n",
    "import scipy.cluster.hierarchy as shc\n",
    "from sklearn.cluster import AgglomerativeClustering\n",
    "from sklearn.model_selection import cross_val_score\n",
    "from sklearn.model_selection import RepeatedStratifiedKFold\n",
    "from sklearn.ensemble import ExtraTreesClassifier\n",
    "from sklearn.ensemble import GradientBoostingRegressor\n",
    "\n",
    "%matplotlib inline\n",
    "from sklearn.linear_model import LinearRegression\n",
    "from sklearn.metrics import r2_score\n",
    "from statsmodels.stats.multicomp import pairwise_tukeyhsd\n",
    "from scipy import stats\n",
    "import warnings as w\n",
    "import sys\n",
    "sys.path.append(\"../../..\")\n",
    "import Thermobar as pt"
   ]
  },
  {
   "cell_type": "code",
   "execution_count": 2,
   "id": "cdfcc0df-8f41-4002-bfdd-b23725dd483f",
   "metadata": {},
   "outputs": [],
   "source": [
    "out_train=pt.import_excel('GlobalDataset_Final_rev9_TrainValidation.xlsx',\n",
    "                          sheet_name='Train_Thermobar_Format')\n",
    "out_train_input=out_train['my_input']\n",
    "Cpx_train=out_train['Cpxs']\n",
    "Cpx_train_noID_noT=Cpx_train.drop(['Sample_ID_Cpx'], axis=1)\n",
    "x_train=Cpx_train_noID_noT.values\n",
    "y_train_T=out_train_input['T_K']\n",
    "y_train_P=out_train_input['P_GPa']*10"
   ]
  },
  {
   "cell_type": "code",
   "execution_count": 3,
   "id": "a5c74e5c-a1a2-482a-b278-d552e08c4922",
   "metadata": {},
   "outputs": [],
   "source": [
    "## Test dataset\n",
    "out_test=pt.import_excel('GlobalDataset_Final_rev9_TrainValidation.xlsx',\n",
    "                          sheet_name='Test_Thermobar_Format')\n",
    "\n",
    "out_test_input=out_test['my_input']\n",
    "Cpx_test=out_test['Cpxs']\n",
    "Cpx_test_noID_noT=Cpx_test.drop(['Sample_ID_Cpx'], axis=1)\n",
    "x_test=Cpx_test_noID_noT.values\n",
    "y_test_T=out_test_input['T_K']\n",
    "y_test_P=out_test_input['P_GPa']*10"
   ]
  },
  {
   "cell_type": "code",
   "execution_count": 4,
   "id": "f5a24961-0476-4551-b505-ceb8e558d1c4",
   "metadata": {},
   "outputs": [
    {
     "data": {
      "text/html": [
       "<div>\n",
       "<style scoped>\n",
       "    .dataframe tbody tr th:only-of-type {\n",
       "        vertical-align: middle;\n",
       "    }\n",
       "\n",
       "    .dataframe tbody tr th {\n",
       "        vertical-align: top;\n",
       "    }\n",
       "\n",
       "    .dataframe thead th {\n",
       "        text-align: right;\n",
       "    }\n",
       "</style>\n",
       "<table border=\"1\" class=\"dataframe\">\n",
       "  <thead>\n",
       "    <tr style=\"text-align: right;\">\n",
       "      <th></th>\n",
       "      <th>SiO2_Cpx</th>\n",
       "      <th>TiO2_Cpx</th>\n",
       "      <th>Al2O3_Cpx</th>\n",
       "      <th>FeOt_Cpx</th>\n",
       "      <th>MnO_Cpx</th>\n",
       "      <th>MgO_Cpx</th>\n",
       "      <th>CaO_Cpx</th>\n",
       "      <th>Na2O_Cpx</th>\n",
       "      <th>K2O_Cpx</th>\n",
       "      <th>Cr2O3_Cpx</th>\n",
       "      <th>Sample_ID_Cpx</th>\n",
       "    </tr>\n",
       "  </thead>\n",
       "  <tbody>\n",
       "    <tr>\n",
       "      <th>0</th>\n",
       "      <td>50.30</td>\n",
       "      <td>1.38</td>\n",
       "      <td>2.25</td>\n",
       "      <td>12.90</td>\n",
       "      <td>1.04</td>\n",
       "      <td>10.10</td>\n",
       "      <td>20.40</td>\n",
       "      <td>1.66</td>\n",
       "      <td>0.0</td>\n",
       "      <td>0.00</td>\n",
       "      <td>0</td>\n",
       "    </tr>\n",
       "    <tr>\n",
       "      <th>1</th>\n",
       "      <td>50.50</td>\n",
       "      <td>1.00</td>\n",
       "      <td>1.65</td>\n",
       "      <td>13.10</td>\n",
       "      <td>1.11</td>\n",
       "      <td>10.70</td>\n",
       "      <td>21.30</td>\n",
       "      <td>0.71</td>\n",
       "      <td>0.0</td>\n",
       "      <td>0.00</td>\n",
       "      <td>1</td>\n",
       "    </tr>\n",
       "    <tr>\n",
       "      <th>2</th>\n",
       "      <td>50.60</td>\n",
       "      <td>0.96</td>\n",
       "      <td>2.13</td>\n",
       "      <td>14.90</td>\n",
       "      <td>1.30</td>\n",
       "      <td>7.20</td>\n",
       "      <td>19.90</td>\n",
       "      <td>1.70</td>\n",
       "      <td>0.3</td>\n",
       "      <td>0.00</td>\n",
       "      <td>2</td>\n",
       "    </tr>\n",
       "    <tr>\n",
       "      <th>3</th>\n",
       "      <td>48.60</td>\n",
       "      <td>0.89</td>\n",
       "      <td>9.06</td>\n",
       "      <td>7.61</td>\n",
       "      <td>0.20</td>\n",
       "      <td>14.80</td>\n",
       "      <td>18.30</td>\n",
       "      <td>0.59</td>\n",
       "      <td>0.0</td>\n",
       "      <td>0.11</td>\n",
       "      <td>3</td>\n",
       "    </tr>\n",
       "    <tr>\n",
       "      <th>4</th>\n",
       "      <td>48.10</td>\n",
       "      <td>1.03</td>\n",
       "      <td>9.28</td>\n",
       "      <td>8.23</td>\n",
       "      <td>0.20</td>\n",
       "      <td>14.40</td>\n",
       "      <td>18.10</td>\n",
       "      <td>0.65</td>\n",
       "      <td>0.0</td>\n",
       "      <td>0.12</td>\n",
       "      <td>4</td>\n",
       "    </tr>\n",
       "    <tr>\n",
       "      <th>...</th>\n",
       "      <td>...</td>\n",
       "      <td>...</td>\n",
       "      <td>...</td>\n",
       "      <td>...</td>\n",
       "      <td>...</td>\n",
       "      <td>...</td>\n",
       "      <td>...</td>\n",
       "      <td>...</td>\n",
       "      <td>...</td>\n",
       "      <td>...</td>\n",
       "      <td>...</td>\n",
       "    </tr>\n",
       "    <tr>\n",
       "      <th>114</th>\n",
       "      <td>54.20</td>\n",
       "      <td>0.31</td>\n",
       "      <td>1.98</td>\n",
       "      <td>11.40</td>\n",
       "      <td>0.00</td>\n",
       "      <td>16.60</td>\n",
       "      <td>16.90</td>\n",
       "      <td>0.33</td>\n",
       "      <td>0.0</td>\n",
       "      <td>0.00</td>\n",
       "      <td>114</td>\n",
       "    </tr>\n",
       "    <tr>\n",
       "      <th>115</th>\n",
       "      <td>55.60</td>\n",
       "      <td>0.19</td>\n",
       "      <td>2.13</td>\n",
       "      <td>13.80</td>\n",
       "      <td>0.00</td>\n",
       "      <td>26.30</td>\n",
       "      <td>4.23</td>\n",
       "      <td>0.07</td>\n",
       "      <td>0.0</td>\n",
       "      <td>0.00</td>\n",
       "      <td>115</td>\n",
       "    </tr>\n",
       "    <tr>\n",
       "      <th>116</th>\n",
       "      <td>50.80</td>\n",
       "      <td>0.10</td>\n",
       "      <td>2.60</td>\n",
       "      <td>12.30</td>\n",
       "      <td>0.00</td>\n",
       "      <td>11.70</td>\n",
       "      <td>21.70</td>\n",
       "      <td>0.80</td>\n",
       "      <td>0.0</td>\n",
       "      <td>0.00</td>\n",
       "      <td>116</td>\n",
       "    </tr>\n",
       "    <tr>\n",
       "      <th>117</th>\n",
       "      <td>49.53</td>\n",
       "      <td>0.53</td>\n",
       "      <td>11.83</td>\n",
       "      <td>6.01</td>\n",
       "      <td>0.00</td>\n",
       "      <td>12.89</td>\n",
       "      <td>16.67</td>\n",
       "      <td>2.02</td>\n",
       "      <td>0.0</td>\n",
       "      <td>0.00</td>\n",
       "      <td>117</td>\n",
       "    </tr>\n",
       "    <tr>\n",
       "      <th>118</th>\n",
       "      <td>49.53</td>\n",
       "      <td>0.53</td>\n",
       "      <td>11.83</td>\n",
       "      <td>6.01</td>\n",
       "      <td>0.00</td>\n",
       "      <td>12.89</td>\n",
       "      <td>16.67</td>\n",
       "      <td>2.02</td>\n",
       "      <td>0.0</td>\n",
       "      <td>0.00</td>\n",
       "      <td>118</td>\n",
       "    </tr>\n",
       "  </tbody>\n",
       "</table>\n",
       "<p>119 rows × 11 columns</p>\n",
       "</div>"
      ],
      "text/plain": [
       "     SiO2_Cpx  TiO2_Cpx  Al2O3_Cpx  FeOt_Cpx  MnO_Cpx  MgO_Cpx  CaO_Cpx  \\\n",
       "0       50.30      1.38       2.25     12.90     1.04    10.10    20.40   \n",
       "1       50.50      1.00       1.65     13.10     1.11    10.70    21.30   \n",
       "2       50.60      0.96       2.13     14.90     1.30     7.20    19.90   \n",
       "3       48.60      0.89       9.06      7.61     0.20    14.80    18.30   \n",
       "4       48.10      1.03       9.28      8.23     0.20    14.40    18.10   \n",
       "..        ...       ...        ...       ...      ...      ...      ...   \n",
       "114     54.20      0.31       1.98     11.40     0.00    16.60    16.90   \n",
       "115     55.60      0.19       2.13     13.80     0.00    26.30     4.23   \n",
       "116     50.80      0.10       2.60     12.30     0.00    11.70    21.70   \n",
       "117     49.53      0.53      11.83      6.01     0.00    12.89    16.67   \n",
       "118     49.53      0.53      11.83      6.01     0.00    12.89    16.67   \n",
       "\n",
       "     Na2O_Cpx  K2O_Cpx  Cr2O3_Cpx  Sample_ID_Cpx  \n",
       "0        1.66      0.0       0.00              0  \n",
       "1        0.71      0.0       0.00              1  \n",
       "2        1.70      0.3       0.00              2  \n",
       "3        0.59      0.0       0.11              3  \n",
       "4        0.65      0.0       0.12              4  \n",
       "..        ...      ...        ...            ...  \n",
       "114      0.33      0.0       0.00            114  \n",
       "115      0.07      0.0       0.00            115  \n",
       "116      0.80      0.0       0.00            116  \n",
       "117      2.02      0.0       0.00            117  \n",
       "118      2.02      0.0       0.00            118  \n",
       "\n",
       "[119 rows x 11 columns]"
      ]
     },
     "execution_count": 4,
     "metadata": {},
     "output_type": "execute_result"
    }
   ],
   "source": [
    "Cpx_test"
   ]
  },
  {
   "cell_type": "code",
   "execution_count": 5,
   "id": "c19a56bc-6ed7-46ad-bfff-df81c3754e66",
   "metadata": {},
   "outputs": [],
   "source": [
    "# Scaling\n",
    "scaler = StandardScaler().fit(x_train)\n",
    "x_train_scaled = scaler.transform(x_train)\n",
    "\n",
    "# Define the regressor, in our case the Extra Tree Regressor\n",
    "# Using the parameters from Petrelli supplement for P. Don't actually present a regression for T, \n",
    "# but we add it here.\n",
    "regr_T = ExtraTreesRegressor(n_estimators=450, criterion='mse', max_features=10, \n",
    "                             random_state=120) # random_state fixed for reproducibility\n",
    "\n",
    "# Define the regressor, in our case the Extra Tree Regressor\n",
    "regr_P = ExtraTreesRegressor(n_estimators=450, criterion='mse', max_features=10, \n",
    "                             random_state=120) # random_state fixed for reproducibility\n",
    "\n",
    "# Train the model\n",
    "regr_T.fit(x_train_scaled, y_train_T.ravel())\n",
    "regr_P.fit(x_train_scaled, y_train_P.ravel())\n",
    "\n",
    "x_test_scaled=scaler.transform(x_test)"
   ]
  },
  {
   "cell_type": "code",
   "execution_count": 46,
   "id": "ceb0c49d-b975-4395-a7b9-b8fc33cab09e",
   "metadata": {},
   "outputs": [],
   "source": [
    "def get_voting_ExtraTreesRegressor(X, reg):\n",
    "    voting = []\n",
    "    for tree in reg.estimators_:\n",
    "        voting.append(tree.predict(X).tolist())\n",
    "    voting = np.asarray(voting)\n",
    "    return voting\n",
    "\n",
    "def get_voting_stats_ExtraTreesRegressor(X, reg, central_tendency='aritmetic_mean', dispersion='dev_std'):\n",
    "    \n",
    "    voting = get_voting_ExtraTreesRegressor(X, reg)\n",
    "    \n",
    "    # Central tendency\n",
    "    if central_tendency == 'aritmetic_mean':\n",
    "        voting_central_tendency = voting.mean(axis=0)\n",
    "    elif central_tendency == 'median':\n",
    "        voting_central_tendency = np.median(voting, axis=0)\n",
    "    \n",
    "    # Dispersion\n",
    "    if dispersion == 'dev_std':\n",
    "        voting_dispersion = voting.std(axis=0)\n",
    "    elif dispersion == 'IQR':\n",
    "        voting_dispersion = np.percentile(voting, 75) - np.percentile(voting, 25)\n",
    "\n",
    "    return  voting_central_tendency, voting_dispersion\n",
    "\n",
    "def get_voting_stats_ExtraTreesRegressor_df(X, reg, central_tendency='aritmetic_mean', dispersion='dev_std'):\n",
    "    \n",
    "    voting = get_voting_ExtraTreesRegressor(X, reg)\n",
    "    \n",
    "    voting_central_tendency_mean = voting.mean(axis=0)\n",
    "    voting_central_tendency_median = np.median(voting, axis=0)\n",
    "    voting_dispersion_std = voting.std(axis=0)\n",
    "    voting_dispersion_IQR = np.percentile(voting, 75, axis=0) - np.percentile(voting, 25, axis=0)\n",
    "    df_stats=pd.DataFrame(data={'Mean': voting_central_tendency_mean, \n",
    "                          'Median': voting_central_tendency_median,\n",
    "                          'Std': voting_dispersion_std,\n",
    "                          'IQR': voting_dispersion_IQR})\n",
    "    df_voting=pd.DataFrame(voting).T.add_prefix('Tree_')\n",
    "\n",
    "    return  df_stats, df_voting"
   ]
  },
  {
   "cell_type": "code",
   "execution_count": 47,
   "id": "3b60e062-0290-42e2-89a5-d9c915bcf3c8",
   "metadata": {},
   "outputs": [],
   "source": [
    "stats_df, df_voting=get_voting_stats_ExtraTreesRegressor_df(x_test_scaled, regr_P)\n"
   ]
  },
  {
   "cell_type": "code",
   "execution_count": 60,
   "id": "b3cb3048-4a59-4898-9877-323ad7329729",
   "metadata": {},
   "outputs": [
    {
     "data": {
      "text/plain": [
       "[<matplotlib.lines.Line2D at 0x18391d6d700>]"
      ]
     },
     "execution_count": 60,
     "metadata": {},
     "output_type": "execute_result"
    },
    {
     "data": {
      "image/png": "[encoded data removed]",
      "text/plain": [
       "<Figure size 432x288 with 1 Axes>"
      ]
     },
     "metadata": {
      "needs_background": "light"
     },
     "output_type": "display_data"
    }
   ],
   "source": [
    "plt.plot(stats_df['IQR'], stats_df['Mean']-y_test_P, 'ok')"
   ]
  },
  {
   "cell_type": "code",
   "execution_count": 61,
   "id": "1ec97380-9742-41ad-babf-5a2c14c66d7a",
   "metadata": {},
   "outputs": [
    {
     "data": {
      "text/plain": [
       "[<matplotlib.lines.Line2D at 0x1838c26b5e0>]"
      ]
     },
     "execution_count": 61,
     "metadata": {},
     "output_type": "execute_result"
    },
    {
     "data": {
      "image/png": "[encoded data removed]",
      "text/plain": [
       "<Figure size 432x288 with 1 Axes>"
      ]
     },
     "metadata": {
      "needs_background": "light"
     },
     "output_type": "display_data"
    }
   ],
   "source": [
    "plt.plot(stats_df['IQR'], abs(stats_df['Mean']-y_test_P), 'ok')"
   ]
  },
  {
   "cell_type": "code",
   "execution_count": 63,
   "id": "847bf634-7874-40e9-8f9d-6f213b52b847",
   "metadata": {},
   "outputs": [
    {
     "data": {
      "text/plain": [
       "[<matplotlib.lines.Line2D at 0x18391fdbdf0>]"
      ]
     },
     "execution_count": 63,
     "metadata": {},
     "output_type": "execute_result"
    },
    {
     "data": {
      "image/png": "[encoded data removed]",
      "text/plain": [
       "<Figure size 432x288 with 1 Axes>"
      ]
     },
     "metadata": {
      "needs_background": "light"
     },
     "output_type": "display_data"
    }
   ],
   "source": [
    "plt.plot(stats_df['Std'], stats_df['Mean']-y_test_P, 'ok')"
   ]
  },
  {
   "cell_type": "code",
   "execution_count": 58,
   "id": "a00f0c65-2af5-4be4-9e35-00f8ff67fff8",
   "metadata": {},
   "outputs": [
    {
     "data": {
      "text/html": [
       "<div>\n",
       "<style scoped>\n",
       "    .dataframe tbody tr th:only-of-type {\n",
       "        vertical-align: middle;\n",
       "    }\n",
       "\n",
       "    .dataframe tbody tr th {\n",
       "        vertical-align: top;\n",
       "    }\n",
       "\n",
       "    .dataframe thead th {\n",
       "        text-align: right;\n",
       "    }\n",
       "</style>\n",
       "<table border=\"1\" class=\"dataframe\">\n",
       "  <thead>\n",
       "    <tr style=\"text-align: right;\">\n",
       "      <th></th>\n",
       "      <th>Mean</th>\n",
       "      <th>Median</th>\n",
       "      <th>Std</th>\n",
       "      <th>IQR</th>\n",
       "    </tr>\n",
       "  </thead>\n",
       "  <tbody>\n",
       "    <tr>\n",
       "      <th>0</th>\n",
       "      <td>3.855222</td>\n",
       "      <td>2.050</td>\n",
       "      <td>3.381260</td>\n",
       "      <td>3.150</td>\n",
       "    </tr>\n",
       "    <tr>\n",
       "      <th>1</th>\n",
       "      <td>4.558327</td>\n",
       "      <td>4.145</td>\n",
       "      <td>3.999062</td>\n",
       "      <td>8.915</td>\n",
       "    </tr>\n",
       "    <tr>\n",
       "      <th>2</th>\n",
       "      <td>4.031024</td>\n",
       "      <td>2.050</td>\n",
       "      <td>4.021621</td>\n",
       "      <td>3.630</td>\n",
       "    </tr>\n",
       "    <tr>\n",
       "      <th>3</th>\n",
       "      <td>10.384876</td>\n",
       "      <td>10.000</td>\n",
       "      <td>3.358263</td>\n",
       "      <td>0.000</td>\n",
       "    </tr>\n",
       "    <tr>\n",
       "      <th>4</th>\n",
       "      <td>11.319707</td>\n",
       "      <td>10.000</td>\n",
       "      <td>3.499939</td>\n",
       "      <td>3.000</td>\n",
       "    </tr>\n",
       "  </tbody>\n",
       "</table>\n",
       "</div>"
      ],
      "text/plain": [
       "        Mean  Median       Std    IQR\n",
       "0   3.855222   2.050  3.381260  3.150\n",
       "1   4.558327   4.145  3.999062  8.915\n",
       "2   4.031024   2.050  4.021621  3.630\n",
       "3  10.384876  10.000  3.358263  0.000\n",
       "4  11.319707  10.000  3.499939  3.000"
      ]
     },
     "metadata": {},
     "output_type": "display_data"
    },
    {
     "data": {
      "text/html": [
       "<div>\n",
       "<style scoped>\n",
       "    .dataframe tbody tr th:only-of-type {\n",
       "        vertical-align: middle;\n",
       "    }\n",
       "\n",
       "    .dataframe tbody tr th {\n",
       "        vertical-align: top;\n",
       "    }\n",
       "\n",
       "    .dataframe thead th {\n",
       "        text-align: right;\n",
       "    }\n",
       "</style>\n",
       "<table border=\"1\" class=\"dataframe\">\n",
       "  <thead>\n",
       "    <tr style=\"text-align: right;\">\n",
       "      <th></th>\n",
       "      <th>Tree_0</th>\n",
       "      <th>Tree_1</th>\n",
       "      <th>Tree_2</th>\n",
       "      <th>Tree_3</th>\n",
       "      <th>Tree_4</th>\n",
       "      <th>Tree_5</th>\n",
       "      <th>Tree_6</th>\n",
       "      <th>Tree_7</th>\n",
       "      <th>Tree_8</th>\n",
       "      <th>Tree_9</th>\n",
       "      <th>...</th>\n",
       "      <th>Tree_440</th>\n",
       "      <th>Tree_441</th>\n",
       "      <th>Tree_442</th>\n",
       "      <th>Tree_443</th>\n",
       "      <th>Tree_444</th>\n",
       "      <th>Tree_445</th>\n",
       "      <th>Tree_446</th>\n",
       "      <th>Tree_447</th>\n",
       "      <th>Tree_448</th>\n",
       "      <th>Tree_449</th>\n",
       "    </tr>\n",
       "  </thead>\n",
       "  <tbody>\n",
       "    <tr>\n",
       "      <th>0</th>\n",
       "      <td>10.00</td>\n",
       "      <td>5.15</td>\n",
       "      <td>3.0</td>\n",
       "      <td>1.00</td>\n",
       "      <td>2.000</td>\n",
       "      <td>10.000</td>\n",
       "      <td>2.0</td>\n",
       "      <td>5.0</td>\n",
       "      <td>22.50</td>\n",
       "      <td>4.02</td>\n",
       "      <td>...</td>\n",
       "      <td>2.05</td>\n",
       "      <td>5.150</td>\n",
       "      <td>10.0</td>\n",
       "      <td>2.00</td>\n",
       "      <td>2.05</td>\n",
       "      <td>2.0</td>\n",
       "      <td>5.15</td>\n",
       "      <td>10.0</td>\n",
       "      <td>0.001</td>\n",
       "      <td>8.0</td>\n",
       "    </tr>\n",
       "    <tr>\n",
       "      <th>1</th>\n",
       "      <td>10.00</td>\n",
       "      <td>0.94</td>\n",
       "      <td>2.0</td>\n",
       "      <td>5.15</td>\n",
       "      <td>0.001</td>\n",
       "      <td>10.000</td>\n",
       "      <td>2.0</td>\n",
       "      <td>5.0</td>\n",
       "      <td>5.15</td>\n",
       "      <td>4.02</td>\n",
       "      <td>...</td>\n",
       "      <td>5.15</td>\n",
       "      <td>0.001</td>\n",
       "      <td>10.0</td>\n",
       "      <td>10.00</td>\n",
       "      <td>5.15</td>\n",
       "      <td>10.0</td>\n",
       "      <td>5.15</td>\n",
       "      <td>10.0</td>\n",
       "      <td>0.001</td>\n",
       "      <td>8.0</td>\n",
       "    </tr>\n",
       "    <tr>\n",
       "      <th>2</th>\n",
       "      <td>4.01</td>\n",
       "      <td>5.15</td>\n",
       "      <td>2.0</td>\n",
       "      <td>1.52</td>\n",
       "      <td>2.050</td>\n",
       "      <td>10.000</td>\n",
       "      <td>3.0</td>\n",
       "      <td>5.0</td>\n",
       "      <td>22.50</td>\n",
       "      <td>4.02</td>\n",
       "      <td>...</td>\n",
       "      <td>2.05</td>\n",
       "      <td>5.000</td>\n",
       "      <td>10.0</td>\n",
       "      <td>1.52</td>\n",
       "      <td>2.05</td>\n",
       "      <td>5.0</td>\n",
       "      <td>5.00</td>\n",
       "      <td>10.0</td>\n",
       "      <td>5.000</td>\n",
       "      <td>8.0</td>\n",
       "    </tr>\n",
       "    <tr>\n",
       "      <th>3</th>\n",
       "      <td>10.00</td>\n",
       "      <td>10.00</td>\n",
       "      <td>9.3</td>\n",
       "      <td>15.00</td>\n",
       "      <td>16.000</td>\n",
       "      <td>5.015</td>\n",
       "      <td>6.8</td>\n",
       "      <td>10.0</td>\n",
       "      <td>10.00</td>\n",
       "      <td>10.00</td>\n",
       "      <td>...</td>\n",
       "      <td>15.00</td>\n",
       "      <td>10.000</td>\n",
       "      <td>12.5</td>\n",
       "      <td>10.50</td>\n",
       "      <td>9.30</td>\n",
       "      <td>10.0</td>\n",
       "      <td>10.00</td>\n",
       "      <td>6.8</td>\n",
       "      <td>20.000</td>\n",
       "      <td>10.0</td>\n",
       "    </tr>\n",
       "    <tr>\n",
       "      <th>4</th>\n",
       "      <td>10.00</td>\n",
       "      <td>9.30</td>\n",
       "      <td>9.3</td>\n",
       "      <td>10.00</td>\n",
       "      <td>16.000</td>\n",
       "      <td>10.000</td>\n",
       "      <td>9.3</td>\n",
       "      <td>10.0</td>\n",
       "      <td>10.00</td>\n",
       "      <td>13.00</td>\n",
       "      <td>...</td>\n",
       "      <td>15.00</td>\n",
       "      <td>10.000</td>\n",
       "      <td>15.0</td>\n",
       "      <td>9.30</td>\n",
       "      <td>8.00</td>\n",
       "      <td>9.3</td>\n",
       "      <td>9.30</td>\n",
       "      <td>6.8</td>\n",
       "      <td>9.300</td>\n",
       "      <td>8.0</td>\n",
       "    </tr>\n",
       "  </tbody>\n",
       "</table>\n",
       "<p>5 rows × 450 columns</p>\n",
       "</div>"
      ],
      "text/plain": [
       "   Tree_0  Tree_1  Tree_2  Tree_3  Tree_4  Tree_5  Tree_6  Tree_7  Tree_8  \\\n",
       "0   10.00    5.15     3.0    1.00   2.000  10.000     2.0     5.0   22.50   \n",
       "1   10.00    0.94     2.0    5.15   0.001  10.000     2.0     5.0    5.15   \n",
       "2    4.01    5.15     2.0    1.52   2.050  10.000     3.0     5.0   22.50   \n",
       "3   10.00   10.00     9.3   15.00  16.000   5.015     6.8    10.0   10.00   \n",
       "4   10.00    9.30     9.3   10.00  16.000  10.000     9.3    10.0   10.00   \n",
       "\n",
       "   Tree_9  ...  Tree_440  Tree_441  Tree_442  Tree_443  Tree_444  Tree_445  \\\n",
       "0    4.02  ...      2.05     5.150      10.0      2.00      2.05       2.0   \n",
       "1    4.02  ...      5.15     0.001      10.0     10.00      5.15      10.0   \n",
       "2    4.02  ...      2.05     5.000      10.0      1.52      2.05       5.0   \n",
       "3   10.00  ...     15.00    10.000      12.5     10.50      9.30      10.0   \n",
       "4   13.00  ...     15.00    10.000      15.0      9.30      8.00       9.3   \n",
       "\n",
       "   Tree_446  Tree_447  Tree_448  Tree_449  \n",
       "0      5.15      10.0     0.001       8.0  \n",
       "1      5.15      10.0     0.001       8.0  \n",
       "2      5.00      10.0     5.000       8.0  \n",
       "3     10.00       6.8    20.000      10.0  \n",
       "4      9.30       6.8     9.300       8.0  \n",
       "\n",
       "[5 rows x 450 columns]"
      ]
     },
     "metadata": {},
     "output_type": "display_data"
    }
   ],
   "source": [
    "display(stats_df.head())\n",
    "display(df_voting.head())"
   ]
  },
  {
   "cell_type": "code",
   "execution_count": 24,
   "id": "2256af2f-c999-44c8-8c84-1ecf5fcffc81",
   "metadata": {},
   "outputs": [],
   "source": [
    "# Predicting mean with Maurizios functions\n",
    "stats_df=get_voting_stats_ExtraTreesRegressor_df(x_test_scaled, regr_P)\n",
    "# predicting pressure using extra trees default algorithm\n",
    "predicted_P=regr_P.predict(x_test_scaled)"
   ]
  },
  {
   "cell_type": "code",
   "execution_count": 56,
   "id": "1588ea88-bee2-4e40-88bc-600c1f39123f",
   "metadata": {},
   "outputs": [
    {
     "data": {
      "text/plain": [
       "(array([ 13.,  38., 313.,  24.,  28.,  20.,  12.,   0.,   1.,   1.]),\n",
       " array([ 2. ,  4.8,  7.6, 10.4, 13.2, 16. , 18.8, 21.6, 24.4, 27.2, 30. ]),\n",
       " <BarContainer object of 10 artists>)"
      ]
     },
     "execution_count": 56,
     "metadata": {},
     "output_type": "execute_result"
    },
    {
     "data": {
      "image/png": "[encoded data removed]",
      "text/plain": [
       "<Figure size 432x288 with 1 Axes>"
      ]
     },
     "metadata": {
      "needs_background": "light"
     },
     "output_type": "display_data"
    }
   ],
   "source": [
    "plt.hist(df_voting.iloc[3, :])"
   ]
  },
  {
   "cell_type": "code",
   "execution_count": 25,
   "id": "3afaeca4-e5a2-4001-bbc2-00cfcee38e99",
   "metadata": {},
   "outputs": [
    {
     "data": {
      "text/html": [
       "<div>\n",
       "<style scoped>\n",
       "    .dataframe tbody tr th:only-of-type {\n",
       "        vertical-align: middle;\n",
       "    }\n",
       "\n",
       "    .dataframe tbody tr th {\n",
       "        vertical-align: top;\n",
       "    }\n",
       "\n",
       "    .dataframe thead th {\n",
       "        text-align: right;\n",
       "    }\n",
       "</style>\n",
       "<table border=\"1\" class=\"dataframe\">\n",
       "  <thead>\n",
       "    <tr style=\"text-align: right;\">\n",
       "      <th></th>\n",
       "      <th>Mean</th>\n",
       "      <th>Median</th>\n",
       "      <th>Std</th>\n",
       "      <th>IQR</th>\n",
       "    </tr>\n",
       "  </thead>\n",
       "  <tbody>\n",
       "    <tr>\n",
       "      <th>0</th>\n",
       "      <td>3.855222</td>\n",
       "      <td>2.050000</td>\n",
       "      <td>3.381260</td>\n",
       "      <td>3.150</td>\n",
       "    </tr>\n",
       "    <tr>\n",
       "      <th>1</th>\n",
       "      <td>4.558327</td>\n",
       "      <td>4.145000</td>\n",
       "      <td>3.999062</td>\n",
       "      <td>8.915</td>\n",
       "    </tr>\n",
       "    <tr>\n",
       "      <th>2</th>\n",
       "      <td>4.031024</td>\n",
       "      <td>2.050000</td>\n",
       "      <td>4.021621</td>\n",
       "      <td>3.630</td>\n",
       "    </tr>\n",
       "    <tr>\n",
       "      <th>3</th>\n",
       "      <td>10.384876</td>\n",
       "      <td>10.000000</td>\n",
       "      <td>3.358263</td>\n",
       "      <td>0.000</td>\n",
       "    </tr>\n",
       "    <tr>\n",
       "      <th>4</th>\n",
       "      <td>11.319707</td>\n",
       "      <td>10.000000</td>\n",
       "      <td>3.499939</td>\n",
       "      <td>3.000</td>\n",
       "    </tr>\n",
       "    <tr>\n",
       "      <th>...</th>\n",
       "      <td>...</td>\n",
       "      <td>...</td>\n",
       "      <td>...</td>\n",
       "      <td>...</td>\n",
       "    </tr>\n",
       "    <tr>\n",
       "      <th>114</th>\n",
       "      <td>2.637991</td>\n",
       "      <td>0.001000</td>\n",
       "      <td>4.266696</td>\n",
       "      <td>4.299</td>\n",
       "    </tr>\n",
       "    <tr>\n",
       "      <th>115</th>\n",
       "      <td>5.018701</td>\n",
       "      <td>0.001013</td>\n",
       "      <td>7.378537</td>\n",
       "      <td>9.749</td>\n",
       "    </tr>\n",
       "    <tr>\n",
       "      <th>116</th>\n",
       "      <td>4.550104</td>\n",
       "      <td>2.000000</td>\n",
       "      <td>4.938490</td>\n",
       "      <td>9.999</td>\n",
       "    </tr>\n",
       "    <tr>\n",
       "      <th>117</th>\n",
       "      <td>23.530222</td>\n",
       "      <td>22.500000</td>\n",
       "      <td>5.258405</td>\n",
       "      <td>10.000</td>\n",
       "    </tr>\n",
       "    <tr>\n",
       "      <th>118</th>\n",
       "      <td>23.530222</td>\n",
       "      <td>22.500000</td>\n",
       "      <td>5.258405</td>\n",
       "      <td>10.000</td>\n",
       "    </tr>\n",
       "  </tbody>\n",
       "</table>\n",
       "<p>119 rows × 4 columns</p>\n",
       "</div>"
      ],
      "text/plain": [
       "          Mean     Median       Std     IQR\n",
       "0     3.855222   2.050000  3.381260   3.150\n",
       "1     4.558327   4.145000  3.999062   8.915\n",
       "2     4.031024   2.050000  4.021621   3.630\n",
       "3    10.384876  10.000000  3.358263   0.000\n",
       "4    11.319707  10.000000  3.499939   3.000\n",
       "..         ...        ...       ...     ...\n",
       "114   2.637991   0.001000  4.266696   4.299\n",
       "115   5.018701   0.001013  7.378537   9.749\n",
       "116   4.550104   2.000000  4.938490   9.999\n",
       "117  23.530222  22.500000  5.258405  10.000\n",
       "118  23.530222  22.500000  5.258405  10.000\n",
       "\n",
       "[119 rows x 4 columns]"
      ]
     },
     "execution_count": 25,
     "metadata": {},
     "output_type": "execute_result"
    }
   ],
   "source": [
    "stats_df"
   ]
  },
  {
   "cell_type": "code",
   "execution_count": 14,
   "id": "b1aae10a-168e-4b03-b873-a95b48daa34e",
   "metadata": {},
   "outputs": [
    {
     "data": {
      "text/plain": [
       "array([ 3.85522222,  4.55832667,  4.03102444, 10.38487556, 11.31970667])"
      ]
     },
     "execution_count": 14,
     "metadata": {},
     "output_type": "execute_result"
    }
   ],
   "source": [
    "plt.hist()"
   ]
  },
  {
   "cell_type": "code",
   "execution_count": 15,
   "id": "617c46e6-90ad-4e58-844a-0cf8b4f62fbb",
   "metadata": {},
   "outputs": [
    {
     "data": {
      "text/plain": [
       "array([ 3.85522222,  4.55832667,  4.03102444, 10.38487556, 11.31970667])"
      ]
     },
     "execution_count": 15,
     "metadata": {},
     "output_type": "execute_result"
    }
   ],
   "source": [
    "predicted_P[0:5]"
   ]
  },
  {
   "cell_type": "code",
   "execution_count": 16,
   "id": "93635366-b4c7-4d80-a3c0-9b58308f4514",
   "metadata": {},
   "outputs": [
    {
     "data": {
      "text/plain": [
       "[<matplotlib.lines.Line2D at 0x18391368e80>]"
      ]
     },
     "execution_count": 16,
     "metadata": {},
     "output_type": "execute_result"
    },
    {
     "data": {
      "image/png": "[encoded data removed]",
      "text/plain": [
       "<Figure size 432x288 with 1 Axes>"
      ]
     },
     "metadata": {
      "needs_background": "light"
     },
     "output_type": "display_data"
    }
   ],
   "source": [
    "plt.plot(Voting_stats_scale_1, predicted_P, 'ok')"
   ]
  },
  {
   "cell_type": "code",
   "execution_count": null,
   "id": "3706f917-60d0-4ab7-84ff-b499e33a14f4",
   "metadata": {},
   "outputs": [],
   "source": []
  },
  {
   "cell_type": "code",
   "execution_count": 60,
   "id": "acb6d00b-a733-4b72-b1c2-298287c8bf70",
   "metadata": {},
   "outputs": [],
   "source": [
    "voting=get_voting_ExtraTreesRegressor(x_test_scaled, regr_P)"
   ]
  },
  {
   "cell_type": "code",
   "execution_count": 61,
   "id": "7da62509-27f5-46bd-914d-f4e97997a3e3",
   "metadata": {},
   "outputs": [
    {
     "data": {
      "text/plain": [
       "(450, 119)"
      ]
     },
     "execution_count": 61,
     "metadata": {},
     "output_type": "execute_result"
    }
   ],
   "source": [
    "np.shape(get_voting_ExtraTreesRegressor(x_test_scaled, regr_P))"
   ]
  },
  {
   "cell_type": "code",
   "execution_count": 62,
   "id": "e23fa985-d0ba-4b45-9512-cb59091e3fdb",
   "metadata": {},
   "outputs": [
    {
     "data": {
      "text/plain": [
       "450"
      ]
     },
     "execution_count": 62,
     "metadata": {},
     "output_type": "execute_result"
    }
   ],
   "source": [
    "len(voting)"
   ]
  },
  {
   "cell_type": "code",
   "execution_count": 63,
   "id": "496ab9e8-77a4-4fa6-9fd4-3f1c604586a3",
   "metadata": {},
   "outputs": [
    {
     "data": {
      "text/plain": [
       "119"
      ]
     },
     "execution_count": 63,
     "metadata": {},
     "output_type": "execute_result"
    }
   ],
   "source": [
    "len(x_test)"
   ]
  },
  {
   "cell_type": "code",
   "execution_count": 64,
   "id": "44d780de-e8ed-41f9-a62b-5be0308151ac",
   "metadata": {},
   "outputs": [
    {
     "data": {
      "text/plain": [
       "119"
      ]
     },
     "execution_count": 64,
     "metadata": {},
     "output_type": "execute_result"
    }
   ],
   "source": [
    " np.shape(voting)[1]"
   ]
  },
  {
   "cell_type": "code",
   "execution_count": null,
   "id": "1412f092-5e2a-4f1d-86ca-8c8cb046deba",
   "metadata": {},
   "outputs": [],
   "source": []
  },
  {
   "cell_type": "code",
   "execution_count": 65,
   "id": "75f0e295-147d-46f0-8e3f-69b3bc27ce9a",
   "metadata": {},
   "outputs": [
    {
     "data": {
      "text/plain": [
       "14.0"
      ]
     },
     "execution_count": 65,
     "metadata": {},
     "output_type": "execute_result"
    }
   ],
   "source": [
    "def get_IQR_ExtraTreesRegressor(X, reg):\n",
    "    voting = get_voting_ExtraTreesRegressor(X, reg)\n",
    "    IQR = np.percentile(voting, 75) - np.percentile(voting, 25)\n",
    "    return IQR\n",
    "\n",
    "get_IQR_ExtraTreesRegressor(x_test, regr_P)"
   ]
  },
  {
   "cell_type": "code",
   "execution_count": 66,
   "id": "a8beb194-dcb7-43e5-a658-92c3bc81e6b8",
   "metadata": {},
   "outputs": [
    {
     "data": {
      "text/plain": [
       "119"
      ]
     },
     "execution_count": 66,
     "metadata": {},
     "output_type": "execute_result"
    }
   ],
   "source": [
    "len(voting[1])"
   ]
  },
  {
   "cell_type": "code",
   "execution_count": 67,
   "id": "ef329868-9455-4ef6-a144-4fc4f4b5401b",
   "metadata": {},
   "outputs": [
    {
     "data": {
      "text/plain": [
       "119"
      ]
     },
     "execution_count": 67,
     "metadata": {},
     "output_type": "execute_result"
    }
   ],
   "source": [
    "np.shape(voting)[1]"
   ]
  },
  {
   "cell_type": "code",
   "execution_count": 68,
   "id": "ea247598-cd47-4e45-867f-6484ffa8da97",
   "metadata": {},
   "outputs": [],
   "source": [
    "IQR=np.empty(np.shape(voting)[1], dtype=float)\n",
    "for i in range(0, np.shape(voting)[1]):\n",
    "    IQR[i]=np.median(voting[i])\n",
    "    "
   ]
  },
  {
   "cell_type": "code",
   "execution_count": 86,
   "id": "a3219924-f103-4b9d-9b9c-fd8e2d549ecc",
   "metadata": {},
   "outputs": [],
   "source": [
    "PredictedP=regr_P.predict(x_test_scaled)\n",
    "PredictedP_M=voting.mean(axis=0)"
   ]
  },
  {
   "cell_type": "code",
   "execution_count": 87,
   "id": "cde5f653-65c0-492a-97f8-2fccb98e39f3",
   "metadata": {},
   "outputs": [
    {
     "data": {
      "text/plain": [
       "3.8552222222222197"
      ]
     },
     "execution_count": 87,
     "metadata": {},
     "output_type": "execute_result"
    }
   ],
   "source": [
    "PredictedP[0]"
   ]
  },
  {
   "cell_type": "code",
   "execution_count": 88,
   "id": "1ef709a2-8a49-4063-a22b-a344846961c0",
   "metadata": {},
   "outputs": [
    {
     "data": {
      "text/plain": [
       "3.8552222222222197"
      ]
     },
     "execution_count": 88,
     "metadata": {},
     "output_type": "execute_result"
    }
   ],
   "source": [
    "PredictedP_M[0]"
   ]
  },
  {
   "cell_type": "code",
   "execution_count": 89,
   "id": "0436d9b0-8fe6-44c8-8224-a08065a7472e",
   "metadata": {},
   "outputs": [
    {
     "data": {
      "text/plain": [
       "[<matplotlib.lines.Line2D at 0x236323412b0>]"
      ]
     },
     "execution_count": 89,
     "metadata": {},
     "output_type": "execute_result"
    },
    {
     "data": {
      "image/png": "[encoded data removed]",
      "text/plain": [
       "<Figure size 432x288 with 1 Axes>"
      ]
     },
     "metadata": {
      "needs_background": "light"
     },
     "output_type": "display_data"
    }
   ],
   "source": [
    "plt.plot(IQR, PredictedP_M, 'ok')"
   ]
  },
  {
   "cell_type": "markdown",
   "id": "9707dcf8-b628-4139-abf1-8a594c749657",
   "metadata": {},
   "source": [
    "## Predicting the test data for temp"
   ]
  },
  {
   "cell_type": "code",
   "execution_count": 7,
   "id": "04772250-07a7-4e27-93fe-7b2ca0a5d223",
   "metadata": {},
   "outputs": [
    {
     "data": {
      "text/plain": [
       "'RMSE= 95.9406'"
      ]
     },
     "execution_count": 7,
     "metadata": {},
     "output_type": "execute_result"
    },
    {
     "data": {
      "image/png": "[encoded data removed]",
      "text/plain": [
       "<Figure size 432x288 with 1 Axes>"
      ]
     },
     "metadata": {
      "needs_background": "light"
     },
     "output_type": "display_data"
    }
   ],
   "source": [
    "predicted_T=regr_T.predict(x_test_scaled)\n",
    "plt.plot( y_test_T, predicted_T, 'ok', mfc='darkred')\n",
    "plt.plot([1100, 1800], [1100, 1800], '-r')\n",
    "Stats_T=pt.calculate_R2_np(y_test_T.values, predicted_T)\n",
    "Stats_T['R2']\n",
    "Stats_T['RMSE']"
   ]
  },
  {
   "cell_type": "markdown",
   "id": "2e576515-9616-460a-bc32-c4dcaf3c1f03",
   "metadata": {},
   "source": [
    "## Predicting the test data for Press"
   ]
  },
  {
   "cell_type": "code",
   "execution_count": 8,
   "id": "57e58035-a377-4d1f-b2ea-3636204389ad",
   "metadata": {},
   "outputs": [
    {
     "data": {
      "text/plain": [
       "'RMSE= 3.14564'"
      ]
     },
     "execution_count": 8,
     "metadata": {},
     "output_type": "execute_result"
    },
    {
     "data": {
      "image/png": "[encoded data removed]",
      "text/plain": [
       "<Figure size 432x288 with 1 Axes>"
      ]
     },
     "metadata": {
      "needs_background": "light"
     },
     "output_type": "display_data"
    }
   ],
   "source": [
    "predicted_P=regr_P.predict(x_test_scaled)\n",
    "plt.plot( y_test_P, predicted_P, 'ok', mfc='darkred')\n",
    "plt.plot([0, 30], [0, 30], '-r')\n",
    "Stats_P=pt.calculate_R2_np(y_test_P.values, predicted_P)\n",
    "Stats_P['R2']\n",
    "Stats_P['RMSE']"
   ]
  },
  {
   "attachments": {
    "a7ca4528-c066-4b8d-ba91-6a1c3d3be3c4.png": {
     "image/png": "[encoded data removed]"
    }
   },
   "cell_type": "markdown",
   "id": "62d18976-2db3-44c0-8840-3c98db718581",
   "metadata": {},
   "source": [
    "![image.png](attachment:a7ca4528-c066-4b8d-ba91-6a1c3d3be3c4.png)"
   ]
  },
  {
   "cell_type": "code",
   "execution_count": 9,
   "id": "8a0b0be9-47f2-4d7c-93cd-a36a3aa41b38",
   "metadata": {},
   "outputs": [
    {
     "data": {
      "text/plain": [
       "StandardScaler()"
      ]
     },
     "execution_count": 9,
     "metadata": {},
     "output_type": "execute_result"
    }
   ],
   "source": [
    "scaler"
   ]
  },
  {
   "cell_type": "code",
   "execution_count": 13,
   "id": "42afd1ab-265f-480c-a126-06d9221b4a6a",
   "metadata": {},
   "outputs": [],
   "source": [
    "from pickle import dump\n",
    "import pickle\n",
    "dump(scaler, open('scaler_Petrelli2020_Cpx_Only.pkl', 'wb'))\n",
    "dump(regr_P, open('ETR_Press_Petrelli2020_Cpx_Only.pkl', 'wb'))\n",
    "dump(regr_T, open('ETR_Temp_Petrelli2020_Cpx_Only.pkl', 'wb'))\n",
    "outfile = open('ML_scaler_Petrelli2020_Cpx_Only', 'wb')\n",
    "pickle.dump(scaler, outfile)\n",
    "outfile.close()\n",
    "\n",
    "in_ML_scaler_Petrelli2020_Cpx = open('ML_scaler_Petrelli2020_Cpx_Only','rb')\n",
    "scaler_P2020_Cpx_only = pickle.load(in_ML_scaler_Petrelli2020_Cpx)\n",
    "in_ML_scaler_Petrelli2020_Cpx.close()"
   ]
  },
  {
   "cell_type": "code",
   "execution_count": 11,
   "id": "a875dccc-8772-4ccb-bcdb-4a46c7050c5f",
   "metadata": {},
   "outputs": [
    {
     "data": {
      "text/plain": [
       "StandardScaler()"
      ]
     },
     "execution_count": 11,
     "metadata": {},
     "output_type": "execute_result"
    }
   ],
   "source": [
    "scaler_P2020_Cpx_only"
   ]
  },
  {
   "cell_type": "code",
   "execution_count": 12,
   "id": "bf37aaff-dbc6-4266-b2ad-b0cd18afa397",
   "metadata": {},
   "outputs": [
    {
     "ename": "FileNotFoundError",
     "evalue": "[Errno 2] No such file or directory: 'scaler_Petrelli2020_Cpx_Only.pkl'",
     "output_type": "error",
     "traceback": [
      "\u001b[1;31m---------------------------------------------------------------------------\u001b[0m",
      "\u001b[1;31mFileNotFoundError\u001b[0m                         Traceback (most recent call last)",
      "\u001b[1;32m<ipython-input-12-5f82397262db>\u001b[0m in \u001b[0;36m<module>\u001b[1;34m\u001b[0m\n\u001b[0;32m      1\u001b[0m \u001b[1;32mfrom\u001b[0m \u001b[0mpickle\u001b[0m \u001b[1;32mimport\u001b[0m \u001b[0mload\u001b[0m\u001b[1;33m\u001b[0m\u001b[1;33m\u001b[0m\u001b[0m\n\u001b[1;32m----> 2\u001b[1;33m \u001b[0mscaler_P2020_Cpx_Only\u001b[0m\u001b[1;33m=\u001b[0m\u001b[0mload\u001b[0m\u001b[1;33m(\u001b[0m\u001b[0mopen\u001b[0m\u001b[1;33m(\u001b[0m\u001b[1;34m'scaler_Petrelli2020_Cpx_Only.pkl'\u001b[0m\u001b[1;33m,\u001b[0m \u001b[1;34m'rb'\u001b[0m\u001b[1;33m)\u001b[0m\u001b[1;33m)\u001b[0m\u001b[1;33m\u001b[0m\u001b[1;33m\u001b[0m\u001b[0m\n\u001b[0m\u001b[0;32m      3\u001b[0m \u001b[0mETR_Temp_P2020_Cpx_Only\u001b[0m\u001b[1;33m=\u001b[0m\u001b[0mload\u001b[0m\u001b[1;33m(\u001b[0m\u001b[0mopen\u001b[0m\u001b[1;33m(\u001b[0m\u001b[1;34m'ETR_Temp_Petrelli2020_cpx_Only.pkl'\u001b[0m\u001b[1;33m,\u001b[0m \u001b[1;34m'rb'\u001b[0m\u001b[1;33m)\u001b[0m\u001b[1;33m)\u001b[0m\u001b[1;33m\u001b[0m\u001b[1;33m\u001b[0m\u001b[0m\n\u001b[0;32m      4\u001b[0m \u001b[0mETR_Press_P2020_Cpx_Only\u001b[0m\u001b[1;33m=\u001b[0m\u001b[0mload\u001b[0m\u001b[1;33m(\u001b[0m\u001b[0mopen\u001b[0m\u001b[1;33m(\u001b[0m\u001b[1;34m'ETR_Press_Petrelli2020_cpx_Only.pkl'\u001b[0m\u001b[1;33m,\u001b[0m \u001b[1;34m'rb'\u001b[0m\u001b[1;33m)\u001b[0m\u001b[1;33m)\u001b[0m\u001b[1;33m\u001b[0m\u001b[1;33m\u001b[0m\u001b[0m\n",
      "\u001b[1;31mFileNotFoundError\u001b[0m: [Errno 2] No such file or directory: 'scaler_Petrelli2020_Cpx_Only.pkl'"
     ]
    }
   ],
   "source": [
    "from pickle import load\n",
    "scaler_P2020_Cpx_Only=load(open('scaler_Petrelli2020_Cpx_Only.pkl', 'rb'))\n",
    "ETR_Temp_P2020_Cpx_Only=load(open('ETR_Temp_Petrelli2020_cpx_Only.pkl', 'rb'))\n",
    "ETR_Press_P2020_Cpx_Only=load(open('ETR_Press_Petrelli2020_cpx_Only.pkl', 'rb'))"
   ]
  },
  {
   "cell_type": "markdown",
   "id": "9d97da53-c3d1-4eb9-8dc4-fb9f19b3c1e4",
   "metadata": {},
   "source": [
    "## Predicting from Thermobar"
   ]
  },
  {
   "cell_type": "code",
   "execution_count": null,
   "id": "73494585-c208-4af8-b672-03656fddc95e",
   "metadata": {},
   "outputs": [],
   "source": [
    "pwd"
   ]
  },
  {
   "cell_type": "code",
   "execution_count": null,
   "id": "3ae3cb35-d1b4-4ecd-88a0-ae9793912e12",
   "metadata": {},
   "outputs": [],
   "source": [
    "pd.read_excel(r'../../../Thermobar/TestLoad.xlsx')"
   ]
  },
  {
   "cell_type": "code",
   "execution_count": null,
   "id": "18ace3ef-25c2-429f-9851-68e0ba947e40",
   "metadata": {},
   "outputs": [],
   "source": [
    "load(open(r'../../../Thermobar/ETR_Press_Petrelli2020_Cpx_Only.pkl', 'rb'))"
   ]
  },
  {
   "cell_type": "code",
   "execution_count": null,
   "id": "4800a77f-5c14-4a9e-ab27-62a729e9ca4d",
   "metadata": {},
   "outputs": [],
   "source": [
    "\n",
    "P_func=pt.calculate_cpx_only_press(cpx_comps=Cpx_test, equationP=\"P_Petrelli2021_Cpx_only\")\n",
    "plt.plot(predicted_P, P_func, 'ok')\n",
    "P_func.head()"
   ]
  },
  {
   "cell_type": "code",
   "execution_count": null,
   "id": "02e218ab-202c-499e-bb21-5f05040284b3",
   "metadata": {},
   "outputs": [],
   "source": [
    "T_func=pt.calculate_cpx_only_temp(cpx_comps=Cpx_test,  equationT=\"T_Petrelli2021_Cpx_only\")\n",
    "plt.plot(predicted_T, T_func, 'ok')"
   ]
  },
  {
   "cell_type": "code",
   "execution_count": null,
   "id": "c6c686b7-c5d8-4b6d-a633-549bc687416b",
   "metadata": {},
   "outputs": [],
   "source": [
    "PT_func=pt.calculate_cpx_only_press_temp(cpx_comps=Cpx_test,  \n",
    "                                         equationT=\"T_Petrelli2021_Cpx_only\",\n",
    "                                        equationP=\"P_Petrelli2021_Cpx_only\")\n",
    "PT_func"
   ]
  },
  {
   "cell_type": "code",
   "execution_count": null,
   "id": "ca2de8cf-e4ab-4b2a-a734-ed96906b7042",
   "metadata": {},
   "outputs": [],
   "source": [
    "PT_func=pt.calculate_cpx_only_press_temp(cpx_comps=Cpx_test,  \n",
    "                                         equationT=\"T_Put2008_eq32d\",\n",
    "                                        equationP=\"P_Petrelli2021_Cpx_only\")\n",
    "PT_func"
   ]
  },
  {
   "cell_type": "code",
   "execution_count": null,
   "id": "334e952b-4d86-4b95-8a2e-7c502275cc4d",
   "metadata": {},
   "outputs": [],
   "source": []
  }
 ],
 "metadata": {
  "kernelspec": {
   "display_name": "Python 3",
   "language": "python",
   "name": "python3"
  },
  "language_info": {
   "codemirror_mode": {
    "name": "ipython",
    "version": 3
   },
   "file_extension": ".py",
   "mimetype": "text/x-python",
   "name": "python",
   "nbconvert_exporter": "python",
   "pygments_lexer": "ipython3",
   "version": "3.8.5"
  }
 },
 "nbformat": 4,
 "nbformat_minor": 5
}
