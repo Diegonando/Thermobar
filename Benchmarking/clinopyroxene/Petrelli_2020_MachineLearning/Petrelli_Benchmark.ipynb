{
 "cells": [
  {
   "cell_type": "markdown",
   "id": "811d0ba7-727c-47ee-abca-42bd6e9ef4f9",
   "metadata": {},
   "source": [
    "- This script compares results to those calculated using the supporting .py files from Petrelli"
   ]
  },
  {
   "cell_type": "code",
   "execution_count": 1,
   "id": "c619363f-875f-4c79-87a7-fc3e0126c61b",
   "metadata": {},
   "outputs": [],
   "source": [
    "import sys\n",
    "sys.path.append(\"../../..\")\n",
    "import Thermobar as pt\n",
    "import numpy as np\n",
    "import pandas as pd\n",
    "import matplotlib.pyplot as plt"
   ]
  },
  {
   "cell_type": "code",
   "execution_count": 2,
   "id": "e20e4fb0-43e6-44cf-91b2-9d9dcc28824b",
   "metadata": {},
   "outputs": [],
   "source": [
    "## Test dataset\n",
    "out_test=pt.import_excel('GlobalDataset_Final_rev9_TrainValidation.xlsx',\n",
    "                          sheet_name='Test_Thermobar_Format')\n",
    "\n",
    "my_input=out_test['my_input']\n",
    "Cpx_test=out_test['Cpxs']\n",
    "Liq_test=out_test['Liqs']"
   ]
  },
  {
   "cell_type": "code",
   "execution_count": 4,
   "id": "c359611d-1ced-4d2c-9460-cf010343ef18",
   "metadata": {},
   "outputs": [
    {
     "name": "stdout",
     "output_type": "stream",
     "text": [
      "loaded scaler properly!\n"
     ]
    },
    {
     "ename": "FileNotFoundError",
     "evalue": "[Errno 2] No such file or directory: 'ETR_Press_Petrelli2020_Cpx_Only.pkl'",
     "output_type": "error",
     "traceback": [
      "\u001b[1;31m---------------------------------------------------------------------------\u001b[0m",
      "\u001b[1;31mFileNotFoundError\u001b[0m                         Traceback (most recent call last)",
      "\u001b[1;32m<ipython-input-4-437f03867b20>\u001b[0m in \u001b[0;36m<module>\u001b[1;34m\u001b[0m\n\u001b[1;32m----> 1\u001b[1;33m \u001b[0mP_py\u001b[0m\u001b[1;33m=\u001b[0m\u001b[0mpt\u001b[0m\u001b[1;33m.\u001b[0m\u001b[0mcalculate_cpx_only_press\u001b[0m\u001b[1;33m(\u001b[0m\u001b[0mcpx_comps\u001b[0m\u001b[1;33m=\u001b[0m\u001b[0mCpx_test\u001b[0m\u001b[1;33m,\u001b[0m  \u001b[0mequationP\u001b[0m\u001b[1;33m=\u001b[0m\u001b[1;34m\"P_Petrelli2021_Cpx_only\"\u001b[0m\u001b[1;33m)\u001b[0m\u001b[1;33m\u001b[0m\u001b[1;33m\u001b[0m\u001b[0m\n\u001b[0m",
      "\u001b[1;32m~\\OneDrive - Oregon State University\\Postdoc\\PyMME\\MyBarometers\\Thermobar_outer\\Thermobar\\clinopyroxene_thermobarometry.py\u001b[0m in \u001b[0;36mcalculate_cpx_only_press\u001b[1;34m(cpx_comps, equationP, T, H2O_Liq)\u001b[0m\n\u001b[0;32m   1448\u001b[0m \u001b[1;33m\u001b[0m\u001b[0m\n\u001b[0;32m   1449\u001b[0m     \u001b[1;32mif\u001b[0m \u001b[0mequationP\u001b[0m \u001b[1;33m==\u001b[0m \u001b[1;34m\"P_Petrelli2021_Cpx_only\"\u001b[0m\u001b[1;33m:\u001b[0m\u001b[1;33m\u001b[0m\u001b[1;33m\u001b[0m\u001b[0m\n\u001b[1;32m-> 1450\u001b[1;33m         \u001b[0mP_kbar_np\u001b[0m\u001b[1;33m=\u001b[0m\u001b[0mP_Petrelli2021_Cpx_only\u001b[0m\u001b[1;33m(\u001b[0m\u001b[0mcpx_comps\u001b[0m\u001b[1;33m=\u001b[0m\u001b[0mcpx_comps\u001b[0m\u001b[1;33m)\u001b[0m\u001b[1;33m\u001b[0m\u001b[1;33m\u001b[0m\u001b[0m\n\u001b[0m\u001b[0;32m   1451\u001b[0m         \u001b[0mP_kbar\u001b[0m\u001b[1;33m=\u001b[0m\u001b[0mpd\u001b[0m\u001b[1;33m.\u001b[0m\u001b[0mSeries\u001b[0m\u001b[1;33m(\u001b[0m\u001b[0mP_kbar_np\u001b[0m\u001b[1;33m)\u001b[0m\u001b[1;33m\u001b[0m\u001b[1;33m\u001b[0m\u001b[0m\n\u001b[0;32m   1452\u001b[0m \u001b[1;33m\u001b[0m\u001b[0m\n",
      "\u001b[1;32m~\\OneDrive - Oregon State University\\Postdoc\\PyMME\\MyBarometers\\Thermobar_outer\\Thermobar\\clinopyroxene_thermobarometry.py\u001b[0m in \u001b[0;36mP_Petrelli2021_Cpx_only\u001b[1;34m(T, cpx_comps)\u001b[0m\n\u001b[0;32m   1296\u001b[0m \u001b[1;33m\u001b[0m\u001b[0m\n\u001b[0;32m   1297\u001b[0m \u001b[1;33m\u001b[0m\u001b[0m\n\u001b[1;32m-> 1298\u001b[1;33m     \u001b[0mETR_Press_P2020_Cpx_only\u001b[0m\u001b[1;33m=\u001b[0m\u001b[0mload\u001b[0m\u001b[1;33m(\u001b[0m\u001b[0mopen\u001b[0m\u001b[1;33m(\u001b[0m\u001b[1;34m'ETR_Press_Petrelli2020_Cpx_Only.pkl'\u001b[0m\u001b[1;33m,\u001b[0m \u001b[1;34m'rb'\u001b[0m\u001b[1;33m)\u001b[0m\u001b[1;33m)\u001b[0m\u001b[1;33m\u001b[0m\u001b[1;33m\u001b[0m\u001b[0m\n\u001b[0m\u001b[0;32m   1299\u001b[0m     \u001b[0mx_test_scaled\u001b[0m\u001b[1;33m=\u001b[0m\u001b[0mscaler_P2020_Cpx_only\u001b[0m\u001b[1;33m.\u001b[0m\u001b[0mtransform\u001b[0m\u001b[1;33m(\u001b[0m\u001b[0mx_test\u001b[0m\u001b[1;33m)\u001b[0m\u001b[1;33m\u001b[0m\u001b[1;33m\u001b[0m\u001b[0m\n\u001b[0;32m   1300\u001b[0m     \u001b[0mPred_T_K\u001b[0m\u001b[1;33m=\u001b[0m\u001b[0mETR_Press_P2020_Cpx_only\u001b[0m\u001b[1;33m.\u001b[0m\u001b[0mpredict\u001b[0m\u001b[1;33m(\u001b[0m\u001b[0mx_test_scaled\u001b[0m\u001b[1;33m)\u001b[0m\u001b[1;33m\u001b[0m\u001b[1;33m\u001b[0m\u001b[0m\n",
      "\u001b[1;31mFileNotFoundError\u001b[0m: [Errno 2] No such file or directory: 'ETR_Press_Petrelli2020_Cpx_Only.pkl'"
     ]
    }
   ],
   "source": [
    "P_py=pt.calculate_cpx_only_press(cpx_comps=Cpx_test,  equationP=\"P_Petrelli2021_Cpx_only\")"
   ]
  },
  {
   "cell_type": "markdown",
   "id": "e15639d6-dae7-4add-aa2b-aff020c2b302",
   "metadata": {},
   "source": [
    "## Cpx-liq Press"
   ]
  },
  {
   "cell_type": "code",
   "execution_count": 3,
   "id": "c82b5839-0a7d-4a98-b673-7e99166b6719",
   "metadata": {},
   "outputs": [
    {
     "ename": "FileNotFoundError",
     "evalue": "[Errno 2] No such file or directory: 'scaler_Petrelli2020_Cpx_Liq.pkl'",
     "output_type": "error",
     "traceback": [
      "\u001b[1;31m---------------------------------------------------------------------------\u001b[0m",
      "\u001b[1;31mFileNotFoundError\u001b[0m                         Traceback (most recent call last)",
      "\u001b[1;32m<ipython-input-3-727ecaa385b1>\u001b[0m in \u001b[0;36m<module>\u001b[1;34m\u001b[0m\n\u001b[0;32m      1\u001b[0m \u001b[1;31m# Uses Temp from Talk1\u001b[0m\u001b[1;33m\u001b[0m\u001b[1;33m\u001b[0m\u001b[1;33m\u001b[0m\u001b[0m\n\u001b[0;32m      2\u001b[0m \u001b[0mP_Put\u001b[0m\u001b[1;33m=\u001b[0m\u001b[0mmy_input\u001b[0m\u001b[1;33m[\u001b[0m\u001b[1;34m'Cpx_Liq_Pressure_from_py'\u001b[0m\u001b[1;33m]\u001b[0m\u001b[1;33m\u001b[0m\u001b[1;33m\u001b[0m\u001b[0m\n\u001b[1;32m----> 3\u001b[1;33m \u001b[0mP_py\u001b[0m\u001b[1;33m=\u001b[0m\u001b[0mpt\u001b[0m\u001b[1;33m.\u001b[0m\u001b[0mcalculate_cpx_liq_press\u001b[0m\u001b[1;33m(\u001b[0m\u001b[0mcpx_comps\u001b[0m\u001b[1;33m=\u001b[0m\u001b[0mCpx_test\u001b[0m\u001b[1;33m,\u001b[0m \u001b[0mliq_comps\u001b[0m\u001b[1;33m=\u001b[0m\u001b[0mLiq_test\u001b[0m\u001b[1;33m,\u001b[0m \u001b[0mequationP\u001b[0m\u001b[1;33m=\u001b[0m\u001b[1;34m\"P_Petrelli2021_Cpx_Liq\"\u001b[0m\u001b[1;33m)\u001b[0m\u001b[1;33m\u001b[0m\u001b[1;33m\u001b[0m\u001b[0m\n\u001b[0m\u001b[0;32m      4\u001b[0m \u001b[0mfig\u001b[0m\u001b[1;33m,\u001b[0m \u001b[1;33m(\u001b[0m\u001b[1;33m(\u001b[0m\u001b[0max1\u001b[0m\u001b[1;33m,\u001b[0m \u001b[0max2\u001b[0m\u001b[1;33m)\u001b[0m\u001b[1;33m)\u001b[0m \u001b[1;33m=\u001b[0m \u001b[0mplt\u001b[0m\u001b[1;33m.\u001b[0m\u001b[0msubplots\u001b[0m\u001b[1;33m(\u001b[0m\u001b[1;36m1\u001b[0m\u001b[1;33m,\u001b[0m \u001b[1;36m2\u001b[0m\u001b[1;33m,\u001b[0m \u001b[0mfigsize\u001b[0m\u001b[1;33m=\u001b[0m\u001b[1;33m(\u001b[0m\u001b[1;36m12\u001b[0m\u001b[1;33m,\u001b[0m \u001b[1;36m5\u001b[0m\u001b[1;33m)\u001b[0m\u001b[1;33m)\u001b[0m\u001b[1;33m\u001b[0m\u001b[1;33m\u001b[0m\u001b[0m\n\u001b[0;32m      5\u001b[0m \u001b[1;31m#plotting 1:1 line\u001b[0m\u001b[1;33m\u001b[0m\u001b[1;33m\u001b[0m\u001b[1;33m\u001b[0m\u001b[0m\n",
      "\u001b[1;32m~\\OneDrive - Oregon State University\\Postdoc\\PyMME\\MyBarometers\\Thermobar_outer\\Thermobar\\clinopyroxene_thermobarometry.py\u001b[0m in \u001b[0;36mcalculate_cpx_liq_press\u001b[1;34m(equationP, cpx_comps, liq_comps, meltmatch, T, eq_tests, Fe3Fet_Liq, H2O_Liq, sigma, KdErr)\u001b[0m\n\u001b[0;32m    448\u001b[0m     \u001b[1;31m# Easiest to treat Machine Learning ones differently\u001b[0m\u001b[1;33m\u001b[0m\u001b[1;33m\u001b[0m\u001b[1;33m\u001b[0m\u001b[0m\n\u001b[0;32m    449\u001b[0m     \u001b[1;32mif\u001b[0m \u001b[0mequationP\u001b[0m \u001b[1;33m==\u001b[0m \u001b[1;34m\"P_Petrelli2021_Cpx_Liq\"\u001b[0m\u001b[1;33m:\u001b[0m\u001b[1;33m\u001b[0m\u001b[1;33m\u001b[0m\u001b[0m\n\u001b[1;32m--> 450\u001b[1;33m         \u001b[0mP_kbar_np\u001b[0m\u001b[1;33m=\u001b[0m\u001b[0mP_Petrelli2021_Cpx_Liq\u001b[0m\u001b[1;33m(\u001b[0m\u001b[0mliq_comps\u001b[0m\u001b[1;33m=\u001b[0m\u001b[0mliq_comps\u001b[0m\u001b[1;33m,\u001b[0m \u001b[0mcpx_comps\u001b[0m\u001b[1;33m=\u001b[0m\u001b[0mcpx_comps\u001b[0m\u001b[1;33m)\u001b[0m\u001b[1;33m\u001b[0m\u001b[1;33m\u001b[0m\u001b[0m\n\u001b[0m\u001b[0;32m    451\u001b[0m         \u001b[0mP_kbar\u001b[0m\u001b[1;33m=\u001b[0m\u001b[0mpd\u001b[0m\u001b[1;33m.\u001b[0m\u001b[0mSeries\u001b[0m\u001b[1;33m(\u001b[0m\u001b[0mP_kbar_np\u001b[0m\u001b[1;33m)\u001b[0m\u001b[1;33m\u001b[0m\u001b[1;33m\u001b[0m\u001b[0m\n\u001b[0;32m    452\u001b[0m \u001b[1;33m\u001b[0m\u001b[0m\n",
      "\u001b[1;32m~\\OneDrive - Oregon State University\\Postdoc\\PyMME\\MyBarometers\\Thermobar_outer\\Thermobar\\clinopyroxene_thermobarometry.py\u001b[0m in \u001b[0;36mP_Petrelli2021_Cpx_Liq\u001b[1;34m(T, cpx_comps, liq_comps)\u001b[0m\n\u001b[0;32m    171\u001b[0m     \u001b[0mcpx_liq_combo_test\u001b[0m\u001b[1;33m=\u001b[0m\u001b[0mpd\u001b[0m\u001b[1;33m.\u001b[0m\u001b[0mconcat\u001b[0m\u001b[1;33m(\u001b[0m\u001b[1;33m[\u001b[0m\u001b[0mcpx_test_noID_noT\u001b[0m\u001b[1;33m,\u001b[0m \u001b[0mliq_test_noID_noT\u001b[0m\u001b[1;33m]\u001b[0m\u001b[1;33m,\u001b[0m \u001b[0maxis\u001b[0m\u001b[1;33m=\u001b[0m\u001b[1;36m1\u001b[0m\u001b[1;33m)\u001b[0m\u001b[1;33m\u001b[0m\u001b[1;33m\u001b[0m\u001b[0m\n\u001b[0;32m    172\u001b[0m     \u001b[0mx_test\u001b[0m\u001b[1;33m=\u001b[0m\u001b[0mcpx_liq_combo_test\u001b[0m\u001b[1;33m.\u001b[0m\u001b[0mvalues\u001b[0m\u001b[1;33m\u001b[0m\u001b[1;33m\u001b[0m\u001b[0m\n\u001b[1;32m--> 173\u001b[1;33m     \u001b[0mscaler_P2020_Cpx_Liq\u001b[0m\u001b[1;33m=\u001b[0m\u001b[0mload\u001b[0m\u001b[1;33m(\u001b[0m\u001b[0mopen\u001b[0m\u001b[1;33m(\u001b[0m\u001b[1;34m'scaler_Petrelli2020_Cpx_Liq.pkl'\u001b[0m\u001b[1;33m,\u001b[0m \u001b[1;34m'rb'\u001b[0m\u001b[1;33m)\u001b[0m\u001b[1;33m)\u001b[0m\u001b[1;33m\u001b[0m\u001b[1;33m\u001b[0m\u001b[0m\n\u001b[0m\u001b[0;32m    174\u001b[0m     \u001b[0mETR_Press_P2020_Cpx_Liq\u001b[0m\u001b[1;33m=\u001b[0m\u001b[0mload\u001b[0m\u001b[1;33m(\u001b[0m\u001b[0mopen\u001b[0m\u001b[1;33m(\u001b[0m\u001b[1;34m'ETR_Press_Petrelli2020_Cpx_Liq.pkl'\u001b[0m\u001b[1;33m,\u001b[0m \u001b[1;34m'rb'\u001b[0m\u001b[1;33m)\u001b[0m\u001b[1;33m)\u001b[0m\u001b[1;33m\u001b[0m\u001b[1;33m\u001b[0m\u001b[0m\n\u001b[0;32m    175\u001b[0m     \u001b[0mx_test_scaled\u001b[0m\u001b[1;33m=\u001b[0m\u001b[0mscaler_P2020_Cpx_Liq\u001b[0m\u001b[1;33m.\u001b[0m\u001b[0mtransform\u001b[0m\u001b[1;33m(\u001b[0m\u001b[0mx_test\u001b[0m\u001b[1;33m)\u001b[0m\u001b[1;33m\u001b[0m\u001b[1;33m\u001b[0m\u001b[0m\n",
      "\u001b[1;31mFileNotFoundError\u001b[0m: [Errno 2] No such file or directory: 'scaler_Petrelli2020_Cpx_Liq.pkl'"
     ]
    }
   ],
   "source": [
    "# Uses Temp from Talk1\n",
    "P_Put=my_input['Cpx_Liq_Pressure_from_py']\n",
    "P_py=pt.calculate_cpx_liq_press(cpx_comps=Cpx_test, liq_comps=Liq_test, equationP=\"P_Petrelli2021_Cpx_Liq\")\n",
    "fig, ((ax1, ax2)) = plt.subplots(1, 2, figsize=(12, 5))\n",
    "#plotting 1:1 line\n",
    "ax1.plot([np.min(P_Put), np.max(P_Put)], [np.min(P_Put), np.max(P_Put)], '-r')\n",
    "ax1.plot(P_py, P_Put, 'ok')\n",
    "ax1.set_xlabel('P Python (kbar)')\n",
    "ax1.set_ylabel('P Put (kbar)')\n",
    "ax2.plot(P_py, 1000*(P_py-P_Put), 'ok')\n",
    "ax2.set_ylabel('P Python - P Put (bars)')\n",
    "ax2.set_xlabel('P Python (kbar)')\n",
    "plt.subplots_adjust(left=0.125, bottom=None, right=0.9, top=None, wspace=0.5, hspace=None)"
   ]
  },
  {
   "cell_type": "markdown",
   "id": "c026817d-d4ec-4538-b128-69aac6a9b8bf",
   "metadata": {},
   "source": [
    "## Cpx-Liq temp"
   ]
  },
  {
   "cell_type": "code",
   "execution_count": null,
   "id": "6330f405-1b2f-4410-abb5-dd3634496d4d",
   "metadata": {},
   "outputs": [],
   "source": [
    "T_Put=my_input['Cpx_Liq_Temp_from_py'] \n",
    "T_py=pt.calculate_cpx_liq_temp(cpx_comps=Cpx_test, liq_comps=Liq_test, equationT=\"T_Petrelli2021_Cpx_Liq\")\n",
    "fig, ((ax1, ax2)) = plt.subplots(1, 2, figsize=(12, 5))\n",
    "#plotting 1:1 line\n",
    "ax1.plot([np.min(T_Put), np.max(T_Put)], [np.min(T_Put), np.max(T_Put)], '-r')\n",
    "ax1.plot(T_py, T_Put, 'ok')\n",
    "ax1.set_xlabel('T Python (K)')\n",
    "ax1.set_ylabel('T Put (K)')\n",
    "ax2.plot(T_py, T_py-T_Put, 'ok')\n",
    "ax2.set_ylabel('T Python - T Put (K)')\n",
    "ax2.set_xlabel('T Python (K)')\n",
    "plt.subplots_adjust(left=0.125, bottom=None, right=0.9, top=None, wspace=0.5, hspace=None)\n"
   ]
  },
  {
   "cell_type": "markdown",
   "id": "4d9c03ad-f9ba-41e5-8234-b1198ffb3b00",
   "metadata": {},
   "source": [
    "## Cpx-only Pressure"
   ]
  },
  {
   "cell_type": "code",
   "execution_count": null,
   "id": "e40bb81c-feee-4c43-8d03-7d58dee13ecd",
   "metadata": {},
   "outputs": [],
   "source": [
    "# Uses Temp from Talk1\n",
    "P_Put=my_input['Cpx_only_Pressure_from_py']\n",
    "P_py=pt.calculate_cpx_only_press(cpx_comps=Cpx_test,  equationP=\"P_Petrelli2021_Cpx_only\")\n",
    "fig, ((ax1, ax2)) = plt.subplots(1, 2, figsize=(12, 5))\n",
    "#plotting 1:1 line\n",
    "ax1.plot([np.min(P_Put), np.max(P_Put)], [np.min(P_Put), np.max(P_Put)], '-r')\n",
    "ax1.plot(P_py, P_Put, 'ok')\n",
    "ax1.set_xlabel('P Python (kbar)')\n",
    "ax1.set_ylabel('P Put (kbar)')\n",
    "ax2.plot(P_py, 1000*(P_py-P_Put), 'ok')\n",
    "ax2.set_ylabel('P Python - P Put (bars)')\n",
    "ax2.set_xlabel('P Python (kbar)')\n",
    "plt.subplots_adjust(left=0.125, bottom=None, right=0.9, top=None, wspace=0.5, hspace=None)"
   ]
  },
  {
   "cell_type": "markdown",
   "id": "0c29580b-0b8e-40f2-958e-65614371c7dd",
   "metadata": {},
   "source": [
    "# Cpx-only Temperature"
   ]
  },
  {
   "cell_type": "code",
   "execution_count": null,
   "id": "246a94e8-9719-4f11-815b-472fc7d00c9b",
   "metadata": {},
   "outputs": [],
   "source": [
    "pt.calculate_cpx_only_temp(cpx_comps=Cpx_test,  equationT=\"T_Petrelli2021_Cpx_only\")"
   ]
  },
  {
   "cell_type": "code",
   "execution_count": null,
   "id": "28f3c499-b46d-429a-a9b7-ede911756ab4",
   "metadata": {},
   "outputs": [],
   "source": [
    "T_Put=my_input['Masotta2013_Talk1'] \n",
    "T_py=pt.calculate_cpx_liq_temp(cpx_comps=myCPXs1, liq_comps=myLiquids1, equationT=\"T_Mas2013_eqTalk1\", P=my_input['T_K'])\n",
    "fig, ((ax1, ax2)) = plt.subplots(1, 2, figsize=(12, 5))\n",
    "#plotting 1:1 line\n",
    "ax1.plot([np.min(T_Put), np.max(T_Put)], [np.min(T_Put), np.max(T_Put)], '-r')\n",
    "ax1.plot(T_py, T_Put, 'ok')\n",
    "ax1.set_xlabel('T Python (K)')\n",
    "ax1.set_ylabel('T Put (K)')\n",
    "ax2.plot(T_py, T_py-T_Put, 'ok')\n",
    "ax2.set_ylabel('T Python - T Put (K)')\n",
    "ax2.set_xlabel('T Python (K)')\n",
    "plt.subplots_adjust(left=0.125, bottom=None, right=0.9, top=None, wspace=0.5, hspace=None)\n"
   ]
  }
 ],
 "metadata": {
  "kernelspec": {
   "display_name": "Python 3",
   "language": "python",
   "name": "python3"
  },
  "language_info": {
   "codemirror_mode": {
    "name": "ipython",
    "version": 3
   },
   "file_extension": ".py",
   "mimetype": "text/x-python",
   "name": "python",
   "nbconvert_exporter": "python",
   "pygments_lexer": "ipython3",
   "version": "3.8.5"
  }
 },
 "nbformat": 4,
 "nbformat_minor": 5
}
