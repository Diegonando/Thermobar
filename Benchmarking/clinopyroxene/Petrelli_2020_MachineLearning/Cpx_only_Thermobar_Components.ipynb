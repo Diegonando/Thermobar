{
 "cells": [
  {
   "cell_type": "code",
   "execution_count": 1,
   "id": "d74fa112-c673-4162-8ea5-d7d88ee27228",
   "metadata": {},
   "outputs": [],
   "source": [
    "import numpy as np\n",
    "import pandas as pd\n",
    "import matplotlib.pyplot as plt\n",
    "from sklearn.preprocessing import StandardScaler\n",
    "from sklearn.ensemble import ExtraTreesRegressor\n",
    "from sklearn.metrics import mean_squared_error \n",
    "from sklearn.metrics import r2_score\n",
    "import scipy.cluster.hierarchy as shc\n",
    "from sklearn.cluster import AgglomerativeClustering\n",
    "from sklearn.model_selection import cross_val_score\n",
    "from sklearn.model_selection import RepeatedStratifiedKFold\n",
    "from sklearn.ensemble import ExtraTreesClassifier\n",
    "from sklearn.ensemble import GradientBoostingRegressor\n",
    "\n",
    "%matplotlib inline\n",
    "from sklearn.linear_model import LinearRegression\n",
    "from sklearn.metrics import r2_score\n",
    "from statsmodels.stats.multicomp import pairwise_tukeyhsd\n",
    "from scipy import stats\n",
    "import warnings as w\n",
    "\n",
    "import Thermobar as pt"
   ]
  },
  {
   "cell_type": "code",
   "execution_count": 14,
   "id": "cdfcc0df-8f41-4002-bfdd-b23725dd483f",
   "metadata": {},
   "outputs": [],
   "source": [
    "out_train=pt.import_excel('GlobalDataset_Final_rev9_TrainValidation.xlsx',\n",
    "                          sheet_name='Train_Thermobar_Format')\n",
    "out_train_input=out_train['my_input']\n",
    "Cpx_train=out_train['Cpxs']\n",
    "Cpx_compnts_train=pt.calculate_clinopyroxene_components(cpx_comps=Cpx_train)\n",
    "Cpx_train_noID_noT=pd.DataFrame(data={'MgO_Cpx_cat_6ox': Cpx_compnts_train['MgO_Cpx_cat_6ox'],\n",
    "                                      'Na2O_Cpx_cat_6ox': Cpx_compnts_train['Na2O_Cpx_cat_6ox'],\n",
    "                                      'Al_VI_cat_6ox': Cpx_compnts_train['Al_VI_cat_6ox'],\n",
    "                                       'DiHd_2003': Cpx_compnts_train['DiHd_2003'],\n",
    "                                      'EnFs': Cpx_compnts_train['EnFs'],\n",
    "                                      'Jd': Cpx_compnts_train['Jd'],\n",
    "                                      'CaO_Cpx_cat_6ox': Cpx_compnts_train['CaO_Cpx_cat_6ox'],\n",
    "                                      'FeOt_Cpx_cat_6ox': Cpx_compnts_train['FeOt_Cpx_cat_6ox'],\n",
    "                                        'Cr2O3_Cpx_cat_6ox': Cpx_compnts_train['Cr2O3_Cpx_cat_6ox'],\n",
    "                                       'TiO2_Cpx_cat_6ox': Cpx_compnts_train['TiO2_Cpx_cat_6ox'],\n",
    "                                       'MnO_Cpx_cat_6ox': Cpx_compnts_train['MnO_Cpx_cat_6ox'],\n",
    "                                     })\n",
    "\n",
    "x_train=Cpx_train_noID_noT.values\n",
    "y_train_T=out_train_input['T_K']\n",
    "y_train_P=out_train_input['P_GPa']*10"
   ]
  },
  {
   "cell_type": "code",
   "execution_count": 15,
   "id": "a5c74e5c-a1a2-482a-b278-d552e08c4922",
   "metadata": {},
   "outputs": [],
   "source": [
    "## Test dataset\n",
    "out_test=pt.import_excel('GlobalDataset_Final_rev9_TrainValidation.xlsx',\n",
    "                          sheet_name='Test_Thermobar_Format')\n",
    "\n",
    "out_test_input=out_test['my_input']\n",
    "Cpx_test=out_test['Cpxs']\n",
    "Cpx_compnts_test=pt.calculate_clinopyroxene_components(cpx_comps=Cpx_test)\n",
    "Cpx_test_noID_noT=pd.DataFrame(data={'MgO_Cpx_cat_6ox': Cpx_compnts_test['MgO_Cpx_cat_6ox'],\n",
    "                                      'Na2O_Cpx_cat_6ox': Cpx_compnts_test['Na2O_Cpx_cat_6ox'],\n",
    "                                      'Al_VI_cat_6ox': Cpx_compnts_test['Al_VI_cat_6ox'],\n",
    "                                       'DiHd_2003': Cpx_compnts_test['DiHd_2003'],\n",
    "                                      'EnFs': Cpx_compnts_test['EnFs'],\n",
    "                                                                           'Jd': Cpx_compnts_test['Jd'],\n",
    "                                      'CaO_Cpx_cat_6ox': Cpx_compnts_test['CaO_Cpx_cat_6ox'],\n",
    "                                      'FeOt_Cpx_cat_6ox': Cpx_compnts_test['FeOt_Cpx_cat_6ox'],\n",
    "                                        'Cr2O3_Cpx_cat_6ox': Cpx_compnts_test['Cr2O3_Cpx_cat_6ox'],\n",
    "                                       'TiO2_Cpx_cat_6ox': Cpx_compnts_test['TiO2_Cpx_cat_6ox'],\n",
    "                                       'MnO_Cpx_cat_6ox': Cpx_compnts_test['MnO_Cpx_cat_6ox'],\n",
    "                                     })\n",
    "x_test=Cpx_test_noID_noT.values\n",
    "y_test_T=out_test_input['T_K']\n",
    "y_test_P=out_test_input['P_GPa']*10"
   ]
  },
  {
   "cell_type": "markdown",
   "id": "90b62a56-6fcb-464a-8ed9-5eb540e685e1",
   "metadata": {},
   "source": [
    "## What proportion have Cr data"
   ]
  },
  {
   "cell_type": "code",
   "execution_count": 16,
   "id": "2dca8c5c-89fe-420b-8bfc-fb5c2e15c2aa",
   "metadata": {},
   "outputs": [
    {
     "data": {
      "text/plain": [
       "0.6486486486486487"
      ]
     },
     "execution_count": 16,
     "metadata": {},
     "output_type": "execute_result"
    }
   ],
   "source": [
    "sum(out_test_input['Cr2O3_Cpx']==0)/sum(out_test_input['Cr2O3_Cpx']>0)"
   ]
  },
  {
   "cell_type": "code",
   "execution_count": 17,
   "id": "2d97b32e-e875-4e0b-b416-9714dbae2075",
   "metadata": {},
   "outputs": [
    {
     "data": {
      "text/plain": [
       "0.09490740740740741"
      ]
     },
     "execution_count": 17,
     "metadata": {},
     "output_type": "execute_result"
    }
   ],
   "source": [
    "sum(out_train_input['Cr2O3_Cpx']==0)/sum(out_train_input['Cr2O3_Cpx']>0)"
   ]
  },
  {
   "cell_type": "code",
   "execution_count": 25,
   "id": "c19a56bc-6ed7-46ad-bfff-df81c3754e66",
   "metadata": {},
   "outputs": [
    {
     "data": {
      "text/plain": [
       "ExtraTreesRegressor(max_features=11, n_estimators=450, random_state=120)"
      ]
     },
     "execution_count": 25,
     "metadata": {},
     "output_type": "execute_result"
    }
   ],
   "source": [
    "# Scaling\n",
    "scaler = StandardScaler().fit(x_train)\n",
    "x_train_scaled = scaler.transform(x_train)\n",
    "x_test_scaled = scaler.transform(x_test)\n",
    "\n",
    "# Define the regressor, in our case the Extra Tree Regressor\n",
    "regr_T = ExtraTreesRegressor(n_estimators=450, criterion='mse', \n",
    "                             max_features=11, random_state=120) # random_state fixed for reproducibility\n",
    "\n",
    "# Define the regressor, in our case the Extra Tree Regressor\n",
    "regr_P = ExtraTreesRegressor(n_estimators=450, criterion='mse', max_features=11, random_state=120) # random_state fixed for reproducibility\n",
    "\n",
    "# Train the model\n",
    "regr_T.fit(x_train_scaled, y_train_T.ravel())\n",
    "regr_P.fit(x_train_scaled, y_train_P.ravel())"
   ]
  },
  {
   "cell_type": "code",
   "execution_count": 26,
   "id": "1412f092-5e2a-4f1d-86ca-8c8cb046deba",
   "metadata": {},
   "outputs": [
    {
     "data": {
      "text/plain": [
       "StandardScaler()"
      ]
     },
     "execution_count": 26,
     "metadata": {},
     "output_type": "execute_result"
    }
   ],
   "source": [
    "scaler"
   ]
  },
  {
   "cell_type": "markdown",
   "id": "9707dcf8-b628-4139-abf1-8a594c749657",
   "metadata": {},
   "source": [
    "## Predicting the test data for temp"
   ]
  },
  {
   "cell_type": "code",
   "execution_count": 27,
   "id": "04772250-07a7-4e27-93fe-7b2ca0a5d223",
   "metadata": {},
   "outputs": [
    {
     "data": {
      "text/plain": [
       "'RMSE= 93.92436'"
      ]
     },
     "execution_count": 27,
     "metadata": {},
     "output_type": "execute_result"
    },
    {
     "data": {
      "image/png": "[encoded data removed]",
      "text/plain": [
       "<Figure size 432x288 with 1 Axes>"
      ]
     },
     "metadata": {
      "needs_background": "light"
     },
     "output_type": "display_data"
    }
   ],
   "source": [
    "predicted_T=regr_T.predict(x_test_scaled)\n",
    "plt.plot( y_test_T, predicted_T, 'ok', mfc='darkred')\n",
    "plt.plot([1100, 1800], [1100, 1800], '-r')\n",
    "Stats_T=pt.calculate_R2_np(y_test_T.values, predicted_T)\n",
    "Stats_T['R2']\n",
    "Stats_T['RMSE']"
   ]
  },
  {
   "cell_type": "markdown",
   "id": "2e576515-9616-460a-bc32-c4dcaf3c1f03",
   "metadata": {},
   "source": [
    "## Predicting the test data for Press"
   ]
  },
  {
   "cell_type": "code",
   "execution_count": 28,
   "id": "57e58035-a377-4d1f-b2ea-3636204389ad",
   "metadata": {},
   "outputs": [
    {
     "data": {
      "text/plain": [
       "'RMSE= 3.32161'"
      ]
     },
     "execution_count": 28,
     "metadata": {},
     "output_type": "execute_result"
    },
    {
     "data": {
      "image/png": "[encoded data removed]",
      "text/plain": [
       "<Figure size 432x288 with 1 Axes>"
      ]
     },
     "metadata": {
      "needs_background": "light"
     },
     "output_type": "display_data"
    }
   ],
   "source": [
    "predicted_P=regr_P.predict(x_test_scaled)\n",
    "plt.plot( y_test_P, predicted_P, 'ok', mfc='darkred')\n",
    "plt.plot([0, 30], [0, 30], '-r')\n",
    "Stats_P=pt.calculate_R2_np(y_test_P.values, predicted_P)\n",
    "Stats_P['R2']\n",
    "Stats_P['RMSE']"
   ]
  },
  {
   "attachments": {
    "a7ca4528-c066-4b8d-ba91-6a1c3d3be3c4.png": {
     "image/png": "[encoded data removed]"
    }
   },
   "cell_type": "markdown",
   "id": "62d18976-2db3-44c0-8840-3c98db718581",
   "metadata": {},
   "source": [
    "![image.png](attachment:a7ca4528-c066-4b8d-ba91-6a1c3d3be3c4.png)"
   ]
  },
  {
   "cell_type": "code",
   "execution_count": 29,
   "id": "8a0b0be9-47f2-4d7c-93cd-a36a3aa41b38",
   "metadata": {},
   "outputs": [
    {
     "data": {
      "text/plain": [
       "StandardScaler()"
      ]
     },
     "execution_count": 29,
     "metadata": {},
     "output_type": "execute_result"
    }
   ],
   "source": [
    "scaler"
   ]
  },
  {
   "cell_type": "code",
   "execution_count": 30,
   "id": "42afd1ab-265f-480c-a126-06d9221b4a6a",
   "metadata": {},
   "outputs": [],
   "source": [
    "from pickle import dump\n",
    "import pickle\n",
    "dump(scaler, open('scaler_Petrelli2020_Cpx_Only_Comp.pkl', 'wb'))\n",
    "dump(regr_P, open('ETR_Press_Petrelli2020_Cpx_Only_Comp.pkl', 'wb'))\n",
    "dump(regr_T, open('ETR_Temp_Petrelli2020_Cpx_Only_Comp.pkl', 'wb'))\n"
   ]
  },
  {
   "cell_type": "code",
   "execution_count": 31,
   "id": "bf37aaff-dbc6-4266-b2ad-b0cd18afa397",
   "metadata": {},
   "outputs": [],
   "source": [
    "from pickle import load\n",
    "scaler_P2020_Cpx_Only=load(open('scaler_Petrelli2020_Cpx_Only_Comp.pkl', 'rb'))\n",
    "ETR_Temp_P2020_Cpx_Only=load(open('ETR_Temp_Petrelli2020_cpx_Only_Comp.pkl', 'rb'))\n",
    "ETR_Press_P2020_Cpx_Only=load(open('ETR_Press_Petrelli2020_cpx_Only_Comp.pkl', 'rb'))"
   ]
  },
  {
   "cell_type": "markdown",
   "id": "9d97da53-c3d1-4eb9-8dc4-fb9f19b3c1e4",
   "metadata": {},
   "source": [
    "## Predicting from Thermobar"
   ]
  },
  {
   "cell_type": "code",
   "execution_count": 13,
   "id": "3ae3cb35-d1b4-4ecd-88a0-ae9793912e12",
   "metadata": {},
   "outputs": [
    {
     "data": {
      "text/html": [
       "<div>\n",
       "<style scoped>\n",
       "    .dataframe tbody tr th:only-of-type {\n",
       "        vertical-align: middle;\n",
       "    }\n",
       "\n",
       "    .dataframe tbody tr th {\n",
       "        vertical-align: top;\n",
       "    }\n",
       "\n",
       "    .dataframe thead th {\n",
       "        text-align: right;\n",
       "    }\n",
       "</style>\n",
       "<table border=\"1\" class=\"dataframe\">\n",
       "  <thead>\n",
       "    <tr style=\"text-align: right;\">\n",
       "      <th></th>\n",
       "      <th>Unnamed: 0</th>\n",
       "      <th>Unnamed: 1</th>\n",
       "      <th>Unnamed: 2</th>\n",
       "    </tr>\n",
       "  </thead>\n",
       "  <tbody>\n",
       "    <tr>\n",
       "      <th>0</th>\n",
       "      <td>NaN</td>\n",
       "      <td>NaN</td>\n",
       "      <td>NaN</td>\n",
       "    </tr>\n",
       "    <tr>\n",
       "      <th>1</th>\n",
       "      <td>NaN</td>\n",
       "      <td>NaN</td>\n",
       "      <td>5.0</td>\n",
       "    </tr>\n",
       "    <tr>\n",
       "      <th>2</th>\n",
       "      <td>NaN</td>\n",
       "      <td>NaN</td>\n",
       "      <td>1.0</td>\n",
       "    </tr>\n",
       "  </tbody>\n",
       "</table>\n",
       "</div>"
      ],
      "text/plain": [
       "   Unnamed: 0  Unnamed: 1  Unnamed: 2\n",
       "0         NaN         NaN         NaN\n",
       "1         NaN         NaN         5.0\n",
       "2         NaN         NaN         1.0"
      ]
     },
     "execution_count": 13,
     "metadata": {},
     "output_type": "execute_result"
    }
   ],
   "source": [
    "pd.read_excel(r'../../../Thermobar/TestLoad.xlsx')"
   ]
  },
  {
   "cell_type": "code",
   "execution_count": 14,
   "id": "18ace3ef-25c2-429f-9851-68e0ba947e40",
   "metadata": {},
   "outputs": [
    {
     "ename": "TypeError",
     "evalue": "(\"(open(r'../../../Thermobar/ETR_Press_Petrelli2020_Cpx_Only.pkl', 'rb')) is neither a string nor a macro.\", <_io.BufferedReader name='../../../Thermobar/ETR_Press_Petrelli2020_Cpx_Only.pkl'>)",
     "output_type": "error",
     "traceback": [
      "\u001b[1;31m---------------------------------------------------------------------------\u001b[0m",
      "\u001b[1;31mTypeError\u001b[0m                                 Traceback (most recent call last)",
      "\u001b[1;32m<ipython-input-14-c42386636111>\u001b[0m in \u001b[0;36m<module>\u001b[1;34m\u001b[0m\n\u001b[1;32m----> 1\u001b[1;33m \u001b[0mget_ipython\u001b[0m\u001b[1;33m(\u001b[0m\u001b[1;33m)\u001b[0m\u001b[1;33m.\u001b[0m\u001b[0mrun_line_magic\u001b[0m\u001b[1;33m(\u001b[0m\u001b[1;34m'load'\u001b[0m\u001b[1;33m,\u001b[0m \u001b[1;34m\"(open(r'../../../Thermobar/ETR_Press_Petrelli2020_Cpx_Only.pkl', 'rb'))\"\u001b[0m\u001b[1;33m)\u001b[0m\u001b[1;33m\u001b[0m\u001b[1;33m\u001b[0m\u001b[0m\n\u001b[0m",
      "\u001b[1;32m~\\anaconda3\\lib\\site-packages\\IPython\\core\\interactiveshell.py\u001b[0m in \u001b[0;36mrun_line_magic\u001b[1;34m(self, magic_name, line, _stack_depth)\u001b[0m\n\u001b[0;32m   2342\u001b[0m                 \u001b[0mkwargs\u001b[0m\u001b[1;33m[\u001b[0m\u001b[1;34m'local_ns'\u001b[0m\u001b[1;33m]\u001b[0m \u001b[1;33m=\u001b[0m \u001b[0mself\u001b[0m\u001b[1;33m.\u001b[0m\u001b[0mget_local_scope\u001b[0m\u001b[1;33m(\u001b[0m\u001b[0mstack_depth\u001b[0m\u001b[1;33m)\u001b[0m\u001b[1;33m\u001b[0m\u001b[1;33m\u001b[0m\u001b[0m\n\u001b[0;32m   2343\u001b[0m             \u001b[1;32mwith\u001b[0m \u001b[0mself\u001b[0m\u001b[1;33m.\u001b[0m\u001b[0mbuiltin_trap\u001b[0m\u001b[1;33m:\u001b[0m\u001b[1;33m\u001b[0m\u001b[1;33m\u001b[0m\u001b[0m\n\u001b[1;32m-> 2344\u001b[1;33m                 \u001b[0mresult\u001b[0m \u001b[1;33m=\u001b[0m \u001b[0mfn\u001b[0m\u001b[1;33m(\u001b[0m\u001b[1;33m*\u001b[0m\u001b[0margs\u001b[0m\u001b[1;33m,\u001b[0m \u001b[1;33m**\u001b[0m\u001b[0mkwargs\u001b[0m\u001b[1;33m)\u001b[0m\u001b[1;33m\u001b[0m\u001b[1;33m\u001b[0m\u001b[0m\n\u001b[0m\u001b[0;32m   2345\u001b[0m             \u001b[1;32mreturn\u001b[0m \u001b[0mresult\u001b[0m\u001b[1;33m\u001b[0m\u001b[1;33m\u001b[0m\u001b[0m\n\u001b[0;32m   2346\u001b[0m \u001b[1;33m\u001b[0m\u001b[0m\n",
      "\u001b[1;32m~\\anaconda3\\lib\\site-packages\\decorator.py\u001b[0m in \u001b[0;36mfun\u001b[1;34m(*args, **kw)\u001b[0m\n\u001b[0;32m    230\u001b[0m             \u001b[1;32mif\u001b[0m \u001b[1;32mnot\u001b[0m \u001b[0mkwsyntax\u001b[0m\u001b[1;33m:\u001b[0m\u001b[1;33m\u001b[0m\u001b[1;33m\u001b[0m\u001b[0m\n\u001b[0;32m    231\u001b[0m                 \u001b[0margs\u001b[0m\u001b[1;33m,\u001b[0m \u001b[0mkw\u001b[0m \u001b[1;33m=\u001b[0m \u001b[0mfix\u001b[0m\u001b[1;33m(\u001b[0m\u001b[0margs\u001b[0m\u001b[1;33m,\u001b[0m \u001b[0mkw\u001b[0m\u001b[1;33m,\u001b[0m \u001b[0msig\u001b[0m\u001b[1;33m)\u001b[0m\u001b[1;33m\u001b[0m\u001b[1;33m\u001b[0m\u001b[0m\n\u001b[1;32m--> 232\u001b[1;33m             \u001b[1;32mreturn\u001b[0m \u001b[0mcaller\u001b[0m\u001b[1;33m(\u001b[0m\u001b[0mfunc\u001b[0m\u001b[1;33m,\u001b[0m \u001b[1;33m*\u001b[0m\u001b[1;33m(\u001b[0m\u001b[0mextras\u001b[0m \u001b[1;33m+\u001b[0m \u001b[0margs\u001b[0m\u001b[1;33m)\u001b[0m\u001b[1;33m,\u001b[0m \u001b[1;33m**\u001b[0m\u001b[0mkw\u001b[0m\u001b[1;33m)\u001b[0m\u001b[1;33m\u001b[0m\u001b[1;33m\u001b[0m\u001b[0m\n\u001b[0m\u001b[0;32m    233\u001b[0m     \u001b[0mfun\u001b[0m\u001b[1;33m.\u001b[0m\u001b[0m__name__\u001b[0m \u001b[1;33m=\u001b[0m \u001b[0mfunc\u001b[0m\u001b[1;33m.\u001b[0m\u001b[0m__name__\u001b[0m\u001b[1;33m\u001b[0m\u001b[1;33m\u001b[0m\u001b[0m\n\u001b[0;32m    234\u001b[0m     \u001b[0mfun\u001b[0m\u001b[1;33m.\u001b[0m\u001b[0m__doc__\u001b[0m \u001b[1;33m=\u001b[0m \u001b[0mfunc\u001b[0m\u001b[1;33m.\u001b[0m\u001b[0m__doc__\u001b[0m\u001b[1;33m\u001b[0m\u001b[1;33m\u001b[0m\u001b[0m\n",
      "\u001b[1;32m~\\anaconda3\\lib\\site-packages\\IPython\\core\\magic.py\u001b[0m in \u001b[0;36m<lambda>\u001b[1;34m(f, *a, **k)\u001b[0m\n\u001b[0;32m    185\u001b[0m     \u001b[1;31m# but it's overkill for just that one bit of state.\u001b[0m\u001b[1;33m\u001b[0m\u001b[1;33m\u001b[0m\u001b[1;33m\u001b[0m\u001b[0m\n\u001b[0;32m    186\u001b[0m     \u001b[1;32mdef\u001b[0m \u001b[0mmagic_deco\u001b[0m\u001b[1;33m(\u001b[0m\u001b[0marg\u001b[0m\u001b[1;33m)\u001b[0m\u001b[1;33m:\u001b[0m\u001b[1;33m\u001b[0m\u001b[1;33m\u001b[0m\u001b[0m\n\u001b[1;32m--> 187\u001b[1;33m         \u001b[0mcall\u001b[0m \u001b[1;33m=\u001b[0m \u001b[1;32mlambda\u001b[0m \u001b[0mf\u001b[0m\u001b[1;33m,\u001b[0m \u001b[1;33m*\u001b[0m\u001b[0ma\u001b[0m\u001b[1;33m,\u001b[0m \u001b[1;33m**\u001b[0m\u001b[0mk\u001b[0m\u001b[1;33m:\u001b[0m \u001b[0mf\u001b[0m\u001b[1;33m(\u001b[0m\u001b[1;33m*\u001b[0m\u001b[0ma\u001b[0m\u001b[1;33m,\u001b[0m \u001b[1;33m**\u001b[0m\u001b[0mk\u001b[0m\u001b[1;33m)\u001b[0m\u001b[1;33m\u001b[0m\u001b[1;33m\u001b[0m\u001b[0m\n\u001b[0m\u001b[0;32m    188\u001b[0m \u001b[1;33m\u001b[0m\u001b[0m\n\u001b[0;32m    189\u001b[0m         \u001b[1;32mif\u001b[0m \u001b[0mcallable\u001b[0m\u001b[1;33m(\u001b[0m\u001b[0marg\u001b[0m\u001b[1;33m)\u001b[0m\u001b[1;33m:\u001b[0m\u001b[1;33m\u001b[0m\u001b[1;33m\u001b[0m\u001b[0m\n",
      "\u001b[1;32m~\\anaconda3\\lib\\site-packages\\IPython\\core\\magics\\code.py\u001b[0m in \u001b[0;36mload\u001b[1;34m(self, arg_s)\u001b[0m\n\u001b[0;32m    338\u001b[0m         \u001b[0msearch_ns\u001b[0m \u001b[1;33m=\u001b[0m \u001b[1;34m'n'\u001b[0m \u001b[1;32min\u001b[0m \u001b[0mopts\u001b[0m\u001b[1;33m\u001b[0m\u001b[1;33m\u001b[0m\u001b[0m\n\u001b[0;32m    339\u001b[0m \u001b[1;33m\u001b[0m\u001b[0m\n\u001b[1;32m--> 340\u001b[1;33m         \u001b[0mcontents\u001b[0m \u001b[1;33m=\u001b[0m \u001b[0mself\u001b[0m\u001b[1;33m.\u001b[0m\u001b[0mshell\u001b[0m\u001b[1;33m.\u001b[0m\u001b[0mfind_user_code\u001b[0m\u001b[1;33m(\u001b[0m\u001b[0margs\u001b[0m\u001b[1;33m,\u001b[0m \u001b[0msearch_ns\u001b[0m\u001b[1;33m=\u001b[0m\u001b[0msearch_ns\u001b[0m\u001b[1;33m)\u001b[0m\u001b[1;33m\u001b[0m\u001b[1;33m\u001b[0m\u001b[0m\n\u001b[0m\u001b[0;32m    341\u001b[0m \u001b[1;33m\u001b[0m\u001b[0m\n\u001b[0;32m    342\u001b[0m         \u001b[1;32mif\u001b[0m \u001b[1;34m's'\u001b[0m \u001b[1;32min\u001b[0m \u001b[0mopts\u001b[0m\u001b[1;33m:\u001b[0m\u001b[1;33m\u001b[0m\u001b[1;33m\u001b[0m\u001b[0m\n",
      "\u001b[1;32m~\\anaconda3\\lib\\site-packages\\IPython\\core\\interactiveshell.py\u001b[0m in \u001b[0;36mfind_user_code\u001b[1;34m(self, target, raw, py_only, skip_encoding_cookie, search_ns)\u001b[0m\n\u001b[0;32m   3764\u001b[0m             \u001b[1;32mreturn\u001b[0m \u001b[0mcodeobj\u001b[0m\u001b[1;33m.\u001b[0m\u001b[0mvalue\u001b[0m\u001b[1;33m\u001b[0m\u001b[1;33m\u001b[0m\u001b[0m\n\u001b[0;32m   3765\u001b[0m \u001b[1;33m\u001b[0m\u001b[0m\n\u001b[1;32m-> 3766\u001b[1;33m         raise TypeError(\"%s is neither a string nor a macro.\" % target,\n\u001b[0m\u001b[0;32m   3767\u001b[0m                         codeobj)\n\u001b[0;32m   3768\u001b[0m \u001b[1;33m\u001b[0m\u001b[0m\n",
      "\u001b[1;31mTypeError\u001b[0m: (\"(open(r'../../../Thermobar/ETR_Press_Petrelli2020_Cpx_Only.pkl', 'rb')) is neither a string nor a macro.\", <_io.BufferedReader name='../../../Thermobar/ETR_Press_Petrelli2020_Cpx_Only.pkl'>)"
     ]
    }
   ],
   "source": [
    "load(open(r'../../../Thermobar/ETR_Press_Petrelli2020_Cpx_Only.pkl', 'rb'))"
   ]
  },
  {
   "cell_type": "code",
   "execution_count": 5,
   "id": "4800a77f-5c14-4a9e-ab27-62a729e9ca4d",
   "metadata": {},
   "outputs": [
    {
     "ename": "FileNotFoundError",
     "evalue": "[Errno 2] No such file or directory: 'scaler_Petrelli2020_Cpx_Only.pkl'",
     "output_type": "error",
     "traceback": [
      "\u001b[1;31m---------------------------------------------------------------------------\u001b[0m",
      "\u001b[1;31mFileNotFoundError\u001b[0m                         Traceback (most recent call last)",
      "\u001b[1;32m<ipython-input-5-80bd26e94e82>\u001b[0m in \u001b[0;36m<module>\u001b[1;34m\u001b[0m\n\u001b[1;32m----> 1\u001b[1;33m \u001b[0mP_func\u001b[0m\u001b[1;33m=\u001b[0m\u001b[0mpt\u001b[0m\u001b[1;33m.\u001b[0m\u001b[0mcalculate_cpx_only_press\u001b[0m\u001b[1;33m(\u001b[0m\u001b[0mcpx_comps\u001b[0m\u001b[1;33m=\u001b[0m\u001b[0mCpx_test\u001b[0m\u001b[1;33m,\u001b[0m \u001b[0mequationP\u001b[0m\u001b[1;33m=\u001b[0m\u001b[1;34m\"P_Petrelli2021_Cpx_only\"\u001b[0m\u001b[1;33m)\u001b[0m\u001b[1;33m\u001b[0m\u001b[1;33m\u001b[0m\u001b[0m\n\u001b[0m\u001b[0;32m      2\u001b[0m \u001b[0mplt\u001b[0m\u001b[1;33m.\u001b[0m\u001b[0mplot\u001b[0m\u001b[1;33m(\u001b[0m\u001b[0mpredicted_P\u001b[0m\u001b[1;33m,\u001b[0m \u001b[0mP_func\u001b[0m\u001b[1;33m,\u001b[0m \u001b[1;34m'ok'\u001b[0m\u001b[1;33m)\u001b[0m\u001b[1;33m\u001b[0m\u001b[1;33m\u001b[0m\u001b[0m\n\u001b[0;32m      3\u001b[0m \u001b[0mP_func\u001b[0m\u001b[1;33m.\u001b[0m\u001b[0mhead\u001b[0m\u001b[1;33m(\u001b[0m\u001b[1;33m)\u001b[0m\u001b[1;33m\u001b[0m\u001b[1;33m\u001b[0m\u001b[0m\n",
      "\u001b[1;32m~\\OneDrive - Oregon State University\\Postdoc\\PyMME\\MyBarometers\\Thermobar_outer\\Thermobar\\clinopyroxene_thermobarometry.py\u001b[0m in \u001b[0;36mcalculate_cpx_only_press\u001b[1;34m(cpx_comps, equationP, T, H2O_Liq)\u001b[0m\n\u001b[0;32m   1440\u001b[0m \u001b[1;33m\u001b[0m\u001b[0m\n\u001b[0;32m   1441\u001b[0m     \u001b[1;32mif\u001b[0m \u001b[0mequationP\u001b[0m \u001b[1;33m==\u001b[0m \u001b[1;34m\"P_Petrelli2021_Cpx_only\"\u001b[0m\u001b[1;33m:\u001b[0m\u001b[1;33m\u001b[0m\u001b[1;33m\u001b[0m\u001b[0m\n\u001b[1;32m-> 1442\u001b[1;33m         \u001b[0mP_kbar_np\u001b[0m\u001b[1;33m=\u001b[0m\u001b[0mP_Petrelli2021_Cpx_only\u001b[0m\u001b[1;33m(\u001b[0m\u001b[0mcpx_comps\u001b[0m\u001b[1;33m=\u001b[0m\u001b[0mcpx_comps\u001b[0m\u001b[1;33m)\u001b[0m\u001b[1;33m\u001b[0m\u001b[1;33m\u001b[0m\u001b[0m\n\u001b[0m\u001b[0;32m   1443\u001b[0m         \u001b[0mP_kbar\u001b[0m\u001b[1;33m=\u001b[0m\u001b[0mpd\u001b[0m\u001b[1;33m.\u001b[0m\u001b[0mSeries\u001b[0m\u001b[1;33m(\u001b[0m\u001b[0mP_kbar_np\u001b[0m\u001b[1;33m)\u001b[0m\u001b[1;33m\u001b[0m\u001b[1;33m\u001b[0m\u001b[0m\n\u001b[0;32m   1444\u001b[0m \u001b[1;33m\u001b[0m\u001b[0m\n",
      "\u001b[1;32m~\\OneDrive - Oregon State University\\Postdoc\\PyMME\\MyBarometers\\Thermobar_outer\\Thermobar\\clinopyroxene_thermobarometry.py\u001b[0m in \u001b[0;36mP_Petrelli2021_Cpx_only\u001b[1;34m(T, cpx_comps)\u001b[0m\n\u001b[0;32m   1287\u001b[0m     \u001b[0mCpx_test_noID_noT\u001b[0m\u001b[1;33m=\u001b[0m\u001b[0mcpx_test\u001b[0m\u001b[1;33m.\u001b[0m\u001b[0mdrop\u001b[0m\u001b[1;33m(\u001b[0m\u001b[1;33m[\u001b[0m\u001b[1;34m'Sample_ID_Cpx'\u001b[0m\u001b[1;33m]\u001b[0m\u001b[1;33m,\u001b[0m \u001b[0maxis\u001b[0m\u001b[1;33m=\u001b[0m\u001b[1;36m1\u001b[0m\u001b[1;33m)\u001b[0m\u001b[1;33m\u001b[0m\u001b[1;33m\u001b[0m\u001b[0m\n\u001b[0;32m   1288\u001b[0m     \u001b[0mx_test\u001b[0m\u001b[1;33m=\u001b[0m\u001b[0mCpx_test_noID_noT\u001b[0m\u001b[1;33m.\u001b[0m\u001b[0mvalues\u001b[0m\u001b[1;33m\u001b[0m\u001b[1;33m\u001b[0m\u001b[0m\n\u001b[1;32m-> 1289\u001b[1;33m     \u001b[0mscaler_P2020_Cpx_only\u001b[0m\u001b[1;33m=\u001b[0m\u001b[0mload\u001b[0m\u001b[1;33m(\u001b[0m\u001b[0mopen\u001b[0m\u001b[1;33m(\u001b[0m\u001b[1;34m'scaler_Petrelli2020_Cpx_Only.pkl'\u001b[0m\u001b[1;33m,\u001b[0m \u001b[1;34m'rb'\u001b[0m\u001b[1;33m)\u001b[0m\u001b[1;33m)\u001b[0m\u001b[1;33m\u001b[0m\u001b[1;33m\u001b[0m\u001b[0m\n\u001b[0m\u001b[0;32m   1290\u001b[0m     \u001b[0mETR_Press_P2020_Cpx_only\u001b[0m\u001b[1;33m=\u001b[0m\u001b[0mload\u001b[0m\u001b[1;33m(\u001b[0m\u001b[0mopen\u001b[0m\u001b[1;33m(\u001b[0m\u001b[1;34m'ETR_Press_Petrelli2020_Cpx_Only.pkl'\u001b[0m\u001b[1;33m,\u001b[0m \u001b[1;34m'rb'\u001b[0m\u001b[1;33m)\u001b[0m\u001b[1;33m)\u001b[0m\u001b[1;33m\u001b[0m\u001b[1;33m\u001b[0m\u001b[0m\n\u001b[0;32m   1291\u001b[0m     \u001b[0mx_test_scaled\u001b[0m\u001b[1;33m=\u001b[0m\u001b[0mscaler_P2020_Cpx_only\u001b[0m\u001b[1;33m.\u001b[0m\u001b[0mtransform\u001b[0m\u001b[1;33m(\u001b[0m\u001b[0mx_test\u001b[0m\u001b[1;33m)\u001b[0m\u001b[1;33m\u001b[0m\u001b[1;33m\u001b[0m\u001b[0m\n",
      "\u001b[1;31mFileNotFoundError\u001b[0m: [Errno 2] No such file or directory: 'scaler_Petrelli2020_Cpx_Only.pkl'"
     ]
    }
   ],
   "source": [
    "\n",
    "P_func=pt.calculate_cpx_only_press(cpx_comps=Cpx_test, equationP=\"P_Petrelli2021_Cpx_only\")\n",
    "plt.plot(predicted_P, P_func, 'ok')\n",
    "P_func.head()"
   ]
  },
  {
   "cell_type": "code",
   "execution_count": 11,
   "id": "02e218ab-202c-499e-bb21-5f05040284b3",
   "metadata": {},
   "outputs": [
    {
     "name": "stdout",
     "output_type": "stream",
     "text": [
      "(119, 10)\n"
     ]
    },
    {
     "data": {
      "text/plain": [
       "[<matplotlib.lines.Line2D at 0x1da64999a60>]"
      ]
     },
     "execution_count": 11,
     "metadata": {},
     "output_type": "execute_result"
    },
    {
     "data": {
      "image/png": "[encoded data removed]",
      "text/plain": [
       "<Figure size 432x288 with 1 Axes>"
      ]
     },
     "metadata": {
      "needs_background": "light"
     },
     "output_type": "display_data"
    }
   ],
   "source": [
    "T_func=pt.calculate_cpx_only_temp(cpx_comps=Cpx_test,  equationT=\"T_Petrelli2021_Cpx_only\")\n",
    "plt.plot(predicted_T, T_func, 'ok')"
   ]
  },
  {
   "cell_type": "code",
   "execution_count": 12,
   "id": "c6c686b7-c5d8-4b6d-a633-549bc687416b",
   "metadata": {},
   "outputs": [
    {
     "name": "stdout",
     "output_type": "stream",
     "text": [
      "Youve selected a P-independent function\n",
      "(119, 10)\n",
      "Youve selected a T-independent function\n"
     ]
    },
    {
     "data": {
      "text/html": [
       "<div>\n",
       "<style scoped>\n",
       "    .dataframe tbody tr th:only-of-type {\n",
       "        vertical-align: middle;\n",
       "    }\n",
       "\n",
       "    .dataframe tbody tr th {\n",
       "        vertical-align: top;\n",
       "    }\n",
       "\n",
       "    .dataframe thead th {\n",
       "        text-align: right;\n",
       "    }\n",
       "</style>\n",
       "<table border=\"1\" class=\"dataframe\">\n",
       "  <thead>\n",
       "    <tr style=\"text-align: right;\">\n",
       "      <th></th>\n",
       "      <th>P_kbar_calc</th>\n",
       "      <th>T_K_calc</th>\n",
       "    </tr>\n",
       "  </thead>\n",
       "  <tbody>\n",
       "    <tr>\n",
       "      <th>0</th>\n",
       "      <td>3.855222</td>\n",
       "      <td>1193.360000</td>\n",
       "    </tr>\n",
       "    <tr>\n",
       "      <th>1</th>\n",
       "      <td>4.558327</td>\n",
       "      <td>1219.543333</td>\n",
       "    </tr>\n",
       "    <tr>\n",
       "      <th>2</th>\n",
       "      <td>4.031024</td>\n",
       "      <td>1106.043333</td>\n",
       "    </tr>\n",
       "    <tr>\n",
       "      <th>3</th>\n",
       "      <td>10.384876</td>\n",
       "      <td>1421.136667</td>\n",
       "    </tr>\n",
       "    <tr>\n",
       "      <th>4</th>\n",
       "      <td>11.319707</td>\n",
       "      <td>1396.871111</td>\n",
       "    </tr>\n",
       "    <tr>\n",
       "      <th>...</th>\n",
       "      <td>...</td>\n",
       "      <td>...</td>\n",
       "    </tr>\n",
       "    <tr>\n",
       "      <th>114</th>\n",
       "      <td>2.637991</td>\n",
       "      <td>1377.170000</td>\n",
       "    </tr>\n",
       "    <tr>\n",
       "      <th>115</th>\n",
       "      <td>5.018701</td>\n",
       "      <td>1470.411111</td>\n",
       "    </tr>\n",
       "    <tr>\n",
       "      <th>116</th>\n",
       "      <td>4.550104</td>\n",
       "      <td>1363.161111</td>\n",
       "    </tr>\n",
       "    <tr>\n",
       "      <th>117</th>\n",
       "      <td>23.530222</td>\n",
       "      <td>1558.198889</td>\n",
       "    </tr>\n",
       "    <tr>\n",
       "      <th>118</th>\n",
       "      <td>23.530222</td>\n",
       "      <td>1558.198889</td>\n",
       "    </tr>\n",
       "  </tbody>\n",
       "</table>\n",
       "<p>119 rows × 2 columns</p>\n",
       "</div>"
      ],
      "text/plain": [
       "     P_kbar_calc     T_K_calc\n",
       "0       3.855222  1193.360000\n",
       "1       4.558327  1219.543333\n",
       "2       4.031024  1106.043333\n",
       "3      10.384876  1421.136667\n",
       "4      11.319707  1396.871111\n",
       "..           ...          ...\n",
       "114     2.637991  1377.170000\n",
       "115     5.018701  1470.411111\n",
       "116     4.550104  1363.161111\n",
       "117    23.530222  1558.198889\n",
       "118    23.530222  1558.198889\n",
       "\n",
       "[119 rows x 2 columns]"
      ]
     },
     "execution_count": 12,
     "metadata": {},
     "output_type": "execute_result"
    }
   ],
   "source": [
    "PT_func=pt.calculate_cpx_only_press_temp(cpx_comps=Cpx_test,  \n",
    "                                         equationT=\"T_Petrelli2021_Cpx_only\",\n",
    "                                        equationP=\"P_Petrelli2021_Cpx_only\")\n",
    "PT_func"
   ]
  },
  {
   "cell_type": "code",
   "execution_count": 13,
   "id": "ca2de8cf-e4ab-4b2a-a734-ed96906b7042",
   "metadata": {},
   "outputs": [
    {
     "name": "stdout",
     "output_type": "stream",
     "text": [
      "Youve selected a T-independent function\n"
     ]
    },
    {
     "data": {
      "text/html": [
       "<div>\n",
       "<style scoped>\n",
       "    .dataframe tbody tr th:only-of-type {\n",
       "        vertical-align: middle;\n",
       "    }\n",
       "\n",
       "    .dataframe tbody tr th {\n",
       "        vertical-align: top;\n",
       "    }\n",
       "\n",
       "    .dataframe thead th {\n",
       "        text-align: right;\n",
       "    }\n",
       "</style>\n",
       "<table border=\"1\" class=\"dataframe\">\n",
       "  <thead>\n",
       "    <tr style=\"text-align: right;\">\n",
       "      <th></th>\n",
       "      <th>P_kbar_calc</th>\n",
       "      <th>T_K_calc</th>\n",
       "    </tr>\n",
       "  </thead>\n",
       "  <tbody>\n",
       "    <tr>\n",
       "      <th>0</th>\n",
       "      <td>3.855222</td>\n",
       "      <td>1332.821244</td>\n",
       "    </tr>\n",
       "    <tr>\n",
       "      <th>1</th>\n",
       "      <td>4.558327</td>\n",
       "      <td>1374.848885</td>\n",
       "    </tr>\n",
       "    <tr>\n",
       "      <th>2</th>\n",
       "      <td>4.031024</td>\n",
       "      <td>1301.557376</td>\n",
       "    </tr>\n",
       "    <tr>\n",
       "      <th>3</th>\n",
       "      <td>10.384876</td>\n",
       "      <td>1511.637966</td>\n",
       "    </tr>\n",
       "    <tr>\n",
       "      <th>4</th>\n",
       "      <td>11.319707</td>\n",
       "      <td>1510.945920</td>\n",
       "    </tr>\n",
       "    <tr>\n",
       "      <th>...</th>\n",
       "      <td>...</td>\n",
       "      <td>...</td>\n",
       "    </tr>\n",
       "    <tr>\n",
       "      <th>114</th>\n",
       "      <td>2.637991</td>\n",
       "      <td>1438.954192</td>\n",
       "    </tr>\n",
       "    <tr>\n",
       "      <th>115</th>\n",
       "      <td>5.018701</td>\n",
       "      <td>1459.731365</td>\n",
       "    </tr>\n",
       "    <tr>\n",
       "      <th>116</th>\n",
       "      <td>4.550104</td>\n",
       "      <td>1389.452805</td>\n",
       "    </tr>\n",
       "    <tr>\n",
       "      <th>117</th>\n",
       "      <td>23.530222</td>\n",
       "      <td>1634.100984</td>\n",
       "    </tr>\n",
       "    <tr>\n",
       "      <th>118</th>\n",
       "      <td>23.530222</td>\n",
       "      <td>1634.100984</td>\n",
       "    </tr>\n",
       "  </tbody>\n",
       "</table>\n",
       "<p>119 rows × 2 columns</p>\n",
       "</div>"
      ],
      "text/plain": [
       "     P_kbar_calc     T_K_calc\n",
       "0       3.855222  1332.821244\n",
       "1       4.558327  1374.848885\n",
       "2       4.031024  1301.557376\n",
       "3      10.384876  1511.637966\n",
       "4      11.319707  1510.945920\n",
       "..           ...          ...\n",
       "114     2.637991  1438.954192\n",
       "115     5.018701  1459.731365\n",
       "116     4.550104  1389.452805\n",
       "117    23.530222  1634.100984\n",
       "118    23.530222  1634.100984\n",
       "\n",
       "[119 rows x 2 columns]"
      ]
     },
     "execution_count": 13,
     "metadata": {},
     "output_type": "execute_result"
    }
   ],
   "source": [
    "PT_func=pt.calculate_cpx_only_press_temp(cpx_comps=Cpx_test,  \n",
    "                                         equationT=\"T_Put2008_eq32d\",\n",
    "                                        equationP=\"P_Petrelli2021_Cpx_only\")\n",
    "PT_func"
   ]
  },
  {
   "cell_type": "code",
   "execution_count": null,
   "id": "334e952b-4d86-4b95-8a2e-7c502275cc4d",
   "metadata": {},
   "outputs": [],
   "source": []
  }
 ],
 "metadata": {
  "kernelspec": {
   "display_name": "Python 3",
   "language": "python",
   "name": "python3"
  },
  "language_info": {
   "codemirror_mode": {
    "name": "ipython",
    "version": 3
   },
   "file_extension": ".py",
   "mimetype": "text/x-python",
   "name": "python",
   "nbconvert_exporter": "python",
   "pygments_lexer": "ipython3",
   "version": "3.8.5"
  }
 },
 "nbformat": 4,
 "nbformat_minor": 5
}
