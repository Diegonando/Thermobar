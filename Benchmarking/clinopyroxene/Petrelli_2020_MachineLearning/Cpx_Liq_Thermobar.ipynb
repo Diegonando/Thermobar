{
 "cells": [
  {
   "cell_type": "code",
   "execution_count": 1,
   "id": "d74fa112-c673-4162-8ea5-d7d88ee27228",
   "metadata": {},
   "outputs": [],
   "source": [
    "import numpy as np\n",
    "import pandas as pd\n",
    "import matplotlib.pyplot as plt\n",
    "from sklearn.preprocessing import StandardScaler\n",
    "from sklearn.ensemble import ExtraTreesRegressor\n",
    "from sklearn.metrics import mean_squared_error \n",
    "from sklearn.metrics import r2_score\n",
    "import scipy.cluster.hierarchy as shc\n",
    "from sklearn.cluster import AgglomerativeClustering\n",
    "from sklearn.model_selection import cross_val_score\n",
    "from sklearn.model_selection import RepeatedStratifiedKFold\n",
    "from sklearn.ensemble import ExtraTreesClassifier\n",
    "from sklearn.ensemble import GradientBoostingRegressor\n",
    "\n",
    "%matplotlib inline\n",
    "from sklearn.linear_model import LinearRegression\n",
    "from sklearn.metrics import r2_score\n",
    "from statsmodels.stats.multicomp import pairwise_tukeyhsd\n",
    "from scipy import stats\n",
    "import warnings as w\n",
    "import sys\n",
    "sys.path.append(\"../../..\")\n",
    "import Thermobar as pt"
   ]
  },
  {
   "cell_type": "code",
   "execution_count": 2,
   "id": "cdfcc0df-8f41-4002-bfdd-b23725dd483f",
   "metadata": {},
   "outputs": [],
   "source": [
    "out_train=pt.import_excel('GlobalDataset_Final_rev9_TrainValidation.xlsx',\n",
    "                          sheet_name='Train_Thermobar_Format')\n",
    "out_train_input=out_train['my_input']\n",
    "Cpx_train=out_train['Cpxs']\n",
    "Liq_train=out_train['Liqs']\n",
    "Cpx_train_noID_noT=Cpx_train.drop(['Sample_ID_Cpx'], axis=1)\n",
    "Liq_train_noID_noT=Liq_train.drop(['Sample_ID_Liq', 'Fe3Fet_Liq', 'NiO_Liq', 'CoO_Liq', 'CO2_Liq'], axis=1)\n",
    "Cpx_Liq_Combo_train=pd.concat([Cpx_train_noID_noT, Liq_train_noID_noT], axis=1)\n",
    "x_train=Cpx_Liq_Combo_train.values\n",
    "y_train_T=out_train_input['T_K']\n",
    "y_train_P=out_train_input['P_GPa']*10"
   ]
  },
  {
   "cell_type": "code",
   "execution_count": 3,
   "id": "a5c74e5c-a1a2-482a-b278-d552e08c4922",
   "metadata": {},
   "outputs": [],
   "source": [
    "## Test dataset\n",
    "out_test=pt.import_excel('GlobalDataset_Final_rev9_TrainValidation.xlsx',\n",
    "                          sheet_name='Test_Thermobar_Format')\n",
    "out_test_input=out_test['my_input']\n",
    "Cpx_test=out_test['Cpxs']\n",
    "Liq_test=out_test['Liqs']\n",
    "Cpx_test_noID_noT=Cpx_test.drop(['Sample_ID_Cpx'], axis=1)\n",
    "Liq_test_noID_noT=Liq_test.drop(['Sample_ID_Liq', 'Fe3Fet_Liq', 'NiO_Liq', 'CoO_Liq', 'CO2_Liq'], axis=1)\n",
    "Cpx_Liq_Combo_test=pd.concat([Cpx_test_noID_noT, Liq_test_noID_noT], axis=1)\n",
    "x_test=Cpx_Liq_Combo_test.values\n",
    "y_test_T=out_test_input['T_K']\n",
    "y_test_P=out_test_input['P_GPa']*10"
   ]
  },
  {
   "cell_type": "code",
   "execution_count": 4,
   "id": "c19a56bc-6ed7-46ad-bfff-df81c3754e66",
   "metadata": {},
   "outputs": [
    {
     "data": {
      "text/plain": [
       "ExtraTreesRegressor(max_features=10, n_estimators=450, random_state=120)"
      ]
     },
     "execution_count": 4,
     "metadata": {},
     "output_type": "execute_result"
    }
   ],
   "source": [
    "# Scaling\n",
    "scaler = StandardScaler().fit(x_train)\n",
    "x_train_scaled = scaler.transform(x_train)\n",
    "\n",
    "# Define the regressor, in our case the Extra Tree Regressor\n",
    "regr_T = ExtraTreesRegressor(n_estimators=450, criterion='mse', max_features=10,\n",
    "                           random_state=120) # random_state fixed for reproducibility\n",
    "\n",
    "# Define the regressor, in our case the Extra Tree Regressor\n",
    "regr_P = ExtraTreesRegressor(n_estimators=450, criterion='mse', max_features=10,\n",
    "                           random_state=120) # random_state fixed for reproducibility\n",
    "\n",
    "# Train the model\n",
    "regr_T.fit(x_train_scaled, y_train_T.ravel())\n",
    "regr_P.fit(x_train_scaled, y_train_P.ravel())"
   ]
  },
  {
   "cell_type": "code",
   "execution_count": 5,
   "id": "1412f092-5e2a-4f1d-86ca-8c8cb046deba",
   "metadata": {},
   "outputs": [],
   "source": [
    "x_test_scaled=scaler.transform(x_test)"
   ]
  },
  {
   "cell_type": "markdown",
   "id": "9707dcf8-b628-4139-abf1-8a594c749657",
   "metadata": {},
   "source": [
    "## Predicting the test data for temp"
   ]
  },
  {
   "cell_type": "code",
   "execution_count": 6,
   "id": "04772250-07a7-4e27-93fe-7b2ca0a5d223",
   "metadata": {},
   "outputs": [
    {
     "data": {
      "text/plain": [
       "'RMSE= 55.18753'"
      ]
     },
     "execution_count": 6,
     "metadata": {},
     "output_type": "execute_result"
    },
    {
     "data": {
      "image/png": "[encoded data removed]",
      "text/plain": [
       "<Figure size 432x288 with 1 Axes>"
      ]
     },
     "metadata": {
      "needs_background": "light"
     },
     "output_type": "display_data"
    }
   ],
   "source": [
    "predicted_T=regr_T.predict(x_test_scaled)\n",
    "plt.plot( y_test_T, predicted_T, 'ok', mfc='darkred')\n",
    "plt.plot([1100, 1800], [1100, 1800], '-r')\n",
    "Stats_T=pt.calculate_R2_np(y_test_T.values, predicted_T)\n",
    "Stats_T['R2']\n",
    "Stats_T['RMSE']"
   ]
  },
  {
   "cell_type": "markdown",
   "id": "2e576515-9616-460a-bc32-c4dcaf3c1f03",
   "metadata": {},
   "source": [
    "## Predicting the test data for Press"
   ]
  },
  {
   "cell_type": "code",
   "execution_count": 7,
   "id": "57e58035-a377-4d1f-b2ea-3636204389ad",
   "metadata": {},
   "outputs": [
    {
     "data": {
      "text/plain": [
       "'RMSE= 3.40177'"
      ]
     },
     "execution_count": 7,
     "metadata": {},
     "output_type": "execute_result"
    },
    {
     "data": {
      "image/png": "[encoded data removed]",
      "text/plain": [
       "<Figure size 432x288 with 1 Axes>"
      ]
     },
     "metadata": {
      "needs_background": "light"
     },
     "output_type": "display_data"
    }
   ],
   "source": [
    "predicted_P=regr_P.predict(x_test_scaled)\n",
    "plt.plot( y_test_P, predicted_P, 'ok', mfc='darkred')\n",
    "plt.plot([0, 30], [0, 30], '-r')\n",
    "Stats_P=pt.calculate_R2_np(y_test_P.values, predicted_P)\n",
    "Stats_P['R2']\n",
    "Stats_P['RMSE']"
   ]
  },
  {
   "cell_type": "code",
   "execution_count": 8,
   "id": "2b222b42-c4c3-41e0-80eb-a52bacaa539e",
   "metadata": {},
   "outputs": [
    {
     "data": {
      "text/plain": [
       "sklearn.preprocessing._data.StandardScaler"
      ]
     },
     "execution_count": 8,
     "metadata": {},
     "output_type": "execute_result"
    }
   ],
   "source": [
    "type(scaler)"
   ]
  },
  {
   "cell_type": "code",
   "execution_count": 9,
   "id": "42afd1ab-265f-480c-a126-06d9221b4a6a",
   "metadata": {},
   "outputs": [],
   "source": [
    "from pickle import dump\n",
    "dump(scaler, open('scaler_Petrelli2020_Cpx_Liq.pkl', 'wb'))\n",
    "dump(regr_P, open('ETR_Press_Petrelli2020_Cpx_Liq.pkl', 'wb'))\n",
    "dump(regr_T, open('ETR_Temp_Petrelli2020_Cpx_Liq.pkl', 'wb'))"
   ]
  },
  {
   "cell_type": "code",
   "execution_count": 10,
   "id": "bf37aaff-dbc6-4266-b2ad-b0cd18afa397",
   "metadata": {},
   "outputs": [],
   "source": [
    "from pickle import load\n",
    "scaler_P2020_Cpx_Liq=load(open('scaler_Petrelli2020_Cpx_Liq.pkl', 'rb'))\n",
    "ETR_Temp_P2020_Cpx_Liq=load(open('ETR_Temp_Petrelli2020_Cpx_Liq.pkl', 'rb'))\n",
    "ETR_Press_P2020_Cpx_Liq=load(open('ETR_Press_Petrelli2020_Cpx_Liq.pkl', 'rb'))"
   ]
  },
  {
   "cell_type": "markdown",
   "id": "9d97da53-c3d1-4eb9-8dc4-fb9f19b3c1e4",
   "metadata": {},
   "source": [
    "## Predicting from saved"
   ]
  },
  {
   "cell_type": "code",
   "execution_count": 11,
   "id": "1dbde879-95ec-40e0-93b7-7a68bcac5abc",
   "metadata": {},
   "outputs": [],
   "source": [
    "def P_Petrelli2021(cpx_comps, liq_comps):\n",
    "    cpx_test=cpx_comps.copy()\n",
    "    liq_test=liq_comps.copy()\n",
    "    cpx_test_noID_noT=cpx_test.drop(['Sample_ID_Cpx'], axis=1)\n",
    "    liq_test_noID_noT=liq_test.drop(['Sample_ID_Liq', 'Fe3Fet_Liq', 'NiO_Liq', 'CoO_Liq', 'CO2_Liq'], axis=1)\n",
    "    cpx_liq_combo_test=pd.concat([cpx_test_noID_noT, liq_test_noID_noT], axis=1)\n",
    "    x_test=cpx_liq_combo_test.values\n",
    "    scaler_P2020_Cpx_Liq=load(open('scaler_Petrelli2020_Cpx_Liq.pkl', 'rb'))\n",
    "    ETR_Press_P2020_Cpx_Liq=load(open('ETR_Press_Petrelli2020_Cpx_Liq.pkl', 'rb'))  \n",
    "    x_test_scaled=scaler_P2020_Cpx_Liq.transform(x_test)\n",
    "    Pred_P_kbar=ETR_Press_P2020_Cpx_Liq.predict(x_test_scaled)\n",
    "    return Pred_P_kbar\n",
    "\n",
    "def T_Petrelli2021(cpx_comps, liq_comps):\n",
    "    cpx_test=cpx_comps.copy()\n",
    "    liq_test=liq_comps.copy()\n",
    "    cpx_test_noID_noT=cpx_test.drop(['Sample_ID_Cpx'], axis=1)\n",
    "    liq_test_noID_noT=liq_test.drop(['Sample_ID_Liq', 'Fe3Fet_Liq', 'NiO_Liq', 'CoO_Liq', 'CO2_Liq'], axis=1)\n",
    "    cpx_liq_combo_test=pd.concat([cpx_test_noID_noT, liq_test_noID_noT], axis=1)\n",
    "    x_test=cpx_liq_combo_test.values\n",
    "    scaler_P2020_Cpx_Liq=load(open('scaler_Petrelli2020_Cpx_Liq.pkl', 'rb'))\n",
    "    ETR_Temp_P2020_Cpx_Liq=load(open('ETR_Temp_Petrelli2020_Cpx_Liq.pkl', 'rb'))  \n",
    "    x_test_scaled=scaler_P2020_Cpx_Liq.transform(x_test)\n",
    "    Pred_T_K=ETR_Temp_P2020_Cpx_Liq.predict(x_test_scaled)\n",
    "    return Pred_T_K"
   ]
  },
  {
   "cell_type": "code",
   "execution_count": 12,
   "id": "4800a77f-5c14-4a9e-ab27-62a729e9ca4d",
   "metadata": {},
   "outputs": [
    {
     "data": {
      "text/plain": [
       "[<matplotlib.lines.Line2D at 0x1d268b2c1c0>]"
      ]
     },
     "execution_count": 12,
     "metadata": {},
     "output_type": "execute_result"
    },
    {
     "data": {
      "image/png": "[encoded data removed]",
      "text/plain": [
       "<Figure size 432x288 with 1 Axes>"
      ]
     },
     "metadata": {
      "needs_background": "light"
     },
     "output_type": "display_data"
    }
   ],
   "source": [
    "P_func=P_Petrelli2021(cpx_comps=Cpx_test, liq_comps=Liq_test)\n",
    "plt.plot(predicted_P, P_func, 'ok')"
   ]
  },
  {
   "cell_type": "code",
   "execution_count": null,
   "id": "02e218ab-202c-499e-bb21-5f05040284b3",
   "metadata": {},
   "outputs": [],
   "source": []
  }
 ],
 "metadata": {
  "kernelspec": {
   "display_name": "Python 3",
   "language": "python",
   "name": "python3"
  },
  "language_info": {
   "codemirror_mode": {
    "name": "ipython",
    "version": 3
   },
   "file_extension": ".py",
   "mimetype": "text/x-python",
   "name": "python",
   "nbconvert_exporter": "python",
   "pygments_lexer": "ipython3",
   "version": "3.8.5"
  }
 },
 "nbformat": 4,
 "nbformat_minor": 5
}
