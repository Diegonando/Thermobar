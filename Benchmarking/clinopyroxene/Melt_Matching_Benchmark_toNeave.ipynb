{
 "cells": [
  {
   "cell_type": "markdown",
   "metadata": {},
   "source": [
    "# This compares the melt matching algorithms here to the results from the supporting spreadsheet of Neave et al. 2019 (see Melt_Matching_Example_Neave.xlsx)"
   ]
  },
  {
   "cell_type": "code",
   "execution_count": 2,
   "metadata": {},
   "outputs": [],
   "source": [
    "import numpy as np\n",
    "import pandas as pd\n",
    "import sys\n",
    "import matplotlib.pyplot as plt\n",
    "import Thermobar as pt"
   ]
  },
  {
   "cell_type": "code",
   "execution_count": 3,
   "metadata": {},
   "outputs": [],
   "source": [
    "out=pt.import_excel('MeltMatching_Benchmarks.xlsx', sheet_name=\"Melts\")\n",
    "out2=pt.import_excel('MeltMatching_Benchmarks.xlsx', sheet_name=\"Cpxs\")\n",
    "my_input=out['my_input']\n",
    "myCpxs1=out2['Cpxs']\n",
    "myLiquids1=out['Liqs']\n"
   ]
  },
  {
   "cell_type": "markdown",
   "metadata": {},
   "source": [
    "# Example, making dataframe of matches"
   ]
  },
  {
   "cell_type": "code",
   "execution_count": 5,
   "metadata": {},
   "outputs": [
    {
     "name": "stdout",
     "output_type": "stream",
     "text": [
      "Considering 40 Liq-Cpx pairs, be patient if this is >>1 million!\n",
      "No equilibrium filters applied\n",
      "Finished calculating Ps and Ts, now just averaging the results. Almost there!\n",
      "Done!\n"
     ]
    }
   ],
   "source": [
    "# One way to get dataframe out to paste in\n",
    "Combo_liq_cpxs=pt.calculate_cpx_liq_press_temp_matching(liq_comps=myLiquids1, cpx_comps=myCpxs1, \n",
    "                                                equationP=\"P_Neave2017\", equationT=\"T_Put2008_eq33\",\n",
    "                                                        return_all_pairs=True)"
   ]
  },
  {
   "cell_type": "code",
   "execution_count": 6,
   "metadata": {},
   "outputs": [],
   "source": [
    "#Second way to do this\n",
    "myCPXs1_concat=myCpxs1\n",
    "myLiquids1_concat=myLiquids1\n",
    "DupCPXs = pd.DataFrame(np.repeat(myCPXs1_concat.values,np.shape(myLiquids1_concat)[0],axis=0))\n",
    "    #.astype('float64') \n",
    "DupCPXs.columns = myCPXs1_concat.columns \n",
    "\n",
    "DupLiqs=pd.concat([myLiquids1_concat]*np.shape(myCPXs1_concat)[0]).reset_index(drop=True) \n",
    "Combo_liq_cpxs=pd.concat([DupLiqs, DupCPXs], axis=1) # Combines these merged liquids and cpx dataframes"
   ]
  },
  {
   "cell_type": "code",
   "execution_count": 7,
   "metadata": {},
   "outputs": [],
   "source": [
    "# This copies the output to excel to paste into Neave's spreadsheet\n",
    "Combo_liq_cpxs.to_clipboard(excel=True)"
   ]
  },
  {
   "cell_type": "code",
   "execution_count": 8,
   "metadata": {},
   "outputs": [
    {
     "ename": "TypeError",
     "evalue": "calculate_cpx_liq_press_temp_matching() got an unexpected keyword argument 'KdErr'",
     "output_type": "error",
     "traceback": [
      "\u001b[1;31m---------------------------------------------------------------------------\u001b[0m",
      "\u001b[1;31mTypeError\u001b[0m                                 Traceback (most recent call last)",
      "\u001b[1;32m<ipython-input-8-b5df2bb123b6>\u001b[0m in \u001b[0;36m<module>\u001b[1;34m\u001b[0m\n\u001b[0;32m      1\u001b[0m \u001b[1;31m# See Sheet \"Cpx Input and Models\" of Putirka, se that get no matches with default criteria\u001b[0m\u001b[1;33m\u001b[0m\u001b[1;33m\u001b[0m\u001b[1;33m\u001b[0m\u001b[0m\n\u001b[1;32m----> 2\u001b[1;33m melt_match_out=pt.calculate_cpx_liq_press_temp_matching(liq_comps=myLiquids1, cpx_comps=myCpxs1, \n\u001b[0m\u001b[0;32m      3\u001b[0m                                                 \u001b[0mequationP\u001b[0m\u001b[1;33m=\u001b[0m\u001b[1;34m\"P_Neave2017\"\u001b[0m\u001b[1;33m,\u001b[0m \u001b[0mequationT\u001b[0m\u001b[1;33m=\u001b[0m\u001b[1;34m\"T_Put2008_eq33\"\u001b[0m\u001b[1;33m,\u001b[0m \u001b[0mKdErr\u001b[0m\u001b[1;33m=\u001b[0m\u001b[1;36m0.03\u001b[0m\u001b[1;33m,\u001b[0m\u001b[1;33m\u001b[0m\u001b[1;33m\u001b[0m\u001b[0m\n\u001b[0;32m      4\u001b[0m                                                      eq_crit=\"All\",  Fe3FeT_Liq=0.0)\n\u001b[0;32m      5\u001b[0m \u001b[1;33m\u001b[0m\u001b[0m\n",
      "\u001b[1;31mTypeError\u001b[0m: calculate_cpx_liq_press_temp_matching() got an unexpected keyword argument 'KdErr'"
     ]
    }
   ],
   "source": [
    "# See Sheet \"Cpx Input and Models\" of Putirka, se that get no matches with default criteria\n",
    "melt_match_out=pt.calculate_cpx_liq_press_temp_matching(liq_comps=myLiquids1, cpx_comps=myCpxs1, \n",
    "                                                equationP=\"P_Neave2017\", equationT=\"T_Put2008_eq33\", KdErr=0.03,\n",
    "                                                     eq_crit=\"All\",  Fe3FeT_Liq=0.0)\n",
    "\n",
    "AvMatches_Gleeson_NoFe3=melt_match_out['Av_PTs']\n",
    "AllMatches_Gleeson_NoFe3=melt_match_out['All_PTs']"
   ]
  },
  {
   "cell_type": "code",
   "execution_count": 12,
   "metadata": {},
   "outputs": [
    {
     "name": "stdout",
     "output_type": "stream",
     "text": [
      "Considering 40 Liq-Cpx pairs, be patient if this is >>1 million!\n",
      "40 Matches remaining after initial Kd filter. Now moving onto iterative calculations\n",
      "Finished calculating Ps and Ts, now just averaging the results. Almost there!\n",
      "Done!\n"
     ]
    }
   ],
   "source": [
    "# Say set Kd filter to 0.06, see Sheet \"Cpx Input and Models_2\" of Putirka, se that get no matches with default criteria\n",
    "melt_match_out=pt.calculate_cpx_liq_press_temp_matching(liq_comps=myLiquids1, cpx_comps=myCpxs1, \n",
    "                                                equationP=\"P_Neave2017\", equationT=\"T_Put2008_eq33\", Kd_Err=0.11,\n",
    "                                                     Fe3Fet_Liq=0.0, \n",
    "                                                       DiHd_Err=0.06*4, EnFs_Err=4*0.05,\n",
    "                                                       CaTs_Err=0.03*4)\n",
    "\n",
    "AvMatches_Gleeson_NoFe3=melt_match_out['Av_PTs']\n",
    "AllMatches_Gleeson_NoFe3=melt_match_out['All_PTs']"
   ]
  },
  {
   "cell_type": "code",
   "execution_count": 13,
   "metadata": {},
   "outputs": [
    {
     "data": {
      "text/plain": [
       "27    1206.889007\n",
       "28    1208.285039\n",
       "29    1208.338952\n",
       "31    1204.959196\n",
       "33    1205.889817\n",
       "34    1203.927918\n",
       "35    1206.209066\n",
       "36    1207.602880\n",
       "37    1207.656539\n",
       "39    1204.282002\n",
       "Name: T_C, dtype: float64"
      ]
     },
     "execution_count": 13,
     "metadata": {},
     "output_type": "execute_result"
    }
   ],
   "source": [
    "AllMatches_Gleeson_NoFe3['T_C']=AllMatches_Gleeson_NoFe3['T_K_calc']-273.15\n",
    "AllMatches_Gleeson_NoFe3['T_C']"
   ]
  },
  {
   "attachments": {
    "1e47ee15-0567-4c63-93af-9ede330e8077.png": {
     "image/png": "[encoded data removed]"
    }
   },
   "cell_type": "markdown",
   "metadata": {},
   "source": [
    "# From Neave spreadsheet\n",
    "![image.png](attachment:1e47ee15-0567-4c63-93af-9ede330e8077.png)"
   ]
  },
  {
   "cell_type": "code",
   "execution_count": 14,
   "metadata": {},
   "outputs": [
    {
     "data": {
      "text/plain": [
       "27    5.993997\n",
       "28    6.002878\n",
       "29    6.060537\n",
       "31    6.001705\n",
       "33    6.032014\n",
       "34    6.007048\n",
       "35    5.860366\n",
       "36    5.869089\n",
       "37    5.926715\n",
       "39    5.868240\n",
       "Name: P_kbar_calc, dtype: float64"
      ]
     },
     "execution_count": 14,
     "metadata": {},
     "output_type": "execute_result"
    }
   ],
   "source": [
    "AllMatches_Gleeson_NoFe3['P_kbar_calc']"
   ]
  },
  {
   "attachments": {
    "e099eb04-de2c-46e3-9cf1-a6d36bd4677d.png": {
     "image/png": "[encoded data removed]"
    }
   },
   "cell_type": "markdown",
   "metadata": {},
   "source": [
    "- screengrab from Neave Supplement\n",
    "![image.png](attachment:e099eb04-de2c-46e3-9cf1-a6d36bd4677d.png)"
   ]
  }
 ],
 "metadata": {
  "kernelspec": {
   "display_name": "Python 3",
   "language": "python",
   "name": "python3"
  },
  "language_info": {
   "codemirror_mode": {
    "name": "ipython",
    "version": 3
   },
   "file_extension": ".py",
   "mimetype": "text/x-python",
   "name": "python",
   "nbconvert_exporter": "python",
   "pygments_lexer": "ipython3",
   "version": "3.8.5"
  }
 },
 "nbformat": 4,
 "nbformat_minor": 4
}
