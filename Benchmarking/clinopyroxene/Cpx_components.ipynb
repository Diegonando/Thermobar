{
 "cells": [
  {
   "cell_type": "code",
   "execution_count": 1,
   "id": "b364e247-cdf8-4de4-87aa-4d3184e387d7",
   "metadata": {},
   "outputs": [],
   "source": [
    "import numpy as np\n",
    "import pandas as pd\n",
    "import sys\n",
    "import Thermobar as pt\n",
    "pd.options.display.max_columns = None\n",
    "import matplotlib.pyplot as plt\n"
   ]
  },
  {
   "cell_type": "code",
   "execution_count": 2,
   "id": "f4334558-0d0f-40e1-81b4-e6a9608e7cff",
   "metadata": {},
   "outputs": [
    {
     "name": "stderr",
     "output_type": "stream",
     "text": [
      "c:\\users\\penny\\onedrive - oregon state university\\postdoc\\pymme\\mybarometers\\thermobar_outer\\src\\Thermobar\\import_export.py:354: UserWarning: You've got a column heading with a lower case _ol, this is okay if this column is for your own use, but if its an input to Thermobar, it needs to be capitalized (_Ol)\n",
      "  w.warn(\"You've got a column heading with a lower case _ol, this is okay if this column is for your\"\n"
     ]
    }
   ],
   "source": [
    "#my_input, myLabels, Experimental_PT1, myLiquids1, myCPXs1,  myOls1, myFspars1, myOPXs1=pw.import_Excel_unknowns('Python_Liq_CpxBarometers_Test.xlsx', sheetname=\"SomeFe3+\")\n",
    "out=pt.import_excel('Python_Liq_CpxBarometers_Test.xlsx', sheet_name=\"Sites\")\n",
    "my_input=out['my_input']\n",
    "myCPXs1=out['Cpxs']\n",
    "myLiquids1=out['Liqs']"
   ]
  },
  {
   "cell_type": "code",
   "execution_count": null,
   "id": "ffcfa7b5-a5fa-4860-ab45-04cba983d293",
   "metadata": {},
   "outputs": [],
   "source": []
  },
  {
   "cell_type": "code",
   "execution_count": 4,
   "id": "49e37d34-4d97-4425-85ed-00c3db5f778b",
   "metadata": {},
   "outputs": [
    {
     "name": "stdout",
     "output_type": "stream",
     "text": [
      "Using Fe3FeT from input file to calculate Kd Fe-Mg\n"
     ]
    },
    {
     "name": "stderr",
     "output_type": "stream",
     "text": [
      "C:\\Users\\penny\\anaconda3\\lib\\site-packages\\pandas\\core\\arraylike.py:364: RuntimeWarning: divide by zero encountered in log\n",
      "  result = getattr(ufunc, method)(*inputs, **kwargs)\n"
     ]
    }
   ],
   "source": [
    "sites=pt.calculate_cpx_liq_eq_tests(cpx_comps=myCPXs1, liq_comps=myLiquids1, T=my_input['T_K'], P=my_input['P_kbar'])"
   ]
  },
  {
   "cell_type": "code",
   "execution_count": 5,
   "id": "e53bc5dd-b216-4dc9-9f27-b7fbce44da1e",
   "metadata": {},
   "outputs": [
    {
     "data": {
      "text/plain": [
       "0     0.035332\n",
       "1     0.040732\n",
       "2     0.038619\n",
       "3     0.039859\n",
       "4     0.038138\n",
       "5     0.115142\n",
       "6     0.169613\n",
       "7     0.116309\n",
       "8     0.632821\n",
       "9     0.080541\n",
       "10    0.000000\n",
       "11    0.040816\n",
       "12    0.560686\n",
       "13    0.000000\n",
       "14    0.039069\n",
       "15    0.040732\n",
       "16    0.016655\n",
       "17    0.000000\n",
       "18    0.599653\n",
       "19    0.040732\n",
       "20    0.029200\n",
       "21    0.040732\n",
       "22    0.021768\n",
       "23    0.000000\n",
       "24    0.000000\n",
       "25    0.040732\n",
       "26    0.040732\n",
       "27    0.040732\n",
       "Name: Lindley_Fe3_Cpx, dtype: float64"
      ]
     },
     "execution_count": 5,
     "metadata": {},
     "output_type": "execute_result"
    }
   ],
   "source": [
    "sites['Lindley_Fe3_Cpx']"
   ]
  },
  {
   "cell_type": "code",
   "execution_count": 4,
   "id": "5719c5e6-c4a4-4f84-b2f5-f1ba148f0355",
   "metadata": {},
   "outputs": [
    {
     "data": {
      "text/plain": [
       "[<matplotlib.lines.Line2D at 0x23b588daca0>]"
      ]
     },
     "execution_count": 4,
     "metadata": {},
     "output_type": "execute_result"
    },
    {
     "data": {
      "image/png": "[encoded data removed]",
      "text/plain": [
       "<Figure size 432x288 with 1 Axes>"
      ]
     },
     "metadata": {
      "needs_background": "light"
     },
     "output_type": "display_data"
    }
   ],
   "source": [
    "plt.plot(my_input['DiHd_pred_old'], my_input['DiHd_pred_old']-sites['DiHd_Pred_P1999'], '.r')"
   ]
  },
  {
   "cell_type": "code",
   "execution_count": 5,
   "id": "6d9a7c32-df89-4b5b-a848-ff6c3ffdcaba",
   "metadata": {},
   "outputs": [
    {
     "data": {
      "text/plain": [
       "[<matplotlib.lines.Line2D at 0x23b5a9a2340>]"
      ]
     },
     "execution_count": 5,
     "metadata": {},
     "output_type": "execute_result"
    },
    {
     "data": {
      "image/png": "[encoded data removed]",
      "text/plain": [
       "<Figure size 432x288 with 1 Axes>"
      ]
     },
     "metadata": {
      "needs_background": "light"
     },
     "output_type": "display_data"
    }
   ],
   "source": [
    "plt.plot(my_input['DiHd_pred_new'], my_input['DiHd_pred_new']-sites['DiHd_Pred_P2008'], '.r')"
   ]
  },
  {
   "cell_type": "code",
   "execution_count": 6,
   "id": "f47bd60f-9474-47ae-a0e9-00fcd8284314",
   "metadata": {},
   "outputs": [
    {
     "data": {
      "text/plain": [
       "[<matplotlib.lines.Line2D at 0x23b587d0550>]"
      ]
     },
     "execution_count": 6,
     "metadata": {},
     "output_type": "execute_result"
    },
    {
     "data": {
      "image/png": "[encoded data removed]",
      "text/plain": [
       "<Figure size 432x288 with 1 Axes>"
      ]
     },
     "metadata": {
      "needs_background": "light"
     },
     "output_type": "display_data"
    }
   ],
   "source": [
    "plt.plot(my_input['EnFs_pred_old'], my_input['EnFs_pred_old']-sites['EnFs_Pred_P1999'], '.r')"
   ]
  },
  {
   "cell_type": "code",
   "execution_count": 7,
   "id": "ed91776f-a98a-45f4-b7e1-42f72eb5b8f5",
   "metadata": {},
   "outputs": [
    {
     "data": {
      "text/plain": [
       "[<matplotlib.lines.Line2D at 0x23b5aa03c40>]"
      ]
     },
     "execution_count": 7,
     "metadata": {},
     "output_type": "execute_result"
    },
    {
     "data": {
      "image/png": "[encoded data removed]",
      "text/plain": [
       "<Figure size 432x288 with 1 Axes>"
      ]
     },
     "metadata": {
      "needs_background": "light"
     },
     "output_type": "display_data"
    }
   ],
   "source": [
    "plt.plot(my_input['Jd_pred_old'], my_input['Jd_pred_old']-sites['Jd_Pred_P1999'], '.r')"
   ]
  },
  {
   "cell_type": "code",
   "execution_count": 8,
   "id": "93fc913a-d9e1-4b08-b81b-041705746a9d",
   "metadata": {},
   "outputs": [
    {
     "data": {
      "text/plain": [
       "[<matplotlib.lines.Line2D at 0x23b5aa74430>]"
      ]
     },
     "execution_count": 8,
     "metadata": {},
     "output_type": "execute_result"
    },
    {
     "data": {
      "image/png": "[encoded data removed]",
      "text/plain": [
       "<Figure size 432x288 with 1 Axes>"
      ]
     },
     "metadata": {
      "needs_background": "light"
     },
     "output_type": "display_data"
    }
   ],
   "source": [
    "plt.plot(my_input['CaTi_pred_old'], my_input['CaTi_pred_old']-sites['CaTi_Pred_P1999'], '.r')"
   ]
  },
  {
   "cell_type": "code",
   "execution_count": 9,
   "id": "2a607f4d-d5de-4fc0-9e7c-6a0c5378ce7f",
   "metadata": {},
   "outputs": [
    {
     "data": {
      "text/plain": [
       "[<matplotlib.lines.Line2D at 0x23b5aad3e50>]"
      ]
     },
     "execution_count": 9,
     "metadata": {},
     "output_type": "execute_result"
    },
    {
     "data": {
      "image/png": "[encoded data removed]",
      "text/plain": [
       "<Figure size 432x288 with 1 Axes>"
      ]
     },
     "metadata": {
      "needs_background": "light"
     },
     "output_type": "display_data"
    }
   ],
   "source": [
    "plt.plot(my_input['CrCaTs_pred_old'], my_input['CrCaTs_pred_old']-sites['CrCaTs_Pred_P1999'], '.r')"
   ]
  },
  {
   "cell_type": "code",
   "execution_count": null,
   "id": "93ca6abc-216a-4fa7-a95e-4b2ce57ecb8f",
   "metadata": {},
   "outputs": [],
   "source": []
  },
  {
   "cell_type": "code",
   "execution_count": 21,
   "id": "77714d5a-8655-4da5-bd0b-e7950c301704",
   "metadata": {},
   "outputs": [
    {
     "data": {
      "text/plain": [
       "0     0.681801\n",
       "1     0.795974\n",
       "2     0.450033\n",
       "3     0.699312\n",
       "4     0.359305\n",
       "5     0.437895\n",
       "6     0.813211\n",
       "7     0.542726\n",
       "8     0.677179\n",
       "9     0.685966\n",
       "10    0.904955\n",
       "11    0.985504\n",
       "12    0.795974\n",
       "13    0.795974\n",
       "14    0.617176\n",
       "15    0.795974\n",
       "16    0.759387\n",
       "17    0.792366\n",
       "18    0.688186\n",
       "19    0.794419\n",
       "20    0.909502\n",
       "21    0.542990\n",
       "22    0.795974\n",
       "23    0.862490\n",
       "24    0.779632\n",
       "25    0.815677\n",
       "26    1.030600\n",
       "27    0.795974\n",
       "dtype: float64"
      ]
     },
     "execution_count": 21,
     "metadata": {},
     "output_type": "execute_result"
    }
   ],
   "source": [
    "test"
   ]
  },
  {
   "cell_type": "code",
   "execution_count": null,
   "id": "bff620db-febb-46f8-b38c-d41a58fccd4d",
   "metadata": {},
   "outputs": [],
   "source": []
  }
 ],
 "metadata": {
  "kernelspec": {
   "display_name": "Python 3",
   "language": "python",
   "name": "python3"
  },
  "language_info": {
   "codemirror_mode": {
    "name": "ipython",
    "version": 3
   },
   "file_extension": ".py",
   "mimetype": "text/x-python",
   "name": "python",
   "nbconvert_exporter": "python",
   "pygments_lexer": "ipython3",
   "version": "3.8.5"
  }
 },
 "nbformat": 4,
 "nbformat_minor": 5
}
