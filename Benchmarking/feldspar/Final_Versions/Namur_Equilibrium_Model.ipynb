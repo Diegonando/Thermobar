{
 "cells": [
  {
   "cell_type": "markdown",
   "id": "dddf46e1-ae36-48b6-91a7-6da0dda3e673",
   "metadata": {},
   "source": [
    "## This notebook benchmarks to the results of the Namur et al. (2011) Supporting Spreadsheet"
   ]
  },
  {
   "cell_type": "code",
   "execution_count": 1,
   "id": "60c0d050-b8b5-41ff-9410-9bf98d1fc755",
   "metadata": {},
   "outputs": [],
   "source": [
    "import numpy as np\n",
    "import pandas as pd\n",
    "import Thermobar as pt\n",
    "import matplotlib.pyplot as plt\n",
    "import matplotlib as mpl\n",
    "from matplotlib import cm\n",
    "import warnings as w\n",
    "pd.options.display.max_columns = None"
   ]
  },
  {
   "cell_type": "code",
   "execution_count": 2,
   "id": "9ffeb14a-e509-4d76-8b4f-9b05fd01d6d3",
   "metadata": {},
   "outputs": [
    {
     "data": {
      "text/html": [
       "<div>\n",
       "<style scoped>\n",
       "    .dataframe tbody tr th:only-of-type {\n",
       "        vertical-align: middle;\n",
       "    }\n",
       "\n",
       "    .dataframe tbody tr th {\n",
       "        vertical-align: top;\n",
       "    }\n",
       "\n",
       "    .dataframe thead th {\n",
       "        text-align: right;\n",
       "    }\n",
       "</style>\n",
       "<table border=\"1\" class=\"dataframe\">\n",
       "  <thead>\n",
       "    <tr style=\"text-align: right;\">\n",
       "      <th></th>\n",
       "      <th>SiO2_Liq</th>\n",
       "      <th>TiO2_Liq</th>\n",
       "      <th>Al2O3_Liq</th>\n",
       "      <th>FeOt_Liq</th>\n",
       "      <th>MnO_Liq</th>\n",
       "      <th>MgO_Liq</th>\n",
       "      <th>CaO_Liq</th>\n",
       "      <th>Na2O_Liq</th>\n",
       "      <th>K2O_Liq</th>\n",
       "      <th>Cr2O3_Liq</th>\n",
       "      <th>P2O5_Liq</th>\n",
       "      <th>H2O_Liq</th>\n",
       "      <th>Fe3Fet_Liq</th>\n",
       "      <th>NiO_Liq</th>\n",
       "      <th>CoO_Liq</th>\n",
       "      <th>CO2_Liq</th>\n",
       "      <th>Sample_ID_Liq</th>\n",
       "    </tr>\n",
       "  </thead>\n",
       "  <tbody>\n",
       "    <tr>\n",
       "      <th>0</th>\n",
       "      <td>46.42000</td>\n",
       "      <td>4.410000</td>\n",
       "      <td>12.430000</td>\n",
       "      <td>15.500000</td>\n",
       "      <td>0.0</td>\n",
       "      <td>4.710000</td>\n",
       "      <td>10.220000</td>\n",
       "      <td>3.220000</td>\n",
       "      <td>0.7000</td>\n",
       "      <td>0.0</td>\n",
       "      <td>0.600000</td>\n",
       "      <td>0.0</td>\n",
       "      <td>0.0</td>\n",
       "      <td>0.0</td>\n",
       "      <td>0.0</td>\n",
       "      <td>0.0</td>\n",
       "      <td>Mafic</td>\n",
       "    </tr>\n",
       "    <tr>\n",
       "      <th>1</th>\n",
       "      <td>46.70097</td>\n",
       "      <td>5.238199</td>\n",
       "      <td>12.465937</td>\n",
       "      <td>15.894384</td>\n",
       "      <td>0.0</td>\n",
       "      <td>4.882248</td>\n",
       "      <td>10.359445</td>\n",
       "      <td>4.028982</td>\n",
       "      <td>1.0638</td>\n",
       "      <td>0.0</td>\n",
       "      <td>0.910382</td>\n",
       "      <td>0.0</td>\n",
       "      <td>0.0</td>\n",
       "      <td>0.0</td>\n",
       "      <td>0.0</td>\n",
       "      <td>0.0</td>\n",
       "      <td>Mafic</td>\n",
       "    </tr>\n",
       "    <tr>\n",
       "      <th>2</th>\n",
       "      <td>46.70097</td>\n",
       "      <td>5.238199</td>\n",
       "      <td>12.465937</td>\n",
       "      <td>15.894384</td>\n",
       "      <td>0.0</td>\n",
       "      <td>4.882248</td>\n",
       "      <td>10.359445</td>\n",
       "      <td>5.000000</td>\n",
       "      <td>1.0638</td>\n",
       "      <td>0.0</td>\n",
       "      <td>0.910382</td>\n",
       "      <td>0.0</td>\n",
       "      <td>0.0</td>\n",
       "      <td>0.0</td>\n",
       "      <td>0.0</td>\n",
       "      <td>0.0</td>\n",
       "      <td>Mafic</td>\n",
       "    </tr>\n",
       "    <tr>\n",
       "      <th>3</th>\n",
       "      <td>46.70097</td>\n",
       "      <td>5.238199</td>\n",
       "      <td>12.465937</td>\n",
       "      <td>15.894384</td>\n",
       "      <td>0.0</td>\n",
       "      <td>4.882248</td>\n",
       "      <td>10.359445</td>\n",
       "      <td>5.000000</td>\n",
       "      <td>0.0000</td>\n",
       "      <td>0.0</td>\n",
       "      <td>0.910382</td>\n",
       "      <td>0.0</td>\n",
       "      <td>0.0</td>\n",
       "      <td>0.0</td>\n",
       "      <td>0.0</td>\n",
       "      <td>0.0</td>\n",
       "      <td>Mafic</td>\n",
       "    </tr>\n",
       "    <tr>\n",
       "      <th>4</th>\n",
       "      <td>48.24000</td>\n",
       "      <td>3.590000</td>\n",
       "      <td>16.450000</td>\n",
       "      <td>10.630000</td>\n",
       "      <td>0.0</td>\n",
       "      <td>6.130000</td>\n",
       "      <td>9.960000</td>\n",
       "      <td>3.590000</td>\n",
       "      <td>1.4300</td>\n",
       "      <td>0.0</td>\n",
       "      <td>0.490000</td>\n",
       "      <td>0.0</td>\n",
       "      <td>0.0</td>\n",
       "      <td>0.0</td>\n",
       "      <td>0.0</td>\n",
       "      <td>0.0</td>\n",
       "      <td>Alk-rich Mafic</td>\n",
       "    </tr>\n",
       "  </tbody>\n",
       "</table>\n",
       "</div>"
      ],
      "text/plain": [
       "   SiO2_Liq  TiO2_Liq  Al2O3_Liq   FeOt_Liq  MnO_Liq   MgO_Liq    CaO_Liq  \\\n",
       "0  46.42000  4.410000  12.430000  15.500000      0.0  4.710000  10.220000   \n",
       "1  46.70097  5.238199  12.465937  15.894384      0.0  4.882248  10.359445   \n",
       "2  46.70097  5.238199  12.465937  15.894384      0.0  4.882248  10.359445   \n",
       "3  46.70097  5.238199  12.465937  15.894384      0.0  4.882248  10.359445   \n",
       "4  48.24000  3.590000  16.450000  10.630000      0.0  6.130000   9.960000   \n",
       "\n",
       "   Na2O_Liq  K2O_Liq  Cr2O3_Liq  P2O5_Liq  H2O_Liq  Fe3Fet_Liq  NiO_Liq  \\\n",
       "0  3.220000   0.7000        0.0  0.600000      0.0         0.0      0.0   \n",
       "1  4.028982   1.0638        0.0  0.910382      0.0         0.0      0.0   \n",
       "2  5.000000   1.0638        0.0  0.910382      0.0         0.0      0.0   \n",
       "3  5.000000   0.0000        0.0  0.910382      0.0         0.0      0.0   \n",
       "4  3.590000   1.4300        0.0  0.490000      0.0         0.0      0.0   \n",
       "\n",
       "   CoO_Liq  CO2_Liq   Sample_ID_Liq  \n",
       "0      0.0      0.0           Mafic  \n",
       "1      0.0      0.0           Mafic  \n",
       "2      0.0      0.0           Mafic  \n",
       "3      0.0      0.0           Mafic  \n",
       "4      0.0      0.0  Alk-rich Mafic  "
      ]
     },
     "execution_count": 2,
     "metadata": {},
     "output_type": "execute_result"
    }
   ],
   "source": [
    "In=pt.import_excel('Namur_2011_Supplement.xlsx', sheet_name='Thermobar_input', suffix=\"_Liq\")\n",
    "my_input=In['my_input']\n",
    "Liqs=In['Liqs']\n",
    "Liqs.head()"
   ]
  },
  {
   "cell_type": "code",
   "execution_count": 3,
   "id": "5f0a4c45-4b33-4fbe-af51-0c7896bf3a42",
   "metadata": {},
   "outputs": [
    {
     "data": {
      "text/html": [
       "<div>\n",
       "<style scoped>\n",
       "    .dataframe tbody tr th:only-of-type {\n",
       "        vertical-align: middle;\n",
       "    }\n",
       "\n",
       "    .dataframe tbody tr th {\n",
       "        vertical-align: top;\n",
       "    }\n",
       "\n",
       "    .dataframe thead th {\n",
       "        text-align: right;\n",
       "    }\n",
       "</style>\n",
       "<table border=\"1\" class=\"dataframe\">\n",
       "  <thead>\n",
       "    <tr style=\"text-align: right;\">\n",
       "      <th></th>\n",
       "      <th>An_Eq_Thermo_eq31</th>\n",
       "      <th>An_Eq_best_non-thermo_choice</th>\n",
       "      <th>Selected non-thermo model</th>\n",
       "      <th>An_Eq_Mafic_Ultramafic_eq33</th>\n",
       "      <th>An_Eq_Alk_Mafic_Ultramafic_eq34</th>\n",
       "      <th>An_Eq_Int_Fels_eq35</th>\n",
       "    </tr>\n",
       "  </thead>\n",
       "  <tbody>\n",
       "    <tr>\n",
       "      <th>0</th>\n",
       "      <td>0.579680</td>\n",
       "      <td>0.600866</td>\n",
       "      <td>Maf_Ultra</td>\n",
       "      <td>0.600866</td>\n",
       "      <td>0.527641</td>\n",
       "      <td>0.535593</td>\n",
       "    </tr>\n",
       "    <tr>\n",
       "      <th>1</th>\n",
       "      <td>0.556010</td>\n",
       "      <td>0.453945</td>\n",
       "      <td>Alk_Maf_Ultra</td>\n",
       "      <td>0.528965</td>\n",
       "      <td>0.453945</td>\n",
       "      <td>0.511007</td>\n",
       "    </tr>\n",
       "    <tr>\n",
       "      <th>2</th>\n",
       "      <td>0.530637</td>\n",
       "      <td>0.390591</td>\n",
       "      <td>Alk_Maf_Ultra</td>\n",
       "      <td>0.480236</td>\n",
       "      <td>0.390591</td>\n",
       "      <td>0.489641</td>\n",
       "    </tr>\n",
       "    <tr>\n",
       "      <th>3</th>\n",
       "      <td>0.526274</td>\n",
       "      <td>0.389940</td>\n",
       "      <td>Alk_Maf_Ultra</td>\n",
       "      <td>0.502054</td>\n",
       "      <td>0.389940</td>\n",
       "      <td>0.490625</td>\n",
       "    </tr>\n",
       "    <tr>\n",
       "      <th>4</th>\n",
       "      <td>0.651229</td>\n",
       "      <td>0.725689</td>\n",
       "      <td>Alk_Maf_Ultra</td>\n",
       "      <td>0.656961</td>\n",
       "      <td>0.725689</td>\n",
       "      <td>0.620265</td>\n",
       "    </tr>\n",
       "  </tbody>\n",
       "</table>\n",
       "</div>"
      ],
      "text/plain": [
       "   An_Eq_Thermo_eq31  An_Eq_best_non-thermo_choice Selected non-thermo model  \\\n",
       "0           0.579680                      0.600866                 Maf_Ultra   \n",
       "1           0.556010                      0.453945             Alk_Maf_Ultra   \n",
       "2           0.530637                      0.390591             Alk_Maf_Ultra   \n",
       "3           0.526274                      0.389940             Alk_Maf_Ultra   \n",
       "4           0.651229                      0.725689             Alk_Maf_Ultra   \n",
       "\n",
       "   An_Eq_Mafic_Ultramafic_eq33  An_Eq_Alk_Mafic_Ultramafic_eq34  \\\n",
       "0                     0.600866                         0.527641   \n",
       "1                     0.528965                         0.453945   \n",
       "2                     0.480236                         0.390591   \n",
       "3                     0.502054                         0.389940   \n",
       "4                     0.656961                         0.725689   \n",
       "\n",
       "   An_Eq_Int_Fels_eq35  \n",
       "0             0.535593  \n",
       "1             0.511007  \n",
       "2             0.489641  \n",
       "3             0.490625  \n",
       "4             0.620265  "
      ]
     },
     "execution_count": 3,
     "metadata": {},
     "output_type": "execute_result"
    }
   ],
   "source": [
    "Calc_An=pt.calculate_An_Namur2011(liq_comps=Liqs, T=my_input['T'])\n",
    "Calc_An.head()"
   ]
  },
  {
   "cell_type": "markdown",
   "id": "6c6a4808-e067-467a-b00f-ae9f442a02dc",
   "metadata": {},
   "source": [
    "### Benchmarking the thermodynamic expression"
   ]
  },
  {
   "cell_type": "code",
   "execution_count": 4,
   "id": "588e4889-1f47-4b12-b0ae-afbdc8366271",
   "metadata": {},
   "outputs": [
    {
     "data": {
      "text/plain": [
       "Text(0, 0.5, 'Calc An Namur Supplement')"
      ]
     },
     "execution_count": 4,
     "metadata": {},
     "output_type": "execute_result"
    },
    {
     "data": {
      "image/png": "[encoded data removed]",
      "text/plain": [
       "<Figure size 720x360 with 2 Axes>"
      ]
     },
     "metadata": {
      "needs_background": "light"
     },
     "output_type": "display_data"
    }
   ],
   "source": [
    "fig, (ax1, ax2) = plt.subplots(1, 2, figsize=(10,5))\n",
    "ax1.plot(Calc_An['An_Eq_Thermo_eq31'], my_input['Calc_An_Thermo'], 'ok')\n",
    "ax1.plot([min(Calc_An['An_Eq_Thermo_eq31']),  max(Calc_An['An_Eq_Thermo_eq31'])],\n",
    "        [min(Calc_An['An_Eq_Thermo_eq31']),  max(Calc_An['An_Eq_Thermo_eq31'])],\n",
    "        '-r')\n",
    "ax1.set_xlabel('Calc An Thermobar')\n",
    "ax1.set_ylabel('Calc An Namur Supplement')\n",
    "ax2.plot(Calc_An['An_Eq_Thermo_eq31'], Calc_An['An_Eq_Thermo_eq31']-my_input['Calc_An_Thermo'], 'ok')\n",
    "ax2.set_ylabel('Calc An Thermobar - Namur Suppelement')\n",
    "ax2.set_ylabel('Calc An Namur Supplement')"
   ]
  },
  {
   "cell_type": "markdown",
   "id": "b0869204-7f36-473f-ad89-dae42abff360",
   "metadata": {},
   "source": [
    "### Benchmarking the Mafic-Ultramafic expression"
   ]
  },
  {
   "cell_type": "code",
   "execution_count": 6,
   "id": "a434631b-623e-4b48-8701-de098ff66cc2",
   "metadata": {},
   "outputs": [
    {
     "data": {
      "image/png": "[encoded data removed]",
      "text/plain": [
       "<Figure size 720x360 with 2 Axes>"
      ]
     },
     "metadata": {
      "needs_background": "light"
     },
     "output_type": "display_data"
    }
   ],
   "source": [
    "fig, (ax1, ax2) = plt.subplots(1, 2, figsize=(10,5))\n",
    "ax1.plot(Calc_An['An_Eq_Mafic_Ultramafic_eq33'], my_input['Calc_An_Mafic'], 'ok')\n",
    "ax1.plot([min(Calc_An['An_Eq_Mafic_Ultramafic_eq33']),  max(Calc_An['An_Eq_Mafic_Ultramafic_eq33'])],\n",
    "        [min(Calc_An['An_Eq_Mafic_Ultramafic_eq33']),  max(Calc_An['An_Eq_Mafic_Ultramafic_eq33'])],\n",
    "        '-r')\n",
    "ax1.set_xlabel('Calc An Thermobar')\n",
    "ax1.set_ylabel('Calc An Namur Supplement')\n",
    "ax2.plot(Calc_An['An_Eq_Mafic_Ultramafic_eq33'], Calc_An['An_Eq_Mafic_Ultramafic_eq33']-my_input['Calc_An_Mafic'], 'ok')\n",
    "ax2.set_ylabel('Calc An Thermobar - Namur Suppelement')\n",
    "ax2.set_ylabel('Calc An Namur Supplement')\n",
    "fig.tight_layout()"
   ]
  },
  {
   "cell_type": "markdown",
   "id": "f28ce574-89c3-41ec-abbf-89c442ed6527",
   "metadata": {},
   "source": [
    "### Benchmarking the alkaline mafic-ultrAn_Eq_Alk_Mafic_Ultramafic_eq34amafic expression"
   ]
  },
  {
   "cell_type": "code",
   "execution_count": 8,
   "id": "237da59f-dc25-4b4b-9e46-dcf0a74f0d8f",
   "metadata": {},
   "outputs": [
    {
     "data": {
      "image/png": "[encoded data removed]",
      "text/plain": [
       "<Figure size 720x360 with 2 Axes>"
      ]
     },
     "metadata": {
      "needs_background": "light"
     },
     "output_type": "display_data"
    }
   ],
   "source": [
    "fig, (ax1, ax2) = plt.subplots(1, 2, figsize=(10,5))\n",
    "ax1.plot(Calc_An['An_Eq_Alk_Mafic_Ultramafic_eq34'], my_input['Calc_An_Alk_rich'], 'ok')\n",
    "ax1.plot([min(Calc_An['An_Eq_Alk_Mafic_Ultramafic_eq34']),  max(Calc_An['An_Eq_Alk_Mafic_Ultramafic_eq34'])],\n",
    "        [min(Calc_An['An_Eq_Alk_Mafic_Ultramafic_eq34']),  max(Calc_An['An_Eq_Alk_Mafic_Ultramafic_eq34'])],\n",
    "        '-r')\n",
    "ax1.set_xlabel('Calc An Thermobar')\n",
    "ax1.set_ylabel('Calc An Namur Supplement')\n",
    "ax2.plot(Calc_An['An_Eq_Alk_Mafic_Ultramafic_eq34'], \n",
    "         Calc_An['An_Eq_Alk_Mafic_Ultramafic_eq34']-my_input['Calc_An_Alk_rich'], 'ok')\n",
    "ax2.set_ylabel('Calc An Thermobar - Namur Suppelement')\n",
    "ax2.set_ylabel('Calc An Namur Supplement')\n",
    "fig.tight_layout()"
   ]
  },
  {
   "cell_type": "markdown",
   "id": "7aca3c57-bb47-4b83-aad2-03930a08ec01",
   "metadata": {},
   "source": [
    "### Benchmarking the silicic expression"
   ]
  },
  {
   "cell_type": "code",
   "execution_count": 10,
   "id": "a9deecfe-2c5a-40bb-81bb-73fd19c33662",
   "metadata": {},
   "outputs": [
    {
     "data": {
      "image/png": "[encoded data removed]",
      "text/plain": [
       "<Figure size 720x360 with 2 Axes>"
      ]
     },
     "metadata": {
      "needs_background": "light"
     },
     "output_type": "display_data"
    }
   ],
   "source": [
    "fig, (ax1, ax2) = plt.subplots(1, 2, figsize=(10,5))\n",
    "ax1.plot(Calc_An['An_Eq_Int_Fels_eq35'], my_input['Calc_An_IF'], 'ok')\n",
    "ax1.plot([min(Calc_An['An_Eq_Int_Fels_eq35']),  max(Calc_An['An_Eq_Int_Fels_eq35'])],\n",
    "        [min(Calc_An['An_Eq_Int_Fels_eq35']),  max(Calc_An['An_Eq_Int_Fels_eq35'])],\n",
    "        '-r')\n",
    "ax1.set_xlabel('Calc An Thermobar')\n",
    "ax1.set_ylabel('Calc An Namur Supplement')\n",
    "ax2.plot(Calc_An['An_Eq_Int_Fels_eq35'], \n",
    "         Calc_An['An_Eq_Int_Fels_eq35']-my_input['Calc_An_IF'], 'ok')\n",
    "ax2.set_ylabel('Calc An Thermobar - Namur Suppelement')\n",
    "ax2.set_ylabel('Calc An Namur Supplement')\n",
    "fig.tight_layout()"
   ]
  }
 ],
 "metadata": {
  "kernelspec": {
   "display_name": "Python 3",
   "language": "python",
   "name": "python3"
  },
  "language_info": {
   "codemirror_mode": {
    "name": "ipython",
    "version": 3
   },
   "file_extension": ".py",
   "mimetype": "text/x-python",
   "name": "python",
   "nbconvert_exporter": "python",
   "pygments_lexer": "ipython3",
   "version": "3.8.5"
  }
 },
 "nbformat": 4,
 "nbformat_minor": 5
}
