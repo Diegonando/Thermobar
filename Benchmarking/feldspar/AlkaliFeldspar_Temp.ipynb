{
 "cells": [
  {
   "cell_type": "markdown",
   "metadata": {},
   "source": [
    "## Benchmarking to version downloaded from Putirka's personal website on 3rd March 2020\n",
    "- Discrepencies likely reflect rounded molar masses\n",
    "\n"
   ]
  },
  {
   "cell_type": "code",
   "execution_count": 1,
   "metadata": {},
   "outputs": [],
   "source": [
    "import numpy as np\n",
    "import pandas as pd\n",
    "import sys\n",
    "sys.path.append(\"../..\")\n",
    "import matplotlib.pyplot as plt\n",
    "import Thermobar as pt\n",
    "import sympy as sym\n",
    "pd.options.display.max_columns = None\n",
    "import inspect\n",
    "from functools import partial"
   ]
  },
  {
   "cell_type": "markdown",
   "metadata": {},
   "source": [
    "# Alkali feldspar-liquid functions"
   ]
  },
  {
   "cell_type": "code",
   "execution_count": 2,
   "metadata": {},
   "outputs": [
    {
     "name": "stderr",
     "output_type": "stream",
     "text": [
      "C:\\Users\\penny\\anaconda3\\lib\\site-packages\\ipykernel\\ipkernel.py:283: DeprecationWarning: `should_run_async` will not call `transform_cell` automatically in the future. Please pass the result to `transformed_cell` argument and any exception that happen during thetransform in `preprocessing_exc_tuple` in IPython 7.17 and above.\n",
      "  and should_run_async(code)\n"
     ]
    },
    {
     "name": "stdout",
     "output_type": "stream",
     "text": [
      "We have set Fe3Fet_Liq to zero, as you only entered FeOt. You can input a Fe3FeT_Liq column to specify this value instead\n"
     ]
    }
   ],
   "source": [
    "out=pt.import_Excel('Python_Liq_Feldspar.xlsx', sheet_name=\"AlkaliFeldsars\")\n",
    "my_input=out['my_input']\n",
    "myFspars1=out['Kspars']\n",
    "myLiquids1=out['Liqs']"
   ]
  },
  {
   "cell_type": "markdown",
   "metadata": {},
   "source": [
    "## eq24b Putirka, 2008: Liq- Alk Feldspar thermometer\n",
    "- Had to edit function, because putirka liquid spreadsheet doesnt use P2O5, but this spradsheet does, makes a few degrees difference"
   ]
  },
  {
   "cell_type": "code",
   "execution_count": 3,
   "metadata": {},
   "outputs": [
    {
     "name": "stderr",
     "output_type": "stream",
     "text": [
      "C:\\Users\\penny\\anaconda3\\lib\\site-packages\\ipykernel\\ipkernel.py:283: DeprecationWarning: `should_run_async` will not call `transform_cell` automatically in the future. Please pass the result to `transformed_cell` argument and any exception that happen during thetransform in `preprocessing_exc_tuple` in IPython 7.17 and above.\n",
      "  and should_run_async(code)\n"
     ]
    },
    {
     "data": {
      "image/png": "[encoded data removed]",
      "text/plain": [
       "<Figure size 864x360 with 2 Axes>"
      ]
     },
     "metadata": {
      "needs_background": "light"
     },
     "output_type": "display_data"
    }
   ],
   "source": [
    "T_Put=my_input['FixedP_T_Put2008_Eq24b'] \n",
    "T_py=pt.calculate_Fspar_Liq_Temp(Kspar_Comps=myFspars1, Liq_Comps=myLiquids1, equationT=\"T_Put2008_eq24b\", P=10*my_input['P_GPa'])-273.15\n",
    "fig, ((ax1, ax2)) = plt.subplots(1, 2, figsize=(12, 5))\n",
    "#plotting 1:1 line\n",
    "ax1.plot([np.min(T_Put), np.max(T_Put)], [np.min(T_Put), np.max(T_Put)], '-r')\n",
    "ax1.plot(T_py, T_Put, 'ok')\n",
    "ax1.set_xlabel('T Python (K)')\n",
    "ax1.set_ylabel('T Put (K)')\n",
    "ax2.plot(T_py, T_py-T_Put, 'ok')\n",
    "ax2.set_ylabel('T Python - T Put')\n",
    "ax2.set_xlabel('T Python')\n",
    "plt.subplots_adjust(left=0.125, bottom=None, right=0.9, top=None, wspace=0.5, hspace=None)"
   ]
  },
  {
   "cell_type": "markdown",
   "metadata": {},
   "source": [
    "## Equation 24c - Doesn't actually use alkali feldspar composition, so use liquid thermometry function"
   ]
  },
  {
   "cell_type": "code",
   "execution_count": 1,
   "metadata": {},
   "outputs": [
    {
     "ename": "NameError",
     "evalue": "name 'my_input' is not defined",
     "output_type": "error",
     "traceback": [
      "\u001b[1;31m---------------------------------------------------------------------------\u001b[0m",
      "\u001b[1;31mNameError\u001b[0m                                 Traceback (most recent call last)",
      "\u001b[1;32m<ipython-input-1-b62c3ce82223>\u001b[0m in \u001b[0;36m<module>\u001b[1;34m\u001b[0m\n\u001b[0;32m      1\u001b[0m \u001b[1;31m# Discrepencies likely due to rounded molar masses\u001b[0m\u001b[1;33m\u001b[0m\u001b[1;33m\u001b[0m\u001b[1;33m\u001b[0m\u001b[0m\n\u001b[1;32m----> 2\u001b[1;33m \u001b[0mT_Put\u001b[0m\u001b[1;33m=\u001b[0m\u001b[0mmy_input\u001b[0m\u001b[1;33m[\u001b[0m\u001b[1;34m'FixedP_T_Put2008_Eq24c'\u001b[0m\u001b[1;33m]\u001b[0m\u001b[1;33m\u001b[0m\u001b[1;33m\u001b[0m\u001b[0m\n\u001b[0m\u001b[0;32m      3\u001b[0m \u001b[0mT_py\u001b[0m\u001b[1;33m=\u001b[0m\u001b[0mpt\u001b[0m\u001b[1;33m.\u001b[0m\u001b[0mcalculate_Liq_Temp\u001b[0m\u001b[1;33m(\u001b[0m\u001b[0mLiq_Comps\u001b[0m\u001b[1;33m=\u001b[0m\u001b[0mmyLiquids1\u001b[0m\u001b[1;33m,\u001b[0m \u001b[0mequationT\u001b[0m\u001b[1;33m=\u001b[0m\u001b[1;34m\"T_Put2008_eq24c_kspar_sat\"\u001b[0m\u001b[1;33m,\u001b[0m \u001b[0mP\u001b[0m\u001b[1;33m=\u001b[0m\u001b[1;36m10\u001b[0m\u001b[1;33m*\u001b[0m\u001b[0mmy_input\u001b[0m\u001b[1;33m[\u001b[0m\u001b[1;34m'P_GPa'\u001b[0m\u001b[1;33m]\u001b[0m\u001b[1;33m)\u001b[0m\u001b[1;33m-\u001b[0m\u001b[1;36m273.15\u001b[0m\u001b[1;33m\u001b[0m\u001b[1;33m\u001b[0m\u001b[0m\n\u001b[0;32m      4\u001b[0m \u001b[0mfig\u001b[0m\u001b[1;33m,\u001b[0m \u001b[1;33m(\u001b[0m\u001b[1;33m(\u001b[0m\u001b[0max1\u001b[0m\u001b[1;33m,\u001b[0m \u001b[0max2\u001b[0m\u001b[1;33m)\u001b[0m\u001b[1;33m)\u001b[0m \u001b[1;33m=\u001b[0m \u001b[0mplt\u001b[0m\u001b[1;33m.\u001b[0m\u001b[0msubplots\u001b[0m\u001b[1;33m(\u001b[0m\u001b[1;36m1\u001b[0m\u001b[1;33m,\u001b[0m \u001b[1;36m2\u001b[0m\u001b[1;33m,\u001b[0m \u001b[0mfigsize\u001b[0m\u001b[1;33m=\u001b[0m\u001b[1;33m(\u001b[0m\u001b[1;36m12\u001b[0m\u001b[1;33m,\u001b[0m \u001b[1;36m5\u001b[0m\u001b[1;33m)\u001b[0m\u001b[1;33m)\u001b[0m\u001b[1;33m\u001b[0m\u001b[1;33m\u001b[0m\u001b[0m\n\u001b[0;32m      5\u001b[0m \u001b[1;31m#plotting 1:1 line\u001b[0m\u001b[1;33m\u001b[0m\u001b[1;33m\u001b[0m\u001b[1;33m\u001b[0m\u001b[0m\n",
      "\u001b[1;31mNameError\u001b[0m: name 'my_input' is not defined"
     ]
    }
   ],
   "source": [
    "# Discrepencies likely due to rounded molar masses\n",
    "T_Put=my_input['FixedP_T_Put2008_Eq24c'] \n",
    "T_py=pt.calculate_Liq_Temp(Liq_Comps=myLiquids1, equationT=\"T_Put2008_eq24c_kspar_sat\", P=10*my_input['P_GPa'])-273.15\n",
    "fig, ((ax1, ax2)) = plt.subplots(1, 2, figsize=(12, 5))\n",
    "#plotting 1:1 line\n",
    "ax1.plot([np.min(T_Put), np.max(T_Put)], [np.min(T_Put), np.max(T_Put)], '-r')\n",
    "ax1.plot(T_py, T_Put, 'ok')\n",
    "ax1.set_xlabel('T Python (K)')\n",
    "ax1.set_ylabel('T Put (K)')\n",
    "ax2.plot(T_py, T_py-T_Put, 'ok')\n",
    "ax2.set_ylabel('T Python - T Put')\n",
    "ax2.set_xlabel('T Python')\n",
    "plt.subplots_adjust(left=0.125, bottom=None, right=0.9, top=None, wspace=0.5, hspace=None)"
   ]
  },
  {
   "cell_type": "code",
   "execution_count": null,
   "metadata": {},
   "outputs": [],
   "source": []
  }
 ],
 "metadata": {
  "kernelspec": {
   "display_name": "Python 3",
   "language": "python",
   "name": "python3"
  },
  "language_info": {
   "codemirror_mode": {
    "name": "ipython",
    "version": 3
   },
   "file_extension": ".py",
   "mimetype": "text/x-python",
   "name": "python",
   "nbconvert_exporter": "python",
   "pygments_lexer": "ipython3",
   "version": "3.8.5"
  }
 },
 "nbformat": 4,
 "nbformat_minor": 4
}
