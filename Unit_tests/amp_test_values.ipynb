{
 "cells": [
  {
   "cell_type": "code",
   "execution_count": 1,
   "id": "139c98b6-ecf9-404a-ba8a-be6471124f5a",
   "metadata": {},
   "outputs": [],
   "source": [
    "import numpy as np\n",
    "import pandas as pd\n",
    "import sys\n",
    "sys.path.append(\"..\")\n",
    "import matplotlib.pyplot as plt\n",
    "import Thermobar as pt\n",
    "import sympy as sym\n",
    "pd.options.display.max_columns = None"
   ]
  },
  {
   "cell_type": "code",
   "execution_count": 9,
   "id": "2d4619c0-2e07-4347-b921-6f5b670f2fea",
   "metadata": {},
   "outputs": [],
   "source": [
    "LiqT=pd.DataFrame(data={\"SiO2_Liq\": 51,\n",
    "                            \"TiO2_Liq\": 0.48,\n",
    "                            \"Al2O3_Liq\": 19,\n",
    "                            \"FeOt_Liq\": 5.3,\n",
    "                            \"MnO_Liq\": 0.1,\n",
    "                            \"MgO_Liq\": 4.5,\n",
    "                            \"CaO_Liq\": 9,\n",
    "                            \"Na2O_Liq\": 4.2,\n",
    "                            \"K2O_Liq\": 0.1,\n",
    "                            \"Cr2O3_Liq\": 0.11,\n",
    "                            \"P2O5_Liq\": 0.11,\n",
    "                            \"H2O_Liq\": 5,\n",
    " \"Fe3FeT_Liq\":0.1,\n",
    "}, index=[0])\n",
    "\n",
    "AmpT=pd.DataFrame(data={\"SiO2_Amp\": 40.57,\n",
    "                            \"TiO2_Amp\": 2.45,\n",
    "                            \"Al2O3_Amp\": 12.82,\n",
    "                            \"FeOt_Amp\": 13.110,\n",
    "                            \"MnO_Amp\": 0.26,\n",
    "                            \"MgO_Amp\": 13.02,\n",
    "                            \"CaO_Amp\": 11.63,\n",
    "                            \"Na2O_Amp\": 2.20,\n",
    "                            \"K2O_Amp\": 0.92,\n",
    "                            \"Cr2O3_Amp\": 0.01,\n",
    "                       'F_Amp': 0,\n",
    "                       'Cl_Amp': 0}, index=[0])"
   ]
  },
  {
   "cell_type": "code",
   "execution_count": 7,
   "id": "74d90776-56bf-44ec-b80f-c72742bbdff0",
   "metadata": {},
   "outputs": [],
   "source": [
    "df_ideal_amp = pd.DataFrame(columns=['SiO2_Amp', 'TiO2_Amp', 'Al2O3_Amp',\n",
    " 'FeOt_Amp', 'MnO_Amp', 'MgO_Amp', 'CaO_Amp', 'Na2O_Amp', 'K2O_Amp',\n",
    " 'Cr2O3_Amp', 'F_Amp', 'Cl_Amp'])"
   ]
  },
  {
   "cell_type": "code",
   "execution_count": 10,
   "id": "94c9a42c-84e8-4e51-9de6-70c6327fbc88",
   "metadata": {},
   "outputs": [
    {
     "data": {
      "text/html": [
       "<div>\n",
       "<style scoped>\n",
       "    .dataframe tbody tr th:only-of-type {\n",
       "        vertical-align: middle;\n",
       "    }\n",
       "\n",
       "    .dataframe tbody tr th {\n",
       "        vertical-align: top;\n",
       "    }\n",
       "\n",
       "    .dataframe thead th {\n",
       "        text-align: right;\n",
       "    }\n",
       "</style>\n",
       "<table border=\"1\" class=\"dataframe\">\n",
       "  <thead>\n",
       "    <tr style=\"text-align: right;\">\n",
       "      <th></th>\n",
       "      <th>P_kbar_calc</th>\n",
       "      <th>Input_Check</th>\n",
       "      <th>Fail Msg</th>\n",
       "      <th>equation</th>\n",
       "      <th>H2O_calc</th>\n",
       "      <th>Fe2O3_calc</th>\n",
       "      <th>FeO_calc</th>\n",
       "      <th>Total_recalc</th>\n",
       "      <th>Sum_input</th>\n",
       "      <th>SiO2_Amp_cat_prop</th>\n",
       "      <th>MgO_Amp_cat_prop</th>\n",
       "      <th>FeOt_Amp_cat_prop</th>\n",
       "      <th>CaO_Amp_cat_prop</th>\n",
       "      <th>Al2O3_Amp_cat_prop</th>\n",
       "      <th>Na2O_Amp_cat_prop</th>\n",
       "      <th>K2O_Amp_cat_prop</th>\n",
       "      <th>MnO_Amp_cat_prop</th>\n",
       "      <th>TiO2_Amp_cat_prop</th>\n",
       "      <th>Cr2O3_Amp_cat_prop</th>\n",
       "      <th>F_Amp_cat_prop</th>\n",
       "      <th>Cl_Amp_cat_prop</th>\n",
       "      <th>SiO2_Amp_13_cat</th>\n",
       "      <th>MgO_Amp_13_cat</th>\n",
       "      <th>FeOt_Amp_13_cat</th>\n",
       "      <th>CaO_Amp_13_cat</th>\n",
       "      <th>Al2O3_Amp_13_cat</th>\n",
       "      <th>Na2O_Amp_13_cat</th>\n",
       "      <th>K2O_Amp_13_cat</th>\n",
       "      <th>MnO_Amp_13_cat</th>\n",
       "      <th>TiO2_Amp_13_cat</th>\n",
       "      <th>Cr2O3_Amp_13_cat</th>\n",
       "      <th>F_Amp_13_cat</th>\n",
       "      <th>Cl_Amp_13_cat</th>\n",
       "      <th>cation_sum_Si_Mg</th>\n",
       "      <th>Charge</th>\n",
       "      <th>APE</th>\n",
       "      <th>Fe3_calc</th>\n",
       "      <th>Fe2_calc</th>\n",
       "      <th>O=F,Cl</th>\n",
       "      <th>Total</th>\n",
       "      <th>Mgno_Fe2</th>\n",
       "      <th>Na_calc</th>\n",
       "      <th>B_Sum</th>\n",
       "    </tr>\n",
       "  </thead>\n",
       "  <tbody>\n",
       "    <tr>\n",
       "      <th>0</th>\n",
       "      <td>4.589114</td>\n",
       "      <td>True</td>\n",
       "      <td></td>\n",
       "      <td>(1b+1c)/2</td>\n",
       "      <td>1.917952</td>\n",
       "      <td>7.00609</td>\n",
       "      <td>6.80583</td>\n",
       "      <td>99.609873</td>\n",
       "      <td>96.99</td>\n",
       "      <td>0.675221</td>\n",
       "      <td>0.323045</td>\n",
       "      <td>0.182474</td>\n",
       "      <td>0.207386</td>\n",
       "      <td>0.251469</td>\n",
       "      <td>0.070992</td>\n",
       "      <td>0.019534</td>\n",
       "      <td>0.003665</td>\n",
       "      <td>0.030664</td>\n",
       "      <td>0.000132</td>\n",
       "      <td>0.0</td>\n",
       "      <td>0.0</td>\n",
       "      <td>5.984905</td>\n",
       "      <td>2.863347</td>\n",
       "      <td>1.617377</td>\n",
       "      <td>1.838191</td>\n",
       "      <td>2.228923</td>\n",
       "      <td>0.629244</td>\n",
       "      <td>0.173141</td>\n",
       "      <td>0.032487</td>\n",
       "      <td>0.271795</td>\n",
       "      <td>0.001166</td>\n",
       "      <td>0.0</td>\n",
       "      <td>0.0</td>\n",
       "      <td>1.466669</td>\n",
       "      <td>45.222256</td>\n",
       "      <td>29.021213</td>\n",
       "      <td>0.777744</td>\n",
       "      <td>0.839633</td>\n",
       "      <td>-0.0</td>\n",
       "      <td>NaN</td>\n",
       "      <td>0.773255</td>\n",
       "      <td>0.161809</td>\n",
       "      <td>2.0</td>\n",
       "    </tr>\n",
       "  </tbody>\n",
       "</table>\n",
       "</div>"
      ],
      "text/plain": [
       "   P_kbar_calc  Input_Check Fail Msg   equation  H2O_calc  Fe2O3_calc  \\\n",
       "0     4.589114         True           (1b+1c)/2  1.917952     7.00609   \n",
       "\n",
       "   FeO_calc  Total_recalc  Sum_input  SiO2_Amp_cat_prop  MgO_Amp_cat_prop  \\\n",
       "0   6.80583     99.609873      96.99           0.675221          0.323045   \n",
       "\n",
       "   FeOt_Amp_cat_prop  CaO_Amp_cat_prop  Al2O3_Amp_cat_prop  Na2O_Amp_cat_prop  \\\n",
       "0           0.182474          0.207386            0.251469           0.070992   \n",
       "\n",
       "   K2O_Amp_cat_prop  MnO_Amp_cat_prop  TiO2_Amp_cat_prop  Cr2O3_Amp_cat_prop  \\\n",
       "0          0.019534          0.003665           0.030664            0.000132   \n",
       "\n",
       "   F_Amp_cat_prop  Cl_Amp_cat_prop  SiO2_Amp_13_cat  MgO_Amp_13_cat  \\\n",
       "0             0.0              0.0         5.984905        2.863347   \n",
       "\n",
       "   FeOt_Amp_13_cat  CaO_Amp_13_cat  Al2O3_Amp_13_cat  Na2O_Amp_13_cat  \\\n",
       "0         1.617377        1.838191          2.228923         0.629244   \n",
       "\n",
       "   K2O_Amp_13_cat  MnO_Amp_13_cat  TiO2_Amp_13_cat  Cr2O3_Amp_13_cat  \\\n",
       "0        0.173141        0.032487         0.271795          0.001166   \n",
       "\n",
       "   F_Amp_13_cat  Cl_Amp_13_cat  cation_sum_Si_Mg     Charge        APE  \\\n",
       "0           0.0            0.0          1.466669  45.222256  29.021213   \n",
       "\n",
       "   Fe3_calc  Fe2_calc  O=F,Cl  Total  Mgno_Fe2   Na_calc  B_Sum  \n",
       "0  0.777744  0.839633    -0.0    NaN  0.773255  0.161809    2.0  "
      ]
     },
     "execution_count": 10,
     "metadata": {},
     "output_type": "execute_result"
    }
   ],
   "source": [
    "pt.calculate_amp_only_press(amp_comps=AmpT, equationP=\"P_Ridolfi2021\")"
   ]
  },
  {
   "cell_type": "code",
   "execution_count": 6,
   "id": "5fcb95c8-dcbc-458b-b767-98079ea13ac8",
   "metadata": {},
   "outputs": [
    {
     "data": {
      "text/plain": [
       "6.251692054556109"
      ]
     },
     "execution_count": 6,
     "metadata": {},
     "output_type": "execute_result"
    }
   ],
   "source": [
    "pt.calculate_amp_only_press(amp_comps=AmpT, \n",
    "       equationP=\"P_Mutch2016\").P_kbar_calc[0]"
   ]
  },
  {
   "cell_type": "code",
   "execution_count": 9,
   "id": "2aa3a773-e411-4d48-8d10-9f6c4273d884",
   "metadata": {},
   "outputs": [
    {
     "data": {
      "text/plain": [
       "4.199270205779337"
      ]
     },
     "execution_count": 9,
     "metadata": {},
     "output_type": "execute_result"
    }
   ],
   "source": [
    "pt.calculate_amp_only_press(amp_comps=AmpT, \n",
    "       equationP=\"P_Anderson1995\", T=1100)[0]"
   ]
  },
  {
   "cell_type": "code",
   "execution_count": 11,
   "id": "27a7ca6c-4b31-4f76-953b-3da62218602a",
   "metadata": {},
   "outputs": [
    {
     "data": {
      "text/plain": [
       "1229.1534012312634"
      ]
     },
     "execution_count": 11,
     "metadata": {},
     "output_type": "execute_result"
    }
   ],
   "source": [
    "pt.calculate_amp_only_temp(amp_comps=AmpT, \n",
    "       equationT=\"T_Put2016_eq5\")[0]"
   ]
  },
  {
   "cell_type": "code",
   "execution_count": 12,
   "id": "aa718fb9-e1e5-4873-a10b-e10e1131eec2",
   "metadata": {},
   "outputs": [
    {
     "data": {
      "text/plain": [
       "1227.6548856789914"
      ]
     },
     "execution_count": 12,
     "metadata": {},
     "output_type": "execute_result"
    }
   ],
   "source": [
    "pt.calculate_amp_only_temp(amp_comps=AmpT, \n",
    "       equationT=\"T_Put2016_eq8\", P=6)[0]"
   ]
  },
  {
   "cell_type": "code",
   "execution_count": 13,
   "id": "a61df985-a7bb-4f98-8d7e-f6c0662b15c9",
   "metadata": {},
   "outputs": [
    {
     "data": {
      "text/plain": [
       "0.10279462682872165"
      ]
     },
     "execution_count": 13,
     "metadata": {},
     "output_type": "execute_result"
    }
   ],
   "source": [
    "pt.calculate_amp_only_press_temp(amp_comps=AmpT,\n",
    "       equationP=\"P_Anderson1995\", equationT=\"T_Put2016_eq8\").P_kbar_calc[0]"
   ]
  },
  {
   "cell_type": "code",
   "execution_count": 14,
   "id": "2df63bb2-ae74-4dbc-9afa-d23a56286e9c",
   "metadata": {},
   "outputs": [
    {
     "data": {
      "text/plain": [
       "1203.68274583705"
      ]
     },
     "execution_count": 14,
     "metadata": {},
     "output_type": "execute_result"
    }
   ],
   "source": [
    "pt.calculate_amp_only_press_temp(amp_comps=AmpT,\n",
    "       equationP=\"P_Anderson1995\", equationT=\"T_Put2016_eq8\").T_K_calc[0]"
   ]
  },
  {
   "cell_type": "code",
   "execution_count": 15,
   "id": "f111df30-8fef-4531-ac3a-1809ee5edb23",
   "metadata": {},
   "outputs": [
    {
     "name": "stdout",
     "output_type": "stream",
     "text": [
      "The sum of Si, Ti, Al, Fe, Mg, Ca, Na and K based on 13 cations for some input amphiboles is <90; P=nan is returned for these analyses\n"
     ]
    },
    {
     "data": {
      "text/plain": [
       "1221.9196325167923"
      ]
     },
     "execution_count": 15,
     "metadata": {},
     "output_type": "execute_result"
    }
   ],
   "source": [
    "pt.calculate_amp_only_press_temp(amp_comps=AmpT,\n",
    "       equationP=\"P_Ridolfi2021\", equationT=\"T_Put2016_eq8\").T_K_calc[0]"
   ]
  },
  {
   "cell_type": "code",
   "execution_count": 16,
   "id": "7c7f341c-c8ac-4ad7-8369-f2b2932bac60",
   "metadata": {},
   "outputs": [
    {
     "name": "stdout",
     "output_type": "stream",
     "text": [
      "The sum of Si, Ti, Al, Fe, Mg, Ca, Na and K based on 13 cations for some input amphiboles is <90; P=nan is returned for these analyses\n"
     ]
    },
    {
     "data": {
      "text/plain": [
       "4.589113613235159"
      ]
     },
     "execution_count": 16,
     "metadata": {},
     "output_type": "execute_result"
    }
   ],
   "source": [
    "pt.calculate_amp_only_press_temp(amp_comps=AmpT,\n",
    "       equationP=\"P_Ridolfi2021\", equationT=\"T_Put2016_eq8\").P_kbar_calc[0]"
   ]
  },
  {
   "cell_type": "code",
   "execution_count": 18,
   "id": "e4fede8a-f022-48b8-aaff-d41cdb644317",
   "metadata": {},
   "outputs": [
    {
     "data": {
      "text/plain": [
       "0    1247.384143\n",
       "dtype: float64"
      ]
     },
     "execution_count": 18,
     "metadata": {},
     "output_type": "execute_result"
    }
   ],
   "source": [
    "pt.calculate_amp_liq_temp(liq_comps=LiqT, amp_comps=AmpT, equationT=\"T_Put2016_eq4a_amp_sat\")"
   ]
  },
  {
   "cell_type": "code",
   "execution_count": 19,
   "id": "bebe685b-0f89-4d2e-a258-ba113526a5d9",
   "metadata": {},
   "outputs": [
    {
     "data": {
      "text/plain": [
       "0    1234.702307\n",
       "dtype: float64"
      ]
     },
     "execution_count": 19,
     "metadata": {},
     "output_type": "execute_result"
    }
   ],
   "source": [
    "pt.calculate_amp_liq_temp(liq_comps=LiqT, amp_comps=AmpT, equationT=\"T_Put2016_eq4b\")"
   ]
  },
  {
   "cell_type": "code",
   "execution_count": 20,
   "id": "481f39ec-c145-4dae-9f70-c9cf5e57b24d",
   "metadata": {},
   "outputs": [
    {
     "data": {
      "text/plain": [
       "0    1220.480674\n",
       "dtype: float64"
      ]
     },
     "execution_count": 20,
     "metadata": {},
     "output_type": "execute_result"
    }
   ],
   "source": [
    "pt.calculate_amp_liq_temp(liq_comps=LiqT, amp_comps=AmpT, equationT=\"T_Put2016_eq4b\", H2O_Liq=0)"
   ]
  },
  {
   "cell_type": "code",
   "execution_count": 24,
   "id": "87dfdc44-4516-4bf5-8631-dfc56751c19c",
   "metadata": {},
   "outputs": [
    {
     "data": {
      "text/plain": [
       "0    2.701862\n",
       "dtype: float64"
      ]
     },
     "execution_count": 24,
     "metadata": {},
     "output_type": "execute_result"
    }
   ],
   "source": [
    "pt.calculate_amp_liq_press(liq_comps=LiqT, amp_comps=AmpT, equationP=\"P_Put2016_eq7a\", H2O_Liq=0)"
   ]
  },
  {
   "cell_type": "code",
   "execution_count": 25,
   "id": "efb0bb29-d90e-4ef3-8177-1b369fd85087",
   "metadata": {},
   "outputs": [
    {
     "data": {
      "text/plain": [
       "0    0.495501\n",
       "dtype: float64"
      ]
     },
     "execution_count": 25,
     "metadata": {},
     "output_type": "execute_result"
    }
   ],
   "source": [
    "pt.calculate_amp_liq_press(liq_comps=LiqT, amp_comps=AmpT, equationP=\"P_Put2016_eq7b\", H2O_Liq=0)"
   ]
  },
  {
   "cell_type": "code",
   "execution_count": 31,
   "id": "15635fba-67e0-44ad-a55b-edc1d4ee6c1c",
   "metadata": {},
   "outputs": [
    {
     "data": {
      "text/html": [
       "<div>\n",
       "<style scoped>\n",
       "    .dataframe tbody tr th:only-of-type {\n",
       "        vertical-align: middle;\n",
       "    }\n",
       "\n",
       "    .dataframe tbody tr th {\n",
       "        vertical-align: top;\n",
       "    }\n",
       "\n",
       "    .dataframe thead th {\n",
       "        text-align: right;\n",
       "    }\n",
       "</style>\n",
       "<table border=\"1\" class=\"dataframe\">\n",
       "  <thead>\n",
       "    <tr style=\"text-align: right;\">\n",
       "      <th></th>\n",
       "      <th>P_kbar_calc</th>\n",
       "      <th>Kd-Fe-Mg</th>\n",
       "      <th>Eq Putirka 2016?</th>\n",
       "    </tr>\n",
       "  </thead>\n",
       "  <tbody>\n",
       "    <tr>\n",
       "      <th>0</th>\n",
       "      <td>4.359844</td>\n",
       "      <td>0.854897</td>\n",
       "      <td>N</td>\n",
       "    </tr>\n",
       "  </tbody>\n",
       "</table>\n",
       "</div>"
      ],
      "text/plain": [
       "   P_kbar_calc  Kd-Fe-Mg Eq Putirka 2016?\n",
       "0     4.359844  0.854897                N"
      ]
     },
     "execution_count": 31,
     "metadata": {},
     "output_type": "execute_result"
    }
   ],
   "source": [
    "pt.calculate_amp_liq_press(liq_comps=LiqT, amp_comps=AmpT, equationP=\"P_Put2016_eq7b\", eq_tests=True)"
   ]
  },
  {
   "cell_type": "code",
   "execution_count": 32,
   "id": "c12183d2-cb78-4d09-9497-2547b81c5882",
   "metadata": {},
   "outputs": [
    {
     "name": "stdout",
     "output_type": "stream",
     "text": [
      "Youve selected a P-independent function\n",
      "Youve selected a T-independent function\n"
     ]
    },
    {
     "data": {
      "text/html": [
       "<div>\n",
       "<style scoped>\n",
       "    .dataframe tbody tr th:only-of-type {\n",
       "        vertical-align: middle;\n",
       "    }\n",
       "\n",
       "    .dataframe tbody tr th {\n",
       "        vertical-align: top;\n",
       "    }\n",
       "\n",
       "    .dataframe thead th {\n",
       "        text-align: right;\n",
       "    }\n",
       "</style>\n",
       "<table border=\"1\" class=\"dataframe\">\n",
       "  <thead>\n",
       "    <tr style=\"text-align: right;\">\n",
       "      <th></th>\n",
       "      <th>P_kbar_calc</th>\n",
       "      <th>T_K_calc</th>\n",
       "    </tr>\n",
       "  </thead>\n",
       "  <tbody>\n",
       "    <tr>\n",
       "      <th>0</th>\n",
       "      <td>5.264159</td>\n",
       "      <td>1234.702307</td>\n",
       "    </tr>\n",
       "  </tbody>\n",
       "</table>\n",
       "</div>"
      ],
      "text/plain": [
       "   P_kbar_calc     T_K_calc\n",
       "0     5.264159  1234.702307"
      ]
     },
     "execution_count": 32,
     "metadata": {},
     "output_type": "execute_result"
    }
   ],
   "source": [
    "pt.calculate_amp_liq_press_temp(liq_comps=LiqT, amp_comps=AmpT, \n",
    "                                equationP=\"P_Put2016_eq7a\", equationT=\"T_Put2016_eq4b\")"
   ]
  },
  {
   "cell_type": "code",
   "execution_count": null,
   "id": "bf9601d1-6384-4a72-9ecc-52afe507be8d",
   "metadata": {},
   "outputs": [],
   "source": []
  }
 ],
 "metadata": {
  "kernelspec": {
   "display_name": "Python 3",
   "language": "python",
   "name": "python3"
  },
  "language_info": {
   "codemirror_mode": {
    "name": "ipython",
    "version": 3
   },
   "file_extension": ".py",
   "mimetype": "text/x-python",
   "name": "python",
   "nbconvert_exporter": "python",
   "pygments_lexer": "ipython3",
   "version": "3.8.5"
  }
 },
 "nbformat": 4,
 "nbformat_minor": 5
}
