{
 "cells": [
  {
   "cell_type": "code",
   "execution_count": 1,
   "id": "39b1d3e5-a03f-400e-83a7-ac6fedd1758b",
   "metadata": {},
   "outputs": [],
   "source": [
    "import numpy as np\n",
    "import pandas as pd\n",
    "import sys\n",
    "sys.path.append(\"..\")\n",
    "import matplotlib.pyplot as plt\n",
    "import Thermobar as pt\n",
    "import sympy as sym\n",
    "pd.options.display.max_columns = None"
   ]
  },
  {
   "cell_type": "code",
   "execution_count": 2,
   "id": "a0800dfb-8bae-41b8-8b73-a6249563ee59",
   "metadata": {},
   "outputs": [],
   "source": [
    "LiqT=pd.DataFrame(data={\"SiO2_Liq\": 51,\n",
    "                            \"TiO2_Liq\": 0.48,\n",
    "                            \"Al2O3_Liq\": 19,\n",
    "                            \"FeOt_Liq\": 5.3,\n",
    "                            \"MnO_Liq\": 0.1,\n",
    "                            \"MgO_Liq\": 4.5,\n",
    "                            \"CaO_Liq\": 9,\n",
    "                            \"Na2O_Liq\": 4.2,\n",
    "                            \"K2O_Liq\": 0.1,\n",
    "                            \"Cr2O3_Liq\": 0.11,\n",
    "                            \"P2O5_Liq\": 0.11,\n",
    "                            \"H2O_Liq\": 5,\n",
    "                            \"Fe3Fet_Liq\":0.1}, index=[0])\n",
    "\n",
    "\n",
    "OlT=pd.DataFrame(data={\"SiO2_Ol\": 40.5,\n",
    "                            \"TiO2_Ol\": 0.02,\n",
    "                            \"Al2O3_Ol\": 0.08,\n",
    "                            \"FeOt_Ol\": 12.40,\n",
    "                            \"MnO_Ol\": 0.17,\n",
    "                            \"MgO_Ol\": 47.4,\n",
    "                            \"CaO_Ol\": 0.30,\n",
    "                            \"Na2O_Ol\": 0,\n",
    "                            \"K2O_Ol\": 0,\n",
    "                            \"Cr2O3_Ol\": 0.03}, index=[0])\n",
    "\n",
    "SpT=pd.DataFrame(data={\"SiO2_Sp\": 0,\n",
    "                            \"TiO2_Sp\": 0.248333,\n",
    "                            \"Al2O3_Sp\":40.09866,\n",
    "                            \"FeOt_Sp\": 11.805333,\n",
    "                            \"MnO_Sp\": 0.16866,\n",
    "                            \"MgO_Sp\": 19.131667,\n",
    "                            \"CaO_Sp\": 0.006667,\n",
    "                            \"Na2O_Sp\": 0.000667,\n",
    "                            \"K2O_Sp\": 0,\n",
    "                            \"Cr2O3_Sp\": 27.107333,\n",
    "                            \"NiO_Sp\": 0.239000}, index=[0])"
   ]
  },
  {
   "cell_type": "code",
   "execution_count": 3,
   "id": "29e26679-b729-40c7-a5c2-a256f40e60d2",
   "metadata": {},
   "outputs": [
    {
     "data": {
      "text/plain": [
       "0    1377.6\n",
       "Name: MgO_Liq, dtype: float64"
      ]
     },
     "execution_count": 3,
     "metadata": {},
     "output_type": "execute_result"
    }
   ],
   "source": [
    "pt.calculate_liq_only_temp(liq_comps=LiqT,\n",
    "        equationT=\"T_Helz1987_MgO\")"
   ]
  },
  {
   "cell_type": "code",
   "execution_count": 15,
   "id": "e974ff92-f52e-4d1d-901b-8927269dc028",
   "metadata": {},
   "outputs": [
    {
     "data": {
      "text/plain": [
       "1347.1250666788997"
      ]
     },
     "execution_count": 15,
     "metadata": {},
     "output_type": "execute_result"
    }
   ],
   "source": [
    "pt.calculate_liq_only_temp(liq_comps=LiqT,\n",
    "        equationT=\"T_Put2008_eq15\", P=5)[0]"
   ]
  },
  {
   "cell_type": "code",
   "execution_count": 16,
   "id": "8f7c9612-36a0-45fb-b071-53db67c9e2c0",
   "metadata": {},
   "outputs": [
    {
     "name": "stdout",
     "output_type": "stream",
     "text": [
      "Water content replaced with that from H2O_Liq\n"
     ]
    },
    {
     "data": {
      "text/plain": [
       "1411.2750666788997"
      ]
     },
     "execution_count": 16,
     "metadata": {},
     "output_type": "execute_result"
    }
   ],
   "source": [
    "pt.calculate_liq_only_temp(liq_comps=LiqT,\n",
    "        equationT=\"T_Put2008_eq15\", P=5, H2O_Liq=0)[0]"
   ]
  },
  {
   "cell_type": "code",
   "execution_count": 7,
   "id": "1468a90e-5070-465d-923c-614a970aef0a",
   "metadata": {},
   "outputs": [
    {
     "name": "stdout",
     "output_type": "stream",
     "text": [
      "Water content replaced with that from H2O_Liq\n"
     ]
    },
    {
     "data": {
      "text/plain": [
       "0    1401.874871\n",
       "dtype: float64"
      ]
     },
     "execution_count": 7,
     "metadata": {},
     "output_type": "execute_result"
    }
   ],
   "source": [
    "pt.calculate_liq_only_temp(liq_comps=LiqT,\n",
    "        equationT=\"T_Put2008_eq22_BeattDMg\", P=5, H2O_Liq=0)"
   ]
  },
  {
   "cell_type": "code",
   "execution_count": 17,
   "id": "2e1c3690-ec40-4a45-bd15-17279424f508",
   "metadata": {},
   "outputs": [
    {
     "data": {
      "text/html": [
       "<div>\n",
       "<style scoped>\n",
       "    .dataframe tbody tr th:only-of-type {\n",
       "        vertical-align: middle;\n",
       "    }\n",
       "\n",
       "    .dataframe tbody tr th {\n",
       "        vertical-align: top;\n",
       "    }\n",
       "\n",
       "    .dataframe thead th {\n",
       "        text-align: right;\n",
       "    }\n",
       "</style>\n",
       "<table border=\"1\" class=\"dataframe\">\n",
       "  <thead>\n",
       "    <tr style=\"text-align: right;\">\n",
       "      <th></th>\n",
       "      <th>T_K_calc</th>\n",
       "      <th>Kd (Fe-Mg) Meas</th>\n",
       "    </tr>\n",
       "  </thead>\n",
       "  <tbody>\n",
       "    <tr>\n",
       "      <th>0</th>\n",
       "      <td>1370.742988</td>\n",
       "      <td>0.277645</td>\n",
       "    </tr>\n",
       "  </tbody>\n",
       "</table>\n",
       "</div>"
      ],
      "text/plain": [
       "      T_K_calc  Kd (Fe-Mg) Meas\n",
       "0  1370.742988         0.277645"
      ]
     },
     "execution_count": 17,
     "metadata": {},
     "output_type": "execute_result"
    }
   ],
   "source": [
    "pt.calculate_ol_liq_temp(liq_comps=LiqT, ol_comps=OlT,\n",
    "        equationT=\"T_Put2008_eq19\", P=5, H2O_Liq=0)"
   ]
  },
  {
   "cell_type": "code",
   "execution_count": 19,
   "id": "19c026f2-bb69-4801-82e8-12dc25e2696b",
   "metadata": {},
   "outputs": [
    {
     "data": {
      "text/html": [
       "<div>\n",
       "<style scoped>\n",
       "    .dataframe tbody tr th:only-of-type {\n",
       "        vertical-align: middle;\n",
       "    }\n",
       "\n",
       "    .dataframe tbody tr th {\n",
       "        vertical-align: top;\n",
       "    }\n",
       "\n",
       "    .dataframe thead th {\n",
       "        text-align: right;\n",
       "    }\n",
       "</style>\n",
       "<table border=\"1\" class=\"dataframe\">\n",
       "  <thead>\n",
       "    <tr style=\"text-align: right;\">\n",
       "      <th></th>\n",
       "      <th>Eq Fo (Roeder, Kd=0.3)</th>\n",
       "      <th>Eq Fo (Roeder, Kd=0.33)</th>\n",
       "      <th>Eq Fo (Roeder, Kd=0.27)</th>\n",
       "      <th>Fo_meas</th>\n",
       "    </tr>\n",
       "  </thead>\n",
       "  <tbody>\n",
       "    <tr>\n",
       "      <th>0</th>\n",
       "      <td>0.863129</td>\n",
       "      <td>0.851475</td>\n",
       "      <td>0.875106</td>\n",
       "      <td>0.872023</td>\n",
       "    </tr>\n",
       "  </tbody>\n",
       "</table>\n",
       "</div>"
      ],
      "text/plain": [
       "   Eq Fo (Roeder, Kd=0.3)  Eq Fo (Roeder, Kd=0.33)  Eq Fo (Roeder, Kd=0.27)  \\\n",
       "0                0.863129                 0.851475                 0.875106   \n",
       "\n",
       "    Fo_meas  \n",
       "0  0.872023  "
      ]
     },
     "execution_count": 19,
     "metadata": {},
     "output_type": "execute_result"
    }
   ],
   "source": [
    "pt.calculate_eq_ol_content(liq_comps=LiqT,\n",
    "        ol_comps=OlT, Kd_model=\"Roeder1970\", Fe3Fet_Liq=0.2)"
   ]
  },
  {
   "cell_type": "code",
   "execution_count": 9,
   "id": "e7bdf4bb-c38e-4d6e-8840-66fb784091c6",
   "metadata": {},
   "outputs": [
    {
     "data": {
      "text/plain": [
       "0.8631287764106546"
      ]
     },
     "execution_count": 9,
     "metadata": {},
     "output_type": "execute_result"
    }
   ],
   "source": [
    "pt.calculate_eq_ol_content(liq_comps=LiqT,\n",
    "        ol_comps=OlT, Kd_model=\"Roeder1970\", Fe3Fet_Liq=0.2).get(\"Eq Fo (Roeder, Kd=0.3)\")[0]"
   ]
  },
  {
   "cell_type": "code",
   "execution_count": 11,
   "id": "405be434-64ee-4931-b880-60c7ac2a988e",
   "metadata": {},
   "outputs": [
    {
     "data": {
      "text/html": [
       "<div>\n",
       "<style scoped>\n",
       "    .dataframe tbody tr th:only-of-type {\n",
       "        vertical-align: middle;\n",
       "    }\n",
       "\n",
       "    .dataframe tbody tr th {\n",
       "        vertical-align: top;\n",
       "    }\n",
       "\n",
       "    .dataframe thead th {\n",
       "        text-align: right;\n",
       "    }\n",
       "</style>\n",
       "<table border=\"1\" class=\"dataframe\">\n",
       "  <thead>\n",
       "    <tr style=\"text-align: right;\">\n",
       "      <th></th>\n",
       "      <th>Eq Fo (Matzen, Kd=0.34)</th>\n",
       "      <th>Eq Fo (Matzen, Kd=0.352)</th>\n",
       "      <th>Eq Fo (Matzen, Kd=0.328)</th>\n",
       "      <th>Fo_meas</th>\n",
       "    </tr>\n",
       "  </thead>\n",
       "  <tbody>\n",
       "    <tr>\n",
       "      <th>0</th>\n",
       "      <td>0.847659</td>\n",
       "      <td>0.843126</td>\n",
       "      <td>0.852242</td>\n",
       "      <td>0.872023</td>\n",
       "    </tr>\n",
       "  </tbody>\n",
       "</table>\n",
       "</div>"
      ],
      "text/plain": [
       "   Eq Fo (Matzen, Kd=0.34)  Eq Fo (Matzen, Kd=0.352)  \\\n",
       "0                 0.847659                  0.843126   \n",
       "\n",
       "   Eq Fo (Matzen, Kd=0.328)   Fo_meas  \n",
       "0                  0.852242  0.872023  "
      ]
     },
     "execution_count": 11,
     "metadata": {},
     "output_type": "execute_result"
    }
   ],
   "source": [
    "pt.calculate_eq_ol_content(liq_comps=LiqT,\n",
    "        ol_comps=OlT, Kd_model=\"Matzen2011\", Fe3Fet_Liq=0.2)"
   ]
  },
  {
   "cell_type": "code",
   "execution_count": 15,
   "id": "18aec677-55fb-48e6-8c92-84c904a81b2e",
   "metadata": {},
   "outputs": [
    {
     "data": {
      "text/html": [
       "<div>\n",
       "<style scoped>\n",
       "    .dataframe tbody tr th:only-of-type {\n",
       "        vertical-align: middle;\n",
       "    }\n",
       "\n",
       "    .dataframe tbody tr th {\n",
       "        vertical-align: top;\n",
       "    }\n",
       "\n",
       "    .dataframe thead th {\n",
       "        text-align: right;\n",
       "    }\n",
       "</style>\n",
       "<table border=\"1\" class=\"dataframe\">\n",
       "  <thead>\n",
       "    <tr style=\"text-align: right;\">\n",
       "      <th></th>\n",
       "      <th>Kd (Toplis, input Fo)</th>\n",
       "      <th>Eq Fo (Toplis, input Fo)</th>\n",
       "      <th>Fo_meas</th>\n",
       "    </tr>\n",
       "  </thead>\n",
       "  <tbody>\n",
       "    <tr>\n",
       "      <th>0</th>\n",
       "      <td>0.299103</td>\n",
       "      <td>0.863482</td>\n",
       "      <td>0.872023</td>\n",
       "    </tr>\n",
       "  </tbody>\n",
       "</table>\n",
       "</div>"
      ],
      "text/plain": [
       "   Kd (Toplis, input Fo)  Eq Fo (Toplis, input Fo)   Fo_meas\n",
       "0               0.299103                  0.863482  0.872023"
      ]
     },
     "execution_count": 15,
     "metadata": {},
     "output_type": "execute_result"
    }
   ],
   "source": [
    "pt.calculate_eq_ol_content(liq_comps=LiqT,\n",
    "        ol_comps=OlT, Kd_model=\"Toplis2005\", Fe3Fet_Liq=0.2, P=5, T=1300)"
   ]
  },
  {
   "cell_type": "code",
   "execution_count": 16,
   "id": "054c3933-a58e-454a-aee0-54787345f2bb",
   "metadata": {},
   "outputs": [
    {
     "data": {
      "text/html": [
       "<div>\n",
       "<style scoped>\n",
       "    .dataframe tbody tr th:only-of-type {\n",
       "        vertical-align: middle;\n",
       "    }\n",
       "\n",
       "    .dataframe tbody tr th {\n",
       "        vertical-align: top;\n",
       "    }\n",
       "\n",
       "    .dataframe thead th {\n",
       "        text-align: right;\n",
       "    }\n",
       "</style>\n",
       "<table border=\"1\" class=\"dataframe\">\n",
       "  <thead>\n",
       "    <tr style=\"text-align: right;\">\n",
       "      <th></th>\n",
       "      <th>Kd (Toplis, Iter)</th>\n",
       "      <th>Eq Fo (Toplis, Iter)</th>\n",
       "    </tr>\n",
       "  </thead>\n",
       "  <tbody>\n",
       "    <tr>\n",
       "      <th>0</th>\n",
       "      <td>0.300625</td>\n",
       "      <td>0.862883</td>\n",
       "    </tr>\n",
       "  </tbody>\n",
       "</table>\n",
       "</div>"
      ],
      "text/plain": [
       "   Kd (Toplis, Iter)  Eq Fo (Toplis, Iter)\n",
       "0           0.300625              0.862883"
      ]
     },
     "execution_count": 16,
     "metadata": {},
     "output_type": "execute_result"
    }
   ],
   "source": [
    "pt.calculate_eq_ol_content(liq_comps=LiqT,\n",
    " Kd_model=\"Toplis2005\", Fe3Fet_Liq=0.2, P=5, T=1300)"
   ]
  },
  {
   "cell_type": "code",
   "execution_count": null,
   "id": "feb5b62c-4983-4504-ab8d-2dae0ae760ab",
   "metadata": {},
   "outputs": [],
   "source": [
    "T_py=pt.calculate_ol_sp_temp(ol_comps=myOls1, sp_comps=mySps1, equationT=\"T_Coogan2014\")-273.15"
   ]
  }
 ],
 "metadata": {
  "kernelspec": {
   "display_name": "Python 3",
   "language": "python",
   "name": "python3"
  },
  "language_info": {
   "codemirror_mode": {
    "name": "ipython",
    "version": 3
   },
   "file_extension": ".py",
   "mimetype": "text/x-python",
   "name": "python",
   "nbconvert_exporter": "python",
   "pygments_lexer": "ipython3",
   "version": "3.8.5"
  }
 },
 "nbformat": 4,
 "nbformat_minor": 5
}
