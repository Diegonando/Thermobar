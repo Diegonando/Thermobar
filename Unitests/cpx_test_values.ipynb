{
 "cells": [
  {
   "cell_type": "code",
   "execution_count": 1,
   "id": "61811860-f92d-45db-97c3-554144104e89",
   "metadata": {},
   "outputs": [],
   "source": [
    "import numpy as np\n",
    "import pandas as pd\n",
    "import sys\n",
    "sys.path.append(\"..\")\n",
    "import matplotlib.pyplot as plt\n",
    "import Thermobar as pt\n",
    "import sympy as sym\n",
    "pd.options.display.max_columns = None"
   ]
  },
  {
   "cell_type": "code",
   "execution_count": 2,
   "id": "90c15114-a7e8-4fc8-8f2b-cf07a5a552cf",
   "metadata": {},
   "outputs": [
    {
     "name": "stderr",
     "output_type": "stream",
     "text": [
      "C:\\Users\\penny\\anaconda3\\lib\\site-packages\\ipykernel\\ipkernel.py:283: DeprecationWarning: `should_run_async` will not call `transform_cell` automatically in the future. Please pass the result to `transformed_cell` argument and any exception that happen during thetransform in `preprocessing_exc_tuple` in IPython 7.17 and above.\n",
      "  and should_run_async(code)\n"
     ]
    }
   ],
   "source": [
    "LiqT=pd.DataFrame(data={\"Sample_ID_Cpx\"\"SiO2_Liq\": 51,\n",
    "                            \"TiO2_Liq\": 0.48,\n",
    "                            \"Al2O3_Liq\": 19,\n",
    "                            \"FeOt_Liq\": 5.3,\n",
    "                            \"MnO_Liq\": 0.1,\n",
    "                            \"MgO_Liq\": 4.5,\n",
    "                            \"CaO_Liq\": 9,\n",
    "                            \"Na2O_Liq\": 4.2,\n",
    "                            \"K2O_Liq\": 0.1,\n",
    "                            \"Cr2O3_Liq\": 0.11,\n",
    "                            \"P2O5_Liq\": 0.11,\n",
    "                            \"H2O_Liq\": 5,\n",
    " \"Fe3FeT_Liq\":0.1,\n",
    "}, index=[0])\n",
    "\n",
    "CpxT=pd.DataFrame(data={\"SiO2_Cpx\": 49,\n",
    "                            \"TiO2_Cpx\": 0.3,\n",
    "                            \"Al2O3_Cpx\": 4.89,\n",
    "                            \"FeOt_Cpx\": 5.71,\n",
    "                            \"MnO_Cpx\": 0.165,\n",
    "                            \"MgO_Cpx\": 16.89,\n",
    "                            \"CaO_Cpx\": 20.319,\n",
    "                            \"Na2O_Cpx\": 0.319,\n",
    "                            \"K2O_Cpx\": 0.1,\n",
    "                            \"Cr2O3_Cpx\": 0.11}, index=[0])"
   ]
  },
  {
   "cell_type": "code",
   "execution_count": 3,
   "id": "a2dfd7fa-b914-44e8-845a-53aff1f9c636",
   "metadata": {},
   "outputs": [
    {
     "data": {
      "text/plain": [
       "0    3.668079\n",
       "dtype: float64"
      ]
     },
     "execution_count": 3,
     "metadata": {},
     "output_type": "execute_result"
    }
   ],
   "source": [
    "pt.calculate_cpx_only_press(cpx_comps=CpxT, equationP=\"P_Put2008_eq32a\",\n",
    "         T=1300)"
   ]
  },
  {
   "cell_type": "code",
   "execution_count": 4,
   "id": "b823bb8f-2304-48b8-9b2d-8fa40cd3255a",
   "metadata": {},
   "outputs": [
    {
     "name": "stderr",
     "output_type": "stream",
     "text": [
      "C:\\Users\\penny\\anaconda3\\lib\\site-packages\\ipykernel\\ipkernel.py:283: DeprecationWarning: `should_run_async` will not call `transform_cell` automatically in the future. Please pass the result to `transformed_cell` argument and any exception that happen during thetransform in `preprocessing_exc_tuple` in IPython 7.17 and above.\n",
      "  and should_run_async(code)\n"
     ]
    },
    {
     "data": {
      "text/plain": [
       "0   -1.575924\n",
       "dtype: float64"
      ]
     },
     "execution_count": 4,
     "metadata": {},
     "output_type": "execute_result"
    }
   ],
   "source": [
    "pt.calculate_cpx_only_press(cpx_comps=CpxT, equationP=\"P_Put2008_eq32b\",\n",
    "         T=1300)"
   ]
  },
  {
   "cell_type": "code",
   "execution_count": 5,
   "id": "1101ebce-3253-4a4f-830e-bfa8936c68be",
   "metadata": {},
   "outputs": [
    {
     "name": "stderr",
     "output_type": "stream",
     "text": [
      "C:\\Users\\penny\\anaconda3\\lib\\site-packages\\ipykernel\\ipkernel.py:283: DeprecationWarning: `should_run_async` will not call `transform_cell` automatically in the future. Please pass the result to `transformed_cell` argument and any exception that happen during thetransform in `preprocessing_exc_tuple` in IPython 7.17 and above.\n",
      "  and should_run_async(code)\n"
     ]
    },
    {
     "data": {
      "text/plain": [
       "0    1.142076\n",
       "dtype: float64"
      ]
     },
     "execution_count": 5,
     "metadata": {},
     "output_type": "execute_result"
    }
   ],
   "source": [
    "pt.calculate_cpx_only_press(cpx_comps=CpxT, equationP=\"P_Put2008_eq32b\",\n",
    "         T=1300, H2O_Liq=6)"
   ]
  },
  {
   "cell_type": "code",
   "execution_count": 6,
   "id": "0902c31b-379b-4ace-a534-9de5180c91b6",
   "metadata": {},
   "outputs": [
    {
     "name": "stderr",
     "output_type": "stream",
     "text": [
      "C:\\Users\\penny\\anaconda3\\lib\\site-packages\\ipykernel\\ipkernel.py:283: DeprecationWarning: `should_run_async` will not call `transform_cell` automatically in the future. Please pass the result to `transformed_cell` argument and any exception that happen during thetransform in `preprocessing_exc_tuple` in IPython 7.17 and above.\n",
      "  and should_run_async(code)\n"
     ]
    },
    {
     "data": {
      "text/plain": [
       "0    1479.055921\n",
       "dtype: float64"
      ]
     },
     "execution_count": 6,
     "metadata": {},
     "output_type": "execute_result"
    }
   ],
   "source": [
    "pt.calculate_cpx_only_temp(cpx_comps=CpxT, equationT=\"T_Put2008_eq32d\",\n",
    "         P=5)"
   ]
  },
  {
   "cell_type": "code",
   "execution_count": 7,
   "id": "ec8834b6-b530-4992-9c24-ae4d59da1d68",
   "metadata": {},
   "outputs": [
    {
     "name": "stderr",
     "output_type": "stream",
     "text": [
      "C:\\Users\\penny\\anaconda3\\lib\\site-packages\\ipykernel\\ipkernel.py:283: DeprecationWarning: `should_run_async` will not call `transform_cell` automatically in the future. Please pass the result to `transformed_cell` argument and any exception that happen during thetransform in `preprocessing_exc_tuple` in IPython 7.17 and above.\n",
      "  and should_run_async(code)\n"
     ]
    },
    {
     "data": {
      "text/plain": [
       "0    1252.508521\n",
       "dtype: float64"
      ]
     },
     "execution_count": 7,
     "metadata": {},
     "output_type": "execute_result"
    }
   ],
   "source": [
    "pt.calculate_cpx_only_temp(cpx_comps=CpxT, equationT=\"T_Put2008_eq32d_subsol\",\n",
    "         P=5)"
   ]
  },
  {
   "cell_type": "code",
   "execution_count": 8,
   "id": "67ec72a8-1023-426b-8b93-a863cd994ce5",
   "metadata": {},
   "outputs": [
    {
     "name": "stderr",
     "output_type": "stream",
     "text": [
      "C:\\Users\\penny\\anaconda3\\lib\\site-packages\\ipykernel\\ipkernel.py:283: DeprecationWarning: `should_run_async` will not call `transform_cell` automatically in the future. Please pass the result to `transformed_cell` argument and any exception that happen during thetransform in `preprocessing_exc_tuple` in IPython 7.17 and above.\n",
      "  and should_run_async(code)\n"
     ]
    },
    {
     "data": {
      "text/html": [
       "<div>\n",
       "<style scoped>\n",
       "    .dataframe tbody tr th:only-of-type {\n",
       "        vertical-align: middle;\n",
       "    }\n",
       "\n",
       "    .dataframe tbody tr th {\n",
       "        vertical-align: top;\n",
       "    }\n",
       "\n",
       "    .dataframe thead th {\n",
       "        text-align: right;\n",
       "    }\n",
       "</style>\n",
       "<table border=\"1\" class=\"dataframe\">\n",
       "  <thead>\n",
       "    <tr style=\"text-align: right;\">\n",
       "      <th></th>\n",
       "      <th>P_kbar_calc</th>\n",
       "      <th>T_K_calc</th>\n",
       "    </tr>\n",
       "  </thead>\n",
       "  <tbody>\n",
       "    <tr>\n",
       "      <th>0</th>\n",
       "      <td>5.821624</td>\n",
       "      <td>1485.955147</td>\n",
       "    </tr>\n",
       "  </tbody>\n",
       "</table>\n",
       "</div>"
      ],
      "text/plain": [
       "   P_kbar_calc     T_K_calc\n",
       "0     5.821624  1485.955147"
      ]
     },
     "execution_count": 8,
     "metadata": {},
     "output_type": "execute_result"
    }
   ],
   "source": [
    "pt.calculate_cpx_only_press_temp(cpx_comps=CpxT, equationT=\"T_Put2008_eq32d\",\n",
    "       equationP=\"P_Put2008_eq32a\")"
   ]
  },
  {
   "cell_type": "markdown",
   "id": "ce440006-a7bd-40d2-b3f8-240a1b34f1b4",
   "metadata": {},
   "source": [
    "## Cpx=liq test"
   ]
  },
  {
   "cell_type": "code",
   "execution_count": 9,
   "id": "7a95f504-7a9e-4283-b9d9-70706cd58e04",
   "metadata": {},
   "outputs": [
    {
     "name": "stderr",
     "output_type": "stream",
     "text": [
      "C:\\Users\\penny\\anaconda3\\lib\\site-packages\\ipykernel\\ipkernel.py:283: DeprecationWarning: `should_run_async` will not call `transform_cell` automatically in the future. Please pass the result to `transformed_cell` argument and any exception that happen during thetransform in `preprocessing_exc_tuple` in IPython 7.17 and above.\n",
      "  and should_run_async(code)\n",
      "..\\Thermobar\\clinopyroxene_thermobarometry.py:373: UserWarning: Some Fe3FeT_Liq are greater than 0. Masotta et al. (2013) calibrate their equations assuming all Fe is Fe2+. You should set Fe3FeT_Liq=0 in the function for consistency. \n",
      "  w.warn('Some Fe3FeT_Liq are greater than 0. Masotta et al. (2013)'\n"
     ]
    },
    {
     "data": {
      "text/plain": [
       "0   NaN\n",
       "dtype: float64"
      ]
     },
     "execution_count": 9,
     "metadata": {},
     "output_type": "execute_result"
    }
   ],
   "source": [
    "pt.calculate_cpx_liq_press(cpx_comps=CpxT, liq_comps=LiqT, equationP=\"P_Mas2013_eqPalk1\", T=800)"
   ]
  },
  {
   "cell_type": "code",
   "execution_count": 10,
   "id": "eda8b180-6f3f-4a42-8be3-8080a5b09a05",
   "metadata": {},
   "outputs": [
    {
     "name": "stderr",
     "output_type": "stream",
     "text": [
      "C:\\Users\\penny\\anaconda3\\lib\\site-packages\\ipykernel\\ipkernel.py:283: DeprecationWarning: `should_run_async` will not call `transform_cell` automatically in the future. Please pass the result to `transformed_cell` argument and any exception that happen during thetransform in `preprocessing_exc_tuple` in IPython 7.17 and above.\n",
      "  and should_run_async(code)\n"
     ]
    },
    {
     "data": {
      "text/plain": [
       "0    5.441974\n",
       "dtype: float64"
      ]
     },
     "execution_count": 10,
     "metadata": {},
     "output_type": "execute_result"
    }
   ],
   "source": [
    "pt.calculate_cpx_liq_press(cpx_comps=CpxT, liq_comps=LiqT, equationP=\"P_Put2008_eq32c\", T=1300)"
   ]
  },
  {
   "cell_type": "code",
   "execution_count": 11,
   "id": "718a78bf-291e-48db-a10b-97d8e7d32c11",
   "metadata": {},
   "outputs": [
    {
     "name": "stderr",
     "output_type": "stream",
     "text": [
      "C:\\Users\\penny\\anaconda3\\lib\\site-packages\\ipykernel\\ipkernel.py:283: DeprecationWarning: `should_run_async` will not call `transform_cell` automatically in the future. Please pass the result to `transformed_cell` argument and any exception that happen during thetransform in `preprocessing_exc_tuple` in IPython 7.17 and above.\n",
      "  and should_run_async(code)\n",
      "C:\\Users\\penny\\anaconda3\\lib\\site-packages\\pandas\\core\\arraylike.py:358: RuntimeWarning: divide by zero encountered in log\n",
      "  result = getattr(ufunc, method)(*inputs, **kwargs)\n"
     ]
    },
    {
     "name": "stdout",
     "output_type": "stream",
     "text": [
      "Using Fe3FeT from input file to calculate Kd Fe-Mg\n"
     ]
    },
    {
     "data": {
      "text/html": [
       "<div>\n",
       "<style scoped>\n",
       "    .dataframe tbody tr th:only-of-type {\n",
       "        vertical-align: middle;\n",
       "    }\n",
       "\n",
       "    .dataframe tbody tr th {\n",
       "        vertical-align: top;\n",
       "    }\n",
       "\n",
       "    .dataframe thead th {\n",
       "        text-align: right;\n",
       "    }\n",
       "</style>\n",
       "<table border=\"1\" class=\"dataframe\">\n",
       "  <thead>\n",
       "    <tr style=\"text-align: right;\">\n",
       "      <th></th>\n",
       "      <th>P_kbar_calc</th>\n",
       "      <th>T_K_calc</th>\n",
       "      <th>Eq Tests Neave2017?</th>\n",
       "      <th>Delta_Kd_Put2008</th>\n",
       "      <th>Delta_Kd_Mas2013</th>\n",
       "      <th>Delta_EnFs</th>\n",
       "      <th>Delta_CaTs</th>\n",
       "      <th>Delta_DiHd</th>\n",
       "      <th>Sample_ID_CpxSiO2_Liq</th>\n",
       "      <th>TiO2_Liq</th>\n",
       "      <th>Al2O3_Liq</th>\n",
       "      <th>FeOt_Liq</th>\n",
       "      <th>MnO_Liq</th>\n",
       "      <th>MgO_Liq</th>\n",
       "      <th>CaO_Liq</th>\n",
       "      <th>Na2O_Liq</th>\n",
       "      <th>K2O_Liq</th>\n",
       "      <th>Cr2O3_Liq</th>\n",
       "      <th>P2O5_Liq</th>\n",
       "      <th>H2O_Liq</th>\n",
       "      <th>Fe3FeT_Liq</th>\n",
       "      <th>SiO2_Liq_mol_frac</th>\n",
       "      <th>MgO_Liq_mol_frac</th>\n",
       "      <th>MnO_Liq_mol_frac</th>\n",
       "      <th>FeOt_Liq_mol_frac</th>\n",
       "      <th>CaO_Liq_mol_frac</th>\n",
       "      <th>Al2O3_Liq_mol_frac</th>\n",
       "      <th>Na2O_Liq_mol_frac</th>\n",
       "      <th>K2O_Liq_mol_frac</th>\n",
       "      <th>TiO2_Liq_mol_frac</th>\n",
       "      <th>P2O5_Liq_mol_frac</th>\n",
       "      <th>Cr2O3_Liq_mol_frac</th>\n",
       "      <th>SiO2_Liq_cat_frac</th>\n",
       "      <th>MgO_Liq_cat_frac</th>\n",
       "      <th>MnO_Liq_cat_frac</th>\n",
       "      <th>FeOt_Liq_cat_frac</th>\n",
       "      <th>CaO_Liq_cat_frac</th>\n",
       "      <th>Al2O3_Liq_cat_frac</th>\n",
       "      <th>Na2O_Liq_cat_frac</th>\n",
       "      <th>K2O_Liq_cat_frac</th>\n",
       "      <th>TiO2_Liq_cat_frac</th>\n",
       "      <th>P2O5_Liq_cat_frac</th>\n",
       "      <th>Cr2O3_Liq_cat_frac</th>\n",
       "      <th>FeO_Liq_cat_frac</th>\n",
       "      <th>Mg_Number_Liq_NoFe3</th>\n",
       "      <th>Mg_Number_Liq_Fe3</th>\n",
       "      <th>SiO2_Cpx</th>\n",
       "      <th>TiO2_Cpx</th>\n",
       "      <th>Al2O3_Cpx</th>\n",
       "      <th>FeOt_Cpx</th>\n",
       "      <th>MnO_Cpx</th>\n",
       "      <th>MgO_Cpx</th>\n",
       "      <th>CaO_Cpx</th>\n",
       "      <th>Na2O_Cpx</th>\n",
       "      <th>K2O_Cpx</th>\n",
       "      <th>Cr2O3_Cpx</th>\n",
       "      <th>SiO2_Cpx_cat_6ox</th>\n",
       "      <th>MgO_Cpx_cat_6ox</th>\n",
       "      <th>FeOt_Cpx_cat_6ox</th>\n",
       "      <th>CaO_Cpx_cat_6ox</th>\n",
       "      <th>Al2O3_Cpx_cat_6ox</th>\n",
       "      <th>Na2O_Cpx_cat_6ox</th>\n",
       "      <th>K2O_Cpx_cat_6ox</th>\n",
       "      <th>MnO_Cpx_cat_6ox</th>\n",
       "      <th>TiO2_Cpx_cat_6ox</th>\n",
       "      <th>Cr2O3_Cpx_cat_6ox</th>\n",
       "      <th>oxy_renorm_factor</th>\n",
       "      <th>Al_IV_cat_6ox</th>\n",
       "      <th>Al_VI_cat_6ox</th>\n",
       "      <th>Cation_Sum_Cpx</th>\n",
       "      <th>CrCaTs</th>\n",
       "      <th>a_cpx_En</th>\n",
       "      <th>Mgno_CPX</th>\n",
       "      <th>Jd</th>\n",
       "      <th>CaTs</th>\n",
       "      <th>CaTi</th>\n",
       "      <th>DiHd_1996</th>\n",
       "      <th>EnFs</th>\n",
       "      <th>DiHd_2003</th>\n",
       "      <th>Di_Cpx</th>\n",
       "      <th>Kd_Fe_Mg</th>\n",
       "      <th>Kd_Fe_Mg_NoFe3</th>\n",
       "      <th>lnK_Jd_liq</th>\n",
       "      <th>lnK_Jd_DiHd_liq_1996</th>\n",
       "      <th>lnK_Jd_DiHd_liq_2003</th>\n",
       "      <th>Kd_Fe_Mg_IdealWB</th>\n",
       "      <th>DeltaFeMg_WB</th>\n",
       "      <th>Sample_ID_Liq</th>\n",
       "      <th>Sample_ID_Cpx</th>\n",
       "      <th>Kd_Ideal_Put</th>\n",
       "      <th>Kd_Ideal_Masotta</th>\n",
       "      <th>DiHd_Pred_Mollo</th>\n",
       "      <th>EnFs_Pred_Mollo</th>\n",
       "      <th>CaTs_Pred_P1999</th>\n",
       "      <th>CrCaTS_Pred_P1999</th>\n",
       "    </tr>\n",
       "  </thead>\n",
       "  <tbody>\n",
       "    <tr>\n",
       "      <th>0</th>\n",
       "      <td>5.441974</td>\n",
       "      <td>1300</td>\n",
       "      <td>N</td>\n",
       "      <td>0.079459</td>\n",
       "      <td>0.214379</td>\n",
       "      <td>0.179981</td>\n",
       "      <td>0.037247</td>\n",
       "      <td>0.156112</td>\n",
       "      <td>51</td>\n",
       "      <td>0.48</td>\n",
       "      <td>19</td>\n",
       "      <td>5.3</td>\n",
       "      <td>0.1</td>\n",
       "      <td>4.5</td>\n",
       "      <td>9</td>\n",
       "      <td>4.2</td>\n",
       "      <td>0.1</td>\n",
       "      <td>0.11</td>\n",
       "      <td>0.11</td>\n",
       "      <td>5</td>\n",
       "      <td>0.1</td>\n",
       "      <td>0.0</td>\n",
       "      <td>0.183033</td>\n",
       "      <td>0.002311</td>\n",
       "      <td>0.120932</td>\n",
       "      <td>0.263102</td>\n",
       "      <td>0.305484</td>\n",
       "      <td>0.11109</td>\n",
       "      <td>0.00174</td>\n",
       "      <td>0.009851</td>\n",
       "      <td>0.00127</td>\n",
       "      <td>0.001186</td>\n",
       "      <td>0.0</td>\n",
       "      <td>0.128826</td>\n",
       "      <td>0.001627</td>\n",
       "      <td>0.085117</td>\n",
       "      <td>0.185182</td>\n",
       "      <td>0.430026</td>\n",
       "      <td>0.15638</td>\n",
       "      <td>0.00245</td>\n",
       "      <td>0.006934</td>\n",
       "      <td>0.001788</td>\n",
       "      <td>0.00167</td>\n",
       "      <td>0.076605</td>\n",
       "      <td>0.602144</td>\n",
       "      <td>0.627093</td>\n",
       "      <td>49</td>\n",
       "      <td>0.3</td>\n",
       "      <td>4.89</td>\n",
       "      <td>5.71</td>\n",
       "      <td>0.165</td>\n",
       "      <td>16.89</td>\n",
       "      <td>20.319</td>\n",
       "      <td>0.319</td>\n",
       "      <td>0.1</td>\n",
       "      <td>0.11</td>\n",
       "      <td>1.843671</td>\n",
       "      <td>0.947383</td>\n",
       "      <td>0.179672</td>\n",
       "      <td>0.819149</td>\n",
       "      <td>0.216847</td>\n",
       "      <td>0.023272</td>\n",
       "      <td>0.0048</td>\n",
       "      <td>0.005258</td>\n",
       "      <td>0.008491</td>\n",
       "      <td>0.003272</td>\n",
       "      <td>0.0</td>\n",
       "      <td>0.156329</td>\n",
       "      <td>0.060518</td>\n",
       "      <td>4.051814</td>\n",
       "      <td>0.001636</td>\n",
       "      <td>0.13382</td>\n",
       "      <td>0.840579</td>\n",
       "      <td>0.023272</td>\n",
       "      <td>0.037247</td>\n",
       "      <td>0.059541</td>\n",
       "      <td>0.720725</td>\n",
       "      <td>0.203165</td>\n",
       "      <td>0.720725</td>\n",
       "      <td>0.603016</td>\n",
       "      <td>0.318934</td>\n",
       "      <td>0.28704</td>\n",
       "      <td>NaN</td>\n",
       "      <td>-3.962106</td>\n",
       "      <td>-3.962106</td>\n",
       "      <td>0.265348</td>\n",
       "      <td>0.053586</td>\n",
       "      <td>0</td>\n",
       "      <td>0</td>\n",
       "      <td>0.239475</td>\n",
       "      <td>0.104555</td>\n",
       "      <td>0.564613</td>\n",
       "      <td>0.023184</td>\n",
       "      <td>0.0</td>\n",
       "      <td>0.0</td>\n",
       "    </tr>\n",
       "  </tbody>\n",
       "</table>\n",
       "</div>"
      ],
      "text/plain": [
       "   P_kbar_calc  T_K_calc Eq Tests Neave2017?  Delta_Kd_Put2008  \\\n",
       "0     5.441974      1300                   N          0.079459   \n",
       "\n",
       "   Delta_Kd_Mas2013  Delta_EnFs  Delta_CaTs  Delta_DiHd  \\\n",
       "0          0.214379    0.179981    0.037247    0.156112   \n",
       "\n",
       "   Sample_ID_CpxSiO2_Liq  TiO2_Liq  Al2O3_Liq  FeOt_Liq  MnO_Liq  MgO_Liq  \\\n",
       "0                     51      0.48         19       5.3      0.1      4.5   \n",
       "\n",
       "   CaO_Liq  Na2O_Liq  K2O_Liq  Cr2O3_Liq  P2O5_Liq  H2O_Liq  Fe3FeT_Liq  \\\n",
       "0        9       4.2      0.1       0.11      0.11        5         0.1   \n",
       "\n",
       "   SiO2_Liq_mol_frac  MgO_Liq_mol_frac  MnO_Liq_mol_frac  FeOt_Liq_mol_frac  \\\n",
       "0                0.0          0.183033          0.002311           0.120932   \n",
       "\n",
       "   CaO_Liq_mol_frac  Al2O3_Liq_mol_frac  Na2O_Liq_mol_frac  K2O_Liq_mol_frac  \\\n",
       "0          0.263102            0.305484            0.11109           0.00174   \n",
       "\n",
       "   TiO2_Liq_mol_frac  P2O5_Liq_mol_frac  Cr2O3_Liq_mol_frac  \\\n",
       "0           0.009851            0.00127            0.001186   \n",
       "\n",
       "   SiO2_Liq_cat_frac  MgO_Liq_cat_frac  MnO_Liq_cat_frac  FeOt_Liq_cat_frac  \\\n",
       "0                0.0          0.128826          0.001627           0.085117   \n",
       "\n",
       "   CaO_Liq_cat_frac  Al2O3_Liq_cat_frac  Na2O_Liq_cat_frac  K2O_Liq_cat_frac  \\\n",
       "0          0.185182            0.430026            0.15638           0.00245   \n",
       "\n",
       "   TiO2_Liq_cat_frac  P2O5_Liq_cat_frac  Cr2O3_Liq_cat_frac  FeO_Liq_cat_frac  \\\n",
       "0           0.006934           0.001788             0.00167          0.076605   \n",
       "\n",
       "   Mg_Number_Liq_NoFe3  Mg_Number_Liq_Fe3  SiO2_Cpx  TiO2_Cpx  Al2O3_Cpx  \\\n",
       "0             0.602144           0.627093        49       0.3       4.89   \n",
       "\n",
       "   FeOt_Cpx  MnO_Cpx  MgO_Cpx  CaO_Cpx  Na2O_Cpx  K2O_Cpx  Cr2O3_Cpx  \\\n",
       "0      5.71    0.165    16.89   20.319     0.319      0.1       0.11   \n",
       "\n",
       "   SiO2_Cpx_cat_6ox  MgO_Cpx_cat_6ox  FeOt_Cpx_cat_6ox  CaO_Cpx_cat_6ox  \\\n",
       "0          1.843671         0.947383          0.179672         0.819149   \n",
       "\n",
       "   Al2O3_Cpx_cat_6ox  Na2O_Cpx_cat_6ox  K2O_Cpx_cat_6ox  MnO_Cpx_cat_6ox  \\\n",
       "0           0.216847          0.023272           0.0048         0.005258   \n",
       "\n",
       "   TiO2_Cpx_cat_6ox  Cr2O3_Cpx_cat_6ox  oxy_renorm_factor  Al_IV_cat_6ox  \\\n",
       "0          0.008491           0.003272                0.0       0.156329   \n",
       "\n",
       "   Al_VI_cat_6ox  Cation_Sum_Cpx    CrCaTs  a_cpx_En  Mgno_CPX        Jd  \\\n",
       "0       0.060518        4.051814  0.001636   0.13382  0.840579  0.023272   \n",
       "\n",
       "       CaTs      CaTi  DiHd_1996      EnFs  DiHd_2003    Di_Cpx  Kd_Fe_Mg  \\\n",
       "0  0.037247  0.059541   0.720725  0.203165   0.720725  0.603016  0.318934   \n",
       "\n",
       "   Kd_Fe_Mg_NoFe3  lnK_Jd_liq  lnK_Jd_DiHd_liq_1996  lnK_Jd_DiHd_liq_2003  \\\n",
       "0         0.28704         NaN             -3.962106             -3.962106   \n",
       "\n",
       "   Kd_Fe_Mg_IdealWB  DeltaFeMg_WB  Sample_ID_Liq  Sample_ID_Cpx  Kd_Ideal_Put  \\\n",
       "0          0.265348      0.053586              0              0      0.239475   \n",
       "\n",
       "   Kd_Ideal_Masotta  DiHd_Pred_Mollo  EnFs_Pred_Mollo  CaTs_Pred_P1999  \\\n",
       "0          0.104555         0.564613         0.023184              0.0   \n",
       "\n",
       "   CrCaTS_Pred_P1999  \n",
       "0                0.0  "
      ]
     },
     "execution_count": 11,
     "metadata": {},
     "output_type": "execute_result"
    }
   ],
   "source": [
    "pt.calculate_cpx_liq_press(cpx_comps=CpxT, liq_comps=LiqT, equationP=\"P_Put2008_eq32c\", T=1300, eq_tests=True)"
   ]
  },
  {
   "cell_type": "code",
   "execution_count": 12,
   "id": "d65a0df7-adbf-488b-b302-789a85638a87",
   "metadata": {},
   "outputs": [
    {
     "name": "stderr",
     "output_type": "stream",
     "text": [
      "C:\\Users\\penny\\anaconda3\\lib\\site-packages\\ipykernel\\ipkernel.py:283: DeprecationWarning: `should_run_async` will not call `transform_cell` automatically in the future. Please pass the result to `transformed_cell` argument and any exception that happen during thetransform in `preprocessing_exc_tuple` in IPython 7.17 and above.\n",
      "  and should_run_async(code)\n",
      "C:\\Users\\penny\\anaconda3\\lib\\site-packages\\pandas\\core\\arraylike.py:358: RuntimeWarning: divide by zero encountered in log\n",
      "  result = getattr(ufunc, method)(*inputs, **kwargs)\n"
     ]
    },
    {
     "data": {
      "text/html": [
       "<div>\n",
       "<style scoped>\n",
       "    .dataframe tbody tr th:only-of-type {\n",
       "        vertical-align: middle;\n",
       "    }\n",
       "\n",
       "    .dataframe tbody tr th {\n",
       "        vertical-align: top;\n",
       "    }\n",
       "\n",
       "    .dataframe thead th {\n",
       "        text-align: right;\n",
       "    }\n",
       "</style>\n",
       "<table border=\"1\" class=\"dataframe\">\n",
       "  <thead>\n",
       "    <tr style=\"text-align: right;\">\n",
       "      <th></th>\n",
       "      <th>P_kbar_calc</th>\n",
       "      <th>T_K_calc</th>\n",
       "      <th>Eq Tests Neave2017?</th>\n",
       "      <th>Delta_Kd_Put2008</th>\n",
       "      <th>Delta_Kd_Mas2013</th>\n",
       "      <th>Delta_EnFs</th>\n",
       "      <th>Delta_CaTs</th>\n",
       "      <th>Delta_DiHd</th>\n",
       "      <th>Sample_ID_CpxSiO2_Liq</th>\n",
       "      <th>TiO2_Liq</th>\n",
       "      <th>Al2O3_Liq</th>\n",
       "      <th>FeOt_Liq</th>\n",
       "      <th>MnO_Liq</th>\n",
       "      <th>MgO_Liq</th>\n",
       "      <th>CaO_Liq</th>\n",
       "      <th>Na2O_Liq</th>\n",
       "      <th>K2O_Liq</th>\n",
       "      <th>Cr2O3_Liq</th>\n",
       "      <th>P2O5_Liq</th>\n",
       "      <th>H2O_Liq</th>\n",
       "      <th>Fe3FeT_Liq</th>\n",
       "      <th>SiO2_Liq_mol_frac</th>\n",
       "      <th>MgO_Liq_mol_frac</th>\n",
       "      <th>MnO_Liq_mol_frac</th>\n",
       "      <th>FeOt_Liq_mol_frac</th>\n",
       "      <th>CaO_Liq_mol_frac</th>\n",
       "      <th>Al2O3_Liq_mol_frac</th>\n",
       "      <th>Na2O_Liq_mol_frac</th>\n",
       "      <th>K2O_Liq_mol_frac</th>\n",
       "      <th>TiO2_Liq_mol_frac</th>\n",
       "      <th>P2O5_Liq_mol_frac</th>\n",
       "      <th>Cr2O3_Liq_mol_frac</th>\n",
       "      <th>SiO2_Liq_cat_frac</th>\n",
       "      <th>MgO_Liq_cat_frac</th>\n",
       "      <th>MnO_Liq_cat_frac</th>\n",
       "      <th>FeOt_Liq_cat_frac</th>\n",
       "      <th>CaO_Liq_cat_frac</th>\n",
       "      <th>Al2O3_Liq_cat_frac</th>\n",
       "      <th>Na2O_Liq_cat_frac</th>\n",
       "      <th>K2O_Liq_cat_frac</th>\n",
       "      <th>TiO2_Liq_cat_frac</th>\n",
       "      <th>P2O5_Liq_cat_frac</th>\n",
       "      <th>Cr2O3_Liq_cat_frac</th>\n",
       "      <th>FeO_Liq_cat_frac</th>\n",
       "      <th>Mg_Number_Liq_NoFe3</th>\n",
       "      <th>Mg_Number_Liq_Fe3</th>\n",
       "      <th>SiO2_Cpx</th>\n",
       "      <th>TiO2_Cpx</th>\n",
       "      <th>Al2O3_Cpx</th>\n",
       "      <th>FeOt_Cpx</th>\n",
       "      <th>MnO_Cpx</th>\n",
       "      <th>MgO_Cpx</th>\n",
       "      <th>CaO_Cpx</th>\n",
       "      <th>Na2O_Cpx</th>\n",
       "      <th>K2O_Cpx</th>\n",
       "      <th>Cr2O3_Cpx</th>\n",
       "      <th>SiO2_Cpx_cat_6ox</th>\n",
       "      <th>MgO_Cpx_cat_6ox</th>\n",
       "      <th>FeOt_Cpx_cat_6ox</th>\n",
       "      <th>CaO_Cpx_cat_6ox</th>\n",
       "      <th>Al2O3_Cpx_cat_6ox</th>\n",
       "      <th>Na2O_Cpx_cat_6ox</th>\n",
       "      <th>K2O_Cpx_cat_6ox</th>\n",
       "      <th>MnO_Cpx_cat_6ox</th>\n",
       "      <th>TiO2_Cpx_cat_6ox</th>\n",
       "      <th>Cr2O3_Cpx_cat_6ox</th>\n",
       "      <th>oxy_renorm_factor</th>\n",
       "      <th>Al_IV_cat_6ox</th>\n",
       "      <th>Al_VI_cat_6ox</th>\n",
       "      <th>Cation_Sum_Cpx</th>\n",
       "      <th>CrCaTs</th>\n",
       "      <th>a_cpx_En</th>\n",
       "      <th>Mgno_CPX</th>\n",
       "      <th>Jd</th>\n",
       "      <th>CaTs</th>\n",
       "      <th>CaTi</th>\n",
       "      <th>DiHd_1996</th>\n",
       "      <th>EnFs</th>\n",
       "      <th>DiHd_2003</th>\n",
       "      <th>Di_Cpx</th>\n",
       "      <th>Kd_Fe_Mg</th>\n",
       "      <th>Kd_Fe_Mg_NoFe3</th>\n",
       "      <th>lnK_Jd_liq</th>\n",
       "      <th>lnK_Jd_DiHd_liq_1996</th>\n",
       "      <th>lnK_Jd_DiHd_liq_2003</th>\n",
       "      <th>Kd_Fe_Mg_IdealWB</th>\n",
       "      <th>DeltaFeMg_WB</th>\n",
       "      <th>Sample_ID_Liq</th>\n",
       "      <th>Sample_ID_Cpx</th>\n",
       "      <th>Kd_Ideal_Put</th>\n",
       "      <th>Kd_Ideal_Masotta</th>\n",
       "      <th>DiHd_Pred_Mollo</th>\n",
       "      <th>EnFs_Pred_Mollo</th>\n",
       "      <th>CaTs_Pred_P1999</th>\n",
       "      <th>CrCaTS_Pred_P1999</th>\n",
       "    </tr>\n",
       "  </thead>\n",
       "  <tbody>\n",
       "    <tr>\n",
       "      <th>0</th>\n",
       "      <td>5.441974</td>\n",
       "      <td>1300</td>\n",
       "      <td>N</td>\n",
       "      <td>0.170583</td>\n",
       "      <td>0.305503</td>\n",
       "      <td>0.179981</td>\n",
       "      <td>0.037247</td>\n",
       "      <td>0.156112</td>\n",
       "      <td>51</td>\n",
       "      <td>0.48</td>\n",
       "      <td>19</td>\n",
       "      <td>5.3</td>\n",
       "      <td>0.1</td>\n",
       "      <td>4.5</td>\n",
       "      <td>9</td>\n",
       "      <td>4.2</td>\n",
       "      <td>0.1</td>\n",
       "      <td>0.11</td>\n",
       "      <td>0.11</td>\n",
       "      <td>5</td>\n",
       "      <td>0.3</td>\n",
       "      <td>0.0</td>\n",
       "      <td>0.183033</td>\n",
       "      <td>0.002311</td>\n",
       "      <td>0.120932</td>\n",
       "      <td>0.263102</td>\n",
       "      <td>0.305484</td>\n",
       "      <td>0.11109</td>\n",
       "      <td>0.00174</td>\n",
       "      <td>0.009851</td>\n",
       "      <td>0.00127</td>\n",
       "      <td>0.001186</td>\n",
       "      <td>0.0</td>\n",
       "      <td>0.128826</td>\n",
       "      <td>0.001627</td>\n",
       "      <td>0.085117</td>\n",
       "      <td>0.185182</td>\n",
       "      <td>0.430026</td>\n",
       "      <td>0.15638</td>\n",
       "      <td>0.00245</td>\n",
       "      <td>0.006934</td>\n",
       "      <td>0.001788</td>\n",
       "      <td>0.00167</td>\n",
       "      <td>0.059582</td>\n",
       "      <td>0.602144</td>\n",
       "      <td>0.683755</td>\n",
       "      <td>49</td>\n",
       "      <td>0.3</td>\n",
       "      <td>4.89</td>\n",
       "      <td>5.71</td>\n",
       "      <td>0.165</td>\n",
       "      <td>16.89</td>\n",
       "      <td>20.319</td>\n",
       "      <td>0.319</td>\n",
       "      <td>0.1</td>\n",
       "      <td>0.11</td>\n",
       "      <td>1.843671</td>\n",
       "      <td>0.947383</td>\n",
       "      <td>0.179672</td>\n",
       "      <td>0.819149</td>\n",
       "      <td>0.216847</td>\n",
       "      <td>0.023272</td>\n",
       "      <td>0.0048</td>\n",
       "      <td>0.005258</td>\n",
       "      <td>0.008491</td>\n",
       "      <td>0.003272</td>\n",
       "      <td>0.0</td>\n",
       "      <td>0.156329</td>\n",
       "      <td>0.060518</td>\n",
       "      <td>4.051814</td>\n",
       "      <td>0.001636</td>\n",
       "      <td>0.13382</td>\n",
       "      <td>0.840579</td>\n",
       "      <td>0.023272</td>\n",
       "      <td>0.037247</td>\n",
       "      <td>0.059541</td>\n",
       "      <td>0.720725</td>\n",
       "      <td>0.203165</td>\n",
       "      <td>0.720725</td>\n",
       "      <td>0.603016</td>\n",
       "      <td>0.410058</td>\n",
       "      <td>0.28704</td>\n",
       "      <td>NaN</td>\n",
       "      <td>-3.962106</td>\n",
       "      <td>-3.962106</td>\n",
       "      <td>0.265348</td>\n",
       "      <td>0.14471</td>\n",
       "      <td>0</td>\n",
       "      <td>0</td>\n",
       "      <td>0.239475</td>\n",
       "      <td>0.104555</td>\n",
       "      <td>0.564613</td>\n",
       "      <td>0.023184</td>\n",
       "      <td>0.0</td>\n",
       "      <td>0.0</td>\n",
       "    </tr>\n",
       "  </tbody>\n",
       "</table>\n",
       "</div>"
      ],
      "text/plain": [
       "   P_kbar_calc  T_K_calc Eq Tests Neave2017?  Delta_Kd_Put2008  \\\n",
       "0     5.441974      1300                   N          0.170583   \n",
       "\n",
       "   Delta_Kd_Mas2013  Delta_EnFs  Delta_CaTs  Delta_DiHd  \\\n",
       "0          0.305503    0.179981    0.037247    0.156112   \n",
       "\n",
       "   Sample_ID_CpxSiO2_Liq  TiO2_Liq  Al2O3_Liq  FeOt_Liq  MnO_Liq  MgO_Liq  \\\n",
       "0                     51      0.48         19       5.3      0.1      4.5   \n",
       "\n",
       "   CaO_Liq  Na2O_Liq  K2O_Liq  Cr2O3_Liq  P2O5_Liq  H2O_Liq  Fe3FeT_Liq  \\\n",
       "0        9       4.2      0.1       0.11      0.11        5         0.3   \n",
       "\n",
       "   SiO2_Liq_mol_frac  MgO_Liq_mol_frac  MnO_Liq_mol_frac  FeOt_Liq_mol_frac  \\\n",
       "0                0.0          0.183033          0.002311           0.120932   \n",
       "\n",
       "   CaO_Liq_mol_frac  Al2O3_Liq_mol_frac  Na2O_Liq_mol_frac  K2O_Liq_mol_frac  \\\n",
       "0          0.263102            0.305484            0.11109           0.00174   \n",
       "\n",
       "   TiO2_Liq_mol_frac  P2O5_Liq_mol_frac  Cr2O3_Liq_mol_frac  \\\n",
       "0           0.009851            0.00127            0.001186   \n",
       "\n",
       "   SiO2_Liq_cat_frac  MgO_Liq_cat_frac  MnO_Liq_cat_frac  FeOt_Liq_cat_frac  \\\n",
       "0                0.0          0.128826          0.001627           0.085117   \n",
       "\n",
       "   CaO_Liq_cat_frac  Al2O3_Liq_cat_frac  Na2O_Liq_cat_frac  K2O_Liq_cat_frac  \\\n",
       "0          0.185182            0.430026            0.15638           0.00245   \n",
       "\n",
       "   TiO2_Liq_cat_frac  P2O5_Liq_cat_frac  Cr2O3_Liq_cat_frac  FeO_Liq_cat_frac  \\\n",
       "0           0.006934           0.001788             0.00167          0.059582   \n",
       "\n",
       "   Mg_Number_Liq_NoFe3  Mg_Number_Liq_Fe3  SiO2_Cpx  TiO2_Cpx  Al2O3_Cpx  \\\n",
       "0             0.602144           0.683755        49       0.3       4.89   \n",
       "\n",
       "   FeOt_Cpx  MnO_Cpx  MgO_Cpx  CaO_Cpx  Na2O_Cpx  K2O_Cpx  Cr2O3_Cpx  \\\n",
       "0      5.71    0.165    16.89   20.319     0.319      0.1       0.11   \n",
       "\n",
       "   SiO2_Cpx_cat_6ox  MgO_Cpx_cat_6ox  FeOt_Cpx_cat_6ox  CaO_Cpx_cat_6ox  \\\n",
       "0          1.843671         0.947383          0.179672         0.819149   \n",
       "\n",
       "   Al2O3_Cpx_cat_6ox  Na2O_Cpx_cat_6ox  K2O_Cpx_cat_6ox  MnO_Cpx_cat_6ox  \\\n",
       "0           0.216847          0.023272           0.0048         0.005258   \n",
       "\n",
       "   TiO2_Cpx_cat_6ox  Cr2O3_Cpx_cat_6ox  oxy_renorm_factor  Al_IV_cat_6ox  \\\n",
       "0          0.008491           0.003272                0.0       0.156329   \n",
       "\n",
       "   Al_VI_cat_6ox  Cation_Sum_Cpx    CrCaTs  a_cpx_En  Mgno_CPX        Jd  \\\n",
       "0       0.060518        4.051814  0.001636   0.13382  0.840579  0.023272   \n",
       "\n",
       "       CaTs      CaTi  DiHd_1996      EnFs  DiHd_2003    Di_Cpx  Kd_Fe_Mg  \\\n",
       "0  0.037247  0.059541   0.720725  0.203165   0.720725  0.603016  0.410058   \n",
       "\n",
       "   Kd_Fe_Mg_NoFe3  lnK_Jd_liq  lnK_Jd_DiHd_liq_1996  lnK_Jd_DiHd_liq_2003  \\\n",
       "0         0.28704         NaN             -3.962106             -3.962106   \n",
       "\n",
       "   Kd_Fe_Mg_IdealWB  DeltaFeMg_WB  Sample_ID_Liq  Sample_ID_Cpx  Kd_Ideal_Put  \\\n",
       "0          0.265348       0.14471              0              0      0.239475   \n",
       "\n",
       "   Kd_Ideal_Masotta  DiHd_Pred_Mollo  EnFs_Pred_Mollo  CaTs_Pred_P1999  \\\n",
       "0          0.104555         0.564613         0.023184              0.0   \n",
       "\n",
       "   CrCaTS_Pred_P1999  \n",
       "0                0.0  "
      ]
     },
     "execution_count": 12,
     "metadata": {},
     "output_type": "execute_result"
    }
   ],
   "source": [
    "pt.calculate_cpx_liq_press(cpx_comps=CpxT, liq_comps=LiqT, equationP=\"P_Put2008_eq32c\", T=1300, eq_tests=True, Fe3FeT_Liq=0.3)"
   ]
  },
  {
   "cell_type": "code",
   "execution_count": 13,
   "id": "5cb44b24-ac5d-445b-a564-29fe1abdc2e6",
   "metadata": {},
   "outputs": [
    {
     "name": "stderr",
     "output_type": "stream",
     "text": [
      "C:\\Users\\penny\\anaconda3\\lib\\site-packages\\ipykernel\\ipkernel.py:283: DeprecationWarning: `should_run_async` will not call `transform_cell` automatically in the future. Please pass the result to `transformed_cell` argument and any exception that happen during thetransform in `preprocessing_exc_tuple` in IPython 7.17 and above.\n",
      "  and should_run_async(code)\n"
     ]
    },
    {
     "data": {
      "text/plain": [
       "0    1290.829458\n",
       "dtype: float64"
      ]
     },
     "execution_count": 13,
     "metadata": {},
     "output_type": "execute_result"
    }
   ],
   "source": [
    "pt.calculate_cpx_liq_temp(cpx_comps=CpxT,\n",
    "       liq_comps=LiqT, equationT=\"T_Put2008_eq33\", P=5)"
   ]
  },
  {
   "cell_type": "markdown",
   "id": "8a1202ca-6193-4217-85eb-0fa7fe8a4aa0",
   "metadata": {},
   "source": [
    "## Iterating cpx-liq"
   ]
  },
  {
   "cell_type": "code",
   "execution_count": 14,
   "id": "c582a17f-4512-437e-941d-04c4ed182174",
   "metadata": {},
   "outputs": [
    {
     "name": "stderr",
     "output_type": "stream",
     "text": [
      "C:\\Users\\penny\\anaconda3\\lib\\site-packages\\ipykernel\\ipkernel.py:283: DeprecationWarning: `should_run_async` will not call `transform_cell` automatically in the future. Please pass the result to `transformed_cell` argument and any exception that happen during thetransform in `preprocessing_exc_tuple` in IPython 7.17 and above.\n",
      "  and should_run_async(code)\n",
      "C:\\Users\\penny\\anaconda3\\lib\\site-packages\\pandas\\core\\arraylike.py:358: RuntimeWarning: divide by zero encountered in log\n",
      "  result = getattr(ufunc, method)(*inputs, **kwargs)\n"
     ]
    },
    {
     "data": {
      "text/html": [
       "<div>\n",
       "<style scoped>\n",
       "    .dataframe tbody tr th:only-of-type {\n",
       "        vertical-align: middle;\n",
       "    }\n",
       "\n",
       "    .dataframe tbody tr th {\n",
       "        vertical-align: top;\n",
       "    }\n",
       "\n",
       "    .dataframe thead th {\n",
       "        text-align: right;\n",
       "    }\n",
       "</style>\n",
       "<table border=\"1\" class=\"dataframe\">\n",
       "  <thead>\n",
       "    <tr style=\"text-align: right;\">\n",
       "      <th></th>\n",
       "      <th>P_kbar_calc</th>\n",
       "      <th>T_K_calc</th>\n",
       "    </tr>\n",
       "  </thead>\n",
       "  <tbody>\n",
       "    <tr>\n",
       "      <th>0</th>\n",
       "      <td>NaN</td>\n",
       "      <td>NaN</td>\n",
       "    </tr>\n",
       "  </tbody>\n",
       "</table>\n",
       "</div>"
      ],
      "text/plain": [
       "   P_kbar_calc  T_K_calc\n",
       "0          NaN       NaN"
      ]
     },
     "execution_count": 14,
     "metadata": {},
     "output_type": "execute_result"
    }
   ],
   "source": [
    "pt.calculate_cpx_liq_press_temp(cpx_comps=CpxT,\n",
    "       liq_comps=LiqT, equationP=\"P_Put2008_eq30\", equationT=\"T_Put2003\")"
   ]
  },
  {
   "cell_type": "code",
   "execution_count": 15,
   "id": "487b8d6e-52dc-4179-a632-4949756dacdf",
   "metadata": {},
   "outputs": [
    {
     "name": "stderr",
     "output_type": "stream",
     "text": [
      "C:\\Users\\penny\\anaconda3\\lib\\site-packages\\ipykernel\\ipkernel.py:283: DeprecationWarning: `should_run_async` will not call `transform_cell` automatically in the future. Please pass the result to `transformed_cell` argument and any exception that happen during thetransform in `preprocessing_exc_tuple` in IPython 7.17 and above.\n",
      "  and should_run_async(code)\n",
      "C:\\Users\\penny\\anaconda3\\lib\\site-packages\\pandas\\core\\arraylike.py:358: RuntimeWarning: divide by zero encountered in log\n",
      "  result = getattr(ufunc, method)(*inputs, **kwargs)\n"
     ]
    },
    {
     "data": {
      "text/html": [
       "<div>\n",
       "<style scoped>\n",
       "    .dataframe tbody tr th:only-of-type {\n",
       "        vertical-align: middle;\n",
       "    }\n",
       "\n",
       "    .dataframe tbody tr th {\n",
       "        vertical-align: top;\n",
       "    }\n",
       "\n",
       "    .dataframe thead th {\n",
       "        text-align: right;\n",
       "    }\n",
       "</style>\n",
       "<table border=\"1\" class=\"dataframe\">\n",
       "  <thead>\n",
       "    <tr style=\"text-align: right;\">\n",
       "      <th></th>\n",
       "      <th>P_kbar_calc</th>\n",
       "      <th>T_K_calc</th>\n",
       "    </tr>\n",
       "  </thead>\n",
       "  <tbody>\n",
       "    <tr>\n",
       "      <th>0</th>\n",
       "      <td>NaN</td>\n",
       "      <td>NaN</td>\n",
       "    </tr>\n",
       "  </tbody>\n",
       "</table>\n",
       "</div>"
      ],
      "text/plain": [
       "   P_kbar_calc  T_K_calc\n",
       "0          NaN       NaN"
      ]
     },
     "execution_count": 15,
     "metadata": {},
     "output_type": "execute_result"
    }
   ],
   "source": [
    "pt.calculate_cpx_liq_press_temp(cpx_comps=CpxT,\n",
    "       liq_comps=LiqT, equationP=\"P_Put2008_eq30\", equationT=\"T_Put2003\", H2O_Liq=6)"
   ]
  },
  {
   "cell_type": "code",
   "execution_count": 16,
   "id": "86afaa08-75ba-4e38-9809-e2c228cda0d3",
   "metadata": {},
   "outputs": [
    {
     "name": "stderr",
     "output_type": "stream",
     "text": [
      "C:\\Users\\penny\\anaconda3\\lib\\site-packages\\ipykernel\\ipkernel.py:283: DeprecationWarning: `should_run_async` will not call `transform_cell` automatically in the future. Please pass the result to `transformed_cell` argument and any exception that happen during thetransform in `preprocessing_exc_tuple` in IPython 7.17 and above.\n",
      "  and should_run_async(code)\n"
     ]
    }
   ],
   "source": [
    "## Equil tests"
   ]
  },
  {
   "cell_type": "code",
   "execution_count": 21,
   "id": "929520cd-7a91-4c56-8c4e-967eb76d94fd",
   "metadata": {},
   "outputs": [],
   "source": [
    "Liq2=pd.DataFrame(data={\"SiO2_Liq\": 47.2916,\n",
    "                            \"TiO2_Liq\": 1.7307,\n",
    "                            \"Al2O3_Liq\": 15.525,\n",
    "                            \"FeOt_Liq\": 9.3999,\n",
    "                            \"MnO_Liq\": 0.1588,\n",
    "                            \"MgO_Liq\": 6.322718447,\n",
    "                            \"CaO_Liq\": 12.3696,\n",
    "                            \"Na2O_Liq\": 3.9281,\n",
    "                            \"K2O_Liq\": 1.2285,\n",
    "                            \"Cr2O3_Liq\": 0,\n",
    "                            \"P2O5_Liq\": 0.2406,\n",
    "                            \"H2O_Liq\": 0}, index=[0])\n",
    "\n",
    "Cpx2=pd.DataFrame(data={\"SiO2_Cpx\": 49.7147,\n",
    "                            \"TiO2_Cpx\": 0.7249,\n",
    "                            \"Al2O3_Cpx\": 6.2489,\n",
    "                            \"FeOt_Cpx\": 3.988,\n",
    "                            \"MnO_Cpx\": 0.1128,\n",
    "                            \"MgO_Cpx\": 15.0415,\n",
    "                            \"CaO_Cpx\": 21.6397,\n",
    "                            \"Na2O_Cpx\": 0.4081,\n",
    "                            \"K2O_Cpx\": 0,\n",
    "                            \"Cr2O3_Cpx\": 1.355}, index=[0])\n",
    "\n"
   ]
  },
  {
   "cell_type": "code",
   "execution_count": 41,
   "id": "f3a1e144-e8f4-47e9-be12-1c156f101b19",
   "metadata": {},
   "outputs": [
    {
     "name": "stderr",
     "output_type": "stream",
     "text": [
      "C:\\Users\\penny\\anaconda3\\lib\\site-packages\\ipykernel\\ipkernel.py:283: DeprecationWarning: `should_run_async` will not call `transform_cell` automatically in the future. Please pass the result to `transformed_cell` argument and any exception that happen during thetransform in `preprocessing_exc_tuple` in IPython 7.17 and above.\n",
      "  and should_run_async(code)\n"
     ]
    },
    {
     "name": "stdout",
     "output_type": "stream",
     "text": [
      "Considering 1 Liq-Cpx pairs, be patient if this is >>1 million!\n",
      "1 Matches remaining after initial Kd filter. Now moving onto iterative calculations\n",
      "Finished calculating Ps and Ts, now just averaging the results. Almost there!\n",
      "Done!\n"
     ]
    },
    {
     "data": {
      "text/plain": [
       "0    5.993997\n",
       "Name: Mean_P_kbar_calc, dtype: float64"
      ]
     },
     "execution_count": 41,
     "metadata": {},
     "output_type": "execute_result"
    }
   ],
   "source": [
    "a=pt.calculate_cpx_liq_press_temp_matching(cpx_comps=Cpx2, liq_comps=Liq2, equationT=\"T_Put2008_eq33\", equationP=\"P_Neave2017\", \n",
    "                                          KdErr=0.11, eq_crit=\"All\",  Fe3FeT_Liq=0.0, sigma=4).get(\"Av_PTs\").Mean_P_kbar_calc\n",
    "a"
   ]
  },
  {
   "cell_type": "code",
   "execution_count": 42,
   "id": "fc5cf418-00ab-4cd9-b267-07db2f683769",
   "metadata": {},
   "outputs": [
    {
     "name": "stderr",
     "output_type": "stream",
     "text": [
      "C:\\Users\\penny\\anaconda3\\lib\\site-packages\\ipykernel\\ipkernel.py:283: DeprecationWarning: `should_run_async` will not call `transform_cell` automatically in the future. Please pass the result to `transformed_cell` argument and any exception that happen during thetransform in `preprocessing_exc_tuple` in IPython 7.17 and above.\n",
      "  and should_run_async(code)\n"
     ]
    },
    {
     "name": "stdout",
     "output_type": "stream",
     "text": [
      "Considering 1 Liq-Cpx pairs, be patient if this is >>1 million!\n",
      "1 Matches remaining after initial Kd filter. Now moving onto iterative calculations\n",
      "Finished calculating Ps and Ts, now just averaging the results. Almost there!\n",
      "Done!\n"
     ]
    },
    {
     "data": {
      "text/plain": [
       "0    1480.039007\n",
       "Name: Mean_T_K_calc, dtype: float64"
      ]
     },
     "execution_count": 42,
     "metadata": {},
     "output_type": "execute_result"
    }
   ],
   "source": [
    "a=pt.calculate_cpx_liq_press_temp_matching(cpx_comps=Cpx2, liq_comps=Liq2, equationT=\"T_Put2008_eq33\", equationP=\"P_Neave2017\", \n",
    "                                          KdErr=0.11, eq_crit=\"All\",  Fe3FeT_Liq=0.0, sigma=4).get(\"Av_PTs\").Mean_T_K_calc\n",
    "a"
   ]
  },
  {
   "cell_type": "code",
   "execution_count": 32,
   "id": "a067bb21-2c7b-4f8d-87ed-f4855d6d6b54",
   "metadata": {},
   "outputs": [
    {
     "name": "stderr",
     "output_type": "stream",
     "text": [
      "C:\\Users\\penny\\anaconda3\\lib\\site-packages\\ipykernel\\ipkernel.py:283: DeprecationWarning: `should_run_async` will not call `transform_cell` automatically in the future. Please pass the result to `transformed_cell` argument and any exception that happen during thetransform in `preprocessing_exc_tuple` in IPython 7.17 and above.\n",
      "  and should_run_async(code)\n"
     ]
    },
    {
     "data": {
      "text/plain": [
       "{'Av_PTs':    No. of liquids averaged  Sample_ID_Cpx  Mean_T_K_calc  st_dev_T_K_calc  \\\n",
       " 0                        1              0    1480.039007              0.0   \n",
       " \n",
       "    Mean_P_kbar_calc  st_dev_P_kbar_calc  Mean_Delta_Kd_Put2008  \\\n",
       " 0          5.993997                 0.0               0.102927   \n",
       " \n",
       "    Mean_Delta_Kd_Mas2013  Mean_Delta_EnFs  Mean_Delta_CaTs  Mean_Delta_DiHd  \\\n",
       " 0               0.001959          0.00633         0.057139          0.03014   \n",
       " \n",
       "    Mean_SiO2_Liq  Mean_TiO2_Liq  Mean_Al2O3_Liq  Mean_FeOt_Liq  Mean_MnO_Liq  \\\n",
       " 0        47.2916         1.7307          15.525         9.3999        0.1588   \n",
       " \n",
       "    Mean_MgO_Liq  Mean_CaO_Liq  Mean_Na2O_Liq  Mean_K2O_Liq  Mean_Cr2O3_Liq  \\\n",
       " 0      6.322718       12.3696         3.9281        1.2285             0.0   \n",
       " \n",
       "    Mean_P2O5_Liq  Mean_H2O_Liq  Mean_Fe3FeT_Liq  Mean_SiO2_Liq_mol_frac  \\\n",
       " 0         0.2406           0.0              0.0                 0.50791   \n",
       " \n",
       "    Mean_MgO_Liq_mol_frac  Mean_MnO_Liq_mol_frac  Mean_FeOt_Liq_mol_frac  \\\n",
       " 0               0.101231               0.001445                0.084427   \n",
       " \n",
       "    Mean_CaO_Liq_mol_frac  Mean_Al2O3_Liq_mol_frac  Mean_Na2O_Liq_mol_frac  \\\n",
       " 0               0.142341                 0.098256                0.040898   \n",
       " \n",
       "    Mean_K2O_Liq_mol_frac  Mean_TiO2_Liq_mol_frac  Mean_P2O5_Liq_mol_frac  \\\n",
       " 0               0.008416                0.013982                0.001094   \n",
       " \n",
       "    Mean_Cr2O3_Liq_mol_frac  Mean_SiO2_Liq_cat_frac  Mean_MgO_Liq_cat_frac  \\\n",
       " 0                      0.0                0.442174                0.08813   \n",
       " \n",
       "    Mean_MnO_Liq_cat_frac  Mean_FeOt_Liq_cat_frac  Mean_CaO_Liq_cat_frac  \\\n",
       " 0               0.001258                  0.0735               0.123919   \n",
       " \n",
       "    Mean_Al2O3_Liq_cat_frac  Mean_Na2O_Liq_cat_frac  Mean_K2O_Liq_cat_frac  \\\n",
       " 0                 0.171079                 0.07121               0.014654   \n",
       " \n",
       "    Mean_TiO2_Liq_cat_frac  Mean_P2O5_Liq_cat_frac  Mean_Cr2O3_Liq_cat_frac  \\\n",
       " 0                0.012172                0.001905                      0.0   \n",
       " \n",
       "    Mean_FeO_Liq_cat_frac  Mean_Mg_Number_Liq_NoFe3  Mean_Mg_Number_Liq_Fe3  \\\n",
       " 0                 0.0735                  0.545248                0.545248   \n",
       " \n",
       "    Mean_ID_Liq  Mean_SiO2_Cpx  Mean_TiO2_Cpx  Mean_Al2O3_Cpx  Mean_FeOt_Cpx  \\\n",
       " 0          0.0        49.7147         0.7249          6.2489          3.988   \n",
       " \n",
       "    Mean_MnO_Cpx  Mean_MgO_Cpx  Mean_CaO_Cpx  Mean_Na2O_Cpx  Mean_K2O_Cpx  \\\n",
       " 0        0.1128       15.0415       21.6397         0.4081           0.0   \n",
       " \n",
       "    Mean_Cr2O3_Cpx  Mean_SiO2_Cpx_cat_6ox  Mean_MgO_Cpx_cat_6ox  \\\n",
       " 0           1.355               1.834383               0.82738   \n",
       " \n",
       "    Mean_FeOt_Cpx_cat_6ox  Mean_CaO_Cpx_cat_6ox  Mean_Al2O3_Cpx_cat_6ox  \\\n",
       " 0                0.12306              0.855519                0.271748   \n",
       " \n",
       "    Mean_Na2O_Cpx_cat_6ox  Mean_K2O_Cpx_cat_6ox  Mean_MnO_Cpx_cat_6ox  \\\n",
       " 0               0.029196                   0.0              0.003525   \n",
       " \n",
       "    Mean_TiO2_Cpx_cat_6ox  Mean_Cr2O3_Cpx_cat_6ox  Mean_oxy_renorm_factor  \\\n",
       " 0               0.020119                0.039527                     0.0   \n",
       " \n",
       "    Mean_Al_IV_cat_6ox  Mean_Al_VI_cat_6ox  Mean_Cation_Sum_Cpx  Mean_CrCaTs  \\\n",
       " 0            0.165617            0.106131             4.004458     0.019764   \n",
       " \n",
       "    Mean_a_cpx_En  Mean_Mgno_CPX   Mean_Jd  Mean_CaTs  Mean_CaTi  \\\n",
       " 0        0.09566       0.870519  0.029196   0.076935   0.044341   \n",
       " \n",
       "    Mean_DiHd_1996  Mean_EnFs  Mean_DiHd_2003  Mean_Di_Cpx  Mean_ID_CPX  \\\n",
       " 0        0.714479    0.11798        0.714479     0.619672          0.0   \n",
       " \n",
       "    Mean_Kd_Fe_Mg  Mean_Kd_Fe_Mg_NoFe3  Mean_lnK_Jd_liq  \\\n",
       " 0       0.178338             0.178338         2.506123   \n",
       " \n",
       "    Mean_lnK_Jd_DiHd_liq_1996  Mean_lnK_Jd_DiHd_liq_2003  \\\n",
       " 0                  -2.700352                  -2.700352   \n",
       " \n",
       "    Mean_Kd_Fe_Mg_IdealWB  Mean_DeltaFeMg_WB  Mean_T_Liq_MinP  Mean_T_Liq_MaxP  \\\n",
       " 0               0.270917           0.092578      1391.126944      1637.085463   \n",
       " \n",
       "    Mean_Kd_MinP  Mean_Kd_MaxP  Mean_Kd_Ideal_Put  Mean_Kd_Ideal_Masotta  \\\n",
       " 0      0.261143      0.314416           0.281266               0.180298   \n",
       " \n",
       "    Mean_DiHd_Pred_Mollo  Mean_EnFs_Pred_Mollo  Mean_CaTs_Pred_P1999  \\\n",
       " 0               0.68434               0.12431              0.019796   \n",
       " \n",
       "    Mean_CrCaTS_Pred_P1999  \n",
       " 0                     0.0  ,\n",
       " 'All_PTs':    Sample_ID_Cpx  P_kbar_calc     T_K_calc Eq Tests Neave2017?  \\\n",
       " 0              0     5.993997  1480.039007                   N   \n",
       " \n",
       "    Delta_Kd_Put2008  Delta_Kd_Mas2013  Delta_EnFs  Delta_CaTs  Delta_DiHd  \\\n",
       " 0          0.102927          0.001959     0.00633    0.057139     0.03014   \n",
       " \n",
       "    SiO2_Liq  TiO2_Liq  Al2O3_Liq  FeOt_Liq  MnO_Liq   MgO_Liq  CaO_Liq  \\\n",
       " 0   47.2916    1.7307     15.525    9.3999   0.1588  6.322718  12.3696   \n",
       " \n",
       "    Na2O_Liq  K2O_Liq  Cr2O3_Liq  P2O5_Liq  H2O_Liq  Fe3FeT_Liq  \\\n",
       " 0    3.9281   1.2285        0.0    0.2406      0.0         0.0   \n",
       " \n",
       "    SiO2_Liq_mol_frac  MgO_Liq_mol_frac  MnO_Liq_mol_frac  FeOt_Liq_mol_frac  \\\n",
       " 0            0.50791          0.101231          0.001445           0.084427   \n",
       " \n",
       "    CaO_Liq_mol_frac  Al2O3_Liq_mol_frac  Na2O_Liq_mol_frac  K2O_Liq_mol_frac  \\\n",
       " 0          0.142341            0.098256           0.040898          0.008416   \n",
       " \n",
       "    TiO2_Liq_mol_frac  P2O5_Liq_mol_frac  Cr2O3_Liq_mol_frac  \\\n",
       " 0           0.013982           0.001094                 0.0   \n",
       " \n",
       "    SiO2_Liq_cat_frac  MgO_Liq_cat_frac  MnO_Liq_cat_frac  FeOt_Liq_cat_frac  \\\n",
       " 0           0.442174           0.08813          0.001258             0.0735   \n",
       " \n",
       "    CaO_Liq_cat_frac  Al2O3_Liq_cat_frac  Na2O_Liq_cat_frac  K2O_Liq_cat_frac  \\\n",
       " 0          0.123919            0.171079            0.07121          0.014654   \n",
       " \n",
       "    TiO2_Liq_cat_frac  P2O5_Liq_cat_frac  Cr2O3_Liq_cat_frac  FeO_Liq_cat_frac  \\\n",
       " 0           0.012172           0.001905                 0.0            0.0735   \n",
       " \n",
       "    Mg_Number_Liq_NoFe3  Mg_Number_Liq_Fe3  ID_Liq  SiO2_Cpx  TiO2_Cpx  \\\n",
       " 0             0.545248           0.545248     0.0   49.7147    0.7249   \n",
       " \n",
       "    Al2O3_Cpx  FeOt_Cpx  MnO_Cpx  MgO_Cpx  CaO_Cpx  Na2O_Cpx  K2O_Cpx  \\\n",
       " 0     6.2489     3.988   0.1128  15.0415  21.6397    0.4081      0.0   \n",
       " \n",
       "    Cr2O3_Cpx  SiO2_Cpx_cat_6ox  MgO_Cpx_cat_6ox  FeOt_Cpx_cat_6ox  \\\n",
       " 0      1.355          1.834383          0.82738           0.12306   \n",
       " \n",
       "    CaO_Cpx_cat_6ox  Al2O3_Cpx_cat_6ox  Na2O_Cpx_cat_6ox  K2O_Cpx_cat_6ox  \\\n",
       " 0         0.855519           0.271748          0.029196              0.0   \n",
       " \n",
       "    MnO_Cpx_cat_6ox  TiO2_Cpx_cat_6ox  Cr2O3_Cpx_cat_6ox  oxy_renorm_factor  \\\n",
       " 0         0.003525          0.020119           0.039527                0.0   \n",
       " \n",
       "    Al_IV_cat_6ox  Al_VI_cat_6ox  Cation_Sum_Cpx    CrCaTs  a_cpx_En  Mgno_CPX  \\\n",
       " 0       0.165617       0.106131        4.004458  0.019764   0.09566  0.870519   \n",
       " \n",
       "          Jd      CaTs      CaTi  DiHd_1996     EnFs  DiHd_2003    Di_Cpx  \\\n",
       " 0  0.029196  0.076935  0.044341   0.714479  0.11798   0.714479  0.619672   \n",
       " \n",
       "    ID_CPX  Kd_Fe_Mg  Kd_Fe_Mg_NoFe3  lnK_Jd_liq  lnK_Jd_DiHd_liq_1996  \\\n",
       " 0     0.0  0.178338        0.178338    2.506123             -2.700352   \n",
       " \n",
       "    lnK_Jd_DiHd_liq_2003  Kd_Fe_Mg_IdealWB  DeltaFeMg_WB   T_Liq_MinP  \\\n",
       " 0             -2.700352          0.270917      0.092578  1391.126944   \n",
       " \n",
       "     T_Liq_MaxP   Kd_MinP   Kd_MaxP  Kd_Ideal_Put  Kd_Ideal_Masotta  \\\n",
       " 0  1637.085463  0.261143  0.314416      0.281266          0.180298   \n",
       " \n",
       "    DiHd_Pred_Mollo  EnFs_Pred_Mollo  CaTs_Pred_P1999  CrCaTS_Pred_P1999  \n",
       " 0          0.68434          0.12431         0.019796                0.0  }"
      ]
     },
     "execution_count": 32,
     "metadata": {},
     "output_type": "execute_result"
    }
   ],
   "source": [
    "pt.calculate_cpx_rhodes_diagram_lines(\n",
    "        0.5, 0.8, simple=False, T=None, KdMin=None, KdMax=None)"
   ]
  },
  {
   "cell_type": "code",
   "execution_count": null,
   "id": "36b29e7d-0bcf-4924-b278-b30d8492e386",
   "metadata": {},
   "outputs": [],
   "source": []
  }
 ],
 "metadata": {
  "kernelspec": {
   "display_name": "Python 3",
   "language": "python",
   "name": "python3"
  },
  "language_info": {
   "codemirror_mode": {
    "name": "ipython",
    "version": 3
   },
   "file_extension": ".py",
   "mimetype": "text/x-python",
   "name": "python",
   "nbconvert_exporter": "python",
   "pygments_lexer": "ipython3",
   "version": "3.8.5"
  }
 },
 "nbformat": 4,
 "nbformat_minor": 5
}
