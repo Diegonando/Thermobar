{
 "cells": [
  {
   "cell_type": "markdown",
   "metadata": {},
   "source": [
    "# Step 2 - Import required python packages and Thermobar"
   ]
  },
  {
   "cell_type": "code",
   "execution_count": 1,
   "metadata": {},
   "outputs": [],
   "source": [
    "import numpy as np\n",
    "import pandas as pd\n",
    "import matplotlib.pyplot as plt\n",
    "import sys\n",
    "sys.path.append(\"../\")\n",
    "import Thermobar as pt"
   ]
  },
  {
   "cell_type": "markdown",
   "metadata": {},
   "source": [
    "# Step 3 - Import data from a specific Excel Sheet"
   ]
  },
  {
   "cell_type": "code",
   "execution_count": 2,
   "metadata": {},
   "outputs": [],
   "source": [
    "out=pt.import_excel('Example_Excel_input.xlsx', \n",
    "                    sheet_name=\"Sheet1\")\n",
    "\n",
    "my_input=out['my_input']\n",
    "\n",
    "myLiquids=out['Liqs']\n",
    "\n",
    "myPlags=out['Plags']\n",
    "\n",
    "myOls=out['Ols']"
   ]
  },
  {
   "cell_type": "markdown",
   "metadata": {},
   "source": [
    "# Step 4 - Inspect the data to ensure it read correctly"
   ]
  },
  {
   "cell_type": "code",
   "execution_count": 3,
   "metadata": {},
   "outputs": [
    {
     "data": {
      "text/html": [
       "<div>\n",
       "<style scoped>\n",
       "    .dataframe tbody tr th:only-of-type {\n",
       "        vertical-align: middle;\n",
       "    }\n",
       "\n",
       "    .dataframe tbody tr th {\n",
       "        vertical-align: top;\n",
       "    }\n",
       "\n",
       "    .dataframe thead th {\n",
       "        text-align: right;\n",
       "    }\n",
       "</style>\n",
       "<table border=\"1\" class=\"dataframe\">\n",
       "  <thead>\n",
       "    <tr style=\"text-align: right;\">\n",
       "      <th></th>\n",
       "      <th>SiO2_Liq</th>\n",
       "      <th>TiO2_Liq</th>\n",
       "      <th>Al2O3_Liq</th>\n",
       "      <th>FeOt_Liq</th>\n",
       "      <th>MnO_Liq</th>\n",
       "      <th>MgO_Liq</th>\n",
       "      <th>CaO_Liq</th>\n",
       "      <th>Na2O_Liq</th>\n",
       "      <th>K2O_Liq</th>\n",
       "      <th>Cr2O3_Liq</th>\n",
       "      <th>P2O5_Liq</th>\n",
       "      <th>H2O_Liq</th>\n",
       "      <th>Fe3Fet_Liq</th>\n",
       "      <th>NiO_Liq</th>\n",
       "      <th>CoO_Liq</th>\n",
       "      <th>CO2_Liq</th>\n",
       "      <th>Sample_ID_Liq</th>\n",
       "    </tr>\n",
       "  </thead>\n",
       "  <tbody>\n",
       "    <tr>\n",
       "      <th>0</th>\n",
       "      <td>49.1</td>\n",
       "      <td>3.22</td>\n",
       "      <td>14.4</td>\n",
       "      <td>14.8</td>\n",
       "      <td>3.20</td>\n",
       "      <td>3.20</td>\n",
       "      <td>6.72</td>\n",
       "      <td>3.34</td>\n",
       "      <td>1.70</td>\n",
       "      <td>0.0</td>\n",
       "      <td>0.00</td>\n",
       "      <td>0</td>\n",
       "      <td>0.0</td>\n",
       "      <td>0.0</td>\n",
       "      <td>0.0</td>\n",
       "      <td>0.0</td>\n",
       "      <td>K33</td>\n",
       "    </tr>\n",
       "    <tr>\n",
       "      <th>1</th>\n",
       "      <td>49.2</td>\n",
       "      <td>3.89</td>\n",
       "      <td>15.3</td>\n",
       "      <td>13.7</td>\n",
       "      <td>3.88</td>\n",
       "      <td>3.88</td>\n",
       "      <td>6.76</td>\n",
       "      <td>3.44</td>\n",
       "      <td>1.22</td>\n",
       "      <td>0.0</td>\n",
       "      <td>0.00</td>\n",
       "      <td>0</td>\n",
       "      <td>0.0</td>\n",
       "      <td>0.0</td>\n",
       "      <td>0.0</td>\n",
       "      <td>0.0</td>\n",
       "      <td>K34</td>\n",
       "    </tr>\n",
       "    <tr>\n",
       "      <th>2</th>\n",
       "      <td>49.6</td>\n",
       "      <td>3.79</td>\n",
       "      <td>15.8</td>\n",
       "      <td>13.0</td>\n",
       "      <td>4.26</td>\n",
       "      <td>4.26</td>\n",
       "      <td>6.59</td>\n",
       "      <td>3.65</td>\n",
       "      <td>1.04</td>\n",
       "      <td>0.0</td>\n",
       "      <td>0.02</td>\n",
       "      <td>0</td>\n",
       "      <td>0.0</td>\n",
       "      <td>0.0</td>\n",
       "      <td>0.0</td>\n",
       "      <td>0.0</td>\n",
       "      <td>K44</td>\n",
       "    </tr>\n",
       "  </tbody>\n",
       "</table>\n",
       "</div>"
      ],
      "text/plain": [
       "   SiO2_Liq  TiO2_Liq  Al2O3_Liq  FeOt_Liq  MnO_Liq  MgO_Liq  CaO_Liq  \\\n",
       "0      49.1      3.22       14.4      14.8     3.20     3.20     6.72   \n",
       "1      49.2      3.89       15.3      13.7     3.88     3.88     6.76   \n",
       "2      49.6      3.79       15.8      13.0     4.26     4.26     6.59   \n",
       "\n",
       "   Na2O_Liq  K2O_Liq  Cr2O3_Liq  P2O5_Liq  H2O_Liq  Fe3Fet_Liq  NiO_Liq  \\\n",
       "0      3.34     1.70        0.0      0.00        0         0.0      0.0   \n",
       "1      3.44     1.22        0.0      0.00        0         0.0      0.0   \n",
       "2      3.65     1.04        0.0      0.02        0         0.0      0.0   \n",
       "\n",
       "   CoO_Liq  CO2_Liq Sample_ID_Liq  \n",
       "0      0.0      0.0           K33  \n",
       "1      0.0      0.0           K34  \n",
       "2      0.0      0.0           K44  "
      ]
     },
     "metadata": {},
     "output_type": "display_data"
    },
    {
     "data": {
      "text/html": [
       "<div>\n",
       "<style scoped>\n",
       "    .dataframe tbody tr th:only-of-type {\n",
       "        vertical-align: middle;\n",
       "    }\n",
       "\n",
       "    .dataframe tbody tr th {\n",
       "        vertical-align: top;\n",
       "    }\n",
       "\n",
       "    .dataframe thead th {\n",
       "        text-align: right;\n",
       "    }\n",
       "</style>\n",
       "<table border=\"1\" class=\"dataframe\">\n",
       "  <thead>\n",
       "    <tr style=\"text-align: right;\">\n",
       "      <th></th>\n",
       "      <th>SiO2_Plag</th>\n",
       "      <th>TiO2_Plag</th>\n",
       "      <th>Al2O3_Plag</th>\n",
       "      <th>FeOt_Plag</th>\n",
       "      <th>MnO_Plag</th>\n",
       "      <th>MgO_Plag</th>\n",
       "      <th>CaO_Plag</th>\n",
       "      <th>Na2O_Plag</th>\n",
       "      <th>K2O_Plag</th>\n",
       "      <th>Cr2O3_Plag</th>\n",
       "      <th>Sample_ID_Plag</th>\n",
       "    </tr>\n",
       "  </thead>\n",
       "  <tbody>\n",
       "    <tr>\n",
       "      <th>0</th>\n",
       "      <td>57.3</td>\n",
       "      <td>0.09</td>\n",
       "      <td>26.6</td>\n",
       "      <td>0.43</td>\n",
       "      <td>0</td>\n",
       "      <td>0.03</td>\n",
       "      <td>8.33</td>\n",
       "      <td>6.11</td>\n",
       "      <td>0.49</td>\n",
       "      <td>0</td>\n",
       "      <td>0</td>\n",
       "    </tr>\n",
       "    <tr>\n",
       "      <th>1</th>\n",
       "      <td>56.5</td>\n",
       "      <td>0.12</td>\n",
       "      <td>26.9</td>\n",
       "      <td>0.47</td>\n",
       "      <td>0</td>\n",
       "      <td>0.05</td>\n",
       "      <td>8.95</td>\n",
       "      <td>5.66</td>\n",
       "      <td>0.47</td>\n",
       "      <td>0</td>\n",
       "      <td>1</td>\n",
       "    </tr>\n",
       "    <tr>\n",
       "      <th>2</th>\n",
       "      <td>57.6</td>\n",
       "      <td>0.11</td>\n",
       "      <td>26.3</td>\n",
       "      <td>0.50</td>\n",
       "      <td>0</td>\n",
       "      <td>0.07</td>\n",
       "      <td>8.50</td>\n",
       "      <td>6.27</td>\n",
       "      <td>0.40</td>\n",
       "      <td>0</td>\n",
       "      <td>2</td>\n",
       "    </tr>\n",
       "  </tbody>\n",
       "</table>\n",
       "</div>"
      ],
      "text/plain": [
       "   SiO2_Plag  TiO2_Plag  Al2O3_Plag  FeOt_Plag  MnO_Plag  MgO_Plag  CaO_Plag  \\\n",
       "0       57.3       0.09        26.6       0.43         0      0.03      8.33   \n",
       "1       56.5       0.12        26.9       0.47         0      0.05      8.95   \n",
       "2       57.6       0.11        26.3       0.50         0      0.07      8.50   \n",
       "\n",
       "   Na2O_Plag  K2O_Plag  Cr2O3_Plag  Sample_ID_Plag  \n",
       "0       6.11      0.49           0               0  \n",
       "1       5.66      0.47           0               1  \n",
       "2       6.27      0.40           0               2  "
      ]
     },
     "metadata": {},
     "output_type": "display_data"
    }
   ],
   "source": [
    "display(myLiquids.head())\n",
    "display(myPlags.head())"
   ]
  },
  {
   "cell_type": "code",
   "execution_count": 4,
   "metadata": {},
   "outputs": [
    {
     "data": {
      "text/plain": [
       "0    1351.470\n",
       "1    1365.138\n",
       "2    1372.776\n",
       "Name: MgO_Liq, dtype: float64"
      ]
     },
     "execution_count": 4,
     "metadata": {},
     "output_type": "execute_result"
    }
   ],
   "source": [
    "#_____________________________________________________________\n",
    "\n",
    "Temp_HT87=pt.calculate_liq_only_temp(liq_comps=myLiquids, \n",
    "         equationT=\"T_Helz1987_MgO\")\n",
    "Temp_HT87"
   ]
  },
  {
   "cell_type": "code",
   "execution_count": 6,
   "metadata": {},
   "outputs": [
    {
     "ename": "Exception",
     "evalue": "You've selected a P-dependent function, please pass an option for P (see help for more detail)",
     "output_type": "error",
     "traceback": [
      "\u001b[1;31m---------------------------------------------------------------------------\u001b[0m",
      "\u001b[1;31mException\u001b[0m                                 Traceback (most recent call last)",
      "\u001b[1;32m<ipython-input-6-7f68dc4287d2>\u001b[0m in \u001b[0;36m<module>\u001b[1;34m\u001b[0m\n\u001b[0;32m      2\u001b[0m \u001b[1;33m\u001b[0m\u001b[0m\n\u001b[0;32m      3\u001b[0m Temp_P2008_eq15=pt.calculate_Liq_Temp(Liq_Comps=myLiquids, \n\u001b[1;32m----> 4\u001b[1;33m          equation=\"T_Put2008_eq15\")\n\u001b[0m\u001b[0;32m      5\u001b[0m \u001b[0mTemp_HT87\u001b[0m\u001b[1;33m\u001b[0m\u001b[0m\n",
      "\u001b[1;32m~\\OneDrive - University of Cambridge\\Postdoc\\PYthonBarometers\\ClassicalThermometers_20210114T090546Z_001\\ClassicalThermometers\\PT_Thermobar_V1.py\u001b[0m in \u001b[0;36mcalculate_Liq_Temp\u001b[1;34m(Liq_Comps, equation, P, H2O_Liq)\u001b[0m\n\u001b[0;32m   2315\u001b[0m \u001b[1;33m\u001b[0m\u001b[0m\n\u001b[0;32m   2316\u001b[0m         \u001b[1;32mif\u001b[0m \u001b[0mP\u001b[0m \u001b[1;32mis\u001b[0m \u001b[1;32mNone\u001b[0m\u001b[1;33m:\u001b[0m\u001b[1;33m\u001b[0m\u001b[0m\n\u001b[1;32m-> 2317\u001b[1;33m             \u001b[1;32mraise\u001b[0m \u001b[0mException\u001b[0m\u001b[1;33m(\u001b[0m\u001b[1;34m\"You've selected a P-dependent function, please pass an option for P (see help for more detail)\"\u001b[0m \u001b[1;33m)\u001b[0m\u001b[1;33m\u001b[0m\u001b[0m\n\u001b[0m\u001b[0;32m   2318\u001b[0m \u001b[1;33m\u001b[0m\u001b[0m\n\u001b[0;32m   2319\u001b[0m         \u001b[1;32mif\u001b[0m \u001b[0mequation\u001b[0m\u001b[1;33m==\u001b[0m\u001b[1;34m\"T_Put2008_eq15\"\u001b[0m\u001b[1;33m:\u001b[0m\u001b[1;33m\u001b[0m\u001b[0m\n",
      "\u001b[1;31mException\u001b[0m: You've selected a P-dependent function, please pass an option for P (see help for more detail)"
     ]
    }
   ],
   "source": [
    "#____________________________________________________________\n",
    "\n",
    "Temp_P2008_eq15=pt.calculate_liq_only_temp(Liq_Comps=myLiquids, \n",
    "         equationT=\"T_Put2008_eq15\")"
   ]
  },
  {
   "cell_type": "code",
   "execution_count": 7,
   "metadata": {},
   "outputs": [],
   "source": [
    "#____________________________________________________________\n",
    "\n",
    "Temp_P2008_eq15=pt.calculate_liq_only_temp(liq_comps=myLiquids, \n",
    "         equationT=\"T_Put2008_eq15\", P=5)"
   ]
  },
  {
   "cell_type": "code",
   "execution_count": 14,
   "metadata": {},
   "outputs": [
    {
     "name": "stdout",
     "output_type": "stream",
     "text": [
      "Water content replaced with that from H2O_Liq\n"
     ]
    }
   ],
   "source": [
    "#____________________________________________________________\n",
    "\n",
    "Temp_P2008_eq15_6H=pt.calculate_liq_only_temp(liq_comps=myLiquids, \n",
    "         equationT=\"T_Put2008_eq15\", P=5, H2O_Liq=6)"
   ]
  },
  {
   "cell_type": "code",
   "execution_count": 9,
   "metadata": {},
   "outputs": [
    {
     "data": {
      "text/plain": [
       "pandas.core.series.Series"
      ]
     },
     "execution_count": 9,
     "metadata": {},
     "output_type": "execute_result"
    }
   ],
   "source": [
    "type(my_input['P_input'])"
   ]
  },
  {
   "cell_type": "code",
   "execution_count": 7,
   "metadata": {},
   "outputs": [],
   "source": [
    "#____________________________________________________________\n",
    "\n",
    "Temp_eq15_in=pt.calculate_liq_only_temp(liq_comps=myLiquids, \n",
    "         equationT=\"T_Put2008_eq15\", P=my_input['P_input'])"
   ]
  },
  {
   "cell_type": "code",
   "execution_count": 11,
   "metadata": {},
   "outputs": [
    {
     "data": {
      "text/plain": [
       "0    1384.166229\n",
       "1    1397.829622\n",
       "2    1406.673316\n",
       "dtype: float64"
      ]
     },
     "execution_count": 11,
     "metadata": {},
     "output_type": "execute_result"
    }
   ],
   "source": [
    "#____________________________________________________________\n",
    "\n",
    "Temp_P2008_eq15_par=pt.calculate_liq_only_temp(liq_comps=myLiquids, \n",
    "         equationT=\"T_Put2008_eq15\", P=\"Solve\")\n",
    "Temp_P2008_eq15_par(3)"
   ]
  },
  {
   "cell_type": "code",
   "execution_count": 20,
   "metadata": {},
   "outputs": [],
   "source": [
    "T_Liq_Peq15_inputP=pt.calculate_Liq_Temp(Liq_Comps=myLiquids, equation=\"T_Put2008_eq15\", P=my_input['P_input'])"
   ]
  },
  {
   "cell_type": "code",
   "execution_count": 23,
   "metadata": {},
   "outputs": [],
   "source": [
    "T_Liq_Peq15_inputP_2H2O=pt.calculate_Liq_Temp(Liq_Comps=myLiquids, equation=\"T_Put2008_eq15\",\n",
    "                                              P=my_input['P_input'], H2O_Liq=2)"
   ]
  },
  {
   "cell_type": "code",
   "execution_count": 22,
   "metadata": {},
   "outputs": [
    {
     "data": {
      "text/plain": [
       "0    1384.166229\n",
       "1    1399.787622\n",
       "2    1410.589316\n",
       "Name: T_K_calc, dtype: float64"
      ]
     },
     "execution_count": 22,
     "metadata": {},
     "output_type": "execute_result"
    }
   ],
   "source": [
    "T_Liq_Peq15_inputP"
   ]
  },
  {
   "cell_type": "code",
   "execution_count": 24,
   "metadata": {},
   "outputs": [
    {
     "data": {
      "text/plain": [
       "0    1358.506229\n",
       "1    1374.127622\n",
       "2    1384.929316\n",
       "Name: T_K_calc, dtype: float64"
      ]
     },
     "execution_count": 24,
     "metadata": {},
     "output_type": "execute_result"
    }
   ],
   "source": [
    "T_Liq_Peq15_inputP_2H2O"
   ]
  },
  {
   "cell_type": "code",
   "execution_count": 12,
   "metadata": {},
   "outputs": [],
   "source": [
    "#____________________________________________________________\n",
    "\n",
    "Liquid_T_out=myLiquids.copy()\n",
    "Liquid_T_out.insert(0, \"T HT87\", Temp_HT87)\n",
    "Liquid_T_out.insert(1, \"T Peq15\", Temp_P2008_eq15)\n",
    "Liquid_T_out.to_excel('FileName.xlsx')"
   ]
  },
  {
   "cell_type": "code",
   "execution_count": 35,
   "metadata": {},
   "outputs": [],
   "source": [
    "Liquid_T_out.to_excel('Liquid_only_Thermometry.xlsx')\n"
   ]
  },
  {
   "cell_type": "code",
   "execution_count": null,
   "metadata": {},
   "outputs": [],
   "source": [
    "#____________________________________________________________\n",
    "\n",
    "pt.calculate_amp_only_press(amp_comps=myAmps, \n",
    "   equationP=\"P_Mutch2016\")"
   ]
  },
  {
   "cell_type": "code",
   "execution_count": null,
   "metadata": {},
   "outputs": [],
   "source": [
    "#____________________________________________________________\n",
    "\n",
    "pt.calculate_cpx_only_press(cpx_comps=myCpxs, \n",
    "   equationP=\"P_Put2008_eq32b\", T=1400)"
   ]
  },
  {
   "cell_type": "code",
   "execution_count": null,
   "metadata": {},
   "outputs": [],
   "source": [
    "#____________________________________________________________\n",
    "\n",
    "pt.calculate_cpx_only_press_temp(cpx_comps=myCpxs, \n",
    "equationP=\"P_Put2008_eq32b\", equationT=\"T_Put2008_eq32d\")\n"
   ]
  },
  {
   "cell_type": "code",
   "execution_count": 3,
   "metadata": {},
   "outputs": [
    {
     "name": "stderr",
     "output_type": "stream",
     "text": [
      "C:\\Users\\penny\\anaconda3\\lib\\site-packages\\ipykernel\\ipkernel.py:283: DeprecationWarning: `should_run_async` will not call `transform_cell` automatically in the future. Please pass the result to `transformed_cell` argument and any exception that happen during thetransform in `preprocessing_exc_tuple` in IPython 7.17 and above.\n",
      "  and should_run_async(code)\n"
     ]
    },
    {
     "ename": "TypeError",
     "evalue": "calculate_eq_ol_content() got an unexpected keyword argument 'Liq_Comps'",
     "output_type": "error",
     "traceback": [
      "\u001b[1;31m---------------------------------------------------------------------------\u001b[0m",
      "\u001b[1;31mTypeError\u001b[0m                                 Traceback (most recent call last)",
      "\u001b[1;32m<ipython-input-3-14e8158e39d6>\u001b[0m in \u001b[0;36m<module>\u001b[1;34m\u001b[0m\n\u001b[0;32m      1\u001b[0m \u001b[1;31m#____________________________________________________________\u001b[0m\u001b[1;33m\u001b[0m\u001b[1;33m\u001b[0m\u001b[1;33m\u001b[0m\u001b[0m\n\u001b[0;32m      2\u001b[0m \u001b[1;33m\u001b[0m\u001b[0m\n\u001b[1;32m----> 3\u001b[1;33m Eq_ol_Roeder=pt.calculate_eq_ol_content(Liq_Comps=myLiquids, \n\u001b[0m\u001b[0;32m      4\u001b[0m              Kdmodel=\"Roeder1970\")\n",
      "\u001b[1;31mTypeError\u001b[0m: calculate_eq_ol_content() got an unexpected keyword argument 'Liq_Comps'"
     ]
    }
   ],
   "source": [
    "#____________________________________________________________\n",
    "\n",
    "Eq_ol_Roeder=pt.calculate_eq_ol_content(liq_comps=myLiquids, \n",
    "             Kd_model=\"Roeder1970\")\n"
   ]
  },
  {
   "cell_type": "code",
   "execution_count": 15,
   "metadata": {},
   "outputs": [
    {
     "ename": "NameError",
     "evalue": "name 'mySps' is not defined",
     "output_type": "error",
     "traceback": [
      "\u001b[1;31m---------------------------------------------------------------------------\u001b[0m",
      "\u001b[1;31mNameError\u001b[0m                                 Traceback (most recent call last)",
      "\u001b[1;32m<ipython-input-15-ff94615eb1ad>\u001b[0m in \u001b[0;36m<module>\u001b[1;34m\u001b[0m\n\u001b[0;32m      1\u001b[0m \u001b[1;31m#____________________________________________________________\u001b[0m\u001b[1;33m\u001b[0m\u001b[1;33m\u001b[0m\u001b[1;33m\u001b[0m\u001b[0m\n\u001b[0;32m      2\u001b[0m pt.calculate_ol_sp_temp(liq_comps=myLiquids,\n\u001b[1;32m----> 3\u001b[1;33m                        sp_comps=mySps, equationT=\"T_Wan2008\")\n\u001b[0m",
      "\u001b[1;31mNameError\u001b[0m: name 'mySps' is not defined"
     ]
    }
   ],
   "source": [
    "#____________________________________________________________\n",
    "\n",
    "pt.calculate_ol_sp_temp(liq_comps=myLiquids,\n",
    "                       sp_comps=mySps, equationT=\"T_Wan2008\")"
   ]
  },
  {
   "cell_type": "code",
   "execution_count": 3,
   "metadata": {},
   "outputs": [
    {
     "name": "stderr",
     "output_type": "stream",
     "text": [
      "C:\\Users\\penny\\anaconda3\\lib\\site-packages\\ipykernel\\ipkernel.py:283: DeprecationWarning: `should_run_async` will not call `transform_cell` automatically in the future. Please pass the result to `transformed_cell` argument and any exception that happen during thetransform in `preprocessing_exc_tuple` in IPython 7.17 and above.\n",
      "  and should_run_async(code)\n"
     ]
    },
    {
     "data": {
      "text/html": [
       "<div>\n",
       "<style scoped>\n",
       "    .dataframe tbody tr th:only-of-type {\n",
       "        vertical-align: middle;\n",
       "    }\n",
       "\n",
       "    .dataframe tbody tr th {\n",
       "        vertical-align: top;\n",
       "    }\n",
       "\n",
       "    .dataframe thead th {\n",
       "        text-align: right;\n",
       "    }\n",
       "</style>\n",
       "<table border=\"1\" class=\"dataframe\">\n",
       "  <thead>\n",
       "    <tr style=\"text-align: right;\">\n",
       "      <th></th>\n",
       "      <th>Eq Fo (Roeder, Kd=0.3)</th>\n",
       "      <th>Eq Fo (Roeder, Kd=0.33)</th>\n",
       "      <th>Eq Fo (Roeder, Kd=0.27)</th>\n",
       "    </tr>\n",
       "  </thead>\n",
       "  <tbody>\n",
       "    <tr>\n",
       "      <th>0</th>\n",
       "      <td>0.616254</td>\n",
       "      <td>0.593479</td>\n",
       "      <td>0.640846</td>\n",
       "    </tr>\n",
       "    <tr>\n",
       "      <th>1</th>\n",
       "      <td>0.677781</td>\n",
       "      <td>0.656623</td>\n",
       "      <td>0.700347</td>\n",
       "    </tr>\n",
       "    <tr>\n",
       "      <th>2</th>\n",
       "      <td>0.708781</td>\n",
       "      <td>0.688724</td>\n",
       "      <td>0.730041</td>\n",
       "    </tr>\n",
       "  </tbody>\n",
       "</table>\n",
       "</div>"
      ],
      "text/plain": [
       "   Eq Fo (Roeder, Kd=0.3)  Eq Fo (Roeder, Kd=0.33)  Eq Fo (Roeder, Kd=0.27)\n",
       "0                0.616254                 0.593479                 0.640846\n",
       "1                0.677781                 0.656623                 0.700347\n",
       "2                0.708781                 0.688724                 0.730041"
      ]
     },
     "execution_count": 3,
     "metadata": {},
     "output_type": "execute_result"
    }
   ],
   "source": [
    "#____________________________________________________________\n",
    "\n",
    "pt.calculate_eq_ol_content(liq_comps=myLiquids, \n",
    "             Kd_model=\"Roeder1970\", Fe3FeT_Liq=0.2)\n"
   ]
  },
  {
   "cell_type": "code",
   "execution_count": 7,
   "metadata": {},
   "outputs": [
    {
     "data": {
      "text/html": [
       "<div>\n",
       "<style scoped>\n",
       "    .dataframe tbody tr th:only-of-type {\n",
       "        vertical-align: middle;\n",
       "    }\n",
       "\n",
       "    .dataframe tbody tr th {\n",
       "        vertical-align: top;\n",
       "    }\n",
       "\n",
       "    .dataframe thead th {\n",
       "        text-align: right;\n",
       "    }\n",
       "</style>\n",
       "<table border=\"1\" class=\"dataframe\">\n",
       "  <thead>\n",
       "    <tr style=\"text-align: right;\">\n",
       "      <th></th>\n",
       "      <th>Kd (Toplis, input Fo)</th>\n",
       "      <th>Eq Fo (Toplis, input Fo)</th>\n",
       "    </tr>\n",
       "  </thead>\n",
       "  <tbody>\n",
       "    <tr>\n",
       "      <th>0</th>\n",
       "      <td>0.282841</td>\n",
       "      <td>0.630083</td>\n",
       "    </tr>\n",
       "    <tr>\n",
       "      <th>1</th>\n",
       "      <td>0.283575</td>\n",
       "      <td>0.689952</td>\n",
       "    </tr>\n",
       "    <tr>\n",
       "      <th>2</th>\n",
       "      <td>0.282999</td>\n",
       "      <td>0.720675</td>\n",
       "    </tr>\n",
       "  </tbody>\n",
       "</table>\n",
       "</div>"
      ],
      "text/plain": [
       "   Kd (Toplis, input Fo)  Eq Fo (Toplis, input Fo)\n",
       "0               0.282841                  0.630083\n",
       "1               0.283575                  0.689952\n",
       "2               0.282999                  0.720675"
      ]
     },
     "execution_count": 7,
     "metadata": {},
     "output_type": "execute_result"
    }
   ],
   "source": [
    "#____________________________________________________________\n",
    "\n",
    "pt.calculate_eq_ol_content(liq_comps=myLiquids,\n",
    "             Kd_model=\"Toplis2005\", P=2, T=1373.1, ol_fo=0.82)\n"
   ]
  },
  {
   "cell_type": "code",
   "execution_count": 9,
   "metadata": {},
   "outputs": [
    {
     "data": {
      "text/html": [
       "<div>\n",
       "<style scoped>\n",
       "    .dataframe tbody tr th:only-of-type {\n",
       "        vertical-align: middle;\n",
       "    }\n",
       "\n",
       "    .dataframe tbody tr th {\n",
       "        vertical-align: top;\n",
       "    }\n",
       "\n",
       "    .dataframe thead th {\n",
       "        text-align: right;\n",
       "    }\n",
       "</style>\n",
       "<table border=\"1\" class=\"dataframe\">\n",
       "  <thead>\n",
       "    <tr style=\"text-align: right;\">\n",
       "      <th></th>\n",
       "      <th>Kd (Toplis, Iter)</th>\n",
       "      <th>Eq Fo (Toplis, Iter)</th>\n",
       "    </tr>\n",
       "  </thead>\n",
       "  <tbody>\n",
       "    <tr>\n",
       "      <th>0</th>\n",
       "      <td>0.316984</td>\n",
       "      <td>0.603150</td>\n",
       "    </tr>\n",
       "    <tr>\n",
       "      <th>1</th>\n",
       "      <td>0.306317</td>\n",
       "      <td>0.673213</td>\n",
       "    </tr>\n",
       "    <tr>\n",
       "      <th>2</th>\n",
       "      <td>0.300038</td>\n",
       "      <td>0.708755</td>\n",
       "    </tr>\n",
       "  </tbody>\n",
       "</table>\n",
       "</div>"
      ],
      "text/plain": [
       "   Kd (Toplis, Iter)  Eq Fo (Toplis, Iter)\n",
       "0           0.316984              0.603150\n",
       "1           0.306317              0.673213\n",
       "2           0.300038              0.708755"
      ]
     },
     "execution_count": 9,
     "metadata": {},
     "output_type": "execute_result"
    }
   ],
   "source": [
    "#____________________________________________________________\n",
    "\n",
    "pt.calculate_eq_ol_content(liq_comps=myLiquids,\n",
    "             Kd_model=\"Toplis2005\", P=2, T=1373.1)\n"
   ]
  },
  {
   "cell_type": "code",
   "execution_count": null,
   "metadata": {},
   "outputs": [],
   "source": [
    "#____________________________________________________________\n",
    "pt.calculate_Opx_Liq_PT_melt_matching(Liq_Comps=myLiquids1,\n",
    "            Opx_Comps=MyOpxs, KdMatch=0.29, KdErr=0.07)"
   ]
  },
  {
   "cell_type": "markdown",
   "metadata": {},
   "source": [
    "# Step 6 - Histograms of calculated pressures for 2 input pairs"
   ]
  },
  {
   "cell_type": "code",
   "execution_count": 20,
   "metadata": {},
   "outputs": [
    {
     "ename": "NameError",
     "evalue": "name 'myOls1' is not defined",
     "output_type": "error",
     "traceback": [
      "\u001b[1;31m---------------------------------------------------------------------------\u001b[0m",
      "\u001b[1;31mNameError\u001b[0m                                 Traceback (most recent call last)",
      "\u001b[1;32m<ipython-input-20-baf15c86b9ef>\u001b[0m in \u001b[0;36m<module>\u001b[1;34m\u001b[0m\n\u001b[0;32m      1\u001b[0m Eq_ol_Roeder=pt.calculate_eq_ol_content(Liq_Comps=myLiquids, \n\u001b[1;32m----> 2\u001b[1;33m                                     \u001b[0mOl_Comps\u001b[0m\u001b[1;33m=\u001b[0m\u001b[0mmyOls1\u001b[0m\u001b[1;33m,\u001b[0m\u001b[1;33m\u001b[0m\u001b[0m\n\u001b[0m\u001b[0;32m      3\u001b[0m equation=\"T_Put2008_Eq21\", P=5)\n",
      "\u001b[1;31mNameError\u001b[0m: name 'myOls1' is not defined"
     ]
    }
   ],
   "source": [
    "Eq_ol_Roeder=pt.calculate_eq_ol_content(Liq_Comps=myLiquids, \n",
    "equation=\"T_Put2008_Eq21\", P=5)"
   ]
  },
  {
   "cell_type": "code",
   "execution_count": 10,
   "metadata": {},
   "outputs": [
    {
     "name": "stderr",
     "output_type": "stream",
     "text": [
      "C:\\Users\\penny\\anaconda3\\lib\\site-packages\\ipykernel\\ipkernel.py:283: DeprecationWarning: `should_run_async` will not call `transform_cell` automatically in the future. Please pass the result to `transformed_cell` argument and any exception that happen during thetransform in `preprocessing_exc_tuple` in IPython 7.17 and above.\n",
      "  and should_run_async(code)\n"
     ]
    },
    {
     "ename": "NameError",
     "evalue": "name 'myLiquids1' is not defined",
     "output_type": "error",
     "traceback": [
      "\u001b[1;31m---------------------------------------------------------------------------\u001b[0m",
      "\u001b[1;31mNameError\u001b[0m                                 Traceback (most recent call last)",
      "\u001b[1;32m<ipython-input-10-fc3bcf2b50cf>\u001b[0m in \u001b[0;36m<module>\u001b[1;34m\u001b[0m\n\u001b[0;32m      1\u001b[0m \u001b[1;31m#____________________________________________________________\u001b[0m\u001b[1;33m\u001b[0m\u001b[1;33m\u001b[0m\u001b[1;33m\u001b[0m\u001b[0m\n\u001b[0;32m      2\u001b[0m \u001b[1;33m\u001b[0m\u001b[0m\n\u001b[1;32m----> 3\u001b[1;33m pt.calculate_ol_liq_temp(liq_comps=myLiquids1, ol_comps=myOls1,\n\u001b[0m\u001b[0;32m      4\u001b[0m equationT=\"T_Put2008_Eq21\", P=5)\n",
      "\u001b[1;31mNameError\u001b[0m: name 'myLiquids1' is not defined"
     ]
    }
   ],
   "source": [
    "#____________________________________________________________\n",
    "\n",
    "pt.calculate_ol_liq_temp(liq_comps=myLiquids1, ol_comps=myOls1,\n",
    "equationT=\"T_Put2008_Eq21\", P=5)\n"
   ]
  },
  {
   "cell_type": "code",
   "execution_count": null,
   "metadata": {},
   "outputs": [],
   "source": [
    "## Clinopyroxene - Liquid thermometry"
   ]
  },
  {
   "cell_type": "code",
   "execution_count": null,
   "metadata": {},
   "outputs": [],
   "source": [
    "#____________________________________________________________\n",
    "\n",
    "pt.calculate_cpx_liq_temp(liq_comps=myLiquids1, \n",
    "cpx_comps=myCpxs1, equationT=\"T_Put2008_eq33\", P=5) \n"
   ]
  },
  {
   "cell_type": "code",
   "execution_count": null,
   "metadata": {},
   "outputs": [],
   "source": [
    "#____________________________________________________________\n",
    "\n",
    "pt.calculate_Cpx_Liq_PT_Iter(Liq_Comps=myLiquids1, \n",
    "Cpx_Comps=myCpxs1, equationT=\"T_Put2008_Eq33\", \n",
    "equationP=\"P_Put2003\")\n"
   ]
  },
  {
   "cell_type": "code",
   "execution_count": 1,
   "metadata": {},
   "outputs": [
    {
     "ename": "NameError",
     "evalue": "name 'pt' is not defined",
     "output_type": "error",
     "traceback": [
      "\u001b[1;31m---------------------------------------------------------------------------\u001b[0m",
      "\u001b[1;31mNameError\u001b[0m                                 Traceback (most recent call last)",
      "\u001b[1;32m<ipython-input-1-0fa997adde71>\u001b[0m in \u001b[0;36m<module>\u001b[1;34m\u001b[0m\n\u001b[0;32m      1\u001b[0m \u001b[1;31m#____________________________________________________________\u001b[0m\u001b[1;33m\u001b[0m\u001b[1;33m\u001b[0m\u001b[1;33m\u001b[0m\u001b[0m\n\u001b[0;32m      2\u001b[0m \u001b[1;33m\u001b[0m\u001b[0m\n\u001b[1;32m----> 3\u001b[1;33m calc=pt.calculate_fspar_liq_hygr(liq_comps=myLiquids1, \n\u001b[0m\u001b[0;32m      4\u001b[0m plag_comps=myPlags1, equationH=\"H_Waters2015\", T=1300, P=5)\n",
      "\u001b[1;31mNameError\u001b[0m: name 'pt' is not defined"
     ]
    }
   ],
   "source": [
    "#____________________________________________________________\n",
    "\n",
    "calc=pt.calculate_fspar_liq_hygr(liq_comps=myLiquids1, \n",
    "plag_comps=myPlags1, equationH=\"H_Waters2015\", T=1300, P=5)\n"
   ]
  },
  {
   "cell_type": "code",
   "execution_count": null,
   "metadata": {},
   "outputs": [],
   "source": [
    "#____________________________________________________________\n",
    "\n",
    "pt.calculate_fspar_liq_hygr(liq_comps=Liqs_PL, XAn=0.5, XAb=0.4, \n",
    "    equationH=\"H_Waters2015\", T=1300, P=5)\n",
    "\n"
   ]
  },
  {
   "cell_type": "code",
   "execution_count": null,
   "metadata": {},
   "outputs": [],
   "source": []
  },
  {
   "cell_type": "code",
   "execution_count": null,
   "metadata": {},
   "outputs": [],
   "source": []
  }
 ],
 "metadata": {
  "kernelspec": {
   "display_name": "Python 3",
   "language": "python",
   "name": "python3"
  },
  "language_info": {
   "codemirror_mode": {
    "name": "ipython",
    "version": 3
   },
   "file_extension": ".py",
   "mimetype": "text/x-python",
   "name": "python",
   "nbconvert_exporter": "python",
   "pygments_lexer": "ipython3",
   "version": "3.8.5"
  }
 },
 "nbformat": 4,
 "nbformat_minor": 4
}
