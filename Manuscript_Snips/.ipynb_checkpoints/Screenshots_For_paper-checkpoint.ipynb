{
 "cells": [
  {
   "cell_type": "markdown",
   "metadata": {},
   "source": [
    "# Step 2 - Import required python packages and Thermobar"
   ]
  },
  {
   "cell_type": "code",
   "execution_count": 2,
   "metadata": {},
   "outputs": [
    {
     "ename": "ModuleNotFoundError",
     "evalue": "No module named 'Thermobar'",
     "output_type": "error",
     "traceback": [
      "\u001b[1;31m---------------------------------------------------------------------------\u001b[0m",
      "\u001b[1;31mModuleNotFoundError\u001b[0m                       Traceback (most recent call last)",
      "\u001b[1;32m<ipython-input-2-348256d66e9b>\u001b[0m in \u001b[0;36m<module>\u001b[1;34m\u001b[0m\n\u001b[0;32m      4\u001b[0m \u001b[1;32mimport\u001b[0m \u001b[0msys\u001b[0m\u001b[1;33m\u001b[0m\u001b[1;33m\u001b[0m\u001b[0m\n\u001b[0;32m      5\u001b[0m \u001b[0msys\u001b[0m\u001b[1;33m.\u001b[0m\u001b[0mpath\u001b[0m\u001b[1;33m.\u001b[0m\u001b[0mappend\u001b[0m\u001b[1;33m(\u001b[0m\u001b[1;34m\"../..\"\u001b[0m\u001b[1;33m)\u001b[0m\u001b[1;33m\u001b[0m\u001b[1;33m\u001b[0m\u001b[0m\n\u001b[1;32m----> 6\u001b[1;33m \u001b[1;32mimport\u001b[0m \u001b[0mThermobar\u001b[0m \u001b[1;32mas\u001b[0m \u001b[0mpt\u001b[0m\u001b[1;33m\u001b[0m\u001b[1;33m\u001b[0m\u001b[0m\n\u001b[0m",
      "\u001b[1;31mModuleNotFoundError\u001b[0m: No module named 'Thermobar'"
     ]
    }
   ],
   "source": [
    "import numpy as np\n",
    "import pandas as pd\n",
    "import matplotlib.pyplot as plt\n",
    "import sys\n",
    "sys.path.append(\"../..\")\n",
    "import Thermobar as pt"
   ]
  },
  {
   "cell_type": "markdown",
   "metadata": {},
   "source": [
    "# Step 3 - Import data from a specific Excel Sheet"
   ]
  },
  {
   "cell_type": "code",
   "execution_count": null,
   "metadata": {},
   "outputs": [],
   "source": [
    "out=pt.import_excel('Example_Excel_input.xlsx', \n",
    "                    sheet_name=\"Sheet1\")\n",
    "\n",
    "my_input=out['my_input']\n",
    "\n",
    "myLiquids=out['Liqs']\n",
    "\n",
    "myPlags=out['Plags']\n",
    "\n",
    "myOls=out['Ols']"
   ]
  },
  {
   "cell_type": "markdown",
   "metadata": {},
   "source": [
    "# Step 4 - Inspect the data to ensure it read correctly"
   ]
  },
  {
   "cell_type": "code",
   "execution_count": 1,
   "metadata": {},
   "outputs": [
    {
     "ename": "NameError",
     "evalue": "name 'myLiquids' is not defined",
     "output_type": "error",
     "traceback": [
      "\u001b[1;31m---------------------------------------------------------------------------\u001b[0m",
      "\u001b[1;31mNameError\u001b[0m                                 Traceback (most recent call last)",
      "\u001b[1;32m<ipython-input-1-cbc63055ebf1>\u001b[0m in \u001b[0;36m<module>\u001b[1;34m\u001b[0m\n\u001b[1;32m----> 1\u001b[1;33m \u001b[0mmyLiquids\u001b[0m\u001b[1;33m.\u001b[0m\u001b[0mhead\u001b[0m\u001b[1;33m(\u001b[0m\u001b[1;33m)\u001b[0m\u001b[1;33m\u001b[0m\u001b[1;33m\u001b[0m\u001b[0m\n\u001b[0m\u001b[0;32m      2\u001b[0m \u001b[0mmyPlags\u001b[0m\u001b[1;33m.\u001b[0m\u001b[0mhead\u001b[0m\u001b[1;33m(\u001b[0m\u001b[1;33m)\u001b[0m\u001b[1;33m\u001b[0m\u001b[1;33m\u001b[0m\u001b[0m\n",
      "\u001b[1;31mNameError\u001b[0m: name 'myLiquids' is not defined"
     ]
    }
   ],
   "source": [
    "myLiquids.head()\n",
    "myPlags.head()"
   ]
  },
  {
   "cell_type": "code",
   "execution_count": 5,
   "metadata": {},
   "outputs": [
    {
     "data": {
      "text/plain": [
       "0    1351.470\n",
       "1    1365.138\n",
       "2    1372.776\n",
       "Name: MgO_Liq, dtype: float64"
      ]
     },
     "execution_count": 5,
     "metadata": {},
     "output_type": "execute_result"
    }
   ],
   "source": [
    "#_____________________________________________________________\n",
    "\n",
    "Temp_HT87=pt.calculate_Liq_Temp(Liq_Comps=myLiquids, \n",
    "         equation=\"T_Helz1987_MgO\")\n",
    "Temp_HT87"
   ]
  },
  {
   "cell_type": "code",
   "execution_count": 6,
   "metadata": {},
   "outputs": [
    {
     "ename": "Exception",
     "evalue": "You've selected a P-dependent function, please pass an option for P (see help for more detail)",
     "output_type": "error",
     "traceback": [
      "\u001b[1;31m---------------------------------------------------------------------------\u001b[0m",
      "\u001b[1;31mException\u001b[0m                                 Traceback (most recent call last)",
      "\u001b[1;32m<ipython-input-6-7f68dc4287d2>\u001b[0m in \u001b[0;36m<module>\u001b[1;34m\u001b[0m\n\u001b[0;32m      2\u001b[0m \u001b[1;33m\u001b[0m\u001b[0m\n\u001b[0;32m      3\u001b[0m Temp_P2008_eq15=pt.calculate_Liq_Temp(Liq_Comps=myLiquids, \n\u001b[1;32m----> 4\u001b[1;33m          equation=\"T_Put2008_eq15\")\n\u001b[0m\u001b[0;32m      5\u001b[0m \u001b[0mTemp_HT87\u001b[0m\u001b[1;33m\u001b[0m\u001b[0m\n",
      "\u001b[1;32m~\\OneDrive - University of Cambridge\\Postdoc\\PYthonBarometers\\ClassicalThermometers_20210114T090546Z_001\\ClassicalThermometers\\PT_Thermobar_V1.py\u001b[0m in \u001b[0;36mcalculate_Liq_Temp\u001b[1;34m(Liq_Comps, equation, P, H2O_Liq)\u001b[0m\n\u001b[0;32m   2315\u001b[0m \u001b[1;33m\u001b[0m\u001b[0m\n\u001b[0;32m   2316\u001b[0m         \u001b[1;32mif\u001b[0m \u001b[0mP\u001b[0m \u001b[1;32mis\u001b[0m \u001b[1;32mNone\u001b[0m\u001b[1;33m:\u001b[0m\u001b[1;33m\u001b[0m\u001b[0m\n\u001b[1;32m-> 2317\u001b[1;33m             \u001b[1;32mraise\u001b[0m \u001b[0mException\u001b[0m\u001b[1;33m(\u001b[0m\u001b[1;34m\"You've selected a P-dependent function, please pass an option for P (see help for more detail)\"\u001b[0m \u001b[1;33m)\u001b[0m\u001b[1;33m\u001b[0m\u001b[0m\n\u001b[0m\u001b[0;32m   2318\u001b[0m \u001b[1;33m\u001b[0m\u001b[0m\n\u001b[0;32m   2319\u001b[0m         \u001b[1;32mif\u001b[0m \u001b[0mequation\u001b[0m\u001b[1;33m==\u001b[0m\u001b[1;34m\"T_Put2008_eq15\"\u001b[0m\u001b[1;33m:\u001b[0m\u001b[1;33m\u001b[0m\u001b[0m\n",
      "\u001b[1;31mException\u001b[0m: You've selected a P-dependent function, please pass an option for P (see help for more detail)"
     ]
    }
   ],
   "source": [
    "#____________________________________________________________\n",
    "\n",
    "Temp_P2008_eq15=pt.calculate_Liq_Temp(Liq_Comps=myLiquids, \n",
    "         equation=\"T_Put2008_eq15\")"
   ]
  },
  {
   "cell_type": "code",
   "execution_count": 7,
   "metadata": {},
   "outputs": [],
   "source": [
    "#____________________________________________________________\n",
    "\n",
    "Temp_P2008_eq15=pt.calculate_Liq_Temp(Liq_Comps=myLiquids, \n",
    "         equation=\"T_Put2008_eq15\", P=5)"
   ]
  },
  {
   "cell_type": "code",
   "execution_count": 8,
   "metadata": {},
   "outputs": [],
   "source": [
    "#____________________________________________________________\n",
    "\n",
    "Temp_P2008_eq15_6H=pt.calculate_Liq_Temp(Liq_Comps=myLiquids, \n",
    "         equation=\"T_Put2008_eq15\", P=5, H2O_Liq=6)"
   ]
  },
  {
   "cell_type": "code",
   "execution_count": 9,
   "metadata": {},
   "outputs": [
    {
     "data": {
      "text/plain": [
       "pandas.core.series.Series"
      ]
     },
     "execution_count": 9,
     "metadata": {},
     "output_type": "execute_result"
    }
   ],
   "source": [
    "type(my_input['P_input'])"
   ]
  },
  {
   "cell_type": "code",
   "execution_count": 10,
   "metadata": {},
   "outputs": [],
   "source": [
    "#____________________________________________________________\n",
    "\n",
    "Temp_P2008_eq15=pt.calculate_Liq_Temp(Liq_Comps=myLiquids, \n",
    "         equation=\"T_Put2008_eq15\", P=my_input['P_input'])"
   ]
  },
  {
   "cell_type": "code",
   "execution_count": 13,
   "metadata": {},
   "outputs": [
    {
     "data": {
      "text/plain": [
       "0    1307.186229\n",
       "1    1320.849622\n",
       "2    1329.693316\n",
       "dtype: float64"
      ]
     },
     "execution_count": 13,
     "metadata": {},
     "output_type": "execute_result"
    }
   ],
   "source": [
    "#____________________________________________________________\n",
    "\n",
    "Temp_P2008_eq15_par=pt.calculate_Liq_Temp(Liq_Comps=myLiquids, \n",
    "         equation=\"T_Put2008_eq15\", P=\"Solve\")\n",
    "Temp_P2008_eq15_par(3)"
   ]
  },
  {
   "cell_type": "code",
   "execution_count": 20,
   "metadata": {},
   "outputs": [],
   "source": [
    "T_Liq_Peq15_inputP=pt.calculate_Liq_Temp(Liq_Comps=myLiquids, equation=\"T_Put2008_eq15\", P=my_input['P_input'])"
   ]
  },
  {
   "cell_type": "code",
   "execution_count": 23,
   "metadata": {},
   "outputs": [],
   "source": [
    "T_Liq_Peq15_inputP_2H2O=pt.calculate_Liq_Temp(Liq_Comps=myLiquids, equation=\"T_Put2008_eq15\",\n",
    "                                              P=my_input['P_input'], H2O_Liq=2)"
   ]
  },
  {
   "cell_type": "code",
   "execution_count": 22,
   "metadata": {},
   "outputs": [
    {
     "data": {
      "text/plain": [
       "0    1384.166229\n",
       "1    1399.787622\n",
       "2    1410.589316\n",
       "Name: T_K_calc, dtype: float64"
      ]
     },
     "execution_count": 22,
     "metadata": {},
     "output_type": "execute_result"
    }
   ],
   "source": [
    "T_Liq_Peq15_inputP"
   ]
  },
  {
   "cell_type": "code",
   "execution_count": 24,
   "metadata": {},
   "outputs": [
    {
     "data": {
      "text/plain": [
       "0    1358.506229\n",
       "1    1374.127622\n",
       "2    1384.929316\n",
       "Name: T_K_calc, dtype: float64"
      ]
     },
     "execution_count": 24,
     "metadata": {},
     "output_type": "execute_result"
    }
   ],
   "source": [
    "T_Liq_Peq15_inputP_2H2O"
   ]
  },
  {
   "cell_type": "code",
   "execution_count": 20,
   "metadata": {},
   "outputs": [],
   "source": [
    "#____________________________________________________________\n",
    "\n",
    "Liquid_T_out=myLiquids.copy()\n",
    "Liquid_T_out.insert(0, \"T HT87\", Temp_HT87)\n",
    "Liquid_T_out.insert(1, \"T Peq15\", Temp_P2008_eq15)\n",
    "Liquid_T_out.to_excel('FileName.xlsx')"
   ]
  },
  {
   "cell_type": "code",
   "execution_count": 35,
   "metadata": {},
   "outputs": [],
   "source": [
    "Liquid_T_out.to_excel('Liquid_only_Thermometry.xlsx')\n"
   ]
  },
  {
   "cell_type": "code",
   "execution_count": null,
   "metadata": {},
   "outputs": [],
   "source": [
    "#____________________________________________________________\n",
    "\n",
    "pt.calculate_Amp_only_Press(Amp_Comps=myAmps, \n",
    "   equationP=\"P_Mutch2016\")"
   ]
  },
  {
   "cell_type": "code",
   "execution_count": null,
   "metadata": {},
   "outputs": [],
   "source": [
    "#____________________________________________________________\n",
    "\n",
    "pt.calculate_Cpx_only_Press(Cpx_Comps=myCpxs, \n",
    "   equationP=\"P_Put2008_eq32b\", T=1400)"
   ]
  },
  {
   "cell_type": "code",
   "execution_count": 1,
   "metadata": {},
   "outputs": [
    {
     "ename": "NameError",
     "evalue": "name 'pt' is not defined",
     "output_type": "error",
     "traceback": [
      "\u001b[1;31m---------------------------------------------------------------------------\u001b[0m",
      "\u001b[1;31mNameError\u001b[0m                                 Traceback (most recent call last)",
      "\u001b[1;32m<ipython-input-1-e27b8d24ce13>\u001b[0m in \u001b[0;36m<module>\u001b[1;34m\u001b[0m\n\u001b[1;32m----> 1\u001b[1;33m Eq_ol_Roeder=pt.calculate_Ol_Sp_Temp(Ol_Comps=myOls, \n\u001b[0m\u001b[0;32m      2\u001b[0m              Kdmodel=\"Roeder1970\")\n",
      "\u001b[1;31mNameError\u001b[0m: name 'pt' is not defined"
     ]
    }
   ],
   "source": [
    "#____________________________________________________________\n",
    "\n",
    "Eq_ol_Roeder=pt.calculate_eq_ol_content(Liq_Comps=myLiquids, \n",
    "             Kdmodel=\"Roeder1970\")"
   ]
  },
  {
   "cell_type": "code",
   "execution_count": null,
   "metadata": {},
   "outputs": [],
   "source": [
    "#____________________________________________________________\n",
    "\n",
    "pt.calculate_eq_ol_content(Liq_Comps=myLiquids, \n",
    "             Kdmodel=\"Roeder1970\", Fe3FeT_Liq=0.2)"
   ]
  },
  {
   "cell_type": "code",
   "execution_count": null,
   "metadata": {},
   "outputs": [],
   "source": [
    "#____________________________________________________________\n",
    "\n",
    "pt.calculate_eq_ol_content(Liq_Comps=myLiquids,\n",
    "             Kdmodel=\"Toplis2005\", P=2, T=1373.1, Ol_Fo=0.82)"
   ]
  },
  {
   "cell_type": "code",
   "execution_count": null,
   "metadata": {},
   "outputs": [],
   "source": [
    "#____________________________________________________________\n",
    "\n",
    "pt.calculate_eq_ol_content(Liq_Comps=myLiquids,\n",
    "             Kdmodel=\"Toplis2005\", P=2, T=1373.1)"
   ]
  },
  {
   "cell_type": "code",
   "execution_count": null,
   "metadata": {},
   "outputs": [],
   "source": [
    "#____________________________________________________________\n",
    "pt.calculate_Opx_Liq_PT_melt_matching(Liq_Comps=myLiquids1,\n",
    "            Opx_Comps=MyOpxs, KdMatch=0.29, KdErr=0.07)"
   ]
  },
  {
   "cell_type": "code",
   "execution_count": 20,
   "metadata": {},
   "outputs": [
    {
     "ename": "NameError",
     "evalue": "name 'myOls1' is not defined",
     "output_type": "error",
     "traceback": [
      "\u001b[1;31m---------------------------------------------------------------------------\u001b[0m",
      "\u001b[1;31mNameError\u001b[0m                                 Traceback (most recent call last)",
      "\u001b[1;32m<ipython-input-20-baf15c86b9ef>\u001b[0m in \u001b[0;36m<module>\u001b[1;34m\u001b[0m\n\u001b[0;32m      1\u001b[0m Eq_ol_Roeder=pt.calculate_eq_ol_content(Liq_Comps=myLiquids, \n\u001b[1;32m----> 2\u001b[1;33m                                     \u001b[0mOl_Comps\u001b[0m\u001b[1;33m=\u001b[0m\u001b[0mmyOls1\u001b[0m\u001b[1;33m,\u001b[0m\u001b[1;33m\u001b[0m\u001b[0m\n\u001b[0m\u001b[0;32m      3\u001b[0m equation=\"T_Put2008_Eq21\", P=5)\n",
      "\u001b[1;31mNameError\u001b[0m: name 'myOls1' is not defined"
     ]
    }
   ],
   "source": [
    "Eq_ol_Roeder=pt.calculate_eq_ol_content(Liq_Comps=myLiquids, \n",
    "equation=\"T_Put2008_Eq21\", P=5)"
   ]
  },
  {
   "cell_type": "code",
   "execution_count": null,
   "metadata": {},
   "outputs": [],
   "source": [
    "#____________________________________________________________\n",
    "\n",
    "pt.calculate_Ol_Liq_Temp(Liq_Comps=myLiquids1, Ol_Comps=myOls1,\n",
    "equation=\"T_Put2008_Eq21\", P=5)\n"
   ]
  },
  {
   "cell_type": "code",
   "execution_count": null,
   "metadata": {},
   "outputs": [],
   "source": [
    "## Clinopyroxene - Liquid thermometry"
   ]
  },
  {
   "cell_type": "code",
   "execution_count": null,
   "metadata": {},
   "outputs": [],
   "source": [
    "#____________________________________________________________\n",
    "\n",
    "pt.calculate_Cpx_Liq_Temp(Liq_Comps=myLiquids1, \n",
    "Cpx_Comps=myCpxs1, equationT=\"T_Put2008_Eq33\", P=5) \n"
   ]
  },
  {
   "cell_type": "code",
   "execution_count": null,
   "metadata": {},
   "outputs": [],
   "source": [
    "#____________________________________________________________\n",
    "\n",
    "pt.calculate_Cpx_Liq_PT_Iter(Liq_Comps=myLiquids1, \n",
    "Cpx_Comps=myCpxs1, equationT=\"T_Put2008_Eq33\", \n",
    "equationP=\"P_Put2003\")\n"
   ]
  },
  {
   "cell_type": "code",
   "execution_count": null,
   "metadata": {},
   "outputs": [],
   "source": []
  },
  {
   "cell_type": "code",
   "execution_count": null,
   "metadata": {},
   "outputs": [],
   "source": []
  },
  {
   "cell_type": "code",
   "execution_count": null,
   "metadata": {},
   "outputs": [],
   "source": []
  },
  {
   "cell_type": "code",
   "execution_count": null,
   "metadata": {},
   "outputs": [],
   "source": []
  }
 ],
 "metadata": {
  "kernelspec": {
   "display_name": "Python 3",
   "language": "python",
   "name": "python3"
  },
  "language_info": {
   "codemirror_mode": {
    "name": "ipython",
    "version": 3
   },
   "file_extension": ".py",
   "mimetype": "text/x-python",
   "name": "python",
   "nbconvert_exporter": "python",
   "pygments_lexer": "ipython3",
   "version": "3.8.5"
  }
 },
 "nbformat": 4,
 "nbformat_minor": 4
}
