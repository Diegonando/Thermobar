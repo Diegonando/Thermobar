{
 "cells": [
  {
   "cell_type": "markdown",
   "metadata": {},
   "source": [
    "## Step 1 - Format data as .xlsx, .csv, .xls"
   ]
  },
  {
   "cell_type": "markdown",
   "metadata": {},
   "source": [
    "## Step 2 - Import required python packages and Thermobar"
   ]
  },
  {
   "cell_type": "code",
   "execution_count": 3,
   "metadata": {},
   "outputs": [
    {
     "name": "stdout",
     "output_type": "stream",
     "text": [
      "Requirement already satisfied: Thermobar in c:\\users\\penny\\onedrive - oregon state university\\postdoc\\pymme\\mybarometers\\thermobar_outer\\src (0.0.1)\n",
      "Requirement already satisfied: pandas in c:\\users\\penny\\anaconda3\\lib\\site-packages (from Thermobar) (1.2.4)\n",
      "Requirement already satisfied: numpy in c:\\users\\penny\\anaconda3\\lib\\site-packages (from Thermobar) (1.20.2)\n",
      "Requirement already satisfied: matplotlib in c:\\users\\penny\\anaconda3\\lib\\site-packages (from Thermobar) (3.4.1)\n",
      "Requirement already satisfied: sklearn in c:\\users\\penny\\anaconda3\\lib\\site-packages (from Thermobar) (0.0)\n",
      "Requirement already satisfied: scipy in c:\\users\\penny\\anaconda3\\lib\\site-packages (from Thermobar) (1.6.2)\n",
      "Requirement already satisfied: statsmodels in c:\\users\\penny\\anaconda3\\lib\\site-packages (from Thermobar) (0.12.2)\n",
      "Requirement already satisfied: pyparsing>=2.2.1 in c:\\users\\penny\\anaconda3\\lib\\site-packages (from matplotlib->Thermobar) (2.4.7)\n",
      "Requirement already satisfied: cycler>=0.10 in c:\\users\\penny\\anaconda3\\lib\\site-packages (from matplotlib->Thermobar) (0.10.0)\n",
      "Requirement already satisfied: python-dateutil>=2.7 in c:\\users\\penny\\anaconda3\\lib\\site-packages (from matplotlib->Thermobar) (2.8.1)\n",
      "Requirement already satisfied: kiwisolver>=1.0.1 in c:\\users\\penny\\anaconda3\\lib\\site-packages (from matplotlib->Thermobar) (1.3.1)\n",
      "Requirement already satisfied: pillow>=6.2.0 in c:\\users\\penny\\anaconda3\\lib\\site-packages (from matplotlib->Thermobar) (8.1.2)\n",
      "Requirement already satisfied: six in c:\\users\\penny\\anaconda3\\lib\\site-packages (from cycler>=0.10->matplotlib->Thermobar) (1.15.0)\n",
      "Requirement already satisfied: pytz>=2017.3 in c:\\users\\penny\\anaconda3\\lib\\site-packages (from pandas->Thermobar) (2021.1)\n",
      "Requirement already satisfied: scikit-learn in c:\\users\\penny\\anaconda3\\lib\\site-packages (from sklearn->Thermobar) (0.24.1)\n",
      "Requirement already satisfied: joblib>=0.11 in c:\\users\\penny\\anaconda3\\lib\\site-packages (from scikit-learn->sklearn->Thermobar) (1.0.1)\n"
     ]
    },
    {
     "name": "stderr",
     "output_type": "stream",
     "text": [
      "WARNING: Value for scheme.headers does not match. Please report this to <https://github.com/pypa/pip/issues/9617>\n",
      "distutils: C:\\Users\\penny\\anaconda3\\Include\\UNKNOWN\n",
      "sysconfig: C:\\Users\\penny\\anaconda3\\Include\n",
      "WARNING: Additional context:\n",
      "user = False\n",
      "home = None\n",
      "root = None\n",
      "prefix = None\n",
      "WARNING: Value for scheme.headers does not match. Please report this to <https://github.com/pypa/pip/issues/9617>\n",
      "distutils: C:\\Users\\penny\\anaconda3\\Include\\UNKNOWN\n",
      "sysconfig: C:\\Users\\penny\\anaconda3\\Include\n",
      "WARNING: Additional context:\n",
      "user = False\n",
      "home = None\n",
      "root = None\n",
      "prefix = None\n"
     ]
    },
    {
     "name": "stdout",
     "output_type": "stream",
     "text": [
      "Requirement already satisfied: threadpoolctl>=2.0.0 in c:\\users\\penny\\anaconda3\\lib\\site-packages (from scikit-learn->sklearn->Thermobar) (2.1.0)\n",
      "Requirement already satisfied: patsy>=0.5 in c:\\users\\penny\\anaconda3\\lib\\site-packages (from statsmodels->Thermobar) (0.5.1)\n"
     ]
    }
   ],
   "source": [
    "# This installs Thermobar, it only needs to be run once. \n",
    "!pip install Thermobar            "
   ]
  },
  {
   "cell_type": "code",
   "execution_count": 4,
   "metadata": {},
   "outputs": [],
   "source": [
    "import Thermobar as pt             # Imports Thermobar after a user has run \"!pip install Thermobar\"\n",
    "import numpy as np                 # Imports numpy, used for various math operations. \n",
    "import pandas as pd                # Imports pandas, used for data manipulation and display\n",
    "import matplotlib.pyplot as plt    # Imports matplotlib, used for plotting"
   ]
  },
  {
   "cell_type": "markdown",
   "metadata": {},
   "source": [
    "## Step 3 - Import data from a specific Excel Sheet"
   ]
  },
  {
   "cell_type": "code",
   "execution_count": 5,
   "metadata": {},
   "outputs": [],
   "source": [
    "#This line reads in columns from Sheet1 of the spreadsheet.\n",
    "#It returns a dictionary (collection of dataframes) which we have named \"out\"\n",
    "out=pt.import_excel('Example_Excel_input.xlsx', sheet_name=\"Sheet1\")\n",
    "my_input=out['my_input'] \n",
    "myLiquids=out['Liqs']    # This extracts the dataframe of Liq compositions\n",
    "myPlags=out['Plags']     # This extracts the dataframe of Plag compositions\n",
    "myOls=out['Ols']         # This dataframe will be full of zeros, as no olivine compositions were provided"
   ]
  },
  {
   "cell_type": "markdown",
   "metadata": {},
   "source": [
    "## Step 4 - Inspect the data to ensure it read correctly"
   ]
  },
  {
   "cell_type": "code",
   "execution_count": 6,
   "metadata": {},
   "outputs": [
    {
     "data": {
      "text/html": [
       "<div>\n",
       "<style scoped>\n",
       "    .dataframe tbody tr th:only-of-type {\n",
       "        vertical-align: middle;\n",
       "    }\n",
       "\n",
       "    .dataframe tbody tr th {\n",
       "        vertical-align: top;\n",
       "    }\n",
       "\n",
       "    .dataframe thead th {\n",
       "        text-align: right;\n",
       "    }\n",
       "</style>\n",
       "<table border=\"1\" class=\"dataframe\">\n",
       "  <thead>\n",
       "    <tr style=\"text-align: right;\">\n",
       "      <th></th>\n",
       "      <th>SiO2_Liq</th>\n",
       "      <th>TiO2_Liq</th>\n",
       "      <th>Al2O3_Liq</th>\n",
       "      <th>FeOt_Liq</th>\n",
       "      <th>MnO_Liq</th>\n",
       "      <th>MgO_Liq</th>\n",
       "      <th>CaO_Liq</th>\n",
       "      <th>Na2O_Liq</th>\n",
       "      <th>K2O_Liq</th>\n",
       "      <th>Cr2O3_Liq</th>\n",
       "      <th>P2O5_Liq</th>\n",
       "      <th>H2O_Liq</th>\n",
       "      <th>Fe3Fet_Liq</th>\n",
       "      <th>NiO_Liq</th>\n",
       "      <th>CoO_Liq</th>\n",
       "      <th>CO2_Liq</th>\n",
       "      <th>Sample_ID_Liq</th>\n",
       "    </tr>\n",
       "  </thead>\n",
       "  <tbody>\n",
       "    <tr>\n",
       "      <th>0</th>\n",
       "      <td>49.1</td>\n",
       "      <td>3.22</td>\n",
       "      <td>14.4</td>\n",
       "      <td>14.8</td>\n",
       "      <td>3.20</td>\n",
       "      <td>3.20</td>\n",
       "      <td>6.72</td>\n",
       "      <td>3.34</td>\n",
       "      <td>1.70</td>\n",
       "      <td>0.0</td>\n",
       "      <td>0.00</td>\n",
       "      <td>0</td>\n",
       "      <td>0.0</td>\n",
       "      <td>0.0</td>\n",
       "      <td>0.0</td>\n",
       "      <td>0.0</td>\n",
       "      <td>K33</td>\n",
       "    </tr>\n",
       "    <tr>\n",
       "      <th>1</th>\n",
       "      <td>49.2</td>\n",
       "      <td>3.89</td>\n",
       "      <td>15.3</td>\n",
       "      <td>13.7</td>\n",
       "      <td>3.88</td>\n",
       "      <td>3.88</td>\n",
       "      <td>6.76</td>\n",
       "      <td>3.44</td>\n",
       "      <td>1.22</td>\n",
       "      <td>0.0</td>\n",
       "      <td>0.00</td>\n",
       "      <td>0</td>\n",
       "      <td>0.0</td>\n",
       "      <td>0.0</td>\n",
       "      <td>0.0</td>\n",
       "      <td>0.0</td>\n",
       "      <td>K34</td>\n",
       "    </tr>\n",
       "    <tr>\n",
       "      <th>2</th>\n",
       "      <td>49.6</td>\n",
       "      <td>3.79</td>\n",
       "      <td>15.8</td>\n",
       "      <td>13.0</td>\n",
       "      <td>4.26</td>\n",
       "      <td>4.26</td>\n",
       "      <td>6.59</td>\n",
       "      <td>3.65</td>\n",
       "      <td>1.04</td>\n",
       "      <td>0.0</td>\n",
       "      <td>0.02</td>\n",
       "      <td>0</td>\n",
       "      <td>0.0</td>\n",
       "      <td>0.0</td>\n",
       "      <td>0.0</td>\n",
       "      <td>0.0</td>\n",
       "      <td>K44</td>\n",
       "    </tr>\n",
       "  </tbody>\n",
       "</table>\n",
       "</div>"
      ],
      "text/plain": [
       "   SiO2_Liq  TiO2_Liq  Al2O3_Liq  FeOt_Liq  MnO_Liq  MgO_Liq  CaO_Liq  \\\n",
       "0      49.1      3.22       14.4      14.8     3.20     3.20     6.72   \n",
       "1      49.2      3.89       15.3      13.7     3.88     3.88     6.76   \n",
       "2      49.6      3.79       15.8      13.0     4.26     4.26     6.59   \n",
       "\n",
       "   Na2O_Liq  K2O_Liq  Cr2O3_Liq  P2O5_Liq  H2O_Liq  Fe3Fet_Liq  NiO_Liq  \\\n",
       "0      3.34     1.70        0.0      0.00        0         0.0      0.0   \n",
       "1      3.44     1.22        0.0      0.00        0         0.0      0.0   \n",
       "2      3.65     1.04        0.0      0.02        0         0.0      0.0   \n",
       "\n",
       "   CoO_Liq  CO2_Liq Sample_ID_Liq  \n",
       "0      0.0      0.0           K33  \n",
       "1      0.0      0.0           K34  \n",
       "2      0.0      0.0           K44  "
      ]
     },
     "metadata": {},
     "output_type": "display_data"
    },
    {
     "data": {
      "text/html": [
       "<div>\n",
       "<style scoped>\n",
       "    .dataframe tbody tr th:only-of-type {\n",
       "        vertical-align: middle;\n",
       "    }\n",
       "\n",
       "    .dataframe tbody tr th {\n",
       "        vertical-align: top;\n",
       "    }\n",
       "\n",
       "    .dataframe thead th {\n",
       "        text-align: right;\n",
       "    }\n",
       "</style>\n",
       "<table border=\"1\" class=\"dataframe\">\n",
       "  <thead>\n",
       "    <tr style=\"text-align: right;\">\n",
       "      <th></th>\n",
       "      <th>SiO2_Plag</th>\n",
       "      <th>TiO2_Plag</th>\n",
       "      <th>Al2O3_Plag</th>\n",
       "      <th>FeOt_Plag</th>\n",
       "      <th>MnO_Plag</th>\n",
       "      <th>MgO_Plag</th>\n",
       "      <th>CaO_Plag</th>\n",
       "      <th>Na2O_Plag</th>\n",
       "      <th>K2O_Plag</th>\n",
       "      <th>Cr2O3_Plag</th>\n",
       "      <th>Sample_ID_Plag</th>\n",
       "    </tr>\n",
       "  </thead>\n",
       "  <tbody>\n",
       "    <tr>\n",
       "      <th>0</th>\n",
       "      <td>57.3</td>\n",
       "      <td>0.09</td>\n",
       "      <td>26.6</td>\n",
       "      <td>0.43</td>\n",
       "      <td>0</td>\n",
       "      <td>0.03</td>\n",
       "      <td>8.33</td>\n",
       "      <td>6.11</td>\n",
       "      <td>0.49</td>\n",
       "      <td>0</td>\n",
       "      <td>0</td>\n",
       "    </tr>\n",
       "    <tr>\n",
       "      <th>1</th>\n",
       "      <td>56.5</td>\n",
       "      <td>0.12</td>\n",
       "      <td>26.9</td>\n",
       "      <td>0.47</td>\n",
       "      <td>0</td>\n",
       "      <td>0.05</td>\n",
       "      <td>8.95</td>\n",
       "      <td>5.66</td>\n",
       "      <td>0.47</td>\n",
       "      <td>0</td>\n",
       "      <td>1</td>\n",
       "    </tr>\n",
       "    <tr>\n",
       "      <th>2</th>\n",
       "      <td>57.6</td>\n",
       "      <td>0.11</td>\n",
       "      <td>26.3</td>\n",
       "      <td>0.50</td>\n",
       "      <td>0</td>\n",
       "      <td>0.07</td>\n",
       "      <td>8.50</td>\n",
       "      <td>6.27</td>\n",
       "      <td>0.40</td>\n",
       "      <td>0</td>\n",
       "      <td>2</td>\n",
       "    </tr>\n",
       "  </tbody>\n",
       "</table>\n",
       "</div>"
      ],
      "text/plain": [
       "   SiO2_Plag  TiO2_Plag  Al2O3_Plag  FeOt_Plag  MnO_Plag  MgO_Plag  CaO_Plag  \\\n",
       "0       57.3       0.09        26.6       0.43         0      0.03      8.33   \n",
       "1       56.5       0.12        26.9       0.47         0      0.05      8.95   \n",
       "2       57.6       0.11        26.3       0.50         0      0.07      8.50   \n",
       "\n",
       "   Na2O_Plag  K2O_Plag  Cr2O3_Plag  Sample_ID_Plag  \n",
       "0       6.11      0.49           0               0  \n",
       "1       5.66      0.47           0               1  \n",
       "2       6.27      0.40           0               2  "
      ]
     },
     "metadata": {},
     "output_type": "display_data"
    }
   ],
   "source": [
    "display(myLiquids.head()) # Prints the first 5 rows of myLiquids\n",
    "display(myPlags.head())   # Prints the first 5 rows of myPlags"
   ]
  },
  {
   "cell_type": "code",
   "execution_count": 8,
   "metadata": {},
   "outputs": [
    {
     "name": "stdout",
     "output_type": "stream",
     "text": [
      "Help on function calculate_liq_only_temp in module Thermobar.liquid_thermometers:\n",
      "\n",
      "calculate_liq_only_temp(*, liq_comps, equationT, P=None, H2O_Liq=None)\n",
      "     Liquid-only thermometery. Returns a temperature in Kelvin.\n",
      "    \n",
      "    Parameters\n",
      "     -------\n",
      "    \n",
      "     liq_comps: DataFrame\n",
      "         liquid compositions with column headings SiO2_Liq, MgO_Liq etc.\n",
      "    \n",
      "     equationT: str\n",
      "         If has _sat at the end, represents the saturation surface of that mineral.\n",
      "    \n",
      "         Equations from Putirka et al. (2016).\n",
      "             | T_Put2016_eq3_amp_sat (saturation surface of amphibole)\n",
      "    \n",
      "         Equations from Putirka (2008) and older studies:\n",
      "    \n",
      "             | T_Put2008_eq13\n",
      "             | T_Put2008_eq14\n",
      "             | T_Put2008_eq15\n",
      "             | T_Put2008_eq16\n",
      "             | T_Put2008_eq34_cpx_sat\n",
      "             | T_Put2008_eq28b_opx_sat\n",
      "             | T_Put1999_cpx_sat\n",
      "             * Following 3 thermometers are adaptations of olivine-liquid thermometers with  DMg calculated using Beattie 1993,\n",
      "             This means you can use them without knowing an olivine composition. ocan be applied when you haven't measured an olivine composiiton.\n",
      "             | T_Put2008_eq19_BeattDMg\n",
      "             | T_Put2008_eq21_BeattDMg\n",
      "             | T_Put2008_eq22_BeattDMg\n",
      "    \n",
      "         Equations from Sugawara (2000):\n",
      "    \n",
      "             | T_Sug2000_eq1\n",
      "             | T_Sug2000_eq3_ol\n",
      "             | T_Sug2000_eq3_opx\n",
      "             | T_Sug2000_eq3_cpx\n",
      "             | T_Sug2000_eq3_pig\n",
      "             | T_Sug2000_eq6a\n",
      "             | T_Sug2000_eq6b\n",
      "    \n",
      "         Equations from Helz and Thornber (1987):\n",
      "    \n",
      "             | T_Helz1987_MgO\n",
      "             | T_Helz1987_CaO\n",
      "    \n",
      "         Equation from Molina et al. (2015)\n",
      "    \n",
      "             | T_Molina2015_amp_sat\n",
      "    \n",
      "         Equation from Montrieth 1995\n",
      "            | T_Montierth1995_MgO\n",
      "    \n",
      "         Equation from Beattie (1993)\n",
      "            | T_Beatt1993_opx\n",
      "    \n",
      "     P: float, int, series, str  (\"Solve\")\n",
      "         Pressure in kbar\n",
      "         Only needed for P-sensitive thermometers.\n",
      "         If enter P=\"Solve\", returns a partial function\n",
      "         Else, enter an integer, float, or panda series\n",
      "    \n",
      "     H2O_Liq: optional.\n",
      "         If None, uses H2O_Liq column from input.\n",
      "         If int, float, series, uses this instead of H2O_Liq Column\n",
      "    \n",
      "    \n",
      "     Returns\n",
      "     -------\n",
      "     pandas series\n",
      "        Temperature in K\n",
      "\n"
     ]
    }
   ],
   "source": [
    "help(pt.calculate_liq_only_temp)"
   ]
  },
  {
   "cell_type": "code",
   "execution_count": null,
   "metadata": {},
   "outputs": [],
   "source": [
    "#_____________________________________________________________\n",
    "\n",
    "Temp_HT87=pt.calculate_liq_only_temp(liq_comps=myLiquids, \n",
    "         equationT=\"T_Helz1987_MgO\")\n",
    "Temp_HT87"
   ]
  },
  {
   "cell_type": "code",
   "execution_count": null,
   "metadata": {},
   "outputs": [],
   "source": [
    "#____________________________________________________________\n",
    "\n",
    "Temp_P2008_eq15=pt.calculate_liq_only_temp(Liq_Comps=myLiquids, \n",
    "         equationT=\"T_Put2008_eq15\")"
   ]
  },
  {
   "cell_type": "code",
   "execution_count": null,
   "metadata": {},
   "outputs": [],
   "source": [
    "#____________________________________________________________\n",
    "\n",
    "Temp_P2008_eq15=pt.calculate_liq_only_temp(liq_comps=myLiquids, \n",
    "         equationT=\"T_Put2008_eq15\", P=5)"
   ]
  },
  {
   "cell_type": "code",
   "execution_count": null,
   "metadata": {},
   "outputs": [],
   "source": [
    "#____________________________________________________________\n",
    "\n",
    "Temp_P2008_eq15_6H=pt.calculate_liq_only_temp(liq_comps=myLiquids, \n",
    "         equationT=\"T_Put2008_eq15\", P=5, H2O_Liq=6)"
   ]
  },
  {
   "cell_type": "code",
   "execution_count": null,
   "metadata": {},
   "outputs": [],
   "source": [
    "type(my_input['P_input'])"
   ]
  },
  {
   "cell_type": "code",
   "execution_count": null,
   "metadata": {},
   "outputs": [],
   "source": [
    "#____________________________________________________________\n",
    "\n",
    "Temp_eq15_in=pt.calculate_liq_only_temp(liq_comps=myLiquids, \n",
    "         equationT=\"T_Put2008_eq15\", P=my_input['P_input'])"
   ]
  },
  {
   "cell_type": "code",
   "execution_count": null,
   "metadata": {},
   "outputs": [],
   "source": [
    "#____________________________________________________________\n",
    "\n",
    "Temp_P2008_eq15_par=pt.calculate_liq_only_temp(liq_comps=myLiquids, \n",
    "         equationT=\"T_Put2008_eq15\", P=\"Solve\")\n",
    "Temp_P2008_eq15_par(3)"
   ]
  },
  {
   "cell_type": "code",
   "execution_count": null,
   "metadata": {},
   "outputs": [],
   "source": [
    "T_Liq_Peq15_inputP=pt.calculate_Liq_Temp(Liq_Comps=myLiquids, equation=\"T_Put2008_eq15\", P=my_input['P_input'])"
   ]
  },
  {
   "cell_type": "code",
   "execution_count": null,
   "metadata": {},
   "outputs": [],
   "source": [
    "T_Liq_Peq15_inputP_2H2O=pt.calculate_Liq_Temp(Liq_Comps=myLiquids, equation=\"T_Put2008_eq15\",\n",
    "                                              P=my_input['P_input'], H2O_Liq=2)"
   ]
  },
  {
   "cell_type": "code",
   "execution_count": null,
   "metadata": {},
   "outputs": [],
   "source": [
    "T_Liq_Peq15_inputP"
   ]
  },
  {
   "cell_type": "code",
   "execution_count": null,
   "metadata": {},
   "outputs": [],
   "source": [
    "T_Liq_Peq15_inputP_2H2O"
   ]
  },
  {
   "cell_type": "code",
   "execution_count": null,
   "metadata": {},
   "outputs": [],
   "source": [
    "#____________________________________________________________\n",
    "\n",
    "Liquid_T_out=myLiquids.copy()\n",
    "Liquid_T_out.insert(0, \"T HT87\", Temp_HT87)\n",
    "Liquid_T_out.insert(1, \"T Peq15\", Temp_P2008_eq15)\n",
    "Liquid_T_out.to_excel('FileName.xlsx')"
   ]
  },
  {
   "cell_type": "code",
   "execution_count": null,
   "metadata": {},
   "outputs": [],
   "source": [
    "Liquid_T_out.to_excel('Liquid_only_Thermometry.xlsx')\n"
   ]
  },
  {
   "cell_type": "code",
   "execution_count": null,
   "metadata": {},
   "outputs": [],
   "source": [
    "#____________________________________________________________\n",
    "\n",
    "pt.calculate_amp_only_press(amp_comps=myAmps, \n",
    "   equationP=\"P_Mutch2016\")"
   ]
  },
  {
   "cell_type": "code",
   "execution_count": null,
   "metadata": {},
   "outputs": [],
   "source": [
    "#____________________________________________________________\n",
    "\n",
    "pt.calculate_cpx_only_press(cpx_comps=myCpxs, \n",
    "   equationP=\"P_Put2008_eq32b\", T=1400)"
   ]
  },
  {
   "cell_type": "code",
   "execution_count": null,
   "metadata": {},
   "outputs": [],
   "source": [
    "#____________________________________________________________\n",
    "\n",
    "pt.calculate_cpx_only_press_temp(cpx_comps=myCpxs, \n",
    "equationP=\"P_Put2008_eq32b\", equationT=\"T_Put2008_eq32d\")\n"
   ]
  },
  {
   "cell_type": "code",
   "execution_count": null,
   "metadata": {},
   "outputs": [],
   "source": [
    "#____________________________________________________________\n",
    "\n",
    "Eq_ol_Roeder=pt.calculate_eq_ol_content(liq_comps=myLiquids, \n",
    "             Kd_model=\"Roeder1970\")\n"
   ]
  },
  {
   "cell_type": "code",
   "execution_count": null,
   "metadata": {},
   "outputs": [],
   "source": [
    "#____________________________________________________________\n",
    "\n",
    "pt.calculate_ol_sp_temp(liq_comps=myLiquids,\n",
    "                       sp_comps=mySps, equationT=\"T_Wan2008\")"
   ]
  },
  {
   "cell_type": "code",
   "execution_count": null,
   "metadata": {},
   "outputs": [],
   "source": [
    "#____________________________________________________________\n",
    "\n",
    "pt.calculate_eq_ol_content(liq_comps=myLiquids, \n",
    "             Kd_model=\"Roeder1970\", Fe3FeT_Liq=0.2)\n"
   ]
  },
  {
   "cell_type": "code",
   "execution_count": null,
   "metadata": {},
   "outputs": [],
   "source": [
    "#____________________________________________________________\n",
    "\n",
    "pt.calculate_eq_ol_content(liq_comps=myLiquids,\n",
    "             Kd_model=\"Toplis2005\", P=2, T=1373.1, ol_fo=0.82)\n"
   ]
  },
  {
   "cell_type": "code",
   "execution_count": null,
   "metadata": {},
   "outputs": [],
   "source": [
    "#____________________________________________________________\n",
    "\n",
    "pt.calculate_eq_ol_content(liq_comps=myLiquids,\n",
    "             Kd_model=\"Toplis2005\", P=2, T=1373.1)\n"
   ]
  },
  {
   "cell_type": "code",
   "execution_count": null,
   "metadata": {},
   "outputs": [],
   "source": [
    "#____________________________________________________________\n",
    "pt.calculate_Opx_Liq_PT_melt_matching(Liq_Comps=myLiquids1,\n",
    "            Opx_Comps=MyOpxs, KdMatch=0.29, KdErr=0.07)"
   ]
  },
  {
   "cell_type": "markdown",
   "metadata": {},
   "source": [
    "# Step 6 - Histograms of calculated pressures for 2 input pairs"
   ]
  },
  {
   "cell_type": "code",
   "execution_count": null,
   "metadata": {},
   "outputs": [],
   "source": [
    "Eq_ol_Roeder=pt.calculate_eq_ol_content(Liq_Comps=myLiquids, \n",
    "equation=\"T_Put2008_Eq21\", P=5)"
   ]
  },
  {
   "cell_type": "code",
   "execution_count": null,
   "metadata": {},
   "outputs": [],
   "source": [
    "#____________________________________________________________\n",
    "\n",
    "pt.calculate_ol_liq_temp(liq_comps=myLiquids1, ol_comps=myOls1,\n",
    "equationT=\"T_Put2008_Eq21\", P=5)\n"
   ]
  },
  {
   "cell_type": "code",
   "execution_count": null,
   "metadata": {},
   "outputs": [],
   "source": [
    "## Clinopyroxene - Liquid thermometry"
   ]
  },
  {
   "cell_type": "code",
   "execution_count": null,
   "metadata": {},
   "outputs": [],
   "source": [
    "#____________________________________________________________\n",
    "\n",
    "pt.calculate_cpx_liq_temp(liq_comps=myLiquids1, \n",
    "cpx_comps=myCpxs1, equationT=\"T_Put2008_eq33\", P=5) \n"
   ]
  },
  {
   "cell_type": "code",
   "execution_count": null,
   "metadata": {},
   "outputs": [],
   "source": [
    "#____________________________________________________________\n",
    "\n",
    "pt.calculate_Cpx_Liq_PT_Iter(Liq_Comps=myLiquids1, \n",
    "Cpx_Comps=myCpxs1, equationT=\"T_Put2008_Eq33\", \n",
    "equationP=\"P_Put2003\")\n"
   ]
  },
  {
   "cell_type": "code",
   "execution_count": null,
   "metadata": {},
   "outputs": [],
   "source": [
    "#____________________________________________________________\n",
    "\n",
    "calc=pt.calculate_fspar_liq_hygr(liq_comps=myLiquids1, \n",
    "plag_comps=myPlags1, equationH=\"H_Waters2015\", T=1300, P=5)\n"
   ]
  },
  {
   "cell_type": "code",
   "execution_count": null,
   "metadata": {},
   "outputs": [],
   "source": [
    "#____________________________________________________________\n",
    "\n",
    "pt.calculate_fspar_liq_hygr(liq_comps=Liqs_PL, XAn=0.5, XAb=0.4, \n",
    "    equationH=\"H_Waters2015\", T=1300, P=5)\n",
    "\n"
   ]
  },
  {
   "cell_type": "code",
   "execution_count": null,
   "metadata": {},
   "outputs": [],
   "source": []
  },
  {
   "cell_type": "code",
   "execution_count": null,
   "metadata": {},
   "outputs": [],
   "source": []
  }
 ],
 "metadata": {
  "kernelspec": {
   "display_name": "Python 3",
   "language": "python",
   "name": "python3"
  },
  "language_info": {
   "codemirror_mode": {
    "name": "ipython",
    "version": 3
   },
   "file_extension": ".py",
   "mimetype": "text/x-python",
   "name": "python",
   "nbconvert_exporter": "python",
   "pygments_lexer": "ipython3",
   "version": "3.8.5"
  }
 },
 "nbformat": 4,
 "nbformat_minor": 4
}
