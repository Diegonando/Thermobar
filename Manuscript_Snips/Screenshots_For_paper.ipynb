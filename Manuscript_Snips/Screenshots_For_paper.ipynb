{
 "cells": [
  {
   "cell_type": "markdown",
   "metadata": {},
   "source": [
    "# Step 2 - Import required python packages and Thermobar"
   ]
  },
  {
   "cell_type": "code",
   "execution_count": null,
   "metadata": {},
   "outputs": [],
   "source": [
    "# This installs Thermobar, it only needs to be run once. \n",
    "!pip install Thermobar            "
   ]
  },
  {
   "cell_type": "code",
   "execution_count": null,
   "metadata": {},
   "outputs": [],
   "source": [
    "import Thermobar as pt             # Imports Thermobar after a user has run \"!pip install Thermobar\"\n",
    "import numpy as np                 # Imports numpy, used for various math operations. \n",
    "import pandas as pd                # Imports pandas, used for data manipulation and display\n",
    "import matplotlib.pyplot as plt    # Imports matplotlib, used for plotting"
   ]
  },
  {
   "cell_type": "markdown",
   "metadata": {},
   "source": [
    "# Step 3 - Import data from a specific Excel Sheet"
   ]
  },
  {
   "cell_type": "code",
   "execution_count": null,
   "metadata": {},
   "outputs": [],
   "source": [
    "#This line reads in columns from Sheet1 of the spreadsheet.\n",
    "#It returns a dictionary (collection of dataframes) which we have named \"out\"\n",
    "out=pt.import_excel('Example_Excel_input.xlsx', sheet_name=\"Sheet1\")\n",
    "my_input=out['my_input'] # This extracts the dataframe from the dictionary containing all user-entered columns\n",
    "myLiquids=out['Liqs']    # This extracts the dataframe of liqiud compositions\n",
    "myPlags=out['Plags']     # This extracts the dataframe of liquid compositions\n",
    "myOls=out['Ols']  # This dataframe will be full of zeros, as no olivine compositions were provided"
   ]
  },
  {
   "cell_type": "markdown",
   "metadata": {},
   "source": [
    "# Step 4 - Inspect the data to ensure it read correctly"
   ]
  },
  {
   "cell_type": "code",
   "execution_count": null,
   "metadata": {},
   "outputs": [],
   "source": [
    "display(myLiquids.head())\n",
    "display(myPlags.head())"
   ]
  },
  {
   "cell_type": "code",
   "execution_count": null,
   "metadata": {},
   "outputs": [],
   "source": [
    "#_____________________________________________________________\n",
    "\n",
    "Temp_HT87=pt.calculate_liq_only_temp(liq_comps=myLiquids, \n",
    "         equationT=\"T_Helz1987_MgO\")\n",
    "Temp_HT87"
   ]
  },
  {
   "cell_type": "code",
   "execution_count": null,
   "metadata": {},
   "outputs": [],
   "source": [
    "#____________________________________________________________\n",
    "\n",
    "Temp_P2008_eq15=pt.calculate_liq_only_temp(Liq_Comps=myLiquids, \n",
    "         equationT=\"T_Put2008_eq15\")"
   ]
  },
  {
   "cell_type": "code",
   "execution_count": null,
   "metadata": {},
   "outputs": [],
   "source": [
    "#____________________________________________________________\n",
    "\n",
    "Temp_P2008_eq15=pt.calculate_liq_only_temp(liq_comps=myLiquids, \n",
    "         equationT=\"T_Put2008_eq15\", P=5)"
   ]
  },
  {
   "cell_type": "code",
   "execution_count": null,
   "metadata": {},
   "outputs": [],
   "source": [
    "#____________________________________________________________\n",
    "\n",
    "Temp_P2008_eq15_6H=pt.calculate_liq_only_temp(liq_comps=myLiquids, \n",
    "         equationT=\"T_Put2008_eq15\", P=5, H2O_Liq=6)"
   ]
  },
  {
   "cell_type": "code",
   "execution_count": null,
   "metadata": {},
   "outputs": [],
   "source": [
    "type(my_input['P_input'])"
   ]
  },
  {
   "cell_type": "code",
   "execution_count": null,
   "metadata": {},
   "outputs": [],
   "source": [
    "#____________________________________________________________\n",
    "\n",
    "Temp_eq15_in=pt.calculate_liq_only_temp(liq_comps=myLiquids, \n",
    "         equationT=\"T_Put2008_eq15\", P=my_input['P_input'])"
   ]
  },
  {
   "cell_type": "code",
   "execution_count": null,
   "metadata": {},
   "outputs": [],
   "source": [
    "#____________________________________________________________\n",
    "\n",
    "Temp_P2008_eq15_par=pt.calculate_liq_only_temp(liq_comps=myLiquids, \n",
    "         equationT=\"T_Put2008_eq15\", P=\"Solve\")\n",
    "Temp_P2008_eq15_par(3)"
   ]
  },
  {
   "cell_type": "code",
   "execution_count": null,
   "metadata": {},
   "outputs": [],
   "source": [
    "T_Liq_Peq15_inputP=pt.calculate_Liq_Temp(Liq_Comps=myLiquids, equation=\"T_Put2008_eq15\", P=my_input['P_input'])"
   ]
  },
  {
   "cell_type": "code",
   "execution_count": null,
   "metadata": {},
   "outputs": [],
   "source": [
    "T_Liq_Peq15_inputP_2H2O=pt.calculate_Liq_Temp(Liq_Comps=myLiquids, equation=\"T_Put2008_eq15\",\n",
    "                                              P=my_input['P_input'], H2O_Liq=2)"
   ]
  },
  {
   "cell_type": "code",
   "execution_count": null,
   "metadata": {},
   "outputs": [],
   "source": [
    "T_Liq_Peq15_inputP"
   ]
  },
  {
   "cell_type": "code",
   "execution_count": null,
   "metadata": {},
   "outputs": [],
   "source": [
    "T_Liq_Peq15_inputP_2H2O"
   ]
  },
  {
   "cell_type": "code",
   "execution_count": null,
   "metadata": {},
   "outputs": [],
   "source": [
    "#____________________________________________________________\n",
    "\n",
    "Liquid_T_out=myLiquids.copy()\n",
    "Liquid_T_out.insert(0, \"T HT87\", Temp_HT87)\n",
    "Liquid_T_out.insert(1, \"T Peq15\", Temp_P2008_eq15)\n",
    "Liquid_T_out.to_excel('FileName.xlsx')"
   ]
  },
  {
   "cell_type": "code",
   "execution_count": null,
   "metadata": {},
   "outputs": [],
   "source": [
    "Liquid_T_out.to_excel('Liquid_only_Thermometry.xlsx')\n"
   ]
  },
  {
   "cell_type": "code",
   "execution_count": null,
   "metadata": {},
   "outputs": [],
   "source": [
    "#____________________________________________________________\n",
    "\n",
    "pt.calculate_amp_only_press(amp_comps=myAmps, \n",
    "   equationP=\"P_Mutch2016\")"
   ]
  },
  {
   "cell_type": "code",
   "execution_count": null,
   "metadata": {},
   "outputs": [],
   "source": [
    "#____________________________________________________________\n",
    "\n",
    "pt.calculate_cpx_only_press(cpx_comps=myCpxs, \n",
    "   equationP=\"P_Put2008_eq32b\", T=1400)"
   ]
  },
  {
   "cell_type": "code",
   "execution_count": null,
   "metadata": {},
   "outputs": [],
   "source": [
    "#____________________________________________________________\n",
    "\n",
    "pt.calculate_cpx_only_press_temp(cpx_comps=myCpxs, \n",
    "equationP=\"P_Put2008_eq32b\", equationT=\"T_Put2008_eq32d\")\n"
   ]
  },
  {
   "cell_type": "code",
   "execution_count": null,
   "metadata": {},
   "outputs": [],
   "source": [
    "#____________________________________________________________\n",
    "\n",
    "Eq_ol_Roeder=pt.calculate_eq_ol_content(liq_comps=myLiquids, \n",
    "             Kd_model=\"Roeder1970\")\n"
   ]
  },
  {
   "cell_type": "code",
   "execution_count": null,
   "metadata": {},
   "outputs": [],
   "source": [
    "#____________________________________________________________\n",
    "\n",
    "pt.calculate_ol_sp_temp(liq_comps=myLiquids,\n",
    "                       sp_comps=mySps, equationT=\"T_Wan2008\")"
   ]
  },
  {
   "cell_type": "code",
   "execution_count": null,
   "metadata": {},
   "outputs": [],
   "source": [
    "#____________________________________________________________\n",
    "\n",
    "pt.calculate_eq_ol_content(liq_comps=myLiquids, \n",
    "             Kd_model=\"Roeder1970\", Fe3FeT_Liq=0.2)\n"
   ]
  },
  {
   "cell_type": "code",
   "execution_count": null,
   "metadata": {},
   "outputs": [],
   "source": [
    "#____________________________________________________________\n",
    "\n",
    "pt.calculate_eq_ol_content(liq_comps=myLiquids,\n",
    "             Kd_model=\"Toplis2005\", P=2, T=1373.1, ol_fo=0.82)\n"
   ]
  },
  {
   "cell_type": "code",
   "execution_count": null,
   "metadata": {},
   "outputs": [],
   "source": [
    "#____________________________________________________________\n",
    "\n",
    "pt.calculate_eq_ol_content(liq_comps=myLiquids,\n",
    "             Kd_model=\"Toplis2005\", P=2, T=1373.1)\n"
   ]
  },
  {
   "cell_type": "code",
   "execution_count": null,
   "metadata": {},
   "outputs": [],
   "source": [
    "#____________________________________________________________\n",
    "pt.calculate_Opx_Liq_PT_melt_matching(Liq_Comps=myLiquids1,\n",
    "            Opx_Comps=MyOpxs, KdMatch=0.29, KdErr=0.07)"
   ]
  },
  {
   "cell_type": "markdown",
   "metadata": {},
   "source": [
    "# Step 6 - Histograms of calculated pressures for 2 input pairs"
   ]
  },
  {
   "cell_type": "code",
   "execution_count": null,
   "metadata": {},
   "outputs": [],
   "source": [
    "Eq_ol_Roeder=pt.calculate_eq_ol_content(Liq_Comps=myLiquids, \n",
    "equation=\"T_Put2008_Eq21\", P=5)"
   ]
  },
  {
   "cell_type": "code",
   "execution_count": null,
   "metadata": {},
   "outputs": [],
   "source": [
    "#____________________________________________________________\n",
    "\n",
    "pt.calculate_ol_liq_temp(liq_comps=myLiquids1, ol_comps=myOls1,\n",
    "equationT=\"T_Put2008_Eq21\", P=5)\n"
   ]
  },
  {
   "cell_type": "code",
   "execution_count": null,
   "metadata": {},
   "outputs": [],
   "source": [
    "## Clinopyroxene - Liquid thermometry"
   ]
  },
  {
   "cell_type": "code",
   "execution_count": null,
   "metadata": {},
   "outputs": [],
   "source": [
    "#____________________________________________________________\n",
    "\n",
    "pt.calculate_cpx_liq_temp(liq_comps=myLiquids1, \n",
    "cpx_comps=myCpxs1, equationT=\"T_Put2008_eq33\", P=5) \n"
   ]
  },
  {
   "cell_type": "code",
   "execution_count": null,
   "metadata": {},
   "outputs": [],
   "source": [
    "#____________________________________________________________\n",
    "\n",
    "pt.calculate_Cpx_Liq_PT_Iter(Liq_Comps=myLiquids1, \n",
    "Cpx_Comps=myCpxs1, equationT=\"T_Put2008_Eq33\", \n",
    "equationP=\"P_Put2003\")\n"
   ]
  },
  {
   "cell_type": "code",
   "execution_count": null,
   "metadata": {},
   "outputs": [],
   "source": [
    "#____________________________________________________________\n",
    "\n",
    "calc=pt.calculate_fspar_liq_hygr(liq_comps=myLiquids1, \n",
    "plag_comps=myPlags1, equationH=\"H_Waters2015\", T=1300, P=5)\n"
   ]
  },
  {
   "cell_type": "code",
   "execution_count": null,
   "metadata": {},
   "outputs": [],
   "source": [
    "#____________________________________________________________\n",
    "\n",
    "pt.calculate_fspar_liq_hygr(liq_comps=Liqs_PL, XAn=0.5, XAb=0.4, \n",
    "    equationH=\"H_Waters2015\", T=1300, P=5)\n",
    "\n"
   ]
  },
  {
   "cell_type": "code",
   "execution_count": null,
   "metadata": {},
   "outputs": [],
   "source": []
  },
  {
   "cell_type": "code",
   "execution_count": null,
   "metadata": {},
   "outputs": [],
   "source": []
  }
 ],
 "metadata": {
  "kernelspec": {
   "display_name": "Python 3",
   "language": "python",
   "name": "python3"
  },
  "language_info": {
   "codemirror_mode": {
    "name": "ipython",
    "version": 3
   },
   "file_extension": ".py",
   "mimetype": "text/x-python",
   "name": "python",
   "nbconvert_exporter": "python",
   "pygments_lexer": "ipython3",
   "version": "3.8.5"
  }
 },
 "nbformat": 4,
 "nbformat_minor": 4
}
