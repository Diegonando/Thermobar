{
 "cells": [
  {
   "cell_type": "code",
   "execution_count": null,
   "id": "d4fa3b86-3a76-45f2-a0dc-1eb2ef91e825",
   "metadata": {},
   "outputs": [],
   "source": [
    "out=pt.import_excel('Example_Excel_input.xlsx', sheet_name=\"Sheet1\")\n",
    "\n",
    "my_input=out['my_input']\n",
    "\n",
    "myLiquids=out['Liqs']\n",
    "\n",
    "myPlags=out['Plags']  \n",
    "\n",
    "myOls=out['Ols']   "
   ]
  },
  {
   "cell_type": "code",
   "execution_count": null,
   "id": "4e897640-307d-4884-ab32-b04721e7a58a",
   "metadata": {},
   "outputs": [],
   "source": [
    "!pip install Thermobar \n",
    "\n",
    "import Thermobar as pt"
   ]
  },
  {
   "cell_type": "markdown",
   "id": "edc18b8e-c304-4d9b-a177-c16ec4e75fe4",
   "metadata": {},
   "source": [
    "# Step 4 - Calculate Plagioclase-Liquid temperature"
   ]
  },
  {
   "cell_type": "code",
   "execution_count": null,
   "id": "88e7fc65-de41-47cd-980c-933002835381",
   "metadata": {},
   "outputs": [],
   "source": [
    "Plag_T_eq23=pt.calculate_fspar_liq_temp(liq_comps=myLiquids, plag_comps=myPlags,\n",
    "                                            equationT=\"T_Put2008_eq23\", P=5)"
   ]
  },
  {
   "cell_type": "code",
   "execution_count": null,
   "id": "98c867db-8e1c-42ca-a6d5-24af08d00dbf",
   "metadata": {},
   "outputs": [],
   "source": [
    "Plag_T_eq24=pt.calculate_fspar_liq_temp(liq_comps=myLiquids, plag_comps=myPlags,\n",
    "                                            equationT=\"T_Put2008_eq24a\", P=5)"
   ]
  },
  {
   "cell_type": "code",
   "execution_count": null,
   "id": "b5a59ec2-6085-45de-a94a-89f6034a6d7b",
   "metadata": {},
   "outputs": [],
   "source": [
    "Plag_T_eq23_Eq=pt.calculate_fspar_liq_temp(liq_comps=myLiquids, plag_comps=myPlags,\n",
    "                                            equationT=\"T_Put2008_eq23\", P=5, eq_tests=True)"
   ]
  },
  {
   "cell_type": "code",
   "execution_count": null,
   "id": "cc561f11-f4e8-4cf6-9368-04e40ef4344c",
   "metadata": {},
   "outputs": [],
   "source": [
    "Plag_T_eq23"
   ]
  },
  {
   "cell_type": "code",
   "execution_count": null,
   "id": "c4c8b256-15c9-45fc-a494-343f07a09758",
   "metadata": {},
   "outputs": [],
   "source": [
    "Plag_T_eq23=pt.calculate_fspar_liq_hygr(liq_comps=myLiquids, plag_comps=myPlags,\n",
    "                                            equationT=\"T_Put2008_eq23\", P=5)"
   ]
  }
 ],
 "metadata": {
  "kernelspec": {
   "display_name": "Python 3",
   "language": "python",
   "name": "python3"
  },
  "language_info": {
   "codemirror_mode": {
    "name": "ipython",
    "version": 3
   },
   "file_extension": ".py",
   "mimetype": "text/x-python",
   "name": "python",
   "nbconvert_exporter": "python",
   "pygments_lexer": "ipython3",
   "version": "3.8.5"
  }
 },
 "nbformat": 4,
 "nbformat_minor": 5
}
