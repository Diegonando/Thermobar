{
 "cells": [
  {
   "cell_type": "code",
   "execution_count": 1,
   "id": "d74fa112-c673-4162-8ea5-d7d88ee27228",
   "metadata": {},
   "outputs": [],
   "source": [
    "import numpy as np\n",
    "import pandas as pd\n",
    "import matplotlib.pyplot as plt\n",
    "from sklearn.preprocessing import StandardScaler\n",
    "from sklearn.ensemble import ExtraTreesRegressor\n",
    "from sklearn.metrics import mean_squared_error \n",
    "from sklearn.metrics import r2_score\n",
    "import scipy.cluster.hierarchy as shc\n",
    "from sklearn.cluster import AgglomerativeClustering\n",
    "from sklearn.model_selection import cross_val_score\n",
    "from sklearn.model_selection import RepeatedStratifiedKFold\n",
    "from sklearn.ensemble import ExtraTreesClassifier\n",
    "from sklearn.ensemble import GradientBoostingRegressor\n",
    "\n",
    "%matplotlib inline\n",
    "from sklearn.linear_model import LinearRegression\n",
    "from sklearn.metrics import r2_score\n",
    "from statsmodels.stats.multicomp import pairwise_tukeyhsd\n",
    "from scipy import stats\n",
    "import warnings as w\n",
    "import sys\n",
    "sys.path.append(\"../../..\")\n",
    "import Thermobar as pt"
   ]
  },
  {
   "cell_type": "code",
   "execution_count": 2,
   "id": "cdfcc0df-8f41-4002-bfdd-b23725dd483f",
   "metadata": {},
   "outputs": [],
   "source": [
    "out_train=pt.import_excel('GlobalDataset_Final_rev9_TrainValidation.xlsx',\n",
    "                          sheet_name='Train_Thermobar_Format')\n",
    "out_train_input=out_train['my_input']\n",
    "Cpx_train=out_train['Cpxs']\n",
    "Cpx_train_noID_noT=Cpx_train.drop(['Sample_ID_Cpx'], axis=1)\n",
    "x_train=Cpx_train_noID_noT.values\n",
    "y_train_T=out_train_input['T_K']\n",
    "y_train_P=out_train_input['P_GPa']*10"
   ]
  },
  {
   "cell_type": "code",
   "execution_count": 3,
   "id": "f21ed888-6287-4e42-acd3-0e9e8027403b",
   "metadata": {},
   "outputs": [
    {
     "data": {
      "text/html": [
       "<div>\n",
       "<style scoped>\n",
       "    .dataframe tbody tr th:only-of-type {\n",
       "        vertical-align: middle;\n",
       "    }\n",
       "\n",
       "    .dataframe tbody tr th {\n",
       "        vertical-align: top;\n",
       "    }\n",
       "\n",
       "    .dataframe thead th {\n",
       "        text-align: right;\n",
       "    }\n",
       "</style>\n",
       "<table border=\"1\" class=\"dataframe\">\n",
       "  <thead>\n",
       "    <tr style=\"text-align: right;\">\n",
       "      <th></th>\n",
       "      <th>SiO2_Cpx</th>\n",
       "      <th>TiO2_Cpx</th>\n",
       "      <th>Al2O3_Cpx</th>\n",
       "      <th>FeOt_Cpx</th>\n",
       "      <th>MnO_Cpx</th>\n",
       "      <th>MgO_Cpx</th>\n",
       "      <th>CaO_Cpx</th>\n",
       "      <th>Na2O_Cpx</th>\n",
       "      <th>K2O_Cpx</th>\n",
       "      <th>Cr2O3_Cpx</th>\n",
       "      <th>Sample_ID_Cpx</th>\n",
       "    </tr>\n",
       "  </thead>\n",
       "  <tbody>\n",
       "    <tr>\n",
       "      <th>0</th>\n",
       "      <td>50.42</td>\n",
       "      <td>0.62</td>\n",
       "      <td>6.72</td>\n",
       "      <td>7.21</td>\n",
       "      <td>0.19</td>\n",
       "      <td>15.55</td>\n",
       "      <td>17.27</td>\n",
       "      <td>0.61</td>\n",
       "      <td>0.01</td>\n",
       "      <td>0.0</td>\n",
       "      <td>0</td>\n",
       "    </tr>\n",
       "    <tr>\n",
       "      <th>1</th>\n",
       "      <td>51.14</td>\n",
       "      <td>0.61</td>\n",
       "      <td>5.31</td>\n",
       "      <td>7.68</td>\n",
       "      <td>0.15</td>\n",
       "      <td>16.36</td>\n",
       "      <td>16.34</td>\n",
       "      <td>0.81</td>\n",
       "      <td>0.04</td>\n",
       "      <td>0.0</td>\n",
       "      <td>1</td>\n",
       "    </tr>\n",
       "    <tr>\n",
       "      <th>2</th>\n",
       "      <td>47.40</td>\n",
       "      <td>2.51</td>\n",
       "      <td>3.62</td>\n",
       "      <td>13.83</td>\n",
       "      <td>1.78</td>\n",
       "      <td>8.13</td>\n",
       "      <td>16.40</td>\n",
       "      <td>4.37</td>\n",
       "      <td>0.04</td>\n",
       "      <td>0.0</td>\n",
       "      <td>2</td>\n",
       "    </tr>\n",
       "    <tr>\n",
       "      <th>3</th>\n",
       "      <td>46.10</td>\n",
       "      <td>4.23</td>\n",
       "      <td>3.78</td>\n",
       "      <td>18.91</td>\n",
       "      <td>1.79</td>\n",
       "      <td>3.92</td>\n",
       "      <td>16.72</td>\n",
       "      <td>3.77</td>\n",
       "      <td>0.03</td>\n",
       "      <td>0.0</td>\n",
       "      <td>3</td>\n",
       "    </tr>\n",
       "    <tr>\n",
       "      <th>4</th>\n",
       "      <td>49.90</td>\n",
       "      <td>1.30</td>\n",
       "      <td>3.21</td>\n",
       "      <td>8.80</td>\n",
       "      <td>0.88</td>\n",
       "      <td>12.80</td>\n",
       "      <td>21.30</td>\n",
       "      <td>1.73</td>\n",
       "      <td>0.00</td>\n",
       "      <td>0.0</td>\n",
       "      <td>4</td>\n",
       "    </tr>\n",
       "    <tr>\n",
       "      <th>...</th>\n",
       "      <td>...</td>\n",
       "      <td>...</td>\n",
       "      <td>...</td>\n",
       "      <td>...</td>\n",
       "      <td>...</td>\n",
       "      <td>...</td>\n",
       "      <td>...</td>\n",
       "      <td>...</td>\n",
       "      <td>...</td>\n",
       "      <td>...</td>\n",
       "      <td>...</td>\n",
       "    </tr>\n",
       "    <tr>\n",
       "      <th>845</th>\n",
       "      <td>51.50</td>\n",
       "      <td>1.17</td>\n",
       "      <td>2.57</td>\n",
       "      <td>9.16</td>\n",
       "      <td>0.18</td>\n",
       "      <td>15.90</td>\n",
       "      <td>18.90</td>\n",
       "      <td>0.25</td>\n",
       "      <td>0.00</td>\n",
       "      <td>0.0</td>\n",
       "      <td>845</td>\n",
       "    </tr>\n",
       "    <tr>\n",
       "      <th>846</th>\n",
       "      <td>51.40</td>\n",
       "      <td>1.36</td>\n",
       "      <td>2.05</td>\n",
       "      <td>9.92</td>\n",
       "      <td>0.19</td>\n",
       "      <td>15.60</td>\n",
       "      <td>18.40</td>\n",
       "      <td>0.26</td>\n",
       "      <td>0.00</td>\n",
       "      <td>0.0</td>\n",
       "      <td>846</td>\n",
       "    </tr>\n",
       "    <tr>\n",
       "      <th>847</th>\n",
       "      <td>52.50</td>\n",
       "      <td>0.74</td>\n",
       "      <td>2.47</td>\n",
       "      <td>6.59</td>\n",
       "      <td>0.17</td>\n",
       "      <td>16.90</td>\n",
       "      <td>19.90</td>\n",
       "      <td>0.21</td>\n",
       "      <td>0.00</td>\n",
       "      <td>0.0</td>\n",
       "      <td>847</td>\n",
       "    </tr>\n",
       "    <tr>\n",
       "      <th>848</th>\n",
       "      <td>51.70</td>\n",
       "      <td>1.10</td>\n",
       "      <td>2.84</td>\n",
       "      <td>7.29</td>\n",
       "      <td>0.13</td>\n",
       "      <td>15.70</td>\n",
       "      <td>20.60</td>\n",
       "      <td>0.28</td>\n",
       "      <td>0.00</td>\n",
       "      <td>0.0</td>\n",
       "      <td>848</td>\n",
       "    </tr>\n",
       "    <tr>\n",
       "      <th>849</th>\n",
       "      <td>51.00</td>\n",
       "      <td>1.27</td>\n",
       "      <td>3.14</td>\n",
       "      <td>9.70</td>\n",
       "      <td>0.24</td>\n",
       "      <td>15.20</td>\n",
       "      <td>18.00</td>\n",
       "      <td>0.31</td>\n",
       "      <td>0.00</td>\n",
       "      <td>0.0</td>\n",
       "      <td>849</td>\n",
       "    </tr>\n",
       "  </tbody>\n",
       "</table>\n",
       "<p>850 rows × 11 columns</p>\n",
       "</div>"
      ],
      "text/plain": [
       "     SiO2_Cpx  TiO2_Cpx  Al2O3_Cpx  FeOt_Cpx  MnO_Cpx  MgO_Cpx  CaO_Cpx  \\\n",
       "0       50.42      0.62       6.72      7.21     0.19    15.55    17.27   \n",
       "1       51.14      0.61       5.31      7.68     0.15    16.36    16.34   \n",
       "2       47.40      2.51       3.62     13.83     1.78     8.13    16.40   \n",
       "3       46.10      4.23       3.78     18.91     1.79     3.92    16.72   \n",
       "4       49.90      1.30       3.21      8.80     0.88    12.80    21.30   \n",
       "..        ...       ...        ...       ...      ...      ...      ...   \n",
       "845     51.50      1.17       2.57      9.16     0.18    15.90    18.90   \n",
       "846     51.40      1.36       2.05      9.92     0.19    15.60    18.40   \n",
       "847     52.50      0.74       2.47      6.59     0.17    16.90    19.90   \n",
       "848     51.70      1.10       2.84      7.29     0.13    15.70    20.60   \n",
       "849     51.00      1.27       3.14      9.70     0.24    15.20    18.00   \n",
       "\n",
       "     Na2O_Cpx  K2O_Cpx  Cr2O3_Cpx  Sample_ID_Cpx  \n",
       "0        0.61     0.01        0.0              0  \n",
       "1        0.81     0.04        0.0              1  \n",
       "2        4.37     0.04        0.0              2  \n",
       "3        3.77     0.03        0.0              3  \n",
       "4        1.73     0.00        0.0              4  \n",
       "..        ...      ...        ...            ...  \n",
       "845      0.25     0.00        0.0            845  \n",
       "846      0.26     0.00        0.0            846  \n",
       "847      0.21     0.00        0.0            847  \n",
       "848      0.28     0.00        0.0            848  \n",
       "849      0.31     0.00        0.0            849  \n",
       "\n",
       "[850 rows x 11 columns]"
      ]
     },
     "execution_count": 3,
     "metadata": {},
     "output_type": "execute_result"
    }
   ],
   "source": [
    "Cpx_train"
   ]
  },
  {
   "cell_type": "code",
   "execution_count": 4,
   "id": "a5c74e5c-a1a2-482a-b278-d552e08c4922",
   "metadata": {},
   "outputs": [],
   "source": [
    "## Test dataset\n",
    "out_test=pt.import_excel('GlobalDataset_Final_rev9_TrainValidation.xlsx',\n",
    "                          sheet_name='Test_Thermobar_Format')\n",
    "\n",
    "out_test_input=out_test['my_input']\n",
    "Cpx_test=out_test['Cpxs']\n",
    "Cpx_test_noID_noT=Cpx_test.drop(['Sample_ID_Cpx'], axis=1)\n",
    "x_test=Cpx_test_noID_noT.values\n",
    "y_test_T=out_test_input['T_K']\n",
    "y_test_P=out_test_input['P_GPa']*10"
   ]
  },
  {
   "cell_type": "code",
   "execution_count": 5,
   "id": "f5a24961-0476-4551-b505-ceb8e558d1c4",
   "metadata": {},
   "outputs": [
    {
     "data": {
      "text/html": [
       "<div>\n",
       "<style scoped>\n",
       "    .dataframe tbody tr th:only-of-type {\n",
       "        vertical-align: middle;\n",
       "    }\n",
       "\n",
       "    .dataframe tbody tr th {\n",
       "        vertical-align: top;\n",
       "    }\n",
       "\n",
       "    .dataframe thead th {\n",
       "        text-align: right;\n",
       "    }\n",
       "</style>\n",
       "<table border=\"1\" class=\"dataframe\">\n",
       "  <thead>\n",
       "    <tr style=\"text-align: right;\">\n",
       "      <th></th>\n",
       "      <th>SiO2_Cpx</th>\n",
       "      <th>TiO2_Cpx</th>\n",
       "      <th>Al2O3_Cpx</th>\n",
       "      <th>FeOt_Cpx</th>\n",
       "      <th>MnO_Cpx</th>\n",
       "      <th>MgO_Cpx</th>\n",
       "      <th>CaO_Cpx</th>\n",
       "      <th>Na2O_Cpx</th>\n",
       "      <th>K2O_Cpx</th>\n",
       "      <th>Cr2O3_Cpx</th>\n",
       "      <th>Sample_ID_Cpx</th>\n",
       "    </tr>\n",
       "  </thead>\n",
       "  <tbody>\n",
       "    <tr>\n",
       "      <th>0</th>\n",
       "      <td>50.30</td>\n",
       "      <td>1.38</td>\n",
       "      <td>2.25</td>\n",
       "      <td>12.90</td>\n",
       "      <td>1.04</td>\n",
       "      <td>10.10</td>\n",
       "      <td>20.40</td>\n",
       "      <td>1.66</td>\n",
       "      <td>0.0</td>\n",
       "      <td>0.00</td>\n",
       "      <td>0</td>\n",
       "    </tr>\n",
       "    <tr>\n",
       "      <th>1</th>\n",
       "      <td>50.50</td>\n",
       "      <td>1.00</td>\n",
       "      <td>1.65</td>\n",
       "      <td>13.10</td>\n",
       "      <td>1.11</td>\n",
       "      <td>10.70</td>\n",
       "      <td>21.30</td>\n",
       "      <td>0.71</td>\n",
       "      <td>0.0</td>\n",
       "      <td>0.00</td>\n",
       "      <td>1</td>\n",
       "    </tr>\n",
       "    <tr>\n",
       "      <th>2</th>\n",
       "      <td>50.60</td>\n",
       "      <td>0.96</td>\n",
       "      <td>2.13</td>\n",
       "      <td>14.90</td>\n",
       "      <td>1.30</td>\n",
       "      <td>7.20</td>\n",
       "      <td>19.90</td>\n",
       "      <td>1.70</td>\n",
       "      <td>0.3</td>\n",
       "      <td>0.00</td>\n",
       "      <td>2</td>\n",
       "    </tr>\n",
       "    <tr>\n",
       "      <th>3</th>\n",
       "      <td>48.60</td>\n",
       "      <td>0.89</td>\n",
       "      <td>9.06</td>\n",
       "      <td>7.61</td>\n",
       "      <td>0.20</td>\n",
       "      <td>14.80</td>\n",
       "      <td>18.30</td>\n",
       "      <td>0.59</td>\n",
       "      <td>0.0</td>\n",
       "      <td>0.11</td>\n",
       "      <td>3</td>\n",
       "    </tr>\n",
       "    <tr>\n",
       "      <th>4</th>\n",
       "      <td>48.10</td>\n",
       "      <td>1.03</td>\n",
       "      <td>9.28</td>\n",
       "      <td>8.23</td>\n",
       "      <td>0.20</td>\n",
       "      <td>14.40</td>\n",
       "      <td>18.10</td>\n",
       "      <td>0.65</td>\n",
       "      <td>0.0</td>\n",
       "      <td>0.12</td>\n",
       "      <td>4</td>\n",
       "    </tr>\n",
       "    <tr>\n",
       "      <th>...</th>\n",
       "      <td>...</td>\n",
       "      <td>...</td>\n",
       "      <td>...</td>\n",
       "      <td>...</td>\n",
       "      <td>...</td>\n",
       "      <td>...</td>\n",
       "      <td>...</td>\n",
       "      <td>...</td>\n",
       "      <td>...</td>\n",
       "      <td>...</td>\n",
       "      <td>...</td>\n",
       "    </tr>\n",
       "    <tr>\n",
       "      <th>114</th>\n",
       "      <td>54.20</td>\n",
       "      <td>0.31</td>\n",
       "      <td>1.98</td>\n",
       "      <td>11.40</td>\n",
       "      <td>0.00</td>\n",
       "      <td>16.60</td>\n",
       "      <td>16.90</td>\n",
       "      <td>0.33</td>\n",
       "      <td>0.0</td>\n",
       "      <td>0.00</td>\n",
       "      <td>114</td>\n",
       "    </tr>\n",
       "    <tr>\n",
       "      <th>115</th>\n",
       "      <td>55.60</td>\n",
       "      <td>0.19</td>\n",
       "      <td>2.13</td>\n",
       "      <td>13.80</td>\n",
       "      <td>0.00</td>\n",
       "      <td>26.30</td>\n",
       "      <td>4.23</td>\n",
       "      <td>0.07</td>\n",
       "      <td>0.0</td>\n",
       "      <td>0.00</td>\n",
       "      <td>115</td>\n",
       "    </tr>\n",
       "    <tr>\n",
       "      <th>116</th>\n",
       "      <td>50.80</td>\n",
       "      <td>0.10</td>\n",
       "      <td>2.60</td>\n",
       "      <td>12.30</td>\n",
       "      <td>0.00</td>\n",
       "      <td>11.70</td>\n",
       "      <td>21.70</td>\n",
       "      <td>0.80</td>\n",
       "      <td>0.0</td>\n",
       "      <td>0.00</td>\n",
       "      <td>116</td>\n",
       "    </tr>\n",
       "    <tr>\n",
       "      <th>117</th>\n",
       "      <td>49.53</td>\n",
       "      <td>0.53</td>\n",
       "      <td>11.83</td>\n",
       "      <td>6.01</td>\n",
       "      <td>0.00</td>\n",
       "      <td>12.89</td>\n",
       "      <td>16.67</td>\n",
       "      <td>2.02</td>\n",
       "      <td>0.0</td>\n",
       "      <td>0.00</td>\n",
       "      <td>117</td>\n",
       "    </tr>\n",
       "    <tr>\n",
       "      <th>118</th>\n",
       "      <td>49.53</td>\n",
       "      <td>0.53</td>\n",
       "      <td>11.83</td>\n",
       "      <td>6.01</td>\n",
       "      <td>0.00</td>\n",
       "      <td>12.89</td>\n",
       "      <td>16.67</td>\n",
       "      <td>2.02</td>\n",
       "      <td>0.0</td>\n",
       "      <td>0.00</td>\n",
       "      <td>118</td>\n",
       "    </tr>\n",
       "  </tbody>\n",
       "</table>\n",
       "<p>119 rows × 11 columns</p>\n",
       "</div>"
      ],
      "text/plain": [
       "     SiO2_Cpx  TiO2_Cpx  Al2O3_Cpx  FeOt_Cpx  MnO_Cpx  MgO_Cpx  CaO_Cpx  \\\n",
       "0       50.30      1.38       2.25     12.90     1.04    10.10    20.40   \n",
       "1       50.50      1.00       1.65     13.10     1.11    10.70    21.30   \n",
       "2       50.60      0.96       2.13     14.90     1.30     7.20    19.90   \n",
       "3       48.60      0.89       9.06      7.61     0.20    14.80    18.30   \n",
       "4       48.10      1.03       9.28      8.23     0.20    14.40    18.10   \n",
       "..        ...       ...        ...       ...      ...      ...      ...   \n",
       "114     54.20      0.31       1.98     11.40     0.00    16.60    16.90   \n",
       "115     55.60      0.19       2.13     13.80     0.00    26.30     4.23   \n",
       "116     50.80      0.10       2.60     12.30     0.00    11.70    21.70   \n",
       "117     49.53      0.53      11.83      6.01     0.00    12.89    16.67   \n",
       "118     49.53      0.53      11.83      6.01     0.00    12.89    16.67   \n",
       "\n",
       "     Na2O_Cpx  K2O_Cpx  Cr2O3_Cpx  Sample_ID_Cpx  \n",
       "0        1.66      0.0       0.00              0  \n",
       "1        0.71      0.0       0.00              1  \n",
       "2        1.70      0.3       0.00              2  \n",
       "3        0.59      0.0       0.11              3  \n",
       "4        0.65      0.0       0.12              4  \n",
       "..        ...      ...        ...            ...  \n",
       "114      0.33      0.0       0.00            114  \n",
       "115      0.07      0.0       0.00            115  \n",
       "116      0.80      0.0       0.00            116  \n",
       "117      2.02      0.0       0.00            117  \n",
       "118      2.02      0.0       0.00            118  \n",
       "\n",
       "[119 rows x 11 columns]"
      ]
     },
     "execution_count": 5,
     "metadata": {},
     "output_type": "execute_result"
    }
   ],
   "source": [
    "Cpx_test"
   ]
  },
  {
   "cell_type": "code",
   "execution_count": 6,
   "id": "c19a56bc-6ed7-46ad-bfff-df81c3754e66",
   "metadata": {},
   "outputs": [
    {
     "name": "stderr",
     "output_type": "stream",
     "text": [
      "C:\\Users\\penny\\anaconda3\\lib\\site-packages\\sklearn\\ensemble\\_forest.py:396: FutureWarning: Criterion 'mse' was deprecated in v1.0 and will be removed in version 1.2. Use `criterion='squared_error'` which is equivalent.\n",
      "  warn(\n",
      "C:\\Users\\penny\\anaconda3\\lib\\site-packages\\sklearn\\ensemble\\_forest.py:396: FutureWarning: Criterion 'mse' was deprecated in v1.0 and will be removed in version 1.2. Use `criterion='squared_error'` which is equivalent.\n",
      "  warn(\n"
     ]
    }
   ],
   "source": [
    "# Scaling\n",
    "scaler = StandardScaler().fit(x_train)\n",
    "x_train_scaled = scaler.transform(x_train)\n",
    "\n",
    "# Define the regressor, in our case the Extra Tree Regressor\n",
    "# Using the parameters from Petrelli supplement for P. Don't actually present a regression for T, \n",
    "# but we add it here.\n",
    "regr_T = ExtraTreesRegressor(n_estimators=450, criterion='mse', max_features=10, \n",
    "                             random_state=120) # random_state fixed for reproducibility\n",
    "\n",
    "# Define the regressor, in our case the Extra Tree Regressor\n",
    "regr_P = ExtraTreesRegressor(n_estimators=450, criterion='mse', max_features=10, \n",
    "                             random_state=120) # random_state fixed for reproducibility\n",
    "\n",
    "# Train the model\n",
    "regr_T.fit(x_train_scaled, y_train_T.ravel())\n",
    "regr_P.fit(x_train_scaled, y_train_P.ravel())\n",
    "\n",
    "x_test_scaled=scaler.transform(x_test)"
   ]
  },
  {
   "cell_type": "code",
   "execution_count": null,
   "id": "22390ea3-50fc-4e43-bf8b-957ede1f6ff2",
   "metadata": {},
   "outputs": [],
   "source": []
  },
  {
   "cell_type": "markdown",
   "id": "9707dcf8-b628-4139-abf1-8a594c749657",
   "metadata": {},
   "source": [
    "## Predicting the test data for temp"
   ]
  },
  {
   "cell_type": "code",
   "execution_count": 7,
   "id": "04772250-07a7-4e27-93fe-7b2ca0a5d223",
   "metadata": {},
   "outputs": [
    {
     "data": {
      "text/plain": [
       "'RMSE= 95.9406'"
      ]
     },
     "execution_count": 7,
     "metadata": {},
     "output_type": "execute_result"
    },
    {
     "data": {
      "image/png": "[encoded data removed]",
      "text/plain": [
       "<Figure size 432x288 with 1 Axes>"
      ]
     },
     "metadata": {
      "needs_background": "light"
     },
     "output_type": "display_data"
    }
   ],
   "source": [
    "predicted_T=regr_T.predict(x_test_scaled)\n",
    "plt.plot( y_test_T, predicted_T, 'ok', mfc='darkred')\n",
    "plt.plot([1100, 1800], [1100, 1800], '-r')\n",
    "Stats_T=pt.calculate_R2_np(y_test_T.values, predicted_T)\n",
    "Stats_T['R2']\n",
    "Stats_T['RMSE']"
   ]
  },
  {
   "cell_type": "markdown",
   "id": "2e576515-9616-460a-bc32-c4dcaf3c1f03",
   "metadata": {},
   "source": [
    "## Predicting the test data for Press"
   ]
  },
  {
   "cell_type": "code",
   "execution_count": 8,
   "id": "57e58035-a377-4d1f-b2ea-3636204389ad",
   "metadata": {},
   "outputs": [
    {
     "data": {
      "text/plain": [
       "'RMSE= 3.11113'"
      ]
     },
     "execution_count": 8,
     "metadata": {},
     "output_type": "execute_result"
    },
    {
     "data": {
      "image/png": "[encoded data removed]",
      "text/plain": [
       "<Figure size 432x288 with 1 Axes>"
      ]
     },
     "metadata": {
      "needs_background": "light"
     },
     "output_type": "display_data"
    }
   ],
   "source": [
    "predicted_P=regr_P.predict(x_test_scaled)\n",
    "plt.plot( y_test_P, predicted_P, 'ok', mfc='darkred')\n",
    "plt.plot([0, 30], [0, 30], '-r')\n",
    "Stats_P=pt.calculate_R2_np(y_test_P.values, predicted_P)\n",
    "Stats_P['R2']\n",
    "Stats_P['RMSE']"
   ]
  },
  {
   "cell_type": "code",
   "execution_count": 9,
   "id": "cc343a2e-3152-4d1b-8e60-85984a72b85c",
   "metadata": {},
   "outputs": [
    {
     "data": {
      "text/plain": [
       "0       2.0\n",
       "1       2.0\n",
       "2       2.0\n",
       "3       9.0\n",
       "4       9.0\n",
       "       ... \n",
       "114     5.0\n",
       "115     5.0\n",
       "116     5.0\n",
       "117    30.0\n",
       "118    30.0\n",
       "Name: P_GPa, Length: 119, dtype: float64"
      ]
     },
     "execution_count": 9,
     "metadata": {},
     "output_type": "execute_result"
    }
   ],
   "source": [
    "y_test_P"
   ]
  },
  {
   "cell_type": "code",
   "execution_count": 10,
   "id": "4358a03c-fe7a-4eed-83d4-884bc1713b02",
   "metadata": {},
   "outputs": [
    {
     "name": "stdout",
     "output_type": "stream",
     "text": [
      "R20.95\n",
      "RMSE= 3.11113\n"
     ]
    }
   ],
   "source": [
    "Stats_P=pt.calculate_R2_np(y_test_P.values, predicted_P)\n",
    "print(Stats_P['R2'])\n",
    "print(Stats_P['RMSE'])"
   ]
  },
  {
   "cell_type": "code",
   "execution_count": 11,
   "id": "c6550429-c979-4ef9-a880-1da1ff857e2c",
   "metadata": {},
   "outputs": [
    {
     "name": "stdout",
     "output_type": "stream",
     "text": [
      "R20.59\n",
      "RMSE= 1.90889\n"
     ]
    },
    {
     "data": {
      "text/plain": [
       "(0.0, 15.0)"
      ]
     },
     "execution_count": 11,
     "metadata": {},
     "output_type": "execute_result"
    },
    {
     "data": {
      "image/png": "[encoded data removed]",
      "text/plain": [
       "<Figure size 432x288 with 1 Axes>"
      ]
     },
     "metadata": {
      "needs_background": "light"
     },
     "output_type": "display_data"
    }
   ],
   "source": [
    "predicted_P=regr_P.predict(x_test_scaled)\n",
    "plt.plot( y_test_P, predicted_P, 'ok', mfc='darkred')\n",
    "plt.plot([0, 30], [0, 30], '-r')\n",
    "lowP=y_test_P<15\n",
    "Stats_P=pt.calculate_R2_np(y_test_P.loc[lowP].values, predicted_P[lowP])\n",
    "print(Stats_P['R2'])\n",
    "print(Stats_P['RMSE'])\n",
    "plt.xlim([0, 15])\n",
    "plt.ylim([0, 15])"
   ]
  },
  {
   "attachments": {
    "a7ca4528-c066-4b8d-ba91-6a1c3d3be3c4.png": {
     "image/png": "[encoded data removed]"
    }
   },
   "cell_type": "markdown",
   "id": "62d18976-2db3-44c0-8840-3c98db718581",
   "metadata": {},
   "source": [
    "![image.png](attachment:a7ca4528-c066-4b8d-ba91-6a1c3d3be3c4.png)"
   ]
  },
  {
   "cell_type": "code",
   "execution_count": 12,
   "id": "8a0b0be9-47f2-4d7c-93cd-a36a3aa41b38",
   "metadata": {},
   "outputs": [
    {
     "data": {
      "text/plain": [
       "StandardScaler()"
      ]
     },
     "execution_count": 12,
     "metadata": {},
     "output_type": "execute_result"
    }
   ],
   "source": [
    "scaler"
   ]
  },
  {
   "cell_type": "code",
   "execution_count": 13,
   "id": "06a59b9f-7394-4e7f-b5bc-fdf7611ab2ce",
   "metadata": {},
   "outputs": [],
   "source": []
  },
  {
   "cell_type": "code",
   "execution_count": 14,
   "id": "22658b61-cdd8-40bf-958d-602b7483861e",
   "metadata": {},
   "outputs": [
    {
     "data": {
      "text/plain": [
       "['ETR_Press_Petrelli2020_Cpx_Only_Jan22.pkl']"
      ]
     },
     "execution_count": 14,
     "metadata": {},
     "output_type": "execute_result"
    }
   ],
   "source": []
  },
  {
   "cell_type": "code",
   "execution_count": 15,
   "id": "dc88331a-b1cc-4ad4-a93d-7ed043fac66d",
   "metadata": {},
   "outputs": [
    {
     "data": {
      "text/plain": [
       "['ETR_Temp_Petrelli2020_Cpx_Only_Jan22.pkl']"
      ]
     },
     "execution_count": 15,
     "metadata": {},
     "output_type": "execute_result"
    }
   ],
   "source": []
  }
 ],
 "metadata": {
  "kernelspec": {
   "display_name": "Python 3",
   "language": "python",
   "name": "python3"
  },
  "language_info": {
   "codemirror_mode": {
    "name": "ipython",
    "version": 3
   },
   "file_extension": ".py",
   "mimetype": "text/x-python",
   "name": "python",
   "nbconvert_exporter": "python",
   "pygments_lexer": "ipython3",
   "version": "3.8.12"
  }
 },
 "nbformat": 4,
 "nbformat_minor": 5
}
