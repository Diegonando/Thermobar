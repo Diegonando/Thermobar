{
 "cells": [
  {
   "cell_type": "markdown",
   "id": "738da498-508a-444e-ba20-ae874a5cf20d",
   "metadata": {},
   "source": [
    "## This notebook calibrates the Cpx-Liq machine learning barometer used by Thermobar in the onnx framework\n",
    "- We follow Petrelli, where a different random state is used for pressure and temperature\n",
    "- Here, we use sklearn pipelines which we save to onnx"
   ]
  },
  {
   "cell_type": "code",
   "execution_count": 1,
   "id": "851aa696-2f16-402c-ae61-9d097e75acdd",
   "metadata": {},
   "outputs": [],
   "source": [
    "import numpy as np\n",
    "import pandas as pd\n",
    "import matplotlib.pyplot as plt\n",
    "from sklearn.preprocessing import StandardScaler\n",
    "from sklearn.ensemble import ExtraTreesRegressor\n",
    "from sklearn.metrics import mean_squared_error \n",
    "from sklearn.metrics import r2_score\n",
    "import scipy.cluster.hierarchy as shc\n",
    "from sklearn.cluster import AgglomerativeClustering\n",
    "from sklearn.model_selection import cross_val_score\n",
    "from sklearn.model_selection import RepeatedStratifiedKFold\n",
    "from sklearn.ensemble import ExtraTreesClassifier\n",
    "from sklearn.ensemble import GradientBoostingRegressor\n",
    "\n",
    "%matplotlib inline\n",
    "from sklearn.linear_model import LinearRegression\n",
    "from sklearn.metrics import r2_score\n",
    "from statsmodels.stats.multicomp import pairwise_tukeyhsd\n",
    "from scipy import stats\n",
    "import warnings as w\n",
    "import sys\n",
    "sys.path.append(\"../../..\")\n",
    "import Thermobar as pt"
   ]
  },
  {
   "cell_type": "code",
   "execution_count": 2,
   "id": "cdfcc0df-8f41-4002-bfdd-b23725dd483f",
   "metadata": {},
   "outputs": [],
   "source": [
    "out_train=pt.import_excel('GlobalDataset_Final_rev9_TrainValidation.xlsx',\n",
    "                          sheet_name='Train_Thermobar_Format')\n",
    "out_train_input=out_train['my_input']\n",
    "Cpx_train=out_train['Cpxs']\n",
    "Liq_train=out_train['Liqs']\n",
    "Cpx_train_noID_noT=Cpx_train.drop(['Sample_ID_Cpx'], axis=1)\n",
    "Liq_train_noID_noT=Liq_train.drop(['Sample_ID_Liq', 'Fe3Fet_Liq', 'NiO_Liq', 'CoO_Liq', 'CO2_Liq'], axis=1)\n",
    "Cpx_Liq_Combo_train=pd.concat([Liq_train_noID_noT, Cpx_train_noID_noT], axis=1)\n",
    "x_train=Cpx_Liq_Combo_train.values\n",
    "y_train_T=out_train_input['T_K']\n",
    "y_train_P=out_train_input['P_GPa']*10"
   ]
  },
  {
   "cell_type": "code",
   "execution_count": 3,
   "id": "a5c74e5c-a1a2-482a-b278-d552e08c4922",
   "metadata": {},
   "outputs": [],
   "source": [
    "## Test dataset\n",
    "out_test=pt.import_excel('GlobalDataset_Final_rev9_TrainValidation.xlsx',\n",
    "                          sheet_name='Test_Thermobar_Format')\n",
    "out_test_input=out_test['my_input']\n",
    "Cpx_test=out_test['Cpxs']\n",
    "Liq_test=out_test['Liqs']\n",
    "Cpx_test_noID_noT=Cpx_test.drop(['Sample_ID_Cpx'], axis=1)\n",
    "Liq_test_noID_noT=Liq_test.drop(['Sample_ID_Liq', 'Fe3Fet_Liq', 'NiO_Liq', 'CoO_Liq', 'CO2_Liq'], axis=1)\n",
    "Cpx_Liq_Combo_test=pd.concat([Liq_test_noID_noT, Cpx_test_noID_noT], axis=1)\n",
    "x_test=Cpx_Liq_Combo_test.values\n",
    "y_test_T=out_test_input['T_K']\n",
    "y_test_P=out_test_input['P_GPa']*10"
   ]
  },
  {
   "cell_type": "markdown",
   "id": "fd4eb2a6-cea2-407b-a2ec-758fd67dfc4d",
   "metadata": {},
   "source": [
    "## Saving onnx model"
   ]
  },
  {
   "cell_type": "code",
   "execution_count": 5,
   "id": "f9d313b0-4789-49ea-bee8-bc36acd236da",
   "metadata": {},
   "outputs": [],
   "source": [
    "from skl2onnx import convert_sklearn\n",
    "from skl2onnx.common.data_types import FloatTensorType\n",
    "from sklearn.preprocessing import StandardScaler\n",
    "from sklearn.pipeline import Pipeline\n",
    "\n",
    "# Make pipeline\n",
    "regr_T = ExtraTreesRegressor(n_estimators=550, criterion='squared_error',\n",
    "                             max_features=22, random_state=280) \n",
    "\n",
    "pipe = Pipeline([\n",
    "    ('scalar', StandardScaler()),\n",
    "    ('regressor', regr_T)\n",
    "])\n",
    "\n",
    "rf_model =pipe.fit(x_train, y_train_T)\n",
    "\n",
    "\n",
    "initial_types=[('float_input', FloatTensorType([None, x_test.shape[1]]))]\n",
    "model_onnx = convert_sklearn(rf_model, initial_types=initial_types)\n",
    "\n",
    "with open(\"Petrelli2020_Cpx_Liq_Temp.onnx\", \"wb\") as f:\n",
    "    f.write(model_onnx.SerializeToString())\n",
    "      "
   ]
  }
 ],
 "metadata": {
  "kernelspec": {
   "display_name": "Python 3 (ipykernel)",
   "language": "python",
   "name": "python3"
  },
  "language_info": {
   "codemirror_mode": {
    "name": "ipython",
    "version": 3
   },
   "file_extension": ".py",
   "mimetype": "text/x-python",
   "name": "python",
   "nbconvert_exporter": "python",
   "pygments_lexer": "ipython3",
   "version": "3.8.12"
  }
 },
 "nbformat": 4,
 "nbformat_minor": 5
}
