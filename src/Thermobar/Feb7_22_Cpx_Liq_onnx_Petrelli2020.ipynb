{
 "cells": [
  {
   "cell_type": "markdown",
   "id": "738da498-508a-444e-ba20-ae874a5cf20d",
   "metadata": {},
   "source": [
    "## This notebook calibrates the Cpx-Liq machine learning barometr used by Thermobar. \n",
    "- We follow Petrelli, where a different random state is used for pressure and temperature\n",
    "- Here, we use sklearn pipelines which we save to onnx"
   ]
  },
  {
   "cell_type": "code",
   "execution_count": 12,
   "id": "851aa696-2f16-402c-ae61-9d097e75acdd",
   "metadata": {},
   "outputs": [],
   "source": [
    "import numpy as np\n",
    "import pandas as pd\n",
    "import matplotlib.pyplot as plt\n",
    "from sklearn.preprocessing import StandardScaler\n",
    "from sklearn.ensemble import ExtraTreesRegressor\n",
    "from sklearn.metrics import mean_squared_error \n",
    "from sklearn.metrics import r2_score\n",
    "import scipy.cluster.hierarchy as shc\n",
    "from sklearn.cluster import AgglomerativeClustering\n",
    "from sklearn.model_selection import cross_val_score\n",
    "from sklearn.model_selection import RepeatedStratifiedKFold\n",
    "from sklearn.ensemble import ExtraTreesClassifier\n",
    "from sklearn.ensemble import GradientBoostingRegressor\n",
    "\n",
    "%matplotlib inline\n",
    "from sklearn.linear_model import LinearRegression\n",
    "from sklearn.metrics import r2_score\n",
    "from statsmodels.stats.multicomp import pairwise_tukeyhsd\n",
    "from scipy import stats\n",
    "import warnings as w\n",
    "import sys\n",
    "sys.path.append(\"../../..\")\n",
    "import Thermobar as pt"
   ]
  },
  {
   "cell_type": "code",
   "execution_count": 13,
   "id": "cdfcc0df-8f41-4002-bfdd-b23725dd483f",
   "metadata": {},
   "outputs": [],
   "source": [
    "out_train=pt.import_excel('GlobalDataset_Final_rev9_TrainValidation.xlsx',\n",
    "                          sheet_name='Train_Thermobar_Format')\n",
    "out_train_input=out_train['my_input']\n",
    "Cpx_train=out_train['Cpxs']\n",
    "Liq_train=out_train['Liqs']\n",
    "Cpx_train_noID_noT=Cpx_train.drop(['Sample_ID_Cpx'], axis=1)\n",
    "Liq_train_noID_noT=Liq_train.drop(['Sample_ID_Liq', 'Fe3Fet_Liq', 'NiO_Liq', 'CoO_Liq', 'CO2_Liq'], axis=1)\n",
    "Cpx_Liq_Combo_train=pd.concat([Liq_train_noID_noT, Cpx_train_noID_noT], axis=1)\n",
    "x_train=Cpx_Liq_Combo_train.values\n",
    "y_train_T=out_train_input['T_K']\n",
    "y_train_P=out_train_input['P_GPa']*10"
   ]
  },
  {
   "cell_type": "code",
   "execution_count": 14,
   "id": "a5c74e5c-a1a2-482a-b278-d552e08c4922",
   "metadata": {},
   "outputs": [],
   "source": [
    "## Test dataset\n",
    "out_test=pt.import_excel('GlobalDataset_Final_rev9_TrainValidation.xlsx',\n",
    "                          sheet_name='Test_Thermobar_Format')\n",
    "out_test_input=out_test['my_input']\n",
    "Cpx_test=out_test['Cpxs']\n",
    "Liq_test=out_test['Liqs']\n",
    "Cpx_test_noID_noT=Cpx_test.drop(['Sample_ID_Cpx'], axis=1)\n",
    "Liq_test_noID_noT=Liq_test.drop(['Sample_ID_Liq', 'Fe3Fet_Liq', 'NiO_Liq', 'CoO_Liq', 'CO2_Liq'], axis=1)\n",
    "Cpx_Liq_Combo_test=pd.concat([Liq_test_noID_noT, Cpx_test_noID_noT], axis=1)\n",
    "x_test=Cpx_Liq_Combo_test.values\n",
    "y_test_T=out_test_input['T_K']\n",
    "y_test_P=out_test_input['P_GPa']*10"
   ]
  },
  {
   "cell_type": "markdown",
   "id": "fd4eb2a6-cea2-407b-a2ec-758fd67dfc4d",
   "metadata": {},
   "source": [
    "## Making a pipeline"
   ]
  },
  {
   "cell_type": "code",
   "execution_count": 15,
   "id": "da521ed7-1561-47cf-9b88-97202dbb58db",
   "metadata": {},
   "outputs": [],
   "source": [
    "from sklearn.preprocessing import StandardScaler\n",
    "from sklearn.pipeline import Pipeline\n",
    "\n",
    "regr_T = ExtraTreesRegressor(n_estimators=550, criterion='squared_error',\n",
    "                             max_features=22, random_state=280) \n",
    "\n",
    "pipe = Pipeline([\n",
    "    ('scalar', StandardScaler()),\n",
    "    ('regressor', regr_T)\n",
    "])\n",
    "\n",
    "rf_model =pipe.fit(x_train, y_train_T)\n"
   ]
  },
  {
   "cell_type": "code",
   "execution_count": 16,
   "id": "f9d313b0-4789-49ea-bee8-bc36acd236da",
   "metadata": {},
   "outputs": [],
   "source": [
    "# Maurizoi uses convert_sklearn\n",
    "from skl2onnx import convert_sklearn\n",
    "from skl2onnx.common.data_types import FloatTensorType\n",
    "\n",
    "initial_types=[('float_input', FloatTensorType([None, x_test.shape[1]]))]\n",
    "model_onnx = convert_sklearn(rf_model, initial_types=initial_types)\n",
    "\n",
    "with open(\"Petrelli2020_Cpx_Liq_Temp.onnx\", \"wb\") as f:\n",
    "    f.write(model_onnx.SerializeToString())\n",
    "    \n",
    "import onnxruntime as rt\n",
    "sess = rt.InferenceSession(\"Petrelli2020_Cpx_Liq_Temp.onnx\")\n",
    "input_name = sess.get_inputs()[0].name\n",
    "label_name = sess.get_outputs()[0].name\n",
    "pred_onx = sess.run([label_name], {input_name: x_test.astype(np.float32)})[0]    "
   ]
  },
  {
   "cell_type": "code",
   "execution_count": 17,
   "id": "4768cb1a-b42a-4561-8674-2e90ee8d3612",
   "metadata": {},
   "outputs": [],
   "source": [
    "#\n",
    "import onnxruntime as rt\n",
    "sess = rt.InferenceSession(\"Petrelli2020_Cpx_Liq_Temp.onnx\")\n",
    "input_name = sess.get_inputs()[0].name\n",
    "label_name = sess.get_outputs()[0].name\n",
    "pred_onx = sess.run([label_name], {input_name: x_test.astype(np.float32)})[0]\n"
   ]
  },
  {
   "cell_type": "markdown",
   "id": "de41d5ec-b49c-4538-8ac7-e1f3416594b7",
   "metadata": {},
   "source": [
    "## Old way - using Pickle"
   ]
  },
  {
   "cell_type": "code",
   "execution_count": 18,
   "id": "1c6da255-0b63-4777-9220-ce871100b431",
   "metadata": {},
   "outputs": [],
   "source": [
    "import joblib\n",
    "with open('ETR_Temp_Petrelli2020_Cpx_Liq.pkl', 'rb') as f:\n",
    "    ETR_Temp_P2020_Cpx_Liq=joblib.load(f)\n",
    "    # "
   ]
  },
  {
   "cell_type": "code",
   "execution_count": 19,
   "id": "77b739f1-c630-4228-ada6-b61a251d3bf1",
   "metadata": {},
   "outputs": [
    {
     "data": {
      "text/plain": [
       "array([[1373.15, 1373.15, 1333.15, ..., 1548.15, 1656.15, 1656.15],\n",
       "       [1433.15, 1433.15, 1433.15, ..., 1773.15, 1688.15, 1688.15],\n",
       "       [1258.15, 1258.15, 1258.15, ..., 1473.15, 1473.15, 1473.15],\n",
       "       ...,\n",
       "       [1423.15, 1540.15, 1573.15, ..., 1563.15, 1811.15, 1811.15],\n",
       "       [1573.15, 1573.15, 1573.15, ..., 1693.15, 1693.15, 1693.15],\n",
       "       [1394.15, 1394.15, 1394.15, ..., 1448.15, 1448.15, 1448.15]])"
      ]
     },
     "execution_count": 19,
     "metadata": {},
     "output_type": "execute_result"
    }
   ],
   "source": [
    "reg=ETR_Temp_P2020_Cpx_Liq\n",
    "for tree in reg.estimators_:\n",
    "    voting = []\n",
    "    for tree in reg.estimators_:\n",
    "        #print(tree)\n",
    "        voting.append(tree.predict(x_test).tolist())\n",
    "    voting = np.asarray(voting)\n",
    "voting "
   ]
  },
  {
   "cell_type": "code",
   "execution_count": 22,
   "id": "95bf60dc-faed-4bcb-ab11-4f76967f8da0",
   "metadata": {},
   "outputs": [],
   "source": [
    "import onnxruntime as rt\n",
    "\n",
    "sess = rt.InferenceSession(\"Pipeline_onnx_test.onnx\")\n",
    "input_name = sess.get_inputs()[0].name\n",
    "label_name = sess.get_outputs()[0].name\n",
    "pred_onx = sess.run([label_name], {input_name: x_test.astype(np.float32)})[0]\n"
   ]
  },
  {
   "cell_type": "code",
   "execution_count": 20,
   "id": "1d0310ef-a7d6-42e1-a409-754cd6008a89",
   "metadata": {},
   "outputs": [
    {
     "data": {
      "text/plain": [
       "<onnxruntime.capi.onnxruntime_inference_collection.InferenceSession at 0x2e33b18e760>"
      ]
     },
     "execution_count": 20,
     "metadata": {},
     "output_type": "execute_result"
    }
   ],
   "source": [
    "sess"
   ]
  },
  {
   "cell_type": "code",
   "execution_count": null,
   "id": "2f65045a-a704-4786-8334-382c03427d11",
   "metadata": {},
   "outputs": [],
   "source": []
  }
 ],
 "metadata": {
  "kernelspec": {
   "display_name": "Python 3",
   "language": "python",
   "name": "python3"
  },
  "language_info": {
   "codemirror_mode": {
    "name": "ipython",
    "version": 3
   },
   "file_extension": ".py",
   "mimetype": "text/x-python",
   "name": "python",
   "nbconvert_exporter": "python",
   "pygments_lexer": "ipython3",
   "version": "3.8.12"
  }
 },
 "nbformat": 4,
 "nbformat_minor": 5
}
