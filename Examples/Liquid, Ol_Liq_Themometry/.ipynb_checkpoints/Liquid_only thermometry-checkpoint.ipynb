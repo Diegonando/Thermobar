{
 "cells": [
  {
   "cell_type": "code",
   "execution_count": 1,
   "metadata": {},
   "outputs": [],
   "source": [
    "import numpy as np\n",
    "import pandas as pd\n",
    "import sys\n",
    "sys.path.append(\"../..\") # This finds the PT_Thermobar_V1 2 folders above. Remove if place in same folder\n",
    "import matplotlib.pyplot as plt\n",
    "import PT_Thermobar_V1 as pw"
   ]
  },
  {
   "cell_type": "markdown",
   "metadata": {},
   "source": [
    "# This is where you load in data. E.g., specify excel file, and the sheet name\n",
    "- Data should have the headings SiO2_Liq, TiO2_Liq etc. etc. The order of headings doesn't matter. \n",
    "- If you want to load in olivine compositions as well, you can put them in the same sheet, just with the headings SiO2_Ol, TiO2_Ol. at the moment, the code is designed so each olivine has a matching melt. e.g., \n",
    "row 1 - liquid1 comps - olivine1 comps\n",
    "row 2 - liquid2 comps - olivine2 comps"
   ]
  },
  {
   "cell_type": "code",
   "execution_count": 2,
   "metadata": {},
   "outputs": [
    {
     "name": "stdout",
     "output_type": "stream",
     "text": [
      "T_K and P_GPa from input have been appended onto the liquid output \n"
     ]
    }
   ],
   "source": [
    "out=pw.import_Excel_unknowns_New(r'../Python_OlLiq_Thermometers_Test.xlsx', sheetname=\"SM Tab4\")\n",
    "# All the outputs are stored in a dictioary \"out\" which searches for all possible minerals (e.g., ol, liq, cpx, plag, amp). \n",
    "#The ones you don't have will just be filled with zeros. Then, subsample the ones you want\n",
    "my_input=out['my_input']\n",
    "myOls1=out['Ols']\n",
    "myLiquids1=out['Liqs']"
   ]
  },
  {
   "cell_type": "code",
   "execution_count": 3,
   "metadata": {},
   "outputs": [],
   "source": [
    "# Inspect inputs to check you didn't have any funny column headings. E.g., check there are no zeros when you were expecting data"
   ]
  },
  {
   "cell_type": "code",
   "execution_count": 4,
   "metadata": {},
   "outputs": [
    {
     "data": {
      "text/html": [
       "<div>\n",
       "<style scoped>\n",
       "    .dataframe tbody tr th:only-of-type {\n",
       "        vertical-align: middle;\n",
       "    }\n",
       "\n",
       "    .dataframe tbody tr th {\n",
       "        vertical-align: top;\n",
       "    }\n",
       "\n",
       "    .dataframe thead th {\n",
       "        text-align: right;\n",
       "    }\n",
       "</style>\n",
       "<table border=\"1\" class=\"dataframe\">\n",
       "  <thead>\n",
       "    <tr style=\"text-align: right;\">\n",
       "      <th></th>\n",
       "      <th>SiO2_Liq</th>\n",
       "      <th>TiO2_Liq</th>\n",
       "      <th>Al2O3_Liq</th>\n",
       "      <th>FeOt_Liq</th>\n",
       "      <th>FeO_Liq</th>\n",
       "      <th>Fe2O3_Liq</th>\n",
       "      <th>MnO_Liq</th>\n",
       "      <th>MgO_Liq</th>\n",
       "      <th>CaO_Liq</th>\n",
       "      <th>Na2O_Liq</th>\n",
       "      <th>K2O_Liq</th>\n",
       "      <th>Cr2O3_Liq</th>\n",
       "      <th>P2O5_Liq</th>\n",
       "      <th>H2O_Liq</th>\n",
       "      <th>Fe3FeT_Liq</th>\n",
       "      <th>NiO_Liq</th>\n",
       "      <th>CoO_Liq</th>\n",
       "      <th>P_GPa</th>\n",
       "      <th>T_K</th>\n",
       "      <th>Sample_ID_Liq</th>\n",
       "    </tr>\n",
       "  </thead>\n",
       "  <tbody>\n",
       "    <tr>\n",
       "      <th>0</th>\n",
       "      <td>57.023602</td>\n",
       "      <td>0.623106</td>\n",
       "      <td>16.332899</td>\n",
       "      <td>4.36174</td>\n",
       "      <td>3.489392</td>\n",
       "      <td>0.0</td>\n",
       "      <td>0.103851</td>\n",
       "      <td>4.19180</td>\n",
       "      <td>6.94858</td>\n",
       "      <td>3.59702</td>\n",
       "      <td>0.896895</td>\n",
       "      <td>0.000000</td>\n",
       "      <td>0.226584</td>\n",
       "      <td>5.59</td>\n",
       "      <td>0.2</td>\n",
       "      <td>0.0</td>\n",
       "      <td>0.0</td>\n",
       "      <td>0.2</td>\n",
       "      <td>1313.15</td>\n",
       "      <td>0</td>\n",
       "    </tr>\n",
       "    <tr>\n",
       "      <th>1</th>\n",
       "      <td>57.658600</td>\n",
       "      <td>0.654150</td>\n",
       "      <td>17.194799</td>\n",
       "      <td>3.90621</td>\n",
       "      <td>3.124968</td>\n",
       "      <td>0.0</td>\n",
       "      <td>0.084105</td>\n",
       "      <td>2.86892</td>\n",
       "      <td>5.91538</td>\n",
       "      <td>3.85948</td>\n",
       "      <td>1.018600</td>\n",
       "      <td>0.000000</td>\n",
       "      <td>0.214935</td>\n",
       "      <td>6.55</td>\n",
       "      <td>0.2</td>\n",
       "      <td>0.0</td>\n",
       "      <td>0.0</td>\n",
       "      <td>0.2</td>\n",
       "      <td>1293.15</td>\n",
       "      <td>1</td>\n",
       "    </tr>\n",
       "    <tr>\n",
       "      <th>2</th>\n",
       "      <td>60.731201</td>\n",
       "      <td>0.862054</td>\n",
       "      <td>17.144199</td>\n",
       "      <td>4.07781</td>\n",
       "      <td>3.262248</td>\n",
       "      <td>0.0</td>\n",
       "      <td>0.077488</td>\n",
       "      <td>2.50867</td>\n",
       "      <td>5.22075</td>\n",
       "      <td>4.45556</td>\n",
       "      <td>1.414160</td>\n",
       "      <td>0.000000</td>\n",
       "      <td>0.319638</td>\n",
       "      <td>3.14</td>\n",
       "      <td>0.2</td>\n",
       "      <td>0.0</td>\n",
       "      <td>0.0</td>\n",
       "      <td>0.2</td>\n",
       "      <td>1253.15</td>\n",
       "      <td>2</td>\n",
       "    </tr>\n",
       "    <tr>\n",
       "      <th>3</th>\n",
       "      <td>61.532799</td>\n",
       "      <td>0.440860</td>\n",
       "      <td>16.508801</td>\n",
       "      <td>3.32990</td>\n",
       "      <td>2.663920</td>\n",
       "      <td>0.0</td>\n",
       "      <td>0.037520</td>\n",
       "      <td>1.64150</td>\n",
       "      <td>4.34294</td>\n",
       "      <td>4.40860</td>\n",
       "      <td>1.407000</td>\n",
       "      <td>0.000000</td>\n",
       "      <td>0.215740</td>\n",
       "      <td>6.20</td>\n",
       "      <td>0.2</td>\n",
       "      <td>0.0</td>\n",
       "      <td>0.0</td>\n",
       "      <td>0.2</td>\n",
       "      <td>1213.15</td>\n",
       "      <td>3</td>\n",
       "    </tr>\n",
       "    <tr>\n",
       "      <th>4</th>\n",
       "      <td>52.969101</td>\n",
       "      <td>0.803412</td>\n",
       "      <td>17.563000</td>\n",
       "      <td>5.93217</td>\n",
       "      <td>4.745736</td>\n",
       "      <td>0.0</td>\n",
       "      <td>0.149472</td>\n",
       "      <td>3.78351</td>\n",
       "      <td>7.65110</td>\n",
       "      <td>3.80219</td>\n",
       "      <td>0.551178</td>\n",
       "      <td>0.037368</td>\n",
       "      <td>0.196182</td>\n",
       "      <td>6.58</td>\n",
       "      <td>0.2</td>\n",
       "      <td>0.0</td>\n",
       "      <td>0.0</td>\n",
       "      <td>0.2</td>\n",
       "      <td>1303.15</td>\n",
       "      <td>4</td>\n",
       "    </tr>\n",
       "  </tbody>\n",
       "</table>\n",
       "</div>"
      ],
      "text/plain": [
       "    SiO2_Liq  TiO2_Liq  Al2O3_Liq  FeOt_Liq   FeO_Liq  Fe2O3_Liq   MnO_Liq  \\\n",
       "0  57.023602  0.623106  16.332899   4.36174  3.489392        0.0  0.103851   \n",
       "1  57.658600  0.654150  17.194799   3.90621  3.124968        0.0  0.084105   \n",
       "2  60.731201  0.862054  17.144199   4.07781  3.262248        0.0  0.077488   \n",
       "3  61.532799  0.440860  16.508801   3.32990  2.663920        0.0  0.037520   \n",
       "4  52.969101  0.803412  17.563000   5.93217  4.745736        0.0  0.149472   \n",
       "\n",
       "   MgO_Liq  CaO_Liq  Na2O_Liq   K2O_Liq  Cr2O3_Liq  P2O5_Liq  H2O_Liq  \\\n",
       "0  4.19180  6.94858   3.59702  0.896895   0.000000  0.226584     5.59   \n",
       "1  2.86892  5.91538   3.85948  1.018600   0.000000  0.214935     6.55   \n",
       "2  2.50867  5.22075   4.45556  1.414160   0.000000  0.319638     3.14   \n",
       "3  1.64150  4.34294   4.40860  1.407000   0.000000  0.215740     6.20   \n",
       "4  3.78351  7.65110   3.80219  0.551178   0.037368  0.196182     6.58   \n",
       "\n",
       "   Fe3FeT_Liq  NiO_Liq  CoO_Liq  P_GPa      T_K  Sample_ID_Liq  \n",
       "0         0.2      0.0      0.0    0.2  1313.15              0  \n",
       "1         0.2      0.0      0.0    0.2  1293.15              1  \n",
       "2         0.2      0.0      0.0    0.2  1253.15              2  \n",
       "3         0.2      0.0      0.0    0.2  1213.15              3  \n",
       "4         0.2      0.0      0.0    0.2  1303.15              4  "
      ]
     },
     "execution_count": 4,
     "metadata": {},
     "output_type": "execute_result"
    }
   ],
   "source": [
    "myLiquids1.head()"
   ]
  },
  {
   "cell_type": "code",
   "execution_count": 5,
   "metadata": {},
   "outputs": [
    {
     "name": "stdout",
     "output_type": "stream",
     "text": [
      "Help on function calculate_T_liquid in module PT_Thermobar_V1:\n",
      "\n",
      "calculate_T_liquid(*, Liq_Comps=None, equation=None, P=None, H2O_Liq=None)\n",
      "    Liquid-only thermometery. Enter a panda dataframe with liquid compositions in wt% (Liq_Comps=myLiquids1), based on user-specified equation (using equation=\"\"), and pressure in kbar, \n",
      "    returns a temperature in Kelvin.\n",
      "    \n",
      "    Parameters\n",
      "    -------\n",
      "    Liq_Comps: DataFrame\n",
      "                Panda DataFrame of liquid compositions with column headings SiO2_Liq, MgO_Liq etc. \n",
      "        To use a pressure and melt H2O content from the liquid dataframe, have a column heading \"P_kbar\", \"H2O_Liq\", and enter P=\"input\" and H2O_Liq=\"input\"\n",
      "        To perform all calculations at a fixed pressure (e.g., 5 kbar), enter P=5\n",
      "        To  perform all calculations at a fixed H2O content (e.g, 2 wt%), enter H2O_Liq=2   \n",
      "        \n",
      "    equation: str\n",
      "        Specify equation, e.g., equation=\"T_Helz1987_MgO\".  List of \n",
      "                  \n",
      "        T_Helz1987_MgO: Helz & Thornber (1987) Eq 1 for olivine-saturated liquids (although at Kilauea Iki, Helz and Thornber show this equation is also valid at lower MgO contents\n",
      "                   Uses: melt MgO content (in wt%)  \n",
      "                   Standard error: +-10C\n",
      "                   \n",
      "        T_Helz1987_CaO: Helz & Thornber (1987) Eq 2 for liquids saturated in olivine+plagioclase+clinopyroxene\n",
      "                   Uses: melt CaO content (in wt%)    \n",
      "                    Standard error: +-10C\n",
      "            \n",
      "    \n",
      "        T_Put2008_eq13 = Putirka et al (2008) Eq 13 (mostly for olivine-saturated liquids). Recalibration of Helz and Thornber (1987) thermometer\n",
      "                Uses: Melt MgO content in wt% only. \n",
      "                Standard error: +-71 C\n",
      "                \n",
      "        T_Put2008_eq14   = Putirka et al (2008) Eq 14 (mostly for olivine-saturated liquids). P-independent. Includes more terms than eq13, reducing the error. \n",
      "                  Uses: melt Mg#, Melt MgO, FeO, Na2O, K2O and H2O content (in wt%)\n",
      "                  Standard error: +-51 C\n",
      "                  \n",
      "        T_Put2008_eq15   = Putirka et al (2008) Eq 15 (mostly for olivine-saturated liquids). As for eq14, but P-dependent.  \n",
      "                  Uses: melt Mg#, Melt MgO, FeO, Na2O, K2O and H2O content (in wt%), and presssure in kbar.\n",
      "                  Standard error: +-60 C\n",
      "        \n",
      "        T_Put2008_eq16   = Putirka et al (2008) Eq 16 for liquids saturated in olivine+plagioclase+clinopyroxene. Adapted from Yang et al. (1996)\n",
      "                  Uses: mole fraction of SiO2, Al2O3 and MgO in the liquid, Pressure in kbar\n",
      "                  Standard error: +-19C for calibration data, +-26C for test data\n",
      "                  \n",
      "        T_Beatt93_NoOl: Re-arrangment by Putirka (2008) of their eqs 19 and 20 to use the olivine-liquid thermometer of Beattie (1993) without specifying an olivine composition. \n",
      "                            Exact form taken from Putirka 2008 spreadsheet\n",
      "                    Uses: cation fractions of Mn, Fe, Mg, Ca, Al, Ti, Si in the liquid, Pressure (kbar)\n",
      "                    Note - has a systematic error at very high temperatures and pressures. Herz correction eliminates this error\n",
      "        \n",
      "        T_Beatt93_NoOl_HerzCorr: Correction of the  Beattie equation above, eliminates systematic error at very high pressures. Exact form taken from Putirka 2008 spreadsheet\n",
      "        \n",
      "        T_Put2008_eq19_No_Ol: Combines Putirka (2008) equations 19 (Beattie 1993 thermometer) and equation 20 (Beattie 1993 expression for Kd_ol-liq/Mg). Returns the T at which a liquid becomes saturated in olivine. #Cell BA of raw putirka spreadsheet\n",
      "        \n",
      "        T_Sug2000_eq1: Sugawara et al. (2000) equation 1 (For olivine-saturated liquids at 0.1 MPa). \n",
      "                    Uses: mol % of MgO in the liquid. \n",
      "                    Standard error: +-30C\n",
      "                    \n",
      "        T_Sug2000_eq3_ol: Sugawara et al. (2000) equation 3 (For olivine-saturated liquids at 0.1 MPa). \n",
      "                    Uses: mol % of MgO in the liquid and pressure\n",
      "    \n",
      "        T_Sug2000_eq6a_cpx and pig and opx: Sugawara et al. (2000) equation 6a (For variably-saturated liquids). \n",
      "                    \n",
      "    \n",
      "    \n",
      "    \n",
      "    Returns\n",
      "    -------\n",
      "    pandas DataFrame\n",
      "       Merged dataframe of inputted liquids, liquid mole fractions, liquid cation fractions,\n",
      "       inputted cpx compositions, cpx cations on 6 oxygen basis, cpx components and cpx-liquid components. \n",
      "    \n",
      "    \n",
      "    \n",
      "    References:\n",
      "    \n",
      "    Helz & Thornber (1987)\n",
      "    Geothermometry of Kilauea Iki lava lake, Hawaii. \n",
      "    Bull Volcanol 49, 651–668  \n",
      "    doi: 10.1007/BF01080357\n",
      "    \n",
      "    Putirka et al (2008)\n",
      "    Thermometers and Barometers for Volcanic Systems. \n",
      "    In: Putirka, K., Tepley, F. (Eds.), Minerals, Inclusions and Volcanic Processes\n",
      "    Reviews in Mineralogy and Geochemistry, Mineralogical Soc. Am., v. 69, pp. 61-120.\n",
      "\n"
     ]
    }
   ],
   "source": [
    "# Options for different thermometers laid out in the \"equation option\" = summary of advantages/disadvantages in Putirka 2008\n",
    "help(pw.calculate_T_liquid)"
   ]
  },
  {
   "cell_type": "markdown",
   "metadata": {},
   "source": [
    "# Example 1 \n",
    "- say you want to use T_Put2008_eq15. \n",
    "- say you don't really know the pressure, so you want to run at 2 kbar, \n",
    "- Say you don't really know the H2O content, so you want to run at 6 wt%. This will overwrite anything you enter in the H2O_Liq column. Else, if you don't enter H2O_Liq, it will use whatever was in your input spreadsheet. "
   ]
  },
  {
   "cell_type": "code",
   "execution_count": 6,
   "metadata": {},
   "outputs": [],
   "source": [
    "# Say you want to use helz and thornber. It isn't actually prsesure or water sensitive, so you can enter P and H2O, but it wont do anything. "
   ]
  },
  {
   "cell_type": "code",
   "execution_count": 7,
   "metadata": {},
   "outputs": [
    {
     "data": {
      "text/plain": [
       "0    1098.255182\n",
       "1    1071.665294\n",
       "2    1064.424269\n",
       "3    1046.994150\n",
       "4    1090.048550\n",
       "5    1079.746499\n",
       "6    1067.772325\n",
       "7    1099.844089\n",
       "8    1077.533086\n",
       "9    1121.514497\n",
       "Name: MgO_Liq, dtype: float64"
      ]
     },
     "execution_count": 7,
     "metadata": {},
     "output_type": "execute_result"
    }
   ],
   "source": [
    "THT_2kbar_6wt=pw.calculate_T_liquid(Liq_Comps=myLiquids1,  equation=\"T_Helz1987_MgO\")-273.15 # Output is in Kelvin\n",
    "THT_2kbar_6wt"
   ]
  },
  {
   "cell_type": "code",
   "execution_count": 8,
   "metadata": {},
   "outputs": [
    {
     "data": {
      "text/plain": [
       "0    1098.255182\n",
       "1    1071.665294\n",
       "2    1064.424269\n",
       "3    1046.994150\n",
       "4    1090.048550\n",
       "5    1079.746499\n",
       "6    1067.772325\n",
       "7    1099.844089\n",
       "8    1077.533086\n",
       "9    1121.514497\n",
       "Name: MgO_Liq, dtype: float64"
      ]
     },
     "execution_count": 8,
     "metadata": {},
     "output_type": "execute_result"
    }
   ],
   "source": [
    "THT_2kbar_6wt=pw.calculate_T_liquid(Liq_Comps=myLiquids1,  equation=\"T_Helz1987_MgO\", P=2, H2O_Liq=6 )-273.15 # Output is in Kelvin\n",
    "THT_2kbar_6wt"
   ]
  },
  {
   "cell_type": "code",
   "execution_count": 9,
   "metadata": {},
   "outputs": [],
   "source": [
    "# But if you pick  a pressure dependnet function, and don't enter pressure, you'll get an exception"
   ]
  },
  {
   "cell_type": "code",
   "execution_count": 10,
   "metadata": {},
   "outputs": [
    {
     "ename": "Exception",
     "evalue": "You've selected a P-dependent function, please pass an option for P (see help for more detail)",
     "output_type": "error",
     "traceback": [
      "\u001b[1;31m---------------------------------------------------------------------------\u001b[0m",
      "\u001b[1;31mException\u001b[0m                                 Traceback (most recent call last)",
      "\u001b[1;32m<ipython-input-10-2f2d944e256f>\u001b[0m in \u001b[0;36m<module>\u001b[1;34m\u001b[0m\n\u001b[1;32m----> 1\u001b[1;33m \u001b[0mTeq15_2kbar_6wt\u001b[0m\u001b[1;33m=\u001b[0m\u001b[0mpw\u001b[0m\u001b[1;33m.\u001b[0m\u001b[0mcalculate_T_liquid\u001b[0m\u001b[1;33m(\u001b[0m\u001b[0mLiq_Comps\u001b[0m\u001b[1;33m=\u001b[0m\u001b[0mmyLiquids1\u001b[0m\u001b[1;33m,\u001b[0m  \u001b[0mequation\u001b[0m\u001b[1;33m=\u001b[0m\u001b[1;34m\"T_Put2008_eq15\"\u001b[0m\u001b[1;33m)\u001b[0m\u001b[1;33m-\u001b[0m\u001b[1;36m273.15\u001b[0m \u001b[1;31m# Output is in Kelvin\u001b[0m\u001b[1;33m\u001b[0m\u001b[0m\n\u001b[0m\u001b[0;32m      2\u001b[0m \u001b[0mTeq15_2kbar_6wt\u001b[0m\u001b[1;33m\u001b[0m\u001b[0m\n",
      "\u001b[1;32m~\\OneDrive - University of Cambridge\\Postdoc\\PYthonBarometers\\ClassicalThermometers-20210114T090546Z-001\\ClassicalThermometers\\PT_Thermobar_V1.py\u001b[0m in \u001b[0;36mcalculate_T_liquid\u001b[1;34m(Liq_Comps, equation, P, H2O_Liq)\u001b[0m\n\u001b[0;32m   1617\u001b[0m \u001b[1;33m\u001b[0m\u001b[0m\n\u001b[0;32m   1618\u001b[0m         \u001b[1;32mif\u001b[0m \u001b[0mP\u001b[0m \u001b[1;32mis\u001b[0m \u001b[1;32mNone\u001b[0m\u001b[1;33m:\u001b[0m\u001b[1;33m\u001b[0m\u001b[0m\n\u001b[1;32m-> 1619\u001b[1;33m             \u001b[1;32mraise\u001b[0m \u001b[0mException\u001b[0m\u001b[1;33m(\u001b[0m\u001b[1;34m\"You've selected a P-dependent function, please pass an option for P (see help for more detail)\"\u001b[0m \u001b[1;33m)\u001b[0m\u001b[1;33m\u001b[0m\u001b[0m\n\u001b[0m\u001b[0;32m   1620\u001b[0m \u001b[1;33m\u001b[0m\u001b[0m\n\u001b[0;32m   1621\u001b[0m         \u001b[1;32mif\u001b[0m \u001b[0mequation\u001b[0m\u001b[1;33m==\u001b[0m\u001b[1;34m\"T_Put2008_eq15\"\u001b[0m\u001b[1;33m:\u001b[0m\u001b[1;33m\u001b[0m\u001b[0m\n",
      "\u001b[1;31mException\u001b[0m: You've selected a P-dependent function, please pass an option for P (see help for more detail)"
     ]
    }
   ],
   "source": [
    "Teq15_2kbar_6wt=pw.calculate_T_liquid(Liq_Comps=myLiquids1,  equation=\"T_Put2008_eq15\")-273.15 # Output is in Kelvin\n",
    "Teq15_2kbar_6wt"
   ]
  },
  {
   "cell_type": "code",
   "execution_count": 11,
   "metadata": {},
   "outputs": [
    {
     "data": {
      "text/plain": [
       "0    1045.642017\n",
       "1    1006.823842\n",
       "2     997.697739\n",
       "3     962.882726\n",
       "4    1025.567168\n",
       "5    1012.646113\n",
       "6     995.587371\n",
       "7    1020.893043\n",
       "8     995.213402\n",
       "9    1066.143252\n",
       "dtype: float64"
      ]
     },
     "execution_count": 11,
     "metadata": {},
     "output_type": "execute_result"
    }
   ],
   "source": [
    "Teq15_2kbar_6wt=pw.calculate_T_liquid(Liq_Comps=myLiquids1,  equation=\"T_Put2008_eq15\", P=2, H2O_Liq=6 )-273.15 # Output is in Kelvin\n",
    "Teq15_2kbar_6wt"
   ]
  },
  {
   "cell_type": "code",
   "execution_count": 12,
   "metadata": {},
   "outputs": [
    {
     "data": {
      "text/plain": [
       "0    1080.216017\n",
       "1    1041.397842\n",
       "2    1032.271739\n",
       "3     997.456726\n",
       "4    1060.141168\n",
       "5    1047.220113\n",
       "6    1030.161371\n",
       "7    1055.467043\n",
       "8    1029.787402\n",
       "9    1100.717252\n",
       "dtype: float64"
      ]
     },
     "execution_count": 12,
     "metadata": {},
     "output_type": "execute_result"
    }
   ],
   "source": [
    "# Say you want to try at 1 kbar, 3 wt% H2O\n",
    "Teq15_1kbar_3wt=pw.calculate_T_liquid(Liq_Comps=myLiquids1,  equation=\"T_Put2008_eq15\", P=1, H2O_Liq=3 )-273.15 # Output is in Kelvin\n",
    "Teq15_1kbar_3wt"
   ]
  },
  {
   "cell_type": "code",
   "execution_count": 13,
   "metadata": {},
   "outputs": [
    {
     "data": {
      "text/plain": [
       "0    1120.048647\n",
       "1    1075.484050\n",
       "2    1071.139750\n",
       "3    1032.272924\n",
       "4    1095.814624\n",
       "5    1086.315247\n",
       "6    1073.474403\n",
       "7    1104.100601\n",
       "8    1065.006086\n",
       "9    1127.084447\n",
       "dtype: float64"
      ]
     },
     "execution_count": 13,
     "metadata": {},
     "output_type": "execute_result"
    }
   ],
   "source": [
    "# Say you want to try a different thermometer, e.g., the olivine-liquid one of putirka where he has re-arrranged so you don't need a liquid composition\n",
    "Teq19_1kbar_3wt=pw.calculate_T_liquid(Liq_Comps=myLiquids1,  equation=\"T_Put2008_eq19_No_Ol\", P=1, H2O_Liq=3)-273.15 # Output is in Kelvin\n",
    "Teq19_1kbar_3wt"
   ]
  },
  {
   "cell_type": "code",
   "execution_count": 14,
   "metadata": {},
   "outputs": [],
   "source": [
    "# Say you want to append these results to your original dataframe, to then print to excel\n",
    "Liq_Comps_out=myLiquids1.copy()\n",
    "Liq_Comps_out['Teq19_1kbar_3wt']=Teq19_1kbar_3wt\n",
    "Liq_Comps_out['Teq15_1kbar_3wt']=Teq15_1kbar_3wt\n",
    "Liq_Comps_out['Teq15_2kbar_6wt']=Teq15_2kbar_6wt\n",
    "Liq_Comps_out.to_excel('Thermometry_out.xlsx')"
   ]
  },
  {
   "cell_type": "markdown",
   "metadata": {},
   "source": [
    "# Example 2- Olivine liquid thermometry\n",
    "- Say you  have the ideal set up where each olivine is matched to a liquid"
   ]
  },
  {
   "cell_type": "code",
   "execution_count": 19,
   "metadata": {},
   "outputs": [
    {
     "name": "stdout",
     "output_type": "stream",
     "text": [
      "Help on function calculate_T_Ol_Liquid in module PT_Thermobar_V1:\n",
      "\n",
      "calculate_T_Ol_Liquid(*, Liq_Comps=None, Ol_Comps=None, equation=None, P=None, NiO_Ol_Mol=None, H2O_Liq=None)\n",
      "    Olivine-liquid thermometers. Takes in 2 panda dataframes, 1) with liquid compositions in wt% and headings of the form (SiO2_Liq, P_GPa) 2) with olivine compositions in wt% (e.g, SiO2_Ol) \n",
      "    Returns the temperature in Kelvin. Choice of thermometer is specified using equation=\"\":\n",
      "    \n",
      "    Teq21         = Franky, I have no idea where Putirka spreadsheet gets this from. Look into this more.  \n",
      "    \n",
      "    Teq22         = Putirka et al (2008) Eq 22 for olivine-saturated liquids\n",
      "                   Terms for: Measured DMg (ol-liq) (calculated from cation fraction of MgO in the olivine and liquid). Liquid cation fractions of MgO, FeO, CaO, MnO, SiO2, Al2O3, TiO2, Liquid H2O (wt%), Pressure (GPa).\n",
      "    \n",
      "    TSG_1992      =Sisson and Grove (1992)  equation 2. \n",
      "    \n",
      "    Parameters\n",
      "    -------\n",
      "    \n",
      "    myData: pandas DataFrame\n",
      "                pandas DataFrame containing columns for liquid compositions (SiO2_Liq, TiO2_Liq etc.), and pressure in GPa (where relevant)\n",
      "    \n",
      "    myData2: pandas DataFrame\n",
      "                pandas DataFrame containing columns for olivine compositions (SiO2_Liq, TiO2_Liq etc.)\n",
      "    \n",
      "    equation: str\n",
      "        specifies the equation \n",
      "        \n",
      "    Returns\n",
      "    -------\n",
      "    pandas.core.series.Series\n",
      "        Temperatures in kelvin. \n",
      "    \n",
      "    References:\n",
      "    \n",
      "    Helz & Thornber (1987)\n",
      "    Geothermometry of Kilauea Iki lava lake, Hawaii. \n",
      "    Bull Volcanol 49, 651–668  \n",
      "    doi: 10.1007/BF01080357\n",
      "    \n",
      "    Putirka et al (2008)\n",
      "    Thermometers and Barometers for Volcanic Systems. \n",
      "    In: Putirka, K., Tepley, F. (Eds.), Minerals, Inclusions and Volcanic Processes\n",
      "    Reviews in Mineralogy and Geochemistry, Mineralogical Soc. Am., v. 69, pp. 61-120.\n",
      "\n"
     ]
    }
   ],
   "source": [
    "help(pw.calculate_T_Ol_Liquid)"
   ]
  },
  {
   "cell_type": "code",
   "execution_count": 15,
   "metadata": {},
   "outputs": [
    {
     "data": {
      "text/plain": [
       "0    1062.248024\n",
       "1    1005.299428\n",
       "2    1004.790346\n",
       "3     954.933232\n",
       "4    1026.855362\n",
       "5    1014.481612\n",
       "6    1005.513022\n",
       "7    1072.784126\n",
       "8    1024.345386\n",
       "9    1090.914861\n",
       "dtype: float64"
      ]
     },
     "execution_count": 15,
     "metadata": {},
     "output_type": "execute_result"
    }
   ],
   "source": [
    "# In this example, it is using user-entered  H2O content from spreadsheet\n",
    "Teq22_Pinput=pw.calculate_T_Ol_Liquid(Liq_Comps=myLiquids1, Ol_Comps=myOls1,  equation=\"T_Put2008_eq22\", P=3)-273.16\n",
    "Teq22_Pinput"
   ]
  },
  {
   "cell_type": "code",
   "execution_count": 17,
   "metadata": {},
   "outputs": [
    {
     "data": {
      "text/plain": [
       "0    1016.418503\n",
       "1     964.156949\n",
       "2     963.688673\n",
       "3     917.733705\n",
       "4     983.967242\n",
       "5     972.599791\n",
       "6     964.353417\n",
       "7    1026.060963\n",
       "8     981.662316\n",
       "9    1042.634602\n",
       "dtype: float64"
      ]
     },
     "execution_count": 17,
     "metadata": {},
     "output_type": "execute_result"
    }
   ],
   "source": [
    "# In this example, we are overwriting user entered H2O\n",
    "Teq22_Pinput=pw.calculate_T_Ol_Liquid(Liq_Comps=myLiquids1, Ol_Comps=myOls1,  equation=\"T_Put2008_eq22\", P=3, H2O_Liq=6)-273.16\n",
    "Teq22_Pinput"
   ]
  },
  {
   "cell_type": "code",
   "execution_count": null,
   "metadata": {},
   "outputs": [],
   "source": []
  }
 ],
 "metadata": {
  "kernelspec": {
   "display_name": "Python 3",
   "language": "python",
   "name": "python3"
  },
  "language_info": {
   "codemirror_mode": {
    "name": "ipython",
    "version": 3
   },
   "file_extension": ".py",
   "mimetype": "text/x-python",
   "name": "python",
   "nbconvert_exporter": "python",
   "pygments_lexer": "ipython3",
   "version": "3.7.0"
  },
  "toc": {
   "base_numbering": 1,
   "nav_menu": {},
   "number_sections": true,
   "sideBar": true,
   "skip_h1_title": false,
   "title_cell": "Table of Contents",
   "title_sidebar": "Contents",
   "toc_cell": false,
   "toc_position": {},
   "toc_section_display": true,
   "toc_window_display": false
  },
  "varInspector": {
   "cols": {
    "lenName": 16,
    "lenType": 16,
    "lenVar": 40
   },
   "kernels_config": {
    "python": {
     "delete_cmd_postfix": "",
     "delete_cmd_prefix": "del ",
     "library": "var_list.py",
     "varRefreshCmd": "print(var_dic_list())"
    },
    "r": {
     "delete_cmd_postfix": ") ",
     "delete_cmd_prefix": "rm(",
     "library": "var_list.r",
     "varRefreshCmd": "cat(var_dic_list()) "
    }
   },
   "types_to_exclude": [
    "module",
    "function",
    "builtin_function_or_method",
    "instance",
    "_Feature"
   ],
   "window_display": false
  }
 },
 "nbformat": 4,
 "nbformat_minor": 2
}
