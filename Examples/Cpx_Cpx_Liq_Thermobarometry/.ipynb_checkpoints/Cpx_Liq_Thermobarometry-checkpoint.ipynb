{
 "cells": [
  {
   "cell_type": "markdown",
   "id": "8c8f3878-908b-4712-89ca-b75d93e96432",
   "metadata": {},
   "source": [
    "# This notebook goes through the options for clinopyroxene-Liquid thermobarometry and clinopyroxene-only thermobarometry\n",
    "- Cpx-Liq matching is not covered in this tutorial, there is a separate folder \"Cpx_Liquid_melt_matching\" for that "
   ]
  },
  {
   "cell_type": "markdown",
   "id": "8977fc41-cac1-4554-979d-596d986d877f",
   "metadata": {},
   "source": [
    "## First, load the necessary python things"
   ]
  },
  {
   "cell_type": "code",
   "execution_count": 1,
   "id": "c10cd3bd-1c22-4efd-b250-46250da7feab",
   "metadata": {},
   "outputs": [],
   "source": [
    "import numpy as np\n",
    "import pandas as pd\n",
    "import sys\n",
    "sys.path.append(\"../..\") # This allows you to put the python file in the folder above. So you can have lots of sub folders\n",
    "import matplotlib.pyplot as plt\n",
    "import Thermobar as pt"
   ]
  },
  {
   "cell_type": "markdown",
   "id": "c2b7e96a-9b44-415c-a666-c1cbc3c56fda",
   "metadata": {},
   "source": [
    "## Now, load the data "
   ]
  },
  {
   "cell_type": "code",
   "execution_count": 3,
   "id": "561c3c07-3251-494a-8d80-0366c52b39e3",
   "metadata": {},
   "outputs": [],
   "source": [
    "out=pt.import_excel('Cpx_Liq_Example.xlsx', sheet_name=\"Sheet1\")\n",
    "my_input=out['my_input']\n",
    "Liqs=out['Liqs']\n",
    "Cpxs=out['Cpxs']"
   ]
  },
  {
   "cell_type": "markdown",
   "id": "9befb56b-bea2-46d3-bb97-3e51fe2c9b0d",
   "metadata": {},
   "source": [
    "# Working out options for thermometers/barometers\n",
    "- At any point, you can do help(pt.function) to get some more information"
   ]
  },
  {
   "cell_type": "markdown",
   "id": "f6c577de-594c-41d3-9e20-e01a98c13eac",
   "metadata": {},
   "source": [
    "## For example, here we get information on inputs/outputs for Cpx-Liq thermometry, including the equation options"
   ]
  },
  {
   "cell_type": "code",
   "execution_count": 8,
   "id": "518c761c-0a25-4747-8db2-cdc82abb0ed8",
   "metadata": {},
   "outputs": [
    {
     "name": "stdout",
     "output_type": "stream",
     "text": [
      "Help on function calculate_cpx_liq_temp in module Thermobar.clinopyroxene_thermobarometry:\n",
      "\n",
      "calculate_cpx_liq_temp(*, equationT, cpx_comps=None, liq_comps=None, meltmatch=None, P=None, eq_tests=False, H2O_Liq=None, Fe3Fet_Liq=None, sigma=1, KdErr=0.03)\n",
      "     Clinopyroxene-Liquid thermometry, calculates temperature in Kelvin\n",
      "     (and equilibrium tests as an option)\n",
      "    \n",
      "    Parameters\n",
      "     -------\n",
      "     cpx_comps: DataFrame\n",
      "         Clinopyroxene compositions with column headings SiO2_Cpx, MgO_Cpx etc.\n",
      "    \n",
      "     liq_comps: DataFrame\n",
      "         Liquid compositions with column headings SiO2_Liq, MgO_Liq etc.\n",
      "     Or:\n",
      "    \n",
      "     meltmatch: DataFrame\n",
      "         Combined dataframe of cpx-Liquid compositions\n",
      "         Used for calculate_cpx_liq_press_temp_matching function.\n",
      "    \n",
      "     EquationT: str\n",
      "         Choice of equation:\n",
      "         Cpx-Liquid\n",
      "         |  T_Put1996_eqT1  (P-indep, H2O-indep)\n",
      "         |  T_Mas2013_eqTalk1  (P-indep, H2O-indep, alk adaption of T1)\n",
      "         |  T_Brug2019  (P-indep, H2O-indep)\n",
      "         |  T_Put1996_eqT2 (P-dep, H2O-indep)\n",
      "         |  T_Mas2013_eqTalk2  (P-dep, H2O-indep, alk adaption of T2)\n",
      "         |  T_Put1999  (P-dep, H2O-indep)\n",
      "         |  T_Put2003  (P-dep, H2O-indep)\n",
      "         |  T_Put1999  (P-dep, H2O-indep)\n",
      "         |  T_Put2008_eq33  (P-dep, H2O-dep)\n",
      "         |  T_Mas2013_eqalk33  (P-dep, H2O-dep, alk adaption of eq33)\n",
      "         |  T_Mas2013_Palk2012 (P-indep, H2O_dep)\n",
      "    \n",
      "    \n",
      "     P: float, int, series, str  (\"Solve\")\n",
      "         Pressure in kbar\n",
      "         Only needed for P-sensitive thermometers.\n",
      "         If enter P=\"Solve\", returns a partial function\n",
      "         Else, enter an integer, float, or panda series\n",
      "    \n",
      "    \n",
      "     eq_tests: bool\n",
      "         If False, just returns pressure (default) as a panda series\n",
      "         If True, returns pressure, Values of Eq tests,\n",
      "         Values of Eq tests (Kd, EnFs, DiHd, CaTs, CrCaTs),\n",
      "         as well as user-entered cpx and liq comps and components.\n",
      "    \n",
      "    \n",
      "     Returns\n",
      "     -------\n",
      "     If eq_tests=False\n",
      "         pandas.series: Temperature in Kelvin\n",
      "     If eq_tests=True\n",
      "         panda.dataframe: Temperature in Kelvin +\n",
      "         Eq Tests + cpx+liq comps + components\n",
      "\n"
     ]
    }
   ],
   "source": [
    "help(pt.calculate_cpx_liq_temp)"
   ]
  },
  {
   "cell_type": "markdown",
   "id": "2c39091f-4dfd-48f7-835c-08ed8f5da2c7",
   "metadata": {},
   "source": [
    "# Example calculation 1 - temperature for a known pressure and water content\n",
    "- Here, we calculate temperature using the H2O content given in the H2O_Liq column (the default), and P=5 kbar\n",
    "- There are a number of equations, but here we use T_Put2008_eq33 for temperature"
   ]
  },
  {
   "cell_type": "code",
   "execution_count": 9,
   "id": "f8905a97-e057-4602-b427-fd0a32f718f6",
   "metadata": {},
   "outputs": [
    {
     "data": {
      "text/plain": [
       "0    1364.712867\n",
       "1    1304.755285\n",
       "2    1272.453442\n",
       "3    1305.686881\n",
       "4    1252.876983\n",
       "dtype: float64"
      ]
     },
     "execution_count": 9,
     "metadata": {},
     "output_type": "execute_result"
    }
   ],
   "source": [
    "Temp_T33=pt.calculate_cpx_liq_temp(cpx_comps=Cpxs, liq_comps=Liqs, equationT=\"T_Put2008_eq33\", P=5)\n",
    "Temp_T33"
   ]
  },
  {
   "cell_type": "markdown",
   "id": "baf976e4-e85f-4f8a-ac37-f9335ee121ed",
   "metadata": {},
   "source": [
    "## Or we can overwrite the water content in the function using an integer\n",
    "- Here, we are reseting water to 0"
   ]
  },
  {
   "cell_type": "code",
   "execution_count": 10,
   "id": "7fd8d6ca-84e7-46ec-819b-7d59a55e212f",
   "metadata": {},
   "outputs": [
    {
     "data": {
      "text/plain": [
       "0    1416.119951\n",
       "1    1383.073744\n",
       "2    1346.831511\n",
       "3    1384.120579\n",
       "4    1324.919286\n",
       "dtype: float64"
      ]
     },
     "execution_count": 10,
     "metadata": {},
     "output_type": "execute_result"
    }
   ],
   "source": [
    "Temp_T33_0H2O=pt.calculate_cpx_liq_temp(cpx_comps=Cpxs, liq_comps=Liqs, equationT=\"T_Put2008_eq33\", P=5, H2O_Liq=0)\n",
    "Temp_T33_0H2O"
   ]
  },
  {
   "cell_type": "markdown",
   "id": "3bb1e0cc-3fee-4b86-8e56-89781a904d7b",
   "metadata": {},
   "source": [
    "## Next, lets use the equation of Brugman and Till, 2019. \n",
    "- This returns a number of warnings, because the authors recomend a compositional calibration range"
   ]
  },
  {
   "cell_type": "code",
   "execution_count": 11,
   "id": "abcb8b48-02b9-4e8e-bcb1-71ab8a7a4cf5",
   "metadata": {},
   "outputs": [
    {
     "name": "stdout",
     "output_type": "stream",
     "text": [
      "Youve selected a P-independent function\n"
     ]
    },
    {
     "name": "stderr",
     "output_type": "stream",
     "text": [
      "<ipython-input-11-b4de49978884>:1: UserWarning: Some inputted CPX compositions have Cpx Mg#>0.65;.\n",
      "  Temp_TBrug=pt.calculate_cpx_liq_temp(cpx_comps=Cpxs, liq_comps=Liqs, equationT=\"T_Brug2019\", P=5)\n",
      "<ipython-input-11-b4de49978884>:1: UserWarning: Some inputted CPX compositions have Al2O3>7 wt%;.\n",
      "  Temp_TBrug=pt.calculate_cpx_liq_temp(cpx_comps=Cpxs, liq_comps=Liqs, equationT=\"T_Brug2019\", P=5)\n",
      "<ipython-input-11-b4de49978884>:1: UserWarning: Some inputted Liq compositions have  SiO2<70 wt%;\n",
      "  Temp_TBrug=pt.calculate_cpx_liq_temp(cpx_comps=Cpxs, liq_comps=Liqs, equationT=\"T_Brug2019\", P=5)\n",
      "../..\\Thermobar\\clinopyroxene_thermobarometry.py:565: UserWarning: which is outside the recomended calibration range of Brugman and Till (2019)\n",
      "  w.warn(\"which is outside the recomended calibration range of Brugman and Till (2019)\")\n"
     ]
    },
    {
     "data": {
      "text/plain": [
       "0    2070.839417\n",
       "1    1905.832392\n",
       "2    1475.513348\n",
       "3    1831.506437\n",
       "4    1302.097694\n",
       "dtype: float64"
      ]
     },
     "execution_count": 11,
     "metadata": {},
     "output_type": "execute_result"
    }
   ],
   "source": [
    "Temp_TBrug=pt.calculate_cpx_liq_temp(cpx_comps=Cpxs, liq_comps=Liqs, equationT=\"T_Brug2019\", P=5)\n",
    "Temp_TBrug"
   ]
  },
  {
   "cell_type": "markdown",
   "id": "747a2945-af46-40bf-9c10-88b8180244a1",
   "metadata": {},
   "source": [
    "## We can also specify eq_tests=True to get a full dataframe back with all the components, as well as a number of equilibrium test values"
   ]
  },
  {
   "cell_type": "code",
   "execution_count": 12,
   "id": "22ce1961-1b31-4bfc-92d5-9638520a652a",
   "metadata": {},
   "outputs": [
    {
     "name": "stdout",
     "output_type": "stream",
     "text": [
      "Using Fe3FeT from input file to calculate Kd Fe-Mg\n"
     ]
    },
    {
     "data": {
      "text/html": [
       "<div>\n",
       "<style scoped>\n",
       "    .dataframe tbody tr th:only-of-type {\n",
       "        vertical-align: middle;\n",
       "    }\n",
       "\n",
       "    .dataframe tbody tr th {\n",
       "        vertical-align: top;\n",
       "    }\n",
       "\n",
       "    .dataframe thead th {\n",
       "        text-align: right;\n",
       "    }\n",
       "</style>\n",
       "<table border=\"1\" class=\"dataframe\">\n",
       "  <thead>\n",
       "    <tr style=\"text-align: right;\">\n",
       "      <th></th>\n",
       "      <th>P_kbar_calc</th>\n",
       "      <th>T_K_calc</th>\n",
       "      <th>Eq Tests Neave2017?</th>\n",
       "      <th>Delta_Kd_Put2008</th>\n",
       "      <th>Delta_Kd_Mas2013</th>\n",
       "      <th>Delta_EnFs</th>\n",
       "      <th>Delta_CaTs</th>\n",
       "      <th>Delta_DiHd</th>\n",
       "      <th>SiO2_Liq</th>\n",
       "      <th>TiO2_Liq</th>\n",
       "      <th>...</th>\n",
       "      <th>Kd_Fe_Mg_IdealWB</th>\n",
       "      <th>Mgno_Liq_noFe3</th>\n",
       "      <th>Mgno_Liq_Fe2</th>\n",
       "      <th>DeltaFeMg_WB</th>\n",
       "      <th>Kd_Ideal_Put</th>\n",
       "      <th>Kd_Ideal_Masotta</th>\n",
       "      <th>DiHd_Pred_Mollo</th>\n",
       "      <th>EnFs_Pred_Mollo</th>\n",
       "      <th>CaTs_Pred_P1999</th>\n",
       "      <th>CrCaTS_Pred_P1999</th>\n",
       "    </tr>\n",
       "  </thead>\n",
       "  <tbody>\n",
       "    <tr>\n",
       "      <th>0</th>\n",
       "      <td>5</td>\n",
       "      <td>1416.119951</td>\n",
       "      <td>N</td>\n",
       "      <td>0.042816</td>\n",
       "      <td>0.094027</td>\n",
       "      <td>0.010858</td>\n",
       "      <td>0.016957</td>\n",
       "      <td>0.089424</td>\n",
       "      <td>51.1</td>\n",
       "      <td>0.93</td>\n",
       "      <td>...</td>\n",
       "      <td>0.266105</td>\n",
       "      <td>0.549218</td>\n",
       "      <td>0.549218</td>\n",
       "      <td>0.042020</td>\n",
       "      <td>0.266900</td>\n",
       "      <td>0.130058</td>\n",
       "      <td>0.725012</td>\n",
       "      <td>0.092969</td>\n",
       "      <td>0.013418</td>\n",
       "      <td>0.0</td>\n",
       "    </tr>\n",
       "    <tr>\n",
       "      <th>1</th>\n",
       "      <td>5</td>\n",
       "      <td>1383.073744</td>\n",
       "      <td>N</td>\n",
       "      <td>0.036792</td>\n",
       "      <td>0.090778</td>\n",
       "      <td>0.007575</td>\n",
       "      <td>0.023796</td>\n",
       "      <td>0.104285</td>\n",
       "      <td>51.5</td>\n",
       "      <td>1.19</td>\n",
       "      <td>...</td>\n",
       "      <td>0.261704</td>\n",
       "      <td>0.505036</td>\n",
       "      <td>0.505036</td>\n",
       "      <td>0.039226</td>\n",
       "      <td>0.259270</td>\n",
       "      <td>0.131700</td>\n",
       "      <td>0.715654</td>\n",
       "      <td>0.089645</td>\n",
       "      <td>0.013021</td>\n",
       "      <td>0.0</td>\n",
       "    </tr>\n",
       "    <tr>\n",
       "      <th>2</th>\n",
       "      <td>5</td>\n",
       "      <td>1346.831511</td>\n",
       "      <td>N</td>\n",
       "      <td>0.058659</td>\n",
       "      <td>0.172858</td>\n",
       "      <td>0.043395</td>\n",
       "      <td>0.075254</td>\n",
       "      <td>0.006413</td>\n",
       "      <td>59.1</td>\n",
       "      <td>0.54</td>\n",
       "      <td>...</td>\n",
       "      <td>0.254450</td>\n",
       "      <td>0.526025</td>\n",
       "      <td>0.526025</td>\n",
       "      <td>0.054951</td>\n",
       "      <td>0.250742</td>\n",
       "      <td>0.136544</td>\n",
       "      <td>0.739083</td>\n",
       "      <td>0.142940</td>\n",
       "      <td>0.016630</td>\n",
       "      <td>0.0</td>\n",
       "    </tr>\n",
       "    <tr>\n",
       "      <th>3</th>\n",
       "      <td>5</td>\n",
       "      <td>1384.120579</td>\n",
       "      <td>N</td>\n",
       "      <td>0.034331</td>\n",
       "      <td>0.101144</td>\n",
       "      <td>0.012488</td>\n",
       "      <td>0.031526</td>\n",
       "      <td>0.084045</td>\n",
       "      <td>52.5</td>\n",
       "      <td>0.98</td>\n",
       "      <td>...</td>\n",
       "      <td>0.263544</td>\n",
       "      <td>0.525239</td>\n",
       "      <td>0.525239</td>\n",
       "      <td>0.038360</td>\n",
       "      <td>0.259514</td>\n",
       "      <td>0.124040</td>\n",
       "      <td>0.712004</td>\n",
       "      <td>0.102108</td>\n",
       "      <td>0.014301</td>\n",
       "      <td>0.0</td>\n",
       "    </tr>\n",
       "    <tr>\n",
       "      <th>4</th>\n",
       "      <td>5</td>\n",
       "      <td>1324.919286</td>\n",
       "      <td>N</td>\n",
       "      <td>0.022156</td>\n",
       "      <td>0.097447</td>\n",
       "      <td>0.021106</td>\n",
       "      <td>0.032121</td>\n",
       "      <td>0.071950</td>\n",
       "      <td>56.2</td>\n",
       "      <td>0.34</td>\n",
       "      <td>...</td>\n",
       "      <td>0.253684</td>\n",
       "      <td>0.438875</td>\n",
       "      <td>0.438875</td>\n",
       "      <td>0.030335</td>\n",
       "      <td>0.245505</td>\n",
       "      <td>0.125902</td>\n",
       "      <td>0.734744</td>\n",
       "      <td>0.085546</td>\n",
       "      <td>0.010990</td>\n",
       "      <td>0.0</td>\n",
       "    </tr>\n",
       "  </tbody>\n",
       "</table>\n",
       "<p>5 rows × 100 columns</p>\n",
       "</div>"
      ],
      "text/plain": [
       "   P_kbar_calc     T_K_calc Eq Tests Neave2017?  Delta_Kd_Put2008  \\\n",
       "0            5  1416.119951                   N          0.042816   \n",
       "1            5  1383.073744                   N          0.036792   \n",
       "2            5  1346.831511                   N          0.058659   \n",
       "3            5  1384.120579                   N          0.034331   \n",
       "4            5  1324.919286                   N          0.022156   \n",
       "\n",
       "   Delta_Kd_Mas2013  Delta_EnFs  Delta_CaTs  Delta_DiHd  SiO2_Liq  TiO2_Liq  \\\n",
       "0          0.094027    0.010858    0.016957    0.089424      51.1      0.93   \n",
       "1          0.090778    0.007575    0.023796    0.104285      51.5      1.19   \n",
       "2          0.172858    0.043395    0.075254    0.006413      59.1      0.54   \n",
       "3          0.101144    0.012488    0.031526    0.084045      52.5      0.98   \n",
       "4          0.097447    0.021106    0.032121    0.071950      56.2      0.34   \n",
       "\n",
       "   ...  Kd_Fe_Mg_IdealWB  Mgno_Liq_noFe3  Mgno_Liq_Fe2  DeltaFeMg_WB  \\\n",
       "0  ...          0.266105        0.549218      0.549218      0.042020   \n",
       "1  ...          0.261704        0.505036      0.505036      0.039226   \n",
       "2  ...          0.254450        0.526025      0.526025      0.054951   \n",
       "3  ...          0.263544        0.525239      0.525239      0.038360   \n",
       "4  ...          0.253684        0.438875      0.438875      0.030335   \n",
       "\n",
       "   Kd_Ideal_Put  Kd_Ideal_Masotta  DiHd_Pred_Mollo  EnFs_Pred_Mollo  \\\n",
       "0      0.266900          0.130058         0.725012         0.092969   \n",
       "1      0.259270          0.131700         0.715654         0.089645   \n",
       "2      0.250742          0.136544         0.739083         0.142940   \n",
       "3      0.259514          0.124040         0.712004         0.102108   \n",
       "4      0.245505          0.125902         0.734744         0.085546   \n",
       "\n",
       "   CaTs_Pred_P1999  CrCaTS_Pred_P1999  \n",
       "0         0.013418                0.0  \n",
       "1         0.013021                0.0  \n",
       "2         0.016630                0.0  \n",
       "3         0.014301                0.0  \n",
       "4         0.010990                0.0  \n",
       "\n",
       "[5 rows x 100 columns]"
      ]
     },
     "execution_count": 12,
     "metadata": {},
     "output_type": "execute_result"
    }
   ],
   "source": [
    "Temp_T33_0H2O_EqTests=pt.calculate_cpx_liq_temp(cpx_comps=Cpxs, liq_comps=Liqs, equationT=\"T_Put2008_eq33\", P=5, H2O_Liq=0, eq_tests=True)\n",
    "Temp_T33_0H2O_EqTests"
   ]
  },
  {
   "cell_type": "markdown",
   "id": "a3edf3cc-d1e6-449a-a17c-1498104d79ff",
   "metadata": {},
   "source": [
    "# Example calculation 2 - Calculating pressure for a known temperature\n",
    "- Here, T=1300 K"
   ]
  },
  {
   "cell_type": "code",
   "execution_count": 13,
   "id": "1b9717ef-2ada-432a-875d-3038041096fd",
   "metadata": {},
   "outputs": [
    {
     "data": {
      "text/plain": [
       "0    0.634602\n",
       "1    1.655874\n",
       "2    1.146083\n",
       "3    1.028349\n",
       "4    3.854147\n",
       "dtype: float64"
      ]
     },
     "execution_count": 13,
     "metadata": {},
     "output_type": "execute_result"
    }
   ],
   "source": [
    "Temp_PNeave=pt.calculate_cpx_liq_press(cpx_comps=Cpxs, liq_comps=Liqs, equationP=\"P_Neave2017\", T=1300)\n",
    "Temp_PNeave"
   ]
  },
  {
   "cell_type": "markdown",
   "id": "62fb4d8d-0b8e-45a9-bacf-28da1bec7d72",
   "metadata": {},
   "source": [
    "## Can do the same as before, overwrite water, ask for equilibrium tests. Using equation 30 from Putirka (2008) this time\n",
    "- Here, setting H2O=0 wt%, Temp = 1300 K"
   ]
  },
  {
   "cell_type": "code",
   "execution_count": 14,
   "id": "0a7e6efd-9b50-42de-a2c0-6749098df0e9",
   "metadata": {},
   "outputs": [
    {
     "name": "stdout",
     "output_type": "stream",
     "text": [
      "Using Fe3FeT from input file to calculate Kd Fe-Mg\n"
     ]
    },
    {
     "data": {
      "text/html": [
       "<div>\n",
       "<style scoped>\n",
       "    .dataframe tbody tr th:only-of-type {\n",
       "        vertical-align: middle;\n",
       "    }\n",
       "\n",
       "    .dataframe tbody tr th {\n",
       "        vertical-align: top;\n",
       "    }\n",
       "\n",
       "    .dataframe thead th {\n",
       "        text-align: right;\n",
       "    }\n",
       "</style>\n",
       "<table border=\"1\" class=\"dataframe\">\n",
       "  <thead>\n",
       "    <tr style=\"text-align: right;\">\n",
       "      <th></th>\n",
       "      <th>P_kbar_calc</th>\n",
       "      <th>T_K_calc</th>\n",
       "      <th>Eq Tests Neave2017?</th>\n",
       "      <th>Delta_Kd_Put2008</th>\n",
       "      <th>Delta_Kd_Mas2013</th>\n",
       "      <th>Delta_EnFs</th>\n",
       "      <th>Delta_CaTs</th>\n",
       "      <th>Delta_DiHd</th>\n",
       "      <th>SiO2_Liq</th>\n",
       "      <th>TiO2_Liq</th>\n",
       "      <th>...</th>\n",
       "      <th>Kd_Fe_Mg_IdealWB</th>\n",
       "      <th>Mgno_Liq_noFe3</th>\n",
       "      <th>Mgno_Liq_Fe2</th>\n",
       "      <th>DeltaFeMg_WB</th>\n",
       "      <th>Kd_Ideal_Put</th>\n",
       "      <th>Kd_Ideal_Masotta</th>\n",
       "      <th>DiHd_Pred_Mollo</th>\n",
       "      <th>EnFs_Pred_Mollo</th>\n",
       "      <th>CaTs_Pred_P1999</th>\n",
       "      <th>CrCaTS_Pred_P1999</th>\n",
       "    </tr>\n",
       "  </thead>\n",
       "  <tbody>\n",
       "    <tr>\n",
       "      <th>0</th>\n",
       "      <td>-2.090909</td>\n",
       "      <td>1300</td>\n",
       "      <td>N</td>\n",
       "      <td>0.015390</td>\n",
       "      <td>0.116829</td>\n",
       "      <td>0.002696</td>\n",
       "      <td>0.019173</td>\n",
       "      <td>0.089851</td>\n",
       "      <td>51.1</td>\n",
       "      <td>0.93</td>\n",
       "      <td>...</td>\n",
       "      <td>0.266105</td>\n",
       "      <td>0.549218</td>\n",
       "      <td>0.549218</td>\n",
       "      <td>0.042020</td>\n",
       "      <td>0.239475</td>\n",
       "      <td>0.107256</td>\n",
       "      <td>0.904287</td>\n",
       "      <td>0.101131</td>\n",
       "      <td>0.011202</td>\n",
       "      <td>0.0</td>\n",
       "    </tr>\n",
       "    <tr>\n",
       "      <th>1</th>\n",
       "      <td>-2.604072</td>\n",
       "      <td>1300</td>\n",
       "      <td>Y</td>\n",
       "      <td>0.016996</td>\n",
       "      <td>0.108121</td>\n",
       "      <td>0.006605</td>\n",
       "      <td>0.025431</td>\n",
       "      <td>0.049622</td>\n",
       "      <td>51.5</td>\n",
       "      <td>1.19</td>\n",
       "      <td>...</td>\n",
       "      <td>0.261704</td>\n",
       "      <td>0.505036</td>\n",
       "      <td>0.505036</td>\n",
       "      <td>0.039226</td>\n",
       "      <td>0.239475</td>\n",
       "      <td>0.114358</td>\n",
       "      <td>0.869560</td>\n",
       "      <td>0.103825</td>\n",
       "      <td>0.011385</td>\n",
       "      <td>0.0</td>\n",
       "    </tr>\n",
       "    <tr>\n",
       "      <th>2</th>\n",
       "      <td>-2.145841</td>\n",
       "      <td>1300</td>\n",
       "      <td>N</td>\n",
       "      <td>0.069927</td>\n",
       "      <td>0.183575</td>\n",
       "      <td>0.074576</td>\n",
       "      <td>0.076260</td>\n",
       "      <td>0.125978</td>\n",
       "      <td>59.1</td>\n",
       "      <td>0.54</td>\n",
       "      <td>...</td>\n",
       "      <td>0.254450</td>\n",
       "      <td>0.526025</td>\n",
       "      <td>0.526025</td>\n",
       "      <td>0.054951</td>\n",
       "      <td>0.239475</td>\n",
       "      <td>0.125827</td>\n",
       "      <td>0.858649</td>\n",
       "      <td>0.174121</td>\n",
       "      <td>0.015625</td>\n",
       "      <td>0.0</td>\n",
       "    </tr>\n",
       "    <tr>\n",
       "      <th>3</th>\n",
       "      <td>-2.334004</td>\n",
       "      <td>1300</td>\n",
       "      <td>N</td>\n",
       "      <td>0.014291</td>\n",
       "      <td>0.117657</td>\n",
       "      <td>0.003134</td>\n",
       "      <td>0.033245</td>\n",
       "      <td>0.066274</td>\n",
       "      <td>52.5</td>\n",
       "      <td>0.98</td>\n",
       "      <td>...</td>\n",
       "      <td>0.263544</td>\n",
       "      <td>0.525239</td>\n",
       "      <td>0.525239</td>\n",
       "      <td>0.038360</td>\n",
       "      <td>0.239475</td>\n",
       "      <td>0.107526</td>\n",
       "      <td>0.862323</td>\n",
       "      <td>0.117730</td>\n",
       "      <td>0.012582</td>\n",
       "      <td>0.0</td>\n",
       "    </tr>\n",
       "    <tr>\n",
       "      <th>4</th>\n",
       "      <td>-0.177987</td>\n",
       "      <td>1300</td>\n",
       "      <td>N</td>\n",
       "      <td>0.016126</td>\n",
       "      <td>0.102892</td>\n",
       "      <td>0.007476</td>\n",
       "      <td>0.032562</td>\n",
       "      <td>0.004383</td>\n",
       "      <td>56.2</td>\n",
       "      <td>0.34</td>\n",
       "      <td>...</td>\n",
       "      <td>0.253684</td>\n",
       "      <td>0.438875</td>\n",
       "      <td>0.438875</td>\n",
       "      <td>0.030335</td>\n",
       "      <td>0.239475</td>\n",
       "      <td>0.120457</td>\n",
       "      <td>0.811076</td>\n",
       "      <td>0.099176</td>\n",
       "      <td>0.010549</td>\n",
       "      <td>0.0</td>\n",
       "    </tr>\n",
       "  </tbody>\n",
       "</table>\n",
       "<p>5 rows × 100 columns</p>\n",
       "</div>"
      ],
      "text/plain": [
       "   P_kbar_calc  T_K_calc Eq Tests Neave2017?  Delta_Kd_Put2008  \\\n",
       "0    -2.090909      1300                   N          0.015390   \n",
       "1    -2.604072      1300                   Y          0.016996   \n",
       "2    -2.145841      1300                   N          0.069927   \n",
       "3    -2.334004      1300                   N          0.014291   \n",
       "4    -0.177987      1300                   N          0.016126   \n",
       "\n",
       "   Delta_Kd_Mas2013  Delta_EnFs  Delta_CaTs  Delta_DiHd  SiO2_Liq  TiO2_Liq  \\\n",
       "0          0.116829    0.002696    0.019173    0.089851      51.1      0.93   \n",
       "1          0.108121    0.006605    0.025431    0.049622      51.5      1.19   \n",
       "2          0.183575    0.074576    0.076260    0.125978      59.1      0.54   \n",
       "3          0.117657    0.003134    0.033245    0.066274      52.5      0.98   \n",
       "4          0.102892    0.007476    0.032562    0.004383      56.2      0.34   \n",
       "\n",
       "   ...  Kd_Fe_Mg_IdealWB  Mgno_Liq_noFe3  Mgno_Liq_Fe2  DeltaFeMg_WB  \\\n",
       "0  ...          0.266105        0.549218      0.549218      0.042020   \n",
       "1  ...          0.261704        0.505036      0.505036      0.039226   \n",
       "2  ...          0.254450        0.526025      0.526025      0.054951   \n",
       "3  ...          0.263544        0.525239      0.525239      0.038360   \n",
       "4  ...          0.253684        0.438875      0.438875      0.030335   \n",
       "\n",
       "   Kd_Ideal_Put  Kd_Ideal_Masotta  DiHd_Pred_Mollo  EnFs_Pred_Mollo  \\\n",
       "0      0.239475          0.107256         0.904287         0.101131   \n",
       "1      0.239475          0.114358         0.869560         0.103825   \n",
       "2      0.239475          0.125827         0.858649         0.174121   \n",
       "3      0.239475          0.107526         0.862323         0.117730   \n",
       "4      0.239475          0.120457         0.811076         0.099176   \n",
       "\n",
       "   CaTs_Pred_P1999  CrCaTS_Pred_P1999  \n",
       "0         0.011202                0.0  \n",
       "1         0.011385                0.0  \n",
       "2         0.015625                0.0  \n",
       "3         0.012582                0.0  \n",
       "4         0.010549                0.0  \n",
       "\n",
       "[5 rows x 100 columns]"
      ]
     },
     "execution_count": 14,
     "metadata": {},
     "output_type": "execute_result"
    }
   ],
   "source": [
    "Temp_P30_0H2O=pt.calculate_cpx_liq_press(cpx_comps=Cpxs, liq_comps=Liqs, equationP=\"P_Put2008_eq30\", T=1300, H2O_Liq=0, eq_tests=True)\n",
    "Temp_P30_0H2O"
   ]
  },
  {
   "cell_type": "markdown",
   "id": "54209b54-0b46-437d-bdfd-433b49ec0aa5",
   "metadata": {},
   "source": [
    "## Can also specify a different Fe3Fet_Liq ratio, as delta Kd is calculated using just Fe2+ in the melt\n",
    "- Note, it is debated whether Kd Fe-Mg should be calculated with all Fe (to do that here, specify Fe3Fet_Liq), or using just Fe2+ (e.g., Neave and Putirka, 2017)\n",
    "- you can compare the delta Kd Put 2008 in this option from the answers above "
   ]
  },
  {
   "cell_type": "code",
   "execution_count": 15,
   "id": "bd31e7fa-70b0-4ea2-9f6b-2bc09d21f824",
   "metadata": {},
   "outputs": [
    {
     "data": {
      "text/html": [
       "<div>\n",
       "<style scoped>\n",
       "    .dataframe tbody tr th:only-of-type {\n",
       "        vertical-align: middle;\n",
       "    }\n",
       "\n",
       "    .dataframe tbody tr th {\n",
       "        vertical-align: top;\n",
       "    }\n",
       "\n",
       "    .dataframe thead th {\n",
       "        text-align: right;\n",
       "    }\n",
       "</style>\n",
       "<table border=\"1\" class=\"dataframe\">\n",
       "  <thead>\n",
       "    <tr style=\"text-align: right;\">\n",
       "      <th></th>\n",
       "      <th>P_kbar_calc</th>\n",
       "      <th>T_K_calc</th>\n",
       "      <th>Eq Tests Neave2017?</th>\n",
       "      <th>Delta_Kd_Put2008</th>\n",
       "      <th>Delta_Kd_Mas2013</th>\n",
       "      <th>Delta_EnFs</th>\n",
       "      <th>Delta_CaTs</th>\n",
       "      <th>Delta_DiHd</th>\n",
       "      <th>SiO2_Liq</th>\n",
       "      <th>TiO2_Liq</th>\n",
       "      <th>...</th>\n",
       "      <th>Kd_Fe_Mg_IdealWB</th>\n",
       "      <th>Mgno_Liq_noFe3</th>\n",
       "      <th>Mgno_Liq_Fe2</th>\n",
       "      <th>DeltaFeMg_WB</th>\n",
       "      <th>Kd_Ideal_Put</th>\n",
       "      <th>Kd_Ideal_Masotta</th>\n",
       "      <th>DiHd_Pred_Mollo</th>\n",
       "      <th>EnFs_Pred_Mollo</th>\n",
       "      <th>CaTs_Pred_P1999</th>\n",
       "      <th>CrCaTS_Pred_P1999</th>\n",
       "    </tr>\n",
       "  </thead>\n",
       "  <tbody>\n",
       "    <tr>\n",
       "      <th>0</th>\n",
       "      <td>-2.090909</td>\n",
       "      <td>1300</td>\n",
       "      <td>N</td>\n",
       "      <td>0.080646</td>\n",
       "      <td>0.212865</td>\n",
       "      <td>0.002696</td>\n",
       "      <td>0.019173</td>\n",
       "      <td>0.089851</td>\n",
       "      <td>51.1</td>\n",
       "      <td>0.93</td>\n",
       "      <td>...</td>\n",
       "      <td>0.266105</td>\n",
       "      <td>0.549218</td>\n",
       "      <td>0.635106</td>\n",
       "      <td>0.054016</td>\n",
       "      <td>0.239475</td>\n",
       "      <td>0.107256</td>\n",
       "      <td>0.904287</td>\n",
       "      <td>0.101131</td>\n",
       "      <td>0.011202</td>\n",
       "      <td>0.0</td>\n",
       "    </tr>\n",
       "    <tr>\n",
       "      <th>1</th>\n",
       "      <td>-2.604072</td>\n",
       "      <td>1300</td>\n",
       "      <td>N</td>\n",
       "      <td>0.078351</td>\n",
       "      <td>0.203468</td>\n",
       "      <td>0.006605</td>\n",
       "      <td>0.025431</td>\n",
       "      <td>0.049622</td>\n",
       "      <td>51.5</td>\n",
       "      <td>1.19</td>\n",
       "      <td>...</td>\n",
       "      <td>0.261704</td>\n",
       "      <td>0.505036</td>\n",
       "      <td>0.593105</td>\n",
       "      <td>0.056122</td>\n",
       "      <td>0.239475</td>\n",
       "      <td>0.114358</td>\n",
       "      <td>0.869560</td>\n",
       "      <td>0.103825</td>\n",
       "      <td>0.011385</td>\n",
       "      <td>0.0</td>\n",
       "    </tr>\n",
       "    <tr>\n",
       "      <th>2</th>\n",
       "      <td>-2.145841</td>\n",
       "      <td>1300</td>\n",
       "      <td>N</td>\n",
       "      <td>0.202528</td>\n",
       "      <td>0.316176</td>\n",
       "      <td>0.074576</td>\n",
       "      <td>0.076260</td>\n",
       "      <td>0.125978</td>\n",
       "      <td>59.1</td>\n",
       "      <td>0.54</td>\n",
       "      <td>...</td>\n",
       "      <td>0.254450</td>\n",
       "      <td>0.526025</td>\n",
       "      <td>0.613220</td>\n",
       "      <td>0.187552</td>\n",
       "      <td>0.239475</td>\n",
       "      <td>0.125827</td>\n",
       "      <td>0.858649</td>\n",
       "      <td>0.174121</td>\n",
       "      <td>0.015625</td>\n",
       "      <td>0.0</td>\n",
       "    </tr>\n",
       "    <tr>\n",
       "      <th>3</th>\n",
       "      <td>-2.334004</td>\n",
       "      <td>1300</td>\n",
       "      <td>N</td>\n",
       "      <td>0.082216</td>\n",
       "      <td>0.214165</td>\n",
       "      <td>0.003134</td>\n",
       "      <td>0.033245</td>\n",
       "      <td>0.066274</td>\n",
       "      <td>52.5</td>\n",
       "      <td>0.98</td>\n",
       "      <td>...</td>\n",
       "      <td>0.263544</td>\n",
       "      <td>0.525239</td>\n",
       "      <td>0.612473</td>\n",
       "      <td>0.058147</td>\n",
       "      <td>0.239475</td>\n",
       "      <td>0.107526</td>\n",
       "      <td>0.862323</td>\n",
       "      <td>0.117730</td>\n",
       "      <td>0.012582</td>\n",
       "      <td>0.0</td>\n",
       "    </tr>\n",
       "    <tr>\n",
       "      <th>4</th>\n",
       "      <td>-0.177987</td>\n",
       "      <td>1300</td>\n",
       "      <td>N</td>\n",
       "      <td>0.079595</td>\n",
       "      <td>0.198613</td>\n",
       "      <td>0.007476</td>\n",
       "      <td>0.032562</td>\n",
       "      <td>0.004383</td>\n",
       "      <td>56.2</td>\n",
       "      <td>0.34</td>\n",
       "      <td>...</td>\n",
       "      <td>0.253684</td>\n",
       "      <td>0.438875</td>\n",
       "      <td>0.527708</td>\n",
       "      <td>0.065386</td>\n",
       "      <td>0.239475</td>\n",
       "      <td>0.120457</td>\n",
       "      <td>0.811076</td>\n",
       "      <td>0.099176</td>\n",
       "      <td>0.010549</td>\n",
       "      <td>0.0</td>\n",
       "    </tr>\n",
       "  </tbody>\n",
       "</table>\n",
       "<p>5 rows × 100 columns</p>\n",
       "</div>"
      ],
      "text/plain": [
       "   P_kbar_calc  T_K_calc Eq Tests Neave2017?  Delta_Kd_Put2008  \\\n",
       "0    -2.090909      1300                   N          0.080646   \n",
       "1    -2.604072      1300                   N          0.078351   \n",
       "2    -2.145841      1300                   N          0.202528   \n",
       "3    -2.334004      1300                   N          0.082216   \n",
       "4    -0.177987      1300                   N          0.079595   \n",
       "\n",
       "   Delta_Kd_Mas2013  Delta_EnFs  Delta_CaTs  Delta_DiHd  SiO2_Liq  TiO2_Liq  \\\n",
       "0          0.212865    0.002696    0.019173    0.089851      51.1      0.93   \n",
       "1          0.203468    0.006605    0.025431    0.049622      51.5      1.19   \n",
       "2          0.316176    0.074576    0.076260    0.125978      59.1      0.54   \n",
       "3          0.214165    0.003134    0.033245    0.066274      52.5      0.98   \n",
       "4          0.198613    0.007476    0.032562    0.004383      56.2      0.34   \n",
       "\n",
       "   ...  Kd_Fe_Mg_IdealWB  Mgno_Liq_noFe3  Mgno_Liq_Fe2  DeltaFeMg_WB  \\\n",
       "0  ...          0.266105        0.549218      0.635106      0.054016   \n",
       "1  ...          0.261704        0.505036      0.593105      0.056122   \n",
       "2  ...          0.254450        0.526025      0.613220      0.187552   \n",
       "3  ...          0.263544        0.525239      0.612473      0.058147   \n",
       "4  ...          0.253684        0.438875      0.527708      0.065386   \n",
       "\n",
       "   Kd_Ideal_Put  Kd_Ideal_Masotta  DiHd_Pred_Mollo  EnFs_Pred_Mollo  \\\n",
       "0      0.239475          0.107256         0.904287         0.101131   \n",
       "1      0.239475          0.114358         0.869560         0.103825   \n",
       "2      0.239475          0.125827         0.858649         0.174121   \n",
       "3      0.239475          0.107526         0.862323         0.117730   \n",
       "4      0.239475          0.120457         0.811076         0.099176   \n",
       "\n",
       "   CaTs_Pred_P1999  CrCaTS_Pred_P1999  \n",
       "0         0.011202                0.0  \n",
       "1         0.011385                0.0  \n",
       "2         0.015625                0.0  \n",
       "3         0.012582                0.0  \n",
       "4         0.010549                0.0  \n",
       "\n",
       "[5 rows x 100 columns]"
      ]
     },
     "execution_count": 15,
     "metadata": {},
     "output_type": "execute_result"
    }
   ],
   "source": [
    "Temp_P30_0H2O_30Fe=pt.calculate_cpx_liq_press(cpx_comps=Cpxs, liq_comps=Liqs, equationP=\"P_Put2008_eq30\", T=1300, H2O_Liq=0, Fe3Fet_Liq=0.3, eq_tests=True)\n",
    "Temp_P30_0H2O_30Fe"
   ]
  },
  {
   "cell_type": "markdown",
   "id": "9e135427-f3c4-4071-aacb-c95770ad12c3",
   "metadata": {},
   "source": [
    "# Example calculation 3 - Iterating pressure and temperature\n",
    "- In reality, unles you are an experimentalist, you rarely know one of pressure or temperature\n",
    "- In Keith Putirka's spreadsheets, you can link up columns to iterate P and T towards a solution, this can be done here using the function calculate_cpx_liq_press_temp"
   ]
  },
  {
   "cell_type": "markdown",
   "id": "96bc6de4-ba56-411c-8b52-9a15e31c9414",
   "metadata": {},
   "source": [
    "## Here, we iterate equation 30 from Putirka (2008) for P, and equation 33 from Putirka (2008) for temperature\n",
    "- Without specifying anything else, you get a dataframe with columns for calculated pressure and temperature"
   ]
  },
  {
   "cell_type": "code",
   "execution_count": 16,
   "id": "05abbb47-74a4-4c67-9d67-e3b8e57edbe2",
   "metadata": {},
   "outputs": [
    {
     "data": {
      "text/html": [
       "<div>\n",
       "<style scoped>\n",
       "    .dataframe tbody tr th:only-of-type {\n",
       "        vertical-align: middle;\n",
       "    }\n",
       "\n",
       "    .dataframe tbody tr th {\n",
       "        vertical-align: top;\n",
       "    }\n",
       "\n",
       "    .dataframe thead th {\n",
       "        text-align: right;\n",
       "    }\n",
       "</style>\n",
       "<table border=\"1\" class=\"dataframe\">\n",
       "  <thead>\n",
       "    <tr style=\"text-align: right;\">\n",
       "      <th></th>\n",
       "      <th>P_kbar_calc</th>\n",
       "      <th>T_K_calc</th>\n",
       "    </tr>\n",
       "  </thead>\n",
       "  <tbody>\n",
       "    <tr>\n",
       "      <th>0</th>\n",
       "      <td>2.530914</td>\n",
       "      <td>1352.408784</td>\n",
       "    </tr>\n",
       "    <tr>\n",
       "      <th>1</th>\n",
       "      <td>1.786845</td>\n",
       "      <td>1290.151507</td>\n",
       "    </tr>\n",
       "    <tr>\n",
       "      <th>2</th>\n",
       "      <td>1.171520</td>\n",
       "      <td>1255.933868</td>\n",
       "    </tr>\n",
       "    <tr>\n",
       "      <th>3</th>\n",
       "      <td>2.143416</td>\n",
       "      <td>1292.669093</td>\n",
       "    </tr>\n",
       "    <tr>\n",
       "      <th>4</th>\n",
       "      <td>2.763538</td>\n",
       "      <td>1243.469600</td>\n",
       "    </tr>\n",
       "  </tbody>\n",
       "</table>\n",
       "</div>"
      ],
      "text/plain": [
       "   P_kbar_calc     T_K_calc\n",
       "0     2.530914  1352.408784\n",
       "1     1.786845  1290.151507\n",
       "2     1.171520  1255.933868\n",
       "3     2.143416  1292.669093\n",
       "4     2.763538  1243.469600"
      ]
     },
     "execution_count": 16,
     "metadata": {},
     "output_type": "execute_result"
    }
   ],
   "source": [
    "PT_iter_30_31=pt.calculate_cpx_liq_press_temp(cpx_comps=Cpxs, liq_comps=Liqs, equationP=\"P_Put2008_eq30\", equationT=\"T_Put2008_eq33\")\n",
    "PT_iter_30_31"
   ]
  },
  {
   "cell_type": "markdown",
   "id": "f5858da0-3945-4796-a4f9-18ee87a71f28",
   "metadata": {},
   "source": [
    "#### Again, you can also request equilibrium test results"
   ]
  },
  {
   "cell_type": "code",
   "execution_count": 17,
   "id": "d3f8de62-5cf5-4139-bc0b-6e7c8c6653c4",
   "metadata": {},
   "outputs": [
    {
     "name": "stdout",
     "output_type": "stream",
     "text": [
      "Using Fe3FeT from input file to calculate Kd Fe-Mg\n"
     ]
    },
    {
     "data": {
      "text/html": [
       "<div>\n",
       "<style scoped>\n",
       "    .dataframe tbody tr th:only-of-type {\n",
       "        vertical-align: middle;\n",
       "    }\n",
       "\n",
       "    .dataframe tbody tr th {\n",
       "        vertical-align: top;\n",
       "    }\n",
       "\n",
       "    .dataframe thead th {\n",
       "        text-align: right;\n",
       "    }\n",
       "</style>\n",
       "<table border=\"1\" class=\"dataframe\">\n",
       "  <thead>\n",
       "    <tr style=\"text-align: right;\">\n",
       "      <th></th>\n",
       "      <th>P_kbar_calc</th>\n",
       "      <th>T_K_calc</th>\n",
       "      <th>Eq Tests Neave2017?</th>\n",
       "      <th>Delta_Kd_Put2008</th>\n",
       "      <th>Delta_Kd_Mas2013</th>\n",
       "      <th>Delta_EnFs</th>\n",
       "      <th>Delta_CaTs</th>\n",
       "      <th>Delta_DiHd</th>\n",
       "      <th>SiO2_Liq</th>\n",
       "      <th>TiO2_Liq</th>\n",
       "      <th>...</th>\n",
       "      <th>Kd_Fe_Mg_IdealWB</th>\n",
       "      <th>Mgno_Liq_noFe3</th>\n",
       "      <th>Mgno_Liq_Fe2</th>\n",
       "      <th>DeltaFeMg_WB</th>\n",
       "      <th>Kd_Ideal_Put</th>\n",
       "      <th>Kd_Ideal_Masotta</th>\n",
       "      <th>DiHd_Pred_Mollo</th>\n",
       "      <th>EnFs_Pred_Mollo</th>\n",
       "      <th>CaTs_Pred_P1999</th>\n",
       "      <th>CrCaTS_Pred_P1999</th>\n",
       "    </tr>\n",
       "  </thead>\n",
       "  <tbody>\n",
       "    <tr>\n",
       "      <th>0</th>\n",
       "      <td>2.530914</td>\n",
       "      <td>1352.408784</td>\n",
       "      <td>Y</td>\n",
       "      <td>0.027981</td>\n",
       "      <td>0.106599</td>\n",
       "      <td>0.011304</td>\n",
       "      <td>0.018174</td>\n",
       "      <td>0.014780</td>\n",
       "      <td>51.1</td>\n",
       "      <td>0.93</td>\n",
       "      <td>...</td>\n",
       "      <td>0.266105</td>\n",
       "      <td>0.549218</td>\n",
       "      <td>0.549218</td>\n",
       "      <td>0.042020</td>\n",
       "      <td>0.252066</td>\n",
       "      <td>0.117485</td>\n",
       "      <td>0.799657</td>\n",
       "      <td>0.092523</td>\n",
       "      <td>0.012201</td>\n",
       "      <td>0.0</td>\n",
       "    </tr>\n",
       "    <tr>\n",
       "      <th>1</th>\n",
       "      <td>1.786845</td>\n",
       "      <td>1290.151507</td>\n",
       "      <td>Y</td>\n",
       "      <td>0.014591</td>\n",
       "      <td>0.110154</td>\n",
       "      <td>0.009917</td>\n",
       "      <td>0.025619</td>\n",
       "      <td>0.009195</td>\n",
       "      <td>51.5</td>\n",
       "      <td>1.19</td>\n",
       "      <td>...</td>\n",
       "      <td>0.261704</td>\n",
       "      <td>0.505036</td>\n",
       "      <td>0.505036</td>\n",
       "      <td>0.039226</td>\n",
       "      <td>0.237070</td>\n",
       "      <td>0.112324</td>\n",
       "      <td>0.829134</td>\n",
       "      <td>0.087303</td>\n",
       "      <td>0.011198</td>\n",
       "      <td>0.0</td>\n",
       "    </tr>\n",
       "    <tr>\n",
       "      <th>2</th>\n",
       "      <td>1.171520</td>\n",
       "      <td>1255.933868</td>\n",
       "      <td>N</td>\n",
       "      <td>0.080784</td>\n",
       "      <td>0.193537</td>\n",
       "      <td>0.046615</td>\n",
       "      <td>0.077199</td>\n",
       "      <td>0.134845</td>\n",
       "      <td>59.1</td>\n",
       "      <td>0.54</td>\n",
       "      <td>...</td>\n",
       "      <td>0.254450</td>\n",
       "      <td>0.526025</td>\n",
       "      <td>0.526025</td>\n",
       "      <td>0.054951</td>\n",
       "      <td>0.228618</td>\n",
       "      <td>0.115865</td>\n",
       "      <td>0.867516</td>\n",
       "      <td>0.146160</td>\n",
       "      <td>0.014686</td>\n",
       "      <td>0.0</td>\n",
       "    </tr>\n",
       "    <tr>\n",
       "      <th>3</th>\n",
       "      <td>2.143416</td>\n",
       "      <td>1292.669093</td>\n",
       "      <td>N</td>\n",
       "      <td>0.012502</td>\n",
       "      <td>0.119081</td>\n",
       "      <td>0.015465</td>\n",
       "      <td>0.033388</td>\n",
       "      <td>0.022622</td>\n",
       "      <td>52.5</td>\n",
       "      <td>0.98</td>\n",
       "      <td>...</td>\n",
       "      <td>0.263544</td>\n",
       "      <td>0.525239</td>\n",
       "      <td>0.525239</td>\n",
       "      <td>0.038360</td>\n",
       "      <td>0.237686</td>\n",
       "      <td>0.106102</td>\n",
       "      <td>0.818671</td>\n",
       "      <td>0.099130</td>\n",
       "      <td>0.012439</td>\n",
       "      <td>0.0</td>\n",
       "    </tr>\n",
       "    <tr>\n",
       "      <th>4</th>\n",
       "      <td>2.763538</td>\n",
       "      <td>1243.469600</td>\n",
       "      <td>N</td>\n",
       "      <td>0.002154</td>\n",
       "      <td>0.115101</td>\n",
       "      <td>0.025085</td>\n",
       "      <td>0.033542</td>\n",
       "      <td>0.029538</td>\n",
       "      <td>56.2</td>\n",
       "      <td>0.34</td>\n",
       "      <td>...</td>\n",
       "      <td>0.253684</td>\n",
       "      <td>0.438875</td>\n",
       "      <td>0.438875</td>\n",
       "      <td>0.030335</td>\n",
       "      <td>0.225503</td>\n",
       "      <td>0.108248</td>\n",
       "      <td>0.836231</td>\n",
       "      <td>0.081567</td>\n",
       "      <td>0.009568</td>\n",
       "      <td>0.0</td>\n",
       "    </tr>\n",
       "  </tbody>\n",
       "</table>\n",
       "<p>5 rows × 100 columns</p>\n",
       "</div>"
      ],
      "text/plain": [
       "   P_kbar_calc     T_K_calc Eq Tests Neave2017?  Delta_Kd_Put2008  \\\n",
       "0     2.530914  1352.408784                   Y          0.027981   \n",
       "1     1.786845  1290.151507                   Y          0.014591   \n",
       "2     1.171520  1255.933868                   N          0.080784   \n",
       "3     2.143416  1292.669093                   N          0.012502   \n",
       "4     2.763538  1243.469600                   N          0.002154   \n",
       "\n",
       "   Delta_Kd_Mas2013  Delta_EnFs  Delta_CaTs  Delta_DiHd  SiO2_Liq  TiO2_Liq  \\\n",
       "0          0.106599    0.011304    0.018174    0.014780      51.1      0.93   \n",
       "1          0.110154    0.009917    0.025619    0.009195      51.5      1.19   \n",
       "2          0.193537    0.046615    0.077199    0.134845      59.1      0.54   \n",
       "3          0.119081    0.015465    0.033388    0.022622      52.5      0.98   \n",
       "4          0.115101    0.025085    0.033542    0.029538      56.2      0.34   \n",
       "\n",
       "   ...  Kd_Fe_Mg_IdealWB  Mgno_Liq_noFe3  Mgno_Liq_Fe2  DeltaFeMg_WB  \\\n",
       "0  ...          0.266105        0.549218      0.549218      0.042020   \n",
       "1  ...          0.261704        0.505036      0.505036      0.039226   \n",
       "2  ...          0.254450        0.526025      0.526025      0.054951   \n",
       "3  ...          0.263544        0.525239      0.525239      0.038360   \n",
       "4  ...          0.253684        0.438875      0.438875      0.030335   \n",
       "\n",
       "   Kd_Ideal_Put  Kd_Ideal_Masotta  DiHd_Pred_Mollo  EnFs_Pred_Mollo  \\\n",
       "0      0.252066          0.117485         0.799657         0.092523   \n",
       "1      0.237070          0.112324         0.829134         0.087303   \n",
       "2      0.228618          0.115865         0.867516         0.146160   \n",
       "3      0.237686          0.106102         0.818671         0.099130   \n",
       "4      0.225503          0.108248         0.836231         0.081567   \n",
       "\n",
       "   CaTs_Pred_P1999  CrCaTS_Pred_P1999  \n",
       "0         0.012201                0.0  \n",
       "1         0.011198                0.0  \n",
       "2         0.014686                0.0  \n",
       "3         0.012439                0.0  \n",
       "4         0.009568                0.0  \n",
       "\n",
       "[5 rows x 100 columns]"
      ]
     },
     "execution_count": 17,
     "metadata": {},
     "output_type": "execute_result"
    }
   ],
   "source": [
    "PT_iter_30_31_EqTests=pt.calculate_cpx_liq_press_temp(cpx_comps=Cpxs, liq_comps=Liqs, equationP=\"P_Put2008_eq30\", equationT=\"T_Put2008_eq33\", eq_tests=True)\n",
    "PT_iter_30_31_EqTests"
   ]
  },
  {
   "cell_type": "markdown",
   "id": "37922a21-ec1c-412d-920d-f7dff68cd897",
   "metadata": {},
   "source": [
    "# Cpx-only thermobarometry\n",
    "- Very similar to above, just don't need liq_comps input"
   ]
  },
  {
   "cell_type": "markdown",
   "id": "e0441ac9-81af-4f0b-b7df-01966ba2a156",
   "metadata": {},
   "source": [
    "## E.g., calculating pressure using equation 32b \n",
    "- This equation requires H2O content in the liquid. If you don't enter anything, it assumes H2O=0\n",
    "- else specify using H2O_Liq=...."
   ]
  },
  {
   "cell_type": "code",
   "execution_count": 18,
   "id": "d1147729-90ed-4da4-bb22-6c534b99f62a",
   "metadata": {},
   "outputs": [
    {
     "data": {
      "text/plain": [
       "0   -1.567381\n",
       "1   -1.202221\n",
       "2   -0.317946\n",
       "3   -0.996608\n",
       "4    0.467437\n",
       "dtype: float64"
      ]
     },
     "execution_count": 18,
     "metadata": {},
     "output_type": "execute_result"
    }
   ],
   "source": [
    "eq32b_noH=pt.calculate_cpx_only_press(cpx_comps=Cpxs, T=1300,\n",
    "       equationP=\"P_Put2008_eq32b\")\n",
    "eq32b_noH"
   ]
  },
  {
   "cell_type": "code",
   "execution_count": 19,
   "id": "f46ec246-6762-4d88-a62f-37fa25643684",
   "metadata": {},
   "outputs": [
    {
     "data": {
      "text/plain": [
       "0    0.697619\n",
       "1    1.062779\n",
       "2    1.947054\n",
       "3    1.268392\n",
       "4    2.732437\n",
       "dtype: float64"
      ]
     },
     "execution_count": 19,
     "metadata": {},
     "output_type": "execute_result"
    }
   ],
   "source": [
    "eq32b_5H=pt.calculate_cpx_only_press(cpx_comps=Cpxs, T=1300,\n",
    "       equationP=\"P_Put2008_eq32b\", H2O_Liq=5)\n",
    "eq32b_5H"
   ]
  },
  {
   "cell_type": "markdown",
   "id": "225b1256-5c57-4d8d-888d-83f6b11ddf8e",
   "metadata": {},
   "source": [
    "## Calculating temperature using eq 32d at 5 kbar"
   ]
  },
  {
   "cell_type": "code",
   "execution_count": 17,
   "id": "f1cbf1e1-3e24-4acd-b67e-be4cf9f817a6",
   "metadata": {},
   "outputs": [
    {
     "name": "stderr",
     "output_type": "stream",
     "text": [
      "C:\\Users\\penny\\anaconda3\\lib\\site-packages\\ipykernel\\ipkernel.py:283: DeprecationWarning: `should_run_async` will not call `transform_cell` automatically in the future. Please pass the result to `transformed_cell` argument and any exception that happen during thetransform in `preprocessing_exc_tuple` in IPython 7.17 and above.\n",
      "  and should_run_async(code)\n"
     ]
    },
    {
     "data": {
      "text/plain": [
       "0    1457.849197\n",
       "1    1441.107847\n",
       "2    1415.899813\n",
       "3    1455.722443\n",
       "4    1441.512524\n",
       "dtype: float64"
      ]
     },
     "execution_count": 17,
     "metadata": {},
     "output_type": "execute_result"
    }
   ],
   "source": [
    "eq32d_5kbar=pt.calculate_cpx_only_temp(cpx_comps=Cpxs, equationT=\"T_Put2008_eq32d\",\n",
    "         P=5)\n",
    "eq32d_5kbar"
   ]
  },
  {
   "cell_type": "markdown",
   "id": "a10c9247-88d6-4dd7-9ac7-571bea230b95",
   "metadata": {},
   "source": [
    "## Iterating P from 32b, and T from 32d, with H2O=5"
   ]
  },
  {
   "cell_type": "code",
   "execution_count": 18,
   "id": "5efbdbcb-69a0-451a-9857-9ca87a3af6a9",
   "metadata": {},
   "outputs": [
    {
     "name": "stderr",
     "output_type": "stream",
     "text": [
      "C:\\Users\\penny\\anaconda3\\lib\\site-packages\\ipykernel\\ipkernel.py:283: DeprecationWarning: `should_run_async` will not call `transform_cell` automatically in the future. Please pass the result to `transformed_cell` argument and any exception that happen during thetransform in `preprocessing_exc_tuple` in IPython 7.17 and above.\n",
      "  and should_run_async(code)\n"
     ]
    },
    {
     "data": {
      "text/html": [
       "<div>\n",
       "<style scoped>\n",
       "    .dataframe tbody tr th:only-of-type {\n",
       "        vertical-align: middle;\n",
       "    }\n",
       "\n",
       "    .dataframe tbody tr th {\n",
       "        vertical-align: top;\n",
       "    }\n",
       "\n",
       "    .dataframe thead th {\n",
       "        text-align: right;\n",
       "    }\n",
       "</style>\n",
       "<table border=\"1\" class=\"dataframe\">\n",
       "  <thead>\n",
       "    <tr style=\"text-align: right;\">\n",
       "      <th></th>\n",
       "      <th>P_kbar_calc</th>\n",
       "      <th>T_K_calc</th>\n",
       "    </tr>\n",
       "  </thead>\n",
       "  <tbody>\n",
       "    <tr>\n",
       "      <th>0</th>\n",
       "      <td>3.889323</td>\n",
       "      <td>1448.656494</td>\n",
       "    </tr>\n",
       "    <tr>\n",
       "      <th>1</th>\n",
       "      <td>3.721484</td>\n",
       "      <td>1430.647515</td>\n",
       "    </tr>\n",
       "    <tr>\n",
       "      <th>2</th>\n",
       "      <td>3.982623</td>\n",
       "      <td>1407.721620</td>\n",
       "    </tr>\n",
       "    <tr>\n",
       "      <th>3</th>\n",
       "      <td>4.567865</td>\n",
       "      <td>1452.151021</td>\n",
       "    </tr>\n",
       "    <tr>\n",
       "      <th>4</th>\n",
       "      <td>5.941303</td>\n",
       "      <td>1449.216073</td>\n",
       "    </tr>\n",
       "  </tbody>\n",
       "</table>\n",
       "</div>"
      ],
      "text/plain": [
       "   P_kbar_calc     T_K_calc\n",
       "0     3.889323  1448.656494\n",
       "1     3.721484  1430.647515\n",
       "2     3.982623  1407.721620\n",
       "3     4.567865  1452.151021\n",
       "4     5.941303  1449.216073"
      ]
     },
     "execution_count": 18,
     "metadata": {},
     "output_type": "execute_result"
    }
   ],
   "source": [
    "eq32b_32d_5H=pt.calculate_cpx_only_press_temp(cpx_comps=Cpxs, equationT=\"T_Put2008_eq32d\",\n",
    "       equationP=\"P_Put2008_eq32b\", H2O_Liq=5)\n",
    "eq32b_32d_5H"
   ]
  },
  {
   "cell_type": "markdown",
   "id": "b672902a-0cab-4546-b0cf-8ba41eca7c21",
   "metadata": {},
   "source": [
    "# Plotting a Cpx-Liq Rhodes diagram to assess Fe-Mg equilibrium\n",
    "- Are a number of options, the function calculate_cpx_rhodes_diagram_lines calculates the lines needed for the plot. \n",
    "- If you specify a temperature, it uses equation 35 of Putirka (2008) to calculate the equilibrium Kd value. \n",
    "- Can also specify min and Mxa Kd you want lines for.\n",
    "- Always also returns lines for 0.28+-0.08 (Putirka, 2008)\n",
    "- Is also disagrement in the literature as to whether Kd Fe-Mg should be assessed using just Fe2+ in the melt, or FeT, we show both scenarios here. "
   ]
  },
  {
   "cell_type": "markdown",
   "id": "f73ba699-3329-4f34-bd9c-0fd16f335ac0",
   "metadata": {},
   "source": [
    "## First calculate Mg# for liq and glass"
   ]
  },
  {
   "cell_type": "code",
   "execution_count": 20,
   "id": "0f5d1adb-4113-4c5c-9e3a-8f2736a1bda6",
   "metadata": {},
   "outputs": [],
   "source": [
    "cpx_comps_Fe3=pt.calculate_clinopyroxene_liquid_components(liq_comps=Liqs, cpx_comps=Cpxs, Fe3Fet_Liq=0.2)"
   ]
  },
  {
   "cell_type": "code",
   "execution_count": 21,
   "id": "babbe059-699d-47cf-9b97-37c1cee82fa3",
   "metadata": {},
   "outputs": [],
   "source": [
    "# Want to calculate Mg# to show on diagram between say 0.4 and 0.7 for the glass\n",
    "eq_lines_1=pt.calculate_cpx_rhodes_diagram_lines(Min_Mgno=0.4, Max_Mgno=0.7)"
   ]
  },
  {
   "cell_type": "code",
   "execution_count": 22,
   "id": "1cf41cdd-15d8-4e7e-8531-bc265c4d9ad5",
   "metadata": {},
   "outputs": [
    {
     "data": {
      "text/plain": [
       "<matplotlib.legend.Legend at 0x26b6eeebf70>"
      ]
     },
     "execution_count": 22,
     "metadata": {},
     "output_type": "execute_result"
    },
    {
     "data": {
      "image/png": "[encoded data removed]",
      "text/plain": [
       "<Figure size 432x360 with 1 Axes>"
      ]
     },
     "metadata": {
      "needs_background": "light"
     },
     "output_type": "display_data"
    }
   ],
   "source": [
    "fig, (ax1) = plt.subplots(1, 1, figsize = (6,5))\n",
    "ax1.plot(eq_lines_1['Mg#_Liq'], eq_lines_1['Eq_Cpx_Mg# (Kd=0.2)'], ':r', label=\"K$_d$=0.2\")\n",
    "ax1.plot(eq_lines_1['Mg#_Liq'], eq_lines_1['Eq_Cpx_Mg# (Kd=0.36)'], ':r', label=\"K$_d$=0.36\")\n",
    "ax1.plot(eq_lines_1['Mg#_Liq'], eq_lines_1['Eq_Cpx_Mg# (Kd=0.28)'], '-r', label=\"K$_d$=0.28\")\n",
    "ax1.set_xlim([0.4, 0.7])\n",
    "ax1.plot(cpx_comps_Fe3['Mgno_Liq_noFe3'], cpx_comps_Fe3['Mgno_CPX'], '*k', mfc='yellow', ms=8, label=\"No Fe3\")\n",
    "ax1.plot(cpx_comps_Fe3['Mgno_Liq_Fe2'], cpx_comps_Fe3['Mgno_CPX'], 'dk', mfc='green', ms=8, label=\"20% Fe3\")\n",
    "ax1.legend()"
   ]
  },
  {
   "cell_type": "markdown",
   "id": "34ea1498-5cac-4c86-850f-c09f303522a1",
   "metadata": {},
   "source": [
    "## Option 2, plotting the diagram for a specific temperature"
   ]
  },
  {
   "cell_type": "code",
   "execution_count": 23,
   "id": "14b9200a-42d6-478e-93df-72065e62b0b0",
   "metadata": {},
   "outputs": [
    {
     "data": {
      "text/html": [
       "<div>\n",
       "<style scoped>\n",
       "    .dataframe tbody tr th:only-of-type {\n",
       "        vertical-align: middle;\n",
       "    }\n",
       "\n",
       "    .dataframe tbody tr th {\n",
       "        vertical-align: top;\n",
       "    }\n",
       "\n",
       "    .dataframe thead th {\n",
       "        text-align: right;\n",
       "    }\n",
       "</style>\n",
       "<table border=\"1\" class=\"dataframe\">\n",
       "  <thead>\n",
       "    <tr style=\"text-align: right;\">\n",
       "      <th></th>\n",
       "      <th>Mg#_Liq</th>\n",
       "      <th>Eq_Cpx_Mg# (Kd=0.28)</th>\n",
       "      <th>Eq_Cpx_Mg# (Kd=0.2)</th>\n",
       "      <th>Eq_Cpx_Mg# (Kd=0.36)</th>\n",
       "      <th>Kd_Eq35_P2008</th>\n",
       "      <th>Eq_Cpx_Mg# (Kd from Eq 35 P2008)</th>\n",
       "      <th>Eq_Cpx_Mg# (Eq 35 P2008)+0.08</th>\n",
       "      <th>Eq_Cpx_Mg# (Eq 35 P2008)-0.08</th>\n",
       "    </tr>\n",
       "  </thead>\n",
       "  <tbody>\n",
       "    <tr>\n",
       "      <th>0</th>\n",
       "      <td>0.400000</td>\n",
       "      <td>0.704225</td>\n",
       "      <td>0.769231</td>\n",
       "      <td>0.649351</td>\n",
       "      <td>0.239475</td>\n",
       "      <td>0.735720</td>\n",
       "      <td>0.676036</td>\n",
       "      <td>0.806964</td>\n",
       "    </tr>\n",
       "    <tr>\n",
       "      <th>1</th>\n",
       "      <td>0.403030</td>\n",
       "      <td>0.706845</td>\n",
       "      <td>0.771462</td>\n",
       "      <td>0.652217</td>\n",
       "      <td>0.239475</td>\n",
       "      <td>0.738165</td>\n",
       "      <td>0.678791</td>\n",
       "      <td>0.808921</td>\n",
       "    </tr>\n",
       "    <tr>\n",
       "      <th>2</th>\n",
       "      <td>0.406061</td>\n",
       "      <td>0.709445</td>\n",
       "      <td>0.773672</td>\n",
       "      <td>0.655065</td>\n",
       "      <td>0.239475</td>\n",
       "      <td>0.740589</td>\n",
       "      <td>0.681528</td>\n",
       "      <td>0.810858</td>\n",
       "    </tr>\n",
       "    <tr>\n",
       "      <th>3</th>\n",
       "      <td>0.409091</td>\n",
       "      <td>0.712025</td>\n",
       "      <td>0.775862</td>\n",
       "      <td>0.657895</td>\n",
       "      <td>0.239475</td>\n",
       "      <td>0.742993</td>\n",
       "      <td>0.684246</td>\n",
       "      <td>0.812775</td>\n",
       "    </tr>\n",
       "    <tr>\n",
       "      <th>4</th>\n",
       "      <td>0.412121</td>\n",
       "      <td>0.714586</td>\n",
       "      <td>0.778032</td>\n",
       "      <td>0.660707</td>\n",
       "      <td>0.239475</td>\n",
       "      <td>0.745377</td>\n",
       "      <td>0.686945</td>\n",
       "      <td>0.814673</td>\n",
       "    </tr>\n",
       "  </tbody>\n",
       "</table>\n",
       "</div>"
      ],
      "text/plain": [
       "    Mg#_Liq  Eq_Cpx_Mg# (Kd=0.28)  Eq_Cpx_Mg# (Kd=0.2)  Eq_Cpx_Mg# (Kd=0.36)  \\\n",
       "0  0.400000              0.704225             0.769231              0.649351   \n",
       "1  0.403030              0.706845             0.771462              0.652217   \n",
       "2  0.406061              0.709445             0.773672              0.655065   \n",
       "3  0.409091              0.712025             0.775862              0.657895   \n",
       "4  0.412121              0.714586             0.778032              0.660707   \n",
       "\n",
       "   Kd_Eq35_P2008  Eq_Cpx_Mg# (Kd from Eq 35 P2008)  \\\n",
       "0       0.239475                          0.735720   \n",
       "1       0.239475                          0.738165   \n",
       "2       0.239475                          0.740589   \n",
       "3       0.239475                          0.742993   \n",
       "4       0.239475                          0.745377   \n",
       "\n",
       "   Eq_Cpx_Mg# (Eq 35 P2008)+0.08  Eq_Cpx_Mg# (Eq 35 P2008)-0.08  \n",
       "0                       0.676036                       0.806964  \n",
       "1                       0.678791                       0.808921  \n",
       "2                       0.681528                       0.810858  \n",
       "3                       0.684246                       0.812775  \n",
       "4                       0.686945                       0.814673  "
      ]
     },
     "execution_count": 23,
     "metadata": {},
     "output_type": "execute_result"
    }
   ],
   "source": [
    "eq_lines_2=pt.calculate_cpx_rhodes_diagram_lines(Min_Mgno=0.4, Max_Mgno=0.7, T=1300)\n",
    "eq_lines_2.head()"
   ]
  },
  {
   "cell_type": "code",
   "execution_count": 24,
   "id": "9909eb9a-2480-4889-b4ac-ed10917ab871",
   "metadata": {},
   "outputs": [
    {
     "data": {
      "text/plain": [
       "<matplotlib.legend.Legend at 0x26b6e7f42b0>"
      ]
     },
     "execution_count": 24,
     "metadata": {},
     "output_type": "execute_result"
    },
    {
     "data": {
      "image/png": "[encoded data removed]",
      "text/plain": [
       "<Figure size 432x360 with 1 Axes>"
      ]
     },
     "metadata": {
      "needs_background": "light"
     },
     "output_type": "display_data"
    }
   ],
   "source": [
    "fig, (ax1) = plt.subplots(1, 1, figsize = (6,5))\n",
    "ax1.plot(eq_lines_2['Mg#_Liq'], eq_lines_2['Eq_Cpx_Mg# (Kd from Eq 35 P2008)'], '-r', label=\"K$_d$=Put eq 35\")\n",
    "ax1.plot(eq_lines_2['Mg#_Liq'], eq_lines_2['Eq_Cpx_Mg# (Eq 35 P2008)+0.08'], ':r', label=\"K$_d$=Put eq 35 + 0.08\")\n",
    "ax1.plot(eq_lines_2['Mg#_Liq'], eq_lines_2['Eq_Cpx_Mg# (Eq 35 P2008)-0.08'], ':r', label=\"K$_d$=Put eq 35 - 0.08\")\n",
    "ax1.set_xlim([0.4, 0.7])\n",
    "ax1.plot(cpx_comps_Fe3['Mgno_Liq_noFe3'], cpx_comps_Fe3['Mgno_CPX'], '*k', mfc='yellow', ms=8, label=\"No Fe3\")\n",
    "ax1.plot(cpx_comps_Fe3['Mgno_Liq_Fe2'], cpx_comps_Fe3['Mgno_CPX'], 'dk', mfc='green', ms=8, label=\"20% Fe3\")\n",
    "ax1.legend()"
   ]
  },
  {
   "cell_type": "markdown",
   "id": "5729dc8a-aa0a-4fda-94d6-c4d41b938356",
   "metadata": {},
   "source": [
    "## Option 3 - enter your own Kd values"
   ]
  },
  {
   "cell_type": "code",
   "execution_count": 25,
   "id": "80793b72-6253-4b90-a277-3451f96a3203",
   "metadata": {},
   "outputs": [
    {
     "data": {
      "text/html": [
       "<div>\n",
       "<style scoped>\n",
       "    .dataframe tbody tr th:only-of-type {\n",
       "        vertical-align: middle;\n",
       "    }\n",
       "\n",
       "    .dataframe tbody tr th {\n",
       "        vertical-align: top;\n",
       "    }\n",
       "\n",
       "    .dataframe thead th {\n",
       "        text-align: right;\n",
       "    }\n",
       "</style>\n",
       "<table border=\"1\" class=\"dataframe\">\n",
       "  <thead>\n",
       "    <tr style=\"text-align: right;\">\n",
       "      <th></th>\n",
       "      <th>Mg#_Liq</th>\n",
       "      <th>Eq_Cpx_Mg# (Kd=0.28)</th>\n",
       "      <th>Eq_Cpx_Mg# (Kd=0.2)</th>\n",
       "      <th>Eq_Cpx_Mg# (Kd=0.36)</th>\n",
       "      <th>Eq_Cpx_Mg# (KdMin=0.2)</th>\n",
       "      <th>Eq_Cpx_Mg# (KdMax=0.3)</th>\n",
       "    </tr>\n",
       "  </thead>\n",
       "  <tbody>\n",
       "    <tr>\n",
       "      <th>0</th>\n",
       "      <td>0.400000</td>\n",
       "      <td>0.704225</td>\n",
       "      <td>0.769231</td>\n",
       "      <td>0.649351</td>\n",
       "      <td>0.769231</td>\n",
       "      <td>0.689655</td>\n",
       "    </tr>\n",
       "    <tr>\n",
       "      <th>1</th>\n",
       "      <td>0.403030</td>\n",
       "      <td>0.706845</td>\n",
       "      <td>0.771462</td>\n",
       "      <td>0.652217</td>\n",
       "      <td>0.771462</td>\n",
       "      <td>0.692348</td>\n",
       "    </tr>\n",
       "    <tr>\n",
       "      <th>2</th>\n",
       "      <td>0.406061</td>\n",
       "      <td>0.709445</td>\n",
       "      <td>0.773672</td>\n",
       "      <td>0.655065</td>\n",
       "      <td>0.773672</td>\n",
       "      <td>0.695021</td>\n",
       "    </tr>\n",
       "    <tr>\n",
       "      <th>3</th>\n",
       "      <td>0.409091</td>\n",
       "      <td>0.712025</td>\n",
       "      <td>0.775862</td>\n",
       "      <td>0.657895</td>\n",
       "      <td>0.775862</td>\n",
       "      <td>0.697674</td>\n",
       "    </tr>\n",
       "    <tr>\n",
       "      <th>4</th>\n",
       "      <td>0.412121</td>\n",
       "      <td>0.714586</td>\n",
       "      <td>0.778032</td>\n",
       "      <td>0.660707</td>\n",
       "      <td>0.778032</td>\n",
       "      <td>0.700309</td>\n",
       "    </tr>\n",
       "  </tbody>\n",
       "</table>\n",
       "</div>"
      ],
      "text/plain": [
       "    Mg#_Liq  Eq_Cpx_Mg# (Kd=0.28)  Eq_Cpx_Mg# (Kd=0.2)  Eq_Cpx_Mg# (Kd=0.36)  \\\n",
       "0  0.400000              0.704225             0.769231              0.649351   \n",
       "1  0.403030              0.706845             0.771462              0.652217   \n",
       "2  0.406061              0.709445             0.773672              0.655065   \n",
       "3  0.409091              0.712025             0.775862              0.657895   \n",
       "4  0.412121              0.714586             0.778032              0.660707   \n",
       "\n",
       "   Eq_Cpx_Mg# (KdMin=0.2)  Eq_Cpx_Mg# (KdMax=0.3)  \n",
       "0                0.769231                0.689655  \n",
       "1                0.771462                0.692348  \n",
       "2                0.773672                0.695021  \n",
       "3                0.775862                0.697674  \n",
       "4                0.778032                0.700309  "
      ]
     },
     "execution_count": 25,
     "metadata": {},
     "output_type": "execute_result"
    }
   ],
   "source": [
    "eq_lines_3=pt.calculate_cpx_rhodes_diagram_lines(Min_Mgno=0.4, Max_Mgno=0.7, KdMin=0.2, KdMax=0.3)\n",
    "eq_lines_3.head()"
   ]
  },
  {
   "cell_type": "code",
   "execution_count": 26,
   "id": "8bed3f18-0026-48a6-b24f-a69675871517",
   "metadata": {},
   "outputs": [
    {
     "data": {
      "text/plain": [
       "<matplotlib.legend.Legend at 0x26b6f0a0bb0>"
      ]
     },
     "execution_count": 26,
     "metadata": {},
     "output_type": "execute_result"
    },
    {
     "data": {
      "image/png": "[encoded data removed]",
      "text/plain": [
       "<Figure size 432x360 with 1 Axes>"
      ]
     },
     "metadata": {
      "needs_background": "light"
     },
     "output_type": "display_data"
    }
   ],
   "source": [
    "fig, (ax1) = plt.subplots(1, 1, figsize = (6,5))\n",
    "ax1.plot(eq_lines_3['Mg#_Liq'], eq_lines_3['Eq_Cpx_Mg# (KdMin=0.2)'], ':r', label=\"K$_d$=Put eq 35 + 0.08\")\n",
    "ax1.plot(eq_lines_3['Mg#_Liq'], eq_lines_3['Eq_Cpx_Mg# (KdMax=0.3)'], ':r', label=\"K$_d$=Put eq 35 - 0.08\")\n",
    "ax1.set_xlim([0.4, 0.7])\n",
    "ax1.plot(cpx_comps_Fe3['Mgno_Liq_noFe3'], cpx_comps_Fe3['Mgno_CPX'], '*k', mfc='yellow', ms=8, label=\"No Fe3\")\n",
    "ax1.plot(cpx_comps_Fe3['Mgno_Liq_Fe2'], cpx_comps_Fe3['Mgno_CPX'], 'dk', mfc='green', ms=8, label=\"20% Fe3\")\n",
    "ax1.legend()"
   ]
  },
  {
   "cell_type": "markdown",
   "id": "314fbe8f-3436-4d17-9c63-1ae5b4232ff6",
   "metadata": {},
   "source": [
    "## Option 4 - Can also state all options"
   ]
  },
  {
   "cell_type": "code",
   "execution_count": 27,
   "id": "d726eeb5-118e-41cb-afd1-49d8cba5ce69",
   "metadata": {},
   "outputs": [
    {
     "data": {
      "text/html": [
       "<div>\n",
       "<style scoped>\n",
       "    .dataframe tbody tr th:only-of-type {\n",
       "        vertical-align: middle;\n",
       "    }\n",
       "\n",
       "    .dataframe tbody tr th {\n",
       "        vertical-align: top;\n",
       "    }\n",
       "\n",
       "    .dataframe thead th {\n",
       "        text-align: right;\n",
       "    }\n",
       "</style>\n",
       "<table border=\"1\" class=\"dataframe\">\n",
       "  <thead>\n",
       "    <tr style=\"text-align: right;\">\n",
       "      <th></th>\n",
       "      <th>Mg#_Liq</th>\n",
       "      <th>Eq_Cpx_Mg# (Kd=0.28)</th>\n",
       "      <th>Eq_Cpx_Mg# (Kd=0.2)</th>\n",
       "      <th>Eq_Cpx_Mg# (Kd=0.36)</th>\n",
       "      <th>Kd_Eq35_P2008</th>\n",
       "      <th>Eq_Cpx_Mg# (Kd from Eq 35 P2008)</th>\n",
       "      <th>Eq_Cpx_Mg# (Eq 35 P2008)+0.08</th>\n",
       "      <th>Eq_Cpx_Mg# (Eq 35 P2008)-0.08</th>\n",
       "      <th>Eq_Cpx_Mg# (KdMin=0.2)</th>\n",
       "      <th>Eq_Cpx_Mg# (KdMax=0.3)</th>\n",
       "    </tr>\n",
       "  </thead>\n",
       "  <tbody>\n",
       "    <tr>\n",
       "      <th>0</th>\n",
       "      <td>0.400000</td>\n",
       "      <td>0.704225</td>\n",
       "      <td>0.769231</td>\n",
       "      <td>0.649351</td>\n",
       "      <td>0.239475</td>\n",
       "      <td>0.735720</td>\n",
       "      <td>0.676036</td>\n",
       "      <td>0.806964</td>\n",
       "      <td>0.769231</td>\n",
       "      <td>0.689655</td>\n",
       "    </tr>\n",
       "    <tr>\n",
       "      <th>1</th>\n",
       "      <td>0.403030</td>\n",
       "      <td>0.706845</td>\n",
       "      <td>0.771462</td>\n",
       "      <td>0.652217</td>\n",
       "      <td>0.239475</td>\n",
       "      <td>0.738165</td>\n",
       "      <td>0.678791</td>\n",
       "      <td>0.808921</td>\n",
       "      <td>0.771462</td>\n",
       "      <td>0.692348</td>\n",
       "    </tr>\n",
       "    <tr>\n",
       "      <th>2</th>\n",
       "      <td>0.406061</td>\n",
       "      <td>0.709445</td>\n",
       "      <td>0.773672</td>\n",
       "      <td>0.655065</td>\n",
       "      <td>0.239475</td>\n",
       "      <td>0.740589</td>\n",
       "      <td>0.681528</td>\n",
       "      <td>0.810858</td>\n",
       "      <td>0.773672</td>\n",
       "      <td>0.695021</td>\n",
       "    </tr>\n",
       "    <tr>\n",
       "      <th>3</th>\n",
       "      <td>0.409091</td>\n",
       "      <td>0.712025</td>\n",
       "      <td>0.775862</td>\n",
       "      <td>0.657895</td>\n",
       "      <td>0.239475</td>\n",
       "      <td>0.742993</td>\n",
       "      <td>0.684246</td>\n",
       "      <td>0.812775</td>\n",
       "      <td>0.775862</td>\n",
       "      <td>0.697674</td>\n",
       "    </tr>\n",
       "    <tr>\n",
       "      <th>4</th>\n",
       "      <td>0.412121</td>\n",
       "      <td>0.714586</td>\n",
       "      <td>0.778032</td>\n",
       "      <td>0.660707</td>\n",
       "      <td>0.239475</td>\n",
       "      <td>0.745377</td>\n",
       "      <td>0.686945</td>\n",
       "      <td>0.814673</td>\n",
       "      <td>0.778032</td>\n",
       "      <td>0.700309</td>\n",
       "    </tr>\n",
       "  </tbody>\n",
       "</table>\n",
       "</div>"
      ],
      "text/plain": [
       "    Mg#_Liq  Eq_Cpx_Mg# (Kd=0.28)  Eq_Cpx_Mg# (Kd=0.2)  Eq_Cpx_Mg# (Kd=0.36)  \\\n",
       "0  0.400000              0.704225             0.769231              0.649351   \n",
       "1  0.403030              0.706845             0.771462              0.652217   \n",
       "2  0.406061              0.709445             0.773672              0.655065   \n",
       "3  0.409091              0.712025             0.775862              0.657895   \n",
       "4  0.412121              0.714586             0.778032              0.660707   \n",
       "\n",
       "   Kd_Eq35_P2008  Eq_Cpx_Mg# (Kd from Eq 35 P2008)  \\\n",
       "0       0.239475                          0.735720   \n",
       "1       0.239475                          0.738165   \n",
       "2       0.239475                          0.740589   \n",
       "3       0.239475                          0.742993   \n",
       "4       0.239475                          0.745377   \n",
       "\n",
       "   Eq_Cpx_Mg# (Eq 35 P2008)+0.08  Eq_Cpx_Mg# (Eq 35 P2008)-0.08  \\\n",
       "0                       0.676036                       0.806964   \n",
       "1                       0.678791                       0.808921   \n",
       "2                       0.681528                       0.810858   \n",
       "3                       0.684246                       0.812775   \n",
       "4                       0.686945                       0.814673   \n",
       "\n",
       "   Eq_Cpx_Mg# (KdMin=0.2)  Eq_Cpx_Mg# (KdMax=0.3)  \n",
       "0                0.769231                0.689655  \n",
       "1                0.771462                0.692348  \n",
       "2                0.773672                0.695021  \n",
       "3                0.775862                0.697674  \n",
       "4                0.778032                0.700309  "
      ]
     },
     "execution_count": 27,
     "metadata": {},
     "output_type": "execute_result"
    }
   ],
   "source": [
    "eq_lines_4=pt.calculate_cpx_rhodes_diagram_lines(Min_Mgno=0.4, Max_Mgno=0.7, T=1300, KdMin=0.2, KdMax=0.3)\n",
    "eq_lines_4.head()"
   ]
  },
  {
   "cell_type": "code",
   "execution_count": 28,
   "id": "4e38e208-6a7e-4312-91c3-1355a28a2841",
   "metadata": {},
   "outputs": [
    {
     "data": {
      "text/plain": [
       "0.806964437162551"
      ]
     },
     "execution_count": 28,
     "metadata": {},
     "output_type": "execute_result"
    }
   ],
   "source": [
    "pt.calculate_cpx_rhodes_diagram_lines(Min_Mgno=0.4, \n",
    "      Max_Mgno=0.7, T=1300, KdMin=0.2, KdMax=0.3).get(\"Eq_Cpx_Mg# (Eq 35 P2008)-0.08\")[0]"
   ]
  },
  {
   "cell_type": "code",
   "execution_count": null,
   "id": "a7402d08-0e8b-435b-a59e-2fb036864d4f",
   "metadata": {},
   "outputs": [],
   "source": []
  },
  {
   "cell_type": "code",
   "execution_count": null,
   "id": "139a0d63-b0c5-4ca4-a54a-16ef044fac45",
   "metadata": {},
   "outputs": [],
   "source": []
  }
 ],
 "metadata": {
  "kernelspec": {
   "display_name": "Python 3",
   "language": "python",
   "name": "python3"
  },
  "language_info": {
   "codemirror_mode": {
    "name": "ipython",
    "version": 3
   },
   "file_extension": ".py",
   "mimetype": "text/x-python",
   "name": "python",
   "nbconvert_exporter": "python",
   "pygments_lexer": "ipython3",
   "version": "3.8.5"
  }
 },
 "nbformat": 4,
 "nbformat_minor": 5
}
