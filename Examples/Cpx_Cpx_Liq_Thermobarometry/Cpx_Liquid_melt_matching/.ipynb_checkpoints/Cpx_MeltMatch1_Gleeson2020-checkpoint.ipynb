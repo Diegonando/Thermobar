{
 "cells": [
  {
   "cell_type": "markdown",
   "metadata": {},
   "source": [
    "# This code is a simple introduction to Cpx-Liquid melt matching\n",
    "- for a more advanced example, see Cpx_MeltMatch2_ScruggsPutirka\n",
    "- This notebook recreates the method of Gleeson et al. (2020) - JPET - https://doi.org/10.1093/petrology/egaa094"
   ]
  },
  {
   "cell_type": "markdown",
   "metadata": {},
   "source": [
    "## This imports all the python things you need"
   ]
  },
  {
   "cell_type": "code",
   "execution_count": 1,
   "metadata": {},
   "outputs": [],
   "source": [
    "import numpy as np\n",
    "import pandas as pd\n",
    "import sys\n",
    "sys.path.append(\"../../..\") # This allows you to put the python file in the folder above. So you can have lots of sub folders\n",
    "import matplotlib.pyplot as plt\n",
    "import Thermobar as pt"
   ]
  },
  {
   "cell_type": "markdown",
   "metadata": {},
   "source": [
    "## This sets plotting parameters"
   ]
  },
  {
   "cell_type": "code",
   "execution_count": 2,
   "metadata": {},
   "outputs": [],
   "source": [
    "# This sets some plotting things\n",
    "plt.rcParams[\"font.family\"] = 'arial'\n",
    "plt.rcParams[\"font.size\"] =12\n",
    "plt.rcParams[\"mathtext.default\"] = \"regular\"\n",
    "plt.rcParams[\"mathtext.fontset\"] = \"dejavusans\"\n",
    "plt.rcParams['patch.linewidth'] = 1\n",
    "plt.rcParams['axes.linewidth'] = 1 \n",
    "plt.rcParams[\"xtick.direction\"] = \"in\"\n",
    "plt.rcParams[\"ytick.direction\"] = \"in\"\n",
    "plt.rcParams[\"ytick.direction\"] = \"in\"\n",
    "plt.rcParams[\"xtick.major.size\"] = 6 # Sets length of ticks\n",
    "plt.rcParams[\"ytick.major.size\"] = 4 # Sets length of ticks\n",
    "plt.rcParams[\"ytick.labelsize\"] = 12 # Sets size of numbers on tick marks\n",
    "plt.rcParams[\"xtick.labelsize\"] = 12 # Sets size of numbers on tick marks\n",
    "plt.rcParams[\"axes.titlesize\"] = 14 # Overall title\n",
    "plt.rcParams[\"axes.labelsize\"] = 14 # Axes labels\n",
    "\n"
   ]
  },
  {
   "cell_type": "markdown",
   "metadata": {},
   "source": [
    "# Loading in Data\n",
    "- In this case, Gleson et al had cpxs in the sheet \"cpxs\" and melts in the \"melts\"\n",
    "- You column headings need to be \"Sample_ID\", \"SiO2_Liq\", \"MgO_Cpx\" etc. e.g., oxide, then underscore, capital letter for phase"
   ]
  },
  {
   "cell_type": "code",
   "execution_count": 3,
   "metadata": {},
   "outputs": [],
   "source": [
    "# Loading Liquids\n",
    "out=pt.import_excel('Gleeson2020JPET_Input_Pyroxene_Melts.xlsx', sheet_name=\"Melts\")\n",
    "my_input_Liqs=out['my_input']\n",
    "myLiquids1=out['Liqs']\n",
    "\n",
    "out2=pt.import_excel('Gleeson2020JPET_Input_Pyroxene_Melts.xlsx', sheet_name=\"Cpxs\")\n",
    "my_input_Cpxs=out2['my_input']\n",
    "myCPXs1=out2['Cpxs']\n",
    "\n",
    "\n",
    "# This loads in published barometry from Gleeson et al. You can delete this from your system, or swap it for something else useful. \n",
    "Published=pd.read_excel('Gleeson2020JPET_Input_Pyroxene_Melts.xlsx', sheet_name=\"NP_Out\")\n"
   ]
  },
  {
   "cell_type": "code",
   "execution_count": 4,
   "metadata": {},
   "outputs": [
    {
     "data": {
      "text/html": [
       "<div>\n",
       "<style scoped>\n",
       "    .dataframe tbody tr th:only-of-type {\n",
       "        vertical-align: middle;\n",
       "    }\n",
       "\n",
       "    .dataframe tbody tr th {\n",
       "        vertical-align: top;\n",
       "    }\n",
       "\n",
       "    .dataframe thead th {\n",
       "        text-align: right;\n",
       "    }\n",
       "</style>\n",
       "<table border=\"1\" class=\"dataframe\">\n",
       "  <thead>\n",
       "    <tr style=\"text-align: right;\">\n",
       "      <th></th>\n",
       "      <th>SiO2_Liq</th>\n",
       "      <th>TiO2_Liq</th>\n",
       "      <th>Al2O3_Liq</th>\n",
       "      <th>FeOt_Liq</th>\n",
       "      <th>MnO_Liq</th>\n",
       "      <th>MgO_Liq</th>\n",
       "      <th>CaO_Liq</th>\n",
       "      <th>Na2O_Liq</th>\n",
       "      <th>K2O_Liq</th>\n",
       "      <th>Cr2O3_Liq</th>\n",
       "      <th>P2O5_Liq</th>\n",
       "      <th>H2O_Liq</th>\n",
       "      <th>Fe3Fet_Liq</th>\n",
       "      <th>NiO_Liq</th>\n",
       "      <th>CoO_Liq</th>\n",
       "      <th>CO2_Liq</th>\n",
       "      <th>Sample_ID_Liq</th>\n",
       "    </tr>\n",
       "  </thead>\n",
       "  <tbody>\n",
       "    <tr>\n",
       "      <th>0</th>\n",
       "      <td>47.1519</td>\n",
       "      <td>1.7168</td>\n",
       "      <td>15.5321</td>\n",
       "      <td>9.7208</td>\n",
       "      <td>0.1888</td>\n",
       "      <td>5.939515</td>\n",
       "      <td>12.3617</td>\n",
       "      <td>3.7556</td>\n",
       "      <td>1.1877</td>\n",
       "      <td>0.0</td>\n",
       "      <td>0.2766</td>\n",
       "      <td>0.0</td>\n",
       "      <td>0.0</td>\n",
       "      <td>0.0</td>\n",
       "      <td>0.0</td>\n",
       "      <td>0.0</td>\n",
       "      <td>17MMSG12</td>\n",
       "    </tr>\n",
       "    <tr>\n",
       "      <th>1</th>\n",
       "      <td>46.7277</td>\n",
       "      <td>1.7708</td>\n",
       "      <td>15.4931</td>\n",
       "      <td>9.5435</td>\n",
       "      <td>0.2096</td>\n",
       "      <td>6.098350</td>\n",
       "      <td>12.3699</td>\n",
       "      <td>3.7058</td>\n",
       "      <td>1.2644</td>\n",
       "      <td>0.0</td>\n",
       "      <td>0.1887</td>\n",
       "      <td>0.0</td>\n",
       "      <td>0.0</td>\n",
       "      <td>0.0</td>\n",
       "      <td>0.0</td>\n",
       "      <td>0.0</td>\n",
       "      <td>17MMSG12</td>\n",
       "    </tr>\n",
       "    <tr>\n",
       "      <th>2</th>\n",
       "      <td>47.5265</td>\n",
       "      <td>1.8483</td>\n",
       "      <td>15.7152</td>\n",
       "      <td>9.6930</td>\n",
       "      <td>0.1678</td>\n",
       "      <td>6.184563</td>\n",
       "      <td>12.3625</td>\n",
       "      <td>3.5107</td>\n",
       "      <td>1.2066</td>\n",
       "      <td>0.0</td>\n",
       "      <td>0.2055</td>\n",
       "      <td>0.0</td>\n",
       "      <td>0.0</td>\n",
       "      <td>0.0</td>\n",
       "      <td>0.0</td>\n",
       "      <td>0.0</td>\n",
       "      <td>17MMSG12</td>\n",
       "    </tr>\n",
       "    <tr>\n",
       "      <th>3</th>\n",
       "      <td>47.2916</td>\n",
       "      <td>1.7307</td>\n",
       "      <td>15.5250</td>\n",
       "      <td>9.3999</td>\n",
       "      <td>0.1588</td>\n",
       "      <td>6.322718</td>\n",
       "      <td>12.3696</td>\n",
       "      <td>3.9281</td>\n",
       "      <td>1.2285</td>\n",
       "      <td>0.0</td>\n",
       "      <td>0.2406</td>\n",
       "      <td>0.0</td>\n",
       "      <td>0.0</td>\n",
       "      <td>0.0</td>\n",
       "      <td>0.0</td>\n",
       "      <td>0.0</td>\n",
       "      <td>17MMSG12</td>\n",
       "    </tr>\n",
       "    <tr>\n",
       "      <th>4</th>\n",
       "      <td>47.2260</td>\n",
       "      <td>1.8009</td>\n",
       "      <td>15.6438</td>\n",
       "      <td>9.0440</td>\n",
       "      <td>0.2213</td>\n",
       "      <td>6.069612</td>\n",
       "      <td>12.4081</td>\n",
       "      <td>3.8352</td>\n",
       "      <td>1.1339</td>\n",
       "      <td>0.0</td>\n",
       "      <td>0.1894</td>\n",
       "      <td>0.0</td>\n",
       "      <td>0.0</td>\n",
       "      <td>0.0</td>\n",
       "      <td>0.0</td>\n",
       "      <td>0.0</td>\n",
       "      <td>17MMSG12</td>\n",
       "    </tr>\n",
       "  </tbody>\n",
       "</table>\n",
       "</div>"
      ],
      "text/plain": [
       "   SiO2_Liq  TiO2_Liq  Al2O3_Liq  FeOt_Liq  MnO_Liq   MgO_Liq  CaO_Liq  \\\n",
       "0   47.1519    1.7168    15.5321    9.7208   0.1888  5.939515  12.3617   \n",
       "1   46.7277    1.7708    15.4931    9.5435   0.2096  6.098350  12.3699   \n",
       "2   47.5265    1.8483    15.7152    9.6930   0.1678  6.184563  12.3625   \n",
       "3   47.2916    1.7307    15.5250    9.3999   0.1588  6.322718  12.3696   \n",
       "4   47.2260    1.8009    15.6438    9.0440   0.2213  6.069612  12.4081   \n",
       "\n",
       "   Na2O_Liq  K2O_Liq  Cr2O3_Liq  P2O5_Liq  H2O_Liq  Fe3Fet_Liq  NiO_Liq  \\\n",
       "0    3.7556   1.1877        0.0    0.2766      0.0         0.0      0.0   \n",
       "1    3.7058   1.2644        0.0    0.1887      0.0         0.0      0.0   \n",
       "2    3.5107   1.2066        0.0    0.2055      0.0         0.0      0.0   \n",
       "3    3.9281   1.2285        0.0    0.2406      0.0         0.0      0.0   \n",
       "4    3.8352   1.1339        0.0    0.1894      0.0         0.0      0.0   \n",
       "\n",
       "   CoO_Liq  CO2_Liq Sample_ID_Liq  \n",
       "0      0.0      0.0      17MMSG12  \n",
       "1      0.0      0.0      17MMSG12  \n",
       "2      0.0      0.0      17MMSG12  \n",
       "3      0.0      0.0      17MMSG12  \n",
       "4      0.0      0.0      17MMSG12  "
      ]
     },
     "metadata": {},
     "output_type": "display_data"
    },
    {
     "data": {
      "text/html": [
       "<div>\n",
       "<style scoped>\n",
       "    .dataframe tbody tr th:only-of-type {\n",
       "        vertical-align: middle;\n",
       "    }\n",
       "\n",
       "    .dataframe tbody tr th {\n",
       "        vertical-align: top;\n",
       "    }\n",
       "\n",
       "    .dataframe thead th {\n",
       "        text-align: right;\n",
       "    }\n",
       "</style>\n",
       "<table border=\"1\" class=\"dataframe\">\n",
       "  <thead>\n",
       "    <tr style=\"text-align: right;\">\n",
       "      <th></th>\n",
       "      <th>SiO2_Cpx</th>\n",
       "      <th>TiO2_Cpx</th>\n",
       "      <th>Al2O3_Cpx</th>\n",
       "      <th>FeOt_Cpx</th>\n",
       "      <th>MnO_Cpx</th>\n",
       "      <th>MgO_Cpx</th>\n",
       "      <th>CaO_Cpx</th>\n",
       "      <th>Na2O_Cpx</th>\n",
       "      <th>K2O_Cpx</th>\n",
       "      <th>Cr2O3_Cpx</th>\n",
       "      <th>Sample_ID_Cpx</th>\n",
       "    </tr>\n",
       "  </thead>\n",
       "  <tbody>\n",
       "    <tr>\n",
       "      <th>0</th>\n",
       "      <td>51.0169</td>\n",
       "      <td>0.5104</td>\n",
       "      <td>4.2921</td>\n",
       "      <td>3.9184</td>\n",
       "      <td>0.1135</td>\n",
       "      <td>15.9773</td>\n",
       "      <td>21.5003</td>\n",
       "      <td>0.3828</td>\n",
       "      <td>0.0</td>\n",
       "      <td>0.9642</td>\n",
       "      <td>17MMSG16</td>\n",
       "    </tr>\n",
       "    <tr>\n",
       "      <th>1</th>\n",
       "      <td>51.0208</td>\n",
       "      <td>0.5145</td>\n",
       "      <td>4.2768</td>\n",
       "      <td>3.7697</td>\n",
       "      <td>0.0917</td>\n",
       "      <td>15.9326</td>\n",
       "      <td>21.6712</td>\n",
       "      <td>0.3820</td>\n",
       "      <td>0.0</td>\n",
       "      <td>1.0514</td>\n",
       "      <td>17MMSG16</td>\n",
       "    </tr>\n",
       "    <tr>\n",
       "      <th>2</th>\n",
       "      <td>51.2990</td>\n",
       "      <td>0.4869</td>\n",
       "      <td>4.4177</td>\n",
       "      <td>3.7014</td>\n",
       "      <td>0.0983</td>\n",
       "      <td>15.9157</td>\n",
       "      <td>21.7450</td>\n",
       "      <td>0.3787</td>\n",
       "      <td>0.0</td>\n",
       "      <td>1.1905</td>\n",
       "      <td>17MMSG16</td>\n",
       "    </tr>\n",
       "    <tr>\n",
       "      <th>3</th>\n",
       "      <td>49.7147</td>\n",
       "      <td>0.7249</td>\n",
       "      <td>6.2489</td>\n",
       "      <td>3.9880</td>\n",
       "      <td>0.1128</td>\n",
       "      <td>15.0415</td>\n",
       "      <td>21.6397</td>\n",
       "      <td>0.4081</td>\n",
       "      <td>0.0</td>\n",
       "      <td>1.3550</td>\n",
       "      <td>17MMSG16</td>\n",
       "    </tr>\n",
       "    <tr>\n",
       "      <th>4</th>\n",
       "      <td>49.9807</td>\n",
       "      <td>0.7351</td>\n",
       "      <td>6.1948</td>\n",
       "      <td>4.0468</td>\n",
       "      <td>0.0951</td>\n",
       "      <td>14.9777</td>\n",
       "      <td>21.5061</td>\n",
       "      <td>0.3969</td>\n",
       "      <td>0.0</td>\n",
       "      <td>1.4862</td>\n",
       "      <td>17MMSG16</td>\n",
       "    </tr>\n",
       "  </tbody>\n",
       "</table>\n",
       "</div>"
      ],
      "text/plain": [
       "   SiO2_Cpx  TiO2_Cpx  Al2O3_Cpx  FeOt_Cpx  MnO_Cpx  MgO_Cpx  CaO_Cpx  \\\n",
       "0   51.0169    0.5104     4.2921    3.9184   0.1135  15.9773  21.5003   \n",
       "1   51.0208    0.5145     4.2768    3.7697   0.0917  15.9326  21.6712   \n",
       "2   51.2990    0.4869     4.4177    3.7014   0.0983  15.9157  21.7450   \n",
       "3   49.7147    0.7249     6.2489    3.9880   0.1128  15.0415  21.6397   \n",
       "4   49.9807    0.7351     6.1948    4.0468   0.0951  14.9777  21.5061   \n",
       "\n",
       "   Na2O_Cpx  K2O_Cpx  Cr2O3_Cpx Sample_ID_Cpx  \n",
       "0    0.3828      0.0     0.9642      17MMSG16  \n",
       "1    0.3820      0.0     1.0514      17MMSG16  \n",
       "2    0.3787      0.0     1.1905      17MMSG16  \n",
       "3    0.4081      0.0     1.3550      17MMSG16  \n",
       "4    0.3969      0.0     1.4862      17MMSG16  "
      ]
     },
     "metadata": {},
     "output_type": "display_data"
    }
   ],
   "source": [
    "# You can check inputs have read in right using .head()\n",
    "display(myLiquids1.head())\n",
    "display(myCPXs1.head())"
   ]
  },
  {
   "cell_type": "markdown",
   "metadata": {},
   "source": [
    "# Melt matching function\n",
    "- Initially, we use the default, where all equilibrium criteria are considered, and specify the H2O content of the liquid is 0.5. "
   ]
  },
  {
   "cell_type": "code",
   "execution_count": 5,
   "metadata": {},
   "outputs": [
    {
     "name": "stdout",
     "output_type": "stream",
     "text": [
      "Considering 12714 Liq-Cpx pairs, be patient if this is >>1 million!\n",
      "       SiO2_Liq  TiO2_Liq  Al2O3_Liq  FeOt_Liq  MnO_Liq    MgO_Liq  CaO_Liq  \\\n",
      "0       47.1519    1.7168    15.5321    9.7208   0.1888   5.939515  12.3617   \n",
      "1       46.7277    1.7708    15.4931    9.5435   0.2096   6.098350  12.3699   \n",
      "2       47.5265    1.8483    15.7152    9.6930   0.1678   6.184563  12.3625   \n",
      "3       47.2916    1.7307    15.5250    9.3999   0.1588   6.322718  12.3696   \n",
      "4       47.2260    1.8009    15.6438    9.0440   0.2213   6.069612  12.4081   \n",
      "...         ...       ...        ...       ...      ...        ...      ...   \n",
      "12709   46.0900    1.6900    13.3700    9.6700   0.1800  13.780000  12.2900   \n",
      "12710   47.1800    1.2800    14.9500    8.8100   0.1700  12.240000  11.1400   \n",
      "12711   46.5500    1.5800    14.8300    9.3300   0.1700  10.310000  13.2500   \n",
      "12712   46.8200    1.2100    13.5700    8.8500   0.1700  14.780000  10.9900   \n",
      "12713   47.5700    1.6000    15.2100    9.1300   0.1700  11.390000  10.4300   \n",
      "\n",
      "       Na2O_Liq  K2O_Liq  Cr2O3_Liq  ...        Jd      CaTs      CaTi  \\\n",
      "0        3.7556   1.1877        0.0  ...  0.027466  0.047712  0.032156   \n",
      "1        3.7058   1.2644        0.0  ...  0.027466  0.047712  0.032156   \n",
      "2        3.5107   1.2066        0.0  ...  0.027466  0.047712  0.032156   \n",
      "3        3.9281   1.2285        0.0  ...  0.027466  0.047712  0.032156   \n",
      "4        3.8352   1.1339        0.0  ...  0.027466  0.047712  0.032156   \n",
      "...         ...      ...        ...  ...       ...       ...       ...   \n",
      "12709    2.2400   0.5200        0.0  ...  0.027282  0.014709  0.030048   \n",
      "12710    2.9500   1.0800        0.0  ...  0.027282  0.014709  0.030048   \n",
      "12711    2.8400   0.9000        0.0  ...  0.027282  0.014709  0.030048   \n",
      "12712    2.5900   0.8100        0.0  ...  0.027282  0.014709  0.030048   \n",
      "12713    3.2000   1.0300        0.0  ...  0.027282  0.014709  0.030048   \n",
      "\n",
      "       DiHd_1996      EnFs  DiHd_2003    Di_Cpx  FeIII_Wang21  FeII_Wang21  \\\n",
      "0       0.758539  0.122086   0.758539  0.664444      0.007686     0.113582   \n",
      "1       0.758539  0.122086   0.758539  0.664444      0.007686     0.113582   \n",
      "2       0.758539  0.122086   0.758539  0.664444      0.007686     0.113582   \n",
      "3       0.758539  0.122086   0.758539  0.664444      0.007686     0.113582   \n",
      "4       0.758539  0.122086   0.758539  0.664444      0.007686     0.113582   \n",
      "...          ...       ...        ...       ...           ...          ...   \n",
      "12709   0.797585  0.134288   0.797585   0.61696      0.016862     0.219942   \n",
      "12710   0.797585  0.134288   0.797585   0.61696      0.016862     0.219942   \n",
      "12711   0.797585  0.134288   0.797585   0.61696      0.016862     0.219942   \n",
      "12712   0.797585  0.134288   0.797585   0.61696      0.016862     0.219942   \n",
      "12713   0.797585  0.134288   0.797585   0.61696      0.016862     0.219942   \n",
      "\n",
      "       ID_CPX  \n",
      "0           0  \n",
      "1           0  \n",
      "2           0  \n",
      "3           0  \n",
      "4           0  \n",
      "...       ...  \n",
      "12709      77  \n",
      "12710      77  \n",
      "12711      77  \n",
      "12712      77  \n",
      "12713      77  \n",
      "\n",
      "[12714 rows x 79 columns]\n",
      "3631 Matches remaining after initial Kd filter. Now moving onto iterative calculations\n",
      "Finished calculating Ps and Ts, now just averaging the results. Almost there!\n",
      "Done!\n"
     ]
    }
   ],
   "source": [
    "MM1=pt.calculate_cpx_liq_press_temp_matching(liq_comps=myLiquids1, cpx_comps=myCPXs1, \n",
    "                                        equationP=\"P_Neave2017\", equationT=\"T_Put2008_eq33\", \n",
    "                                         H2O_Liq=0.5)\n",
    "\n",
    "# These lines extract pandas dataframes from the dictionary MM1\n",
    "MM1_All=MM1['All_PTs']\n",
    "MM1_Av=MM1['Av_PTs']"
   ]
  },
  {
   "cell_type": "markdown",
   "metadata": {},
   "source": [
    "## The function returns a dictionary, called MM1, which has all matches, and averages per Cpx.\n",
    "Here, we inspect the average per Cpx, and see that only 3 Cpx analyses were found to have a match to any inputted liquid"
   ]
  },
  {
   "cell_type": "code",
   "execution_count": null,
   "metadata": {},
   "outputs": [],
   "source": [
    "display(MM1_Av)"
   ]
  },
  {
   "cell_type": "markdown",
   "metadata": {},
   "source": [
    "## We can also customize the function to get more matches\n",
    "- Here, folowing Gleeson et al. 2020, we specify that we wish to consider pairs which pass the DiHd, CaTs and EnFs equilibrium tests with sigma = 2. "
   ]
  },
  {
   "cell_type": "code",
   "execution_count": null,
   "metadata": {},
   "outputs": [],
   "source": [
    "MM1_2s=pt.calculate_cpx_liq_press_temp_matching(liq_comps=myLiquids1, cpx_comps=myCPXs1, \n",
    "                                        equationP=\"P_Neave2017\", equationT=\"T_Put2008_eq33\", \n",
    "                                        sigma=2, H2O_Liq=0.5)\n",
    "# These lines extract pandas dataframes from the dictionary MM1\n",
    "MM1_2s_All=MM1_2s['All_PTs']\n",
    "MM1_2s_Av=MM1_2s['Av_PTs']"
   ]
  },
  {
   "cell_type": "markdown",
   "metadata": {},
   "source": [
    "## We see we get a lot more matches. "
   ]
  },
  {
   "cell_type": "code",
   "execution_count": null,
   "metadata": {},
   "outputs": [],
   "source": [
    "MM1_2s_Av"
   ]
  },
  {
   "cell_type": "markdown",
   "metadata": {},
   "source": [
    "# Example 2 \n",
    "- Say you want to used a fixed value for Kd Fe-Mg, rather than the default, which uses equation 35 of Putirka which is T dependent\n",
    "- Here, specifying Kd Fe-Mg = 0.27, and you want to consider +-0.08 as an equilibrium match\n",
    "- Also specifying here that Fe3Fet_Liq=0.15\n",
    "- Also changing pressure equation to equation 30"
   ]
  },
  {
   "cell_type": "code",
   "execution_count": null,
   "metadata": {},
   "outputs": [],
   "source": [
    "# Doing same thing using Fe3/FeT=0.15\n",
    "MM2=pt.calculate_cpx_liq_press_temp_matching(liq_comps=myLiquids1, cpx_comps=myCPXs1, \n",
    "                                        equationP=\"P_Put2008_eq30\", equationT=\"T_Put2008_eq33\", eq_crit=\"All\", \n",
    "                                        KdMatch=0.27, KdErr=0.08, Fe3Fet_Liq=0.15, sigma=2)\n",
    "MM2_All=MM2['All_PTs']\n",
    "MM2_Av=MM2['Av_PTs']"
   ]
  },
  {
   "cell_type": "markdown",
   "metadata": {},
   "source": [
    "# Example 3 - Alkaline Systems\n",
    "- You might want to use the updated Kd model from Masotta valid for trachyte and phonolitic magmas.\n",
    "- Here, you can change KdMatch to \"Masotta\"\n",
    "- Might want to use P from P_Mas2013_Palk2012 and T_Mas2013_Talk2012"
   ]
  },
  {
   "cell_type": "code",
   "execution_count": null,
   "metadata": {},
   "outputs": [],
   "source": [
    "\n",
    "# Doing same thing using Fe3/FeT=0.15\n",
    "MM3=pt.calculate_cpx_liq_press_temp_matching(liq_comps=myLiquids1, cpx_comps=myCPXs1, \n",
    "                                    equationP=\"P_Mas2013_Palk2012\", equationT=\"T_Mas2013_Talk2012\", eq_crit=\"All\", \n",
    "                                    KdMatch=\"Masotta\", KdErr=0.08, Fe3Fet_Liq=0.15, sigma=2)\n",
    "MM3_All=MM3['All_PTs']\n",
    "MM3_Av=MM3['Av_PTs']"
   ]
  },
  {
   "cell_type": "code",
   "execution_count": null,
   "metadata": {},
   "outputs": [],
   "source": [
    "MM3_All.head()"
   ]
  },
  {
   "cell_type": "markdown",
   "metadata": {},
   "source": [
    "## Example 4 - Say you only want a KD filter, using the equation of Putirka\n",
    "- KdMatch=\"Putirka\" is actually a default option, so you don't have to type it"
   ]
  },
  {
   "cell_type": "code",
   "execution_count": null,
   "metadata": {},
   "outputs": [],
   "source": [
    "MM4=pt.calculate_cpx_liq_press_temp_matching(liq_comps=myLiquids1, cpx_comps=myCPXs1, \n",
    "                                        equationP=\"P_Mas2013_Palk2012\", equationT=\"T_Mas2013_Talk2012\", eq_crit=\"Kd\", \n",
    "                                        KdMatch=\"Putirka\", KdErr=0.03, Fe3Fet_Liq=0.15)\n",
    "MM4_All=MM4['All_PTs']\n",
    "MM4_Av=MM4['Av_PTs']"
   ]
  },
  {
   "cell_type": "markdown",
   "metadata": {},
   "source": [
    "## You can see the difference here between the default, and just a Kd filter in terms of # of matches and eq tests"
   ]
  },
  {
   "cell_type": "code",
   "execution_count": null,
   "metadata": {},
   "outputs": [],
   "source": [
    "fig, ((ax1, ax2), (ax3, ax4)) = plt.subplots(2, 2, figsize=(12, 10))\n",
    "# This plots things with probability on the y axis\n",
    "ax1.hist(MM4_All['Delta_Kd_Put2008'], weights=np.ones_like(MM4_All['Delta_Kd_Put2008']) / len(MM4_All['Delta_Kd_Put2008']), label='Kd only')\n",
    "ax1.hist(MM1_All['Delta_Kd_Put2008'], weights=np.ones_like(MM1_All['Delta_Kd_Put2008']) / len(MM1_All['Delta_Kd_Put2008']) , label='All filters (2sigma)', alpha=0.5)\n",
    "ax1.set_xlabel('ΔKd Putirka 2008')\n",
    "ax1.set_ylabel('Probability density')\n",
    "ax1.legend()\n",
    "\n",
    "# This plots things with probability on the y axis\n",
    "ax2.hist(MM4_All['Delta_EnFs'], weights=np.ones_like(MM4_All['Delta_EnFs']) / len(MM4_All['Delta_EnFs']) )#, label='All filters (2sigma)', color='salmon')\n",
    "ax2.hist(MM1_All['Delta_EnFs'], weights=np.ones_like(MM1_All['Delta_EnFs']) / len(MM1_All['Delta_EnFs']), alpha=0.5)\n",
    "ax2.set_xlabel('ΔEnFs')\n",
    "\n",
    "# This plots things with probability on the y axis\n",
    "ax3.hist(MM4_All['Delta_DiHd'], weights=np.ones_like(MM4_All['Delta_DiHd']) / len(MM4_All['Delta_DiHd']) )#, label='All filters (2sigma)', color='salmon')\n",
    "ax3.hist(MM1_All['Delta_DiHd'], weights=np.ones_like(MM1_All['Delta_DiHd']) / len(MM1_All['Delta_DiHd']) , alpha=0.5)\n",
    "ax3.set_xlabel('ΔDiHd')\n",
    "ax3.set_ylabel('Probability density')\n",
    "# This plots things with probability on the y axis\n",
    "ax4.hist(MM4_All['Delta_CaTs'], weights=np.ones_like(MM4_All['Delta_CaTs']) / len(MM4_All['Delta_CaTs']) )#, label='All filters (2sigma)', color='salmon')\n",
    "ax4.hist(MM1_All['Delta_CaTs'], weights=np.ones_like(MM1_All['Delta_CaTs']) / len(MM1_All['Delta_CaTs']), alpha=0.5)\n",
    "ax4.set_xlabel('ΔCaTs')"
   ]
  },
  {
   "cell_type": "markdown",
   "metadata": {},
   "source": [
    "# Plotting\n",
    "- Here comparing first match, with sigma=1 and the second with sigma=2\n",
    "- We show average for cpx with a diamond and error bar, as well as all matches as very faint dots\n"
   ]
  },
  {
   "cell_type": "code",
   "execution_count": null,
   "metadata": {},
   "outputs": [],
   "source": [
    "fig, ((ax1, ax2)) = plt.subplots(1, 2, figsize=(12, 5))\n",
    "\n",
    "# Subplot1\n",
    "ax1.plot(MM1_All['T_K_calc']-273.15,  MM1_All['P_kbar_calc'], '.c', alpha=0.5)\n",
    "ax1.errorbar(MM1_Av['Mean_T_K_calc']-273.15,  MM1_Av['Mean_P_kbar_calc'],\n",
    "             xerr=MM1_Av['st_dev_T_K_calc'], yerr=MM1_Av['st_dev_P_kbar_calc'],\n",
    "             fmt='d', ecolor='k', elinewidth=0.8, mfc='cyan', ms=8, mec='k')\n",
    "ax1.set_xlabel('Temperature (°C)')\n",
    "ax1.set_ylabel('Pressure (kbar)')\n",
    "ax1.set_title('1 sigma')\n",
    "# Subplot2\n",
    "ax2.plot(MM1_2s_All['T_K_calc']-273.15,  MM1_2s_All['P_kbar_calc'], '.r', alpha=0.3)\n",
    "\n",
    "ax2.errorbar(MM1_2s_Av['Mean_T_K_calc']-273.15,  MM1_2s_Av['Mean_P_kbar_calc'],\n",
    "             xerr=MM1_2s_Av['st_dev_T_K_calc'], yerr=MM1_2s_Av['st_dev_P_kbar_calc'],\n",
    "             fmt='d', ecolor='k', elinewidth=0.8, mfc='red', ms=8, mec='k')\n",
    "ax2.set_xlabel('Temperature (°C)')\n",
    "ax2.set_ylabel('Pressure (kbar)')\n",
    "ax2.set_title('2 sigma')\n",
    "ax1.invert_yaxis()\n",
    "ax2.invert_yaxis()\n"
   ]
  },
  {
   "cell_type": "markdown",
   "metadata": {},
   "source": [
    "## Here we compare to published data for Gleeson et al. (2020)\n",
    "- The differences result from the fact that the R algorithm of D. Neave throws out matches before \n",
    "T and P are fully converged, and Kd is being calculated using Putirka (1996) in that code, rather than the user-selected thermometer"
   ]
  },
  {
   "cell_type": "code",
   "execution_count": 15,
   "metadata": {},
   "outputs": [
    {
     "data": {
      "text/plain": [
       "Text(0, 0.5, 'Pressure (kbar)')"
      ]
     },
     "execution_count": 15,
     "metadata": {},
     "output_type": "execute_result"
    },
    {
     "data": {
      "image/png": "[encoded data removed]",
      "text/plain": [
       "<Figure size 504x360 with 1 Axes>"
      ]
     },
     "metadata": {
      "needs_background": "light"
     },
     "output_type": "display_data"
    }
   ],
   "source": [
    "fig, (ax1) = plt.subplots(1, figsize=(7, 5))\n",
    "\n",
    "# Subplot1\n",
    "ax1.errorbar(MM1_2s_Av['Mean_T_K_calc']-273.15,  MM1_2s_Av['Mean_P_kbar_calc'],\n",
    "             xerr=MM1_2s_Av['st_dev_T_K_calc'], yerr=MM1_2s_Av['st_dev_P_kbar_calc'],\n",
    "             fmt='d', ecolor='k', elinewidth=0.8, mfc='cyan', ms=8, mec='k', label='Pennys code')\n",
    "ax1.plot(Published['Temperature'], Published['Pressure'], '*k', markerfacecolor='yellow', markersize=15, label='published')\n",
    "ax1.legend()\n",
    "ax1.invert_yaxis()\n",
    "ax1.set_xlabel('Temperature (°C)')\n",
    "ax1.set_ylabel('Pressure (kbar)')"
   ]
  }
 ],
 "metadata": {
  "kernelspec": {
   "display_name": "Python 3",
   "language": "python",
   "name": "python3"
  },
  "language_info": {
   "codemirror_mode": {
    "name": "ipython",
    "version": 3
   },
   "file_extension": ".py",
   "mimetype": "text/x-python",
   "name": "python",
   "nbconvert_exporter": "python",
   "pygments_lexer": "ipython3",
   "version": "3.8.5"
  }
 },
 "nbformat": 4,
 "nbformat_minor": 4
}
