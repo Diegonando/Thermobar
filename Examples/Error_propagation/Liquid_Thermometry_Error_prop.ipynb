{
 "cells": [
  {
   "cell_type": "markdown",
   "metadata": {},
   "source": [
    "# This workbook demonstrates how to investigate the effect of uncertainty on calculated temperatures for liquid-only thermometers"
   ]
  },
  {
   "cell_type": "code",
   "execution_count": 1,
   "metadata": {},
   "outputs": [],
   "source": [
    "import numpy as np\n",
    "import pandas as pd\n",
    "import sys\n",
    "sys.path.append(\"../..\")\n",
    "import matplotlib.pyplot as plt\n",
    "import Thermobar as pt\n",
    "pd.options.display.max_columns = None"
   ]
  },
  {
   "cell_type": "markdown",
   "metadata": {},
   "source": [
    "## This sets plotting parameters"
   ]
  },
  {
   "cell_type": "code",
   "execution_count": 2,
   "metadata": {},
   "outputs": [
    {
     "name": "stderr",
     "output_type": "stream",
     "text": [
      "C:\\Users\\penny\\anaconda3\\lib\\site-packages\\ipykernel\\ipkernel.py:283: DeprecationWarning: `should_run_async` will not call `transform_cell` automatically in the future. Please pass the result to `transformed_cell` argument and any exception that happen during thetransform in `preprocessing_exc_tuple` in IPython 7.17 and above.\n",
      "  and should_run_async(code)\n"
     ]
    }
   ],
   "source": [
    "# This sets some plotting things\n",
    "plt.rcParams[\"font.family\"] = 'arial'\n",
    "plt.rcParams[\"font.size\"] =12\n",
    "plt.rcParams[\"mathtext.default\"] = \"regular\"\n",
    "plt.rcParams[\"mathtext.fontset\"] = \"dejavusans\"\n",
    "plt.rcParams['patch.linewidth'] = 1\n",
    "plt.rcParams['axes.linewidth'] = 1 \n",
    "plt.rcParams[\"xtick.direction\"] = \"in\"\n",
    "plt.rcParams[\"ytick.direction\"] = \"in\"\n",
    "plt.rcParams[\"ytick.direction\"] = \"in\"\n",
    "plt.rcParams[\"xtick.major.size\"] = 6 # Sets length of ticks\n",
    "plt.rcParams[\"ytick.major.size\"] = 4 # Sets length of ticks\n",
    "plt.rcParams[\"ytick.labelsize\"] = 12 # Sets size of numbers on tick marks\n",
    "plt.rcParams[\"xtick.labelsize\"] = 12 # Sets size of numbers on tick marks\n",
    "plt.rcParams[\"axes.titlesize\"] = 14 # Overall title\n",
    "plt.rcParams[\"axes.labelsize\"] = 14 # Axes labels"
   ]
  },
  {
   "cell_type": "markdown",
   "metadata": {},
   "source": [
    "#  Example 1: Absolute errors in wt%\n",
    "- input spreadsheet has absolute errors (in wt%) as column headings (e.g., from experimental studies where they report 1 sigma uncertainties)\n",
    "- We want to generate N synthetic liquids for each real liquid whose parameters vary within these error bounds. "
   ]
  },
  {
   "cell_type": "code",
   "execution_count": 3,
   "metadata": {},
   "outputs": [],
   "source": [
    "# this cell loads the data, e.g., colum headings SiO2_Liq, MgO_Liq etc. \n",
    "out=pt.import_Excel('Liquid_Errors.xlsx', sheet_name=\"Error_Example_Abs\")\n",
    "my_input=out['my_input']\n",
    "myOls1=out['Ols']\n",
    "myLiquids1=out['Liqs']"
   ]
  },
  {
   "cell_type": "code",
   "execution_count": 4,
   "metadata": {},
   "outputs": [
    {
     "name": "stderr",
     "output_type": "stream",
     "text": [
      "C:\\Users\\penny\\anaconda3\\lib\\site-packages\\ipykernel\\ipkernel.py:283: DeprecationWarning: `should_run_async` will not call `transform_cell` automatically in the future. Please pass the result to `transformed_cell` argument and any exception that happen during thetransform in `preprocessing_exc_tuple` in IPython 7.17 and above.\n",
      "  and should_run_async(code)\n"
     ]
    }
   ],
   "source": [
    "# This cell loads the errors, reading from columns SiO2_Liq_Err, MgO_Liq_Err etc. \n",
    "out_Err=pt.import_Excel_Errors('Liquid_Errors.xlsx', sheet_name=\"Error_Example_Abs\")\n",
    "myLiquids1_Err=out_Err['Liqs_Err']\n",
    "myinput_Out=out_Err['my_input_Err']"
   ]
  },
  {
   "cell_type": "code",
   "execution_count": 5,
   "metadata": {},
   "outputs": [
    {
     "data": {
      "text/html": [
       "<div>\n",
       "<style scoped>\n",
       "    .dataframe tbody tr th:only-of-type {\n",
       "        vertical-align: middle;\n",
       "    }\n",
       "\n",
       "    .dataframe tbody tr th {\n",
       "        vertical-align: top;\n",
       "    }\n",
       "\n",
       "    .dataframe thead th {\n",
       "        text-align: right;\n",
       "    }\n",
       "</style>\n",
       "<table border=\"1\" class=\"dataframe\">\n",
       "  <thead>\n",
       "    <tr style=\"text-align: right;\">\n",
       "      <th></th>\n",
       "      <th>SiO2_Liq_Err</th>\n",
       "      <th>TiO2_Liq_Err</th>\n",
       "      <th>Al2O3_Liq_Err</th>\n",
       "      <th>FeOt_Liq_Err</th>\n",
       "      <th>MnO_Liq_Err</th>\n",
       "      <th>MgO_Liq_Err</th>\n",
       "      <th>CaO_Liq_Err</th>\n",
       "      <th>Na2O_Liq_Err</th>\n",
       "      <th>K2O_Liq_Err</th>\n",
       "      <th>Cr2O3_Liq_Err</th>\n",
       "      <th>P2O5_Liq_Err</th>\n",
       "      <th>H2O_Liq_Err</th>\n",
       "      <th>Fe3FeT_Liq_Err</th>\n",
       "      <th>NiO_Liq_Err</th>\n",
       "      <th>CoO_Liq_Err</th>\n",
       "      <th>CO2_Liq_Err</th>\n",
       "      <th>Sample_ID_Liq_Err</th>\n",
       "      <th>P_kbar_Err</th>\n",
       "      <th>T_K_Err</th>\n",
       "    </tr>\n",
       "  </thead>\n",
       "  <tbody>\n",
       "    <tr>\n",
       "      <th>0</th>\n",
       "      <td>0.168800</td>\n",
       "      <td>0.094674</td>\n",
       "      <td>0.352282</td>\n",
       "      <td>0.185453</td>\n",
       "      <td>0.003443</td>\n",
       "      <td>0.423718</td>\n",
       "      <td>0.185089</td>\n",
       "      <td>0.424152</td>\n",
       "      <td>0.273896</td>\n",
       "      <td>0.007649</td>\n",
       "      <td>0.011024</td>\n",
       "      <td>0.2</td>\n",
       "      <td>0.0</td>\n",
       "      <td>0.0</td>\n",
       "      <td>0.0</td>\n",
       "      <td>0.0</td>\n",
       "      <td>0</td>\n",
       "      <td>0.1</td>\n",
       "      <td>5</td>\n",
       "    </tr>\n",
       "    <tr>\n",
       "      <th>1</th>\n",
       "      <td>0.273773</td>\n",
       "      <td>0.043005</td>\n",
       "      <td>0.128686</td>\n",
       "      <td>0.348039</td>\n",
       "      <td>0.062106</td>\n",
       "      <td>0.422937</td>\n",
       "      <td>0.427487</td>\n",
       "      <td>0.255009</td>\n",
       "      <td>0.455046</td>\n",
       "      <td>0.005722</td>\n",
       "      <td>0.032563</td>\n",
       "      <td>0.2</td>\n",
       "      <td>0.0</td>\n",
       "      <td>0.0</td>\n",
       "      <td>0.0</td>\n",
       "      <td>0.0</td>\n",
       "      <td>1</td>\n",
       "      <td>0.1</td>\n",
       "      <td>5</td>\n",
       "    </tr>\n",
       "    <tr>\n",
       "      <th>2</th>\n",
       "      <td>0.216526</td>\n",
       "      <td>0.045624</td>\n",
       "      <td>0.037117</td>\n",
       "      <td>0.368804</td>\n",
       "      <td>0.097813</td>\n",
       "      <td>0.007730</td>\n",
       "      <td>0.458202</td>\n",
       "      <td>0.160674</td>\n",
       "      <td>0.332565</td>\n",
       "      <td>0.002960</td>\n",
       "      <td>0.006635</td>\n",
       "      <td>0.2</td>\n",
       "      <td>0.0</td>\n",
       "      <td>0.0</td>\n",
       "      <td>0.0</td>\n",
       "      <td>0.0</td>\n",
       "      <td>2</td>\n",
       "      <td>0.1</td>\n",
       "      <td>5</td>\n",
       "    </tr>\n",
       "    <tr>\n",
       "      <th>3</th>\n",
       "      <td>0.984937</td>\n",
       "      <td>0.008604</td>\n",
       "      <td>0.125205</td>\n",
       "      <td>0.330998</td>\n",
       "      <td>0.065548</td>\n",
       "      <td>0.393717</td>\n",
       "      <td>0.369659</td>\n",
       "      <td>0.055583</td>\n",
       "      <td>0.194877</td>\n",
       "      <td>0.003742</td>\n",
       "      <td>0.001138</td>\n",
       "      <td>0.2</td>\n",
       "      <td>0.0</td>\n",
       "      <td>0.0</td>\n",
       "      <td>0.0</td>\n",
       "      <td>0.0</td>\n",
       "      <td>3</td>\n",
       "      <td>0.1</td>\n",
       "      <td>5</td>\n",
       "    </tr>\n",
       "    <tr>\n",
       "      <th>4</th>\n",
       "      <td>0.661858</td>\n",
       "      <td>0.053289</td>\n",
       "      <td>0.408826</td>\n",
       "      <td>0.153988</td>\n",
       "      <td>0.063849</td>\n",
       "      <td>0.192904</td>\n",
       "      <td>0.463465</td>\n",
       "      <td>0.117601</td>\n",
       "      <td>0.316096</td>\n",
       "      <td>0.006090</td>\n",
       "      <td>0.021499</td>\n",
       "      <td>0.2</td>\n",
       "      <td>0.0</td>\n",
       "      <td>0.0</td>\n",
       "      <td>0.0</td>\n",
       "      <td>0.0</td>\n",
       "      <td>4</td>\n",
       "      <td>0.1</td>\n",
       "      <td>5</td>\n",
       "    </tr>\n",
       "  </tbody>\n",
       "</table>\n",
       "</div>"
      ],
      "text/plain": [
       "   SiO2_Liq_Err  TiO2_Liq_Err  Al2O3_Liq_Err  FeOt_Liq_Err  MnO_Liq_Err  \\\n",
       "0      0.168800      0.094674       0.352282      0.185453     0.003443   \n",
       "1      0.273773      0.043005       0.128686      0.348039     0.062106   \n",
       "2      0.216526      0.045624       0.037117      0.368804     0.097813   \n",
       "3      0.984937      0.008604       0.125205      0.330998     0.065548   \n",
       "4      0.661858      0.053289       0.408826      0.153988     0.063849   \n",
       "\n",
       "   MgO_Liq_Err  CaO_Liq_Err  Na2O_Liq_Err  K2O_Liq_Err  Cr2O3_Liq_Err  \\\n",
       "0     0.423718     0.185089      0.424152     0.273896       0.007649   \n",
       "1     0.422937     0.427487      0.255009     0.455046       0.005722   \n",
       "2     0.007730     0.458202      0.160674     0.332565       0.002960   \n",
       "3     0.393717     0.369659      0.055583     0.194877       0.003742   \n",
       "4     0.192904     0.463465      0.117601     0.316096       0.006090   \n",
       "\n",
       "   P2O5_Liq_Err  H2O_Liq_Err  Fe3FeT_Liq_Err  NiO_Liq_Err  CoO_Liq_Err  \\\n",
       "0      0.011024          0.2             0.0          0.0          0.0   \n",
       "1      0.032563          0.2             0.0          0.0          0.0   \n",
       "2      0.006635          0.2             0.0          0.0          0.0   \n",
       "3      0.001138          0.2             0.0          0.0          0.0   \n",
       "4      0.021499          0.2             0.0          0.0          0.0   \n",
       "\n",
       "   CO2_Liq_Err  Sample_ID_Liq_Err  P_kbar_Err  T_K_Err  \n",
       "0          0.0                  0         0.1        5  \n",
       "1          0.0                  1         0.1        5  \n",
       "2          0.0                  2         0.1        5  \n",
       "3          0.0                  3         0.1        5  \n",
       "4          0.0                  4         0.1        5  "
      ]
     },
     "metadata": {},
     "output_type": "display_data"
    },
    {
     "data": {
      "text/html": [
       "<div>\n",
       "<style scoped>\n",
       "    .dataframe tbody tr th:only-of-type {\n",
       "        vertical-align: middle;\n",
       "    }\n",
       "\n",
       "    .dataframe tbody tr th {\n",
       "        vertical-align: top;\n",
       "    }\n",
       "\n",
       "    .dataframe thead th {\n",
       "        text-align: right;\n",
       "    }\n",
       "</style>\n",
       "<table border=\"1\" class=\"dataframe\">\n",
       "  <thead>\n",
       "    <tr style=\"text-align: right;\">\n",
       "      <th></th>\n",
       "      <th>SiO2_Liq</th>\n",
       "      <th>TiO2_Liq</th>\n",
       "      <th>Al2O3_Liq</th>\n",
       "      <th>FeOt_Liq</th>\n",
       "      <th>MnO_Liq</th>\n",
       "      <th>MgO_Liq</th>\n",
       "      <th>CaO_Liq</th>\n",
       "      <th>Na2O_Liq</th>\n",
       "      <th>K2O_Liq</th>\n",
       "      <th>Cr2O3_Liq</th>\n",
       "      <th>P2O5_Liq</th>\n",
       "      <th>H2O_Liq</th>\n",
       "      <th>Fe3FeT_Liq</th>\n",
       "      <th>NiO_Liq</th>\n",
       "      <th>CoO_Liq</th>\n",
       "      <th>CO2_Liq</th>\n",
       "      <th>Sample_ID_Liq</th>\n",
       "      <th>P_kbar</th>\n",
       "      <th>T_K</th>\n",
       "    </tr>\n",
       "  </thead>\n",
       "  <tbody>\n",
       "    <tr>\n",
       "      <th>0</th>\n",
       "      <td>57.023602</td>\n",
       "      <td>0.623106</td>\n",
       "      <td>16.332899</td>\n",
       "      <td>4.36174</td>\n",
       "      <td>0.103851</td>\n",
       "      <td>4.19180</td>\n",
       "      <td>6.94858</td>\n",
       "      <td>3.59702</td>\n",
       "      <td>0.896895</td>\n",
       "      <td>0.000000</td>\n",
       "      <td>0.226584</td>\n",
       "      <td>5.59</td>\n",
       "      <td>0.2</td>\n",
       "      <td>0.0</td>\n",
       "      <td>0.0</td>\n",
       "      <td>0.0</td>\n",
       "      <td>0</td>\n",
       "      <td>2.0</td>\n",
       "      <td>1313.15</td>\n",
       "    </tr>\n",
       "    <tr>\n",
       "      <th>1</th>\n",
       "      <td>57.658600</td>\n",
       "      <td>0.654150</td>\n",
       "      <td>17.194799</td>\n",
       "      <td>3.90621</td>\n",
       "      <td>0.084105</td>\n",
       "      <td>2.86892</td>\n",
       "      <td>5.91538</td>\n",
       "      <td>3.85948</td>\n",
       "      <td>1.018600</td>\n",
       "      <td>0.000000</td>\n",
       "      <td>0.214935</td>\n",
       "      <td>6.55</td>\n",
       "      <td>0.2</td>\n",
       "      <td>0.0</td>\n",
       "      <td>0.0</td>\n",
       "      <td>0.0</td>\n",
       "      <td>1</td>\n",
       "      <td>2.0</td>\n",
       "      <td>1293.15</td>\n",
       "    </tr>\n",
       "    <tr>\n",
       "      <th>2</th>\n",
       "      <td>60.731201</td>\n",
       "      <td>0.862054</td>\n",
       "      <td>17.144199</td>\n",
       "      <td>4.07781</td>\n",
       "      <td>0.077488</td>\n",
       "      <td>2.50867</td>\n",
       "      <td>5.22075</td>\n",
       "      <td>4.45556</td>\n",
       "      <td>1.414160</td>\n",
       "      <td>0.000000</td>\n",
       "      <td>0.319638</td>\n",
       "      <td>3.14</td>\n",
       "      <td>0.2</td>\n",
       "      <td>0.0</td>\n",
       "      <td>0.0</td>\n",
       "      <td>0.0</td>\n",
       "      <td>2</td>\n",
       "      <td>2.0</td>\n",
       "      <td>1253.15</td>\n",
       "    </tr>\n",
       "    <tr>\n",
       "      <th>3</th>\n",
       "      <td>61.532799</td>\n",
       "      <td>0.440860</td>\n",
       "      <td>16.508801</td>\n",
       "      <td>3.32990</td>\n",
       "      <td>0.037520</td>\n",
       "      <td>1.64150</td>\n",
       "      <td>4.34294</td>\n",
       "      <td>4.40860</td>\n",
       "      <td>1.407000</td>\n",
       "      <td>0.000000</td>\n",
       "      <td>0.215740</td>\n",
       "      <td>6.20</td>\n",
       "      <td>0.2</td>\n",
       "      <td>0.0</td>\n",
       "      <td>0.0</td>\n",
       "      <td>0.0</td>\n",
       "      <td>3</td>\n",
       "      <td>2.0</td>\n",
       "      <td>1213.15</td>\n",
       "    </tr>\n",
       "    <tr>\n",
       "      <th>4</th>\n",
       "      <td>52.969101</td>\n",
       "      <td>0.803412</td>\n",
       "      <td>17.563000</td>\n",
       "      <td>5.93217</td>\n",
       "      <td>0.149472</td>\n",
       "      <td>3.78351</td>\n",
       "      <td>7.65110</td>\n",
       "      <td>3.80219</td>\n",
       "      <td>0.551178</td>\n",
       "      <td>0.037368</td>\n",
       "      <td>0.196182</td>\n",
       "      <td>6.58</td>\n",
       "      <td>0.2</td>\n",
       "      <td>0.0</td>\n",
       "      <td>0.0</td>\n",
       "      <td>0.0</td>\n",
       "      <td>4</td>\n",
       "      <td>2.0</td>\n",
       "      <td>1303.15</td>\n",
       "    </tr>\n",
       "  </tbody>\n",
       "</table>\n",
       "</div>"
      ],
      "text/plain": [
       "    SiO2_Liq  TiO2_Liq  Al2O3_Liq  FeOt_Liq   MnO_Liq  MgO_Liq  CaO_Liq  \\\n",
       "0  57.023602  0.623106  16.332899   4.36174  0.103851  4.19180  6.94858   \n",
       "1  57.658600  0.654150  17.194799   3.90621  0.084105  2.86892  5.91538   \n",
       "2  60.731201  0.862054  17.144199   4.07781  0.077488  2.50867  5.22075   \n",
       "3  61.532799  0.440860  16.508801   3.32990  0.037520  1.64150  4.34294   \n",
       "4  52.969101  0.803412  17.563000   5.93217  0.149472  3.78351  7.65110   \n",
       "\n",
       "   Na2O_Liq   K2O_Liq  Cr2O3_Liq  P2O5_Liq  H2O_Liq  Fe3FeT_Liq  NiO_Liq  \\\n",
       "0   3.59702  0.896895   0.000000  0.226584     5.59         0.2      0.0   \n",
       "1   3.85948  1.018600   0.000000  0.214935     6.55         0.2      0.0   \n",
       "2   4.45556  1.414160   0.000000  0.319638     3.14         0.2      0.0   \n",
       "3   4.40860  1.407000   0.000000  0.215740     6.20         0.2      0.0   \n",
       "4   3.80219  0.551178   0.037368  0.196182     6.58         0.2      0.0   \n",
       "\n",
       "   CoO_Liq  CO2_Liq  Sample_ID_Liq  P_kbar      T_K  \n",
       "0      0.0      0.0              0     2.0  1313.15  \n",
       "1      0.0      0.0              1     2.0  1293.15  \n",
       "2      0.0      0.0              2     2.0  1253.15  \n",
       "3      0.0      0.0              3     2.0  1213.15  \n",
       "4      0.0      0.0              4     2.0  1303.15  "
      ]
     },
     "metadata": {},
     "output_type": "display_data"
    }
   ],
   "source": [
    "display(myLiquids1_Err.head())\n",
    "display(myLiquids1.head())"
   ]
  },
  {
   "cell_type": "markdown",
   "metadata": {},
   "source": [
    "## Use function Add_Sample_Noise_1Phase() to add sample noise and make lots of synthetic liquids\n",
    "- adds noise to myLiquids1 from a normal distribution with a mean defined by the measured value of each element, and the user-entered 1 sigma value\n",
    "- Specify number of re-samples per liquid using \"duplicates\". e.g., here, make 1000 synthetic liquids per liquid\n",
    "- By default all negative numbers are replaced with zeros, but you can set Positive=False if you don't want this behavoir"
   ]
  },
  {
   "cell_type": "code",
   "execution_count": 6,
   "metadata": {},
   "outputs": [
    {
     "name": "stderr",
     "output_type": "stream",
     "text": [
      "C:\\Users\\penny\\anaconda3\\lib\\site-packages\\ipykernel\\ipkernel.py:283: DeprecationWarning: `should_run_async` will not call `transform_cell` automatically in the future. Please pass the result to `transformed_cell` argument and any exception that happen during thetransform in `preprocessing_exc_tuple` in IPython 7.17 and above.\n",
      "  and should_run_async(code)\n"
     ]
    },
    {
     "name": "stdout",
     "output_type": "stream",
     "text": [
      "All negative numbers replaced with zeros. If you wish to keep these, set Positive=False\n"
     ]
    }
   ],
   "source": [
    "Liquids_only_abs_noise=pt.Add_Sample_Noise_1Phase(Phase_Comp=myLiquids1, Phase_Err=myLiquids1_Err,\n",
    "                                             Phase_Err_type=\"Abs\", duplicates=1000, Err_dist=\"normal\")\n"
   ]
  },
  {
   "cell_type": "markdown",
   "metadata": {},
   "source": [
    "- Here, we can look at all 1000 of the synthetic liquids generated for the first user-entered liquid "
   ]
  },
  {
   "cell_type": "code",
   "execution_count": 7,
   "metadata": {},
   "outputs": [
    {
     "name": "stderr",
     "output_type": "stream",
     "text": [
      "C:\\Users\\penny\\anaconda3\\lib\\site-packages\\ipykernel\\ipkernel.py:283: DeprecationWarning: `should_run_async` will not call `transform_cell` automatically in the future. Please pass the result to `transformed_cell` argument and any exception that happen during thetransform in `preprocessing_exc_tuple` in IPython 7.17 and above.\n",
      "  and should_run_async(code)\n"
     ]
    },
    {
     "data": {
      "text/html": [
       "<div>\n",
       "<style scoped>\n",
       "    .dataframe tbody tr th:only-of-type {\n",
       "        vertical-align: middle;\n",
       "    }\n",
       "\n",
       "    .dataframe tbody tr th {\n",
       "        vertical-align: top;\n",
       "    }\n",
       "\n",
       "    .dataframe thead th {\n",
       "        text-align: right;\n",
       "    }\n",
       "</style>\n",
       "<table border=\"1\" class=\"dataframe\">\n",
       "  <thead>\n",
       "    <tr style=\"text-align: right;\">\n",
       "      <th></th>\n",
       "      <th>SiO2_Liq</th>\n",
       "      <th>TiO2_Liq</th>\n",
       "      <th>Al2O3_Liq</th>\n",
       "      <th>FeOt_Liq</th>\n",
       "      <th>MnO_Liq</th>\n",
       "      <th>MgO_Liq</th>\n",
       "      <th>CaO_Liq</th>\n",
       "      <th>Na2O_Liq</th>\n",
       "      <th>K2O_Liq</th>\n",
       "      <th>Cr2O3_Liq</th>\n",
       "      <th>P2O5_Liq</th>\n",
       "      <th>H2O_Liq</th>\n",
       "      <th>Fe3FeT_Liq</th>\n",
       "      <th>NiO_Liq</th>\n",
       "      <th>CoO_Liq</th>\n",
       "      <th>CO2_Liq</th>\n",
       "      <th>P_kbar</th>\n",
       "      <th>T_K</th>\n",
       "      <th>Sample_ID_Liq_Num</th>\n",
       "    </tr>\n",
       "  </thead>\n",
       "  <tbody>\n",
       "    <tr>\n",
       "      <th>0</th>\n",
       "      <td>56.861976</td>\n",
       "      <td>0.770792</td>\n",
       "      <td>16.362328</td>\n",
       "      <td>4.251976</td>\n",
       "      <td>0.106764</td>\n",
       "      <td>3.275057</td>\n",
       "      <td>6.757851</td>\n",
       "      <td>2.990259</td>\n",
       "      <td>0.645018</td>\n",
       "      <td>0.000000</td>\n",
       "      <td>0.237245</td>\n",
       "      <td>5.676163</td>\n",
       "      <td>0.0</td>\n",
       "      <td>0.0</td>\n",
       "      <td>0.0</td>\n",
       "      <td>0.0</td>\n",
       "      <td>2.185259</td>\n",
       "      <td>1310.670112</td>\n",
       "      <td>0.0</td>\n",
       "    </tr>\n",
       "    <tr>\n",
       "      <th>1</th>\n",
       "      <td>56.775063</td>\n",
       "      <td>0.726594</td>\n",
       "      <td>16.223513</td>\n",
       "      <td>4.424066</td>\n",
       "      <td>0.098830</td>\n",
       "      <td>4.369264</td>\n",
       "      <td>6.700856</td>\n",
       "      <td>3.320992</td>\n",
       "      <td>0.894939</td>\n",
       "      <td>0.014629</td>\n",
       "      <td>0.220781</td>\n",
       "      <td>6.060341</td>\n",
       "      <td>0.0</td>\n",
       "      <td>0.0</td>\n",
       "      <td>0.0</td>\n",
       "      <td>0.0</td>\n",
       "      <td>1.995597</td>\n",
       "      <td>1309.337950</td>\n",
       "      <td>0.0</td>\n",
       "    </tr>\n",
       "    <tr>\n",
       "      <th>2</th>\n",
       "      <td>56.883032</td>\n",
       "      <td>0.684924</td>\n",
       "      <td>15.972656</td>\n",
       "      <td>4.229064</td>\n",
       "      <td>0.106914</td>\n",
       "      <td>4.059318</td>\n",
       "      <td>6.909759</td>\n",
       "      <td>3.750125</td>\n",
       "      <td>0.811690</td>\n",
       "      <td>0.012259</td>\n",
       "      <td>0.227143</td>\n",
       "      <td>5.841531</td>\n",
       "      <td>0.0</td>\n",
       "      <td>0.0</td>\n",
       "      <td>0.0</td>\n",
       "      <td>0.0</td>\n",
       "      <td>2.088957</td>\n",
       "      <td>1311.358022</td>\n",
       "      <td>0.0</td>\n",
       "    </tr>\n",
       "    <tr>\n",
       "      <th>3</th>\n",
       "      <td>56.886750</td>\n",
       "      <td>0.521653</td>\n",
       "      <td>16.803632</td>\n",
       "      <td>4.741375</td>\n",
       "      <td>0.112344</td>\n",
       "      <td>4.001966</td>\n",
       "      <td>6.915054</td>\n",
       "      <td>3.430420</td>\n",
       "      <td>1.073996</td>\n",
       "      <td>0.008031</td>\n",
       "      <td>0.228522</td>\n",
       "      <td>5.087462</td>\n",
       "      <td>0.0</td>\n",
       "      <td>0.0</td>\n",
       "      <td>0.0</td>\n",
       "      <td>0.0</td>\n",
       "      <td>1.807811</td>\n",
       "      <td>1318.644585</td>\n",
       "      <td>0.0</td>\n",
       "    </tr>\n",
       "    <tr>\n",
       "      <th>4</th>\n",
       "      <td>57.090443</td>\n",
       "      <td>0.470567</td>\n",
       "      <td>16.452149</td>\n",
       "      <td>4.149748</td>\n",
       "      <td>0.107534</td>\n",
       "      <td>4.325857</td>\n",
       "      <td>7.062506</td>\n",
       "      <td>3.770421</td>\n",
       "      <td>0.913438</td>\n",
       "      <td>0.003700</td>\n",
       "      <td>0.225769</td>\n",
       "      <td>5.589410</td>\n",
       "      <td>0.0</td>\n",
       "      <td>0.0</td>\n",
       "      <td>0.0</td>\n",
       "      <td>0.0</td>\n",
       "      <td>1.904370</td>\n",
       "      <td>1316.644999</td>\n",
       "      <td>0.0</td>\n",
       "    </tr>\n",
       "    <tr>\n",
       "      <th>...</th>\n",
       "      <td>...</td>\n",
       "      <td>...</td>\n",
       "      <td>...</td>\n",
       "      <td>...</td>\n",
       "      <td>...</td>\n",
       "      <td>...</td>\n",
       "      <td>...</td>\n",
       "      <td>...</td>\n",
       "      <td>...</td>\n",
       "      <td>...</td>\n",
       "      <td>...</td>\n",
       "      <td>...</td>\n",
       "      <td>...</td>\n",
       "      <td>...</td>\n",
       "      <td>...</td>\n",
       "      <td>...</td>\n",
       "      <td>...</td>\n",
       "      <td>...</td>\n",
       "      <td>...</td>\n",
       "    </tr>\n",
       "    <tr>\n",
       "      <th>995</th>\n",
       "      <td>56.915970</td>\n",
       "      <td>0.522569</td>\n",
       "      <td>16.721076</td>\n",
       "      <td>4.278097</td>\n",
       "      <td>0.102541</td>\n",
       "      <td>3.272355</td>\n",
       "      <td>6.872089</td>\n",
       "      <td>3.868004</td>\n",
       "      <td>0.940408</td>\n",
       "      <td>0.000000</td>\n",
       "      <td>0.252891</td>\n",
       "      <td>6.066587</td>\n",
       "      <td>0.0</td>\n",
       "      <td>0.0</td>\n",
       "      <td>0.0</td>\n",
       "      <td>0.0</td>\n",
       "      <td>1.992564</td>\n",
       "      <td>1307.178259</td>\n",
       "      <td>0.0</td>\n",
       "    </tr>\n",
       "    <tr>\n",
       "      <th>996</th>\n",
       "      <td>57.135801</td>\n",
       "      <td>0.552723</td>\n",
       "      <td>16.944250</td>\n",
       "      <td>4.578217</td>\n",
       "      <td>0.102177</td>\n",
       "      <td>4.076418</td>\n",
       "      <td>6.866435</td>\n",
       "      <td>4.187261</td>\n",
       "      <td>1.186002</td>\n",
       "      <td>0.007880</td>\n",
       "      <td>0.224254</td>\n",
       "      <td>5.358447</td>\n",
       "      <td>0.0</td>\n",
       "      <td>0.0</td>\n",
       "      <td>0.0</td>\n",
       "      <td>0.0</td>\n",
       "      <td>2.148379</td>\n",
       "      <td>1310.909409</td>\n",
       "      <td>0.0</td>\n",
       "    </tr>\n",
       "    <tr>\n",
       "      <th>997</th>\n",
       "      <td>57.389738</td>\n",
       "      <td>0.658319</td>\n",
       "      <td>16.346331</td>\n",
       "      <td>4.824788</td>\n",
       "      <td>0.099248</td>\n",
       "      <td>4.298526</td>\n",
       "      <td>6.924727</td>\n",
       "      <td>4.304254</td>\n",
       "      <td>1.323374</td>\n",
       "      <td>0.008953</td>\n",
       "      <td>0.199573</td>\n",
       "      <td>5.366362</td>\n",
       "      <td>0.0</td>\n",
       "      <td>0.0</td>\n",
       "      <td>0.0</td>\n",
       "      <td>0.0</td>\n",
       "      <td>2.010627</td>\n",
       "      <td>1315.568769</td>\n",
       "      <td>0.0</td>\n",
       "    </tr>\n",
       "    <tr>\n",
       "      <th>998</th>\n",
       "      <td>57.134340</td>\n",
       "      <td>0.582141</td>\n",
       "      <td>17.124346</td>\n",
       "      <td>4.247947</td>\n",
       "      <td>0.109562</td>\n",
       "      <td>4.188731</td>\n",
       "      <td>7.033183</td>\n",
       "      <td>3.374461</td>\n",
       "      <td>1.084307</td>\n",
       "      <td>0.000681</td>\n",
       "      <td>0.237544</td>\n",
       "      <td>5.812433</td>\n",
       "      <td>0.0</td>\n",
       "      <td>0.0</td>\n",
       "      <td>0.0</td>\n",
       "      <td>0.0</td>\n",
       "      <td>1.937093</td>\n",
       "      <td>1313.767524</td>\n",
       "      <td>0.0</td>\n",
       "    </tr>\n",
       "    <tr>\n",
       "      <th>999</th>\n",
       "      <td>57.123896</td>\n",
       "      <td>0.639560</td>\n",
       "      <td>16.318423</td>\n",
       "      <td>4.229415</td>\n",
       "      <td>0.107837</td>\n",
       "      <td>4.180925</td>\n",
       "      <td>7.275863</td>\n",
       "      <td>3.654347</td>\n",
       "      <td>1.385844</td>\n",
       "      <td>0.000000</td>\n",
       "      <td>0.229468</td>\n",
       "      <td>5.732935</td>\n",
       "      <td>0.0</td>\n",
       "      <td>0.0</td>\n",
       "      <td>0.0</td>\n",
       "      <td>0.0</td>\n",
       "      <td>2.172365</td>\n",
       "      <td>1315.878518</td>\n",
       "      <td>0.0</td>\n",
       "    </tr>\n",
       "  </tbody>\n",
       "</table>\n",
       "<p>1000 rows × 19 columns</p>\n",
       "</div>"
      ],
      "text/plain": [
       "      SiO2_Liq  TiO2_Liq  Al2O3_Liq  FeOt_Liq   MnO_Liq   MgO_Liq   CaO_Liq  \\\n",
       "0    56.861976  0.770792  16.362328  4.251976  0.106764  3.275057  6.757851   \n",
       "1    56.775063  0.726594  16.223513  4.424066  0.098830  4.369264  6.700856   \n",
       "2    56.883032  0.684924  15.972656  4.229064  0.106914  4.059318  6.909759   \n",
       "3    56.886750  0.521653  16.803632  4.741375  0.112344  4.001966  6.915054   \n",
       "4    57.090443  0.470567  16.452149  4.149748  0.107534  4.325857  7.062506   \n",
       "..         ...       ...        ...       ...       ...       ...       ...   \n",
       "995  56.915970  0.522569  16.721076  4.278097  0.102541  3.272355  6.872089   \n",
       "996  57.135801  0.552723  16.944250  4.578217  0.102177  4.076418  6.866435   \n",
       "997  57.389738  0.658319  16.346331  4.824788  0.099248  4.298526  6.924727   \n",
       "998  57.134340  0.582141  17.124346  4.247947  0.109562  4.188731  7.033183   \n",
       "999  57.123896  0.639560  16.318423  4.229415  0.107837  4.180925  7.275863   \n",
       "\n",
       "     Na2O_Liq   K2O_Liq  Cr2O3_Liq  P2O5_Liq   H2O_Liq  Fe3FeT_Liq  NiO_Liq  \\\n",
       "0    2.990259  0.645018   0.000000  0.237245  5.676163         0.0      0.0   \n",
       "1    3.320992  0.894939   0.014629  0.220781  6.060341         0.0      0.0   \n",
       "2    3.750125  0.811690   0.012259  0.227143  5.841531         0.0      0.0   \n",
       "3    3.430420  1.073996   0.008031  0.228522  5.087462         0.0      0.0   \n",
       "4    3.770421  0.913438   0.003700  0.225769  5.589410         0.0      0.0   \n",
       "..        ...       ...        ...       ...       ...         ...      ...   \n",
       "995  3.868004  0.940408   0.000000  0.252891  6.066587         0.0      0.0   \n",
       "996  4.187261  1.186002   0.007880  0.224254  5.358447         0.0      0.0   \n",
       "997  4.304254  1.323374   0.008953  0.199573  5.366362         0.0      0.0   \n",
       "998  3.374461  1.084307   0.000681  0.237544  5.812433         0.0      0.0   \n",
       "999  3.654347  1.385844   0.000000  0.229468  5.732935         0.0      0.0   \n",
       "\n",
       "     CoO_Liq  CO2_Liq    P_kbar          T_K  Sample_ID_Liq_Num  \n",
       "0        0.0      0.0  2.185259  1310.670112                0.0  \n",
       "1        0.0      0.0  1.995597  1309.337950                0.0  \n",
       "2        0.0      0.0  2.088957  1311.358022                0.0  \n",
       "3        0.0      0.0  1.807811  1318.644585                0.0  \n",
       "4        0.0      0.0  1.904370  1316.644999                0.0  \n",
       "..       ...      ...       ...          ...                ...  \n",
       "995      0.0      0.0  1.992564  1307.178259                0.0  \n",
       "996      0.0      0.0  2.148379  1310.909409                0.0  \n",
       "997      0.0      0.0  2.010627  1315.568769                0.0  \n",
       "998      0.0      0.0  1.937093  1313.767524                0.0  \n",
       "999      0.0      0.0  2.172365  1315.878518                0.0  \n",
       "\n",
       "[1000 rows x 19 columns]"
      ]
     },
     "execution_count": 7,
     "metadata": {},
     "output_type": "execute_result"
    }
   ],
   "source": [
    "# This is saying get me rows where the sample ID=0\n",
    "Liquids_only_abs_noise.loc[Liquids_only_abs_noise['Sample_ID_Liq_Num']==0]"
   ]
  },
  {
   "cell_type": "markdown",
   "metadata": {},
   "source": [
    "- We can plot some elements up against the user-entered 1 sigma"
   ]
  },
  {
   "cell_type": "code",
   "execution_count": 8,
   "metadata": {},
   "outputs": [
    {
     "name": "stderr",
     "output_type": "stream",
     "text": [
      "C:\\Users\\penny\\anaconda3\\lib\\site-packages\\ipykernel\\ipkernel.py:283: DeprecationWarning: `should_run_async` will not call `transform_cell` automatically in the future. Please pass the result to `transformed_cell` argument and any exception that happen during thetransform in `preprocessing_exc_tuple` in IPython 7.17 and above.\n",
      "  and should_run_async(code)\n"
     ]
    },
    {
     "data": {
      "text/plain": [
       "<matplotlib.legend.Legend at 0x1b13b0424c0>"
      ]
     },
     "execution_count": 8,
     "metadata": {},
     "output_type": "execute_result"
    },
    {
     "data": {
      "image/png": "[encoded data removed]",
      "text/plain": [
       "<Figure size 720x288 with 2 Axes>"
      ]
     },
     "metadata": {
      "needs_background": "light"
     },
     "output_type": "display_data"
    }
   ],
   "source": [
    "fig, ((ax1, ax2)) = plt.subplots(1, 2, figsize=(10, 4))\n",
    "\n",
    "ax1.hist(Liquids_only_abs_noise.loc[Liquids_only_abs_noise['Sample_ID_Liq_Num']==0, 'MgO_Liq'], bins=50, label='Synthetic', density=True)  ;\n",
    "ax1.plot([myLiquids1['MgO_Liq'].iloc[0], myLiquids1['MgO_Liq'].iloc[0]], [0, 1], '-r', label='Ent. Value')\n",
    "ax1.plot([myLiquids1['MgO_Liq'].iloc[0]-myLiquids1_Err['MgO_Liq_Err'].iloc[0], \n",
    "          myLiquids1['MgO_Liq'].iloc[0]-myLiquids1_Err['MgO_Liq_Err'].iloc[0]], \n",
    "         [0, 1], ':r', label='Mean-1sigma entered')\n",
    "ax1.plot([myLiquids1['MgO_Liq'].iloc[0]+myLiquids1_Err['MgO_Liq_Err'].iloc[0], \n",
    "          myLiquids1['MgO_Liq'].iloc[0]+myLiquids1_Err['MgO_Liq_Err'].iloc[0]], \n",
    "         [0, 1], ':r', label='Mean+1sigma entered')\n",
    "ax1.set_xlabel('MgO Liquid')\n",
    "\n",
    "ax2.hist(Liquids_only_abs_noise.loc[Liquids_only_abs_noise['Sample_ID_Liq_Num']==0, 'T_K'], bins=50, label='Synthetic', density=True) ;\n",
    "ax2.plot([myLiquids1['T_K'].iloc[0], myLiquids1['T_K'].iloc[0]], [0, 0.2], '-r', label='Ent. Value')\n",
    "ax2.plot([myLiquids1['T_K'].iloc[0]-myLiquids1_Err['T_K_Err'].iloc[0], \n",
    "          myLiquids1['T_K'].iloc[0]-myLiquids1_Err['T_K_Err'].iloc[0]], \n",
    "         [0, 0.2], ':r', label='Mean-1sigma entered')\n",
    "ax2.plot([myLiquids1['T_K'].iloc[0]+myLiquids1_Err['T_K_Err'].iloc[0], \n",
    "          myLiquids1['T_K'].iloc[0]+myLiquids1_Err['T_K_Err'].iloc[0]], \n",
    "         [0, 0.2], ':r', label='Mean+1sigma entered')\n",
    "ax2.set_xlabel('T (K)')\n",
    "ax2.legend()"
   ]
  },
  {
   "cell_type": "markdown",
   "metadata": {},
   "source": [
    "## Now, input this synthetic dataframe into the functions for calculating temperature\n",
    "- Here, using equation 22 of Putirka (2008), where DMg ol-liq is calculated theoretically using DMg from Beattie (1993) so this can be used as an olivine-only thermometer"
   ]
  },
  {
   "cell_type": "code",
   "execution_count": 9,
   "metadata": {},
   "outputs": [
    {
     "name": "stderr",
     "output_type": "stream",
     "text": [
      "C:\\Users\\penny\\anaconda3\\lib\\site-packages\\ipykernel\\ipkernel.py:283: DeprecationWarning: `should_run_async` will not call `transform_cell` automatically in the future. Please pass the result to `transformed_cell` argument and any exception that happen during thetransform in `preprocessing_exc_tuple` in IPython 7.17 and above.\n",
      "  and should_run_async(code)\n"
     ]
    }
   ],
   "source": [
    "T_noise=pt.calculate_Liq_Temp(Liq_Comps=Liquids_only_abs_noise, equationT=\"T_Put2008_eq22_BeattDMg\", P=Liquids_only_abs_noise['P_kbar'])\n"
   ]
  },
  {
   "cell_type": "markdown",
   "metadata": {},
   "source": [
    "### In this plot we show the histogram for the temperature from each liquid for liquid 1, 2, 3, and 4 (for all 1000 liquids generated from it)\n",
    "- All synthetic liquids generated from a single input liquid have the same value of 'Sample_ID_Liq_Num'"
   ]
  },
  {
   "cell_type": "code",
   "execution_count": 10,
   "metadata": {},
   "outputs": [
    {
     "data": {
      "text/plain": [
       "Text(0, 0.5, 'Probability Density')"
      ]
     },
     "execution_count": 10,
     "metadata": {},
     "output_type": "execute_result"
    },
    {
     "data": {
      "image/png": "[encoded data removed]",
      "text/plain": [
       "<Figure size 1080x720 with 4 Axes>"
      ]
     },
     "metadata": {
      "needs_background": "light"
     },
     "output_type": "display_data"
    }
   ],
   "source": [
    "fig, ((ax1, ax2), (ax3, ax4)) = plt.subplots(2, 2, figsize=(15, 10))\n",
    "ax1.annotate(\"Liquid 1)\", xy=(0.02, 0.9), xycoords=\"axes fraction\", fontsize=14)\n",
    "ax1.hist(T_noise.loc[Liquids_only_abs_noise['Sample_ID_Liq_Num']==0], bins=50, density=True);\n",
    "ax2.annotate(\"Liquid 2)\", xy=(0.02, 0.9), xycoords=\"axes fraction\", fontsize=14)\n",
    "ax2.hist(T_noise.loc[Liquids_only_abs_noise['Sample_ID_Liq_Num']==1], bins=50, density=True);\n",
    "ax3.annotate(\"Liquid 3)\", xy=(0.02, 0.9), xycoords=\"axes fraction\", fontsize=14)\n",
    "ax3.hist(T_noise.loc[Liquids_only_abs_noise['Sample_ID_Liq_Num']==2], bins=50, density=True);\n",
    "ax4.annotate(\"Liquid 4)\", xy=(0.02, 0.9), xycoords=\"axes fraction\", fontsize=14)\n",
    "ax4.hist(T_noise.loc[Liquids_only_abs_noise['Sample_ID_Liq_Num']==3], bins=50, density=True);\n",
    "ax4.set_xlabel('T (K)')\n",
    "ax3.set_xlabel('T (K)')\n",
    "ax1.set_ylabel('Probability Density')\n",
    "ax3.set_ylabel('Probability Density')"
   ]
  },
  {
   "cell_type": "markdown",
   "metadata": {},
   "source": [
    "### We can also use a function to get the mean, median and standard deviation for each liquid\n",
    "- The two arguements for this function are 1) The panda series you want to average (in this case, temperature)\n",
    "- The panda series of values you want to average by, e.g., here averaging all samples with the same sample ID."
   ]
  },
  {
   "cell_type": "code",
   "execution_count": 11,
   "metadata": {},
   "outputs": [
    {
     "name": "stderr",
     "output_type": "stream",
     "text": [
      "C:\\Users\\penny\\anaconda3\\lib\\site-packages\\ipykernel\\ipkernel.py:283: DeprecationWarning: `should_run_async` will not call `transform_cell` automatically in the future. Please pass the result to `transformed_cell` argument and any exception that happen during thetransform in `preprocessing_exc_tuple` in IPython 7.17 and above.\n",
      "  and should_run_async(code)\n"
     ]
    },
    {
     "data": {
      "text/html": [
       "<div>\n",
       "<style scoped>\n",
       "    .dataframe tbody tr th:only-of-type {\n",
       "        vertical-align: middle;\n",
       "    }\n",
       "\n",
       "    .dataframe tbody tr th {\n",
       "        vertical-align: top;\n",
       "    }\n",
       "\n",
       "    .dataframe thead th {\n",
       "        text-align: right;\n",
       "    }\n",
       "</style>\n",
       "<table border=\"1\" class=\"dataframe\">\n",
       "  <thead>\n",
       "    <tr style=\"text-align: right;\">\n",
       "      <th></th>\n",
       "      <th>Sample</th>\n",
       "      <th>Mean_calc</th>\n",
       "      <th>Median_calc</th>\n",
       "      <th>St_dev_calc</th>\n",
       "      <th>Max_calc</th>\n",
       "      <th>Min_calc</th>\n",
       "    </tr>\n",
       "  </thead>\n",
       "  <tbody>\n",
       "    <tr>\n",
       "      <th>0</th>\n",
       "      <td>0.0</td>\n",
       "      <td>1294.642289</td>\n",
       "      <td>1295.454483</td>\n",
       "      <td>13.291218</td>\n",
       "      <td>1329.720349</td>\n",
       "      <td>1248.731337</td>\n",
       "    </tr>\n",
       "    <tr>\n",
       "      <th>1</th>\n",
       "      <td>1.0</td>\n",
       "      <td>1242.106244</td>\n",
       "      <td>1242.423634</td>\n",
       "      <td>17.089667</td>\n",
       "      <td>1303.080195</td>\n",
       "      <td>1177.795372</td>\n",
       "    </tr>\n",
       "    <tr>\n",
       "      <th>2</th>\n",
       "      <td>2.0</td>\n",
       "      <td>1281.652723</td>\n",
       "      <td>1281.506062</td>\n",
       "      <td>5.532646</td>\n",
       "      <td>1298.501706</td>\n",
       "      <td>1266.180823</td>\n",
       "    </tr>\n",
       "    <tr>\n",
       "      <th>3</th>\n",
       "      <td>3.0</td>\n",
       "      <td>1203.028357</td>\n",
       "      <td>1205.275301</td>\n",
       "      <td>23.268636</td>\n",
       "      <td>1259.920649</td>\n",
       "      <td>1060.826016</td>\n",
       "    </tr>\n",
       "    <tr>\n",
       "      <th>4</th>\n",
       "      <td>4.0</td>\n",
       "      <td>1267.863578</td>\n",
       "      <td>1268.056219</td>\n",
       "      <td>6.794214</td>\n",
       "      <td>1290.632959</td>\n",
       "      <td>1243.556138</td>\n",
       "    </tr>\n",
       "    <tr>\n",
       "      <th>5</th>\n",
       "      <td>5.0</td>\n",
       "      <td>1253.911205</td>\n",
       "      <td>1253.797454</td>\n",
       "      <td>3.195221</td>\n",
       "      <td>1263.598105</td>\n",
       "      <td>1244.918166</td>\n",
       "    </tr>\n",
       "    <tr>\n",
       "      <th>6</th>\n",
       "      <td>6.0</td>\n",
       "      <td>1243.916522</td>\n",
       "      <td>1244.003139</td>\n",
       "      <td>5.650171</td>\n",
       "      <td>1260.220251</td>\n",
       "      <td>1226.241017</td>\n",
       "    </tr>\n",
       "    <tr>\n",
       "      <th>7</th>\n",
       "      <td>7.0</td>\n",
       "      <td>1212.088433</td>\n",
       "      <td>1212.146515</td>\n",
       "      <td>4.108791</td>\n",
       "      <td>1225.496700</td>\n",
       "      <td>1198.132356</td>\n",
       "    </tr>\n",
       "    <tr>\n",
       "      <th>8</th>\n",
       "      <td>8.0</td>\n",
       "      <td>1181.518090</td>\n",
       "      <td>1181.647078</td>\n",
       "      <td>6.831954</td>\n",
       "      <td>1199.922036</td>\n",
       "      <td>1158.383079</td>\n",
       "    </tr>\n",
       "    <tr>\n",
       "      <th>9</th>\n",
       "      <td>9.0</td>\n",
       "      <td>1318.671889</td>\n",
       "      <td>1318.514555</td>\n",
       "      <td>8.971996</td>\n",
       "      <td>1343.401257</td>\n",
       "      <td>1288.057287</td>\n",
       "    </tr>\n",
       "  </tbody>\n",
       "</table>\n",
       "</div>"
      ],
      "text/plain": [
       "   Sample    Mean_calc  Median_calc  St_dev_calc     Max_calc     Min_calc\n",
       "0     0.0  1294.642289  1295.454483    13.291218  1329.720349  1248.731337\n",
       "1     1.0  1242.106244  1242.423634    17.089667  1303.080195  1177.795372\n",
       "2     2.0  1281.652723  1281.506062     5.532646  1298.501706  1266.180823\n",
       "3     3.0  1203.028357  1205.275301    23.268636  1259.920649  1060.826016\n",
       "4     4.0  1267.863578  1268.056219     6.794214  1290.632959  1243.556138\n",
       "5     5.0  1253.911205  1253.797454     3.195221  1263.598105  1244.918166\n",
       "6     6.0  1243.916522  1244.003139     5.650171  1260.220251  1226.241017\n",
       "7     7.0  1212.088433  1212.146515     4.108791  1225.496700  1198.132356\n",
       "8     8.0  1181.518090  1181.647078     6.831954  1199.922036  1158.383079\n",
       "9     9.0  1318.671889  1318.514555     8.971996  1343.401257  1288.057287"
      ]
     },
     "execution_count": 11,
     "metadata": {},
     "output_type": "execute_result"
    }
   ],
   "source": [
    "Stats_T_K=pt.Av_Noise_Samples_series(T_noise, Liquids_only_abs_noise['Sample_ID_Liq_Num'])\n",
    "Stats_T_K"
   ]
  },
  {
   "cell_type": "markdown",
   "metadata": {},
   "source": [
    "# Example 2 - Percentage Errors\n",
    "- Here, in the input spreadsheet we have specified a percentage error for each input (e.g., you could estimate this from EPMA analyses of secondary standards)"
   ]
  },
  {
   "cell_type": "code",
   "execution_count": 12,
   "metadata": {},
   "outputs": [
    {
     "name": "stderr",
     "output_type": "stream",
     "text": [
      "C:\\Users\\penny\\anaconda3\\lib\\site-packages\\ipykernel\\ipkernel.py:283: DeprecationWarning: `should_run_async` will not call `transform_cell` automatically in the future. Please pass the result to `transformed_cell` argument and any exception that happen during thetransform in `preprocessing_exc_tuple` in IPython 7.17 and above.\n",
      "  and should_run_async(code)\n"
     ]
    }
   ],
   "source": [
    "out2=pt.import_Excel('Liquid_Errors.xlsx', sheet_name=\"Error_Example_Perc\")\n",
    "my_input2=out2['my_input']\n",
    "myOls2=out2['Ols']\n",
    "myLiquids2=out2['Liqs']"
   ]
  },
  {
   "cell_type": "code",
   "execution_count": 13,
   "metadata": {},
   "outputs": [
    {
     "name": "stderr",
     "output_type": "stream",
     "text": [
      "C:\\Users\\penny\\anaconda3\\lib\\site-packages\\ipykernel\\ipkernel.py:283: DeprecationWarning: `should_run_async` will not call `transform_cell` automatically in the future. Please pass the result to `transformed_cell` argument and any exception that happen during thetransform in `preprocessing_exc_tuple` in IPython 7.17 and above.\n",
      "  and should_run_async(code)\n"
     ]
    }
   ],
   "source": [
    "out_Err2=pt.import_Excel_Errors('Liquid_Errors.xlsx', sheet_name=\"Error_Example_Perc\")\n",
    "myLiquids2_Err=out_Err2['Liqs_Err']\n",
    "myinput2_Out=out_Err2['my_input_Err']"
   ]
  },
  {
   "cell_type": "code",
   "execution_count": 14,
   "metadata": {},
   "outputs": [
    {
     "data": {
      "text/html": [
       "<div>\n",
       "<style scoped>\n",
       "    .dataframe tbody tr th:only-of-type {\n",
       "        vertical-align: middle;\n",
       "    }\n",
       "\n",
       "    .dataframe tbody tr th {\n",
       "        vertical-align: top;\n",
       "    }\n",
       "\n",
       "    .dataframe thead th {\n",
       "        text-align: right;\n",
       "    }\n",
       "</style>\n",
       "<table border=\"1\" class=\"dataframe\">\n",
       "  <thead>\n",
       "    <tr style=\"text-align: right;\">\n",
       "      <th></th>\n",
       "      <th>SiO2_Liq_Err</th>\n",
       "      <th>TiO2_Liq_Err</th>\n",
       "      <th>Al2O3_Liq_Err</th>\n",
       "      <th>FeOt_Liq_Err</th>\n",
       "      <th>MnO_Liq_Err</th>\n",
       "      <th>MgO_Liq_Err</th>\n",
       "      <th>CaO_Liq_Err</th>\n",
       "      <th>Na2O_Liq_Err</th>\n",
       "      <th>K2O_Liq_Err</th>\n",
       "      <th>Cr2O3_Liq_Err</th>\n",
       "      <th>P2O5_Liq_Err</th>\n",
       "      <th>H2O_Liq_Err</th>\n",
       "      <th>Fe3FeT_Liq_Err</th>\n",
       "      <th>NiO_Liq_Err</th>\n",
       "      <th>CoO_Liq_Err</th>\n",
       "      <th>CO2_Liq_Err</th>\n",
       "      <th>Sample_ID_Liq_Err</th>\n",
       "      <th>P_kbar_Err</th>\n",
       "      <th>T_K_Err</th>\n",
       "    </tr>\n",
       "  </thead>\n",
       "  <tbody>\n",
       "    <tr>\n",
       "      <th>0</th>\n",
       "      <td>1</td>\n",
       "      <td>3</td>\n",
       "      <td>5</td>\n",
       "      <td>4</td>\n",
       "      <td>10</td>\n",
       "      <td>2</td>\n",
       "      <td>3</td>\n",
       "      <td>10</td>\n",
       "      <td>10</td>\n",
       "      <td>20</td>\n",
       "      <td>5</td>\n",
       "      <td>10</td>\n",
       "      <td>0.0</td>\n",
       "      <td>0.0</td>\n",
       "      <td>0.0</td>\n",
       "      <td>0.0</td>\n",
       "      <td>0</td>\n",
       "      <td>1</td>\n",
       "      <td>1</td>\n",
       "    </tr>\n",
       "    <tr>\n",
       "      <th>1</th>\n",
       "      <td>1</td>\n",
       "      <td>3</td>\n",
       "      <td>5</td>\n",
       "      <td>4</td>\n",
       "      <td>10</td>\n",
       "      <td>2</td>\n",
       "      <td>3</td>\n",
       "      <td>10</td>\n",
       "      <td>10</td>\n",
       "      <td>20</td>\n",
       "      <td>5</td>\n",
       "      <td>10</td>\n",
       "      <td>0.0</td>\n",
       "      <td>0.0</td>\n",
       "      <td>0.0</td>\n",
       "      <td>0.0</td>\n",
       "      <td>1</td>\n",
       "      <td>1</td>\n",
       "      <td>1</td>\n",
       "    </tr>\n",
       "    <tr>\n",
       "      <th>2</th>\n",
       "      <td>1</td>\n",
       "      <td>3</td>\n",
       "      <td>5</td>\n",
       "      <td>4</td>\n",
       "      <td>10</td>\n",
       "      <td>2</td>\n",
       "      <td>3</td>\n",
       "      <td>10</td>\n",
       "      <td>10</td>\n",
       "      <td>20</td>\n",
       "      <td>5</td>\n",
       "      <td>10</td>\n",
       "      <td>0.0</td>\n",
       "      <td>0.0</td>\n",
       "      <td>0.0</td>\n",
       "      <td>0.0</td>\n",
       "      <td>2</td>\n",
       "      <td>1</td>\n",
       "      <td>1</td>\n",
       "    </tr>\n",
       "    <tr>\n",
       "      <th>3</th>\n",
       "      <td>1</td>\n",
       "      <td>3</td>\n",
       "      <td>5</td>\n",
       "      <td>4</td>\n",
       "      <td>10</td>\n",
       "      <td>2</td>\n",
       "      <td>3</td>\n",
       "      <td>10</td>\n",
       "      <td>10</td>\n",
       "      <td>20</td>\n",
       "      <td>5</td>\n",
       "      <td>10</td>\n",
       "      <td>0.0</td>\n",
       "      <td>0.0</td>\n",
       "      <td>0.0</td>\n",
       "      <td>0.0</td>\n",
       "      <td>3</td>\n",
       "      <td>1</td>\n",
       "      <td>1</td>\n",
       "    </tr>\n",
       "    <tr>\n",
       "      <th>4</th>\n",
       "      <td>1</td>\n",
       "      <td>3</td>\n",
       "      <td>5</td>\n",
       "      <td>4</td>\n",
       "      <td>10</td>\n",
       "      <td>2</td>\n",
       "      <td>3</td>\n",
       "      <td>10</td>\n",
       "      <td>10</td>\n",
       "      <td>20</td>\n",
       "      <td>5</td>\n",
       "      <td>10</td>\n",
       "      <td>0.0</td>\n",
       "      <td>0.0</td>\n",
       "      <td>0.0</td>\n",
       "      <td>0.0</td>\n",
       "      <td>4</td>\n",
       "      <td>1</td>\n",
       "      <td>1</td>\n",
       "    </tr>\n",
       "  </tbody>\n",
       "</table>\n",
       "</div>"
      ],
      "text/plain": [
       "   SiO2_Liq_Err  TiO2_Liq_Err  Al2O3_Liq_Err  FeOt_Liq_Err  MnO_Liq_Err  \\\n",
       "0             1             3              5             4           10   \n",
       "1             1             3              5             4           10   \n",
       "2             1             3              5             4           10   \n",
       "3             1             3              5             4           10   \n",
       "4             1             3              5             4           10   \n",
       "\n",
       "   MgO_Liq_Err  CaO_Liq_Err  Na2O_Liq_Err  K2O_Liq_Err  Cr2O3_Liq_Err  \\\n",
       "0            2            3            10           10             20   \n",
       "1            2            3            10           10             20   \n",
       "2            2            3            10           10             20   \n",
       "3            2            3            10           10             20   \n",
       "4            2            3            10           10             20   \n",
       "\n",
       "   P2O5_Liq_Err  H2O_Liq_Err  Fe3FeT_Liq_Err  NiO_Liq_Err  CoO_Liq_Err  \\\n",
       "0             5           10             0.0          0.0          0.0   \n",
       "1             5           10             0.0          0.0          0.0   \n",
       "2             5           10             0.0          0.0          0.0   \n",
       "3             5           10             0.0          0.0          0.0   \n",
       "4             5           10             0.0          0.0          0.0   \n",
       "\n",
       "   CO2_Liq_Err  Sample_ID_Liq_Err  P_kbar_Err  T_K_Err  \n",
       "0          0.0                  0           1        1  \n",
       "1          0.0                  1           1        1  \n",
       "2          0.0                  2           1        1  \n",
       "3          0.0                  3           1        1  \n",
       "4          0.0                  4           1        1  "
      ]
     },
     "metadata": {},
     "output_type": "display_data"
    }
   ],
   "source": [
    "display(myLiquids2_Err.head())"
   ]
  },
  {
   "cell_type": "markdown",
   "metadata": {},
   "source": [
    "### This function add errors based on the dataframe Liquid2_Err which are percentage errors. \n",
    "- makes 1000 liquids per user-entered row, and assume errors are normally distributed\n",
    "- Here, say Positive=False, which means it keeps negative numbers"
   ]
  },
  {
   "cell_type": "code",
   "execution_count": 15,
   "metadata": {},
   "outputs": [
    {
     "name": "stderr",
     "output_type": "stream",
     "text": [
      "C:\\Users\\penny\\anaconda3\\lib\\site-packages\\ipykernel\\ipkernel.py:283: DeprecationWarning: `should_run_async` will not call `transform_cell` automatically in the future. Please pass the result to `transformed_cell` argument and any exception that happen during thetransform in `preprocessing_exc_tuple` in IPython 7.17 and above.\n",
      "  and should_run_async(code)\n"
     ]
    }
   ],
   "source": [
    "Liquids_only_noise2=pt.Add_Sample_Noise_1Phase(Phase_Comp=myLiquids2, Phase_Err=myLiquids2_Err,\n",
    "                                             Phase_Err_type=\"Perc\", duplicates=1000, Err_dist=\"normal\", Positive=False)\n"
   ]
  },
  {
   "cell_type": "code",
   "execution_count": 16,
   "metadata": {},
   "outputs": [
    {
     "data": {
      "text/plain": [
       "0.9941480694729519"
      ]
     },
     "execution_count": 16,
     "metadata": {},
     "output_type": "execute_result"
    }
   ],
   "source": [
    "# Validation that its calculating percentage errors right, as told it to add 1% error for SiO2. This will vary a bit as you run it, as its random\n",
    "Mean=np.mean(Liquids_only_noise2.loc[Liquids_only_noise2['Sample_ID_Liq_Num']==0, 'SiO2_Liq'])\n",
    "std_Dev=np.nanstd(Liquids_only_noise2.loc[Liquids_only_noise2['Sample_ID_Liq_Num']==0, 'SiO2_Liq'])\n",
    "100*std_Dev/Mean"
   ]
  },
  {
   "cell_type": "markdown",
   "metadata": {},
   "source": [
    "## Calculating temperatures for all these synthetic liquids using equation 16 of Putirka (2008)"
   ]
  },
  {
   "cell_type": "code",
   "execution_count": 17,
   "metadata": {},
   "outputs": [
    {
     "name": "stderr",
     "output_type": "stream",
     "text": [
      "C:\\Users\\penny\\anaconda3\\lib\\site-packages\\ipykernel\\ipkernel.py:283: DeprecationWarning: `should_run_async` will not call `transform_cell` automatically in the future. Please pass the result to `transformed_cell` argument and any exception that happen during thetransform in `preprocessing_exc_tuple` in IPython 7.17 and above.\n",
      "  and should_run_async(code)\n"
     ]
    }
   ],
   "source": [
    "T_noise2=pt.calculate_Liq_Temp(Liq_Comps=Liquids_only_noise2, equationT=\"T_Put2008_eq16\", P=Liquids_only_noise2['P_kbar'])"
   ]
  },
  {
   "cell_type": "markdown",
   "metadata": {},
   "source": [
    "## Calculating standard deviations, means, and medians etc"
   ]
  },
  {
   "cell_type": "code",
   "execution_count": 18,
   "metadata": {},
   "outputs": [
    {
     "data": {
      "text/html": [
       "<div>\n",
       "<style scoped>\n",
       "    .dataframe tbody tr th:only-of-type {\n",
       "        vertical-align: middle;\n",
       "    }\n",
       "\n",
       "    .dataframe tbody tr th {\n",
       "        vertical-align: top;\n",
       "    }\n",
       "\n",
       "    .dataframe thead th {\n",
       "        text-align: right;\n",
       "    }\n",
       "</style>\n",
       "<table border=\"1\" class=\"dataframe\">\n",
       "  <thead>\n",
       "    <tr style=\"text-align: right;\">\n",
       "      <th></th>\n",
       "      <th>Sample</th>\n",
       "      <th>Mean_calc</th>\n",
       "      <th>Median_calc</th>\n",
       "      <th>St_dev_calc</th>\n",
       "      <th>Max_calc</th>\n",
       "      <th>Min_calc</th>\n",
       "    </tr>\n",
       "  </thead>\n",
       "  <tbody>\n",
       "    <tr>\n",
       "      <th>0</th>\n",
       "      <td>0.0</td>\n",
       "      <td>1338.170897</td>\n",
       "      <td>1337.323816</td>\n",
       "      <td>22.578419</td>\n",
       "      <td>1416.873645</td>\n",
       "      <td>1251.660825</td>\n",
       "    </tr>\n",
       "    <tr>\n",
       "      <th>1</th>\n",
       "      <td>1.0</td>\n",
       "      <td>1260.042329</td>\n",
       "      <td>1259.688680</td>\n",
       "      <td>25.818299</td>\n",
       "      <td>1356.883803</td>\n",
       "      <td>1185.777011</td>\n",
       "    </tr>\n",
       "    <tr>\n",
       "      <th>2</th>\n",
       "      <td>2.0</td>\n",
       "      <td>1265.390593</td>\n",
       "      <td>1264.320540</td>\n",
       "      <td>26.127171</td>\n",
       "      <td>1348.411585</td>\n",
       "      <td>1188.182985</td>\n",
       "    </tr>\n",
       "    <tr>\n",
       "      <th>3</th>\n",
       "      <td>3.0</td>\n",
       "      <td>1241.383484</td>\n",
       "      <td>1240.481429</td>\n",
       "      <td>32.179980</td>\n",
       "      <td>1387.498182</td>\n",
       "      <td>1155.711766</td>\n",
       "    </tr>\n",
       "    <tr>\n",
       "      <th>4</th>\n",
       "      <td>4.0</td>\n",
       "      <td>1304.413356</td>\n",
       "      <td>1304.189077</td>\n",
       "      <td>16.556164</td>\n",
       "      <td>1366.551801</td>\n",
       "      <td>1260.062116</td>\n",
       "    </tr>\n",
       "    <tr>\n",
       "      <th>5</th>\n",
       "      <td>5.0</td>\n",
       "      <td>1287.644772</td>\n",
       "      <td>1287.569400</td>\n",
       "      <td>19.601320</td>\n",
       "      <td>1346.096240</td>\n",
       "      <td>1234.175141</td>\n",
       "    </tr>\n",
       "    <tr>\n",
       "      <th>6</th>\n",
       "      <td>6.0</td>\n",
       "      <td>1269.090641</td>\n",
       "      <td>1268.582513</td>\n",
       "      <td>21.964876</td>\n",
       "      <td>1358.509956</td>\n",
       "      <td>1207.638540</td>\n",
       "    </tr>\n",
       "    <tr>\n",
       "      <th>7</th>\n",
       "      <td>7.0</td>\n",
       "      <td>1400.369234</td>\n",
       "      <td>1399.443142</td>\n",
       "      <td>18.320543</td>\n",
       "      <td>1461.244457</td>\n",
       "      <td>1346.859368</td>\n",
       "    </tr>\n",
       "    <tr>\n",
       "      <th>8</th>\n",
       "      <td>8.0</td>\n",
       "      <td>1304.023456</td>\n",
       "      <td>1303.763143</td>\n",
       "      <td>20.552221</td>\n",
       "      <td>1382.059411</td>\n",
       "      <td>1241.968343</td>\n",
       "    </tr>\n",
       "    <tr>\n",
       "      <th>9</th>\n",
       "      <td>9.0</td>\n",
       "      <td>1358.156703</td>\n",
       "      <td>1357.850083</td>\n",
       "      <td>11.548936</td>\n",
       "      <td>1397.676007</td>\n",
       "      <td>1323.363483</td>\n",
       "    </tr>\n",
       "  </tbody>\n",
       "</table>\n",
       "</div>"
      ],
      "text/plain": [
       "   Sample    Mean_calc  Median_calc  St_dev_calc     Max_calc     Min_calc\n",
       "0     0.0  1338.170897  1337.323816    22.578419  1416.873645  1251.660825\n",
       "1     1.0  1260.042329  1259.688680    25.818299  1356.883803  1185.777011\n",
       "2     2.0  1265.390593  1264.320540    26.127171  1348.411585  1188.182985\n",
       "3     3.0  1241.383484  1240.481429    32.179980  1387.498182  1155.711766\n",
       "4     4.0  1304.413356  1304.189077    16.556164  1366.551801  1260.062116\n",
       "5     5.0  1287.644772  1287.569400    19.601320  1346.096240  1234.175141\n",
       "6     6.0  1269.090641  1268.582513    21.964876  1358.509956  1207.638540\n",
       "7     7.0  1400.369234  1399.443142    18.320543  1461.244457  1346.859368\n",
       "8     8.0  1304.023456  1303.763143    20.552221  1382.059411  1241.968343\n",
       "9     9.0  1358.156703  1357.850083    11.548936  1397.676007  1323.363483"
      ]
     },
     "execution_count": 18,
     "metadata": {},
     "output_type": "execute_result"
    }
   ],
   "source": [
    "Stats_T_K2=pt.Av_Noise_Samples_series(T_noise2, Liquids_only_noise2['Sample_ID_Liq_Num'])\n",
    "Stats_T_K2"
   ]
  },
  {
   "cell_type": "markdown",
   "metadata": {},
   "source": [
    "# Example 3: Fixed Percentage Error\n",
    "- Here, instead of inputted columns with \"_Err\" for each oxide, we just add a fixed percentage error to all oxides (still normally distributed) - here, 1% noise"
   ]
  },
  {
   "cell_type": "code",
   "execution_count": 19,
   "metadata": {},
   "outputs": [
    {
     "name": "stderr",
     "output_type": "stream",
     "text": [
      "C:\\Users\\penny\\anaconda3\\lib\\site-packages\\ipykernel\\ipkernel.py:283: DeprecationWarning: `should_run_async` will not call `transform_cell` automatically in the future. Please pass the result to `transformed_cell` argument and any exception that happen during thetransform in `preprocessing_exc_tuple` in IPython 7.17 and above.\n",
      "  and should_run_async(code)\n"
     ]
    }
   ],
   "source": [
    "out3=pt.import_Excel('Liquid_Errors.xlsx', sheet_name=\"Error_Example_Perc\")\n",
    "my_input3=out3['my_input']\n",
    "myOls23=out3['Ols']\n",
    "myLiquids3=out3['Liqs']"
   ]
  },
  {
   "cell_type": "code",
   "execution_count": 20,
   "metadata": {},
   "outputs": [
    {
     "name": "stderr",
     "output_type": "stream",
     "text": [
      "C:\\Users\\penny\\anaconda3\\lib\\site-packages\\ipykernel\\ipkernel.py:283: DeprecationWarning: `should_run_async` will not call `transform_cell` automatically in the future. Please pass the result to `transformed_cell` argument and any exception that happen during thetransform in `preprocessing_exc_tuple` in IPython 7.17 and above.\n",
      "  and should_run_async(code)\n"
     ]
    }
   ],
   "source": [
    "Liquids_only_noise3=pt.Add_Sample_Noise_1Phase(Phase_Comp=myLiquids3, duplicates=1000,\n",
    "                           noise_percent=1, Err_dist=\"normal\")"
   ]
  },
  {
   "cell_type": "code",
   "execution_count": 21,
   "metadata": {},
   "outputs": [],
   "source": [
    "T_noise3=pt.calculate_Liq_Temp(Liq_Comps=Liquids_only_noise3, equationT=\"T_Put2008_eq16\", P=Liquids_only_noise3['P_kbar'])"
   ]
  },
  {
   "cell_type": "code",
   "execution_count": 22,
   "metadata": {},
   "outputs": [
    {
     "data": {
      "text/html": [
       "<div>\n",
       "<style scoped>\n",
       "    .dataframe tbody tr th:only-of-type {\n",
       "        vertical-align: middle;\n",
       "    }\n",
       "\n",
       "    .dataframe tbody tr th {\n",
       "        vertical-align: top;\n",
       "    }\n",
       "\n",
       "    .dataframe thead th {\n",
       "        text-align: right;\n",
       "    }\n",
       "</style>\n",
       "<table border=\"1\" class=\"dataframe\">\n",
       "  <thead>\n",
       "    <tr style=\"text-align: right;\">\n",
       "      <th></th>\n",
       "      <th>Sample</th>\n",
       "      <th>Mean_calc</th>\n",
       "      <th>Median_calc</th>\n",
       "      <th>St_dev_calc</th>\n",
       "      <th>Max_calc</th>\n",
       "      <th>Min_calc</th>\n",
       "    </tr>\n",
       "  </thead>\n",
       "  <tbody>\n",
       "    <tr>\n",
       "      <th>0</th>\n",
       "      <td>0.0</td>\n",
       "      <td>1337.958195</td>\n",
       "      <td>1337.936682</td>\n",
       "      <td>4.794191</td>\n",
       "      <td>1353.686833</td>\n",
       "      <td>1321.957112</td>\n",
       "    </tr>\n",
       "    <tr>\n",
       "      <th>1</th>\n",
       "      <td>1.0</td>\n",
       "      <td>1260.260369</td>\n",
       "      <td>1260.056903</td>\n",
       "      <td>5.847433</td>\n",
       "      <td>1279.118648</td>\n",
       "      <td>1241.413734</td>\n",
       "    </tr>\n",
       "    <tr>\n",
       "      <th>2</th>\n",
       "      <td>2.0</td>\n",
       "      <td>1266.153372</td>\n",
       "      <td>1266.250246</td>\n",
       "      <td>6.172098</td>\n",
       "      <td>1287.085710</td>\n",
       "      <td>1247.625905</td>\n",
       "    </tr>\n",
       "    <tr>\n",
       "      <th>3</th>\n",
       "      <td>3.0</td>\n",
       "      <td>1239.117289</td>\n",
       "      <td>1238.955998</td>\n",
       "      <td>7.540040</td>\n",
       "      <td>1260.761330</td>\n",
       "      <td>1215.563793</td>\n",
       "    </tr>\n",
       "    <tr>\n",
       "      <th>4</th>\n",
       "      <td>4.0</td>\n",
       "      <td>1303.928435</td>\n",
       "      <td>1303.849203</td>\n",
       "      <td>3.569201</td>\n",
       "      <td>1314.458044</td>\n",
       "      <td>1291.311312</td>\n",
       "    </tr>\n",
       "    <tr>\n",
       "      <th>5</th>\n",
       "      <td>5.0</td>\n",
       "      <td>1287.234783</td>\n",
       "      <td>1287.020692</td>\n",
       "      <td>4.105545</td>\n",
       "      <td>1301.074596</td>\n",
       "      <td>1273.750660</td>\n",
       "    </tr>\n",
       "    <tr>\n",
       "      <th>6</th>\n",
       "      <td>6.0</td>\n",
       "      <td>1268.513995</td>\n",
       "      <td>1268.410058</td>\n",
       "      <td>4.695964</td>\n",
       "      <td>1282.596770</td>\n",
       "      <td>1253.288691</td>\n",
       "    </tr>\n",
       "    <tr>\n",
       "      <th>7</th>\n",
       "      <td>7.0</td>\n",
       "      <td>1399.415477</td>\n",
       "      <td>1399.216391</td>\n",
       "      <td>4.101261</td>\n",
       "      <td>1413.122918</td>\n",
       "      <td>1386.513661</td>\n",
       "    </tr>\n",
       "    <tr>\n",
       "      <th>8</th>\n",
       "      <td>8.0</td>\n",
       "      <td>1302.733654</td>\n",
       "      <td>1302.730417</td>\n",
       "      <td>4.684943</td>\n",
       "      <td>1315.626657</td>\n",
       "      <td>1286.160177</td>\n",
       "    </tr>\n",
       "    <tr>\n",
       "      <th>9</th>\n",
       "      <td>9.0</td>\n",
       "      <td>1357.834151</td>\n",
       "      <td>1357.807389</td>\n",
       "      <td>2.734504</td>\n",
       "      <td>1366.499009</td>\n",
       "      <td>1347.681615</td>\n",
       "    </tr>\n",
       "  </tbody>\n",
       "</table>\n",
       "</div>"
      ],
      "text/plain": [
       "   Sample    Mean_calc  Median_calc  St_dev_calc     Max_calc     Min_calc\n",
       "0     0.0  1337.958195  1337.936682     4.794191  1353.686833  1321.957112\n",
       "1     1.0  1260.260369  1260.056903     5.847433  1279.118648  1241.413734\n",
       "2     2.0  1266.153372  1266.250246     6.172098  1287.085710  1247.625905\n",
       "3     3.0  1239.117289  1238.955998     7.540040  1260.761330  1215.563793\n",
       "4     4.0  1303.928435  1303.849203     3.569201  1314.458044  1291.311312\n",
       "5     5.0  1287.234783  1287.020692     4.105545  1301.074596  1273.750660\n",
       "6     6.0  1268.513995  1268.410058     4.695964  1282.596770  1253.288691\n",
       "7     7.0  1399.415477  1399.216391     4.101261  1413.122918  1386.513661\n",
       "8     8.0  1302.733654  1302.730417     4.684943  1315.626657  1286.160177\n",
       "9     9.0  1357.834151  1357.807389     2.734504  1366.499009  1347.681615"
      ]
     },
     "execution_count": 22,
     "metadata": {},
     "output_type": "execute_result"
    }
   ],
   "source": [
    "Stats_T_K3=pt.Av_Noise_Samples_series(T_noise3, Liquids_only_noise3['Sample_ID_Liq_Num'])\n",
    "Stats_T_K3"
   ]
  },
  {
   "cell_type": "markdown",
   "metadata": {},
   "source": [
    "# Example 4: Perc uncertainty in a single input parameter\n",
    "- Here, want to add 5% error to MgO in the liquid. You don't have to specify _Liq, it adds this based on what you entered. "
   ]
  },
  {
   "cell_type": "code",
   "execution_count": 23,
   "metadata": {},
   "outputs": [
    {
     "name": "stderr",
     "output_type": "stream",
     "text": [
      "C:\\Users\\penny\\anaconda3\\lib\\site-packages\\ipykernel\\ipkernel.py:283: DeprecationWarning: `should_run_async` will not call `transform_cell` automatically in the future. Please pass the result to `transformed_cell` argument and any exception that happen during thetransform in `preprocessing_exc_tuple` in IPython 7.17 and above.\n",
      "  and should_run_async(code)\n"
     ]
    }
   ],
   "source": [
    "Liquids_only_noise4=pt.Add_Sample_Noise_1Phase(Phase_Comp=myLiquids1, Variable=\"MgO\", Variable_Err=5, \n",
    "                                              Variable_Err_type=\"Perc\", duplicates=1000, Err_dist=\"normal\")\n"
   ]
  },
  {
   "cell_type": "code",
   "execution_count": 24,
   "metadata": {},
   "outputs": [],
   "source": [
    "T_noise4=pt.calculate_Liq_Temp(Liq_Comps=Liquids_only_noise4, equationT=\"T_Put2008_eq16\", P=Liquids_only_noise4['P_kbar'])"
   ]
  },
  {
   "cell_type": "code",
   "execution_count": 25,
   "metadata": {},
   "outputs": [
    {
     "data": {
      "text/html": [
       "<div>\n",
       "<style scoped>\n",
       "    .dataframe tbody tr th:only-of-type {\n",
       "        vertical-align: middle;\n",
       "    }\n",
       "\n",
       "    .dataframe tbody tr th {\n",
       "        vertical-align: top;\n",
       "    }\n",
       "\n",
       "    .dataframe thead th {\n",
       "        text-align: right;\n",
       "    }\n",
       "</style>\n",
       "<table border=\"1\" class=\"dataframe\">\n",
       "  <thead>\n",
       "    <tr style=\"text-align: right;\">\n",
       "      <th></th>\n",
       "      <th>Sample</th>\n",
       "      <th>Mean_calc</th>\n",
       "      <th>Median_calc</th>\n",
       "      <th>St_dev_calc</th>\n",
       "      <th>Max_calc</th>\n",
       "      <th>Min_calc</th>\n",
       "    </tr>\n",
       "  </thead>\n",
       "  <tbody>\n",
       "    <tr>\n",
       "      <th>0</th>\n",
       "      <td>0.0</td>\n",
       "      <td>1337.533654</td>\n",
       "      <td>1337.534657</td>\n",
       "      <td>6.668789</td>\n",
       "      <td>1359.190395</td>\n",
       "      <td>1313.530811</td>\n",
       "    </tr>\n",
       "    <tr>\n",
       "      <th>1</th>\n",
       "      <td>1.0</td>\n",
       "      <td>1260.330330</td>\n",
       "      <td>1260.199063</td>\n",
       "      <td>5.489922</td>\n",
       "      <td>1279.052316</td>\n",
       "      <td>1243.224416</td>\n",
       "    </tr>\n",
       "    <tr>\n",
       "      <th>2</th>\n",
       "      <td>2.0</td>\n",
       "      <td>1265.870150</td>\n",
       "      <td>1265.719414</td>\n",
       "      <td>4.623301</td>\n",
       "      <td>1281.035948</td>\n",
       "      <td>1251.566117</td>\n",
       "    </tr>\n",
       "    <tr>\n",
       "      <th>3</th>\n",
       "      <td>3.0</td>\n",
       "      <td>1239.187034</td>\n",
       "      <td>1239.345006</td>\n",
       "      <td>3.239292</td>\n",
       "      <td>1249.083011</td>\n",
       "      <td>1228.175845</td>\n",
       "    </tr>\n",
       "    <tr>\n",
       "      <th>4</th>\n",
       "      <td>4.0</td>\n",
       "      <td>1303.891956</td>\n",
       "      <td>1304.060924</td>\n",
       "      <td>6.539292</td>\n",
       "      <td>1326.494242</td>\n",
       "      <td>1277.783547</td>\n",
       "    </tr>\n",
       "    <tr>\n",
       "      <th>5</th>\n",
       "      <td>5.0</td>\n",
       "      <td>1286.620545</td>\n",
       "      <td>1286.792671</td>\n",
       "      <td>5.776595</td>\n",
       "      <td>1304.412656</td>\n",
       "      <td>1266.194645</td>\n",
       "    </tr>\n",
       "    <tr>\n",
       "      <th>6</th>\n",
       "      <td>6.0</td>\n",
       "      <td>1268.523272</td>\n",
       "      <td>1268.671765</td>\n",
       "      <td>4.736982</td>\n",
       "      <td>1286.145575</td>\n",
       "      <td>1250.488542</td>\n",
       "    </tr>\n",
       "    <tr>\n",
       "      <th>7</th>\n",
       "      <td>7.0</td>\n",
       "      <td>1399.206372</td>\n",
       "      <td>1399.534481</td>\n",
       "      <td>7.139956</td>\n",
       "      <td>1425.273642</td>\n",
       "      <td>1376.176115</td>\n",
       "    </tr>\n",
       "    <tr>\n",
       "      <th>8</th>\n",
       "      <td>8.0</td>\n",
       "      <td>1302.298699</td>\n",
       "      <td>1302.598648</td>\n",
       "      <td>6.741257</td>\n",
       "      <td>1324.372857</td>\n",
       "      <td>1277.932798</td>\n",
       "    </tr>\n",
       "    <tr>\n",
       "      <th>9</th>\n",
       "      <td>9.0</td>\n",
       "      <td>1357.690599</td>\n",
       "      <td>1358.019324</td>\n",
       "      <td>8.081171</td>\n",
       "      <td>1384.823250</td>\n",
       "      <td>1331.859906</td>\n",
       "    </tr>\n",
       "  </tbody>\n",
       "</table>\n",
       "</div>"
      ],
      "text/plain": [
       "   Sample    Mean_calc  Median_calc  St_dev_calc     Max_calc     Min_calc\n",
       "0     0.0  1337.533654  1337.534657     6.668789  1359.190395  1313.530811\n",
       "1     1.0  1260.330330  1260.199063     5.489922  1279.052316  1243.224416\n",
       "2     2.0  1265.870150  1265.719414     4.623301  1281.035948  1251.566117\n",
       "3     3.0  1239.187034  1239.345006     3.239292  1249.083011  1228.175845\n",
       "4     4.0  1303.891956  1304.060924     6.539292  1326.494242  1277.783547\n",
       "5     5.0  1286.620545  1286.792671     5.776595  1304.412656  1266.194645\n",
       "6     6.0  1268.523272  1268.671765     4.736982  1286.145575  1250.488542\n",
       "7     7.0  1399.206372  1399.534481     7.139956  1425.273642  1376.176115\n",
       "8     8.0  1302.298699  1302.598648     6.741257  1324.372857  1277.932798\n",
       "9     9.0  1357.690599  1358.019324     8.081171  1384.823250  1331.859906"
      ]
     },
     "execution_count": 25,
     "metadata": {},
     "output_type": "execute_result"
    }
   ],
   "source": [
    "Stats_T_K4=pt.Av_Noise_Samples_series(T_noise4, Liquids_only_noise4['Sample_ID_Liq_Num'])\n",
    "Stats_T_K4"
   ]
  },
  {
   "cell_type": "markdown",
   "metadata": {},
   "source": [
    "# Example 5: Absolute uncertainty in a given input parameter\n",
    "- Here, say uncertainty in H2O content of the liquid is 1 wt%"
   ]
  },
  {
   "cell_type": "code",
   "execution_count": 26,
   "metadata": {},
   "outputs": [
    {
     "name": "stderr",
     "output_type": "stream",
     "text": [
      "C:\\Users\\penny\\anaconda3\\lib\\site-packages\\ipykernel\\ipkernel.py:283: DeprecationWarning: `should_run_async` will not call `transform_cell` automatically in the future. Please pass the result to `transformed_cell` argument and any exception that happen during thetransform in `preprocessing_exc_tuple` in IPython 7.17 and above.\n",
      "  and should_run_async(code)\n"
     ]
    }
   ],
   "source": [
    "Liquids_only_noise5=pt.Add_Sample_Noise_1Phase(Phase_Comp=myLiquids1, Variable=\"H2O\", Variable_Err=1, \n",
    "                                              Variable_Err_type=\"Abs\", duplicates=1000, Err_dist=\"normal\")\n"
   ]
  },
  {
   "cell_type": "markdown",
   "metadata": {},
   "source": [
    "### plot a histogram of resulting H2O distribution"
   ]
  },
  {
   "cell_type": "code",
   "execution_count": 27,
   "metadata": {},
   "outputs": [
    {
     "data": {
      "text/plain": [
       "Text(0, 0.5, 'Probability Density')"
      ]
     },
     "execution_count": 27,
     "metadata": {},
     "output_type": "execute_result"
    },
    {
     "data": {
      "image/png": "[encoded data removed]",
      "text/plain": [
       "<Figure size 432x288 with 1 Axes>"
      ]
     },
     "metadata": {
      "needs_background": "light"
     },
     "output_type": "display_data"
    }
   ],
   "source": [
    "plt.hist(Liquids_only_noise5.loc[Liquids_only_noise4['Sample_ID_Liq_Num']==0, 'H2O_Liq'], bins=100, density= True);\n",
    "plt.xlabel('H$_2$O Liq')\n",
    "plt.ylabel('Probability Density')"
   ]
  },
  {
   "cell_type": "markdown",
   "metadata": {},
   "source": [
    "### Now feed this into a thermometer"
   ]
  },
  {
   "cell_type": "code",
   "execution_count": 28,
   "metadata": {},
   "outputs": [
    {
     "name": "stderr",
     "output_type": "stream",
     "text": [
      "C:\\Users\\penny\\anaconda3\\lib\\site-packages\\ipykernel\\ipkernel.py:283: DeprecationWarning: `should_run_async` will not call `transform_cell` automatically in the future. Please pass the result to `transformed_cell` argument and any exception that happen during thetransform in `preprocessing_exc_tuple` in IPython 7.17 and above.\n",
      "  and should_run_async(code)\n"
     ]
    },
    {
     "data": {
      "text/plain": [
       "Text(0.5, 0, 'T (K)')"
      ]
     },
     "execution_count": 28,
     "metadata": {},
     "output_type": "execute_result"
    },
    {
     "data": {
      "image/png": "[encoded data removed]",
      "text/plain": [
       "<Figure size 432x288 with 1 Axes>"
      ]
     },
     "metadata": {
      "needs_background": "light"
     },
     "output_type": "display_data"
    }
   ],
   "source": [
    "#Feed into a thermometer\n",
    "T_noise5=pt.calculate_Liq_Temp(Liq_Comps=Liquids_only_noise5, equationT=\"T_Put2008_eq22_BeattDMg\", \n",
    "                              P=Liquids_only_noise5['P_kbar'])\n",
    "plt.hist(T_noise5.loc[Liquids_only_noise5['Sample_ID_Liq_Num']==0], bins=100, density=True);\n",
    "plt.ylabel('Probability Density')\n",
    "plt.xlabel('T (K)')"
   ]
  },
  {
   "cell_type": "code",
   "execution_count": 29,
   "metadata": {},
   "outputs": [
    {
     "name": "stderr",
     "output_type": "stream",
     "text": [
      "C:\\Users\\penny\\anaconda3\\lib\\site-packages\\ipykernel\\ipkernel.py:283: DeprecationWarning: `should_run_async` will not call `transform_cell` automatically in the future. Please pass the result to `transformed_cell` argument and any exception that happen during thetransform in `preprocessing_exc_tuple` in IPython 7.17 and above.\n",
      "  and should_run_async(code)\n"
     ]
    },
    {
     "data": {
      "text/html": [
       "<div>\n",
       "<style scoped>\n",
       "    .dataframe tbody tr th:only-of-type {\n",
       "        vertical-align: middle;\n",
       "    }\n",
       "\n",
       "    .dataframe tbody tr th {\n",
       "        vertical-align: top;\n",
       "    }\n",
       "\n",
       "    .dataframe thead th {\n",
       "        text-align: right;\n",
       "    }\n",
       "</style>\n",
       "<table border=\"1\" class=\"dataframe\">\n",
       "  <thead>\n",
       "    <tr style=\"text-align: right;\">\n",
       "      <th></th>\n",
       "      <th>Sample</th>\n",
       "      <th>Mean_calc</th>\n",
       "      <th>Median_calc</th>\n",
       "      <th>St_dev_calc</th>\n",
       "      <th>Max_calc</th>\n",
       "      <th>Min_calc</th>\n",
       "    </tr>\n",
       "  </thead>\n",
       "  <tbody>\n",
       "    <tr>\n",
       "      <th>0</th>\n",
       "      <td>0.0</td>\n",
       "      <td>1294.592085</td>\n",
       "      <td>1294.174788</td>\n",
       "      <td>14.852707</td>\n",
       "      <td>1348.978479</td>\n",
       "      <td>1244.330485</td>\n",
       "    </tr>\n",
       "    <tr>\n",
       "      <th>1</th>\n",
       "      <td>1.0</td>\n",
       "      <td>1242.844995</td>\n",
       "      <td>1242.708175</td>\n",
       "      <td>13.068186</td>\n",
       "      <td>1286.258576</td>\n",
       "      <td>1205.819242</td>\n",
       "    </tr>\n",
       "    <tr>\n",
       "      <th>2</th>\n",
       "      <td>2.0</td>\n",
       "      <td>1281.287040</td>\n",
       "      <td>1280.601135</td>\n",
       "      <td>15.018505</td>\n",
       "      <td>1324.764533</td>\n",
       "      <td>1239.716658</td>\n",
       "    </tr>\n",
       "    <tr>\n",
       "      <th>3</th>\n",
       "      <td>3.0</td>\n",
       "      <td>1205.489337</td>\n",
       "      <td>1205.116425</td>\n",
       "      <td>11.918243</td>\n",
       "      <td>1242.268937</td>\n",
       "      <td>1171.180111</td>\n",
       "    </tr>\n",
       "    <tr>\n",
       "      <th>4</th>\n",
       "      <td>4.0</td>\n",
       "      <td>1267.960313</td>\n",
       "      <td>1267.306499</td>\n",
       "      <td>13.961993</td>\n",
       "      <td>1316.696539</td>\n",
       "      <td>1225.323833</td>\n",
       "    </tr>\n",
       "    <tr>\n",
       "      <th>5</th>\n",
       "      <td>5.0</td>\n",
       "      <td>1253.741671</td>\n",
       "      <td>1253.151313</td>\n",
       "      <td>13.798003</td>\n",
       "      <td>1291.236349</td>\n",
       "      <td>1216.714010</td>\n",
       "    </tr>\n",
       "    <tr>\n",
       "      <th>6</th>\n",
       "      <td>6.0</td>\n",
       "      <td>1244.521369</td>\n",
       "      <td>1244.918790</td>\n",
       "      <td>13.749467</td>\n",
       "      <td>1294.303742</td>\n",
       "      <td>1201.848812</td>\n",
       "    </tr>\n",
       "    <tr>\n",
       "      <th>7</th>\n",
       "      <td>7.0</td>\n",
       "      <td>1211.719594</td>\n",
       "      <td>1211.390870</td>\n",
       "      <td>11.981722</td>\n",
       "      <td>1247.844786</td>\n",
       "      <td>1177.623978</td>\n",
       "    </tr>\n",
       "    <tr>\n",
       "      <th>8</th>\n",
       "      <td>8.0</td>\n",
       "      <td>1182.083791</td>\n",
       "      <td>1181.799360</td>\n",
       "      <td>11.124000</td>\n",
       "      <td>1219.258305</td>\n",
       "      <td>1136.046905</td>\n",
       "    </tr>\n",
       "    <tr>\n",
       "      <th>9</th>\n",
       "      <td>9.0</td>\n",
       "      <td>1319.719819</td>\n",
       "      <td>1319.102607</td>\n",
       "      <td>16.116716</td>\n",
       "      <td>1371.396171</td>\n",
       "      <td>1272.929480</td>\n",
       "    </tr>\n",
       "  </tbody>\n",
       "</table>\n",
       "</div>"
      ],
      "text/plain": [
       "   Sample    Mean_calc  Median_calc  St_dev_calc     Max_calc     Min_calc\n",
       "0     0.0  1294.592085  1294.174788    14.852707  1348.978479  1244.330485\n",
       "1     1.0  1242.844995  1242.708175    13.068186  1286.258576  1205.819242\n",
       "2     2.0  1281.287040  1280.601135    15.018505  1324.764533  1239.716658\n",
       "3     3.0  1205.489337  1205.116425    11.918243  1242.268937  1171.180111\n",
       "4     4.0  1267.960313  1267.306499    13.961993  1316.696539  1225.323833\n",
       "5     5.0  1253.741671  1253.151313    13.798003  1291.236349  1216.714010\n",
       "6     6.0  1244.521369  1244.918790    13.749467  1294.303742  1201.848812\n",
       "7     7.0  1211.719594  1211.390870    11.981722  1247.844786  1177.623978\n",
       "8     8.0  1182.083791  1181.799360    11.124000  1219.258305  1136.046905\n",
       "9     9.0  1319.719819  1319.102607    16.116716  1371.396171  1272.929480"
      ]
     },
     "execution_count": 29,
     "metadata": {},
     "output_type": "execute_result"
    }
   ],
   "source": [
    "Stats_T_K5=pt.Av_Noise_Samples_series(T_noise5, Liquids_only_noise5['Sample_ID_Liq_Num'])\n",
    "Stats_T_K5"
   ]
  },
  {
   "cell_type": "markdown",
   "metadata": {},
   "source": [
    "# Example 6 - Uniformally distributed errors\n",
    "- by dfeault, the code assumes a normal distribution of errors, calculated using the user-inputted 1 sigma value\n",
    "- you can also state Err_dist=\"uniform\", to generate uniformly distributed noise between +-inputted value"
   ]
  },
  {
   "cell_type": "code",
   "execution_count": 30,
   "metadata": {},
   "outputs": [
    {
     "name": "stderr",
     "output_type": "stream",
     "text": [
      "C:\\Users\\penny\\anaconda3\\lib\\site-packages\\ipykernel\\ipkernel.py:283: DeprecationWarning: `should_run_async` will not call `transform_cell` automatically in the future. Please pass the result to `transformed_cell` argument and any exception that happen during thetransform in `preprocessing_exc_tuple` in IPython 7.17 and above.\n",
      "  and should_run_async(code)\n"
     ]
    }
   ],
   "source": [
    "Liquids_only_noise6=pt.Add_Sample_Noise_1Phase(Phase_Comp=myLiquids1, Variable=\"H2O\", Variable_Err=0.5, \n",
    "                                              Variable_Err_type=\"Abs\", duplicates=1000, Err_dist=\"uniform\")\n"
   ]
  },
  {
   "cell_type": "code",
   "execution_count": 31,
   "metadata": {},
   "outputs": [
    {
     "data": {
      "text/plain": [
       "Text(0.5, 0, 'T (K)')"
      ]
     },
     "execution_count": 31,
     "metadata": {},
     "output_type": "execute_result"
    },
    {
     "data": {
      "image/png": "[encoded data removed]",
      "text/plain": [
       "<Figure size 432x288 with 1 Axes>"
      ]
     },
     "metadata": {
      "needs_background": "light"
     },
     "output_type": "display_data"
    }
   ],
   "source": [
    "plt.hist(Liquids_only_noise6.loc[Liquids_only_noise6['Sample_ID_Liq_Num']==0, 'H2O_Liq'], bins=100);\n",
    "plt.ylabel('Probability Density')\n",
    "plt.xlabel('T (K)')"
   ]
  }
 ],
 "metadata": {
  "kernelspec": {
   "display_name": "Python 3",
   "language": "python",
   "name": "python3"
  },
  "language_info": {
   "codemirror_mode": {
    "name": "ipython",
    "version": 3
   },
   "file_extension": ".py",
   "mimetype": "text/x-python",
   "name": "python",
   "nbconvert_exporter": "python",
   "pygments_lexer": "ipython3",
   "version": "3.8.5"
  }
 },
 "nbformat": 4,
 "nbformat_minor": 4
}
