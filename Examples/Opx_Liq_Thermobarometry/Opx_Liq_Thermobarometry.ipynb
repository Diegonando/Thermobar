{
 "cells": [
  {
   "cell_type": "markdown",
   "id": "8c8f3878-908b-4712-89ca-b75d93e96432",
   "metadata": {},
   "source": [
    "# This notebook goes through the options for orthopyroxene-Liquid and orthopyroxene-only thermobarometry. "
   ]
  },
  {
   "cell_type": "markdown",
   "id": "8977fc41-cac1-4554-979d-596d986d877f",
   "metadata": {},
   "source": [
    "## First, load the necessary python things"
   ]
  },
  {
   "cell_type": "code",
   "execution_count": 1,
   "id": "c10cd3bd-1c22-4efd-b250-46250da7feab",
   "metadata": {},
   "outputs": [],
   "source": [
    "import numpy as np\n",
    "import pandas as pd\n",
    "import sys\n",
    "sys.path.append(\"../..\") # This allows you to put the python file in the folder above. So you can have lots of sub folders\n",
    "import matplotlib.pyplot as plt\n",
    "import Thermobar as pt\n",
    "import sympy as sym"
   ]
  },
  {
   "cell_type": "markdown",
   "id": "c2b7e96a-9b44-415c-a666-c1cbc3c56fda",
   "metadata": {},
   "source": [
    "## Now, load the data "
   ]
  },
  {
   "cell_type": "code",
   "execution_count": 2,
   "id": "561c3c07-3251-494a-8d80-0366c52b39e3",
   "metadata": {},
   "outputs": [
    {
     "name": "stderr",
     "output_type": "stream",
     "text": [
      "C:\\Users\\penny\\anaconda3\\lib\\site-packages\\ipykernel\\ipkernel.py:283: DeprecationWarning: `should_run_async` will not call `transform_cell` automatically in the future. Please pass the result to `transformed_cell` argument and any exception that happen during thetransform in `preprocessing_exc_tuple` in IPython 7.17 and above.\n",
      "  and should_run_async(code)\n"
     ]
    },
    {
     "name": "stdout",
     "output_type": "stream",
     "text": [
      "We have set Fe3Fet_Liq to zero, as you only entered FeOt. You can input a Fe3FeT_Liq column to specify this value instead\n"
     ]
    }
   ],
   "source": [
    "out=pt.import_excel('Opx_Liq_Example.xlsx', sheet_name=\"Sheet1\")\n",
    "my_input=out['my_input']\n",
    "Liqs=out['Liqs']\n",
    "Opxs=out['Opxs']"
   ]
  },
  {
   "cell_type": "markdown",
   "id": "9befb56b-bea2-46d3-bb97-3e51fe2c9b0d",
   "metadata": {},
   "source": [
    "# Working out options for thermometers/barometers\n",
    "- At any point, you can do help(pt.function) to get some more information"
   ]
  },
  {
   "cell_type": "markdown",
   "id": "3b3ee66f-453e-4542-ac79-ee640543e150",
   "metadata": {},
   "source": [
    "## For example, here we get information on inputs/outputs for Cpx-Liq thermometry, including the equation options"
   ]
  },
  {
   "cell_type": "code",
   "execution_count": 3,
   "id": "518c761c-0a25-4747-8db2-cdc82abb0ed8",
   "metadata": {},
   "outputs": [
    {
     "name": "stdout",
     "output_type": "stream",
     "text": [
      "Help on function calculate_opx_liq_temp in module Thermobar.orthopyroxene_thermobarometry:\n",
      "\n",
      "calculate_opx_liq_temp(*, equationT, opx_comps=None, liq_comps=None, meltmatch=None, P=None, eq_tests=False, Fe3FeT_Liq=None, H2O_Liq=None)\n",
      "     Orthopyroxene-Liquid thermometer, user specifies equation,\n",
      "     and calculates temperature in Kelvin.  Also has option to calculate equilibrium tests.\n",
      "    \n",
      "    Parameters\n",
      "     -------\n",
      "    \n",
      "     opx_comps: DataFrame\n",
      "         Orthopyroxene compositions with column headings SiO2_Opx, MgO_Opx etc.\n",
      "    \n",
      "     liq_comps: DataFrame\n",
      "         Liquid compositions with column headings SiO2_Liq, MgO_Liq etc.\n",
      "    \n",
      "     meltmatch: DataFrame\n",
      "         Combined Opx-Liquid compositions. Used for \"melt match\" functionality.\n",
      "    \n",
      "     EquationT: str\n",
      "         Choice of equation:\n",
      "         |  T_Opx_Beatt1993\n",
      "         |  T_Put2008_eq28a\n",
      "         |  T_Put2008_eq28b_opx_sat\n",
      "    \n",
      "    \n",
      "     P: float, int, series, str  (\"Solve\")\n",
      "         Pressure in kbar\n",
      "         Only needed for P-sensitive thermometers.\n",
      "         If enter P=\"Solve\", returns a partial function\n",
      "         Else, enter an integer, float, or panda series\n",
      "    \n",
      "     eq_tests: bool\n",
      "         If False (default), returns temperature as a panda series\n",
      "         If True, returns prsesure, Kd Fe-Mg for liq-opx,\n",
      "         as well as user-entered opx and liq comps as a panda dataframe.\n",
      "    \n",
      "     Returns\n",
      "     -------\n",
      "     If eq_tests=False\n",
      "         pandas.series: Pressure in kbar (if eq_tests=False)\n",
      "     If eq_tests=True\n",
      "         panda.dataframe: Pressure in kbar + Kd-Fe-Mg + opx+liq comps\n",
      "\n"
     ]
    },
    {
     "name": "stderr",
     "output_type": "stream",
     "text": [
      "C:\\Users\\penny\\anaconda3\\lib\\site-packages\\ipykernel\\ipkernel.py:283: DeprecationWarning: `should_run_async` will not call `transform_cell` automatically in the future. Please pass the result to `transformed_cell` argument and any exception that happen during thetransform in `preprocessing_exc_tuple` in IPython 7.17 and above.\n",
      "  and should_run_async(code)\n"
     ]
    }
   ],
   "source": [
    "help(pt.calculate_opx_liq_temp)"
   ]
  },
  {
   "cell_type": "markdown",
   "id": "8f0b0287-f32a-4085-a9f9-9c0c76904b70",
   "metadata": {},
   "source": [
    "## Alternatively, you can access the function names as well as the inputs like this:"
   ]
  },
  {
   "cell_type": "code",
   "execution_count": 4,
   "id": "cf7468d9-7760-41a5-abcb-45b432f749f2",
   "metadata": {},
   "outputs": [
    {
     "data": {
      "text/plain": [
       "{<function Thermobar.liquid_thermometers.T_Beatt1993_opx(P, *, CaO_Liq_cat_frac, FeOt_Liq_cat_frac, MgO_Liq_cat_frac, MnO_Liq_cat_frac, Al2O3_Liq_cat_frac, TiO2_Liq_cat_frac)>,\n",
       " <function Thermobar.orthopyroxene_thermobarometry.T_Put2008_eq28a(P, *, H2O_Liq, ln_Fm2Si2O6_liq, MgO_Liq_cat_frac, K2O_Liq_cat_frac, FeOt_Liq_cat_frac, FeOt_Opx_cat_6ox)>,\n",
       " <function Thermobar.orthopyroxene_thermobarometry.T_Put2008_eq28b_opx_sat(P, *, H2O_Liq, MgO_Liq_cat_frac, CaO_Liq_cat_frac, K2O_Liq_cat_frac, MnO_Liq_cat_frac, FeOt_Liq_cat_frac, FeOt_Opx_cat_6ox, Al2O3_Liq_cat_frac, TiO2_Liq_cat_frac, Mg_Number_Liq_NoFe3)>}"
      ]
     },
     "execution_count": 4,
     "metadata": {},
     "output_type": "execute_result"
    }
   ],
   "source": [
    "pt.Opx_Liq_T_funcs"
   ]
  },
  {
   "cell_type": "code",
   "execution_count": 5,
   "id": "62e9a91c-dc12-4081-b3ca-555d546a587f",
   "metadata": {},
   "outputs": [
    {
     "data": {
      "text/plain": [
       "{<function Thermobar.orthopyroxene_thermobarometry.P_Put2008_eq29a(T, *, SiO2_Liq_cat_frac, MgO_Liq_cat_frac, FeOt_Opx_cat_6ox, FmAl2SiO6, Na2O_Liq_cat_frac, Al2O3_Liq_cat_frac, K2O_Liq_cat_frac, H2O_Liq, NaAlSi2O6)>,\n",
       " <function Thermobar.orthopyroxene_thermobarometry.P_Put2008_eq29b(T, *, ln_FmAl2SiO6_liq, Al2O3_Liq_cat_frac, MgO_Liq_cat_frac, FeOt_Liq_cat_frac, SiO2_Opx_cat_6ox, FeOt_Opx_cat_6ox, Na2O_Liq_cat_frac, K2O_Liq_cat_frac, H2O_Liq)>,\n",
       " <function Thermobar.orthopyroxene_thermobarometry.P_Put_Felsic_Opx(T=None, *, Al2O3_Opx, Al2O3_Liq)>,\n",
       " <function Thermobar.orthopyroxene_thermobarometry.P_Put_Global_Opx(T=None, *, MgO_Liq, Al2O3_Opx, Al2O3_Liq, Na2O_Liq, K2O_Liq)>}"
      ]
     },
     "execution_count": 5,
     "metadata": {},
     "output_type": "execute_result"
    }
   ],
   "source": [
    "pt.Opx_Liq_P_funcs"
   ]
  },
  {
   "cell_type": "markdown",
   "id": "2c39091f-4dfd-48f7-835c-08ed8f5da2c7",
   "metadata": {},
   "source": [
    "# Example 1 - temperature for a known pressure and water content\n",
    "- Here, we calculate temperature using the H2O content given in the H2O_Liq column (the default), and P=5 kbar\n",
    "- There are a number of equations, but here we use T_Put2008_eq28a for temperature"
   ]
  },
  {
   "cell_type": "code",
   "execution_count": 6,
   "id": "f8905a97-e057-4602-b427-fd0a32f718f6",
   "metadata": {},
   "outputs": [
    {
     "data": {
      "text/plain": [
       "0    1391.122951\n",
       "1    1391.135930\n",
       "2    1335.249511\n",
       "3    1350.916688\n",
       "4    1311.016109\n",
       "dtype: float64"
      ]
     },
     "execution_count": 6,
     "metadata": {},
     "output_type": "execute_result"
    }
   ],
   "source": [
    "Temp_T28a=pt.calculate_opx_liq_temp(opx_comps=Opxs, liq_comps=Liqs, equationT=\"T_Put2008_eq28a\", P=5)\n",
    "Temp_T28a"
   ]
  },
  {
   "cell_type": "markdown",
   "id": "baf976e4-e85f-4f8a-ac37-f9335ee121ed",
   "metadata": {},
   "source": [
    "## Or we can overwrite the water content in the function using an integer"
   ]
  },
  {
   "cell_type": "code",
   "execution_count": 7,
   "id": "7fd8d6ca-84e7-46ec-819b-7d59a55e212f",
   "metadata": {},
   "outputs": [
    {
     "name": "stderr",
     "output_type": "stream",
     "text": [
      "C:\\Users\\penny\\anaconda3\\lib\\site-packages\\ipykernel\\ipkernel.py:283: DeprecationWarning: `should_run_async` will not call `transform_cell` automatically in the future. Please pass the result to `transformed_cell` argument and any exception that happen during thetransform in `preprocessing_exc_tuple` in IPython 7.17 and above.\n",
      "  and should_run_async(code)\n"
     ]
    },
    {
     "data": {
      "text/plain": [
       "0    1451.178325\n",
       "1    1492.564583\n",
       "2    1426.377807\n",
       "3    1444.872220\n",
       "4    1397.863370\n",
       "dtype: float64"
      ]
     },
     "execution_count": 7,
     "metadata": {},
     "output_type": "execute_result"
    }
   ],
   "source": [
    "Temp_T28a_0H2O=pt.calculate_opx_liq_temp(opx_comps=Opxs, liq_comps=Liqs, equationT=\"T_Put2008_eq28a\", P=5, H2O_Liq=0)\n",
    "Temp_T28a_0H2O"
   ]
  },
  {
   "cell_type": "markdown",
   "id": "747a2945-af46-40bf-9c10-88b8180244a1",
   "metadata": {},
   "source": [
    "## We can also specify eq_tests=True to get a full dataframe back with all the components, as well as a number of equilibrium test values"
   ]
  },
  {
   "cell_type": "code",
   "execution_count": 8,
   "id": "22ce1961-1b31-4bfc-92d5-9638520a652a",
   "metadata": {},
   "outputs": [
    {
     "name": "stderr",
     "output_type": "stream",
     "text": [
      "C:\\Users\\penny\\anaconda3\\lib\\site-packages\\ipykernel\\ipkernel.py:283: DeprecationWarning: `should_run_async` will not call `transform_cell` automatically in the future. Please pass the result to `transformed_cell` argument and any exception that happen during thetransform in `preprocessing_exc_tuple` in IPython 7.17 and above.\n",
      "  and should_run_async(code)\n"
     ]
    },
    {
     "data": {
      "text/html": [
       "<div>\n",
       "<style scoped>\n",
       "    .dataframe tbody tr th:only-of-type {\n",
       "        vertical-align: middle;\n",
       "    }\n",
       "\n",
       "    .dataframe tbody tr th {\n",
       "        vertical-align: top;\n",
       "    }\n",
       "\n",
       "    .dataframe thead th {\n",
       "        text-align: right;\n",
       "    }\n",
       "</style>\n",
       "<table border=\"1\" class=\"dataframe\">\n",
       "  <thead>\n",
       "    <tr style=\"text-align: right;\">\n",
       "      <th></th>\n",
       "      <th>T_K_calc</th>\n",
       "      <th>Eq_Test_Kd_Fe_Mg_Fet</th>\n",
       "      <th>Eq_Test_Kd_Fe_Mg_Fe2</th>\n",
       "      <th>SiO2_Liq</th>\n",
       "      <th>Kd Eq (Put2008+-0.06)</th>\n",
       "      <th>TiO2_Liq</th>\n",
       "      <th>Al2O3_Liq</th>\n",
       "      <th>FeOt_Liq</th>\n",
       "      <th>MnO_Liq</th>\n",
       "      <th>MgO_Liq</th>\n",
       "      <th>...</th>\n",
       "      <th>Di_Opx</th>\n",
       "      <th>Mgno_OPX</th>\n",
       "      <th>ln_Fm2Si2O6_liq</th>\n",
       "      <th>ln_FmAl2SiO6_liq</th>\n",
       "      <th>Kd_Fe_Mg_Fet</th>\n",
       "      <th>Kd_Fe_Mg_Fe2</th>\n",
       "      <th>Ideal_Kd</th>\n",
       "      <th>Delta_Kd_Fe_Mg_Fe2</th>\n",
       "      <th>Mgno_Liq_noFe3</th>\n",
       "      <th>Mgno_Liq_Fe2</th>\n",
       "    </tr>\n",
       "  </thead>\n",
       "  <tbody>\n",
       "    <tr>\n",
       "      <th>0</th>\n",
       "      <td>1451.178325</td>\n",
       "      <td>0.251582</td>\n",
       "      <td>0.251582</td>\n",
       "      <td>51.1</td>\n",
       "      <td>Y</td>\n",
       "      <td>0.93</td>\n",
       "      <td>17.5</td>\n",
       "      <td>8.91</td>\n",
       "      <td>0.18</td>\n",
       "      <td>6.09</td>\n",
       "      <td>...</td>\n",
       "      <td>0.028142</td>\n",
       "      <td>0.828850</td>\n",
       "      <td>5.211708</td>\n",
       "      <td>-2.879647</td>\n",
       "      <td>0.251582</td>\n",
       "      <td>0.251582</td>\n",
       "      <td>0.304877</td>\n",
       "      <td>0.053295</td>\n",
       "      <td>0.549218</td>\n",
       "      <td>0.549218</td>\n",
       "    </tr>\n",
       "    <tr>\n",
       "      <th>1</th>\n",
       "      <td>1492.564583</td>\n",
       "      <td>0.165104</td>\n",
       "      <td>0.165104</td>\n",
       "      <td>51.5</td>\n",
       "      <td>N</td>\n",
       "      <td>1.19</td>\n",
       "      <td>19.2</td>\n",
       "      <td>8.70</td>\n",
       "      <td>0.19</td>\n",
       "      <td>4.98</td>\n",
       "      <td>...</td>\n",
       "      <td>0.068126</td>\n",
       "      <td>0.860725</td>\n",
       "      <td>5.202722</td>\n",
       "      <td>3.931199</td>\n",
       "      <td>0.165104</td>\n",
       "      <td>0.165104</td>\n",
       "      <td>0.303256</td>\n",
       "      <td>0.138151</td>\n",
       "      <td>0.505036</td>\n",
       "      <td>0.505036</td>\n",
       "    </tr>\n",
       "    <tr>\n",
       "      <th>2</th>\n",
       "      <td>1426.377807</td>\n",
       "      <td>0.187634</td>\n",
       "      <td>0.187634</td>\n",
       "      <td>59.1</td>\n",
       "      <td>N</td>\n",
       "      <td>0.54</td>\n",
       "      <td>19.1</td>\n",
       "      <td>5.22</td>\n",
       "      <td>0.19</td>\n",
       "      <td>3.25</td>\n",
       "      <td>...</td>\n",
       "      <td>0.074962</td>\n",
       "      <td>0.855382</td>\n",
       "      <td>5.851735</td>\n",
       "      <td>4.175071</td>\n",
       "      <td>0.187634</td>\n",
       "      <td>0.187634</td>\n",
       "      <td>0.277184</td>\n",
       "      <td>0.089550</td>\n",
       "      <td>0.526025</td>\n",
       "      <td>0.526025</td>\n",
       "    </tr>\n",
       "    <tr>\n",
       "      <th>3</th>\n",
       "      <td>1444.872220</td>\n",
       "      <td>0.211297</td>\n",
       "      <td>0.211297</td>\n",
       "      <td>52.5</td>\n",
       "      <td>N</td>\n",
       "      <td>0.98</td>\n",
       "      <td>19.2</td>\n",
       "      <td>8.04</td>\n",
       "      <td>0.20</td>\n",
       "      <td>4.99</td>\n",
       "      <td>...</td>\n",
       "      <td>0.053125</td>\n",
       "      <td>0.839637</td>\n",
       "      <td>5.426741</td>\n",
       "      <td>1.519044</td>\n",
       "      <td>0.211297</td>\n",
       "      <td>0.211297</td>\n",
       "      <td>0.300632</td>\n",
       "      <td>0.089335</td>\n",
       "      <td>0.525239</td>\n",
       "      <td>0.525239</td>\n",
       "    </tr>\n",
       "    <tr>\n",
       "      <th>4</th>\n",
       "      <td>1397.863370</td>\n",
       "      <td>0.144506</td>\n",
       "      <td>0.144506</td>\n",
       "      <td>56.2</td>\n",
       "      <td>N</td>\n",
       "      <td>0.34</td>\n",
       "      <td>20.4</td>\n",
       "      <td>5.88</td>\n",
       "      <td>0.20</td>\n",
       "      <td>2.58</td>\n",
       "      <td>...</td>\n",
       "      <td>0.033103</td>\n",
       "      <td>0.844054</td>\n",
       "      <td>6.297377</td>\n",
       "      <td>2.489832</td>\n",
       "      <td>0.144506</td>\n",
       "      <td>0.144506</td>\n",
       "      <td>0.290284</td>\n",
       "      <td>0.145777</td>\n",
       "      <td>0.438875</td>\n",
       "      <td>0.438875</td>\n",
       "    </tr>\n",
       "  </tbody>\n",
       "</table>\n",
       "<p>5 rows × 89 columns</p>\n",
       "</div>"
      ],
      "text/plain": [
       "      T_K_calc  Eq_Test_Kd_Fe_Mg_Fet  Eq_Test_Kd_Fe_Mg_Fe2  SiO2_Liq  \\\n",
       "0  1451.178325              0.251582              0.251582      51.1   \n",
       "1  1492.564583              0.165104              0.165104      51.5   \n",
       "2  1426.377807              0.187634              0.187634      59.1   \n",
       "3  1444.872220              0.211297              0.211297      52.5   \n",
       "4  1397.863370              0.144506              0.144506      56.2   \n",
       "\n",
       "  Kd Eq (Put2008+-0.06)  TiO2_Liq  Al2O3_Liq  FeOt_Liq  MnO_Liq  MgO_Liq  ...  \\\n",
       "0                     Y      0.93       17.5      8.91     0.18     6.09  ...   \n",
       "1                     N      1.19       19.2      8.70     0.19     4.98  ...   \n",
       "2                     N      0.54       19.1      5.22     0.19     3.25  ...   \n",
       "3                     N      0.98       19.2      8.04     0.20     4.99  ...   \n",
       "4                     N      0.34       20.4      5.88     0.20     2.58  ...   \n",
       "\n",
       "     Di_Opx  Mgno_OPX  ln_Fm2Si2O6_liq  ln_FmAl2SiO6_liq  Kd_Fe_Mg_Fet  \\\n",
       "0  0.028142  0.828850         5.211708         -2.879647      0.251582   \n",
       "1  0.068126  0.860725         5.202722          3.931199      0.165104   \n",
       "2  0.074962  0.855382         5.851735          4.175071      0.187634   \n",
       "3  0.053125  0.839637         5.426741          1.519044      0.211297   \n",
       "4  0.033103  0.844054         6.297377          2.489832      0.144506   \n",
       "\n",
       "   Kd_Fe_Mg_Fe2  Ideal_Kd  Delta_Kd_Fe_Mg_Fe2  Mgno_Liq_noFe3  Mgno_Liq_Fe2  \n",
       "0      0.251582  0.304877            0.053295        0.549218      0.549218  \n",
       "1      0.165104  0.303256            0.138151        0.505036      0.505036  \n",
       "2      0.187634  0.277184            0.089550        0.526025      0.526025  \n",
       "3      0.211297  0.300632            0.089335        0.525239      0.525239  \n",
       "4      0.144506  0.290284            0.145777        0.438875      0.438875  \n",
       "\n",
       "[5 rows x 89 columns]"
      ]
     },
     "execution_count": 8,
     "metadata": {},
     "output_type": "execute_result"
    }
   ],
   "source": [
    "Temp_T28a_0H2O_EqTests=pt.calculate_opx_liq_temp(opx_comps=Opxs, liq_comps=Liqs, equationT=\"T_Put2008_eq28a\", P=5, H2O_Liq=0, eq_tests=True)\n",
    "Temp_T28a_0H2O_EqTests"
   ]
  },
  {
   "cell_type": "markdown",
   "id": "a3edf3cc-d1e6-449a-a17c-1498104d79ff",
   "metadata": {},
   "source": [
    "# Example 2 - Calculating pressure for a known temperature"
   ]
  },
  {
   "cell_type": "code",
   "execution_count": 9,
   "id": "1b9717ef-2ada-432a-875d-3038041096fd",
   "metadata": {},
   "outputs": [
    {
     "name": "stderr",
     "output_type": "stream",
     "text": [
      "C:\\Users\\penny\\anaconda3\\lib\\site-packages\\ipykernel\\ipkernel.py:283: DeprecationWarning: `should_run_async` will not call `transform_cell` automatically in the future. Please pass the result to `transformed_cell` argument and any exception that happen during thetransform in `preprocessing_exc_tuple` in IPython 7.17 and above.\n",
      "  and should_run_async(code)\n"
     ]
    },
    {
     "data": {
      "text/plain": [
       "0     2.401637\n",
       "1    12.237354\n",
       "2     9.658047\n",
       "3     5.585392\n",
       "4     5.739632\n",
       "dtype: float64"
      ]
     },
     "execution_count": 9,
     "metadata": {},
     "output_type": "execute_result"
    }
   ],
   "source": [
    "Temp_P29a=pt.calculate_opx_liq_press(opx_comps=Opxs, liq_comps=Liqs, equationP=\"P_Put2008_eq29a\", T=1300)\n",
    "Temp_P29a"
   ]
  },
  {
   "cell_type": "markdown",
   "id": "62fb4d8d-0b8e-45a9-bacf-28da1bec7d72",
   "metadata": {},
   "source": [
    "## Can do the same as before, overwrite water, ask for equilibrium tests. Using equation 30 from Putirka (2008) this time"
   ]
  },
  {
   "cell_type": "code",
   "execution_count": 10,
   "id": "0a7e6efd-9b50-42de-a2c0-6749098df0e9",
   "metadata": {},
   "outputs": [
    {
     "name": "stderr",
     "output_type": "stream",
     "text": [
      "C:\\Users\\penny\\anaconda3\\lib\\site-packages\\ipykernel\\ipkernel.py:283: DeprecationWarning: `should_run_async` will not call `transform_cell` automatically in the future. Please pass the result to `transformed_cell` argument and any exception that happen during thetransform in `preprocessing_exc_tuple` in IPython 7.17 and above.\n",
      "  and should_run_async(code)\n"
     ]
    },
    {
     "data": {
      "text/html": [
       "<div>\n",
       "<style scoped>\n",
       "    .dataframe tbody tr th:only-of-type {\n",
       "        vertical-align: middle;\n",
       "    }\n",
       "\n",
       "    .dataframe tbody tr th {\n",
       "        vertical-align: top;\n",
       "    }\n",
       "\n",
       "    .dataframe thead th {\n",
       "        text-align: right;\n",
       "    }\n",
       "</style>\n",
       "<table border=\"1\" class=\"dataframe\">\n",
       "  <thead>\n",
       "    <tr style=\"text-align: right;\">\n",
       "      <th></th>\n",
       "      <th>SiO2_Liq</th>\n",
       "      <th>P_kbar_calc</th>\n",
       "      <th>Eq_Test_Kd_Fe_Mg_Fet</th>\n",
       "      <th>Eq_Test_Kd_Fe_Mg_Fe2</th>\n",
       "      <th>Kd Eq (Put2008+-0.06)</th>\n",
       "      <th>TiO2_Liq</th>\n",
       "      <th>Al2O3_Liq</th>\n",
       "      <th>FeOt_Liq</th>\n",
       "      <th>MnO_Liq</th>\n",
       "      <th>MgO_Liq</th>\n",
       "      <th>...</th>\n",
       "      <th>Di_Opx</th>\n",
       "      <th>Mgno_OPX</th>\n",
       "      <th>ln_Fm2Si2O6_liq</th>\n",
       "      <th>ln_FmAl2SiO6_liq</th>\n",
       "      <th>Kd_Fe_Mg_Fet</th>\n",
       "      <th>Kd_Fe_Mg_Fe2</th>\n",
       "      <th>Ideal_Kd</th>\n",
       "      <th>Delta_Kd_Fe_Mg_Fe2</th>\n",
       "      <th>Mgno_Liq_noFe3</th>\n",
       "      <th>Mgno_Liq_Fe2</th>\n",
       "    </tr>\n",
       "  </thead>\n",
       "  <tbody>\n",
       "    <tr>\n",
       "      <th>0</th>\n",
       "      <td>51.1</td>\n",
       "      <td>-0.440763</td>\n",
       "      <td>0.251582</td>\n",
       "      <td>0.251582</td>\n",
       "      <td>Y</td>\n",
       "      <td>0.93</td>\n",
       "      <td>17.5</td>\n",
       "      <td>8.91</td>\n",
       "      <td>0.18</td>\n",
       "      <td>6.09</td>\n",
       "      <td>...</td>\n",
       "      <td>0.028142</td>\n",
       "      <td>0.828850</td>\n",
       "      <td>5.211708</td>\n",
       "      <td>-2.879647</td>\n",
       "      <td>0.251582</td>\n",
       "      <td>0.251582</td>\n",
       "      <td>0.304877</td>\n",
       "      <td>0.053295</td>\n",
       "      <td>0.549218</td>\n",
       "      <td>0.549218</td>\n",
       "    </tr>\n",
       "    <tr>\n",
       "      <th>1</th>\n",
       "      <td>51.5</td>\n",
       "      <td>7.599754</td>\n",
       "      <td>0.165104</td>\n",
       "      <td>0.165104</td>\n",
       "      <td>N</td>\n",
       "      <td>1.19</td>\n",
       "      <td>19.2</td>\n",
       "      <td>8.70</td>\n",
       "      <td>0.19</td>\n",
       "      <td>4.98</td>\n",
       "      <td>...</td>\n",
       "      <td>0.068126</td>\n",
       "      <td>0.860725</td>\n",
       "      <td>5.202722</td>\n",
       "      <td>3.931199</td>\n",
       "      <td>0.165104</td>\n",
       "      <td>0.165104</td>\n",
       "      <td>0.303256</td>\n",
       "      <td>0.138151</td>\n",
       "      <td>0.505036</td>\n",
       "      <td>0.505036</td>\n",
       "    </tr>\n",
       "    <tr>\n",
       "      <th>2</th>\n",
       "      <td>59.1</td>\n",
       "      <td>5.020447</td>\n",
       "      <td>0.187634</td>\n",
       "      <td>0.187634</td>\n",
       "      <td>N</td>\n",
       "      <td>0.54</td>\n",
       "      <td>19.1</td>\n",
       "      <td>5.22</td>\n",
       "      <td>0.19</td>\n",
       "      <td>3.25</td>\n",
       "      <td>...</td>\n",
       "      <td>0.074962</td>\n",
       "      <td>0.855382</td>\n",
       "      <td>5.851735</td>\n",
       "      <td>4.175071</td>\n",
       "      <td>0.187634</td>\n",
       "      <td>0.187634</td>\n",
       "      <td>0.277184</td>\n",
       "      <td>0.089550</td>\n",
       "      <td>0.526025</td>\n",
       "      <td>0.526025</td>\n",
       "    </tr>\n",
       "    <tr>\n",
       "      <th>3</th>\n",
       "      <td>52.5</td>\n",
       "      <td>0.947792</td>\n",
       "      <td>0.211297</td>\n",
       "      <td>0.211297</td>\n",
       "      <td>N</td>\n",
       "      <td>0.98</td>\n",
       "      <td>19.2</td>\n",
       "      <td>8.04</td>\n",
       "      <td>0.20</td>\n",
       "      <td>4.99</td>\n",
       "      <td>...</td>\n",
       "      <td>0.053125</td>\n",
       "      <td>0.839637</td>\n",
       "      <td>5.426741</td>\n",
       "      <td>1.519044</td>\n",
       "      <td>0.211297</td>\n",
       "      <td>0.211297</td>\n",
       "      <td>0.300632</td>\n",
       "      <td>0.089335</td>\n",
       "      <td>0.525239</td>\n",
       "      <td>0.525239</td>\n",
       "    </tr>\n",
       "    <tr>\n",
       "      <th>4</th>\n",
       "      <td>56.2</td>\n",
       "      <td>1.102032</td>\n",
       "      <td>0.144506</td>\n",
       "      <td>0.144506</td>\n",
       "      <td>N</td>\n",
       "      <td>0.34</td>\n",
       "      <td>20.4</td>\n",
       "      <td>5.88</td>\n",
       "      <td>0.20</td>\n",
       "      <td>2.58</td>\n",
       "      <td>...</td>\n",
       "      <td>0.033103</td>\n",
       "      <td>0.844054</td>\n",
       "      <td>6.297377</td>\n",
       "      <td>2.489832</td>\n",
       "      <td>0.144506</td>\n",
       "      <td>0.144506</td>\n",
       "      <td>0.290284</td>\n",
       "      <td>0.145777</td>\n",
       "      <td>0.438875</td>\n",
       "      <td>0.438875</td>\n",
       "    </tr>\n",
       "  </tbody>\n",
       "</table>\n",
       "<p>5 rows × 89 columns</p>\n",
       "</div>"
      ],
      "text/plain": [
       "   SiO2_Liq  P_kbar_calc  Eq_Test_Kd_Fe_Mg_Fet  Eq_Test_Kd_Fe_Mg_Fe2  \\\n",
       "0      51.1    -0.440763              0.251582              0.251582   \n",
       "1      51.5     7.599754              0.165104              0.165104   \n",
       "2      59.1     5.020447              0.187634              0.187634   \n",
       "3      52.5     0.947792              0.211297              0.211297   \n",
       "4      56.2     1.102032              0.144506              0.144506   \n",
       "\n",
       "  Kd Eq (Put2008+-0.06)  TiO2_Liq  Al2O3_Liq  FeOt_Liq  MnO_Liq  MgO_Liq  ...  \\\n",
       "0                     Y      0.93       17.5      8.91     0.18     6.09  ...   \n",
       "1                     N      1.19       19.2      8.70     0.19     4.98  ...   \n",
       "2                     N      0.54       19.1      5.22     0.19     3.25  ...   \n",
       "3                     N      0.98       19.2      8.04     0.20     4.99  ...   \n",
       "4                     N      0.34       20.4      5.88     0.20     2.58  ...   \n",
       "\n",
       "     Di_Opx  Mgno_OPX  ln_Fm2Si2O6_liq  ln_FmAl2SiO6_liq  Kd_Fe_Mg_Fet  \\\n",
       "0  0.028142  0.828850         5.211708         -2.879647      0.251582   \n",
       "1  0.068126  0.860725         5.202722          3.931199      0.165104   \n",
       "2  0.074962  0.855382         5.851735          4.175071      0.187634   \n",
       "3  0.053125  0.839637         5.426741          1.519044      0.211297   \n",
       "4  0.033103  0.844054         6.297377          2.489832      0.144506   \n",
       "\n",
       "   Kd_Fe_Mg_Fe2  Ideal_Kd  Delta_Kd_Fe_Mg_Fe2  Mgno_Liq_noFe3  Mgno_Liq_Fe2  \n",
       "0      0.251582  0.304877            0.053295        0.549218      0.549218  \n",
       "1      0.165104  0.303256            0.138151        0.505036      0.505036  \n",
       "2      0.187634  0.277184            0.089550        0.526025      0.526025  \n",
       "3      0.211297  0.300632            0.089335        0.525239      0.525239  \n",
       "4      0.144506  0.290284            0.145777        0.438875      0.438875  \n",
       "\n",
       "[5 rows x 89 columns]"
      ]
     },
     "execution_count": 10,
     "metadata": {},
     "output_type": "execute_result"
    }
   ],
   "source": [
    "Temp_P29a_0H2O=pt.calculate_opx_liq_press(opx_comps=Opxs, liq_comps=Liqs, equationP=\"P_Put2008_eq29a\", T=1300, H2O_Liq=0, eq_tests=True)\n",
    "Temp_P29a_0H2O"
   ]
  },
  {
   "cell_type": "markdown",
   "id": "54209b54-0b46-437d-bdfd-433b49ec0aa5",
   "metadata": {},
   "source": [
    "## Can also specify a different Fe3FeT_Liq ratio, as delta Kd is calculated using just Fe2+ in the melt\n",
    "- you can compare the equilibrium tests from Fet and Fe2 in the output columns. For the equilibrium test, we only use Fe2+"
   ]
  },
  {
   "cell_type": "code",
   "execution_count": 11,
   "id": "bd31e7fa-70b0-4ea2-9f6b-2bc09d21f824",
   "metadata": {},
   "outputs": [
    {
     "name": "stderr",
     "output_type": "stream",
     "text": [
      "C:\\Users\\penny\\anaconda3\\lib\\site-packages\\ipykernel\\ipkernel.py:283: DeprecationWarning: `should_run_async` will not call `transform_cell` automatically in the future. Please pass the result to `transformed_cell` argument and any exception that happen during thetransform in `preprocessing_exc_tuple` in IPython 7.17 and above.\n",
      "  and should_run_async(code)\n"
     ]
    },
    {
     "data": {
      "text/html": [
       "<div>\n",
       "<style scoped>\n",
       "    .dataframe tbody tr th:only-of-type {\n",
       "        vertical-align: middle;\n",
       "    }\n",
       "\n",
       "    .dataframe tbody tr th {\n",
       "        vertical-align: top;\n",
       "    }\n",
       "\n",
       "    .dataframe thead th {\n",
       "        text-align: right;\n",
       "    }\n",
       "</style>\n",
       "<table border=\"1\" class=\"dataframe\">\n",
       "  <thead>\n",
       "    <tr style=\"text-align: right;\">\n",
       "      <th></th>\n",
       "      <th>SiO2_Liq</th>\n",
       "      <th>P_kbar_calc</th>\n",
       "      <th>Eq_Test_Kd_Fe_Mg_Fet</th>\n",
       "      <th>Eq_Test_Kd_Fe_Mg_Fe2</th>\n",
       "      <th>Kd Eq (Put2008+-0.06)</th>\n",
       "      <th>TiO2_Liq</th>\n",
       "      <th>Al2O3_Liq</th>\n",
       "      <th>FeOt_Liq</th>\n",
       "      <th>MnO_Liq</th>\n",
       "      <th>MgO_Liq</th>\n",
       "      <th>...</th>\n",
       "      <th>Di_Opx</th>\n",
       "      <th>Mgno_OPX</th>\n",
       "      <th>ln_Fm2Si2O6_liq</th>\n",
       "      <th>ln_FmAl2SiO6_liq</th>\n",
       "      <th>Kd_Fe_Mg_Fet</th>\n",
       "      <th>Kd_Fe_Mg_Fe2</th>\n",
       "      <th>Ideal_Kd</th>\n",
       "      <th>Delta_Kd_Fe_Mg_Fe2</th>\n",
       "      <th>Mgno_Liq_noFe3</th>\n",
       "      <th>Mgno_Liq_Fe2</th>\n",
       "    </tr>\n",
       "  </thead>\n",
       "  <tbody>\n",
       "    <tr>\n",
       "      <th>0</th>\n",
       "      <td>51.1</td>\n",
       "      <td>-0.440763</td>\n",
       "      <td>0.251582</td>\n",
       "      <td>0.359403</td>\n",
       "      <td>Y</td>\n",
       "      <td>0.93</td>\n",
       "      <td>17.5</td>\n",
       "      <td>8.91</td>\n",
       "      <td>0.18</td>\n",
       "      <td>6.09</td>\n",
       "      <td>...</td>\n",
       "      <td>0.028142</td>\n",
       "      <td>0.828850</td>\n",
       "      <td>5.211708</td>\n",
       "      <td>-2.879647</td>\n",
       "      <td>0.251582</td>\n",
       "      <td>0.359403</td>\n",
       "      <td>0.304877</td>\n",
       "      <td>0.054526</td>\n",
       "      <td>0.549218</td>\n",
       "      <td>0.635106</td>\n",
       "    </tr>\n",
       "    <tr>\n",
       "      <th>1</th>\n",
       "      <td>51.5</td>\n",
       "      <td>7.599754</td>\n",
       "      <td>0.165104</td>\n",
       "      <td>0.235863</td>\n",
       "      <td>N</td>\n",
       "      <td>1.19</td>\n",
       "      <td>19.2</td>\n",
       "      <td>8.70</td>\n",
       "      <td>0.19</td>\n",
       "      <td>4.98</td>\n",
       "      <td>...</td>\n",
       "      <td>0.068126</td>\n",
       "      <td>0.860725</td>\n",
       "      <td>5.202722</td>\n",
       "      <td>3.931199</td>\n",
       "      <td>0.165104</td>\n",
       "      <td>0.235863</td>\n",
       "      <td>0.303256</td>\n",
       "      <td>0.067392</td>\n",
       "      <td>0.505036</td>\n",
       "      <td>0.593105</td>\n",
       "    </tr>\n",
       "    <tr>\n",
       "      <th>2</th>\n",
       "      <td>59.1</td>\n",
       "      <td>5.020447</td>\n",
       "      <td>0.187634</td>\n",
       "      <td>0.268049</td>\n",
       "      <td>Y</td>\n",
       "      <td>0.54</td>\n",
       "      <td>19.1</td>\n",
       "      <td>5.22</td>\n",
       "      <td>0.19</td>\n",
       "      <td>3.25</td>\n",
       "      <td>...</td>\n",
       "      <td>0.074962</td>\n",
       "      <td>0.855382</td>\n",
       "      <td>5.851735</td>\n",
       "      <td>4.175071</td>\n",
       "      <td>0.187634</td>\n",
       "      <td>0.268049</td>\n",
       "      <td>0.277184</td>\n",
       "      <td>0.009135</td>\n",
       "      <td>0.526025</td>\n",
       "      <td>0.613220</td>\n",
       "    </tr>\n",
       "    <tr>\n",
       "      <th>3</th>\n",
       "      <td>52.5</td>\n",
       "      <td>0.947792</td>\n",
       "      <td>0.211297</td>\n",
       "      <td>0.301853</td>\n",
       "      <td>Y</td>\n",
       "      <td>0.98</td>\n",
       "      <td>19.2</td>\n",
       "      <td>8.04</td>\n",
       "      <td>0.20</td>\n",
       "      <td>4.99</td>\n",
       "      <td>...</td>\n",
       "      <td>0.053125</td>\n",
       "      <td>0.839637</td>\n",
       "      <td>5.426741</td>\n",
       "      <td>1.519044</td>\n",
       "      <td>0.211297</td>\n",
       "      <td>0.301853</td>\n",
       "      <td>0.300632</td>\n",
       "      <td>0.001221</td>\n",
       "      <td>0.525239</td>\n",
       "      <td>0.612473</td>\n",
       "    </tr>\n",
       "    <tr>\n",
       "      <th>4</th>\n",
       "      <td>56.2</td>\n",
       "      <td>1.102032</td>\n",
       "      <td>0.144506</td>\n",
       "      <td>0.206437</td>\n",
       "      <td>N</td>\n",
       "      <td>0.34</td>\n",
       "      <td>20.4</td>\n",
       "      <td>5.88</td>\n",
       "      <td>0.20</td>\n",
       "      <td>2.58</td>\n",
       "      <td>...</td>\n",
       "      <td>0.033103</td>\n",
       "      <td>0.844054</td>\n",
       "      <td>6.297377</td>\n",
       "      <td>2.489832</td>\n",
       "      <td>0.144506</td>\n",
       "      <td>0.206437</td>\n",
       "      <td>0.290284</td>\n",
       "      <td>0.083846</td>\n",
       "      <td>0.438875</td>\n",
       "      <td>0.527708</td>\n",
       "    </tr>\n",
       "  </tbody>\n",
       "</table>\n",
       "<p>5 rows × 89 columns</p>\n",
       "</div>"
      ],
      "text/plain": [
       "   SiO2_Liq  P_kbar_calc  Eq_Test_Kd_Fe_Mg_Fet  Eq_Test_Kd_Fe_Mg_Fe2  \\\n",
       "0      51.1    -0.440763              0.251582              0.359403   \n",
       "1      51.5     7.599754              0.165104              0.235863   \n",
       "2      59.1     5.020447              0.187634              0.268049   \n",
       "3      52.5     0.947792              0.211297              0.301853   \n",
       "4      56.2     1.102032              0.144506              0.206437   \n",
       "\n",
       "  Kd Eq (Put2008+-0.06)  TiO2_Liq  Al2O3_Liq  FeOt_Liq  MnO_Liq  MgO_Liq  ...  \\\n",
       "0                     Y      0.93       17.5      8.91     0.18     6.09  ...   \n",
       "1                     N      1.19       19.2      8.70     0.19     4.98  ...   \n",
       "2                     Y      0.54       19.1      5.22     0.19     3.25  ...   \n",
       "3                     Y      0.98       19.2      8.04     0.20     4.99  ...   \n",
       "4                     N      0.34       20.4      5.88     0.20     2.58  ...   \n",
       "\n",
       "     Di_Opx  Mgno_OPX  ln_Fm2Si2O6_liq  ln_FmAl2SiO6_liq  Kd_Fe_Mg_Fet  \\\n",
       "0  0.028142  0.828850         5.211708         -2.879647      0.251582   \n",
       "1  0.068126  0.860725         5.202722          3.931199      0.165104   \n",
       "2  0.074962  0.855382         5.851735          4.175071      0.187634   \n",
       "3  0.053125  0.839637         5.426741          1.519044      0.211297   \n",
       "4  0.033103  0.844054         6.297377          2.489832      0.144506   \n",
       "\n",
       "   Kd_Fe_Mg_Fe2  Ideal_Kd  Delta_Kd_Fe_Mg_Fe2  Mgno_Liq_noFe3  Mgno_Liq_Fe2  \n",
       "0      0.359403  0.304877            0.054526        0.549218      0.635106  \n",
       "1      0.235863  0.303256            0.067392        0.505036      0.593105  \n",
       "2      0.268049  0.277184            0.009135        0.526025      0.613220  \n",
       "3      0.301853  0.300632            0.001221        0.525239      0.612473  \n",
       "4      0.206437  0.290284            0.083846        0.438875      0.527708  \n",
       "\n",
       "[5 rows x 89 columns]"
      ]
     },
     "execution_count": 11,
     "metadata": {},
     "output_type": "execute_result"
    }
   ],
   "source": [
    "Temp_P29a_0H2O_30Fe=pt.calculate_opx_liq_press(opx_comps=Opxs, liq_comps=Liqs, equationP=\"P_Put2008_eq29a\", T=1300, H2O_Liq=0, \n",
    "                                               eq_tests=True, Fe3FeT_Liq=0.3)\n",
    "Temp_P29a_0H2O_30Fe"
   ]
  },
  {
   "cell_type": "markdown",
   "id": "9e135427-f3c4-4071-aacb-c95770ad12c3",
   "metadata": {},
   "source": [
    "# Example 3 - Iterating pressure and temperature\n",
    "- In reality, unles you are an experimentalist, you rarely know pressure and temperature\n",
    "- In Keith Putirka's spreadsheets, you can link up columns to iterate P and T towards a solution, this can be done here using the function calculate_opx_liq_press_temp"
   ]
  },
  {
   "cell_type": "markdown",
   "id": "96bc6de4-ba56-411c-8b52-9a15e31c9414",
   "metadata": {},
   "source": [
    "## Here, we iterate equation 29b from Putirka (2008) for P, and Temp from Beattie (1993) for temperature\n",
    "- Without specifying anything else, you get a dataframe with columns for calculated pressure and temperature"
   ]
  },
  {
   "cell_type": "code",
   "execution_count": 12,
   "id": "05abbb47-74a4-4c67-9d67-e3b8e57edbe2",
   "metadata": {},
   "outputs": [
    {
     "name": "stderr",
     "output_type": "stream",
     "text": [
      "C:\\Users\\penny\\anaconda3\\lib\\site-packages\\ipykernel\\ipkernel.py:283: DeprecationWarning: `should_run_async` will not call `transform_cell` automatically in the future. Please pass the result to `transformed_cell` argument and any exception that happen during thetransform in `preprocessing_exc_tuple` in IPython 7.17 and above.\n",
      "  and should_run_async(code)\n"
     ]
    },
    {
     "data": {
      "text/html": [
       "<div>\n",
       "<style scoped>\n",
       "    .dataframe tbody tr th:only-of-type {\n",
       "        vertical-align: middle;\n",
       "    }\n",
       "\n",
       "    .dataframe tbody tr th {\n",
       "        vertical-align: top;\n",
       "    }\n",
       "\n",
       "    .dataframe thead th {\n",
       "        text-align: right;\n",
       "    }\n",
       "</style>\n",
       "<table border=\"1\" class=\"dataframe\">\n",
       "  <thead>\n",
       "    <tr style=\"text-align: right;\">\n",
       "      <th></th>\n",
       "      <th>P_kbar_calc</th>\n",
       "      <th>T_K_calc</th>\n",
       "    </tr>\n",
       "  </thead>\n",
       "  <tbody>\n",
       "    <tr>\n",
       "      <th>0</th>\n",
       "      <td>-2.083363</td>\n",
       "      <td>1396.863533</td>\n",
       "    </tr>\n",
       "    <tr>\n",
       "      <th>1</th>\n",
       "      <td>15.124832</td>\n",
       "      <td>1499.003345</td>\n",
       "    </tr>\n",
       "    <tr>\n",
       "      <th>2</th>\n",
       "      <td>15.723512</td>\n",
       "      <td>1496.583095</td>\n",
       "    </tr>\n",
       "    <tr>\n",
       "      <th>3</th>\n",
       "      <td>6.616612</td>\n",
       "      <td>1445.263817</td>\n",
       "    </tr>\n",
       "    <tr>\n",
       "      <th>4</th>\n",
       "      <td>6.404897</td>\n",
       "      <td>1400.627400</td>\n",
       "    </tr>\n",
       "  </tbody>\n",
       "</table>\n",
       "</div>"
      ],
      "text/plain": [
       "   P_kbar_calc     T_K_calc\n",
       "0    -2.083363  1396.863533\n",
       "1    15.124832  1499.003345\n",
       "2    15.723512  1496.583095\n",
       "3     6.616612  1445.263817\n",
       "4     6.404897  1400.627400"
      ]
     },
     "execution_count": 12,
     "metadata": {},
     "output_type": "execute_result"
    }
   ],
   "source": [
    "PT_iter_29b_Beatt=pt.calculate_opx_liq_press_temp(opx_comps=Opxs, liq_comps=Liqs, equationP=\"P_Put2008_eq29b\", equationT=\"T_Beatt1993_opx\")\n",
    "PT_iter_29b_Beatt"
   ]
  },
  {
   "cell_type": "markdown",
   "id": "f5858da0-3945-4796-a4f9-18ee87a71f28",
   "metadata": {},
   "source": [
    "- Again, you can also specify equilibrium tests"
   ]
  },
  {
   "cell_type": "code",
   "execution_count": 13,
   "id": "d3f8de62-5cf5-4139-bc0b-6e7c8c6653c4",
   "metadata": {},
   "outputs": [
    {
     "name": "stderr",
     "output_type": "stream",
     "text": [
      "C:\\Users\\penny\\anaconda3\\lib\\site-packages\\ipykernel\\ipkernel.py:283: DeprecationWarning: `should_run_async` will not call `transform_cell` automatically in the future. Please pass the result to `transformed_cell` argument and any exception that happen during thetransform in `preprocessing_exc_tuple` in IPython 7.17 and above.\n",
      "  and should_run_async(code)\n"
     ]
    },
    {
     "data": {
      "text/html": [
       "<div>\n",
       "<style scoped>\n",
       "    .dataframe tbody tr th:only-of-type {\n",
       "        vertical-align: middle;\n",
       "    }\n",
       "\n",
       "    .dataframe tbody tr th {\n",
       "        vertical-align: top;\n",
       "    }\n",
       "\n",
       "    .dataframe thead th {\n",
       "        text-align: right;\n",
       "    }\n",
       "</style>\n",
       "<table border=\"1\" class=\"dataframe\">\n",
       "  <thead>\n",
       "    <tr style=\"text-align: right;\">\n",
       "      <th></th>\n",
       "      <th>P_kbar_calc</th>\n",
       "      <th>T_K_calc</th>\n",
       "      <th>SiO2_Liq</th>\n",
       "      <th>Eq_Test_Kd_Fe_Mg_Fet</th>\n",
       "      <th>Eq_Test_Kd_Fe_Mg_Fe2</th>\n",
       "      <th>Kd Eq (Put2008+-0.06)</th>\n",
       "      <th>TiO2_Liq</th>\n",
       "      <th>Al2O3_Liq</th>\n",
       "      <th>FeOt_Liq</th>\n",
       "      <th>MnO_Liq</th>\n",
       "      <th>...</th>\n",
       "      <th>Di_Opx</th>\n",
       "      <th>Mgno_OPX</th>\n",
       "      <th>ln_Fm2Si2O6_liq</th>\n",
       "      <th>ln_FmAl2SiO6_liq</th>\n",
       "      <th>Kd_Fe_Mg_Fet</th>\n",
       "      <th>Kd_Fe_Mg_Fe2</th>\n",
       "      <th>Ideal_Kd</th>\n",
       "      <th>Delta_Kd_Fe_Mg_Fe2</th>\n",
       "      <th>Mgno_Liq_noFe3</th>\n",
       "      <th>Mgno_Liq_Fe2</th>\n",
       "    </tr>\n",
       "  </thead>\n",
       "  <tbody>\n",
       "    <tr>\n",
       "      <th>0</th>\n",
       "      <td>-2.083363</td>\n",
       "      <td>1396.863533</td>\n",
       "      <td>51.1</td>\n",
       "      <td>0.251582</td>\n",
       "      <td>0.251582</td>\n",
       "      <td>Y</td>\n",
       "      <td>0.93</td>\n",
       "      <td>17.5</td>\n",
       "      <td>8.91</td>\n",
       "      <td>0.18</td>\n",
       "      <td>...</td>\n",
       "      <td>0.028142</td>\n",
       "      <td>0.828850</td>\n",
       "      <td>5.211708</td>\n",
       "      <td>-2.879647</td>\n",
       "      <td>0.251582</td>\n",
       "      <td>0.251582</td>\n",
       "      <td>0.304877</td>\n",
       "      <td>0.053295</td>\n",
       "      <td>0.549218</td>\n",
       "      <td>0.549218</td>\n",
       "    </tr>\n",
       "    <tr>\n",
       "      <th>1</th>\n",
       "      <td>15.124832</td>\n",
       "      <td>1499.003345</td>\n",
       "      <td>51.5</td>\n",
       "      <td>0.165104</td>\n",
       "      <td>0.165104</td>\n",
       "      <td>N</td>\n",
       "      <td>1.19</td>\n",
       "      <td>19.2</td>\n",
       "      <td>8.70</td>\n",
       "      <td>0.19</td>\n",
       "      <td>...</td>\n",
       "      <td>0.068126</td>\n",
       "      <td>0.860725</td>\n",
       "      <td>5.202722</td>\n",
       "      <td>3.931199</td>\n",
       "      <td>0.165104</td>\n",
       "      <td>0.165104</td>\n",
       "      <td>0.303256</td>\n",
       "      <td>0.138151</td>\n",
       "      <td>0.505036</td>\n",
       "      <td>0.505036</td>\n",
       "    </tr>\n",
       "    <tr>\n",
       "      <th>2</th>\n",
       "      <td>15.723512</td>\n",
       "      <td>1496.583095</td>\n",
       "      <td>59.1</td>\n",
       "      <td>0.187634</td>\n",
       "      <td>0.187634</td>\n",
       "      <td>N</td>\n",
       "      <td>0.54</td>\n",
       "      <td>19.1</td>\n",
       "      <td>5.22</td>\n",
       "      <td>0.19</td>\n",
       "      <td>...</td>\n",
       "      <td>0.074962</td>\n",
       "      <td>0.855382</td>\n",
       "      <td>5.851735</td>\n",
       "      <td>4.175071</td>\n",
       "      <td>0.187634</td>\n",
       "      <td>0.187634</td>\n",
       "      <td>0.277184</td>\n",
       "      <td>0.089550</td>\n",
       "      <td>0.526025</td>\n",
       "      <td>0.526025</td>\n",
       "    </tr>\n",
       "    <tr>\n",
       "      <th>3</th>\n",
       "      <td>6.616612</td>\n",
       "      <td>1445.263817</td>\n",
       "      <td>52.5</td>\n",
       "      <td>0.211297</td>\n",
       "      <td>0.211297</td>\n",
       "      <td>N</td>\n",
       "      <td>0.98</td>\n",
       "      <td>19.2</td>\n",
       "      <td>8.04</td>\n",
       "      <td>0.20</td>\n",
       "      <td>...</td>\n",
       "      <td>0.053125</td>\n",
       "      <td>0.839637</td>\n",
       "      <td>5.426741</td>\n",
       "      <td>1.519044</td>\n",
       "      <td>0.211297</td>\n",
       "      <td>0.211297</td>\n",
       "      <td>0.300632</td>\n",
       "      <td>0.089335</td>\n",
       "      <td>0.525239</td>\n",
       "      <td>0.525239</td>\n",
       "    </tr>\n",
       "    <tr>\n",
       "      <th>4</th>\n",
       "      <td>6.404897</td>\n",
       "      <td>1400.627400</td>\n",
       "      <td>56.2</td>\n",
       "      <td>0.144506</td>\n",
       "      <td>0.144506</td>\n",
       "      <td>N</td>\n",
       "      <td>0.34</td>\n",
       "      <td>20.4</td>\n",
       "      <td>5.88</td>\n",
       "      <td>0.20</td>\n",
       "      <td>...</td>\n",
       "      <td>0.033103</td>\n",
       "      <td>0.844054</td>\n",
       "      <td>6.297377</td>\n",
       "      <td>2.489832</td>\n",
       "      <td>0.144506</td>\n",
       "      <td>0.144506</td>\n",
       "      <td>0.290284</td>\n",
       "      <td>0.145777</td>\n",
       "      <td>0.438875</td>\n",
       "      <td>0.438875</td>\n",
       "    </tr>\n",
       "  </tbody>\n",
       "</table>\n",
       "<p>5 rows × 90 columns</p>\n",
       "</div>"
      ],
      "text/plain": [
       "   P_kbar_calc     T_K_calc  SiO2_Liq  Eq_Test_Kd_Fe_Mg_Fet  \\\n",
       "0    -2.083363  1396.863533      51.1              0.251582   \n",
       "1    15.124832  1499.003345      51.5              0.165104   \n",
       "2    15.723512  1496.583095      59.1              0.187634   \n",
       "3     6.616612  1445.263817      52.5              0.211297   \n",
       "4     6.404897  1400.627400      56.2              0.144506   \n",
       "\n",
       "   Eq_Test_Kd_Fe_Mg_Fe2 Kd Eq (Put2008+-0.06)  TiO2_Liq  Al2O3_Liq  FeOt_Liq  \\\n",
       "0              0.251582                     Y      0.93       17.5      8.91   \n",
       "1              0.165104                     N      1.19       19.2      8.70   \n",
       "2              0.187634                     N      0.54       19.1      5.22   \n",
       "3              0.211297                     N      0.98       19.2      8.04   \n",
       "4              0.144506                     N      0.34       20.4      5.88   \n",
       "\n",
       "   MnO_Liq  ...    Di_Opx  Mgno_OPX  ln_Fm2Si2O6_liq  ln_FmAl2SiO6_liq  \\\n",
       "0     0.18  ...  0.028142  0.828850         5.211708         -2.879647   \n",
       "1     0.19  ...  0.068126  0.860725         5.202722          3.931199   \n",
       "2     0.19  ...  0.074962  0.855382         5.851735          4.175071   \n",
       "3     0.20  ...  0.053125  0.839637         5.426741          1.519044   \n",
       "4     0.20  ...  0.033103  0.844054         6.297377          2.489832   \n",
       "\n",
       "   Kd_Fe_Mg_Fet  Kd_Fe_Mg_Fe2  Ideal_Kd  Delta_Kd_Fe_Mg_Fe2  Mgno_Liq_noFe3  \\\n",
       "0      0.251582      0.251582  0.304877            0.053295        0.549218   \n",
       "1      0.165104      0.165104  0.303256            0.138151        0.505036   \n",
       "2      0.187634      0.187634  0.277184            0.089550        0.526025   \n",
       "3      0.211297      0.211297  0.300632            0.089335        0.525239   \n",
       "4      0.144506      0.144506  0.290284            0.145777        0.438875   \n",
       "\n",
       "   Mgno_Liq_Fe2  \n",
       "0      0.549218  \n",
       "1      0.505036  \n",
       "2      0.526025  \n",
       "3      0.525239  \n",
       "4      0.438875  \n",
       "\n",
       "[5 rows x 90 columns]"
      ]
     },
     "execution_count": 13,
     "metadata": {},
     "output_type": "execute_result"
    }
   ],
   "source": [
    "PT_iter_29b_Beatt_EqTests=pt.calculate_opx_liq_press_temp(opx_comps=Opxs, liq_comps=Liqs, equationP=\"P_Put2008_eq29b\", equationT=\"T_Beatt1993_opx\", eq_tests=True)\n",
    "PT_iter_29b_Beatt_EqTests"
   ]
  },
  {
   "cell_type": "markdown",
   "id": "672b2568-af5b-49d4-aca1-491ea964d5de",
   "metadata": {},
   "source": [
    "# Example 4: Orthopyroxene only barometry\n",
    "- very similar to opx-liq functions, just dont need to specify liquid compositions\n",
    "- Most common problem is that equation 29c uses the ln of the Cr2O3 component, which if you dont enter any Cr, means the function returns a NaN (as you can't ln a zero). "
   ]
  },
  {
   "cell_type": "code",
   "execution_count": 14,
   "id": "9db46a52-bb71-4bdb-b927-92817dd8229e",
   "metadata": {},
   "outputs": [
    {
     "name": "stderr",
     "output_type": "stream",
     "text": [
      "C:\\Users\\penny\\anaconda3\\lib\\site-packages\\ipykernel\\ipkernel.py:283: DeprecationWarning: `should_run_async` will not call `transform_cell` automatically in the future. Please pass the result to `transformed_cell` argument and any exception that happen during thetransform in `preprocessing_exc_tuple` in IPython 7.17 and above.\n",
      "  and should_run_async(code)\n",
      "../..\\Thermobar\\orthopyroxene_thermobarometry.py:152: UserWarning: The selected barometer uses the log of Cr2O3 component of Opx, which is zero for some of your compositions. This means the function will return infinity.\n",
      "  w.warn('The selected barometer uses the log of Cr2O3 component of '\n",
      "C:\\Users\\penny\\anaconda3\\lib\\site-packages\\pandas\\core\\arraylike.py:358: RuntimeWarning: divide by zero encountered in log\n",
      "  result = getattr(ufunc, method)(*inputs, **kwargs)\n"
     ]
    },
    {
     "data": {
      "text/plain": [
       "0    0.631893\n",
       "1         NaN\n",
       "2    5.410426\n",
       "3    0.482388\n",
       "4    0.397185\n",
       "dtype: float64"
      ]
     },
     "execution_count": 14,
     "metadata": {},
     "output_type": "execute_result"
    }
   ],
   "source": [
    "Press=pt.calculate_opx_only_press(opx_comps=Opxs, equationP=\"P_Put2008_eq29c\", T=1300)\n",
    "Press"
   ]
  },
  {
   "cell_type": "markdown",
   "id": "33fd4d92-74bc-4397-806c-4c94b674c526",
   "metadata": {},
   "source": [
    "# Example 5: Plotting orthopyroxene compositions on a rhodes diagram\n",
    "- Option 1, specify simple=True, just uses 0.29 +-0.07 from Putirka (2008)\n",
    "- Option 2, specify a liquid composition (say lots of opxs from a single lava flow), calculates mean Si cation fraction for all liquids, uses this to calculate KD\n",
    "- Option 3, specify a min and max Kd"
   ]
  },
  {
   "cell_type": "markdown",
   "id": "d3dadb39-8f65-48f9-82e1-3e7b33637b98",
   "metadata": {},
   "source": [
    "## First calculate Mg# for opx and liquid (can either treat FeT as Fe2, or partition into Fe2 and Fe3, only calculated Kd using Fe2)"
   ]
  },
  {
   "cell_type": "code",
   "execution_count": 15,
   "id": "7db0ecd7-fb9a-4972-a995-10f9d6a8f445",
   "metadata": {},
   "outputs": [
    {
     "name": "stderr",
     "output_type": "stream",
     "text": [
      "C:\\Users\\penny\\anaconda3\\lib\\site-packages\\ipykernel\\ipkernel.py:283: DeprecationWarning: `should_run_async` will not call `transform_cell` automatically in the future. Please pass the result to `transformed_cell` argument and any exception that happen during thetransform in `preprocessing_exc_tuple` in IPython 7.17 and above.\n",
      "  and should_run_async(code)\n"
     ]
    }
   ],
   "source": [
    "cpx_comps_Fe3=pt.calculate_orthopyroxene_liquid_components(liq_comps=Liqs, opx_comps=Opxs, Fe3FeT_Liq=0.2)"
   ]
  },
  {
   "cell_type": "code",
   "execution_count": 16,
   "id": "d62bc05b-9a1f-4e8c-8a4d-41f77c48821e",
   "metadata": {},
   "outputs": [
    {
     "name": "stderr",
     "output_type": "stream",
     "text": [
      "C:\\Users\\penny\\anaconda3\\lib\\site-packages\\ipykernel\\ipkernel.py:283: DeprecationWarning: `should_run_async` will not call `transform_cell` automatically in the future. Please pass the result to `transformed_cell` argument and any exception that happen during thetransform in `preprocessing_exc_tuple` in IPython 7.17 and above.\n",
      "  and should_run_async(code)\n"
     ]
    },
    {
     "data": {
      "text/html": [
       "<div>\n",
       "<style scoped>\n",
       "    .dataframe tbody tr th:only-of-type {\n",
       "        vertical-align: middle;\n",
       "    }\n",
       "\n",
       "    .dataframe tbody tr th {\n",
       "        vertical-align: top;\n",
       "    }\n",
       "\n",
       "    .dataframe thead th {\n",
       "        text-align: right;\n",
       "    }\n",
       "</style>\n",
       "<table border=\"1\" class=\"dataframe\">\n",
       "  <thead>\n",
       "    <tr style=\"text-align: right;\">\n",
       "      <th></th>\n",
       "      <th>Mg#_Liq</th>\n",
       "      <th>Eq_Opx_Mg# (Kd=0.23)</th>\n",
       "      <th>Eq_Opx_Mg# (Kd=0.29)</th>\n",
       "      <th>Eq_Opx_Mg# (Kd=0.35)</th>\n",
       "    </tr>\n",
       "  </thead>\n",
       "  <tbody>\n",
       "    <tr>\n",
       "      <th>0</th>\n",
       "      <td>0.400000</td>\n",
       "      <td>0.743494</td>\n",
       "      <td>0.696864</td>\n",
       "      <td>0.655738</td>\n",
       "    </tr>\n",
       "    <tr>\n",
       "      <th>1</th>\n",
       "      <td>0.403030</td>\n",
       "      <td>0.745892</td>\n",
       "      <td>0.699521</td>\n",
       "      <td>0.658579</td>\n",
       "    </tr>\n",
       "    <tr>\n",
       "      <th>2</th>\n",
       "      <td>0.406061</td>\n",
       "      <td>0.748269</td>\n",
       "      <td>0.702159</td>\n",
       "      <td>0.661402</td>\n",
       "    </tr>\n",
       "    <tr>\n",
       "      <th>3</th>\n",
       "      <td>0.409091</td>\n",
       "      <td>0.750626</td>\n",
       "      <td>0.704777</td>\n",
       "      <td>0.664207</td>\n",
       "    </tr>\n",
       "    <tr>\n",
       "      <th>4</th>\n",
       "      <td>0.412121</td>\n",
       "      <td>0.752962</td>\n",
       "      <td>0.707375</td>\n",
       "      <td>0.666994</td>\n",
       "    </tr>\n",
       "  </tbody>\n",
       "</table>\n",
       "</div>"
      ],
      "text/plain": [
       "    Mg#_Liq  Eq_Opx_Mg# (Kd=0.23)  Eq_Opx_Mg# (Kd=0.29)  Eq_Opx_Mg# (Kd=0.35)\n",
       "0  0.400000              0.743494              0.696864              0.655738\n",
       "1  0.403030              0.745892              0.699521              0.658579\n",
       "2  0.406061              0.748269              0.702159              0.661402\n",
       "3  0.409091              0.750626              0.704777              0.664207\n",
       "4  0.412121              0.752962              0.707375              0.666994"
      ]
     },
     "execution_count": 16,
     "metadata": {},
     "output_type": "execute_result"
    }
   ],
   "source": [
    "# Want to calculate Mg# to show on diagram between say 0.4 and 0.7 for the glass\n",
    "eq_lines_1=pt.calculate_opx_rhodes_diagram_lines(Min_Mgno=0.4, Max_Mgno=0.7)\n",
    "eq_lines_1.head()"
   ]
  },
  {
   "cell_type": "code",
   "execution_count": 17,
   "id": "6e4f16dd-70cd-4722-8a8e-c800cdc8cdaf",
   "metadata": {},
   "outputs": [
    {
     "name": "stderr",
     "output_type": "stream",
     "text": [
      "C:\\Users\\penny\\anaconda3\\lib\\site-packages\\ipykernel\\ipkernel.py:283: DeprecationWarning: `should_run_async` will not call `transform_cell` automatically in the future. Please pass the result to `transformed_cell` argument and any exception that happen during thetransform in `preprocessing_exc_tuple` in IPython 7.17 and above.\n",
      "  and should_run_async(code)\n"
     ]
    },
    {
     "data": {
      "text/plain": [
       "<matplotlib.legend.Legend at 0x1a31414bfa0>"
      ]
     },
     "execution_count": 17,
     "metadata": {},
     "output_type": "execute_result"
    },
    {
     "data": {
      "image/png": "[encoded data removed]",
      "text/plain": [
       "<Figure size 432x360 with 1 Axes>"
      ]
     },
     "metadata": {
      "needs_background": "light"
     },
     "output_type": "display_data"
    }
   ],
   "source": [
    "fig, (ax1) = plt.subplots(1, 1, figsize = (6,5))\n",
    "ax1.plot(eq_lines_1['Mg#_Liq'], eq_lines_1['Eq_Opx_Mg# (Kd=0.23)'], ':r', label=\"K$_d$=0.23\")\n",
    "ax1.plot(eq_lines_1['Mg#_Liq'], eq_lines_1['Eq_Opx_Mg# (Kd=0.35)'], ':r', label=\"K$_d$=0.35\")\n",
    "ax1.plot(eq_lines_1['Mg#_Liq'], eq_lines_1['Eq_Opx_Mg# (Kd=0.29)'], '-r', label=\"K$_d$=0.29\")\n",
    "ax1.set_xlim([0.4, 0.7])\n",
    "ax1.plot(cpx_comps_Fe3['Mgno_Liq_noFe3'], cpx_comps_Fe3['Mgno_OPX'], '*k', mfc='yellow', ms=8, label=\"No Fe3\")\n",
    "ax1.plot(cpx_comps_Fe3['Mgno_Liq_Fe2'], cpx_comps_Fe3['Mgno_OPX'], 'dk', mfc='green', ms=8, label=\"20% Fe3\")\n",
    "ax1.legend()"
   ]
  },
  {
   "cell_type": "markdown",
   "id": "d80c728a-ffac-4853-b234-87351d886d14",
   "metadata": {},
   "source": [
    "## Or entering liquid compositions (only really recomended if liquids very similar in composition)"
   ]
  },
  {
   "cell_type": "code",
   "execution_count": 18,
   "id": "10f2630b-b10c-45f6-809d-26399710d26f",
   "metadata": {},
   "outputs": [
    {
     "name": "stderr",
     "output_type": "stream",
     "text": [
      "C:\\Users\\penny\\anaconda3\\lib\\site-packages\\ipykernel\\ipkernel.py:283: DeprecationWarning: `should_run_async` will not call `transform_cell` automatically in the future. Please pass the result to `transformed_cell` argument and any exception that happen during thetransform in `preprocessing_exc_tuple` in IPython 7.17 and above.\n",
      "  and should_run_async(code)\n"
     ]
    },
    {
     "data": {
      "text/html": [
       "<div>\n",
       "<style scoped>\n",
       "    .dataframe tbody tr th:only-of-type {\n",
       "        vertical-align: middle;\n",
       "    }\n",
       "\n",
       "    .dataframe tbody tr th {\n",
       "        vertical-align: top;\n",
       "    }\n",
       "\n",
       "    .dataframe thead th {\n",
       "        text-align: right;\n",
       "    }\n",
       "</style>\n",
       "<table border=\"1\" class=\"dataframe\">\n",
       "  <thead>\n",
       "    <tr style=\"text-align: right;\">\n",
       "      <th></th>\n",
       "      <th>Mg#_Liq</th>\n",
       "      <th>Eq_Opx_Mg# (Kd=0.23)</th>\n",
       "      <th>Eq_Opx_Mg# (Kd=0.29)</th>\n",
       "      <th>Eq_Opx_Mg# (Kd=0.35)</th>\n",
       "      <th>Kd_XSi_P2008</th>\n",
       "      <th>Eq_Opx_Mg# (Kd_XSi_P2008)</th>\n",
       "      <th>Eq_Opx_Mg# (Kd_XSi_P2008)+0.06</th>\n",
       "      <th>Eq_Opx_Mg# (Kd_XSi_P2008)-0.06</th>\n",
       "    </tr>\n",
       "  </thead>\n",
       "  <tbody>\n",
       "    <tr>\n",
       "      <th>0</th>\n",
       "      <td>0.400000</td>\n",
       "      <td>0.743494</td>\n",
       "      <td>0.696864</td>\n",
       "      <td>0.655738</td>\n",
       "      <td>0.295247</td>\n",
       "      <td>0.693063</td>\n",
       "      <td>0.652371</td>\n",
       "      <td>0.739169</td>\n",
       "    </tr>\n",
       "    <tr>\n",
       "      <th>1</th>\n",
       "      <td>0.403030</td>\n",
       "      <td>0.745892</td>\n",
       "      <td>0.699521</td>\n",
       "      <td>0.658579</td>\n",
       "      <td>0.295247</td>\n",
       "      <td>0.695739</td>\n",
       "      <td>0.655225</td>\n",
       "      <td>0.741593</td>\n",
       "    </tr>\n",
       "    <tr>\n",
       "      <th>2</th>\n",
       "      <td>0.406061</td>\n",
       "      <td>0.748269</td>\n",
       "      <td>0.702159</td>\n",
       "      <td>0.661402</td>\n",
       "      <td>0.295247</td>\n",
       "      <td>0.698396</td>\n",
       "      <td>0.658062</td>\n",
       "      <td>0.743997</td>\n",
       "    </tr>\n",
       "    <tr>\n",
       "      <th>3</th>\n",
       "      <td>0.409091</td>\n",
       "      <td>0.750626</td>\n",
       "      <td>0.704777</td>\n",
       "      <td>0.664207</td>\n",
       "      <td>0.295247</td>\n",
       "      <td>0.701033</td>\n",
       "      <td>0.660880</td>\n",
       "      <td>0.746380</td>\n",
       "    </tr>\n",
       "    <tr>\n",
       "      <th>4</th>\n",
       "      <td>0.412121</td>\n",
       "      <td>0.752962</td>\n",
       "      <td>0.707375</td>\n",
       "      <td>0.666994</td>\n",
       "      <td>0.295247</td>\n",
       "      <td>0.703650</td>\n",
       "      <td>0.663681</td>\n",
       "      <td>0.748743</td>\n",
       "    </tr>\n",
       "  </tbody>\n",
       "</table>\n",
       "</div>"
      ],
      "text/plain": [
       "    Mg#_Liq  Eq_Opx_Mg# (Kd=0.23)  Eq_Opx_Mg# (Kd=0.29)  Eq_Opx_Mg# (Kd=0.35)  \\\n",
       "0  0.400000              0.743494              0.696864              0.655738   \n",
       "1  0.403030              0.745892              0.699521              0.658579   \n",
       "2  0.406061              0.748269              0.702159              0.661402   \n",
       "3  0.409091              0.750626              0.704777              0.664207   \n",
       "4  0.412121              0.752962              0.707375              0.666994   \n",
       "\n",
       "   Kd_XSi_P2008  Eq_Opx_Mg# (Kd_XSi_P2008)  Eq_Opx_Mg# (Kd_XSi_P2008)+0.06  \\\n",
       "0      0.295247                   0.693063                        0.652371   \n",
       "1      0.295247                   0.695739                        0.655225   \n",
       "2      0.295247                   0.698396                        0.658062   \n",
       "3      0.295247                   0.701033                        0.660880   \n",
       "4      0.295247                   0.703650                        0.663681   \n",
       "\n",
       "   Eq_Opx_Mg# (Kd_XSi_P2008)-0.06  \n",
       "0                        0.739169  \n",
       "1                        0.741593  \n",
       "2                        0.743997  \n",
       "3                        0.746380  \n",
       "4                        0.748743  "
      ]
     },
     "execution_count": 18,
     "metadata": {},
     "output_type": "execute_result"
    }
   ],
   "source": [
    "# Want to calculate Mg# to show on diagram between say 0.4 and 0.7 for the glass\n",
    "eq_lines_2=pt.calculate_opx_rhodes_diagram_lines(Min_Mgno=0.4, Max_Mgno=0.7, liq_comps=Liqs)\n",
    "eq_lines_2.head()"
   ]
  },
  {
   "cell_type": "code",
   "execution_count": 20,
   "id": "8c5b8bc1-0fb1-4803-99e9-4cba5a13cbe1",
   "metadata": {},
   "outputs": [
    {
     "name": "stderr",
     "output_type": "stream",
     "text": [
      "C:\\Users\\penny\\anaconda3\\lib\\site-packages\\ipykernel\\ipkernel.py:283: DeprecationWarning: `should_run_async` will not call `transform_cell` automatically in the future. Please pass the result to `transformed_cell` argument and any exception that happen during thetransform in `preprocessing_exc_tuple` in IPython 7.17 and above.\n",
      "  and should_run_async(code)\n"
     ]
    },
    {
     "data": {
      "text/plain": [
       "<matplotlib.legend.Legend at 0x1a315894040>"
      ]
     },
     "execution_count": 20,
     "metadata": {},
     "output_type": "execute_result"
    },
    {
     "data": {
      "image/png": "[encoded data removed]",
      "text/plain": [
       "<Figure size 432x360 with 1 Axes>"
      ]
     },
     "metadata": {
      "needs_background": "light"
     },
     "output_type": "display_data"
    }
   ],
   "source": [
    "fig, (ax1) = plt.subplots(1, 1, figsize = (6,5))\n",
    "ax1.plot(eq_lines_2['Mg#_Liq'], eq_lines_2['Eq_Opx_Mg# (Kd_XSi_P2008)-0.06'], ':r', label=\"KK$_d$ from X$_{Si}$-0.06\")\n",
    "ax1.plot(eq_lines_2['Mg#_Liq'], eq_lines_2['Eq_Opx_Mg# (Kd_XSi_P2008)+0.06'], ':r', label=\"K$_d$ from X$_{Si}$+0.06\")\n",
    "ax1.plot(eq_lines_2['Mg#_Liq'], eq_lines_2['Eq_Opx_Mg# (Kd_XSi_P2008)'], '-r', label=\"K$_d$ from X$_{Si}$\")\n",
    "ax1.set_xlim([0.4, 0.7])\n",
    "ax1.plot(cpx_comps_Fe3['Mgno_Liq_noFe3'], cpx_comps_Fe3['Mgno_OPX'], '*k', mfc='yellow', ms=8, label=\"No Fe3\")\n",
    "ax1.plot(cpx_comps_Fe3['Mgno_Liq_Fe2'], cpx_comps_Fe3['Mgno_OPX'], 'dk', mfc='green', ms=8, label=\"20% Fe3\")\n",
    "ax1.legend()"
   ]
  },
  {
   "cell_type": "code",
   "execution_count": null,
   "id": "982f6377-ac4b-472c-a6f6-ca244a268aa4",
   "metadata": {},
   "outputs": [],
   "source": []
  }
 ],
 "metadata": {
  "kernelspec": {
   "display_name": "Python 3",
   "language": "python",
   "name": "python3"
  },
  "language_info": {
   "codemirror_mode": {
    "name": "ipython",
    "version": 3
   },
   "file_extension": ".py",
   "mimetype": "text/x-python",
   "name": "python",
   "nbconvert_exporter": "python",
   "pygments_lexer": "ipython3",
   "version": "3.8.5"
  }
 },
 "nbformat": 4,
 "nbformat_minor": 5
}
