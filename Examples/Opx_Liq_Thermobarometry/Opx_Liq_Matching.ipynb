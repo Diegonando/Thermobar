{
 "cells": [
  {
   "cell_type": "markdown",
   "id": "09df5a72-de05-46e6-8b83-5742cf249fad",
   "metadata": {},
   "source": [
    "## This notebook demonstrates how Opxs can be matched to all possible liquids, including various equilibrium tests. \n",
    "- Users should first go through the example Opx_Liq_Thermobarometry.ipynb"
   ]
  },
  {
   "cell_type": "code",
   "execution_count": null,
   "id": "9707b877-b522-4752-a142-2a6e6ce56c0c",
   "metadata": {},
   "outputs": [],
   "source": []
  }
 ],
 "metadata": {
  "kernelspec": {
   "display_name": "Python 3",
   "language": "python",
   "name": "python3"
  },
  "language_info": {
   "codemirror_mode": {
    "name": "ipython",
    "version": 3
   },
   "file_extension": ".py",
   "mimetype": "text/x-python",
   "name": "python",
   "nbconvert_exporter": "python",
   "pygments_lexer": "ipython3",
   "version": "3.8.5"
  }
 },
 "nbformat": 4,
 "nbformat_minor": 5
}
