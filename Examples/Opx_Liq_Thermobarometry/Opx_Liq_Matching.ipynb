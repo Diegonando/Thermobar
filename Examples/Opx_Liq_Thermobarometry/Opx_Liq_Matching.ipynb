{
 "cells": [
  {
   "cell_type": "markdown",
   "id": "09df5a72-de05-46e6-8b83-5742cf249fad",
   "metadata": {},
   "source": [
    "# This notebook demonstrates how Opxs can be matched to all possible liquids, including various equilibrium tests. \n",
    "- Users should first go through the example Opx_Liq_Thermobarometry.ipynb"
   ]
  },
  {
   "cell_type": "markdown",
   "id": "24b5b316-de72-4956-a084-84c3ce3b13d3",
   "metadata": {},
   "source": [
    "## Loading python things"
   ]
  },
  {
   "cell_type": "code",
   "execution_count": 1,
   "id": "754056cf-60f4-4e32-bbac-f765ac91fd87",
   "metadata": {},
   "outputs": [],
   "source": [
    "import numpy as np\n",
    "import pandas as pd\n",
    "import sys\n",
    "sys.path.append(\"../..\") # This allows you to put the python file in the folder above. So you can have lots of sub folders\n",
    "import matplotlib.pyplot as plt\n",
    "import Thermobar as pt\n",
    "import sympy as sym"
   ]
  },
  {
   "cell_type": "code",
   "execution_count": 2,
   "id": "9707b877-b522-4752-a142-2a6e6ce56c0c",
   "metadata": {},
   "outputs": [
    {
     "name": "stderr",
     "output_type": "stream",
     "text": [
      "C:\\Users\\penny\\anaconda3\\lib\\site-packages\\ipykernel\\ipkernel.py:283: DeprecationWarning: `should_run_async` will not call `transform_cell` automatically in the future. Please pass the result to `transformed_cell` argument and any exception that happen during thetransform in `preprocessing_exc_tuple` in IPython 7.17 and above.\n",
      "  and should_run_async(code)\n"
     ]
    },
    {
     "name": "stdout",
     "output_type": "stream",
     "text": [
      "We have set Fe3Fet_Liq to zero, as you only entered FeOt. You can input a Fe3FeT_Liq column to specify this value instead\n"
     ]
    }
   ],
   "source": [
    "out1=pt.import_excel('Opx_Liq_Example.xlsx', sheet_name=\"Separate_Liqs\")\n",
    "my_input=out1['my_input']\n",
    "Liqs=out1['Liqs']"
   ]
  },
  {
   "cell_type": "code",
   "execution_count": 14,
   "id": "aadc597e-857b-496b-8351-5961e00f1a4f",
   "metadata": {},
   "outputs": [
    {
     "name": "stderr",
     "output_type": "stream",
     "text": [
      "C:\\Users\\penny\\anaconda3\\lib\\site-packages\\ipykernel\\ipkernel.py:283: DeprecationWarning: `should_run_async` will not call `transform_cell` automatically in the future. Please pass the result to `transformed_cell` argument and any exception that happen during thetransform in `preprocessing_exc_tuple` in IPython 7.17 and above.\n",
      "  and should_run_async(code)\n"
     ]
    },
    {
     "data": {
      "text/html": [
       "<div>\n",
       "<style scoped>\n",
       "    .dataframe tbody tr th:only-of-type {\n",
       "        vertical-align: middle;\n",
       "    }\n",
       "\n",
       "    .dataframe tbody tr th {\n",
       "        vertical-align: top;\n",
       "    }\n",
       "\n",
       "    .dataframe thead th {\n",
       "        text-align: right;\n",
       "    }\n",
       "</style>\n",
       "<table border=\"1\" class=\"dataframe\">\n",
       "  <thead>\n",
       "    <tr style=\"text-align: right;\">\n",
       "      <th></th>\n",
       "      <th>SiO2_Liq</th>\n",
       "      <th>TiO2_Liq</th>\n",
       "      <th>Al2O3_Liq</th>\n",
       "      <th>FeOt_Liq</th>\n",
       "      <th>MnO_Liq</th>\n",
       "      <th>MgO_Liq</th>\n",
       "      <th>CaO_Liq</th>\n",
       "      <th>Na2O_Liq</th>\n",
       "      <th>K2O_Liq</th>\n",
       "      <th>Cr2O3_Liq</th>\n",
       "      <th>P2O5_Liq</th>\n",
       "      <th>H2O_Liq</th>\n",
       "      <th>Fe3FeT_Liq</th>\n",
       "      <th>NiO_Liq</th>\n",
       "      <th>CoO_Liq</th>\n",
       "      <th>CO2_Liq</th>\n",
       "      <th>Sample_ID_Liq</th>\n",
       "    </tr>\n",
       "  </thead>\n",
       "  <tbody>\n",
       "    <tr>\n",
       "      <th>0</th>\n",
       "      <td>51.1</td>\n",
       "      <td>0.93</td>\n",
       "      <td>17.5</td>\n",
       "      <td>8.91</td>\n",
       "      <td>0.18</td>\n",
       "      <td>6.09</td>\n",
       "      <td>11.50</td>\n",
       "      <td>3.53</td>\n",
       "      <td>0.17</td>\n",
       "      <td>0</td>\n",
       "      <td>0.15</td>\n",
       "      <td>3.8</td>\n",
       "      <td>0</td>\n",
       "      <td>0.0</td>\n",
       "      <td>0.0</td>\n",
       "      <td>0.0</td>\n",
       "      <td>0</td>\n",
       "    </tr>\n",
       "    <tr>\n",
       "      <th>1</th>\n",
       "      <td>51.5</td>\n",
       "      <td>1.19</td>\n",
       "      <td>19.2</td>\n",
       "      <td>8.70</td>\n",
       "      <td>0.19</td>\n",
       "      <td>4.98</td>\n",
       "      <td>10.00</td>\n",
       "      <td>3.72</td>\n",
       "      <td>0.42</td>\n",
       "      <td>0</td>\n",
       "      <td>0.14</td>\n",
       "      <td>6.2</td>\n",
       "      <td>0</td>\n",
       "      <td>0.0</td>\n",
       "      <td>0.0</td>\n",
       "      <td>0.0</td>\n",
       "      <td>1</td>\n",
       "    </tr>\n",
       "    <tr>\n",
       "      <th>2</th>\n",
       "      <td>59.1</td>\n",
       "      <td>0.54</td>\n",
       "      <td>19.1</td>\n",
       "      <td>5.22</td>\n",
       "      <td>0.19</td>\n",
       "      <td>3.25</td>\n",
       "      <td>7.45</td>\n",
       "      <td>4.00</td>\n",
       "      <td>0.88</td>\n",
       "      <td>0</td>\n",
       "      <td>0.31</td>\n",
       "      <td>6.2</td>\n",
       "      <td>0</td>\n",
       "      <td>0.0</td>\n",
       "      <td>0.0</td>\n",
       "      <td>0.0</td>\n",
       "      <td>2</td>\n",
       "    </tr>\n",
       "    <tr>\n",
       "      <th>3</th>\n",
       "      <td>52.5</td>\n",
       "      <td>0.98</td>\n",
       "      <td>19.2</td>\n",
       "      <td>8.04</td>\n",
       "      <td>0.20</td>\n",
       "      <td>4.99</td>\n",
       "      <td>9.64</td>\n",
       "      <td>4.15</td>\n",
       "      <td>0.21</td>\n",
       "      <td>0</td>\n",
       "      <td>0.14</td>\n",
       "      <td>6.2</td>\n",
       "      <td>0</td>\n",
       "      <td>0.0</td>\n",
       "      <td>0.0</td>\n",
       "      <td>0.0</td>\n",
       "      <td>3</td>\n",
       "    </tr>\n",
       "    <tr>\n",
       "      <th>4</th>\n",
       "      <td>56.2</td>\n",
       "      <td>0.34</td>\n",
       "      <td>20.4</td>\n",
       "      <td>5.88</td>\n",
       "      <td>0.20</td>\n",
       "      <td>2.58</td>\n",
       "      <td>7.18</td>\n",
       "      <td>6.02</td>\n",
       "      <td>1.02</td>\n",
       "      <td>0</td>\n",
       "      <td>0.23</td>\n",
       "      <td>6.2</td>\n",
       "      <td>0</td>\n",
       "      <td>0.0</td>\n",
       "      <td>0.0</td>\n",
       "      <td>0.0</td>\n",
       "      <td>4</td>\n",
       "    </tr>\n",
       "    <tr>\n",
       "      <th>5</th>\n",
       "      <td>51.3</td>\n",
       "      <td>0.93</td>\n",
       "      <td>17.2</td>\n",
       "      <td>8.91</td>\n",
       "      <td>0.18</td>\n",
       "      <td>6.09</td>\n",
       "      <td>11.50</td>\n",
       "      <td>4.00</td>\n",
       "      <td>0.17</td>\n",
       "      <td>0</td>\n",
       "      <td>0.15</td>\n",
       "      <td>3.8</td>\n",
       "      <td>0</td>\n",
       "      <td>0.0</td>\n",
       "      <td>0.0</td>\n",
       "      <td>0.0</td>\n",
       "      <td>5</td>\n",
       "    </tr>\n",
       "  </tbody>\n",
       "</table>\n",
       "</div>"
      ],
      "text/plain": [
       "   SiO2_Liq  TiO2_Liq  Al2O3_Liq  FeOt_Liq  MnO_Liq  MgO_Liq  CaO_Liq  \\\n",
       "0      51.1      0.93       17.5      8.91     0.18     6.09    11.50   \n",
       "1      51.5      1.19       19.2      8.70     0.19     4.98    10.00   \n",
       "2      59.1      0.54       19.1      5.22     0.19     3.25     7.45   \n",
       "3      52.5      0.98       19.2      8.04     0.20     4.99     9.64   \n",
       "4      56.2      0.34       20.4      5.88     0.20     2.58     7.18   \n",
       "5      51.3      0.93       17.2      8.91     0.18     6.09    11.50   \n",
       "\n",
       "   Na2O_Liq  K2O_Liq  Cr2O3_Liq  P2O5_Liq  H2O_Liq  Fe3FeT_Liq  NiO_Liq  \\\n",
       "0      3.53     0.17          0      0.15      3.8           0      0.0   \n",
       "1      3.72     0.42          0      0.14      6.2           0      0.0   \n",
       "2      4.00     0.88          0      0.31      6.2           0      0.0   \n",
       "3      4.15     0.21          0      0.14      6.2           0      0.0   \n",
       "4      6.02     1.02          0      0.23      6.2           0      0.0   \n",
       "5      4.00     0.17          0      0.15      3.8           0      0.0   \n",
       "\n",
       "   CoO_Liq  CO2_Liq  Sample_ID_Liq  \n",
       "0      0.0      0.0              0  \n",
       "1      0.0      0.0              1  \n",
       "2      0.0      0.0              2  \n",
       "3      0.0      0.0              3  \n",
       "4      0.0      0.0              4  \n",
       "5      0.0      0.0              5  "
      ]
     },
     "execution_count": 14,
     "metadata": {},
     "output_type": "execute_result"
    }
   ],
   "source": [
    "Liqs"
   ]
  },
  {
   "cell_type": "code",
   "execution_count": 3,
   "id": "b8140baa-b29c-4888-a3fe-7f0357c9487e",
   "metadata": {},
   "outputs": [
    {
     "name": "stderr",
     "output_type": "stream",
     "text": [
      "C:\\Users\\penny\\anaconda3\\lib\\site-packages\\ipykernel\\ipkernel.py:283: DeprecationWarning: `should_run_async` will not call `transform_cell` automatically in the future. Please pass the result to `transformed_cell` argument and any exception that happen during thetransform in `preprocessing_exc_tuple` in IPython 7.17 and above.\n",
      "  and should_run_async(code)\n"
     ]
    }
   ],
   "source": [
    "out2=pt.import_excel('Opx_Liq_Example.xlsx', sheet_name=\"Separate_Opxs\")\n",
    "my_input=out2['my_input']\n",
    "Opxs=out2['Opxs']"
   ]
  },
  {
   "cell_type": "markdown",
   "id": "cc8b6e88-dc28-4bc3-bc49-a0ba55dcab5b",
   "metadata": {},
   "source": [
    "## Initially, lets try with the default filter - which calculates Kd using the Si content of the liquid following putirka (2008)\n",
    "- We see that this yields only 3 matches for just a single Opx"
   ]
  },
  {
   "cell_type": "code",
   "execution_count": 4,
   "id": "259e2992-0123-4101-8c40-e05d121747b8",
   "metadata": {},
   "outputs": [
    {
     "name": "stderr",
     "output_type": "stream",
     "text": [
      "C:\\Users\\penny\\anaconda3\\lib\\site-packages\\ipykernel\\ipkernel.py:283: DeprecationWarning: `should_run_async` will not call `transform_cell` automatically in the future. Please pass the result to `transformed_cell` argument and any exception that happen during thetransform in `preprocessing_exc_tuple` in IPython 7.17 and above.\n",
      "  and should_run_async(code)\n"
     ]
    },
    {
     "name": "stdout",
     "output_type": "stream",
     "text": [
      "Considering 30 Liq-Opx pairs, be patient if this is >>1 million!\n",
      "Finished calculating Ps and Ts, now just averaging the results. Almost there!\n",
      "Finished!\n"
     ]
    },
    {
     "data": {
      "text/html": [
       "<div>\n",
       "<style scoped>\n",
       "    .dataframe tbody tr th:only-of-type {\n",
       "        vertical-align: middle;\n",
       "    }\n",
       "\n",
       "    .dataframe tbody tr th {\n",
       "        vertical-align: top;\n",
       "    }\n",
       "\n",
       "    .dataframe thead th {\n",
       "        text-align: right;\n",
       "    }\n",
       "</style>\n",
       "<table border=\"1\" class=\"dataframe\">\n",
       "  <thead>\n",
       "    <tr style=\"text-align: right;\">\n",
       "      <th></th>\n",
       "      <th>No. of Cpxs averaged</th>\n",
       "      <th>Mean_Sample_ID_Opx</th>\n",
       "      <th>st_dev_T_K_calc</th>\n",
       "      <th>Mean_T_K_calc</th>\n",
       "      <th>st_dev_P_kbar_calc</th>\n",
       "      <th>Mean_P_kbar_calc</th>\n",
       "      <th>Mean_Delta_Kd_Fe_Mg_Fe2</th>\n",
       "      <th>Mean_SiO2_Liq</th>\n",
       "      <th>Mean_TiO2_Liq</th>\n",
       "      <th>Mean_Al2O3_Liq</th>\n",
       "      <th>...</th>\n",
       "      <th>Mean_Di_Opx</th>\n",
       "      <th>Mean_Mgno_OPX</th>\n",
       "      <th>Mean_ID_OPX</th>\n",
       "      <th>Mean_ln_Fm2Si2O6_liq</th>\n",
       "      <th>Mean_ln_FmAl2SiO6_liq</th>\n",
       "      <th>Mean_Kd_Fe_Mg_Fet</th>\n",
       "      <th>Mean_Kd_Fe_Mg_Fe2</th>\n",
       "      <th>Mean_Ideal_Kd</th>\n",
       "      <th>Mean_Mgno_Liq_noFe3</th>\n",
       "      <th>Mean_Mgno_Liq_Fe2</th>\n",
       "    </tr>\n",
       "  </thead>\n",
       "  <tbody>\n",
       "    <tr>\n",
       "      <th>0</th>\n",
       "      <td>3</td>\n",
       "      <td>Opx1</td>\n",
       "      <td>56.266725</td>\n",
       "      <td>1351.992696</td>\n",
       "      <td>1.302965</td>\n",
       "      <td>2.83631</td>\n",
       "      <td>0.051714</td>\n",
       "      <td>53.833333</td>\n",
       "      <td>0.8</td>\n",
       "      <td>17.933333</td>\n",
       "      <td>...</td>\n",
       "      <td>0.028142</td>\n",
       "      <td>0.82885</td>\n",
       "      <td>0.0</td>\n",
       "      <td>5.504581</td>\n",
       "      <td>-2.776023</td>\n",
       "      <td>0.244111</td>\n",
       "      <td>0.244111</td>\n",
       "      <td>0.295824</td>\n",
       "      <td>0.541487</td>\n",
       "      <td>0.541487</td>\n",
       "    </tr>\n",
       "  </tbody>\n",
       "</table>\n",
       "<p>1 rows × 92 columns</p>\n",
       "</div>"
      ],
      "text/plain": [
       "   No. of Cpxs averaged Mean_Sample_ID_Opx  st_dev_T_K_calc  Mean_T_K_calc  \\\n",
       "0                     3               Opx1        56.266725    1351.992696   \n",
       "\n",
       "   st_dev_P_kbar_calc  Mean_P_kbar_calc  Mean_Delta_Kd_Fe_Mg_Fe2  \\\n",
       "0            1.302965           2.83631                 0.051714   \n",
       "\n",
       "   Mean_SiO2_Liq  Mean_TiO2_Liq  Mean_Al2O3_Liq  ...  Mean_Di_Opx  \\\n",
       "0      53.833333            0.8       17.933333  ...     0.028142   \n",
       "\n",
       "   Mean_Mgno_OPX  Mean_ID_OPX  Mean_ln_Fm2Si2O6_liq  Mean_ln_FmAl2SiO6_liq  \\\n",
       "0        0.82885          0.0              5.504581              -2.776023   \n",
       "\n",
       "   Mean_Kd_Fe_Mg_Fet  Mean_Kd_Fe_Mg_Fe2  Mean_Ideal_Kd  Mean_Mgno_Liq_noFe3  \\\n",
       "0           0.244111           0.244111       0.295824             0.541487   \n",
       "\n",
       "   Mean_Mgno_Liq_Fe2  \n",
       "0           0.541487  \n",
       "\n",
       "[1 rows x 92 columns]"
      ]
     },
     "execution_count": 4,
     "metadata": {},
     "output_type": "execute_result"
    }
   ],
   "source": [
    "Match1=pt.calculate_opx_liq_press_temp_matching(liq_comps=Liqs, opx_comps=Opxs, equationT=\"T_Put2008_eq28a\",\n",
    "                                         equationP=\"P_Put2008_eq29a\")\n",
    "Match1['Av_PTs']"
   ]
  },
  {
   "cell_type": "markdown",
   "id": "8fc62ff8-e02e-49f0-921d-d69b5386464a",
   "metadata": {},
   "source": [
    "### Perhaps we now want to look at the distribution of Kd values in the matches, to work out what might be a reasonable cut off. \n",
    "- by stating \"Return_All_Matches=True\", the code doesn't apply any equilibrium filters\n",
    "- Red line shows equilibrium filter used in Match 1 above (+-0.06)"
   ]
  },
  {
   "cell_type": "code",
   "execution_count": 5,
   "id": "f8c6777b-c6cd-4348-92fa-4ed6c86b99f4",
   "metadata": {},
   "outputs": [
    {
     "name": "stderr",
     "output_type": "stream",
     "text": [
      "C:\\Users\\penny\\anaconda3\\lib\\site-packages\\ipykernel\\ipkernel.py:283: DeprecationWarning: `should_run_async` will not call `transform_cell` automatically in the future. Please pass the result to `transformed_cell` argument and any exception that happen during thetransform in `preprocessing_exc_tuple` in IPython 7.17 and above.\n",
      "  and should_run_async(code)\n"
     ]
    },
    {
     "name": "stdout",
     "output_type": "stream",
     "text": [
      "Considering 30 Liq-Opx pairs, be patient if this is >>1 million!\n"
     ]
    },
    {
     "data": {
      "text/plain": [
       "[<matplotlib.lines.Line2D at 0x25bf0d00df0>]"
      ]
     },
     "execution_count": 5,
     "metadata": {},
     "output_type": "execute_result"
    },
    {
     "data": {
      "image/png": "[encoded data removed]",
      "text/plain": [
       "<Figure size 432x288 with 1 Axes>"
      ]
     },
     "metadata": {
      "needs_background": "light"
     },
     "output_type": "display_data"
    }
   ],
   "source": [
    "Match2=pt.calculate_opx_liq_press_temp_matching(liq_comps=Liqs, opx_comps=Opxs, equationT=\"T_Put2008_eq28a\",\n",
    "                                         equationP=\"P_Put2008_eq29a\", Return_All_Matches=True)\n",
    "plt.hist(Match2['Delta_Kd_Fe_Mg_Fe2'])\n",
    "plt.plot([0.06, 0.06], [0, 7], '-r')"
   ]
  },
  {
   "cell_type": "markdown",
   "id": "b93bd86e-0c9f-49b9-aec5-a289e08537fa",
   "metadata": {},
   "source": [
    "### Here, we specify that we want a match within +-0.12 (e.g., 2 sigma)"
   ]
  },
  {
   "cell_type": "code",
   "execution_count": 6,
   "id": "244b7e2c-00e7-4887-9114-0f578c421377",
   "metadata": {},
   "outputs": [
    {
     "name": "stderr",
     "output_type": "stream",
     "text": [
      "C:\\Users\\penny\\anaconda3\\lib\\site-packages\\ipykernel\\ipkernel.py:283: DeprecationWarning: `should_run_async` will not call `transform_cell` automatically in the future. Please pass the result to `transformed_cell` argument and any exception that happen during thetransform in `preprocessing_exc_tuple` in IPython 7.17 and above.\n",
      "  and should_run_async(code)\n"
     ]
    },
    {
     "name": "stdout",
     "output_type": "stream",
     "text": [
      "Considering 30 Liq-Opx pairs, be patient if this is >>1 million!\n",
      "Finished calculating Ps and Ts, now just averaging the results. Almost there!\n",
      "Finished!\n"
     ]
    }
   ],
   "source": [
    "Match3=pt.calculate_opx_liq_press_temp_matching(liq_comps=Liqs, opx_comps=Opxs, equationT=\"T_Put2008_eq28a\",\n",
    "                                         equationP=\"P_Put2008_eq29a\", KdErr=0.12)\n",
    "Av_Matches3=Match3['Av_PTs']\n",
    "All_Matches3=Match3['All_PTs']"
   ]
  },
  {
   "cell_type": "markdown",
   "id": "d545e650-faee-41d3-85c0-d8c686f2ac06",
   "metadata": {},
   "source": [
    "## Plotting these matches up"
   ]
  },
  {
   "cell_type": "code",
   "execution_count": 7,
   "id": "47b63dd6-4c40-408c-b8f9-b5ded1fba2cc",
   "metadata": {},
   "outputs": [
    {
     "name": "stderr",
     "output_type": "stream",
     "text": [
      "C:\\Users\\penny\\anaconda3\\lib\\site-packages\\ipykernel\\ipkernel.py:283: DeprecationWarning: `should_run_async` will not call `transform_cell` automatically in the future. Please pass the result to `transformed_cell` argument and any exception that happen during thetransform in `preprocessing_exc_tuple` in IPython 7.17 and above.\n",
      "  and should_run_async(code)\n"
     ]
    },
    {
     "data": {
      "text/plain": [
       "Text(0, 0.5, 'Pressure (kbar)')"
      ]
     },
     "execution_count": 7,
     "metadata": {},
     "output_type": "execute_result"
    },
    {
     "data": {
      "image/png": "[encoded data removed]",
      "text/plain": [
       "<Figure size 504x360 with 1 Axes>"
      ]
     },
     "metadata": {
      "needs_background": "light"
     },
     "output_type": "display_data"
    }
   ],
   "source": [
    "fig, ((ax1)) = plt.subplots(1, 1, figsize=(7, 5), sharex=True, sharey=True)\n",
    "\n",
    "ax1.plot(All_Matches3['T_K_calc']-273.15, All_Matches3['P_kbar_calc'], '.', color='red', alpha=0.3, label=\"all matches\")\n",
    "\n",
    "ax1.errorbar(Av_Matches3['Mean_T_K_calc']-273.15,  Av_Matches3['Mean_P_kbar_calc'],\n",
    "             xerr=Av_Matches3['st_dev_T_K_calc'], \n",
    "             yerr=Av_Matches3['st_dev_P_kbar_calc'],\n",
    "             fmt='d', ecolor='k', elinewidth=0.8, \n",
    "             mfc='red', ms=8, mec='k',  label='Averaged per Cpx')\n",
    "\n",
    "ax1.invert_yaxis()\n",
    "\n",
    "#ax1.set_xlim([700, 1200])\n",
    "ax1.set_xlabel('Temperature (C)')\n",
    "ax1.set_ylabel('Pressure (kbar)')"
   ]
  },
  {
   "cell_type": "markdown",
   "id": "c7177da2-e19b-4c52-ad3b-32c381512e94",
   "metadata": {},
   "source": [
    "## Further flexibility\n",
    "- Instead of calculating Kd as a function of melt Si, which is defualt, you can also specify a value of Kd Match and Kd error"
   ]
  },
  {
   "cell_type": "code",
   "execution_count": 8,
   "id": "c288983e-bacc-44f5-bc2c-2d5c8ab3b0f4",
   "metadata": {},
   "outputs": [
    {
     "name": "stderr",
     "output_type": "stream",
     "text": [
      "C:\\Users\\penny\\anaconda3\\lib\\site-packages\\ipykernel\\ipkernel.py:283: DeprecationWarning: `should_run_async` will not call `transform_cell` automatically in the future. Please pass the result to `transformed_cell` argument and any exception that happen during thetransform in `preprocessing_exc_tuple` in IPython 7.17 and above.\n",
      "  and should_run_async(code)\n"
     ]
    },
    {
     "name": "stdout",
     "output_type": "stream",
     "text": [
      "Considering 30 Liq-Opx pairs, be patient if this is >>1 million!\n",
      "Finished calculating Ps and Ts, now just averaging the results. Almost there!\n",
      "Finished!\n"
     ]
    }
   ],
   "source": [
    "Match4=pt.calculate_opx_liq_press_temp_matching(liq_comps=Liqs, opx_comps=Opxs, equationT=\"T_Put2008_eq28a\",\n",
    "                                         equationP=\"P_Put2008_eq29a\", KdMatch=0.29, KdErr=0.12)\n",
    "Av_Matches4=Match4['Av_PTs']\n",
    "All_Matches4=Match4['All_PTs']"
   ]
  },
  {
   "cell_type": "code",
   "execution_count": null,
   "id": "5c8bd516-bdd3-4088-a8af-4ce0383ea674",
   "metadata": {},
   "outputs": [],
   "source": []
  }
 ],
 "metadata": {
  "kernelspec": {
   "display_name": "Python 3",
   "language": "python",
   "name": "python3"
  },
  "language_info": {
   "codemirror_mode": {
    "name": "ipython",
    "version": 3
   },
   "file_extension": ".py",
   "mimetype": "text/x-python",
   "name": "python",
   "nbconvert_exporter": "python",
   "pygments_lexer": "ipython3",
   "version": "3.8.5"
  }
 },
 "nbformat": 4,
 "nbformat_minor": 5
}
