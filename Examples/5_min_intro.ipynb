{
 "cells": [
  {
   "cell_type": "markdown",
   "id": "fd2473fb-8b4f-44af-95d9-73cd4787847d",
   "metadata": {},
   "source": [
    "# A five minute intro to Thermobar"
   ]
  },
  {
   "cell_type": "markdown",
   "id": "b34e2265-4fdb-4aff-bb33-fd34740f08dd",
   "metadata": {},
   "source": [
    "## 1 - Introduction "
   ]
  },
  {
   "cell_type": "markdown",
   "id": "05ad16e5-ca43-41d8-b4fa-fb6a6f4e767e",
   "metadata": {},
   "source": [
    "Thermobar is a Python thermobarometry tool. It implements many thermometer and barometer calibrations for signle phase (e.g., cpx oer amph) and melt-crystal equilibria (e.g., Putirka, 2008) "
   ]
  },
  {
   "cell_type": "code",
   "execution_count": 1,
   "id": "bd429847-d8ca-4549-ac97-a38c06aaac99",
   "metadata": {},
   "outputs": [],
   "source": [
    "import pandas as pd\n",
    "import numpy as np\n",
    "import matplotlib.pyplot as plt"
   ]
  },
  {
   "cell_type": "markdown",
   "id": "fb23e14b-d3b4-416e-9678-897bf4cda5d9",
   "metadata": {},
   "source": [
    "## 2 - Importing Thermobar"
   ]
  },
  {
   "cell_type": "code",
   "execution_count": 2,
   "id": "766e90c1-34ce-4b95-832c-414dafa0f7ed",
   "metadata": {},
   "outputs": [],
   "source": [
    "import sys\n",
    "sys.path.append(\"../\") # This allows you to put the python file in the folder above. So you can have lots of sub folders\n",
    "import Thermobar as pt"
   ]
  },
  {
   "cell_type": "markdown",
   "id": "38a5f6ea-07e7-4259-85ab-ced005010aec",
   "metadata": {},
   "source": [
    "## 3 - Load data from an Excel file"
   ]
  },
  {
   "cell_type": "code",
   "execution_count": 3,
   "id": "8ca9c32a-dca6-4feb-8238-2ce1af636abd",
   "metadata": {},
   "outputs": [
    {
     "name": "stderr",
     "output_type": "stream",
     "text": [
      "C:\\Users\\penny\\anaconda3\\lib\\site-packages\\ipykernel\\ipkernel.py:283: DeprecationWarning: `should_run_async` will not call `transform_cell` automatically in the future. Please pass the result to `transformed_cell` argument and any exception that happen during thetransform in `preprocessing_exc_tuple` in IPython 7.17 and above.\n",
      "  and should_run_async(code)\n"
     ]
    },
    {
     "name": "stdout",
     "output_type": "stream",
     "text": [
      "We have set Fe3Fet_Liq to zero, as you only entered FeOt. You can input a Fe3FeT_Liq column to specify this value instead\n"
     ]
    }
   ],
   "source": [
    "out=pt.import_excel(r'Cpx_Liq_Thermobarometry/Cpx_Liq_Example.xlsx', sheet_name=\"Sheet1\")\n",
    "my_input=out['my_input']\n",
    "Liqs=out['Liqs']\n",
    "Cpxs=out['Cpxs']"
   ]
  },
  {
   "cell_type": "markdown",
   "id": "dc37976d-0905-4798-aaad-ccde10e48bfa",
   "metadata": {},
   "source": [
    "The <em>import_Excel</em> method loads the 'Cpx_Liq_Example.xlsx' and examines it looking at melt and crystal phases returning a dictionary, out in our case. "
   ]
  },
  {
   "cell_type": "markdown",
   "id": "f8f25b83-506e-4f5e-87f0-89682acc76e0",
   "metadata": {},
   "source": [
    "In the Excel file, column names specify the oxide (e.g., SiO$_2$) and the phase (e.g., Liquid or Clinopyroxene). As an example, SiO$_2$\\_Liq means that the column stores the Slilca values of the liquid phase. "
   ]
  },
  {
   "cell_type": "markdown",
   "id": "3ca57cfd-585a-41da-86bc-c689e773edb0",
   "metadata": {},
   "source": [
    "Phase identification:\n",
    "    <ul>\n",
    "    <li>\\_Liq: Liquid (the melt)</li>\n",
    "    <li>\\_Ol: olivine</li>\n",
    "    <li>\\_Cpx: clinopyroxene</li>\n",
    "    <li>\\_Plag: plagioclase</li>\n",
    "    <li>\\_Kspar: kfeldspar</li>\n",
    "    <li>\\_Opx: ortopyroxene</li>\n",
    "    <li>\\_Amp: amphibole</li>\n",
    "    <li>\\_Sp: spinel</li>\n",
    "    <ul>"
   ]
  },
  {
   "cell_type": "markdown",
   "id": "03300097-74d0-4a05-8fcb-6e5038c4a075",
   "metadata": {},
   "source": [
    "## Inspect data"
   ]
  },
  {
   "cell_type": "code",
   "execution_count": 4,
   "id": "cafb8294-e3ae-48d7-8380-5b6ace68f51a",
   "metadata": {},
   "outputs": [
    {
     "name": "stderr",
     "output_type": "stream",
     "text": [
      "C:\\Users\\penny\\anaconda3\\lib\\site-packages\\ipykernel\\ipkernel.py:283: DeprecationWarning: `should_run_async` will not call `transform_cell` automatically in the future. Please pass the result to `transformed_cell` argument and any exception that happen during thetransform in `preprocessing_exc_tuple` in IPython 7.17 and above.\n",
      "  and should_run_async(code)\n"
     ]
    },
    {
     "data": {
      "text/html": [
       "<div>\n",
       "<style scoped>\n",
       "    .dataframe tbody tr th:only-of-type {\n",
       "        vertical-align: middle;\n",
       "    }\n",
       "\n",
       "    .dataframe tbody tr th {\n",
       "        vertical-align: top;\n",
       "    }\n",
       "\n",
       "    .dataframe thead th {\n",
       "        text-align: right;\n",
       "    }\n",
       "</style>\n",
       "<table border=\"1\" class=\"dataframe\">\n",
       "  <thead>\n",
       "    <tr style=\"text-align: right;\">\n",
       "      <th></th>\n",
       "      <th>SiO2_Liq</th>\n",
       "      <th>TiO2_Liq</th>\n",
       "      <th>Al2O3_Liq</th>\n",
       "      <th>FeOt_Liq</th>\n",
       "      <th>MnO_Liq</th>\n",
       "      <th>MgO_Liq</th>\n",
       "      <th>CaO_Liq</th>\n",
       "      <th>Na2O_Liq</th>\n",
       "      <th>K2O_Liq</th>\n",
       "      <th>Cr2O3_Liq</th>\n",
       "      <th>P2O5_Liq</th>\n",
       "      <th>H2O_Liq</th>\n",
       "      <th>Fe3FeT_Liq</th>\n",
       "      <th>NiO_Liq</th>\n",
       "      <th>CoO_Liq</th>\n",
       "      <th>CO2_Liq</th>\n",
       "      <th>Sample_ID_Liq</th>\n",
       "    </tr>\n",
       "  </thead>\n",
       "  <tbody>\n",
       "    <tr>\n",
       "      <th>0</th>\n",
       "      <td>51.1</td>\n",
       "      <td>0.93</td>\n",
       "      <td>17.5</td>\n",
       "      <td>8.91</td>\n",
       "      <td>0.18</td>\n",
       "      <td>6.09</td>\n",
       "      <td>11.50</td>\n",
       "      <td>3.53</td>\n",
       "      <td>0.17</td>\n",
       "      <td>0</td>\n",
       "      <td>0.15</td>\n",
       "      <td>3.8</td>\n",
       "      <td>0</td>\n",
       "      <td>0.0</td>\n",
       "      <td>0.0</td>\n",
       "      <td>0.0</td>\n",
       "      <td>0</td>\n",
       "    </tr>\n",
       "    <tr>\n",
       "      <th>1</th>\n",
       "      <td>51.5</td>\n",
       "      <td>1.19</td>\n",
       "      <td>19.2</td>\n",
       "      <td>8.70</td>\n",
       "      <td>0.19</td>\n",
       "      <td>4.98</td>\n",
       "      <td>10.00</td>\n",
       "      <td>3.72</td>\n",
       "      <td>0.42</td>\n",
       "      <td>0</td>\n",
       "      <td>0.14</td>\n",
       "      <td>6.2</td>\n",
       "      <td>0</td>\n",
       "      <td>0.0</td>\n",
       "      <td>0.0</td>\n",
       "      <td>0.0</td>\n",
       "      <td>1</td>\n",
       "    </tr>\n",
       "    <tr>\n",
       "      <th>2</th>\n",
       "      <td>59.1</td>\n",
       "      <td>0.54</td>\n",
       "      <td>19.1</td>\n",
       "      <td>5.22</td>\n",
       "      <td>0.19</td>\n",
       "      <td>3.25</td>\n",
       "      <td>7.45</td>\n",
       "      <td>4.00</td>\n",
       "      <td>0.88</td>\n",
       "      <td>0</td>\n",
       "      <td>0.31</td>\n",
       "      <td>6.2</td>\n",
       "      <td>0</td>\n",
       "      <td>0.0</td>\n",
       "      <td>0.0</td>\n",
       "      <td>0.0</td>\n",
       "      <td>2</td>\n",
       "    </tr>\n",
       "    <tr>\n",
       "      <th>3</th>\n",
       "      <td>52.5</td>\n",
       "      <td>0.98</td>\n",
       "      <td>19.2</td>\n",
       "      <td>8.04</td>\n",
       "      <td>0.20</td>\n",
       "      <td>4.99</td>\n",
       "      <td>9.64</td>\n",
       "      <td>4.15</td>\n",
       "      <td>0.21</td>\n",
       "      <td>0</td>\n",
       "      <td>0.14</td>\n",
       "      <td>6.2</td>\n",
       "      <td>0</td>\n",
       "      <td>0.0</td>\n",
       "      <td>0.0</td>\n",
       "      <td>0.0</td>\n",
       "      <td>3</td>\n",
       "    </tr>\n",
       "    <tr>\n",
       "      <th>4</th>\n",
       "      <td>56.2</td>\n",
       "      <td>0.34</td>\n",
       "      <td>20.4</td>\n",
       "      <td>5.88</td>\n",
       "      <td>0.20</td>\n",
       "      <td>2.58</td>\n",
       "      <td>7.18</td>\n",
       "      <td>6.02</td>\n",
       "      <td>1.02</td>\n",
       "      <td>0</td>\n",
       "      <td>0.23</td>\n",
       "      <td>6.2</td>\n",
       "      <td>0</td>\n",
       "      <td>0.0</td>\n",
       "      <td>0.0</td>\n",
       "      <td>0.0</td>\n",
       "      <td>4</td>\n",
       "    </tr>\n",
       "  </tbody>\n",
       "</table>\n",
       "</div>"
      ],
      "text/plain": [
       "   SiO2_Liq  TiO2_Liq  Al2O3_Liq  FeOt_Liq  MnO_Liq  MgO_Liq  CaO_Liq  \\\n",
       "0      51.1      0.93       17.5      8.91     0.18     6.09    11.50   \n",
       "1      51.5      1.19       19.2      8.70     0.19     4.98    10.00   \n",
       "2      59.1      0.54       19.1      5.22     0.19     3.25     7.45   \n",
       "3      52.5      0.98       19.2      8.04     0.20     4.99     9.64   \n",
       "4      56.2      0.34       20.4      5.88     0.20     2.58     7.18   \n",
       "\n",
       "   Na2O_Liq  K2O_Liq  Cr2O3_Liq  P2O5_Liq  H2O_Liq  Fe3FeT_Liq  NiO_Liq  \\\n",
       "0      3.53     0.17          0      0.15      3.8           0      0.0   \n",
       "1      3.72     0.42          0      0.14      6.2           0      0.0   \n",
       "2      4.00     0.88          0      0.31      6.2           0      0.0   \n",
       "3      4.15     0.21          0      0.14      6.2           0      0.0   \n",
       "4      6.02     1.02          0      0.23      6.2           0      0.0   \n",
       "\n",
       "   CoO_Liq  CO2_Liq  Sample_ID_Liq  \n",
       "0      0.0      0.0              0  \n",
       "1      0.0      0.0              1  \n",
       "2      0.0      0.0              2  \n",
       "3      0.0      0.0              3  \n",
       "4      0.0      0.0              4  "
      ]
     },
     "execution_count": 4,
     "metadata": {},
     "output_type": "execute_result"
    }
   ],
   "source": [
    "Liqs.head()"
   ]
  },
  {
   "cell_type": "markdown",
   "id": "32b63b26-347e-4bae-b323-186cd2acffb1",
   "metadata": {},
   "source": [
    "## Access a single column"
   ]
  },
  {
   "cell_type": "markdown",
   "id": "5e025542-bcb6-4640-953c-30e77d7f8f0d",
   "metadata": {},
   "source": [
    "## 4 - Getting help"
   ]
  },
  {
   "cell_type": "markdown",
   "id": "c62e0eda-53b4-4e02-8194-cf1dcb1318af",
   "metadata": {},
   "source": [
    "The <em>help()</em> method provide you relevant informations:"
   ]
  },
  {
   "cell_type": "code",
   "execution_count": 7,
   "id": "bd25528f-2656-454d-92d1-fcf15bc1f219",
   "metadata": {},
   "outputs": [
    {
     "name": "stdout",
     "output_type": "stream",
     "text": [
      "Help on function calculate_cpx_liq_temp in module Thermobar.clinopyroxene_thermobarometry:\n",
      "\n",
      "calculate_cpx_liq_temp(*, equationT, cpx_comps=None, liq_comps=None, meltmatch=None, P=None, eq_tests=False, H2O_Liq=None, Fe3FeT_Liq=None, sigma=1, KdErr=0.03)\n",
      "     Clinopyroxene-Liquid thermometry, calculates temperature in Kelvin\n",
      "     (and equilibrium tests as an option)\n",
      "    \n",
      "    Parameters\n",
      "     -------\n",
      "     cpx_comps: DataFrame\n",
      "         Clinopyroxene compositions with column headings SiO2_Cpx, MgO_Cpx etc.\n",
      "    \n",
      "     liq_comps: DataFrame\n",
      "         Liquid compositions with column headings SiO2_Liq, MgO_Liq etc.\n",
      "     Or:\n",
      "    \n",
      "     meltmatch: DataFrame\n",
      "         Combined dataframe of cpx-Liquid compositions\n",
      "         Used for calculate_cpx_liq_press_temp_matching function.\n",
      "    \n",
      "     EquationT: str\n",
      "         Choice of equation:\n",
      "         Cpx-Liquid\n",
      "         |  T_Put1996_eqT1  (P-indep, H2O-indep)\n",
      "         |  T_Mas2013_eqTalk1  (P-indep, H2O-indep, alk adaption of T1)\n",
      "         |  T_Brug2019  (P-indep, H2O-indep)\n",
      "         |  T_Put1996_eqT2 (P-dep, H2O-indep)\n",
      "         |  T_Mas2013_eqTalk2  (P-dep, H2O-indep, alk adaption of T2)\n",
      "         |  T_Put1999  (P-dep, H2O-indep)\n",
      "         |  T_Put2003  (P-dep, H2O-indep)\n",
      "         |  T_Put1999  (P-dep, H2O-indep)\n",
      "         |  T_Put2008_eq33  (P-dep, H2O-dep)\n",
      "         |  T_Mas2013_eqalk33  (P-dep, H2O-dep, alk adaption of eq33)\n",
      "         |  T_Mas2013_Palk2012 (P-indep, H2O_dep)\n",
      "    \n",
      "    \n",
      "     P: float, int, series, str  (\"Solve\")\n",
      "         Pressure in kbar\n",
      "         Only needed for P-sensitive thermometers.\n",
      "         If enter P=\"Solve\", returns a partial function\n",
      "         Else, enter an integer, float, or panda series\n",
      "    \n",
      "    \n",
      "     eq_tests: bool\n",
      "         If False, just returns pressure (default) as a panda series\n",
      "         If True, returns pressure, Values of Eq tests,\n",
      "         Values of Eq tests (Kd, EnFs, DiHd, CaTs, CrCaTs),\n",
      "         as well as user-entered cpx and liq comps and components.\n",
      "    \n",
      "    \n",
      "     Returns\n",
      "     -------\n",
      "     If eq_tests=False\n",
      "         pandas.series: Temperature in Kelvin\n",
      "     If eq_tests=True\n",
      "         panda.dataframe: Temperature in Kelvin +\n",
      "         Eq Tests + cpx+liq comps + components\n",
      "\n"
     ]
    }
   ],
   "source": [
    "help(pt.calculate_cpx_liq_temp)"
   ]
  },
  {
   "cell_type": "code",
   "execution_count": 11,
   "id": "dfb97203-0d7d-4da2-9759-9517138ab512",
   "metadata": {},
   "outputs": [
    {
     "name": "stdout",
     "output_type": "stream",
     "text": [
      "Using Fe3FeT from input file to calculate Kd Fe-Mg\n"
     ]
    },
    {
     "data": {
      "text/html": [
       "<div>\n",
       "<style scoped>\n",
       "    .dataframe tbody tr th:only-of-type {\n",
       "        vertical-align: middle;\n",
       "    }\n",
       "\n",
       "    .dataframe tbody tr th {\n",
       "        vertical-align: top;\n",
       "    }\n",
       "\n",
       "    .dataframe thead th {\n",
       "        text-align: right;\n",
       "    }\n",
       "</style>\n",
       "<table border=\"1\" class=\"dataframe\">\n",
       "  <thead>\n",
       "    <tr style=\"text-align: right;\">\n",
       "      <th></th>\n",
       "      <th>P_kbar_calc</th>\n",
       "      <th>T_K_calc</th>\n",
       "      <th>Eq Tests Neave2017?</th>\n",
       "      <th>Delta_Kd_Put2008</th>\n",
       "      <th>Delta_Kd_Mas2013</th>\n",
       "      <th>Delta_EnFs</th>\n",
       "      <th>Delta_CaTs</th>\n",
       "      <th>Delta_DiHd</th>\n",
       "      <th>SiO2_Liq</th>\n",
       "      <th>TiO2_Liq</th>\n",
       "      <th>...</th>\n",
       "      <th>lnK_Jd_DiHd_liq_1996</th>\n",
       "      <th>lnK_Jd_DiHd_liq_2003</th>\n",
       "      <th>Kd_Fe_Mg_IdealWB</th>\n",
       "      <th>DeltaFeMg_WB</th>\n",
       "      <th>Kd_Ideal_Put</th>\n",
       "      <th>Kd_Ideal_Masotta</th>\n",
       "      <th>DiHd_Pred_Mollo</th>\n",
       "      <th>EnFs_Pred_Mollo</th>\n",
       "      <th>CaTs_Pred_P1999</th>\n",
       "      <th>CrCaTS_Pred_P1999</th>\n",
       "    </tr>\n",
       "  </thead>\n",
       "  <tbody>\n",
       "    <tr>\n",
       "      <th>0</th>\n",
       "      <td>5</td>\n",
       "      <td>1364.712867</td>\n",
       "      <td>N</td>\n",
       "      <td>0.030886</td>\n",
       "      <td>0.104181</td>\n",
       "      <td>0.017331</td>\n",
       "      <td>0.017937</td>\n",
       "      <td>0.050264</td>\n",
       "      <td>51.1</td>\n",
       "      <td>0.93</td>\n",
       "      <td>...</td>\n",
       "      <td>-3.499393</td>\n",
       "      <td>-3.499393</td>\n",
       "      <td>0.266105</td>\n",
       "      <td>0.042020</td>\n",
       "      <td>0.254971</td>\n",
       "      <td>0.119904</td>\n",
       "      <td>0.764172</td>\n",
       "      <td>0.086496</td>\n",
       "      <td>0.012438</td>\n",
       "      <td>0.0</td>\n",
       "    </tr>\n",
       "    <tr>\n",
       "      <th>1</th>\n",
       "      <td>5</td>\n",
       "      <td>1304.755285</td>\n",
       "      <td>Y</td>\n",
       "      <td>0.018153</td>\n",
       "      <td>0.107137</td>\n",
       "      <td>0.017648</td>\n",
       "      <td>0.025331</td>\n",
       "      <td>0.039975</td>\n",
       "      <td>51.5</td>\n",
       "      <td>1.19</td>\n",
       "      <td>...</td>\n",
       "      <td>-3.892401</td>\n",
       "      <td>-3.892401</td>\n",
       "      <td>0.261704</td>\n",
       "      <td>0.039226</td>\n",
       "      <td>0.240632</td>\n",
       "      <td>0.115341</td>\n",
       "      <td>0.779964</td>\n",
       "      <td>0.079572</td>\n",
       "      <td>0.011486</td>\n",
       "      <td>0.0</td>\n",
       "    </tr>\n",
       "    <tr>\n",
       "      <th>2</th>\n",
       "      <td>5</td>\n",
       "      <td>1272.453442</td>\n",
       "      <td>N</td>\n",
       "      <td>0.076685</td>\n",
       "      <td>0.189818</td>\n",
       "      <td>0.030151</td>\n",
       "      <td>0.076839</td>\n",
       "      <td>0.072766</td>\n",
       "      <td>59.1</td>\n",
       "      <td>0.54</td>\n",
       "      <td>...</td>\n",
       "      <td>-4.566444</td>\n",
       "      <td>-4.566444</td>\n",
       "      <td>0.254450</td>\n",
       "      <td>0.054951</td>\n",
       "      <td>0.232717</td>\n",
       "      <td>0.119584</td>\n",
       "      <td>0.805437</td>\n",
       "      <td>0.129696</td>\n",
       "      <td>0.015046</td>\n",
       "      <td>0.0</td>\n",
       "    </tr>\n",
       "    <tr>\n",
       "      <th>3</th>\n",
       "      <td>5</td>\n",
       "      <td>1305.686881</td>\n",
       "      <td>N</td>\n",
       "      <td>0.015674</td>\n",
       "      <td>0.116551</td>\n",
       "      <td>0.023393</td>\n",
       "      <td>0.033121</td>\n",
       "      <td>0.020541</td>\n",
       "      <td>52.5</td>\n",
       "      <td>0.98</td>\n",
       "      <td>...</td>\n",
       "      <td>-4.105255</td>\n",
       "      <td>-4.105255</td>\n",
       "      <td>0.263544</td>\n",
       "      <td>0.038360</td>\n",
       "      <td>0.240858</td>\n",
       "      <td>0.108633</td>\n",
       "      <td>0.775508</td>\n",
       "      <td>0.091203</td>\n",
       "      <td>0.012706</td>\n",
       "      <td>0.0</td>\n",
       "    </tr>\n",
       "    <tr>\n",
       "      <th>4</th>\n",
       "      <td>5</td>\n",
       "      <td>1252.876983</td>\n",
       "      <td>N</td>\n",
       "      <td>0.004507</td>\n",
       "      <td>0.113085</td>\n",
       "      <td>0.030453</td>\n",
       "      <td>0.033377</td>\n",
       "      <td>0.006182</td>\n",
       "      <td>56.2</td>\n",
       "      <td>0.34</td>\n",
       "      <td>...</td>\n",
       "      <td>-5.018290</td>\n",
       "      <td>-5.018290</td>\n",
       "      <td>0.253684</td>\n",
       "      <td>0.030335</td>\n",
       "      <td>0.227856</td>\n",
       "      <td>0.110264</td>\n",
       "      <td>0.800511</td>\n",
       "      <td>0.076199</td>\n",
       "      <td>0.009733</td>\n",
       "      <td>0.0</td>\n",
       "    </tr>\n",
       "  </tbody>\n",
       "</table>\n",
       "<p>5 rows × 98 columns</p>\n",
       "</div>"
      ],
      "text/plain": [
       "   P_kbar_calc     T_K_calc Eq Tests Neave2017?  Delta_Kd_Put2008  \\\n",
       "0            5  1364.712867                   N          0.030886   \n",
       "1            5  1304.755285                   Y          0.018153   \n",
       "2            5  1272.453442                   N          0.076685   \n",
       "3            5  1305.686881                   N          0.015674   \n",
       "4            5  1252.876983                   N          0.004507   \n",
       "\n",
       "   Delta_Kd_Mas2013  Delta_EnFs  Delta_CaTs  Delta_DiHd  SiO2_Liq  TiO2_Liq  \\\n",
       "0          0.104181    0.017331    0.017937    0.050264      51.1      0.93   \n",
       "1          0.107137    0.017648    0.025331    0.039975      51.5      1.19   \n",
       "2          0.189818    0.030151    0.076839    0.072766      59.1      0.54   \n",
       "3          0.116551    0.023393    0.033121    0.020541      52.5      0.98   \n",
       "4          0.113085    0.030453    0.033377    0.006182      56.2      0.34   \n",
       "\n",
       "   ...  lnK_Jd_DiHd_liq_1996  lnK_Jd_DiHd_liq_2003  Kd_Fe_Mg_IdealWB  \\\n",
       "0  ...             -3.499393             -3.499393          0.266105   \n",
       "1  ...             -3.892401             -3.892401          0.261704   \n",
       "2  ...             -4.566444             -4.566444          0.254450   \n",
       "3  ...             -4.105255             -4.105255          0.263544   \n",
       "4  ...             -5.018290             -5.018290          0.253684   \n",
       "\n",
       "   DeltaFeMg_WB  Kd_Ideal_Put  Kd_Ideal_Masotta  DiHd_Pred_Mollo  \\\n",
       "0      0.042020      0.254971          0.119904         0.764172   \n",
       "1      0.039226      0.240632          0.115341         0.779964   \n",
       "2      0.054951      0.232717          0.119584         0.805437   \n",
       "3      0.038360      0.240858          0.108633         0.775508   \n",
       "4      0.030335      0.227856          0.110264         0.800511   \n",
       "\n",
       "   EnFs_Pred_Mollo  CaTs_Pred_P1999  CrCaTS_Pred_P1999  \n",
       "0         0.086496         0.012438                0.0  \n",
       "1         0.079572         0.011486                0.0  \n",
       "2         0.129696         0.015046                0.0  \n",
       "3         0.091203         0.012706                0.0  \n",
       "4         0.076199         0.009733                0.0  \n",
       "\n",
       "[5 rows x 98 columns]"
      ]
     },
     "execution_count": 11,
     "metadata": {},
     "output_type": "execute_result"
    }
   ],
   "source": [
    "Temp=pt.calculate_cpx_liq_temp(equationT=\"T_Put2008_eq33\", cpx_comps=Cpxs, liq_comps=Liqs, P=5, eq_tests=True)\n",
    "Temp"
   ]
  },
  {
   "cell_type": "code",
   "execution_count": 12,
   "id": "fa9e37ed-ed5c-4eab-9617-3c2c0b290211",
   "metadata": {},
   "outputs": [
    {
     "name": "stderr",
     "output_type": "stream",
     "text": [
      "C:\\Users\\penny\\anaconda3\\lib\\site-packages\\ipykernel\\ipkernel.py:283: DeprecationWarning: `should_run_async` will not call `transform_cell` automatically in the future. Please pass the result to `transformed_cell` argument and any exception that happen during thetransform in `preprocessing_exc_tuple` in IPython 7.17 and above.\n",
      "  and should_run_async(code)\n"
     ]
    }
   ],
   "source": [
    "Temp.to_excel('Temperature_calculations.xlsx')"
   ]
  },
  {
   "cell_type": "markdown",
   "id": "5754a6e9-614f-4ab7-81bf-20ff29461171",
   "metadata": {},
   "source": [
    "## 5 - A simple Temperature and pressure estimation"
   ]
  },
  {
   "cell_type": "code",
   "execution_count": 14,
   "id": "b0a1e0dd-85b1-4ae3-9215-94223f3cffc2",
   "metadata": {},
   "outputs": [
    {
     "data": {
      "text/html": [
       "<div>\n",
       "<style scoped>\n",
       "    .dataframe tbody tr th:only-of-type {\n",
       "        vertical-align: middle;\n",
       "    }\n",
       "\n",
       "    .dataframe tbody tr th {\n",
       "        vertical-align: top;\n",
       "    }\n",
       "\n",
       "    .dataframe thead th {\n",
       "        text-align: right;\n",
       "    }\n",
       "</style>\n",
       "<table border=\"1\" class=\"dataframe\">\n",
       "  <thead>\n",
       "    <tr style=\"text-align: right;\">\n",
       "      <th></th>\n",
       "      <th>P_kbar_calc</th>\n",
       "      <th>T_K_calc</th>\n",
       "    </tr>\n",
       "  </thead>\n",
       "  <tbody>\n",
       "    <tr>\n",
       "      <th>0</th>\n",
       "      <td>2.530914</td>\n",
       "      <td>1352.408784</td>\n",
       "    </tr>\n",
       "    <tr>\n",
       "      <th>1</th>\n",
       "      <td>1.786845</td>\n",
       "      <td>1290.151507</td>\n",
       "    </tr>\n",
       "    <tr>\n",
       "      <th>2</th>\n",
       "      <td>1.171520</td>\n",
       "      <td>1255.933868</td>\n",
       "    </tr>\n",
       "    <tr>\n",
       "      <th>3</th>\n",
       "      <td>2.143416</td>\n",
       "      <td>1292.669093</td>\n",
       "    </tr>\n",
       "    <tr>\n",
       "      <th>4</th>\n",
       "      <td>2.763538</td>\n",
       "      <td>1243.469600</td>\n",
       "    </tr>\n",
       "  </tbody>\n",
       "</table>\n",
       "</div>"
      ],
      "text/plain": [
       "   P_kbar_calc     T_K_calc\n",
       "0     2.530914  1352.408784\n",
       "1     1.786845  1290.151507\n",
       "2     1.171520  1255.933868\n",
       "3     2.143416  1292.669093\n",
       "4     2.763538  1243.469600"
      ]
     },
     "execution_count": 14,
     "metadata": {},
     "output_type": "execute_result"
    }
   ],
   "source": [
    "PT_iter_30_31=pt.calculate_cpx_liq_press_temp(cpx_comps=Cpxs, liq_comps=Liqs, equationP=\"P_Put2008_eq30\", equationT=\"T_Put2008_eq33\")\n",
    "PT_iter_30_31"
   ]
  },
  {
   "cell_type": "markdown",
   "id": "2c3edf77-1c68-43cd-a889-8f9ed08ea40c",
   "metadata": {},
   "source": [
    "In the example above, <em>calculate_Cpx_Liq_PT_Iter</em> iterates equation 30 from Putirka (2008) for P, and equation 33 from Putirka (2008) for temperature. The output is a panda's dataframe."
   ]
  },
  {
   "cell_type": "code",
   "execution_count": null,
   "id": "cdbe71e9-556b-4945-b0a4-9da748314392",
   "metadata": {},
   "outputs": [],
   "source": []
  }
 ],
 "metadata": {
  "kernelspec": {
   "display_name": "Python 3",
   "language": "python",
   "name": "python3"
  },
  "language_info": {
   "codemirror_mode": {
    "name": "ipython",
    "version": 3
   },
   "file_extension": ".py",
   "mimetype": "text/x-python",
   "name": "python",
   "nbconvert_exporter": "python",
   "pygments_lexer": "ipython3",
   "version": "3.8.5"
  }
 },
 "nbformat": 4,
 "nbformat_minor": 5
}
