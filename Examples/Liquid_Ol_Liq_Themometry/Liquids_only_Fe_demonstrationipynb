{
 "cells": [
  {
   "cell_type": "markdown",
   "id": "fe7d4d48-f56f-475e-9676-c6a086a3022a",
   "metadata": {},
   "source": [
    "# This notebook demonstrates the flexibility wrt. to the input of data as FeO, Fe2O3 and FeOt"
   ]
  },
  {
   "cell_type": "code",
   "execution_count": 1,
   "id": "5de8011f-e541-4cf5-9454-432b784a4608",
   "metadata": {},
   "outputs": [],
   "source": [
    "import numpy as np\n",
    "import pandas as pd\n",
    "import sys\n",
    "sys.path.append(\"../..\")\n",
    "import matplotlib.pyplot as plt\n",
    "import Thermobar as pt\n",
    "pd.options.display.max_columns = None"
   ]
  },
  {
   "cell_type": "markdown",
   "id": "12309a37-1222-4ccd-803d-1fd40dea00a1",
   "metadata": {},
   "source": [
    "## To avoid common problems where say XRF data is reported as Fe2O3, but is actually unknown specation, Thermobar only recognises FeOt as a column heading. \n",
    "- to specify a Fe3FeT_Liq proportion, please enter as FeOt, and add an Fe3Fet_Liq column. At the moment, this is only implemented for liquids, as the redox state of other phases is to uncertain at the time of writing\n",
    "- If users have FeO_ or Fe2O3_ in their spreadsheet and no FeOt_ column, the cod raises an input error."
   ]
  },
  {
   "cell_type": "code",
   "execution_count": 2,
   "id": "df9c1caf-494c-409f-8ff6-cb22f99f697b",
   "metadata": {},
   "outputs": [
    {
     "ename": "ValueError",
     "evalue": "No FeOt found. You've got a column heading with FeO. To avoid errors based on common EPMA outputs thermobar only recognises columns with FeOt for all phases except liquid where you can also enter a Fe3Fet_Liq heading used for equilibrium tests",
     "output_type": "error",
     "traceback": [
      "\u001b[1;31m---------------------------------------------------------------------------\u001b[0m",
      "\u001b[1;31mValueError\u001b[0m                                Traceback (most recent call last)",
      "\u001b[1;32m<ipython-input-2-fd5d897c9700>\u001b[0m in \u001b[0;36m<module>\u001b[1;34m\u001b[0m\n\u001b[1;32m----> 1\u001b[1;33m \u001b[0mout_FeO\u001b[0m\u001b[1;33m=\u001b[0m\u001b[0mpt\u001b[0m\u001b[1;33m.\u001b[0m\u001b[0mimport_excel\u001b[0m\u001b[1;33m(\u001b[0m\u001b[1;34m'Liquid_only_Thermometry.xlsx'\u001b[0m\u001b[1;33m,\u001b[0m \u001b[0msheet_name\u001b[0m\u001b[1;33m=\u001b[0m\u001b[1;34m\"Liquids_FeO_only\"\u001b[0m\u001b[1;33m)\u001b[0m\u001b[1;33m\u001b[0m\u001b[1;33m\u001b[0m\u001b[0m\n\u001b[0m\u001b[0;32m      2\u001b[0m \u001b[1;31m# All the outputs are stored in a dictioary \"out\" which searches for all possible minerals (e.g., ol, liq, cpx, plag, amp).\u001b[0m\u001b[1;33m\u001b[0m\u001b[1;33m\u001b[0m\u001b[1;33m\u001b[0m\u001b[0m\n\u001b[0;32m      3\u001b[0m \u001b[1;31m#The ones you don't have will just be filled with zeros. Then, subsample the ones you want.\u001b[0m\u001b[1;33m\u001b[0m\u001b[1;33m\u001b[0m\u001b[1;33m\u001b[0m\u001b[0m\n\u001b[0;32m      4\u001b[0m \u001b[1;31m# My input just stores all the columns you entered, including non chemical data such as latitude\u001b[0m\u001b[1;33m\u001b[0m\u001b[1;33m\u001b[0m\u001b[1;33m\u001b[0m\u001b[0m\n\u001b[0;32m      5\u001b[0m \u001b[0mmy_input_FeO\u001b[0m\u001b[1;33m=\u001b[0m\u001b[0mout_FeO\u001b[0m\u001b[1;33m[\u001b[0m\u001b[1;34m'my_input'\u001b[0m\u001b[1;33m]\u001b[0m\u001b[1;33m\u001b[0m\u001b[1;33m\u001b[0m\u001b[0m\n",
      "\u001b[1;32m~\\OneDrive - Oregon State University\\Postdoc\\PyMME\\MyBarometers\\Thermobar_outer\\Thermobar\\import_export.py\u001b[0m in \u001b[0;36mimport_excel\u001b[1;34m(filename, sheet_name, sample_label, GEOROC)\u001b[0m\n\u001b[0;32m    276\u001b[0m \u001b[1;33m\u001b[0m\u001b[0m\n\u001b[0;32m    277\u001b[0m     \u001b[1;32mif\u001b[0m \u001b[0many\u001b[0m\u001b[1;33m(\u001b[0m\u001b[0mmy_input\u001b[0m\u001b[1;33m.\u001b[0m\u001b[0mcolumns\u001b[0m\u001b[1;33m.\u001b[0m\u001b[0mstr\u001b[0m\u001b[1;33m.\u001b[0m\u001b[0mcontains\u001b[0m\u001b[1;33m(\u001b[0m\u001b[1;34m\"FeO_\"\u001b[0m\u001b[1;33m)\u001b[0m\u001b[1;33m)\u001b[0m \u001b[1;32mand\u001b[0m \u001b[1;33m~\u001b[0m\u001b[0many\u001b[0m\u001b[1;33m(\u001b[0m\u001b[0mmy_input\u001b[0m\u001b[1;33m.\u001b[0m\u001b[0mcolumns\u001b[0m\u001b[1;33m.\u001b[0m\u001b[0mstr\u001b[0m\u001b[1;33m.\u001b[0m\u001b[0mcontains\u001b[0m\u001b[1;33m(\u001b[0m\u001b[1;34m\"FeOt_\"\u001b[0m\u001b[1;33m)\u001b[0m\u001b[1;33m)\u001b[0m\u001b[1;33m:\u001b[0m\u001b[1;33m\u001b[0m\u001b[1;33m\u001b[0m\u001b[0m\n\u001b[1;32m--> 278\u001b[1;33m         raise ValueError(\"No FeOt found. You've got a column heading with FeO. To avoid errors based on common EPMA outputs\"\n\u001b[0m\u001b[0;32m    279\u001b[0m         \u001b[1;34m\" thermobar only recognises columns with FeOt for all phases except liquid\"\u001b[0m\u001b[1;33m\u001b[0m\u001b[1;33m\u001b[0m\u001b[0m\n\u001b[0;32m    280\u001b[0m         \" where you can also enter a Fe3Fet_Liq heading used for equilibrium tests\")\n",
      "\u001b[1;31mValueError\u001b[0m: No FeOt found. You've got a column heading with FeO. To avoid errors based on common EPMA outputs thermobar only recognises columns with FeOt for all phases except liquid where you can also enter a Fe3Fet_Liq heading used for equilibrium tests"
     ]
    }
   ],
   "source": [
    "out_FeO=pt.import_excel('Liquid_only_Thermometry.xlsx', sheet_name=\"Liquids_FeO_only\")\n",
    "# All the outputs are stored in a dictioary \"out\" which searches for all possible minerals (e.g., ol, liq, cpx, plag, amp). \n",
    "#The ones you don't have will just be filled with zeros. Then, subsample the ones you want.\n",
    "# My input just stores all the columns you entered, including non chemical data such as latitude\n",
    "my_input_FeO=out_FeO['my_input']\n",
    "myLiquids1_FeO=out_FeO['Liqs']"
   ]
  },
  {
   "cell_type": "code",
   "execution_count": null,
   "id": "f279e290-da97-4a79-a31e-93f563f09527",
   "metadata": {},
   "outputs": [],
   "source": [
    "myLiquids1_FeO"
   ]
  },
  {
   "cell_type": "code",
   "execution_count": null,
   "id": "46e4224d-3076-4ddc-8650-90782d6dac5c",
   "metadata": {},
   "outputs": [],
   "source": [
    " "
   ]
  }
 ],
 "metadata": {
  "kernelspec": {
   "display_name": "Python 3",
   "language": "python",
   "name": "python3"
  },
  "language_info": {
   "codemirror_mode": {
    "name": "ipython",
    "version": 3
   },
   "file_extension": ".py",
   "mimetype": "text/x-python",
   "name": "python",
   "nbconvert_exporter": "python",
   "pygments_lexer": "ipython3",
   "version": "3.8.5"
  }
 },
 "nbformat": 4,
 "nbformat_minor": 5
}
