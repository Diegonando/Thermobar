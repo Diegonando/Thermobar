{
 "cells": [
  {
   "cell_type": "markdown",
   "id": "f14e6532-a513-46b1-a3f0-a2ca0d2ba1be",
   "metadata": {},
   "source": [
    "# This workbook demonstrates how to use the various amphibole-only, and amphibole-liquid functions"
   ]
  },
  {
   "cell_type": "markdown",
   "id": "4c9a0348-3cc9-4c20-a608-358b57c93834",
   "metadata": {},
   "source": [
    "## Load python things"
   ]
  },
  {
   "cell_type": "code",
   "execution_count": 1,
   "id": "ab1e4ba2-d2d8-4082-bf81-b803d7c16fce",
   "metadata": {},
   "outputs": [],
   "source": [
    "import numpy as np\n",
    "import pandas as pd\n",
    "import sys\n",
    "sys.path.append(\"../..\")\n",
    "import matplotlib.pyplot as plt\n",
    "import Thermobar as pt\n",
    "pd.options.display.max_columns = None"
   ]
  },
  {
   "cell_type": "markdown",
   "id": "ab04c6fa-e684-42c4-9997-e4f11c354f7e",
   "metadata": {},
   "source": [
    "## Load data"
   ]
  },
  {
   "cell_type": "code",
   "execution_count": 2,
   "id": "833ae94f-687b-46c4-8f47-cd1c0d67a266",
   "metadata": {},
   "outputs": [],
   "source": [
    "out=pt.import_excel('Amphibole_Liquids.xlsx', sheet_name=\"Sheet1\")\n",
    "my_input=out['my_input']\n",
    "Amps=out['Amps']\n",
    "Liqs=out['Liqs']"
   ]
  },
  {
   "cell_type": "code",
   "execution_count": 3,
   "id": "b0a41043-c300-4461-9329-4ff3e3982c43",
   "metadata": {},
   "outputs": [
    {
     "data": {
      "text/html": [
       "<div>\n",
       "<style scoped>\n",
       "    .dataframe tbody tr th:only-of-type {\n",
       "        vertical-align: middle;\n",
       "    }\n",
       "\n",
       "    .dataframe tbody tr th {\n",
       "        vertical-align: top;\n",
       "    }\n",
       "\n",
       "    .dataframe thead th {\n",
       "        text-align: right;\n",
       "    }\n",
       "</style>\n",
       "<table border=\"1\" class=\"dataframe\">\n",
       "  <thead>\n",
       "    <tr style=\"text-align: right;\">\n",
       "      <th></th>\n",
       "      <th>SiO2_Amp</th>\n",
       "      <th>TiO2_Amp</th>\n",
       "      <th>Al2O3_Amp</th>\n",
       "      <th>FeOt_Amp</th>\n",
       "      <th>MnO_Amp</th>\n",
       "      <th>MgO_Amp</th>\n",
       "      <th>CaO_Amp</th>\n",
       "      <th>Na2O_Amp</th>\n",
       "      <th>K2O_Amp</th>\n",
       "      <th>Cr2O3_Amp</th>\n",
       "      <th>F_Amp</th>\n",
       "      <th>Cl_Amp</th>\n",
       "      <th>Sample_ID_Amp</th>\n",
       "    </tr>\n",
       "  </thead>\n",
       "  <tbody>\n",
       "    <tr>\n",
       "      <th>0</th>\n",
       "      <td>40.57</td>\n",
       "      <td>2.45</td>\n",
       "      <td>12.82</td>\n",
       "      <td>13.11</td>\n",
       "      <td>0.26</td>\n",
       "      <td>13.02</td>\n",
       "      <td>11.63</td>\n",
       "      <td>2.20</td>\n",
       "      <td>0.92</td>\n",
       "      <td>0.00</td>\n",
       "      <td>0.0</td>\n",
       "      <td>0.0</td>\n",
       "      <td>probe1</td>\n",
       "    </tr>\n",
       "    <tr>\n",
       "      <th>1</th>\n",
       "      <td>39.45</td>\n",
       "      <td>1.88</td>\n",
       "      <td>10.80</td>\n",
       "      <td>11.85</td>\n",
       "      <td>0.00</td>\n",
       "      <td>11.32</td>\n",
       "      <td>10.94</td>\n",
       "      <td>2.04</td>\n",
       "      <td>0.75</td>\n",
       "      <td>0.00</td>\n",
       "      <td>0.0</td>\n",
       "      <td>0.0</td>\n",
       "      <td>probe2</td>\n",
       "    </tr>\n",
       "    <tr>\n",
       "      <th>2</th>\n",
       "      <td>42.88</td>\n",
       "      <td>3.46</td>\n",
       "      <td>14.28</td>\n",
       "      <td>15.99</td>\n",
       "      <td>0.54</td>\n",
       "      <td>14.25</td>\n",
       "      <td>12.12</td>\n",
       "      <td>2.43</td>\n",
       "      <td>1.18</td>\n",
       "      <td>0.03</td>\n",
       "      <td>0.0</td>\n",
       "      <td>0.0</td>\n",
       "      <td>probe3</td>\n",
       "    </tr>\n",
       "    <tr>\n",
       "      <th>3</th>\n",
       "      <td>42.20</td>\n",
       "      <td>2.75</td>\n",
       "      <td>11.10</td>\n",
       "      <td>13.10</td>\n",
       "      <td>0.39</td>\n",
       "      <td>13.55</td>\n",
       "      <td>11.07</td>\n",
       "      <td>2.27</td>\n",
       "      <td>0.95</td>\n",
       "      <td>0.01</td>\n",
       "      <td>0.0</td>\n",
       "      <td>0.0</td>\n",
       "      <td>probe4</td>\n",
       "    </tr>\n",
       "    <tr>\n",
       "      <th>4</th>\n",
       "      <td>40.37</td>\n",
       "      <td>2.28</td>\n",
       "      <td>10.06</td>\n",
       "      <td>11.76</td>\n",
       "      <td>0.19</td>\n",
       "      <td>12.41</td>\n",
       "      <td>10.40</td>\n",
       "      <td>2.09</td>\n",
       "      <td>0.82</td>\n",
       "      <td>0.00</td>\n",
       "      <td>0.0</td>\n",
       "      <td>0.0</td>\n",
       "      <td>probe5</td>\n",
       "    </tr>\n",
       "  </tbody>\n",
       "</table>\n",
       "</div>"
      ],
      "text/plain": [
       "   SiO2_Amp  TiO2_Amp  Al2O3_Amp  FeOt_Amp  MnO_Amp  MgO_Amp  CaO_Amp  \\\n",
       "0     40.57      2.45      12.82     13.11     0.26    13.02    11.63   \n",
       "1     39.45      1.88      10.80     11.85     0.00    11.32    10.94   \n",
       "2     42.88      3.46      14.28     15.99     0.54    14.25    12.12   \n",
       "3     42.20      2.75      11.10     13.10     0.39    13.55    11.07   \n",
       "4     40.37      2.28      10.06     11.76     0.19    12.41    10.40   \n",
       "\n",
       "   Na2O_Amp  K2O_Amp  Cr2O3_Amp  F_Amp  Cl_Amp Sample_ID_Amp  \n",
       "0      2.20     0.92       0.00    0.0     0.0        probe1  \n",
       "1      2.04     0.75       0.00    0.0     0.0        probe2  \n",
       "2      2.43     1.18       0.03    0.0     0.0        probe3  \n",
       "3      2.27     0.95       0.01    0.0     0.0        probe4  \n",
       "4      2.09     0.82       0.00    0.0     0.0        probe5  "
      ]
     },
     "metadata": {},
     "output_type": "display_data"
    },
    {
     "data": {
      "text/html": [
       "<div>\n",
       "<style scoped>\n",
       "    .dataframe tbody tr th:only-of-type {\n",
       "        vertical-align: middle;\n",
       "    }\n",
       "\n",
       "    .dataframe tbody tr th {\n",
       "        vertical-align: top;\n",
       "    }\n",
       "\n",
       "    .dataframe thead th {\n",
       "        text-align: right;\n",
       "    }\n",
       "</style>\n",
       "<table border=\"1\" class=\"dataframe\">\n",
       "  <thead>\n",
       "    <tr style=\"text-align: right;\">\n",
       "      <th></th>\n",
       "      <th>SiO2_Liq</th>\n",
       "      <th>TiO2_Liq</th>\n",
       "      <th>Al2O3_Liq</th>\n",
       "      <th>FeOt_Liq</th>\n",
       "      <th>MnO_Liq</th>\n",
       "      <th>MgO_Liq</th>\n",
       "      <th>CaO_Liq</th>\n",
       "      <th>Na2O_Liq</th>\n",
       "      <th>K2O_Liq</th>\n",
       "      <th>Cr2O3_Liq</th>\n",
       "      <th>P2O5_Liq</th>\n",
       "      <th>H2O_Liq</th>\n",
       "      <th>Fe3Fet_Liq</th>\n",
       "      <th>NiO_Liq</th>\n",
       "      <th>CoO_Liq</th>\n",
       "      <th>CO2_Liq</th>\n",
       "      <th>Sample_ID_Liq</th>\n",
       "    </tr>\n",
       "  </thead>\n",
       "  <tbody>\n",
       "    <tr>\n",
       "      <th>0</th>\n",
       "      <td>62.317403</td>\n",
       "      <td>0.592583</td>\n",
       "      <td>17.015042</td>\n",
       "      <td>5.578974</td>\n",
       "      <td>0.147384</td>\n",
       "      <td>1.493784</td>\n",
       "      <td>5.199067</td>\n",
       "      <td>3.799517</td>\n",
       "      <td>3.840125</td>\n",
       "      <td>0</td>\n",
       "      <td>0.320967</td>\n",
       "      <td>5</td>\n",
       "      <td>0.0</td>\n",
       "      <td>0.0</td>\n",
       "      <td>0.0</td>\n",
       "      <td>0.0</td>\n",
       "      <td>probe_s2_1</td>\n",
       "    </tr>\n",
       "    <tr>\n",
       "      <th>1</th>\n",
       "      <td>63.410655</td>\n",
       "      <td>0.567627</td>\n",
       "      <td>16.682223</td>\n",
       "      <td>5.211648</td>\n",
       "      <td>0.139473</td>\n",
       "      <td>1.343074</td>\n",
       "      <td>4.680291</td>\n",
       "      <td>3.797226</td>\n",
       "      <td>4.118336</td>\n",
       "      <td>0</td>\n",
       "      <td>0.320854</td>\n",
       "      <td>5</td>\n",
       "      <td>0.0</td>\n",
       "      <td>0.0</td>\n",
       "      <td>0.0</td>\n",
       "      <td>0.0</td>\n",
       "      <td>probe_s2_2</td>\n",
       "    </tr>\n",
       "    <tr>\n",
       "      <th>2</th>\n",
       "      <td>64.978351</td>\n",
       "      <td>0.531840</td>\n",
       "      <td>16.204967</td>\n",
       "      <td>4.684912</td>\n",
       "      <td>0.128130</td>\n",
       "      <td>1.126960</td>\n",
       "      <td>3.936379</td>\n",
       "      <td>3.793940</td>\n",
       "      <td>4.517285</td>\n",
       "      <td>0</td>\n",
       "      <td>0.320691</td>\n",
       "      <td>5</td>\n",
       "      <td>0.0</td>\n",
       "      <td>0.0</td>\n",
       "      <td>0.0</td>\n",
       "      <td>0.0</td>\n",
       "      <td>probe_s2_3</td>\n",
       "    </tr>\n",
       "    <tr>\n",
       "      <th>3</th>\n",
       "      <td>60.953715</td>\n",
       "      <td>0.623712</td>\n",
       "      <td>17.430191</td>\n",
       "      <td>6.037164</td>\n",
       "      <td>0.157251</td>\n",
       "      <td>1.681775</td>\n",
       "      <td>5.846172</td>\n",
       "      <td>3.802375</td>\n",
       "      <td>3.493093</td>\n",
       "      <td>0</td>\n",
       "      <td>0.321109</td>\n",
       "      <td>5</td>\n",
       "      <td>0.0</td>\n",
       "      <td>0.0</td>\n",
       "      <td>0.0</td>\n",
       "      <td>0.0</td>\n",
       "      <td>probe_s2_4</td>\n",
       "    </tr>\n",
       "    <tr>\n",
       "      <th>4</th>\n",
       "      <td>60.188394</td>\n",
       "      <td>0.641183</td>\n",
       "      <td>17.663178</td>\n",
       "      <td>6.294307</td>\n",
       "      <td>0.162789</td>\n",
       "      <td>1.787278</td>\n",
       "      <td>6.209337</td>\n",
       "      <td>3.803979</td>\n",
       "      <td>3.298333</td>\n",
       "      <td>0</td>\n",
       "      <td>0.321189</td>\n",
       "      <td>5</td>\n",
       "      <td>0.0</td>\n",
       "      <td>0.0</td>\n",
       "      <td>0.0</td>\n",
       "      <td>0.0</td>\n",
       "      <td>probe_s2_5</td>\n",
       "    </tr>\n",
       "  </tbody>\n",
       "</table>\n",
       "</div>"
      ],
      "text/plain": [
       "    SiO2_Liq  TiO2_Liq  Al2O3_Liq  FeOt_Liq   MnO_Liq   MgO_Liq   CaO_Liq  \\\n",
       "0  62.317403  0.592583  17.015042  5.578974  0.147384  1.493784  5.199067   \n",
       "1  63.410655  0.567627  16.682223  5.211648  0.139473  1.343074  4.680291   \n",
       "2  64.978351  0.531840  16.204967  4.684912  0.128130  1.126960  3.936379   \n",
       "3  60.953715  0.623712  17.430191  6.037164  0.157251  1.681775  5.846172   \n",
       "4  60.188394  0.641183  17.663178  6.294307  0.162789  1.787278  6.209337   \n",
       "\n",
       "   Na2O_Liq   K2O_Liq  Cr2O3_Liq  P2O5_Liq  H2O_Liq  Fe3Fet_Liq  NiO_Liq  \\\n",
       "0  3.799517  3.840125          0  0.320967        5         0.0      0.0   \n",
       "1  3.797226  4.118336          0  0.320854        5         0.0      0.0   \n",
       "2  3.793940  4.517285          0  0.320691        5         0.0      0.0   \n",
       "3  3.802375  3.493093          0  0.321109        5         0.0      0.0   \n",
       "4  3.803979  3.298333          0  0.321189        5         0.0      0.0   \n",
       "\n",
       "   CoO_Liq  CO2_Liq Sample_ID_Liq  \n",
       "0      0.0      0.0    probe_s2_1  \n",
       "1      0.0      0.0    probe_s2_2  \n",
       "2      0.0      0.0    probe_s2_3  \n",
       "3      0.0      0.0    probe_s2_4  \n",
       "4      0.0      0.0    probe_s2_5  "
      ]
     },
     "metadata": {},
     "output_type": "display_data"
    }
   ],
   "source": [
    "display(Amps.head())\n",
    "display(Liqs.head())"
   ]
  },
  {
   "cell_type": "markdown",
   "id": "f0e72ca0-74be-4d31-a238-03096df72a74",
   "metadata": {},
   "source": [
    "## Example 1 - Amphibole-only pressure\n",
    "- can use help to see equation options"
   ]
  },
  {
   "cell_type": "code",
   "execution_count": 10,
   "id": "f5a8b891-670f-4232-b6d4-970798ada276",
   "metadata": {},
   "outputs": [
    {
     "name": "stdout",
     "output_type": "stream",
     "text": [
      "Help on function calculate_amp_only_press in module Thermobar.amphibole:\n",
      "\n",
      "calculate_amp_only_press(amp_comps=None, equationP=None, T=None)\n",
      "    Amphibole-only barometry, returns pressure in kbar.\n",
      "    \n",
      "    amp_comps: DataFrame\n",
      "        Amphibole compositions with column headings SiO2_Amp, MgO_Amp etc.\n",
      "    \n",
      "    \n",
      "    EquationP: str\n",
      "        | P_Mutch2016 (T-independent)\n",
      "        | P_Ridolfi2012_1a (T-independent)\n",
      "        | P_Ridolfi2012_1b (T-independent)\n",
      "        | P_Ridolfi2012_1c (T-independent)\n",
      "        | P_Ridolfi2012_1d (T-independent)\n",
      "        | P_Ridolfi2012_1e (T-independent)\n",
      "        | P_Ridolfi2021 - (T-independent)- Uses new algorithm in 2021 paper to\n",
      "        select pressures from equations 1a-e.\n",
      "    \n",
      "        | P_Ridolfi2010  (T-independent)\n",
      "        | P_Hammerstrom1986_eq1  (T-independent)\n",
      "        | P_Hammerstrom1986_eq2 (T-independent)\n",
      "        | P_Hammerstrom1986_eq3 (T-independent)\n",
      "        | P_Hollister1987 (T-independent)\n",
      "        | P_Johnson1989 (T-independent)\n",
      "        | P_Blundy1990 (T-independent)\n",
      "        | P_Schmidt1992 (T-independent)\n",
      "        | P_Anderson1995 (*T-dependent*)\n",
      "    \n",
      "    T: float, int, series, str  (\"Solve\")\n",
      "        Temperature in Kelvin\n",
      "        Only needed for T-sensitive barometers.\n",
      "        If enter T=\"Solve\", returns a partial function\n",
      "        Else, enter an integer, float, or panda series\n",
      "    \n",
      "    Returns\n",
      "    -------\n",
      "    pandas series\n",
      "       Pressure in kbar\n",
      "\n"
     ]
    }
   ],
   "source": [
    "help(pt.calculate_amp_only_press)"
   ]
  },
  {
   "cell_type": "markdown",
   "id": "e3000341-a48b-4eb0-93d4-ae26ab84ac67",
   "metadata": {},
   "source": [
    "### Ridolfi 2021 - Minerals - algorithm\n",
    "- here, we specify equationP=\"P_Ridolfi2021\", which combines equations 1a-1e from Ridolfi 2012 and chooses the \"correct\" equation using a number of filters (see Ridolfi 2021, Minerals)\n",
    "- The output prints what was selected"
   ]
  },
  {
   "cell_type": "code",
   "execution_count": 11,
   "id": "8ca0733c-9cbd-4004-a609-f7f26642e719",
   "metadata": {},
   "outputs": [
    {
     "name": "stdout",
     "output_type": "stream",
     "text": [
      "The sum of Si, Ti, Al, Fe, Mg, Ca, Na and K based on 13 cations for some input amphiboles is <90; P=nan is returned for these analyses\n"
     ]
    },
    {
     "data": {
      "text/html": [
       "<div>\n",
       "<style scoped>\n",
       "    .dataframe tbody tr th:only-of-type {\n",
       "        vertical-align: middle;\n",
       "    }\n",
       "\n",
       "    .dataframe tbody tr th {\n",
       "        vertical-align: top;\n",
       "    }\n",
       "\n",
       "    .dataframe thead th {\n",
       "        text-align: right;\n",
       "    }\n",
       "</style>\n",
       "<table border=\"1\" class=\"dataframe\">\n",
       "  <thead>\n",
       "    <tr style=\"text-align: right;\">\n",
       "      <th></th>\n",
       "      <th>P_kbar_calc</th>\n",
       "      <th>equation</th>\n",
       "    </tr>\n",
       "  </thead>\n",
       "  <tbody>\n",
       "    <tr>\n",
       "      <th>0</th>\n",
       "      <td>4.572174</td>\n",
       "      <td>(1b+1c)/2</td>\n",
       "    </tr>\n",
       "    <tr>\n",
       "      <th>1</th>\n",
       "      <td>NaN</td>\n",
       "      <td>1b</td>\n",
       "    </tr>\n",
       "    <tr>\n",
       "      <th>2</th>\n",
       "      <td>6.203253</td>\n",
       "      <td>1c+1d</td>\n",
       "    </tr>\n",
       "    <tr>\n",
       "      <th>3</th>\n",
       "      <td>3.228704</td>\n",
       "      <td>1b</td>\n",
       "    </tr>\n",
       "    <tr>\n",
       "      <th>4</th>\n",
       "      <td>2.761702</td>\n",
       "      <td>1b</td>\n",
       "    </tr>\n",
       "  </tbody>\n",
       "</table>\n",
       "</div>"
      ],
      "text/plain": [
       "   P_kbar_calc   equation\n",
       "0     4.572174  (1b+1c)/2\n",
       "1          NaN         1b\n",
       "2     6.203253      1c+1d\n",
       "3     3.228704         1b\n",
       "4     2.761702         1b"
      ]
     },
     "execution_count": 11,
     "metadata": {},
     "output_type": "execute_result"
    }
   ],
   "source": [
    "P_Ridolfi2021=pt.calculate_amp_only_press(amp_comps=Amps, equationP=\"P_Ridolfi2021\")\n",
    "P_Ridolfi2021.head()"
   ]
  },
  {
   "cell_type": "markdown",
   "id": "1d2c5945-28cb-4634-b1e0-fa389f10af66",
   "metadata": {},
   "source": [
    "### Else, we can use the equation of Mutch 2016"
   ]
  },
  {
   "cell_type": "code",
   "execution_count": 12,
   "id": "08c12f00-92a5-4e2b-8ee6-7169adbf2728",
   "metadata": {},
   "outputs": [
    {
     "data": {
      "text/html": [
       "<div>\n",
       "<style scoped>\n",
       "    .dataframe tbody tr th:only-of-type {\n",
       "        vertical-align: middle;\n",
       "    }\n",
       "\n",
       "    .dataframe tbody tr th {\n",
       "        vertical-align: top;\n",
       "    }\n",
       "\n",
       "    .dataframe thead th {\n",
       "        text-align: right;\n",
       "    }\n",
       "</style>\n",
       "<table border=\"1\" class=\"dataframe\">\n",
       "  <thead>\n",
       "    <tr style=\"text-align: right;\">\n",
       "      <th></th>\n",
       "      <th>P_kbar_calc</th>\n",
       "      <th>Si_T</th>\n",
       "      <th>Al_T</th>\n",
       "      <th>Al_C</th>\n",
       "      <th>Ti_C</th>\n",
       "      <th>Mg_C</th>\n",
       "      <th>Fe3_C</th>\n",
       "      <th>Fe2_C</th>\n",
       "      <th>Mn_C</th>\n",
       "      <th>Cr_C</th>\n",
       "      <th>Mg_B</th>\n",
       "      <th>Fe2_B</th>\n",
       "      <th>Mn_B</th>\n",
       "      <th>Na_B</th>\n",
       "      <th>Ca_B</th>\n",
       "      <th>Na_A</th>\n",
       "      <th>K_A</th>\n",
       "      <th>Al_tot</th>\n",
       "    </tr>\n",
       "  </thead>\n",
       "  <tbody>\n",
       "    <tr>\n",
       "      <th>0</th>\n",
       "      <td>6.252577</td>\n",
       "      <td>6.025054</td>\n",
       "      <td>1.974946</td>\n",
       "      <td>0.268940</td>\n",
       "      <td>0.273685</td>\n",
       "      <td>2.882541</td>\n",
       "      <td>0.477503</td>\n",
       "      <td>1.097331</td>\n",
       "      <td>0.000000e+00</td>\n",
       "      <td>0.00000</td>\n",
       "      <td>0.0</td>\n",
       "      <td>0.053392</td>\n",
       "      <td>0.032705</td>\n",
       "      <td>0.063319</td>\n",
       "      <td>1.850584</td>\n",
       "      <td>0.570150</td>\n",
       "      <td>0.174302</td>\n",
       "      <td>2.243886</td>\n",
       "    </tr>\n",
       "    <tr>\n",
       "      <th>1</th>\n",
       "      <td>5.416489</td>\n",
       "      <td>6.393160</td>\n",
       "      <td>1.606840</td>\n",
       "      <td>0.455922</td>\n",
       "      <td>0.229169</td>\n",
       "      <td>2.734787</td>\n",
       "      <td>0.045632</td>\n",
       "      <td>1.534490</td>\n",
       "      <td>0.000000e+00</td>\n",
       "      <td>0.00000</td>\n",
       "      <td>0.0</td>\n",
       "      <td>0.025869</td>\n",
       "      <td>0.000000</td>\n",
       "      <td>0.074545</td>\n",
       "      <td>1.899586</td>\n",
       "      <td>0.566437</td>\n",
       "      <td>0.155056</td>\n",
       "      <td>2.062763</td>\n",
       "    </tr>\n",
       "    <tr>\n",
       "      <th>2</th>\n",
       "      <td>6.380755</td>\n",
       "      <td>5.784745</td>\n",
       "      <td>2.215255</td>\n",
       "      <td>0.055209</td>\n",
       "      <td>0.351103</td>\n",
       "      <td>2.865846</td>\n",
       "      <td>0.830090</td>\n",
       "      <td>0.894551</td>\n",
       "      <td>0.000000e+00</td>\n",
       "      <td>0.00320</td>\n",
       "      <td>0.0</td>\n",
       "      <td>0.079348</td>\n",
       "      <td>0.061703</td>\n",
       "      <td>0.107065</td>\n",
       "      <td>1.751884</td>\n",
       "      <td>0.528533</td>\n",
       "      <td>0.203081</td>\n",
       "      <td>2.270464</td>\n",
       "    </tr>\n",
       "    <tr>\n",
       "      <th>3</th>\n",
       "      <td>4.867111</td>\n",
       "      <td>6.242718</td>\n",
       "      <td>1.757282</td>\n",
       "      <td>0.177987</td>\n",
       "      <td>0.306001</td>\n",
       "      <td>2.988196</td>\n",
       "      <td>0.340790</td>\n",
       "      <td>1.185856</td>\n",
       "      <td>-8.881784e-16</td>\n",
       "      <td>0.00117</td>\n",
       "      <td>0.0</td>\n",
       "      <td>0.094001</td>\n",
       "      <td>0.048866</td>\n",
       "      <td>0.102516</td>\n",
       "      <td>1.754616</td>\n",
       "      <td>0.548564</td>\n",
       "      <td>0.179285</td>\n",
       "      <td>1.935268</td>\n",
       "    </tr>\n",
       "    <tr>\n",
       "      <th>4</th>\n",
       "      <td>4.662231</td>\n",
       "      <td>6.420595</td>\n",
       "      <td>1.579405</td>\n",
       "      <td>0.306290</td>\n",
       "      <td>0.272760</td>\n",
       "      <td>2.942367</td>\n",
       "      <td>0.149918</td>\n",
       "      <td>1.328664</td>\n",
       "      <td>0.000000e+00</td>\n",
       "      <td>0.00000</td>\n",
       "      <td>0.0</td>\n",
       "      <td>0.085573</td>\n",
       "      <td>0.025595</td>\n",
       "      <td>0.116590</td>\n",
       "      <td>1.772242</td>\n",
       "      <td>0.527891</td>\n",
       "      <td>0.166375</td>\n",
       "      <td>1.885695</td>\n",
       "    </tr>\n",
       "  </tbody>\n",
       "</table>\n",
       "</div>"
      ],
      "text/plain": [
       "   P_kbar_calc      Si_T      Al_T      Al_C      Ti_C      Mg_C     Fe3_C  \\\n",
       "0     6.252577  6.025054  1.974946  0.268940  0.273685  2.882541  0.477503   \n",
       "1     5.416489  6.393160  1.606840  0.455922  0.229169  2.734787  0.045632   \n",
       "2     6.380755  5.784745  2.215255  0.055209  0.351103  2.865846  0.830090   \n",
       "3     4.867111  6.242718  1.757282  0.177987  0.306001  2.988196  0.340790   \n",
       "4     4.662231  6.420595  1.579405  0.306290  0.272760  2.942367  0.149918   \n",
       "\n",
       "      Fe2_C          Mn_C     Cr_C  Mg_B     Fe2_B      Mn_B      Na_B  \\\n",
       "0  1.097331  0.000000e+00  0.00000   0.0  0.053392  0.032705  0.063319   \n",
       "1  1.534490  0.000000e+00  0.00000   0.0  0.025869  0.000000  0.074545   \n",
       "2  0.894551  0.000000e+00  0.00320   0.0  0.079348  0.061703  0.107065   \n",
       "3  1.185856 -8.881784e-16  0.00117   0.0  0.094001  0.048866  0.102516   \n",
       "4  1.328664  0.000000e+00  0.00000   0.0  0.085573  0.025595  0.116590   \n",
       "\n",
       "       Ca_B      Na_A       K_A    Al_tot  \n",
       "0  1.850584  0.570150  0.174302  2.243886  \n",
       "1  1.899586  0.566437  0.155056  2.062763  \n",
       "2  1.751884  0.528533  0.203081  2.270464  \n",
       "3  1.754616  0.548564  0.179285  1.935268  \n",
       "4  1.772242  0.527891  0.166375  1.885695  "
      ]
     },
     "execution_count": 12,
     "metadata": {},
     "output_type": "execute_result"
    }
   ],
   "source": [
    "P_Mutch2016=pt.calculate_amp_only_press(amp_comps=Amps, equationP=\"P_Mutch2016\")\n",
    "P_Mutch2016.head()"
   ]
  },
  {
   "cell_type": "markdown",
   "id": "d6721df3-ccd7-4b7f-a468-330b93ae957b",
   "metadata": {},
   "source": [
    "## Example 2 - Amphibole-only temperatures\n",
    "- Unlike pressures, more of these are sensitive to P\n",
    "- here, we calculate tempeatures for P=5 kbar"
   ]
  },
  {
   "cell_type": "code",
   "execution_count": 13,
   "id": "433d663f-72a2-4433-b815-4cdbbcd31d0c",
   "metadata": {},
   "outputs": [
    {
     "data": {
      "text/plain": [
       "0    1222.719936\n",
       "1    1182.392756\n",
       "2    1243.702036\n",
       "3    1205.288448\n",
       "4    1186.384118\n",
       "dtype: float64"
      ]
     },
     "execution_count": 13,
     "metadata": {},
     "output_type": "execute_result"
    }
   ],
   "source": [
    "P_Put2016_5kbar=pt.calculate_amp_only_temp(amp_comps=Amps, equationT=\"T_Put2016_eq6\", P=5)\n",
    "P_Put2016_5kbar.head()"
   ]
  },
  {
   "cell_type": "markdown",
   "id": "e81e43ef-a874-4ae0-8ede-cc3bbac758af",
   "metadata": {},
   "source": [
    "## Example 3 - Iterating P and T\n",
    "- We can also iterate pressure and temperature - most barometers are actually T-insensitive, but the function deals with this fine. "
   ]
  },
  {
   "cell_type": "code",
   "execution_count": 14,
   "id": "557fd5be-4777-407b-9256-c321cf2ec372",
   "metadata": {},
   "outputs": [
    {
     "data": {
      "text/html": [
       "<div>\n",
       "<style scoped>\n",
       "    .dataframe tbody tr th:only-of-type {\n",
       "        vertical-align: middle;\n",
       "    }\n",
       "\n",
       "    .dataframe tbody tr th {\n",
       "        vertical-align: top;\n",
       "    }\n",
       "\n",
       "    .dataframe thead th {\n",
       "        text-align: right;\n",
       "    }\n",
       "</style>\n",
       "<table border=\"1\" class=\"dataframe\">\n",
       "  <thead>\n",
       "    <tr style=\"text-align: right;\">\n",
       "      <th></th>\n",
       "      <th>P_kbar_calc</th>\n",
       "      <th>T_K_calc</th>\n",
       "    </tr>\n",
       "  </thead>\n",
       "  <tbody>\n",
       "    <tr>\n",
       "      <th>0</th>\n",
       "      <td>6.252577</td>\n",
       "      <td>1225.530720</td>\n",
       "    </tr>\n",
       "    <tr>\n",
       "      <th>1</th>\n",
       "      <td>5.416489</td>\n",
       "      <td>1183.327357</td>\n",
       "    </tr>\n",
       "    <tr>\n",
       "      <th>2</th>\n",
       "      <td>6.380755</td>\n",
       "      <td>1246.800450</td>\n",
       "    </tr>\n",
       "    <tr>\n",
       "      <th>3</th>\n",
       "      <td>4.867111</td>\n",
       "      <td>1204.990244</td>\n",
       "    </tr>\n",
       "    <tr>\n",
       "      <th>4</th>\n",
       "      <td>4.662231</td>\n",
       "      <td>1185.626165</td>\n",
       "    </tr>\n",
       "  </tbody>\n",
       "</table>\n",
       "</div>"
      ],
      "text/plain": [
       "   P_kbar_calc     T_K_calc\n",
       "0     6.252577  1225.530720\n",
       "1     5.416489  1183.327357\n",
       "2     6.380755  1246.800450\n",
       "3     4.867111  1204.990244\n",
       "4     4.662231  1185.626165"
      ]
     },
     "execution_count": 14,
     "metadata": {},
     "output_type": "execute_result"
    }
   ],
   "source": [
    "Put_Mutch=pt.calculate_amp_only_press_temp(amp_comps=Amps, equationT=\"T_Put2016_eq6\", equationP=\"P_Mutch2016\")\n",
    "Put_Mutch.head()"
   ]
  },
  {
   "cell_type": "markdown",
   "id": "9a054fdc-b3c7-4623-a82c-0c5c2c2e1f66",
   "metadata": {},
   "source": [
    "# Example 4 - Amphibole-liquid thermomtry\n",
    "- as for Amp-only, except also specify liquid composition"
   ]
  },
  {
   "cell_type": "code",
   "execution_count": 15,
   "id": "002185cf-9a85-4652-a853-6cd3de0e2814",
   "metadata": {},
   "outputs": [
    {
     "name": "stdout",
     "output_type": "stream",
     "text": [
      "Help on function calculate_amp_liq_temp in module Thermobar.amphibole:\n",
      "\n",
      "calculate_amp_liq_temp(*, amp_comps=None, liq_comps=None, equationT=None, P=None, H2O_Liq=None, eq_tests=False)\n",
      "     Amphibole-liquid thermometers. Returns temperature in Kelvin.\n",
      "    \n",
      "    Parameters\n",
      "     -------\n",
      "     amp_comps: pandas DataFrame\n",
      "         amphibole compositions (SiO2_Amp, TiO2_Amp etc.)\n",
      "    \n",
      "     liq_comps: pandas DataFrame\n",
      "         liquid compositions (SiO2_Liq, TiO2_Liq etc.)\n",
      "    \n",
      "     equationT: str\n",
      "         T_Put2016_eq4a_amp_sat (P-independent, H2O-dep through hydrous fractions)\n",
      "         T_Put2016_eq4b (P-independent, H2O-dep)\n",
      "         T_Put2016_eq9 (P-independent, H2O-dep through hydrous fractions)\n",
      "    \n",
      "     P: float, int, series, str  (\"Solve\")\n",
      "         Pressure in kbar\n",
      "         Only needed for P-sensitive thermometers.\n",
      "         If enter P=\"Solve\", returns a partial function\n",
      "         Else, enter an integer, float, or panda series\n",
      "    \n",
      "     Eq_Test: bool. Default False\n",
      "         If True, also calcualtes Kd Fe-Mg, which Putirka (2016) suggest\n",
      "         as an equilibrium test.\n",
      "    \n",
      "    \n",
      "     Returns\n",
      "     -------\n",
      "     pandas.core.series.Series\n",
      "         Temperature in Kelvin\n",
      "\n"
     ]
    }
   ],
   "source": [
    "help(pt.calculate_amp_liq_temp)"
   ]
  },
  {
   "cell_type": "markdown",
   "id": "70aad809-9dbd-4445-b5d5-22af6258a564",
   "metadata": {},
   "source": [
    "### Using T_Put2016_eq4a_amp_sat, which actually calculates the temperature at which a liquid is saturated in amphibole"
   ]
  },
  {
   "cell_type": "code",
   "execution_count": 16,
   "id": "811c2b0f-0b09-42a4-8cac-457ce62a6522",
   "metadata": {},
   "outputs": [
    {
     "data": {
      "text/plain": [
       "0    1228.795223\n",
       "1    1226.300156\n",
       "2    1221.844038\n",
       "3    1233.595436\n",
       "4    1233.106477\n",
       "dtype: float64"
      ]
     },
     "execution_count": 16,
     "metadata": {},
     "output_type": "execute_result"
    }
   ],
   "source": [
    "eq4a_T=pt.calculate_amp_liq_temp(liq_comps=Liqs, amp_comps=Amps, equationT=\"T_Put2016_eq4a_amp_sat\")\n",
    "eq4a_T.head()"
   ]
  },
  {
   "cell_type": "markdown",
   "id": "55d55fc3-5a7b-4173-94f2-fa1d504e803b",
   "metadata": {},
   "source": [
    "### As for other functions, you can also specify eq_tests=True, to get the Kd Fe-Mg value Putirka suggest may be a useful equilibrium test (+0.28+-0.11)"
   ]
  },
  {
   "cell_type": "code",
   "execution_count": 17,
   "id": "20146a0c-a434-4df8-9274-335f587a26b5",
   "metadata": {},
   "outputs": [
    {
     "data": {
      "text/html": [
       "<div>\n",
       "<style scoped>\n",
       "    .dataframe tbody tr th:only-of-type {\n",
       "        vertical-align: middle;\n",
       "    }\n",
       "\n",
       "    .dataframe tbody tr th {\n",
       "        vertical-align: top;\n",
       "    }\n",
       "\n",
       "    .dataframe thead th {\n",
       "        text-align: right;\n",
       "    }\n",
       "</style>\n",
       "<table border=\"1\" class=\"dataframe\">\n",
       "  <thead>\n",
       "    <tr style=\"text-align: right;\">\n",
       "      <th></th>\n",
       "      <th>T_K_calc</th>\n",
       "      <th>Kd-Fe-Mg</th>\n",
       "      <th>Eq Putirka 2016?</th>\n",
       "    </tr>\n",
       "  </thead>\n",
       "  <tbody>\n",
       "    <tr>\n",
       "      <th>0</th>\n",
       "      <td>1228.795223</td>\n",
       "      <td>0.269594</td>\n",
       "      <td>Y</td>\n",
       "    </tr>\n",
       "    <tr>\n",
       "      <th>1</th>\n",
       "      <td>1226.300156</td>\n",
       "      <td>0.269763</td>\n",
       "      <td>Y</td>\n",
       "    </tr>\n",
       "    <tr>\n",
       "      <th>2</th>\n",
       "      <td>1221.844038</td>\n",
       "      <td>0.269914</td>\n",
       "      <td>Y</td>\n",
       "    </tr>\n",
       "    <tr>\n",
       "      <th>3</th>\n",
       "      <td>1233.595436</td>\n",
       "      <td>0.269310</td>\n",
       "      <td>Y</td>\n",
       "    </tr>\n",
       "    <tr>\n",
       "      <th>4</th>\n",
       "      <td>1233.106477</td>\n",
       "      <td>0.269070</td>\n",
       "      <td>Y</td>\n",
       "    </tr>\n",
       "  </tbody>\n",
       "</table>\n",
       "</div>"
      ],
      "text/plain": [
       "      T_K_calc  Kd-Fe-Mg Eq Putirka 2016?\n",
       "0  1228.795223  0.269594                Y\n",
       "1  1226.300156  0.269763                Y\n",
       "2  1221.844038  0.269914                Y\n",
       "3  1233.595436  0.269310                Y\n",
       "4  1233.106477  0.269070                Y"
      ]
     },
     "execution_count": 17,
     "metadata": {},
     "output_type": "execute_result"
    }
   ],
   "source": [
    "eq4a_T_EqTest=pt.calculate_amp_liq_temp(liq_comps=Liqs, amp_comps=Amps, equationT=\"T_Put2016_eq4a_amp_sat\", eq_tests=True)\n",
    "eq4a_T_EqTest.head()"
   ]
  },
  {
   "cell_type": "markdown",
   "id": "fde4ae25-ee5e-4f7c-8fa6-f0d0098fe4c9",
   "metadata": {},
   "source": [
    "### These equations are a little sensitive to melt H2O, because they are parameterized in terms of hydrous fractions. You can overwrite the H2O_Liq value in the entered spreadsheet"
   ]
  },
  {
   "cell_type": "code",
   "execution_count": 18,
   "id": "58e27bd3-a55c-4a2a-a60a-33ee0baf9b7e",
   "metadata": {},
   "outputs": [
    {
     "data": {
      "text/plain": [
       "0    1229.395340\n",
       "1    1229.204834\n",
       "2    1228.025620\n",
       "3    1231.299927\n",
       "4    1229.196688\n",
       "dtype: float64"
      ]
     },
     "execution_count": 18,
     "metadata": {},
     "output_type": "execute_result"
    }
   ],
   "source": [
    "eq4a_T_1H2O=pt.calculate_amp_liq_temp(liq_comps=Liqs, amp_comps=Amps, equationT=\"T_Put2016_eq4a_amp_sat\", H2O_Liq=1)\n",
    "eq4a_T_1H2O.head()"
   ]
  },
  {
   "cell_type": "markdown",
   "id": "111bbfa3-e94d-4b41-aa5c-2ff90fcd6e28",
   "metadata": {},
   "source": [
    "## Example 5 - Amphibole-Liquid barometry"
   ]
  },
  {
   "cell_type": "code",
   "execution_count": 19,
   "id": "02f1baca-caf9-4e5d-9815-fe80c7b38a15",
   "metadata": {},
   "outputs": [
    {
     "data": {
      "text/plain": [
       "0    4.328014\n",
       "1    2.960536\n",
       "2    5.182170\n",
       "3    3.167717\n",
       "4    2.728212\n",
       "dtype: float64"
      ]
     },
     "execution_count": 19,
     "metadata": {},
     "output_type": "execute_result"
    }
   ],
   "source": [
    "eq7a_T_1H2O=pt.calculate_amp_liq_press(liq_comps=Liqs, amp_comps=Amps, equationP=\"P_Put2016_eq7a\", H2O_Liq=1)\n",
    "eq7a_T_1H2O.head()"
   ]
  },
  {
   "cell_type": "markdown",
   "id": "0aa2fda8-70f1-4510-8f73-c6747f980710",
   "metadata": {},
   "source": [
    "## Example 6 - Iterating equations for Pressure and temperature for amphibole liquid"
   ]
  },
  {
   "cell_type": "code",
   "execution_count": 20,
   "id": "b8c90d28-e153-4d6e-9ef7-920c7d2a39cf",
   "metadata": {},
   "outputs": [
    {
     "name": "stdout",
     "output_type": "stream",
     "text": [
      "Youve selected a P-independent function\n",
      "Youve selected a T-independent function\n"
     ]
    },
    {
     "data": {
      "text/html": [
       "<div>\n",
       "<style scoped>\n",
       "    .dataframe tbody tr th:only-of-type {\n",
       "        vertical-align: middle;\n",
       "    }\n",
       "\n",
       "    .dataframe tbody tr th {\n",
       "        vertical-align: top;\n",
       "    }\n",
       "\n",
       "    .dataframe thead th {\n",
       "        text-align: right;\n",
       "    }\n",
       "</style>\n",
       "<table border=\"1\" class=\"dataframe\">\n",
       "  <thead>\n",
       "    <tr style=\"text-align: right;\">\n",
       "      <th></th>\n",
       "      <th>P_kbar_calc</th>\n",
       "      <th>T_K_calc</th>\n",
       "    </tr>\n",
       "  </thead>\n",
       "  <tbody>\n",
       "    <tr>\n",
       "      <th>0</th>\n",
       "      <td>6.168027</td>\n",
       "      <td>1202.507284</td>\n",
       "    </tr>\n",
       "    <tr>\n",
       "      <th>1</th>\n",
       "      <td>4.801223</td>\n",
       "      <td>1189.376371</td>\n",
       "    </tr>\n",
       "    <tr>\n",
       "      <th>2</th>\n",
       "      <td>7.023825</td>\n",
       "      <td>1185.097051</td>\n",
       "    </tr>\n",
       "    <tr>\n",
       "      <th>3</th>\n",
       "      <td>5.006890</td>\n",
       "      <td>1216.975219</td>\n",
       "    </tr>\n",
       "    <tr>\n",
       "      <th>4</th>\n",
       "      <td>4.566914</td>\n",
       "      <td>1219.944334</td>\n",
       "    </tr>\n",
       "  </tbody>\n",
       "</table>\n",
       "</div>"
      ],
      "text/plain": [
       "   P_kbar_calc     T_K_calc\n",
       "0     6.168027  1202.507284\n",
       "1     4.801223  1189.376371\n",
       "2     7.023825  1185.097051\n",
       "3     5.006890  1216.975219\n",
       "4     4.566914  1219.944334"
      ]
     },
     "execution_count": 20,
     "metadata": {},
     "output_type": "execute_result"
    }
   ],
   "source": [
    "eq7a_eq4b=pt.calculate_amp_liq_press_temp(liq_comps=Liqs, amp_comps=Amps, equationP=\"P_Put2016_eq7a\", equationT=\"T_Put2016_eq4b\")\n",
    "eq7a_eq4b.head()"
   ]
  },
  {
   "cell_type": "markdown",
   "id": "6530d3c9-a1c8-4ceb-86a6-00326cdb95d3",
   "metadata": {},
   "source": [
    "### Both are actually pretty sensitive to water. "
   ]
  },
  {
   "cell_type": "code",
   "execution_count": 21,
   "id": "06e19ef2-a314-4fef-9c93-d9786e6b8864",
   "metadata": {},
   "outputs": [
    {
     "name": "stdout",
     "output_type": "stream",
     "text": [
      "Youve selected a P-independent function\n",
      "Youve selected a T-independent function\n"
     ]
    },
    {
     "data": {
      "text/html": [
       "<div>\n",
       "<style scoped>\n",
       "    .dataframe tbody tr th:only-of-type {\n",
       "        vertical-align: middle;\n",
       "    }\n",
       "\n",
       "    .dataframe tbody tr th {\n",
       "        vertical-align: top;\n",
       "    }\n",
       "\n",
       "    .dataframe thead th {\n",
       "        text-align: right;\n",
       "    }\n",
       "</style>\n",
       "<table border=\"1\" class=\"dataframe\">\n",
       "  <thead>\n",
       "    <tr style=\"text-align: right;\">\n",
       "      <th></th>\n",
       "      <th>P_kbar_calc</th>\n",
       "      <th>T_K_calc</th>\n",
       "    </tr>\n",
       "  </thead>\n",
       "  <tbody>\n",
       "    <tr>\n",
       "      <th>0</th>\n",
       "      <td>4.328014</td>\n",
       "      <td>1192.934086</td>\n",
       "    </tr>\n",
       "    <tr>\n",
       "      <th>1</th>\n",
       "      <td>2.960536</td>\n",
       "      <td>1180.068037</td>\n",
       "    </tr>\n",
       "    <tr>\n",
       "      <th>2</th>\n",
       "      <td>5.182170</td>\n",
       "      <td>1175.871630</td>\n",
       "    </tr>\n",
       "    <tr>\n",
       "      <th>3</th>\n",
       "      <td>3.167717</td>\n",
       "      <td>1207.106379</td>\n",
       "    </tr>\n",
       "    <tr>\n",
       "      <th>4</th>\n",
       "      <td>2.728212</td>\n",
       "      <td>1210.015416</td>\n",
       "    </tr>\n",
       "  </tbody>\n",
       "</table>\n",
       "</div>"
      ],
      "text/plain": [
       "   P_kbar_calc     T_K_calc\n",
       "0     4.328014  1192.934086\n",
       "1     2.960536  1180.068037\n",
       "2     5.182170  1175.871630\n",
       "3     3.167717  1207.106379\n",
       "4     2.728212  1210.015416"
      ]
     },
     "execution_count": 21,
     "metadata": {},
     "output_type": "execute_result"
    }
   ],
   "source": [
    "eq7a_eq4b_1H2O=pt.calculate_amp_liq_press_temp(liq_comps=Liqs, amp_comps=Amps, equationP=\"P_Put2016_eq7a\", equationT=\"T_Put2016_eq4b\", H2O_Liq=1)\n",
    "eq7a_eq4b_1H2O.head()"
   ]
  },
  {
   "cell_type": "markdown",
   "id": "5a71266f-b3df-4c25-81b0-39740ad5c697",
   "metadata": {},
   "source": [
    "### can also specify equlibrium tests"
   ]
  },
  {
   "cell_type": "code",
   "execution_count": 22,
   "id": "aff62dc7-c8cb-41e7-b763-578c29da1007",
   "metadata": {},
   "outputs": [
    {
     "name": "stdout",
     "output_type": "stream",
     "text": [
      "Youve selected a P-independent function\n",
      "Youve selected a T-independent function\n"
     ]
    },
    {
     "data": {
      "text/html": [
       "<div>\n",
       "<style scoped>\n",
       "    .dataframe tbody tr th:only-of-type {\n",
       "        vertical-align: middle;\n",
       "    }\n",
       "\n",
       "    .dataframe tbody tr th {\n",
       "        vertical-align: top;\n",
       "    }\n",
       "\n",
       "    .dataframe thead th {\n",
       "        text-align: right;\n",
       "    }\n",
       "</style>\n",
       "<table border=\"1\" class=\"dataframe\">\n",
       "  <thead>\n",
       "    <tr style=\"text-align: right;\">\n",
       "      <th></th>\n",
       "      <th>P_kbar_calc</th>\n",
       "      <th>T_K_calc</th>\n",
       "      <th>Kd-Fe-Mg</th>\n",
       "      <th>Eq Putirka 2016?</th>\n",
       "    </tr>\n",
       "  </thead>\n",
       "  <tbody>\n",
       "    <tr>\n",
       "      <th>0</th>\n",
       "      <td>4.328014</td>\n",
       "      <td>1192.934086</td>\n",
       "      <td>0.269594</td>\n",
       "      <td>Y</td>\n",
       "    </tr>\n",
       "    <tr>\n",
       "      <th>1</th>\n",
       "      <td>2.960536</td>\n",
       "      <td>1180.068037</td>\n",
       "      <td>0.269763</td>\n",
       "      <td>Y</td>\n",
       "    </tr>\n",
       "    <tr>\n",
       "      <th>2</th>\n",
       "      <td>5.182170</td>\n",
       "      <td>1175.871630</td>\n",
       "      <td>0.269914</td>\n",
       "      <td>Y</td>\n",
       "    </tr>\n",
       "    <tr>\n",
       "      <th>3</th>\n",
       "      <td>3.167717</td>\n",
       "      <td>1207.106379</td>\n",
       "      <td>0.269310</td>\n",
       "      <td>Y</td>\n",
       "    </tr>\n",
       "    <tr>\n",
       "      <th>4</th>\n",
       "      <td>2.728212</td>\n",
       "      <td>1210.015416</td>\n",
       "      <td>0.269070</td>\n",
       "      <td>Y</td>\n",
       "    </tr>\n",
       "  </tbody>\n",
       "</table>\n",
       "</div>"
      ],
      "text/plain": [
       "   P_kbar_calc     T_K_calc  Kd-Fe-Mg Eq Putirka 2016?\n",
       "0     4.328014  1192.934086  0.269594                Y\n",
       "1     2.960536  1180.068037  0.269763                Y\n",
       "2     5.182170  1175.871630  0.269914                Y\n",
       "3     3.167717  1207.106379  0.269310                Y\n",
       "4     2.728212  1210.015416  0.269070                Y"
      ]
     },
     "execution_count": 22,
     "metadata": {},
     "output_type": "execute_result"
    }
   ],
   "source": [
    "eq7a_eq4b_1H2O_EqTests=pt.calculate_amp_liq_press_temp(liq_comps=Liqs, amp_comps=Amps, equationP=\"P_Put2016_eq7a\", equationT=\"T_Put2016_eq4b\", H2O_Liq=1, eq_tests=True)\n",
    "eq7a_eq4b_1H2O_EqTests.head()"
   ]
  },
  {
   "cell_type": "code",
   "execution_count": null,
   "id": "4a0db952-f64e-4900-bfa3-d9ed4d524112",
   "metadata": {},
   "outputs": [],
   "source": []
  },
  {
   "cell_type": "code",
   "execution_count": null,
   "id": "bb088065-40ff-4557-9e70-5a597f239fcc",
   "metadata": {},
   "outputs": [],
   "source": []
  }
 ],
 "metadata": {
  "kernelspec": {
   "display_name": "Python 3",
   "language": "python",
   "name": "python3"
  },
  "language_info": {
   "codemirror_mode": {
    "name": "ipython",
    "version": 3
   },
   "file_extension": ".py",
   "mimetype": "text/x-python",
   "name": "python",
   "nbconvert_exporter": "python",
   "pygments_lexer": "ipython3",
   "version": "3.8.5"
  }
 },
 "nbformat": 4,
 "nbformat_minor": 5
}
