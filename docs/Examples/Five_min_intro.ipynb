{
 "cells": [
  {
   "cell_type": "markdown",
   "id": "fd2473fb-8b4f-44af-95d9-73cd4787847d",
   "metadata": {},
   "source": [
    "# A five minute intro to Thermobar\n",
    "- For more information and examples, see the read-the-docs page. https://thermobar.readthedocs.io/en/latest/index.html, which has links to YouTube Videos."
   ]
  },
  {
   "cell_type": "markdown",
   "id": "b34e2265-4fdb-4aff-bb33-fd34740f08dd",
   "metadata": {},
   "source": [
    "## 1 - Introduction "
   ]
  },
  {
   "cell_type": "markdown",
   "id": "05ad16e5-ca43-41d8-b4fa-fb6a6f4e767e",
   "metadata": {},
   "source": [
    "Thermobar is a Python thermobarometry tool. It implements many thermometer and barometer calibrations for single phase (e.g., cpx oer amph) and melt-crystal equilibria (e.g., cpx-liq etc.) "
   ]
  },
  {
   "cell_type": "markdown",
   "id": "a67aed94-349a-4d1f-92e4-a6ef3b71d85b",
   "metadata": {},
   "source": [
    "We recomending importing 3 essential python packages, pandas which allows data to be treated a bit like an excel spreadsheet (with column headings), numpy which does math operations, and matplotlib which does plotting. "
   ]
  },
  {
   "cell_type": "code",
   "execution_count": 2,
   "id": "bd429847-d8ca-4549-ac97-a38c06aaac99",
   "metadata": {},
   "outputs": [],
   "source": [
    "import pandas as pd\n",
    "import numpy as np\n",
    "import matplotlib.pyplot as plt"
   ]
  },
  {
   "cell_type": "markdown",
   "id": "fb23e14b-d3b4-416e-9678-897bf4cda5d9",
   "metadata": {},
   "source": [
    "## 2 - Installing and importing Thermobar\n",
    "First, we install Thermobar using \"pip\", you only need to do this once on your computer (although you may wish to update as new features are added)"
   ]
  },
  {
   "cell_type": "code",
   "execution_count": 3,
   "id": "2ca12731-7445-41dc-8e0e-7f5ab4f1fdf1",
   "metadata": {},
   "outputs": [],
   "source": [
    "#!pip install Thermobar"
   ]
  },
  {
   "cell_type": "markdown",
   "id": "0d1d2ac4-df2a-4689-bd4e-e283d381ce4e",
   "metadata": {},
   "source": [
    "Now we import the thermobarometry tool itself. this is imported as pt, so any time you want to call a function from Thermobar, you do pt.function_name"
   ]
  },
  {
   "cell_type": "code",
   "execution_count": 4,
   "id": "766e90c1-34ce-4b95-832c-414dafa0f7ed",
   "metadata": {},
   "outputs": [],
   "source": [
    "import Thermobar as pt"
   ]
  },
  {
   "cell_type": "markdown",
   "id": "6ce20c4e-976d-45fa-88bd-28af052783c2",
   "metadata": {},
   "source": [
    "You can get the version (which you should state in a paper) using the following code"
   ]
  },
  {
   "cell_type": "code",
   "execution_count": 5,
   "id": "6bea1ecd-3202-4cd2-b13b-a3b65ecce7de",
   "metadata": {},
   "outputs": [
    {
     "data": {
      "text/plain": [
       "'0.0.8dev'"
      ]
     },
     "execution_count": 5,
     "metadata": {},
     "output_type": "execute_result"
    }
   ],
   "source": [
    "pt.__version__"
   ]
  },
  {
   "cell_type": "markdown",
   "id": "38a5f6ea-07e7-4259-85ab-ced005010aec",
   "metadata": {},
   "source": [
    "## 3 - Load data from an Excel file\n",
    "- Excel file is formatted with oxide names, followed by the phase (e.g., SiO2_Liq for the SiO2 content of the liquid, SiO2_Cpx for the Cpx). \n",
    "- In this case, it is reading the file named \"Five_min_intro.xlsx\", from Sheet1\n",
    "- The import_excel function return a dictionary called \"out\", which is a collection of formatted dataframes, with one for each phase. /\n",
    "- We can access these dictionaries using their \"keys\" within square brackets (i.e., 'Liqs' and' Cpxs') and extract 2 dataframes, which we call Liqs and Cpxs\n",
    "- The order of headings doesn't matter. \n",
    "- You can also have any other columns, e.g., estimate of pressure from any other proxy (melt inclusions, geophysics), and anything else you might want to plot (e.g., latitude, longitude)"
   ]
  },
  {
   "cell_type": "code",
   "execution_count": 6,
   "id": "8ca9c32a-dca6-4feb-8238-2ce1af636abd",
   "metadata": {},
   "outputs": [],
   "source": [
    "out=pt.import_excel('Five_min_intro.xlsx', sheet_name=\"Sheet1\")\n",
    "my_input=out['my_input']\n",
    "Liqs=out['Liqs']\n",
    "Cpxs=out['Cpxs']"
   ]
  },
  {
   "cell_type": "markdown",
   "id": "f8f25b83-506e-4f5e-87f0-89682acc76e0",
   "metadata": {},
   "source": [
    "The following are the phase identification names you should use when formatting an excel spreadsheet"
   ]
  },
  {
   "cell_type": "markdown",
   "id": "3ca57cfd-585a-41da-86bc-c689e773edb0",
   "metadata": {},
   "source": [
    "Phase identification:\n",
    "    <ul>\n",
    "    <li>\\_Liq: Liquid (the melt)</li>\n",
    "    <li>\\_Ol: olivine</li>\n",
    "    <li>\\_Cpx: clinopyroxene</li>\n",
    "    <li>\\_Plag: plagioclase</li>\n",
    "    <li>\\_Kspar: kfeldspar</li>\n",
    "    <li>\\_Opx: ortopyroxene</li>\n",
    "    <li>\\_Amp: amphibole</li>\n",
    "    <li>\\_Sp: spinel</li>\n",
    "    <ul>\n",
    "       "
   ]
  },
  {
   "cell_type": "markdown",
   "id": "0642f19b-4fbf-405f-9c83-ccfa3c0ca8d3",
   "metadata": {},
   "source": [
    "### 3b - Only 1 phase\n",
    "- If you only have one phase, you can also skip the bit where you change the column names, and just state the phase name in the import function as suffix = \" \"...\n",
    "- Here, we are reading from the sheet \"Liq_noheader\" to demonstrate this"
   ]
  },
  {
   "cell_type": "code",
   "execution_count": 7,
   "id": "8103e591-4b8b-487d-aed3-c254734a6636",
   "metadata": {},
   "outputs": [],
   "source": [
    "out_noheads=pt.import_excel('Five_min_intro.xlsx', sheet_name=\"Liq_noheader\", suffix=\"_Liq\")\n",
    "Liqs_noheads=out_noheads['Liqs']"
   ]
  },
  {
   "cell_type": "markdown",
   "id": "03300097-74d0-4a05-8fcb-6e5038c4a075",
   "metadata": {},
   "source": [
    "## 4. Inspect data\n",
    "- you should always inspect data to check it has read in correctly, and Thermobar has intepreted all the column headings how you wanted them.\n",
    "- In particular, check that you have numbers in the FeOt column. If your heading was FeO, this may be empty. It needs to be FeOt in the user-inputted spreadsheet to avoid ambiguities with Fe partitioning\n",
    "-  Sometimes your column headings may have funny characters due to use of spaces, subscripts etc. in journal pdf tables. Check that all the columns you entered have numbers. If, say your SiO2_Liq heading had funny characters, this column will be filled with zeros when you inspect it.\n",
    "- by default, if you don't have a Sample_ID_phase column, but just a Sample_ID column, the Sample_ID column in each dataframes will be replaced with the index (E.g., 0, 1, 2, 3). \n",
    "- The head function shows the first 5 columns. Too look at more columns, remove .head()"
   ]
  },
  {
   "cell_type": "code",
   "execution_count": 8,
   "id": "cafb8294-e3ae-48d7-8380-5b6ace68f51a",
   "metadata": {},
   "outputs": [
    {
     "data": {
      "text/html": [
       "<div>\n",
       "<style scoped>\n",
       "    .dataframe tbody tr th:only-of-type {\n",
       "        vertical-align: middle;\n",
       "    }\n",
       "\n",
       "    .dataframe tbody tr th {\n",
       "        vertical-align: top;\n",
       "    }\n",
       "\n",
       "    .dataframe thead th {\n",
       "        text-align: right;\n",
       "    }\n",
       "</style>\n",
       "<table border=\"1\" class=\"dataframe\">\n",
       "  <thead>\n",
       "    <tr style=\"text-align: right;\">\n",
       "      <th></th>\n",
       "      <th>SiO2_Liq</th>\n",
       "      <th>TiO2_Liq</th>\n",
       "      <th>Al2O3_Liq</th>\n",
       "      <th>FeOt_Liq</th>\n",
       "      <th>MnO_Liq</th>\n",
       "      <th>MgO_Liq</th>\n",
       "      <th>CaO_Liq</th>\n",
       "      <th>Na2O_Liq</th>\n",
       "      <th>K2O_Liq</th>\n",
       "      <th>Cr2O3_Liq</th>\n",
       "      <th>P2O5_Liq</th>\n",
       "      <th>H2O_Liq</th>\n",
       "      <th>Fe3Fet_Liq</th>\n",
       "      <th>NiO_Liq</th>\n",
       "      <th>CoO_Liq</th>\n",
       "      <th>CO2_Liq</th>\n",
       "      <th>Sample_ID_Liq</th>\n",
       "    </tr>\n",
       "  </thead>\n",
       "  <tbody>\n",
       "    <tr>\n",
       "      <th>0</th>\n",
       "      <td>51.1</td>\n",
       "      <td>0.93</td>\n",
       "      <td>17.5</td>\n",
       "      <td>8.91</td>\n",
       "      <td>0.18</td>\n",
       "      <td>6.09</td>\n",
       "      <td>11.50</td>\n",
       "      <td>3.53</td>\n",
       "      <td>0.17</td>\n",
       "      <td>0</td>\n",
       "      <td>0.15</td>\n",
       "      <td>3.8</td>\n",
       "      <td>0.0</td>\n",
       "      <td>0.0</td>\n",
       "      <td>0.0</td>\n",
       "      <td>0.0</td>\n",
       "      <td>0</td>\n",
       "    </tr>\n",
       "    <tr>\n",
       "      <th>1</th>\n",
       "      <td>51.5</td>\n",
       "      <td>1.19</td>\n",
       "      <td>19.2</td>\n",
       "      <td>8.70</td>\n",
       "      <td>0.19</td>\n",
       "      <td>4.98</td>\n",
       "      <td>10.00</td>\n",
       "      <td>3.72</td>\n",
       "      <td>0.42</td>\n",
       "      <td>0</td>\n",
       "      <td>0.14</td>\n",
       "      <td>6.2</td>\n",
       "      <td>0.0</td>\n",
       "      <td>0.0</td>\n",
       "      <td>0.0</td>\n",
       "      <td>0.0</td>\n",
       "      <td>1</td>\n",
       "    </tr>\n",
       "    <tr>\n",
       "      <th>2</th>\n",
       "      <td>59.1</td>\n",
       "      <td>0.54</td>\n",
       "      <td>19.1</td>\n",
       "      <td>5.22</td>\n",
       "      <td>0.19</td>\n",
       "      <td>3.25</td>\n",
       "      <td>7.45</td>\n",
       "      <td>4.00</td>\n",
       "      <td>0.88</td>\n",
       "      <td>0</td>\n",
       "      <td>0.31</td>\n",
       "      <td>6.2</td>\n",
       "      <td>0.0</td>\n",
       "      <td>0.0</td>\n",
       "      <td>0.0</td>\n",
       "      <td>0.0</td>\n",
       "      <td>2</td>\n",
       "    </tr>\n",
       "    <tr>\n",
       "      <th>3</th>\n",
       "      <td>52.5</td>\n",
       "      <td>0.98</td>\n",
       "      <td>19.2</td>\n",
       "      <td>8.04</td>\n",
       "      <td>0.20</td>\n",
       "      <td>4.99</td>\n",
       "      <td>9.64</td>\n",
       "      <td>4.15</td>\n",
       "      <td>0.21</td>\n",
       "      <td>0</td>\n",
       "      <td>0.14</td>\n",
       "      <td>6.2</td>\n",
       "      <td>0.0</td>\n",
       "      <td>0.0</td>\n",
       "      <td>0.0</td>\n",
       "      <td>0.0</td>\n",
       "      <td>3</td>\n",
       "    </tr>\n",
       "    <tr>\n",
       "      <th>4</th>\n",
       "      <td>56.2</td>\n",
       "      <td>0.34</td>\n",
       "      <td>20.4</td>\n",
       "      <td>5.88</td>\n",
       "      <td>0.20</td>\n",
       "      <td>2.58</td>\n",
       "      <td>7.18</td>\n",
       "      <td>6.02</td>\n",
       "      <td>1.02</td>\n",
       "      <td>0</td>\n",
       "      <td>0.23</td>\n",
       "      <td>6.2</td>\n",
       "      <td>0.0</td>\n",
       "      <td>0.0</td>\n",
       "      <td>0.0</td>\n",
       "      <td>0.0</td>\n",
       "      <td>4</td>\n",
       "    </tr>\n",
       "  </tbody>\n",
       "</table>\n",
       "</div>"
      ],
      "text/plain": [
       "   SiO2_Liq  TiO2_Liq  Al2O3_Liq  FeOt_Liq  MnO_Liq  MgO_Liq  CaO_Liq  \\\n",
       "0      51.1      0.93       17.5      8.91     0.18     6.09    11.50   \n",
       "1      51.5      1.19       19.2      8.70     0.19     4.98    10.00   \n",
       "2      59.1      0.54       19.1      5.22     0.19     3.25     7.45   \n",
       "3      52.5      0.98       19.2      8.04     0.20     4.99     9.64   \n",
       "4      56.2      0.34       20.4      5.88     0.20     2.58     7.18   \n",
       "\n",
       "   Na2O_Liq  K2O_Liq  Cr2O3_Liq  P2O5_Liq  H2O_Liq  Fe3Fet_Liq  NiO_Liq  \\\n",
       "0      3.53     0.17          0      0.15      3.8         0.0      0.0   \n",
       "1      3.72     0.42          0      0.14      6.2         0.0      0.0   \n",
       "2      4.00     0.88          0      0.31      6.2         0.0      0.0   \n",
       "3      4.15     0.21          0      0.14      6.2         0.0      0.0   \n",
       "4      6.02     1.02          0      0.23      6.2         0.0      0.0   \n",
       "\n",
       "   CoO_Liq  CO2_Liq  Sample_ID_Liq  \n",
       "0      0.0      0.0              0  \n",
       "1      0.0      0.0              1  \n",
       "2      0.0      0.0              2  \n",
       "3      0.0      0.0              3  \n",
       "4      0.0      0.0              4  "
      ]
     },
     "metadata": {},
     "output_type": "display_data"
    },
    {
     "data": {
      "text/html": [
       "<div>\n",
       "<style scoped>\n",
       "    .dataframe tbody tr th:only-of-type {\n",
       "        vertical-align: middle;\n",
       "    }\n",
       "\n",
       "    .dataframe tbody tr th {\n",
       "        vertical-align: top;\n",
       "    }\n",
       "\n",
       "    .dataframe thead th {\n",
       "        text-align: right;\n",
       "    }\n",
       "</style>\n",
       "<table border=\"1\" class=\"dataframe\">\n",
       "  <thead>\n",
       "    <tr style=\"text-align: right;\">\n",
       "      <th></th>\n",
       "      <th>SiO2_Cpx</th>\n",
       "      <th>TiO2_Cpx</th>\n",
       "      <th>Al2O3_Cpx</th>\n",
       "      <th>FeOt_Cpx</th>\n",
       "      <th>MnO_Cpx</th>\n",
       "      <th>MgO_Cpx</th>\n",
       "      <th>CaO_Cpx</th>\n",
       "      <th>Na2O_Cpx</th>\n",
       "      <th>K2O_Cpx</th>\n",
       "      <th>Cr2O3_Cpx</th>\n",
       "      <th>Sample_ID_Cpx</th>\n",
       "    </tr>\n",
       "  </thead>\n",
       "  <tbody>\n",
       "    <tr>\n",
       "      <th>0</th>\n",
       "      <td>51.5</td>\n",
       "      <td>0.50</td>\n",
       "      <td>3.70</td>\n",
       "      <td>5.18</td>\n",
       "      <td>0.09</td>\n",
       "      <td>15.8</td>\n",
       "      <td>22.8</td>\n",
       "      <td>0.24</td>\n",
       "      <td>0</td>\n",
       "      <td>0.66</td>\n",
       "      <td>0</td>\n",
       "    </tr>\n",
       "    <tr>\n",
       "      <th>1</th>\n",
       "      <td>50.3</td>\n",
       "      <td>0.73</td>\n",
       "      <td>4.12</td>\n",
       "      <td>5.83</td>\n",
       "      <td>0.00</td>\n",
       "      <td>15.0</td>\n",
       "      <td>22.7</td>\n",
       "      <td>0.24</td>\n",
       "      <td>0</td>\n",
       "      <td>0.28</td>\n",
       "      <td>1</td>\n",
       "    </tr>\n",
       "    <tr>\n",
       "      <th>2</th>\n",
       "      <td>47.3</td>\n",
       "      <td>1.75</td>\n",
       "      <td>7.85</td>\n",
       "      <td>6.51</td>\n",
       "      <td>0.14</td>\n",
       "      <td>13.1</td>\n",
       "      <td>22.5</td>\n",
       "      <td>0.25</td>\n",
       "      <td>0</td>\n",
       "      <td>0.22</td>\n",
       "      <td>2</td>\n",
       "    </tr>\n",
       "    <tr>\n",
       "      <th>3</th>\n",
       "      <td>51.1</td>\n",
       "      <td>0.63</td>\n",
       "      <td>4.41</td>\n",
       "      <td>5.66</td>\n",
       "      <td>0.13</td>\n",
       "      <td>15.6</td>\n",
       "      <td>22.6</td>\n",
       "      <td>0.23</td>\n",
       "      <td>0</td>\n",
       "      <td>0.27</td>\n",
       "      <td>3</td>\n",
       "    </tr>\n",
       "    <tr>\n",
       "      <th>4</th>\n",
       "      <td>51.0</td>\n",
       "      <td>0.56</td>\n",
       "      <td>4.14</td>\n",
       "      <td>7.33</td>\n",
       "      <td>0.20</td>\n",
       "      <td>14.4</td>\n",
       "      <td>22.4</td>\n",
       "      <td>0.31</td>\n",
       "      <td>0</td>\n",
       "      <td>0.09</td>\n",
       "      <td>4</td>\n",
       "    </tr>\n",
       "  </tbody>\n",
       "</table>\n",
       "</div>"
      ],
      "text/plain": [
       "   SiO2_Cpx  TiO2_Cpx  Al2O3_Cpx  FeOt_Cpx  MnO_Cpx  MgO_Cpx  CaO_Cpx  \\\n",
       "0      51.5      0.50       3.70      5.18     0.09     15.8     22.8   \n",
       "1      50.3      0.73       4.12      5.83     0.00     15.0     22.7   \n",
       "2      47.3      1.75       7.85      6.51     0.14     13.1     22.5   \n",
       "3      51.1      0.63       4.41      5.66     0.13     15.6     22.6   \n",
       "4      51.0      0.56       4.14      7.33     0.20     14.4     22.4   \n",
       "\n",
       "   Na2O_Cpx  K2O_Cpx  Cr2O3_Cpx  Sample_ID_Cpx  \n",
       "0      0.24        0       0.66              0  \n",
       "1      0.24        0       0.28              1  \n",
       "2      0.25        0       0.22              2  \n",
       "3      0.23        0       0.27              3  \n",
       "4      0.31        0       0.09              4  "
      ]
     },
     "metadata": {},
     "output_type": "display_data"
    }
   ],
   "source": [
    "display(Liqs.head())\n",
    "display(Cpxs.head())"
   ]
  },
  {
   "cell_type": "markdown",
   "id": "5e025542-bcb6-4640-953c-30e77d7f8f0d",
   "metadata": {},
   "source": [
    "## 5 - Getting help"
   ]
  },
  {
   "cell_type": "markdown",
   "id": "c62e0eda-53b4-4e02-8194-cf1dcb1318af",
   "metadata": {},
   "source": [
    "The <em>help()</em> method provide you relevant information about any function, e.g., here we want information on the function for calculating Cpx-Liq temperature:"
   ]
  },
  {
   "cell_type": "code",
   "execution_count": 9,
   "id": "bd25528f-2656-454d-92d1-fcf15bc1f219",
   "metadata": {},
   "outputs": [
    {
     "name": "stdout",
     "output_type": "stream",
     "text": [
      "Help on function calculate_cpx_liq_temp in module Thermobar.clinopyroxene_thermobarometry:\n",
      "\n",
      "calculate_cpx_liq_temp(*, equationT, cpx_comps=None, liq_comps=None, meltmatch=None, P=None, eq_tests=False, H2O_Liq=None, Fe3Fet_Liq=None, sigma=1, Kd_Err=0.03)\n",
      "    Clinopyroxene-Liquid thermometry, calculates temperature in Kelvin\n",
      "    (and equilibrium tests as an option)\n",
      "    \n",
      "    Parameters\n",
      "    -------\n",
      "    cpx_comps: pandas.DataFrame\n",
      "        Clinopyroxene compositions with column headings SiO2_Cpx, MgO_Cpx etc.\n",
      "    \n",
      "    liq_comps: pandas.DataFrame\n",
      "        Liquid compositions with column headings SiO2_Liq, MgO_Liq etc.\n",
      "    \n",
      "    Or:\n",
      "    \n",
      "    meltmatch: pandas.DataFrame\n",
      "        Combined dataframe of cpx-Liquid compositions\n",
      "        Used for calculate_cpx_liq_press_temp_matching function.\n",
      "    \n",
      "    EquationT: str\n",
      "        Choice of equation:\n",
      "        Cpx-Liquid\n",
      "        |  T_Put1996_eqT1  (P-indep, H2O-indep)\n",
      "        |  T_Mas2013_eqTalk1  (P-indep, H2O-indep, alk adaption of T1)\n",
      "        |  T_Brug2019  (P-indep, H2O-indep)\n",
      "        |  T_Put1996_eqT2 (P-dep, H2O-indep)\n",
      "        |  T_Mas2013_eqTalk2  (P-dep, H2O-indep, alk adaption of T2)\n",
      "        |  T_Put1999  (P-dep, H2O-indep)\n",
      "        |  T_Put2003  (P-dep, H2O-indep)\n",
      "        |  T_Put1999  (P-dep, H2O-indep)\n",
      "        |  T_Put2008_eq33  (P-dep, H2O-dep)\n",
      "        |  T_Mas2013_eqalk33  (P-dep, H2O-dep, alk adaption of eq33)\n",
      "        |  T_Mas2013_Palk2012 (P-indep, H2O_dep)\n",
      "    \n",
      "    \n",
      "    P: float, int, pandas.Series, str  (\"Solve\")\n",
      "        Pressure in kbar\n",
      "        Only needed for P-sensitive thermometers.\n",
      "        If enter P=\"Solve\", returns a partial function\n",
      "        Else, enter an integer, float, or panda series\n",
      "    \n",
      "    \n",
      "    eq_tests: bool\n",
      "        If False, just returns pressure (default) as a panda series\n",
      "        If True, returns pressure, Values of Eq tests,\n",
      "        Values of Eq tests (Kd, EnFs, DiHd, CaTs, CrCaTs),\n",
      "        as well as user-entered cpx and liq comps and components.\n",
      "    \n",
      "    \n",
      "    Returns\n",
      "    -------\n",
      "    If eq_tests=False\n",
      "        pandas.Series: Temperature in Kelvin\n",
      "    If eq_tests=True\n",
      "        pandas.DataFrame: Temperature in Kelvin +\n",
      "        Eq Tests + cpx+liq comps + components\n",
      "\n"
     ]
    }
   ],
   "source": [
    "help(pt.calculate_cpx_liq_temp)"
   ]
  },
  {
   "cell_type": "markdown",
   "id": "0768b9b6-7c6d-48e6-9ce0-b50dc20b3f76",
   "metadata": {},
   "source": [
    "### You can also get help on specific equations to find out what inputs they use:"
   ]
  },
  {
   "cell_type": "code",
   "execution_count": 9,
   "id": "47a49ba4-36c9-4a92-adc7-2d867e524f28",
   "metadata": {},
   "outputs": [
    {
     "name": "stdout",
     "output_type": "stream",
     "text": [
      "Help on function T_Put2008_eq33 in module Thermobar.clinopyroxene_thermobarometry:\n",
      "\n",
      "T_Put2008_eq33(P, *, H2O_Liq, Mg_Number_Liq_NoFe3, Ca_Liq_cat_frac, Si_Liq_cat_frac, Ti_Liq_cat_frac, Na_Liq_cat_frac, K_Liq_cat_frac, EnFs, lnK_Jd_DiHd_liq_2003)\n",
      "    Clinopyroxene-liquid  thermometer of Putirka (2008) Eq 33.\n",
      "    :cite:`putirka2008thermometers`\n",
      "    \n",
      "    SEE=+-45°C (all data)\n",
      "\n"
     ]
    }
   ],
   "source": [
    "help(pt.T_Put2008_eq33)"
   ]
  },
  {
   "cell_type": "markdown",
   "id": "0d153a04-ec00-419c-b39b-d0c1ef0c5bbb",
   "metadata": {},
   "source": [
    "## 6 - Can perform calculations just for pressure if you know temperature\n",
    "- For all functions, the form is calculate_phase1name_phase2name_press, or if its a single-phase barometer, calculate_phase1name_only_press\n",
    "- Specify dataframes of phase compositions after _comps=, and specify equationP. If the barometer requires a temperature, you can enter it as a single value, or as a column (see Liquid folder for more info)"
   ]
  },
  {
   "cell_type": "code",
   "execution_count": 10,
   "id": "e3591bb6-0642-4a8d-afb1-e012ea7c6ce7",
   "metadata": {},
   "outputs": [],
   "source": [
    "# Here performing calculations at 1300 K\n",
    "Press_eq30_1300K=pt.calculate_cpx_liq_press(cpx_comps=Cpxs, liq_comps=Liqs, \n",
    "                            equationP=\"P_Put2008_eq30\", T=1300)"
   ]
  },
  {
   "cell_type": "markdown",
   "id": "187d78c0-1b64-40a3-83cd-33ef4de0464f",
   "metadata": {},
   "source": [
    "## 7 - Similarly, for temperature at a known pressure\n",
    "- Same as for press, but with the ending _temp instead, and equationT"
   ]
  },
  {
   "cell_type": "code",
   "execution_count": 11,
   "id": "54292ca8-2fe6-41fd-927e-a171fcee9837",
   "metadata": {},
   "outputs": [],
   "source": [
    "# Here performing calculations at 5 kbar\n",
    "Temp_eq33_5kbar=pt.calculate_cpx_liq_temp(cpx_comps=Cpxs, liq_comps=Liqs, \n",
    "                                          equationT=\"T_Put2008_eq33\", P=5)"
   ]
  },
  {
   "cell_type": "markdown",
   "id": "5754a6e9-614f-4ab7-81bf-20ff29461171",
   "metadata": {},
   "source": [
    "## 8 - If you don't know either P or T\n",
    "- You can iterate an equation for pressure with an equation for temp for the more realistic situation where you don't know either"
   ]
  },
  {
   "cell_type": "code",
   "execution_count": 11,
   "id": "b0a1e0dd-85b1-4ae3-9215-94223f3cffc2",
   "metadata": {},
   "outputs": [
    {
     "data": {
      "text/html": [
       "<div>\n",
       "<style scoped>\n",
       "    .dataframe tbody tr th:only-of-type {\n",
       "        vertical-align: middle;\n",
       "    }\n",
       "\n",
       "    .dataframe tbody tr th {\n",
       "        vertical-align: top;\n",
       "    }\n",
       "\n",
       "    .dataframe thead th {\n",
       "        text-align: right;\n",
       "    }\n",
       "</style>\n",
       "<table border=\"1\" class=\"dataframe\">\n",
       "  <thead>\n",
       "    <tr style=\"text-align: right;\">\n",
       "      <th></th>\n",
       "      <th>P_kbar_calc</th>\n",
       "      <th>T_K_calc</th>\n",
       "    </tr>\n",
       "  </thead>\n",
       "  <tbody>\n",
       "    <tr>\n",
       "      <th>0</th>\n",
       "      <td>2.530914</td>\n",
       "      <td>1352.408784</td>\n",
       "    </tr>\n",
       "    <tr>\n",
       "      <th>1</th>\n",
       "      <td>1.786845</td>\n",
       "      <td>1290.151507</td>\n",
       "    </tr>\n",
       "    <tr>\n",
       "      <th>2</th>\n",
       "      <td>1.171520</td>\n",
       "      <td>1255.933868</td>\n",
       "    </tr>\n",
       "    <tr>\n",
       "      <th>3</th>\n",
       "      <td>2.143416</td>\n",
       "      <td>1292.669093</td>\n",
       "    </tr>\n",
       "    <tr>\n",
       "      <th>4</th>\n",
       "      <td>2.763538</td>\n",
       "      <td>1243.469600</td>\n",
       "    </tr>\n",
       "  </tbody>\n",
       "</table>\n",
       "</div>"
      ],
      "text/plain": [
       "   P_kbar_calc     T_K_calc\n",
       "0     2.530914  1352.408784\n",
       "1     1.786845  1290.151507\n",
       "2     1.171520  1255.933868\n",
       "3     2.143416  1292.669093\n",
       "4     2.763538  1243.469600"
      ]
     },
     "execution_count": 11,
     "metadata": {},
     "output_type": "execute_result"
    }
   ],
   "source": [
    "PT_iter_30_33=pt.calculate_cpx_liq_press_temp(cpx_comps=Cpxs, liq_comps=Liqs, \n",
    "                                            equationP=\"P_Put2008_eq30\", equationT=\"T_Put2008_eq33\")\n",
    "PT_iter_30_33"
   ]
  },
  {
   "cell_type": "markdown",
   "id": "2c3edf77-1c68-43cd-a889-8f9ed08ea40c",
   "metadata": {},
   "source": [
    "In the example above, calculate_cpx_liq_press_temp iterates equation 30 from Putirka (2008) for P, and equation 33 from Putirka (2008) for temperature. The output is a panda's dataframe."
   ]
  },
  {
   "cell_type": "markdown",
   "id": "c10041d3-e0e0-40cc-854d-39694591b6dd",
   "metadata": {},
   "source": [
    "## 9 -  Can plot a very simple x-y diagram using matplotlib (loaded as plt)\n",
    "- You take the dataframe name (i.e., PT_iter_30_31), and use square brackets to specify a certain column name"
   ]
  },
  {
   "cell_type": "code",
   "execution_count": 12,
   "id": "cdbe71e9-556b-4945-b0a4-9da748314392",
   "metadata": {},
   "outputs": [
    {
     "data": {
      "text/plain": [
       "Text(0, 0.5, 'T (K)')"
      ]
     },
     "execution_count": 12,
     "metadata": {},
     "output_type": "execute_result"
    },
    {
     "data": {
      "image/png": "[encoded data removed]",
      "text/plain": [
       "<Figure size 432x288 with 1 Axes>"
      ]
     },
     "metadata": {
      "needs_background": "light"
     },
     "output_type": "display_data"
    }
   ],
   "source": [
    "plt.plot(PT_iter_30_33['P_kbar_calc'], PT_iter_30_33['T_K_calc'], 'ok')\n",
    "plt.xlabel('P (kbar)')\n",
    "plt.ylabel('T (K)')"
   ]
  },
  {
   "cell_type": "markdown",
   "id": "7c48b76c-5229-4611-b4e1-9ca03f49df54",
   "metadata": {},
   "source": [
    "### 9b - If you want to plot Temperature in Celcius instead, you can simply subtract 273.15 from the dataframe:"
   ]
  },
  {
   "cell_type": "code",
   "execution_count": 13,
   "id": "2e763627-a2c4-40f6-a8ac-ab271c62af9b",
   "metadata": {},
   "outputs": [
    {
     "data": {
      "text/plain": [
       "Text(0, 0.5, 'T (C)')"
      ]
     },
     "execution_count": 13,
     "metadata": {},
     "output_type": "execute_result"
    },
    {
     "data": {
      "image/png": "[encoded data removed]",
      "text/plain": [
       "<Figure size 432x288 with 1 Axes>"
      ]
     },
     "metadata": {
      "needs_background": "light"
     },
     "output_type": "display_data"
    }
   ],
   "source": [
    "plt.plot(PT_iter_30_33['P_kbar_calc'], PT_iter_30_33['T_K_calc']-273.15, 'ok')\n",
    "plt.xlabel('P (kbar)')\n",
    "plt.ylabel('T (C)')"
   ]
  },
  {
   "cell_type": "markdown",
   "id": "782bffa4-de89-4fa8-a169-5b308a1cec40",
   "metadata": {},
   "source": [
    "## 10 - Example of warnings for incorrect inputs\n",
    "- Here, we read from the sheet \"wrong_header_caps\" to demonstrate what happens if the phase identifiers are lower case in the input spreadsheet.\n",
    "- The function returns a warning, saying that it has found lower case names. It may be that you are using these for another purpose, but these are not recognised by the function."
   ]
  },
  {
   "cell_type": "code",
   "execution_count": 14,
   "id": "98636cad-d427-4fb9-93b4-89e76eb1d416",
   "metadata": {},
   "outputs": [
    {
     "name": "stderr",
     "output_type": "stream",
     "text": [
      "c:\\users\\penny\\onedrive - oregon state university\\postdoc\\pymme\\mybarometers\\thermobar_outer\\src\\Thermobar\\import_export.py:339: UserWarning: You've got a column heading with a lower case _cpx, this is okay if this column is for your own use, but if its an input to Thermobar, it needs to be capitalized (_Cpx)\n",
      "  w.warn(\"You've got a column heading with a lower case _cpx, this is okay if this column is for your\"\n",
      "c:\\users\\penny\\onedrive - oregon state university\\postdoc\\pymme\\mybarometers\\thermobar_outer\\src\\Thermobar\\import_export.py:367: UserWarning: You've got a column heading with a lower case _liq, this is okay if this column is for your own use, but if its an input to Thermobar, it needs to be capitalized (_Liq)\n",
      "  w.warn(\"You've got a column heading with a lower case _liq, this is okay if this column is for your\"\n"
     ]
    }
   ],
   "source": [
    "out2=pt.import_excel('Five_min_intro.xlsx', sheet_name=\"wrong_header_caps\")\n",
    "Cpxs2=out2['Cpxs']"
   ]
  },
  {
   "cell_type": "markdown",
   "id": "00f2b9e8-b376-4efc-8d25-c7c39c3b1128",
   "metadata": {},
   "source": [
    "- By inspecting the dataframes extracted from this input, you can see that Thermobar couldnt find any relevant column headings as all the columns except the sample ID are 0. \n",
    "This is why we recomend users always inspect dataframes before proceeding to calculations!"
   ]
  },
  {
   "cell_type": "code",
   "execution_count": 15,
   "id": "e8626c46-2d19-4e6a-97a5-d03604a4c65c",
   "metadata": {},
   "outputs": [
    {
     "data": {
      "text/html": [
       "<div>\n",
       "<style scoped>\n",
       "    .dataframe tbody tr th:only-of-type {\n",
       "        vertical-align: middle;\n",
       "    }\n",
       "\n",
       "    .dataframe tbody tr th {\n",
       "        vertical-align: top;\n",
       "    }\n",
       "\n",
       "    .dataframe thead th {\n",
       "        text-align: right;\n",
       "    }\n",
       "</style>\n",
       "<table border=\"1\" class=\"dataframe\">\n",
       "  <thead>\n",
       "    <tr style=\"text-align: right;\">\n",
       "      <th></th>\n",
       "      <th>SiO2_Cpx</th>\n",
       "      <th>TiO2_Cpx</th>\n",
       "      <th>Al2O3_Cpx</th>\n",
       "      <th>FeOt_Cpx</th>\n",
       "      <th>MnO_Cpx</th>\n",
       "      <th>MgO_Cpx</th>\n",
       "      <th>CaO_Cpx</th>\n",
       "      <th>Na2O_Cpx</th>\n",
       "      <th>K2O_Cpx</th>\n",
       "      <th>Cr2O3_Cpx</th>\n",
       "      <th>Sample_ID_Cpx</th>\n",
       "    </tr>\n",
       "  </thead>\n",
       "  <tbody>\n",
       "    <tr>\n",
       "      <th>0</th>\n",
       "      <td>0.0</td>\n",
       "      <td>0.0</td>\n",
       "      <td>0.0</td>\n",
       "      <td>0.0</td>\n",
       "      <td>0.0</td>\n",
       "      <td>0.0</td>\n",
       "      <td>0.0</td>\n",
       "      <td>0.0</td>\n",
       "      <td>0.0</td>\n",
       "      <td>0.0</td>\n",
       "      <td>0</td>\n",
       "    </tr>\n",
       "    <tr>\n",
       "      <th>1</th>\n",
       "      <td>0.0</td>\n",
       "      <td>0.0</td>\n",
       "      <td>0.0</td>\n",
       "      <td>0.0</td>\n",
       "      <td>0.0</td>\n",
       "      <td>0.0</td>\n",
       "      <td>0.0</td>\n",
       "      <td>0.0</td>\n",
       "      <td>0.0</td>\n",
       "      <td>0.0</td>\n",
       "      <td>1</td>\n",
       "    </tr>\n",
       "    <tr>\n",
       "      <th>2</th>\n",
       "      <td>0.0</td>\n",
       "      <td>0.0</td>\n",
       "      <td>0.0</td>\n",
       "      <td>0.0</td>\n",
       "      <td>0.0</td>\n",
       "      <td>0.0</td>\n",
       "      <td>0.0</td>\n",
       "      <td>0.0</td>\n",
       "      <td>0.0</td>\n",
       "      <td>0.0</td>\n",
       "      <td>2</td>\n",
       "    </tr>\n",
       "    <tr>\n",
       "      <th>3</th>\n",
       "      <td>0.0</td>\n",
       "      <td>0.0</td>\n",
       "      <td>0.0</td>\n",
       "      <td>0.0</td>\n",
       "      <td>0.0</td>\n",
       "      <td>0.0</td>\n",
       "      <td>0.0</td>\n",
       "      <td>0.0</td>\n",
       "      <td>0.0</td>\n",
       "      <td>0.0</td>\n",
       "      <td>3</td>\n",
       "    </tr>\n",
       "    <tr>\n",
       "      <th>4</th>\n",
       "      <td>0.0</td>\n",
       "      <td>0.0</td>\n",
       "      <td>0.0</td>\n",
       "      <td>0.0</td>\n",
       "      <td>0.0</td>\n",
       "      <td>0.0</td>\n",
       "      <td>0.0</td>\n",
       "      <td>0.0</td>\n",
       "      <td>0.0</td>\n",
       "      <td>0.0</td>\n",
       "      <td>4</td>\n",
       "    </tr>\n",
       "  </tbody>\n",
       "</table>\n",
       "</div>"
      ],
      "text/plain": [
       "   SiO2_Cpx  TiO2_Cpx  Al2O3_Cpx  FeOt_Cpx  MnO_Cpx  MgO_Cpx  CaO_Cpx  \\\n",
       "0       0.0       0.0        0.0       0.0      0.0      0.0      0.0   \n",
       "1       0.0       0.0        0.0       0.0      0.0      0.0      0.0   \n",
       "2       0.0       0.0        0.0       0.0      0.0      0.0      0.0   \n",
       "3       0.0       0.0        0.0       0.0      0.0      0.0      0.0   \n",
       "4       0.0       0.0        0.0       0.0      0.0      0.0      0.0   \n",
       "\n",
       "   Na2O_Cpx  K2O_Cpx  Cr2O3_Cpx  Sample_ID_Cpx  \n",
       "0       0.0      0.0        0.0              0  \n",
       "1       0.0      0.0        0.0              1  \n",
       "2       0.0      0.0        0.0              2  \n",
       "3       0.0      0.0        0.0              3  \n",
       "4       0.0      0.0        0.0              4  "
      ]
     },
     "metadata": {},
     "output_type": "display_data"
    }
   ],
   "source": [
    "display(Cpxs2.head())"
   ]
  },
  {
   "cell_type": "markdown",
   "id": "1d296b7c-7b88-4f4d-bdb8-a6267d61089b",
   "metadata": {},
   "source": [
    "## 11 - Example of Error when you don't have an FeOt column...\n",
    "- Here, we load from the sheet \"no_feot\", which only has a heading FeO.\n",
    "- This returns an error telling you to go make an FeOt column."
   ]
  },
  {
   "cell_type": "code",
   "execution_count": 14,
   "id": "93dabe22-6a82-4824-aa7f-fff0cd7ff8c3",
   "metadata": {},
   "outputs": [
    {
     "ename": "ValueError",
     "evalue": "No FeOt found. You've got a column heading with FeO. To avoid errors based on common EPMA outputs thermobar only recognises columns with FeOt for all phases except liquid where you can also enter a Fe3Fet_Liq heading used for equilibrium tests",
     "output_type": "error",
     "traceback": [
      "\u001b[1;31m---------------------------------------------------------------------------\u001b[0m",
      "\u001b[1;31mValueError\u001b[0m                                Traceback (most recent call last)",
      "\u001b[1;32m<ipython-input-14-eb6557e14b2b>\u001b[0m in \u001b[0;36m<module>\u001b[1;34m\u001b[0m\n\u001b[1;32m----> 1\u001b[1;33m \u001b[0mout3\u001b[0m\u001b[1;33m=\u001b[0m\u001b[0mpt\u001b[0m\u001b[1;33m.\u001b[0m\u001b[0mimport_excel\u001b[0m\u001b[1;33m(\u001b[0m\u001b[1;34m'Five_min_intro.xlsx'\u001b[0m\u001b[1;33m,\u001b[0m \u001b[0msheet_name\u001b[0m\u001b[1;33m=\u001b[0m\u001b[1;34m\"no_feot\"\u001b[0m\u001b[1;33m)\u001b[0m\u001b[1;33m\u001b[0m\u001b[1;33m\u001b[0m\u001b[0m\n\u001b[0m\u001b[0;32m      2\u001b[0m \u001b[0mLiqs3\u001b[0m\u001b[1;33m=\u001b[0m\u001b[0mout3\u001b[0m\u001b[1;33m[\u001b[0m\u001b[1;34m'Liqs'\u001b[0m\u001b[1;33m]\u001b[0m\u001b[1;33m\u001b[0m\u001b[1;33m\u001b[0m\u001b[0m\n",
      "\u001b[1;32mc:\\users\\penny\\onedrive - oregon state university\\postdoc\\pymme\\mybarometers\\thermobar_outer\\src\\Thermobar\\import_export.py\u001b[0m in \u001b[0;36mimport_excel\u001b[1;34m(filename, sheet_name, sample_label, GEOROC, suffix)\u001b[0m\n\u001b[0;32m    375\u001b[0m \u001b[1;33m\u001b[0m\u001b[0m\n\u001b[0;32m    376\u001b[0m     \u001b[1;32mif\u001b[0m \u001b[0many\u001b[0m\u001b[1;33m(\u001b[0m\u001b[0mmy_input\u001b[0m\u001b[1;33m.\u001b[0m\u001b[0mcolumns\u001b[0m\u001b[1;33m.\u001b[0m\u001b[0mstr\u001b[0m\u001b[1;33m.\u001b[0m\u001b[0mcontains\u001b[0m\u001b[1;33m(\u001b[0m\u001b[1;34m\"FeO_\"\u001b[0m\u001b[1;33m)\u001b[0m\u001b[1;33m)\u001b[0m \u001b[1;32mand\u001b[0m \u001b[1;33m(\u001b[0m\u001b[0mall\u001b[0m\u001b[1;33m(\u001b[0m\u001b[0mmy_input\u001b[0m\u001b[1;33m.\u001b[0m\u001b[0mcolumns\u001b[0m\u001b[1;33m.\u001b[0m\u001b[0mstr\u001b[0m\u001b[1;33m.\u001b[0m\u001b[0mcontains\u001b[0m\u001b[1;33m(\u001b[0m\u001b[1;34m\"FeOt_\"\u001b[0m\u001b[1;33m)\u001b[0m\u001b[1;33m==\u001b[0m\u001b[1;32mFalse\u001b[0m\u001b[1;33m)\u001b[0m\u001b[1;33m)\u001b[0m\u001b[1;33m:\u001b[0m\u001b[1;33m\u001b[0m\u001b[1;33m\u001b[0m\u001b[0m\n\u001b[1;32m--> 377\u001b[1;33m         raise ValueError(\"No FeOt found. You've got a column heading with FeO. To avoid errors based on common EPMA outputs\"\n\u001b[0m\u001b[0;32m    378\u001b[0m         \u001b[1;34m\" thermobar only recognises columns with FeOt for all phases except liquid\"\u001b[0m\u001b[1;33m\u001b[0m\u001b[1;33m\u001b[0m\u001b[0m\n\u001b[0;32m    379\u001b[0m         \" where you can also enter a Fe3Fet_Liq heading used for equilibrium tests\")\n",
      "\u001b[1;31mValueError\u001b[0m: No FeOt found. You've got a column heading with FeO. To avoid errors based on common EPMA outputs thermobar only recognises columns with FeOt for all phases except liquid where you can also enter a Fe3Fet_Liq heading used for equilibrium tests"
     ]
    }
   ],
   "source": [
    "out3=pt.import_excel('Five_min_intro.xlsx', sheet_name=\"no_feot\")\n",
    "Liqs3=out3['Liqs']"
   ]
  },
  {
   "cell_type": "code",
   "execution_count": null,
   "id": "a01798a4-eee3-46ee-b7e6-61e8d865274b",
   "metadata": {},
   "outputs": [],
   "source": []
  }
 ],
 "metadata": {
  "kernelspec": {
   "display_name": "Python 3",
   "language": "python",
   "name": "python3"
  },
  "language_info": {
   "codemirror_mode": {
    "name": "ipython",
    "version": 3
   },
   "file_extension": ".py",
   "mimetype": "text/x-python",
   "name": "python",
   "nbconvert_exporter": "python",
   "pygments_lexer": "ipython3",
   "version": "3.8.5"
  }
 },
 "nbformat": 4,
 "nbformat_minor": 5
}
