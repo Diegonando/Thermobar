{
 "cells": [
  {
   "cell_type": "markdown",
   "id": "fc567940-8d99-403e-a36e-9967b51a1f63",
   "metadata": {},
   "source": [
    "# Multisample - Fe-Mg equilibrium between olivines and glass. \n",
    "- This notebook shows how to assess Fe-Mg equilibrium between olivines and coerupted matrix glasses. \n",
    "- In this example, we have multiple samples in the spreadsheet, so first subsample out the rows we want based on sample name. You will  have to change the sample names to reflect whatever column you use for this. Else, see single sample if you only have 1 sample in your spreadsheet\n",
    "- You can download the spreadsheet here: https://github.com/PennyWieser/Thermobar/tree/main/docs/Examples/Liquid_Ol_Liq_Themometry"
   ]
  },
  {
   "cell_type": "markdown",
   "id": "95b46eb4-6f12-4498-98bb-a6e111d29b26",
   "metadata": {},
   "source": [
    "### Install Thermobar if you haven't already (remove # and press run)"
   ]
  },
  {
   "cell_type": "code",
   "execution_count": 4,
   "id": "7093fc9d-e96d-4cfd-926e-cef117e4cd3c",
   "metadata": {},
   "outputs": [],
   "source": [
    "# !pip install Thermobar"
   ]
  },
  {
   "cell_type": "code",
   "execution_count": 5,
   "id": "09760a43-c0c9-4002-92c7-99b75252c124",
   "metadata": {},
   "outputs": [],
   "source": [
    "# Loading various python things\n",
    "import numpy as np\n",
    "import pandas as pd\n",
    "import matplotlib.pyplot as plt\n",
    "import Thermobar as pt"
   ]
  },
  {
   "cell_type": "markdown",
   "id": "4e54af68-924c-42d9-90c2-743ca065df83",
   "metadata": {},
   "source": [
    "## Loading a dataset\n",
    "- This dataset is from Wieser et al. (2021) - https://doi.org/10.1029/2020GC009364\n",
    "- It shows olivines and glasses from Kilauea from a single sample LL4"
   ]
  },
  {
   "cell_type": "markdown",
   "id": "9ee26c6c-0ebe-48b5-a558-72be643da3f1",
   "metadata": {},
   "source": [
    "## Load in the matrix glasses"
   ]
  },
  {
   "cell_type": "code",
   "execution_count": 6,
   "id": "e859d267-d9a3-4761-bbe8-09a7818999ff",
   "metadata": {},
   "outputs": [
    {
     "data": {
      "text/html": [
       "<div>\n",
       "<style scoped>\n",
       "    .dataframe tbody tr th:only-of-type {\n",
       "        vertical-align: middle;\n",
       "    }\n",
       "\n",
       "    .dataframe tbody tr th {\n",
       "        vertical-align: top;\n",
       "    }\n",
       "\n",
       "    .dataframe thead th {\n",
       "        text-align: right;\n",
       "    }\n",
       "</style>\n",
       "<table border=\"1\" class=\"dataframe\">\n",
       "  <thead>\n",
       "    <tr style=\"text-align: right;\">\n",
       "      <th></th>\n",
       "      <th>SiO2_Liq</th>\n",
       "      <th>TiO2_Liq</th>\n",
       "      <th>Al2O3_Liq</th>\n",
       "      <th>FeOt_Liq</th>\n",
       "      <th>MnO_Liq</th>\n",
       "      <th>MgO_Liq</th>\n",
       "      <th>CaO_Liq</th>\n",
       "      <th>Na2O_Liq</th>\n",
       "      <th>K2O_Liq</th>\n",
       "      <th>Cr2O3_Liq</th>\n",
       "      <th>P2O5_Liq</th>\n",
       "      <th>H2O_Liq</th>\n",
       "      <th>Fe3Fet_Liq</th>\n",
       "      <th>NiO_Liq</th>\n",
       "      <th>CoO_Liq</th>\n",
       "      <th>CO2_Liq</th>\n",
       "      <th>Sample_ID_Liq</th>\n",
       "    </tr>\n",
       "  </thead>\n",
       "  <tbody>\n",
       "    <tr>\n",
       "      <th>0</th>\n",
       "      <td>50.6243</td>\n",
       "      <td>2.8773</td>\n",
       "      <td>13.0360</td>\n",
       "      <td>11.8288</td>\n",
       "      <td>0.1830</td>\n",
       "      <td>5.8471</td>\n",
       "      <td>10.2471</td>\n",
       "      <td>2.5120</td>\n",
       "      <td>0.5234</td>\n",
       "      <td>0.0</td>\n",
       "      <td>0.2689</td>\n",
       "      <td>0.0</td>\n",
       "      <td>0.0</td>\n",
       "      <td>0.0</td>\n",
       "      <td>0.0</td>\n",
       "      <td>0.0</td>\n",
       "      <td>0</td>\n",
       "    </tr>\n",
       "    <tr>\n",
       "      <th>1</th>\n",
       "      <td>50.0975</td>\n",
       "      <td>2.8840</td>\n",
       "      <td>12.8885</td>\n",
       "      <td>11.2897</td>\n",
       "      <td>0.1769</td>\n",
       "      <td>5.8521</td>\n",
       "      <td>9.9658</td>\n",
       "      <td>2.4681</td>\n",
       "      <td>0.5305</td>\n",
       "      <td>0.0</td>\n",
       "      <td>0.2652</td>\n",
       "      <td>0.0</td>\n",
       "      <td>0.0</td>\n",
       "      <td>0.0</td>\n",
       "      <td>0.0</td>\n",
       "      <td>0.0</td>\n",
       "      <td>1</td>\n",
       "    </tr>\n",
       "    <tr>\n",
       "      <th>2</th>\n",
       "      <td>50.1517</td>\n",
       "      <td>2.5827</td>\n",
       "      <td>13.0277</td>\n",
       "      <td>11.2420</td>\n",
       "      <td>0.2141</td>\n",
       "      <td>6.6763</td>\n",
       "      <td>10.6820</td>\n",
       "      <td>2.2884</td>\n",
       "      <td>0.4462</td>\n",
       "      <td>0.0</td>\n",
       "      <td>0.2068</td>\n",
       "      <td>0.0</td>\n",
       "      <td>0.0</td>\n",
       "      <td>0.0</td>\n",
       "      <td>0.0</td>\n",
       "      <td>0.0</td>\n",
       "      <td>2</td>\n",
       "    </tr>\n",
       "    <tr>\n",
       "      <th>3</th>\n",
       "      <td>50.2523</td>\n",
       "      <td>2.5686</td>\n",
       "      <td>13.1034</td>\n",
       "      <td>10.9155</td>\n",
       "      <td>0.1948</td>\n",
       "      <td>6.4934</td>\n",
       "      <td>10.7276</td>\n",
       "      <td>2.3660</td>\n",
       "      <td>0.4822</td>\n",
       "      <td>0.0</td>\n",
       "      <td>0.2329</td>\n",
       "      <td>0.0</td>\n",
       "      <td>0.0</td>\n",
       "      <td>0.0</td>\n",
       "      <td>0.0</td>\n",
       "      <td>0.0</td>\n",
       "      <td>3</td>\n",
       "    </tr>\n",
       "    <tr>\n",
       "      <th>4</th>\n",
       "      <td>51.1145</td>\n",
       "      <td>2.6104</td>\n",
       "      <td>13.2432</td>\n",
       "      <td>11.1522</td>\n",
       "      <td>0.1738</td>\n",
       "      <td>6.5764</td>\n",
       "      <td>10.6298</td>\n",
       "      <td>2.4155</td>\n",
       "      <td>0.4704</td>\n",
       "      <td>0.0</td>\n",
       "      <td>0.2393</td>\n",
       "      <td>0.0</td>\n",
       "      <td>0.0</td>\n",
       "      <td>0.0</td>\n",
       "      <td>0.0</td>\n",
       "      <td>0.0</td>\n",
       "      <td>4</td>\n",
       "    </tr>\n",
       "  </tbody>\n",
       "</table>\n",
       "</div>"
      ],
      "text/plain": [
       "   SiO2_Liq  TiO2_Liq  Al2O3_Liq  FeOt_Liq  MnO_Liq  MgO_Liq  CaO_Liq  \\\n",
       "0   50.6243    2.8773    13.0360   11.8288   0.1830   5.8471  10.2471   \n",
       "1   50.0975    2.8840    12.8885   11.2897   0.1769   5.8521   9.9658   \n",
       "2   50.1517    2.5827    13.0277   11.2420   0.2141   6.6763  10.6820   \n",
       "3   50.2523    2.5686    13.1034   10.9155   0.1948   6.4934  10.7276   \n",
       "4   51.1145    2.6104    13.2432   11.1522   0.1738   6.5764  10.6298   \n",
       "\n",
       "   Na2O_Liq  K2O_Liq  Cr2O3_Liq  P2O5_Liq  H2O_Liq  Fe3Fet_Liq  NiO_Liq  \\\n",
       "0    2.5120   0.5234        0.0    0.2689      0.0         0.0      0.0   \n",
       "1    2.4681   0.5305        0.0    0.2652      0.0         0.0      0.0   \n",
       "2    2.2884   0.4462        0.0    0.2068      0.0         0.0      0.0   \n",
       "3    2.3660   0.4822        0.0    0.2329      0.0         0.0      0.0   \n",
       "4    2.4155   0.4704        0.0    0.2393      0.0         0.0      0.0   \n",
       "\n",
       "   CoO_Liq  CO2_Liq  Sample_ID_Liq  \n",
       "0      0.0      0.0              0  \n",
       "1      0.0      0.0              1  \n",
       "2      0.0      0.0              2  \n",
       "3      0.0      0.0              3  \n",
       "4      0.0      0.0              4  "
      ]
     },
     "execution_count": 6,
     "metadata": {},
     "output_type": "execute_result"
    }
   ],
   "source": [
    "# We dont have to add _Liq as its all liquids, \n",
    "# just specify the _Liq in the import\n",
    "MG_input=pt.import_excel('2018_Olivines_Glasses.xlsx',\n",
    "                         sheet_name='Matrix_Glasses', suffix=\"_Liq\")\n",
    "MG_all=MG_input['my_input'] ## All columns\n",
    "MG_Liqs=MG_input['Liqs'] ## Just Liquid columns\n",
    "MG_Liqs.head()"
   ]
  },
  {
   "cell_type": "markdown",
   "id": "eeceb233-c547-4345-a6cd-8263f0204627",
   "metadata": {},
   "source": [
    "## Load in the olivine data"
   ]
  },
  {
   "cell_type": "code",
   "execution_count": 20,
   "id": "9e4e83ff-e039-435f-a1a9-6652a319c673",
   "metadata": {},
   "outputs": [],
   "source": [
    "Ols_in=pt.import_excel('2018_Olivines_Glasses.xlsx',\n",
    "                         sheet_name='MIs_Ols')\n",
    "Ols_Ol=Ols_in['Ols']\n",
    "Ols_all=Ols_in['my_input']"
   ]
  },
  {
   "cell_type": "markdown",
   "id": "bd80c02f-619d-423c-bbe0-11f01cddbcc6",
   "metadata": {},
   "source": [
    "## Find each sample for matrix glasses Glasses\n"
   ]
  },
  {
   "cell_type": "code",
   "execution_count": 21,
   "id": "85d6a7e9-cb5f-45b4-8069-81b0c7687931",
   "metadata": {},
   "outputs": [],
   "source": [
    "MGs_LL4_index=MG_all['SpecificID']==\"LL4\"\n",
    "MGs_LL7_index=MG_all['SpecificID']==\"LL7\"\n",
    "MGs_LL8_index=MG_all['SpecificID']==\"LL8\""
   ]
  },
  {
   "cell_type": "markdown",
   "id": "11927c84-4dba-4da3-8d32-a63ae3f76d83",
   "metadata": {},
   "source": [
    "## Find each sample for olivines and their melt inclusions"
   ]
  },
  {
   "cell_type": "code",
   "execution_count": 22,
   "id": "9dbb9a82-2479-4532-8561-b9736aafa07d",
   "metadata": {},
   "outputs": [],
   "source": [
    "Ols_LL4_index=Ols_all['SpecificID']==\"LL4\"\n",
    "Ols_LL7_index=Ols_all['SpecificID']==\"LL7\"\n",
    "Ols_LL8_index=Ols_all['SpecificID']==\"LL8\""
   ]
  },
  {
   "cell_type": "markdown",
   "id": "af9b8836-de6c-4c8c-9a43-00193b4bab18",
   "metadata": {},
   "source": [
    "## Workflow 1: Assess if the olivines are in equilibrium with the co-erupted matrix glass"
   ]
  },
  {
   "cell_type": "markdown",
   "id": "3cb7411f-578d-4b60-8e9e-85022ff8e5dd",
   "metadata": {},
   "source": [
    "### 1. Calculate Mg# for liquids"
   ]
  },
  {
   "cell_type": "code",
   "execution_count": 23,
   "id": "96af3ced-cd9f-445a-9a50-a274d52d7901",
   "metadata": {},
   "outputs": [],
   "source": [
    "Liq_Mgno_calc=pt.calculate_liq_mgno(liq_comps=MG_Liqs, Fe3Fet_Liq=0.15)\n",
    "\n",
    "Liq_Mgno_calc.head()\n",
    "\n",
    "# Calculate mean value to plot for each sample\n",
    "Liq_Mgno_calc_mean_LL4=np.mean(Liq_Mgno_calc.loc[MGs_LL4_index])\n",
    "Liq_Mgno_calc_mean_LL7=np.mean(Liq_Mgno_calc.loc[MGs_LL7_index])\n",
    "Liq_Mgno_calc_mean_LL8=np.mean(Liq_Mgno_calc.loc[MGs_LL8_index])"
   ]
  },
  {
   "cell_type": "markdown",
   "id": "e80192a9-363c-419f-b0de-0ff3cea3f505",
   "metadata": {},
   "source": [
    "### 2. Calculate Olivine Fo contents"
   ]
  },
  {
   "cell_type": "code",
   "execution_count": 24,
   "id": "f44a8e01-9e27-4679-a70d-e2e83e511290",
   "metadata": {},
   "outputs": [],
   "source": [
    "Ol_Fo_Calc=pt.calculate_ol_fo(ol_comps=Ols_Ol)"
   ]
  },
  {
   "cell_type": "markdown",
   "id": "63c893f7-3dc3-4cc5-8ff9-a5d36ddbca1b",
   "metadata": {},
   "source": [
    "### 3. Calculate fields you want to plot on a Rhodes diagram"
   ]
  },
  {
   "cell_type": "code",
   "execution_count": 25,
   "id": "b7e9d1ee-918f-41e1-bb51-bf2d501e6979",
   "metadata": {},
   "outputs": [
    {
     "data": {
      "text/html": [
       "<div>\n",
       "<style scoped>\n",
       "    .dataframe tbody tr th:only-of-type {\n",
       "        vertical-align: middle;\n",
       "    }\n",
       "\n",
       "    .dataframe tbody tr th {\n",
       "        vertical-align: top;\n",
       "    }\n",
       "\n",
       "    .dataframe thead th {\n",
       "        text-align: right;\n",
       "    }\n",
       "</style>\n",
       "<table border=\"1\" class=\"dataframe\">\n",
       "  <thead>\n",
       "    <tr style=\"text-align: right;\">\n",
       "      <th></th>\n",
       "      <th>Mg#_Liq</th>\n",
       "      <th>Eq_Ol_Fo_Roeder (Kd=0.3)</th>\n",
       "      <th>Eq_Ol_Fo_Roeder (Kd=0.27)</th>\n",
       "      <th>Eq_Ol_Fo_Roeder (Kd=0.33)</th>\n",
       "      <th>Eq_Ol_Fo_Matzen (Kd=0.34)</th>\n",
       "      <th>Eq_Ol_Fo_Matzen (Kd=0.328)</th>\n",
       "      <th>Eq_Ol_Fo_Matzen (Kd=0.352)</th>\n",
       "    </tr>\n",
       "  </thead>\n",
       "  <tbody>\n",
       "    <tr>\n",
       "      <th>0</th>\n",
       "      <td>0.500000</td>\n",
       "      <td>0.769231</td>\n",
       "      <td>0.787402</td>\n",
       "      <td>0.751880</td>\n",
       "      <td>0.746269</td>\n",
       "      <td>0.753012</td>\n",
       "      <td>0.739645</td>\n",
       "    </tr>\n",
       "    <tr>\n",
       "      <th>1</th>\n",
       "      <td>0.502020</td>\n",
       "      <td>0.770662</td>\n",
       "      <td>0.788751</td>\n",
       "      <td>0.753384</td>\n",
       "      <td>0.747796</td>\n",
       "      <td>0.754512</td>\n",
       "      <td>0.741198</td>\n",
       "    </tr>\n",
       "    <tr>\n",
       "      <th>2</th>\n",
       "      <td>0.504040</td>\n",
       "      <td>0.772087</td>\n",
       "      <td>0.790095</td>\n",
       "      <td>0.754883</td>\n",
       "      <td>0.749317</td>\n",
       "      <td>0.756006</td>\n",
       "      <td>0.742745</td>\n",
       "    </tr>\n",
       "    <tr>\n",
       "      <th>3</th>\n",
       "      <td>0.506061</td>\n",
       "      <td>0.773506</td>\n",
       "      <td>0.791432</td>\n",
       "      <td>0.756375</td>\n",
       "      <td>0.750832</td>\n",
       "      <td>0.757493</td>\n",
       "      <td>0.744286</td>\n",
       "    </tr>\n",
       "    <tr>\n",
       "      <th>4</th>\n",
       "      <td>0.508081</td>\n",
       "      <td>0.774919</td>\n",
       "      <td>0.792763</td>\n",
       "      <td>0.757861</td>\n",
       "      <td>0.752341</td>\n",
       "      <td>0.758975</td>\n",
       "      <td>0.745822</td>\n",
       "    </tr>\n",
       "  </tbody>\n",
       "</table>\n",
       "</div>"
      ],
      "text/plain": [
       "    Mg#_Liq  Eq_Ol_Fo_Roeder (Kd=0.3)  Eq_Ol_Fo_Roeder (Kd=0.27)  \\\n",
       "0  0.500000                  0.769231                   0.787402   \n",
       "1  0.502020                  0.770662                   0.788751   \n",
       "2  0.504040                  0.772087                   0.790095   \n",
       "3  0.506061                  0.773506                   0.791432   \n",
       "4  0.508081                  0.774919                   0.792763   \n",
       "\n",
       "   Eq_Ol_Fo_Roeder (Kd=0.33)  Eq_Ol_Fo_Matzen (Kd=0.34)  \\\n",
       "0                   0.751880                   0.746269   \n",
       "1                   0.753384                   0.747796   \n",
       "2                   0.754883                   0.749317   \n",
       "3                   0.756375                   0.750832   \n",
       "4                   0.757861                   0.752341   \n",
       "\n",
       "   Eq_Ol_Fo_Matzen (Kd=0.328)  Eq_Ol_Fo_Matzen (Kd=0.352)  \n",
       "0                    0.753012                    0.739645  \n",
       "1                    0.754512                    0.741198  \n",
       "2                    0.756006                    0.742745  \n",
       "3                    0.757493                    0.744286  \n",
       "4                    0.758975                    0.745822  "
      ]
     },
     "execution_count": 25,
     "metadata": {},
     "output_type": "execute_result"
    }
   ],
   "source": [
    "Rhodes=pt.calculate_ol_rhodes_diagram_lines(Min_Mgno=0.5, Max_Mgno=0.7)\n",
    "Rhodes.head()"
   ]
  },
  {
   "cell_type": "markdown",
   "id": "f4c82760-2240-46bc-b6f7-272f9d355cfd",
   "metadata": {},
   "source": [
    "### 4. Plot the Kd model you want, along with the olivine and glass Mg#"
   ]
  },
  {
   "cell_type": "code",
   "execution_count": 26,
   "id": "d8425602-17aa-450d-b95a-7996eb18d285",
   "metadata": {},
   "outputs": [
    {
     "data": {
      "text/plain": [
       "(0.5, 0.6)"
      ]
     },
     "execution_count": 26,
     "metadata": {},
     "output_type": "execute_result"
    },
    {
     "data": {
      "image/png": "[encoded data removed]",
      "text/plain": [
       "<Figure size 864x360 with 2 Axes>"
      ]
     },
     "metadata": {
      "needs_background": "light"
     },
     "output_type": "display_data"
    }
   ],
   "source": [
    "fig, (ax1, ax2) = plt.subplots(1, 2, figsize=(12,5))\n",
    "\n",
    "# Plotting for Roeder and Emslie\n",
    "ax1.set_title('Roeder and Emslie, 1970')\n",
    "# Plotting equilibrium lines\n",
    "ax1.plot(Rhodes['Mg#_Liq'], Rhodes['Eq_Ol_Fo_Roeder (Kd=0.27)'], ':k')\n",
    "ax1.plot(Rhodes['Mg#_Liq'], Rhodes['Eq_Ol_Fo_Roeder (Kd=0.33)'], ':k')\n",
    "ax1.plot(Rhodes['Mg#_Liq'], Rhodes['Eq_Ol_Fo_Roeder (Kd=0.3)'], '-k')\n",
    "\n",
    "# Plotting data\n",
    "\n",
    "ax1.plot(Ol_Fo_Calc.loc[Ols_LL4_index]*0+Liq_Mgno_calc_mean_LL4,\n",
    "         Ol_Fo_Calc.loc[Ols_LL4_index], 'ok', mfc='blue')\n",
    "\n",
    "ax1.plot(Ol_Fo_Calc.loc[Ols_LL7_index]*0+Liq_Mgno_calc_mean_LL7,\n",
    "         Ol_Fo_Calc.loc[Ols_LL7_index], 'ok', mfc='orange')\n",
    "\n",
    "ax1.plot(Ol_Fo_Calc.loc[Ols_LL8_index]*0+Liq_Mgno_calc_mean_LL8,\n",
    "         Ol_Fo_Calc.loc[Ols_LL8_index], 'ok', mfc='red')\n",
    "\n",
    "ax2.set_title('Matzen (2011)')\n",
    "# Plotting equilibrium lines\n",
    "ax2.plot(Rhodes['Mg#_Liq'], Rhodes['Eq_Ol_Fo_Matzen (Kd=0.328)'], ':k')\n",
    "ax2.plot(Rhodes['Mg#_Liq'], Rhodes['Eq_Ol_Fo_Matzen (Kd=0.352)'], ':k')\n",
    "ax2.plot(Rhodes['Mg#_Liq'], Rhodes['Eq_Ol_Fo_Matzen (Kd=0.34)'], '-k')\n",
    "# Plotting data\n",
    "ax2.plot(Ol_Fo_Calc.loc[Ols_LL4_index]*0+Liq_Mgno_calc_mean_LL4,\n",
    "         Ol_Fo_Calc.loc[Ols_LL4_index], 'ok', mfc='blue')\n",
    "\n",
    "ax2.plot(Ol_Fo_Calc.loc[Ols_LL7_index]*0+Liq_Mgno_calc_mean_LL7,\n",
    "         Ol_Fo_Calc.loc[Ols_LL7_index], 'ok', mfc='orange')\n",
    "\n",
    "ax2.plot(Ol_Fo_Calc.loc[Ols_LL8_index]*0+Liq_Mgno_calc_mean_LL8,\n",
    "         Ol_Fo_Calc.loc[Ols_LL8_index], 'ok', mfc='red')\n",
    "ax1.set_ylabel('Ol Fo content')\n",
    "ax2.set_ylabel('Ol Fo content')\n",
    "ax1.set_xlabel('Glass Mg#')\n",
    "ax2.set_xlabel('Glass Mg#')\n",
    "\n",
    "# You may need to adjust these limits for your data\n",
    "ax1.set_ylim([0.74, 0.9])\n",
    "ax2.set_ylim([0.74, 0.9])\n",
    "ax1.set_xlim([0.5, 0.6])\n",
    "ax2.set_xlim([0.5, 0.6])"
   ]
  },
  {
   "cell_type": "markdown",
   "id": "51a02a27-0542-4729-856f-207283e571f1",
   "metadata": {},
   "source": [
    "- We can see that a lot of the olivines are way to primitive to be in equilibrium with the co-erupted liquid, regardless of what Kd model we use. This is the first sign that the olivines have undergone extensive post-entrapment cooling and crystallization. "
   ]
  }
 ],
 "metadata": {
  "kernelspec": {
   "display_name": "Python 3 (ipykernel)",
   "language": "python",
   "name": "python3"
  },
  "language_info": {
   "codemirror_mode": {
    "name": "ipython",
    "version": 3
   },
   "file_extension": ".py",
   "mimetype": "text/x-python",
   "name": "python",
   "nbconvert_exporter": "python",
   "pygments_lexer": "ipython3",
   "version": "3.8.12"
  }
 },
 "nbformat": 4,
 "nbformat_minor": 5
}
