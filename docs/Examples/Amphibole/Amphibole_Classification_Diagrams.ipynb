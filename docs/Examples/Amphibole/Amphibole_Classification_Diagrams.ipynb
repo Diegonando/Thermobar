{
 "cells": [
  {
   "cell_type": "markdown",
   "id": "7ccb0344-f244-4a3c-80e4-7cb9f218f629",
   "metadata": {},
   "source": [
    "# Leake Classification diagram\n",
    "- This notebook shows how to plot Amphiboles on the Leake Calcic ampibole classification diagram\n",
    "- At present, we have only included the bottom figure from Leake et al. (1997) for the calcic amphiboles\n",
    "- If you really need other diagrams, please reach out to Penny and she can maybe add some of the other ones!\n",
    "- You can download the excel spreadsheet with data here:\n",
    "https://github.com/PennyWieser/Thermobar/blob/main/docs/Examples/Amphibole/Amphibole_Liquids.xlsx"
   ]
  },
  {
   "cell_type": "code",
   "execution_count": 1,
   "id": "1d233b24-9085-48c1-bd75-4cf31140af63",
   "metadata": {},
   "outputs": [],
   "source": [
    "# Load in some import Python things, and Thermobar\n",
    "import numpy as np\n",
    "import pandas as pd\n",
    "import matplotlib.pyplot as plt\n",
    "import Thermobar as pt\n",
    "pd.options.display.max_columns = None"
   ]
  },
  {
   "cell_type": "markdown",
   "id": "22466eb8-407f-494c-8a66-85a3466d15fe",
   "metadata": {
    "tags": []
   },
   "source": [
    "### You need to install Thermobar once on your machine, if you haven't done this yet, uncomment the line below (remove the #)"
   ]
  },
  {
   "cell_type": "code",
   "execution_count": 10,
   "id": "a7876e27-fb53-4cc4-8243-ca0d08a6fadc",
   "metadata": {},
   "outputs": [],
   "source": [
    "#!pip install Thermobar"
   ]
  },
  {
   "cell_type": "code",
   "execution_count": 2,
   "id": "9b422b3f-fc85-4a27-b456-f700ce8a93a4",
   "metadata": {},
   "outputs": [],
   "source": [
    "# Set some plotting parameters\n",
    "plt.rcParams[\"font.family\"] = 'arial'\n",
    "plt.rcParams[\"font.size\"] =12\n",
    "plt.rcParams[\"mathtext.default\"] = \"regular\"\n",
    "plt.rcParams[\"mathtext.fontset\"] = \"dejavusans\"\n",
    "plt.rcParams['patch.linewidth'] = 1\n",
    "plt.rcParams['axes.linewidth'] = 1\n",
    "plt.rcParams[\"xtick.direction\"] = \"in\"\n",
    "plt.rcParams[\"ytick.direction\"] = \"in\"\n",
    "plt.rcParams[\"ytick.direction\"] = \"in\"\n",
    "plt.rcParams[\"xtick.major.size\"] = 6 # Sets length of ticks\n",
    "plt.rcParams[\"ytick.major.size\"] = 4 # Sets length of ticks\n",
    "plt.rcParams[\"ytick.labelsize\"] = 12 # Sets size of numbers on tick marks\n",
    "plt.rcParams[\"xtick.labelsize\"] = 12 # Sets size of numbers on tick marks\n",
    "plt.rcParams[\"axes.titlesize\"] = 14 # Overall title\n",
    "plt.rcParams[\"axes.labelsize\"] = 14 # Axes labels"
   ]
  },
  {
   "cell_type": "markdown",
   "id": "e8eefefe-55a6-487b-b7a7-c12e96547b52",
   "metadata": {},
   "source": [
    "## Import amphiboles and associated liquids\n",
    "- These amphiboles are from 2 units, unit 1 and unit 2"
   ]
  },
  {
   "cell_type": "code",
   "execution_count": 3,
   "id": "9d203fa3-b620-474c-90ec-b5ed8c8a0945",
   "metadata": {},
   "outputs": [],
   "source": [
    "out=pt.import_excel('Amphibole_Liquids.xlsx', sheet_name=\"Amp_only_for_plotting\")\n",
    "my_input=out['my_input']\n",
    "Amps=out['Amps']"
   ]
  },
  {
   "cell_type": "code",
   "execution_count": 4,
   "id": "5c681cfb-315a-492b-8241-713c8eb86b83",
   "metadata": {},
   "outputs": [
    {
     "data": {
      "text/html": [
       "<div>\n",
       "<style scoped>\n",
       "    .dataframe tbody tr th:only-of-type {\n",
       "        vertical-align: middle;\n",
       "    }\n",
       "\n",
       "    .dataframe tbody tr th {\n",
       "        vertical-align: top;\n",
       "    }\n",
       "\n",
       "    .dataframe thead th {\n",
       "        text-align: right;\n",
       "    }\n",
       "</style>\n",
       "<table border=\"1\" class=\"dataframe\">\n",
       "  <thead>\n",
       "    <tr style=\"text-align: right;\">\n",
       "      <th></th>\n",
       "      <th>SiO2_Amp</th>\n",
       "      <th>TiO2_Amp</th>\n",
       "      <th>Al2O3_Amp</th>\n",
       "      <th>FeOt_Amp</th>\n",
       "      <th>MnO_Amp</th>\n",
       "      <th>MgO_Amp</th>\n",
       "      <th>CaO_Amp</th>\n",
       "      <th>Na2O_Amp</th>\n",
       "      <th>K2O_Amp</th>\n",
       "      <th>Cr2O3_Amp</th>\n",
       "      <th>F_Amp</th>\n",
       "      <th>Cl_Amp</th>\n",
       "      <th>Sample_ID_Amp</th>\n",
       "    </tr>\n",
       "  </thead>\n",
       "  <tbody>\n",
       "    <tr>\n",
       "      <th>0</th>\n",
       "      <td>42.43</td>\n",
       "      <td>2.50</td>\n",
       "      <td>12.97</td>\n",
       "      <td>7.80</td>\n",
       "      <td>0.09</td>\n",
       "      <td>15.56</td>\n",
       "      <td>11.21</td>\n",
       "      <td>2.41</td>\n",
       "      <td>1.61</td>\n",
       "      <td>0.31</td>\n",
       "      <td>0</td>\n",
       "      <td>0</td>\n",
       "      <td>Unit1</td>\n",
       "    </tr>\n",
       "    <tr>\n",
       "      <th>1</th>\n",
       "      <td>41.19</td>\n",
       "      <td>2.62</td>\n",
       "      <td>12.25</td>\n",
       "      <td>9.44</td>\n",
       "      <td>0.11</td>\n",
       "      <td>15.67</td>\n",
       "      <td>11.54</td>\n",
       "      <td>2.44</td>\n",
       "      <td>1.40</td>\n",
       "      <td>0.10</td>\n",
       "      <td>0</td>\n",
       "      <td>0</td>\n",
       "      <td>Unit1</td>\n",
       "    </tr>\n",
       "    <tr>\n",
       "      <th>2</th>\n",
       "      <td>45.69</td>\n",
       "      <td>1.44</td>\n",
       "      <td>9.64</td>\n",
       "      <td>13.37</td>\n",
       "      <td>0.21</td>\n",
       "      <td>14.57</td>\n",
       "      <td>10.72</td>\n",
       "      <td>1.76</td>\n",
       "      <td>0.23</td>\n",
       "      <td>0.00</td>\n",
       "      <td>0</td>\n",
       "      <td>0</td>\n",
       "      <td>Unit1</td>\n",
       "    </tr>\n",
       "    <tr>\n",
       "      <th>3</th>\n",
       "      <td>45.56</td>\n",
       "      <td>1.43</td>\n",
       "      <td>10.40</td>\n",
       "      <td>12.27</td>\n",
       "      <td>0.21</td>\n",
       "      <td>15.15</td>\n",
       "      <td>11.03</td>\n",
       "      <td>1.89</td>\n",
       "      <td>0.25</td>\n",
       "      <td>0.00</td>\n",
       "      <td>0</td>\n",
       "      <td>0</td>\n",
       "      <td>Unit1</td>\n",
       "    </tr>\n",
       "    <tr>\n",
       "      <th>4</th>\n",
       "      <td>45.65</td>\n",
       "      <td>1.55</td>\n",
       "      <td>10.78</td>\n",
       "      <td>13.30</td>\n",
       "      <td>0.21</td>\n",
       "      <td>14.21</td>\n",
       "      <td>10.81</td>\n",
       "      <td>1.89</td>\n",
       "      <td>0.27</td>\n",
       "      <td>0.00</td>\n",
       "      <td>0</td>\n",
       "      <td>0</td>\n",
       "      <td>Unit1</td>\n",
       "    </tr>\n",
       "  </tbody>\n",
       "</table>\n",
       "</div>"
      ],
      "text/plain": [
       "   SiO2_Amp  TiO2_Amp  Al2O3_Amp  FeOt_Amp  MnO_Amp  MgO_Amp  CaO_Amp  \\\n",
       "0     42.43      2.50      12.97      7.80     0.09    15.56    11.21   \n",
       "1     41.19      2.62      12.25      9.44     0.11    15.67    11.54   \n",
       "2     45.69      1.44       9.64     13.37     0.21    14.57    10.72   \n",
       "3     45.56      1.43      10.40     12.27     0.21    15.15    11.03   \n",
       "4     45.65      1.55      10.78     13.30     0.21    14.21    10.81   \n",
       "\n",
       "   Na2O_Amp  K2O_Amp  Cr2O3_Amp  F_Amp  Cl_Amp Sample_ID_Amp  \n",
       "0      2.41     1.61       0.31      0       0         Unit1  \n",
       "1      2.44     1.40       0.10      0       0         Unit1  \n",
       "2      1.76     0.23       0.00      0       0         Unit1  \n",
       "3      1.89     0.25       0.00      0       0         Unit1  \n",
       "4      1.89     0.27       0.00      0       0         Unit1  "
      ]
     },
     "metadata": {},
     "output_type": "display_data"
    }
   ],
   "source": [
    "## Check everything loaded in right, e.g., check no columns filled with zeros that should have data\n",
    "display(Amps.head())"
   ]
  },
  {
   "cell_type": "markdown",
   "id": "fa35f851-aeab-494a-8fbb-40bee91b4144",
   "metadata": {},
   "source": [
    "## Once we've loaded the data in, we can use the loc function to extract separate dataframes for unit 1 and unit2"
   ]
  },
  {
   "cell_type": "code",
   "execution_count": 5,
   "id": "fb8f3acd-c67c-413c-a55c-1f24af718998",
   "metadata": {},
   "outputs": [],
   "source": [
    "Amps_Unit1=Amps.loc[Amps['Sample_ID_Amp']==\"Unit1\"]\n",
    "Amps_Unit2=Amps.loc[Amps['Sample_ID_Amp']==\"Unit2\"]"
   ]
  },
  {
   "cell_type": "markdown",
   "id": "8dde1e15-4785-4f6c-93dd-6f24ce626c5e",
   "metadata": {},
   "source": [
    "## This function makes the plot automatically\n",
    "- Here, we are plotting the amphiboles on Fig. 3 (bottom) from Leake, which is for Ca_B<1.5, and Na_A + K_A <0.5, CaA < 0.50\n",
    "- The option \"site_check=True\" means that it only plots amphibles which fit these criteria, and the printed message tells you how many were excluded. If you want to plot ones outside this Ca_B and Na_A and K_A range anyway, select site_check=False. \n",
    "- This is not as customizable as the bottom option, where we show how to construct the plot yourself, but provides a good first look. "
   ]
  },
  {
   "cell_type": "code",
   "execution_count": 6,
   "id": "dbaa71a0-2082-4f57-8041-bbb5d9fc25fa",
   "metadata": {},
   "outputs": [
    {
     "name": "stdout",
     "output_type": "stream",
     "text": [
      "0 amphiboles have Ca_B<1.5, so arent shown on this plot\n",
      "0 amphiboles have Ca_A>=0.5, so arent shown on this plot\n",
      "17 amphiboles have Na_A+K_A>0.5, so arent shown on this plot\n"
     ]
    },
    {
     "data": {
      "image/png": "[encoded data removed]",
      "text/plain": [
       "<Figure size 504x360 with 1 Axes>"
      ]
     },
     "metadata": {
      "needs_background": "light"
     },
     "output_type": "display_data"
    }
   ],
   "source": [
    "fig=pt.plot_amp_class_Leake(amp_comps=Amps, fontsize=8, color=[0.3, 0.3, 0.3],\n",
    "linewidth=0.5, lower_text=0.3, upper_text=0.7, text_labels=True, site_check=True,\n",
    "plots=\"Ca_Amphiboles\", marker='.k')"
   ]
  },
  {
   "cell_type": "markdown",
   "id": "51d1d80e-3d7d-49cb-822d-a755ee9bbba4",
   "metadata": {},
   "source": [
    "## Making a more customizable plot, e.g., plotting different units as different colours\n",
    "- Here, we are plotting the amphiboles on Fig. 3a from Leake, which is for Ca_B<1.5, and Na_A + K_A <0.5\n",
    "- By default, this code will plot all amphiboles, some of which may not actually lie on this diagram. "
   ]
  },
  {
   "cell_type": "code",
   "execution_count": 9,
   "id": "90b6bcae-d78b-4603-8831-4cbb17b1f40e",
   "metadata": {},
   "outputs": [
    {
     "data": {
      "image/png": "[encoded data removed]",
      "text/plain": [
       "<Figure size 360x252 with 1 Axes>"
      ]
     },
     "metadata": {
      "needs_background": "light"
     },
     "output_type": "display_data"
    }
   ],
   "source": [
    "fig, (ax1) = plt.subplots(1, figsize=(5, 3.5), sharey=True)\n",
    "\n",
    "# First, add the fields to your axis\n",
    "pt.add_Leake_Amp_Fields_Fig3bot(ax1, fontsize=8, color=[0.3, 0.3, 0.3],\n",
    "linewidth=0.5, lower_text=0.3, upper_text=0.8, text_labels=True)\n",
    "\n",
    "# Now calculate the amphibole components\n",
    "cat_23ox_Unit1=pt.calculate_Leake_Diagram_Class(amp_comps=Amps_Unit1)\n",
    "cat_23ox_Unit2=pt.calculate_Leake_Diagram_Class(amp_comps=Amps_Unit2)\n",
    "\n",
    "# You only want the ones where \"Diagram\" = Fig. 3 - bottom - LHS, \n",
    "#Lets use Loc to find these rows\n",
    "cat_23ox_Unit1_Correct=cat_23ox_Unit1.loc[\n",
    "    cat_23ox_Unit1['Diagram']==\"Fig. 3 - bottom - LHS\"]\n",
    "cat_23ox_Unit2_Correct=cat_23ox_Unit2.loc[\n",
    "    cat_23ox_Unit2['Diagram']==\"Fig. 3 - bottom - LHS\"]\n",
    "\n",
    "# Now add these components to the axis, you can change symbol size, plot multiple amphioble populations in different colors. \n",
    "ax1.plot(cat_23ox_Unit1_Correct['Si_Amp_cat_23ox'], \n",
    "         cat_23ox_Unit1_Correct['Mgno_Amp'], 'ok', label='Unit1')\n",
    "ax1.plot(cat_23ox_Unit2_Correct['Si_Amp_cat_23ox'], \n",
    "         cat_23ox_Unit2_Correct['Mgno_Amp'], 'ok', mfc='red', label='Unit2')\n",
    "\n",
    "# Now reverse the x axis to match the common way of showing this in the literature\n",
    "ax1.invert_xaxis()\n",
    "\n",
    "# Add the axes labels\n",
    "ax1.set_ylabel('Mg# Amphibole')\n",
    "ax1.set_xlabel('Si (apfu)')\n",
    "\n",
    "# Add a legend\n",
    "ax1.legend(loc='upper right', facecolor='white', framealpha=1)\n",
    "\n",
    "# Adjust axis - Here, incorperate limit of diagram, \n",
    "# but could trim to emphasize certain bits of data. \n",
    "ax1.set_ylim([0, 1])\n",
    "ax1.set_xlim([8, 5.5])\n",
    "fig.savefig('Amp_Diagram.png', dpi=300)"
   ]
  },
  {
   "cell_type": "code",
   "execution_count": null,
   "id": "159bb768-8c11-4f07-b4fe-7807b53372ee",
   "metadata": {},
   "outputs": [],
   "source": []
  }
 ],
 "metadata": {
  "kernelspec": {
   "display_name": "Python 3 (ipykernel)",
   "language": "python",
   "name": "python3"
  },
  "language_info": {
   "codemirror_mode": {
    "name": "ipython",
    "version": 3
   },
   "file_extension": ".py",
   "mimetype": "text/x-python",
   "name": "python",
   "nbconvert_exporter": "python",
   "pygments_lexer": "ipython3",
   "version": "3.8.12"
  }
 },
 "nbformat": 4,
 "nbformat_minor": 5
}
