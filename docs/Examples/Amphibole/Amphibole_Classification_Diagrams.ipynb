{
 "cells": [
  {
   "cell_type": "markdown",
   "id": "7ccb0344-f244-4a3c-80e4-7cb9f218f629",
   "metadata": {},
   "source": [
    "# Leake Classification diagram\n",
    "- This notebook shows how to plot Amphiboles on the Leake Calcic ampibole classification Diagram\n",
    "- At present, we have only included the bottom figure from Leake et al. (1997) for the calcic amphiboles\n",
    "- If you really need other diagrams, please reach out and we can maybe add some of the other ones!"
   ]
  },
  {
   "cell_type": "code",
   "execution_count": 1,
   "id": "1d233b24-9085-48c1-bd75-4cf31140af63",
   "metadata": {},
   "outputs": [],
   "source": [
    "import numpy as np\n",
    "import pandas as pd\n",
    "import matplotlib.pyplot as plt\n",
    "import Thermobar as pt\n",
    "pd.options.display.max_columns = None"
   ]
  },
  {
   "cell_type": "code",
   "execution_count": 6,
   "id": "9b422b3f-fc85-4a27-b456-f700ce8a93a4",
   "metadata": {},
   "outputs": [],
   "source": [
    "plt.rcParams[\"font.family\"] = 'arial'\n",
    "plt.rcParams[\"font.size\"] =12\n",
    "plt.rcParams[\"mathtext.default\"] = \"regular\"\n",
    "plt.rcParams[\"mathtext.fontset\"] = \"dejavusans\"\n",
    "plt.rcParams['patch.linewidth'] = 1\n",
    "plt.rcParams['axes.linewidth'] = 1\n",
    "plt.rcParams[\"xtick.direction\"] = \"in\"\n",
    "plt.rcParams[\"ytick.direction\"] = \"in\"\n",
    "plt.rcParams[\"ytick.direction\"] = \"in\"\n",
    "plt.rcParams[\"xtick.major.size\"] = 6 # Sets length of ticks\n",
    "plt.rcParams[\"ytick.major.size\"] = 4 # Sets length of ticks\n",
    "plt.rcParams[\"ytick.labelsize\"] = 12 # Sets size of numbers on tick marks\n",
    "plt.rcParams[\"xtick.labelsize\"] = 12 # Sets size of numbers on tick marks\n",
    "plt.rcParams[\"axes.titlesize\"] = 14 # Overall title\n",
    "plt.rcParams[\"axes.labelsize\"] = 14 # Axes labels"
   ]
  },
  {
   "cell_type": "markdown",
   "id": "e8eefefe-55a6-487b-b7a7-c12e96547b52",
   "metadata": {},
   "source": [
    "## These amphiboles are from 2 units, unit 1 and unit 2"
   ]
  },
  {
   "cell_type": "code",
   "execution_count": 2,
   "id": "9d203fa3-b620-474c-90ec-b5ed8c8a0945",
   "metadata": {},
   "outputs": [],
   "source": [
    "out=pt.import_excel('Amphibole_Liquids.xlsx', sheet_name=\"Amp_only_for_plotting\")\n",
    "my_input=out['my_input']\n",
    "Amps=out['Amps']\n",
    "Liqs=out['Liqs']"
   ]
  },
  {
   "cell_type": "markdown",
   "id": "fa35f851-aeab-494a-8fbb-40bee91b4144",
   "metadata": {},
   "source": [
    "## Once we've loaded the data in, we can use the loc function to extract separate dataframes for unit 1 and unit2"
   ]
  },
  {
   "cell_type": "code",
   "execution_count": 3,
   "id": "fb8f3acd-c67c-413c-a55c-1f24af718998",
   "metadata": {},
   "outputs": [],
   "source": [
    "Amps_Unit1=Amps.loc[Amps['Sample_ID_Amp']==\"Unit1\"]\n",
    "Amps_Unit2=Amps.loc[Amps['Sample_ID_Amp']==\"Unit2\"]"
   ]
  },
  {
   "cell_type": "markdown",
   "id": "8dde1e15-4785-4f6c-93dd-6f24ce626c5e",
   "metadata": {},
   "source": [
    "## This function makes the plot automatically\n",
    "- Here, we are plotting the amphiboles on Fig. 3 (bottom) from Leake, which is for Ca_B<1.5, and Na_A + K_A <0.5, CaA < 0.50\n",
    "- The option \"site_check=True\" means that it only plots amphibles which fit these criteria, and the printed message tells you how many were excluded. If you want to plot ones outside this Ca_B and Na_A and K_A range anyway, select site_check=False. \n",
    "- This is not as customizable as the bottom option, where we show how to construct the plot yourself, but provides a good first look. "
   ]
  },
  {
   "cell_type": "code",
   "execution_count": 4,
   "id": "dbaa71a0-2082-4f57-8041-bbb5d9fc25fa",
   "metadata": {},
   "outputs": [
    {
     "name": "stdout",
     "output_type": "stream",
     "text": [
      "0 amphiboles have Ca_B<1.5, so arent shown on this plot\n",
      "0 amphiboles have Ca_A>=0.5, so arent shown on this plot\n",
      "17 amphiboles have Na_A+K_A>0.5, so arent shown on this plot\n"
     ]
    },
    {
     "data": {
      "image/png": "[encoded data removed]",
      "text/plain": [
       "<Figure size 504x360 with 1 Axes>"
      ]
     },
     "metadata": {
      "needs_background": "light"
     },
     "output_type": "display_data"
    }
   ],
   "source": [
    "pt.plot_amp_class_Leake(amp_comps=Amps, fontsize=8, color=[0.3, 0.3, 0.3],\n",
    "linewidth=0.5, lower_text=0.3, upper_text=0.7, text_labels=True, site_check=True,\n",
    "plots=\"Ca_Amphiboles\", marker='.k')"
   ]
  },
  {
   "cell_type": "markdown",
   "id": "51d1d80e-3d7d-49cb-822d-a755ee9bbba4",
   "metadata": {},
   "source": [
    "## Making a more customizable plot, e.g., plotting different units as different colours\n",
    "- Here, we are plotting the amphiboles on Fig. 3a from Leake, which is for Ca_B<1.5, and Na_A + K_A <0.5\n",
    "- By default, this code will plot all amphiboles, some of which may not actually lie on this diagram. "
   ]
  },
  {
   "cell_type": "code",
   "execution_count": 13,
   "id": "90b6bcae-d78b-4603-8831-4cbb17b1f40e",
   "metadata": {},
   "outputs": [
    {
     "data": {
      "image/png": "[encoded data removed]",
      "text/plain": [
       "<Figure size 360x252 with 1 Axes>"
      ]
     },
     "metadata": {
      "needs_background": "light"
     },
     "output_type": "display_data"
    }
   ],
   "source": [
    "fig, (ax1) = plt.subplots(1, figsize=(5, 3.5), sharey=True)\n",
    "\n",
    "# First, add the fields to your axis\n",
    "pt.add_Leake_Amp_Fields_Fig3bot(ax1, fontsize=8, color=[0.3, 0.3, 0.3],\n",
    "linewidth=0.5, lower_text=0.3, upper_text=0.8, text_labels=True)\n",
    "\n",
    "# Now calculate the amphibole components\n",
    "cat_23ox_Unit1=pt.calculate_Leake_Diagram_Class(amp_comps=Amps_Unit1)\n",
    "cat_23ox_Unit2=pt.calculate_Leake_Diagram_Class(amp_comps=Amps_Unit2)\n",
    "\n",
    "# You only want the ones where \"Diagram\" = Fig. 3 - bottom - LHS, Lets use Loc to find these rows\n",
    "cat_23ox_Unit1_Correct=cat_23ox_Unit1.loc[cat_23ox_Unit1['Diagram']==\"Fig. 3 - bottom - LHS\"]\n",
    "cat_23ox_Unit2_Correct=cat_23ox_Unit2.loc[cat_23ox_Unit2['Diagram']==\"Fig. 3 - bottom - LHS\"]\n",
    "\n",
    "# Now add these components to the axis, you can change symbol size, plot multiple amphioble populations in different colors. \n",
    "ax1.plot(cat_23ox_Unit1_Correct['Si_Amp_cat_23ox'], cat_23ox_Unit1_Correct['Mgno_Amp'], 'ok', label='Unit1')\n",
    "ax1.plot(cat_23ox_Unit2_Correct['Si_Amp_cat_23ox'], cat_23ox_Unit2_Correct['Mgno_Amp'], 'ok', mfc='red', label='Unit2')\n",
    "\n",
    "# Now reverse the x axis to match the common way of showing this in the literature\n",
    "ax1.invert_xaxis()\n",
    "\n",
    "# Add the axes labels\n",
    "ax1.set_ylabel('Mg# Amphibole')\n",
    "ax1.set_xlabel('Si (apfu)')\n",
    "\n",
    "# Add a legend\n",
    "ax1.legend(loc='upper right', facecolor='white', framealpha=1)\n",
    "\n",
    "# Adjust axis - Here, incorperate limit of diagram, but could trim to emphasize certain bits of data. \n",
    "ax1.set_ylim([0, 1])\n",
    "ax1.set_xlim([8, 5.5])\n",
    "fig.savefig('Amp_Diagram.png', dpi=300)"
   ]
  },
  {
   "cell_type": "code",
   "execution_count": 8,
   "id": "774608e1-9856-4261-8f33-628c99d86f9c",
   "metadata": {},
   "outputs": [
    {
     "data": {
      "text/plain": [
       "0     0.867711\n",
       "1     0.966596\n",
       "2     0.542867\n",
       "3     0.578063\n",
       "4     0.580779\n",
       "5     0.668282\n",
       "6     0.532469\n",
       "7     0.423710\n",
       "8     0.641712\n",
       "9     0.915898\n",
       "10    0.924725\n",
       "11    0.942566\n",
       "12    0.796429\n",
       "dtype: float64"
      ]
     },
     "execution_count": 8,
     "metadata": {},
     "output_type": "execute_result"
    }
   ],
   "source": [
    "cat_23ox_Unit1['Na_A']+cat_23ox_Unit1['K_A']"
   ]
  },
  {
   "cell_type": "code",
   "execution_count": 9,
   "id": "2c0ce7ee-ac46-4693-be37-f7d5728df670",
   "metadata": {},
   "outputs": [
    {
     "data": {
      "text/plain": [
       "0     1.758591\n",
       "1     1.833945\n",
       "2     1.682586\n",
       "3     1.715030\n",
       "4     1.677971\n",
       "5     1.747143\n",
       "6     1.810296\n",
       "7     1.591369\n",
       "8     1.727216\n",
       "9     1.597284\n",
       "10    1.675625\n",
       "11    1.657272\n",
       "12    1.769866\n",
       "Name: Ca_B, dtype: float64"
      ]
     },
     "execution_count": 9,
     "metadata": {},
     "output_type": "execute_result"
    }
   ],
   "source": [
    "cat_23ox_Unit1['Ca_B']"
   ]
  },
  {
   "cell_type": "code",
   "execution_count": 12,
   "id": "1798c418-db58-4335-8b98-6f3c5cec58f6",
   "metadata": {},
   "outputs": [],
   "source": [
    "Leake_Sites=cat_23ox_Unit1\n",
    "High_Ca_B=Leake_Sites['Ca_B']>=1.5\n",
    "High_NaK_A=(Leake_Sites['Na_A']+Leake_Sites['K_A'])>=0.5\n",
    "low_TiC=(Leake_Sites['Ti_C'])<0.5\n",
    "low_CaA=(Leake_Sites['Ca_A'])<0.5\n",
    "Fig3b_LHS=( (High_Ca_B) & (~High_NaK_A)  & (low_CaA) )"
   ]
  },
  {
   "cell_type": "code",
   "execution_count": null,
   "id": "159bb768-8c11-4f07-b4fe-7807b53372ee",
   "metadata": {},
   "outputs": [],
   "source": []
  }
 ],
 "metadata": {
  "kernelspec": {
   "display_name": "Python 3 (ipykernel)",
   "language": "python",
   "name": "python3"
  },
  "language_info": {
   "codemirror_mode": {
    "name": "ipython",
    "version": 3
   },
   "file_extension": ".py",
   "mimetype": "text/x-python",
   "name": "python",
   "nbconvert_exporter": "python",
   "pygments_lexer": "ipython3",
   "version": "3.8.12"
  }
 },
 "nbformat": 4,
 "nbformat_minor": 5
}
