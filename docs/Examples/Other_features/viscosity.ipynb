{
 "cells": [
  {
   "cell_type": "code",
   "execution_count": 2,
   "id": "c7dfb0a9-d578-4309-9704-c9cfb25fba09",
   "metadata": {},
   "outputs": [],
   "source": [
    "## Calculating Viscosity\n",
    "- This notebook shows how to calculate Viscosity using Giordano et al. (2008)\n",
    "- You can download the Excel spreadsheet from ...."
   ]
  },
  {
   "cell_type": "code",
   "execution_count": 1,
   "id": "0e98ab7b-15e4-415a-835a-e1d449238f6d",
   "metadata": {},
   "outputs": [],
   "source": [
    "import numpy as np\n",
    "import pandas as pd\n",
    "import Thermobar as pt\n",
    "import matplotlib.pyplot as plt\n",
    "import matplotlib as mpl\n",
    "from matplotlib import cm\n",
    "import warnings as w\n",
    "pd.options.display.max_columns = None"
   ]
  },
  {
   "cell_type": "markdown",
   "id": "1c08fcf6-9512-4937-87c4-519f5dda0abe",
   "metadata": {},
   "source": [
    "## Lets load in some melt compositions from a MELTS model published in Wieser et al. (2022)"
   ]
  },
  {
   "cell_type": "code",
   "execution_count": 5,
   "id": "510b12cc-296c-4f8b-bb13-fcd059d37af2",
   "metadata": {},
   "outputs": [],
   "source": [
    "Liqs_import2=pt.import_excel('Viscoity_Giordano.xlsx', sheet_name='MELTSTest', suffix=\"_Liq\")\n",
    "Liqs2=Liqs_import2['Liqs']\n",
    "Liqs_input2=Liqs_import2['my_input']"
   ]
  },
  {
   "cell_type": "markdown",
   "id": "da9c8258-9f78-4b4b-b473-f40048cf48d5",
   "metadata": {},
   "source": [
    "## Lets calculate viscosity at the temperature stored in the column \"Temp HT1987_K\"\n",
    "- This T needs to be in Kelvin"
   ]
  },
  {
   "cell_type": "code",
   "execution_count": 6,
   "id": "99c8b1c8-a81b-4041-9a36-528180cd3583",
   "metadata": {},
   "outputs": [],
   "source": [
    "Melts_Vis_HT=pt.calculate_viscosity_giordano_2008(liq_comps=Liqs2, \n",
    "                                                  T=Liqs_input2['Temp HT1987_K'])"
   ]
  },
  {
   "cell_type": "code",
   "execution_count": 11,
   "id": "3483d7c2-9667-4df7-8021-a73ce260c738",
   "metadata": {},
   "outputs": [
    {
     "data": {
      "text/plain": [
       "Text(0.5, 0, 'MgO content Liq')"
      ]
     },
     "execution_count": 11,
     "metadata": {},
     "output_type": "execute_result"
    },
    {
     "data": {
      "image/png": "[encoded data removed]",
      "text/plain": [
       "<Figure size 432x288 with 1 Axes>"
      ]
     },
     "metadata": {
      "needs_background": "light"
     },
     "output_type": "display_data"
    }
   ],
   "source": [
    "plt.plot( Melts_Vis_HT['MgO_Liq'], Melts_Vis_HT['n_melt'], 'ok')\n",
    "plt.ylabel('Viscosity')\n",
    "plt.xlabel('MgO content Liq')"
   ]
  },
  {
   "cell_type": "markdown",
   "id": "59d44ab6-4d4d-41d6-94e8-feda75df356a",
   "metadata": {},
   "source": [
    "## With different F2O contents\n",
    "- By default, we perform calculations with no F, to use the same input structure as the rest of the liquids\n",
    "- However, Giordano parameterize in terms of F2O, so you can enter this straight in the function\n",
    "- We have 2 functions, allowing you to convert from F2O to F and back"
   ]
  },
  {
   "cell_type": "code",
   "execution_count": 34,
   "id": "b6bc488f-9b15-434c-8386-cf076452fbd4",
   "metadata": {},
   "outputs": [
    {
     "data": {
      "text/plain": [
       "0.14210723396066502"
      ]
     },
     "execution_count": 34,
     "metadata": {},
     "output_type": "execute_result"
    }
   ],
   "source": [
    "F2O_calc=pt.convert_F_to_F2O(F_ppm=1000)\n",
    "F2O_calc"
   ]
  },
  {
   "cell_type": "code",
   "execution_count": 35,
   "id": "78ca6c38-d232-449d-85e4-9f0ccdb1e9aa",
   "metadata": {},
   "outputs": [
    {
     "data": {
      "text/plain": [
       "1000.0"
      ]
     },
     "execution_count": 35,
     "metadata": {},
     "output_type": "execute_result"
    }
   ],
   "source": [
    "F_calc=pt.convert_F2O_to_F_ppm(F2O_wt=F2O_calc)\n",
    "F_calc"
   ]
  },
  {
   "cell_type": "code",
   "execution_count": 36,
   "id": "e160aa1e-e254-4d4d-88bd-3e7c77e789d7",
   "metadata": {},
   "outputs": [],
   "source": [
    "WithF=pt.calculate_viscosity_giordano_2008(liq_comps=Liqs2, \n",
    "                                    T=Liqs_input2['Temp HT1987_K'],\n",
    "                                     F2O_content=0.5)"
   ]
  },
  {
   "cell_type": "code",
   "execution_count": 37,
   "id": "b939cd71-97c3-4e9a-a6ec-31621ea7f963",
   "metadata": {},
   "outputs": [],
   "source": [
    "def convert_F2O_to_F_ppm(F2O_wt=None):\n",
    "    \"\"\" Converts from F2O in wt% to F in ppm\"\"\"\n",
    "    F2O_mass=53.99621\n",
    "    F_mass=18.998403\n",
    "    F_calc=2*F_mass*(F2O_wt/F2O_mass)\n",
    "    return F_calc*10000\n",
    "\n",
    "def convert_F_to_F2O(F_ppm=None):\n",
    "    \"\"\" Converts from F in ppm to F2O in wt%\"\"\"    \n",
    "    F=F_ppm/10000\n",
    "    F2O_mass=53.99621\n",
    "    F_mass=18.998403\n",
    "    F2O_calc=(F/F_mass)*0.5*F2O_mass\n",
    "    return F2O_calc"
   ]
  },
  {
   "cell_type": "code",
   "execution_count": 38,
   "id": "90789518-d724-46ed-9e66-eb7a8c614509",
   "metadata": {},
   "outputs": [],
   "source": []
  },
  {
   "cell_type": "code",
   "execution_count": null,
   "id": "442859c4-4ca1-41f3-a847-f6965342179b",
   "metadata": {},
   "outputs": [],
   "source": []
  }
 ],
 "metadata": {
  "kernelspec": {
   "display_name": "Python 3 (ipykernel)",
   "language": "python",
   "name": "python3"
  },
  "language_info": {
   "codemirror_mode": {
    "name": "ipython",
    "version": 3
   },
   "file_extension": ".py",
   "mimetype": "text/x-python",
   "name": "python",
   "nbconvert_exporter": "python",
   "pygments_lexer": "ipython3",
   "version": "3.8.12"
  }
 },
 "nbformat": 4,
 "nbformat_minor": 5
}
