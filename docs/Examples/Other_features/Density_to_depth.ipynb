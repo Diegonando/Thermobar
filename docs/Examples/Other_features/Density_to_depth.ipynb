{
 "cells": [
  {
   "cell_type": "markdown",
   "id": "0d767f0c-7dc4-4bba-89d0-2e7573580011",
   "metadata": {},
   "source": [
    "## Converting pressures into depths\n",
    "- This notebook shows how to use the density profiles built into Thermobar to convert density to depth. \n",
    "- In this example, we are using Cpx-only barometry just as an example"
   ]
  },
  {
   "cell_type": "code",
   "execution_count": 1,
   "id": "8f74459e-45a1-4758-a9f2-50a28e9c5535",
   "metadata": {},
   "outputs": [],
   "source": [
    "import Thermobar as pt\n",
    "import pandas as pd\n",
    "import numpy as np\n",
    "import matplotlib.pyplot as plt"
   ]
  },
  {
   "cell_type": "code",
   "execution_count": 2,
   "id": "176387b7-71b0-468a-a91b-09f329646637",
   "metadata": {},
   "outputs": [],
   "source": [
    "out2=pt.import_excel('teneguia1971_py.xlsx', sheet_name=\"Pyroxene\")\n",
    "Cpxs1=out2['Cpxs']"
   ]
  },
  {
   "cell_type": "code",
   "execution_count": 3,
   "id": "c68d3cfe-418c-47bd-ba90-5337b8a3889d",
   "metadata": {},
   "outputs": [
    {
     "name": "stderr",
     "output_type": "stream",
     "text": [
      "C:\\Users\\penny\\anaconda3\\lib\\site-packages\\pandas\\core\\indexing.py:2115: FutureWarning: In a future version, the Index constructor will not infer numeric dtypes when passed object-dtype sequences (matching Series behavior)\n",
      "  new_ix = Index(new_ix)\n",
      "C:\\Users\\penny\\anaconda3\\lib\\site-packages\\pandas\\core\\indexing.py:2115: FutureWarning: In a future version, the Index constructor will not infer numeric dtypes when passed object-dtype sequences (matching Series behavior)\n",
      "  new_ix = Index(new_ix)\n",
      "g:\\my drive\\postdoc\\pymme\\mybarometers\\thermobar_outer\\src\\Thermobar\\clinopyroxene_thermobarometry.py:2979: UserWarning: This Cpx-only barometer is sensitive to H2O content of the liquid.  By default, this function uses H2O=0 wt%, else you can enter a value of H2O_Liq in the function\n",
      "  w.warn('This Cpx-only barometer is sensitive to H2O content of the liquid. '\n"
     ]
    },
    {
     "data": {
      "text/html": [
       "<div>\n",
       "<style scoped>\n",
       "    .dataframe tbody tr th:only-of-type {\n",
       "        vertical-align: middle;\n",
       "    }\n",
       "\n",
       "    .dataframe tbody tr th {\n",
       "        vertical-align: top;\n",
       "    }\n",
       "\n",
       "    .dataframe thead th {\n",
       "        text-align: right;\n",
       "    }\n",
       "</style>\n",
       "<table border=\"1\" class=\"dataframe\">\n",
       "  <thead>\n",
       "    <tr style=\"text-align: right;\">\n",
       "      <th></th>\n",
       "      <th>P_kbar_calc</th>\n",
       "      <th>T_K_calc</th>\n",
       "      <th>SiO2_Cpx</th>\n",
       "      <th>TiO2_Cpx</th>\n",
       "      <th>Al2O3_Cpx</th>\n",
       "      <th>FeOt_Cpx</th>\n",
       "      <th>MnO_Cpx</th>\n",
       "      <th>MgO_Cpx</th>\n",
       "      <th>CaO_Cpx</th>\n",
       "      <th>Na2O_Cpx</th>\n",
       "      <th>K2O_Cpx</th>\n",
       "      <th>Cr2O3_Cpx</th>\n",
       "      <th>Sample_ID_Cpx</th>\n",
       "    </tr>\n",
       "  </thead>\n",
       "  <tbody>\n",
       "    <tr>\n",
       "      <th>0</th>\n",
       "      <td>1.899763</td>\n",
       "      <td>1355.756009</td>\n",
       "      <td>45.19</td>\n",
       "      <td>3.3100</td>\n",
       "      <td>8.88</td>\n",
       "      <td>7.98</td>\n",
       "      <td>0.0764</td>\n",
       "      <td>11.88</td>\n",
       "      <td>20.94</td>\n",
       "      <td>0.6452</td>\n",
       "      <td>0.0000</td>\n",
       "      <td>0.2344</td>\n",
       "      <td>Lava_1_text_cpx1</td>\n",
       "    </tr>\n",
       "    <tr>\n",
       "      <th>1</th>\n",
       "      <td>3.880512</td>\n",
       "      <td>1396.492499</td>\n",
       "      <td>48.50</td>\n",
       "      <td>2.5100</td>\n",
       "      <td>6.47</td>\n",
       "      <td>7.11</td>\n",
       "      <td>0.1244</td>\n",
       "      <td>13.07</td>\n",
       "      <td>21.35</td>\n",
       "      <td>0.6048</td>\n",
       "      <td>0.0007</td>\n",
       "      <td>0.1034</td>\n",
       "      <td>Lava_1_text_cpx_1</td>\n",
       "    </tr>\n",
       "    <tr>\n",
       "      <th>2</th>\n",
       "      <td>3.661785</td>\n",
       "      <td>1385.544329</td>\n",
       "      <td>48.18</td>\n",
       "      <td>2.6200</td>\n",
       "      <td>6.70</td>\n",
       "      <td>7.63</td>\n",
       "      <td>0.1498</td>\n",
       "      <td>12.77</td>\n",
       "      <td>21.41</td>\n",
       "      <td>0.7057</td>\n",
       "      <td>0.0027</td>\n",
       "      <td>0.2723</td>\n",
       "      <td>Lava_1_text_cpx_1</td>\n",
       "    </tr>\n",
       "    <tr>\n",
       "      <th>3</th>\n",
       "      <td>4.496111</td>\n",
       "      <td>1422.672182</td>\n",
       "      <td>49.73</td>\n",
       "      <td>2.0300</td>\n",
       "      <td>5.86</td>\n",
       "      <td>7.03</td>\n",
       "      <td>0.0519</td>\n",
       "      <td>13.67</td>\n",
       "      <td>21.00</td>\n",
       "      <td>0.4540</td>\n",
       "      <td>0.0083</td>\n",
       "      <td>0.1600</td>\n",
       "      <td>Lava_1_text_cpx_2</td>\n",
       "    </tr>\n",
       "    <tr>\n",
       "      <th>4</th>\n",
       "      <td>2.921272</td>\n",
       "      <td>1369.518603</td>\n",
       "      <td>46.01</td>\n",
       "      <td>3.2200</td>\n",
       "      <td>8.73</td>\n",
       "      <td>8.08</td>\n",
       "      <td>0.1089</td>\n",
       "      <td>11.95</td>\n",
       "      <td>20.82</td>\n",
       "      <td>0.6429</td>\n",
       "      <td>0.0037</td>\n",
       "      <td>0.0000</td>\n",
       "      <td>Lava_1_text_cpx_2</td>\n",
       "    </tr>\n",
       "    <tr>\n",
       "      <th>...</th>\n",
       "      <td>...</td>\n",
       "      <td>...</td>\n",
       "      <td>...</td>\n",
       "      <td>...</td>\n",
       "      <td>...</td>\n",
       "      <td>...</td>\n",
       "      <td>...</td>\n",
       "      <td>...</td>\n",
       "      <td>...</td>\n",
       "      <td>...</td>\n",
       "      <td>...</td>\n",
       "      <td>...</td>\n",
       "      <td>...</td>\n",
       "    </tr>\n",
       "    <tr>\n",
       "      <th>569</th>\n",
       "      <td>7.599482</td>\n",
       "      <td>1371.456377</td>\n",
       "      <td>49.40</td>\n",
       "      <td>1.6562</td>\n",
       "      <td>5.24</td>\n",
       "      <td>10.89</td>\n",
       "      <td>0.3292</td>\n",
       "      <td>10.32</td>\n",
       "      <td>21.30</td>\n",
       "      <td>1.3700</td>\n",
       "      <td>0.0000</td>\n",
       "      <td>0.0000</td>\n",
       "      <td>LaPalma_L_cpx121_</td>\n",
       "    </tr>\n",
       "    <tr>\n",
       "      <th>570</th>\n",
       "      <td>5.818432</td>\n",
       "      <td>1369.098026</td>\n",
       "      <td>47.24</td>\n",
       "      <td>2.5800</td>\n",
       "      <td>7.77</td>\n",
       "      <td>8.96</td>\n",
       "      <td>0.1829</td>\n",
       "      <td>10.46</td>\n",
       "      <td>21.69</td>\n",
       "      <td>0.9283</td>\n",
       "      <td>0.0000</td>\n",
       "      <td>0.0442</td>\n",
       "      <td>LaPalma_L_cpx122_</td>\n",
       "    </tr>\n",
       "    <tr>\n",
       "      <th>571</th>\n",
       "      <td>3.744089</td>\n",
       "      <td>1397.002688</td>\n",
       "      <td>49.08</td>\n",
       "      <td>2.4400</td>\n",
       "      <td>6.36</td>\n",
       "      <td>7.24</td>\n",
       "      <td>0.1570</td>\n",
       "      <td>13.23</td>\n",
       "      <td>21.50</td>\n",
       "      <td>0.6041</td>\n",
       "      <td>0.0194</td>\n",
       "      <td>0.0327</td>\n",
       "      <td>LaPalma_L_cpx124_</td>\n",
       "    </tr>\n",
       "    <tr>\n",
       "      <th>572</th>\n",
       "      <td>6.497423</td>\n",
       "      <td>1402.369152</td>\n",
       "      <td>48.25</td>\n",
       "      <td>2.1900</td>\n",
       "      <td>6.44</td>\n",
       "      <td>6.99</td>\n",
       "      <td>0.0776</td>\n",
       "      <td>12.75</td>\n",
       "      <td>20.98</td>\n",
       "      <td>1.2148</td>\n",
       "      <td>0.0168</td>\n",
       "      <td>0.0936</td>\n",
       "      <td>LaPalma_L_cpx126_</td>\n",
       "    </tr>\n",
       "    <tr>\n",
       "      <th>573</th>\n",
       "      <td>6.534787</td>\n",
       "      <td>1400.193753</td>\n",
       "      <td>48.79</td>\n",
       "      <td>1.9400</td>\n",
       "      <td>5.93</td>\n",
       "      <td>8.55</td>\n",
       "      <td>0.1398</td>\n",
       "      <td>11.65</td>\n",
       "      <td>21.38</td>\n",
       "      <td>0.9247</td>\n",
       "      <td>0.0081</td>\n",
       "      <td>0.0559</td>\n",
       "      <td>LaPalma_L_cpx129_</td>\n",
       "    </tr>\n",
       "  </tbody>\n",
       "</table>\n",
       "<p>574 rows × 13 columns</p>\n",
       "</div>"
      ],
      "text/plain": [
       "     P_kbar_calc     T_K_calc  SiO2_Cpx  TiO2_Cpx  Al2O3_Cpx  FeOt_Cpx  \\\n",
       "0       1.899763  1355.756009     45.19    3.3100       8.88      7.98   \n",
       "1       3.880512  1396.492499     48.50    2.5100       6.47      7.11   \n",
       "2       3.661785  1385.544329     48.18    2.6200       6.70      7.63   \n",
       "3       4.496111  1422.672182     49.73    2.0300       5.86      7.03   \n",
       "4       2.921272  1369.518603     46.01    3.2200       8.73      8.08   \n",
       "..           ...          ...       ...       ...        ...       ...   \n",
       "569     7.599482  1371.456377     49.40    1.6562       5.24     10.89   \n",
       "570     5.818432  1369.098026     47.24    2.5800       7.77      8.96   \n",
       "571     3.744089  1397.002688     49.08    2.4400       6.36      7.24   \n",
       "572     6.497423  1402.369152     48.25    2.1900       6.44      6.99   \n",
       "573     6.534787  1400.193753     48.79    1.9400       5.93      8.55   \n",
       "\n",
       "     MnO_Cpx  MgO_Cpx  CaO_Cpx  Na2O_Cpx  K2O_Cpx  Cr2O3_Cpx  \\\n",
       "0     0.0764    11.88    20.94    0.6452   0.0000     0.2344   \n",
       "1     0.1244    13.07    21.35    0.6048   0.0007     0.1034   \n",
       "2     0.1498    12.77    21.41    0.7057   0.0027     0.2723   \n",
       "3     0.0519    13.67    21.00    0.4540   0.0083     0.1600   \n",
       "4     0.1089    11.95    20.82    0.6429   0.0037     0.0000   \n",
       "..       ...      ...      ...       ...      ...        ...   \n",
       "569   0.3292    10.32    21.30    1.3700   0.0000     0.0000   \n",
       "570   0.1829    10.46    21.69    0.9283   0.0000     0.0442   \n",
       "571   0.1570    13.23    21.50    0.6041   0.0194     0.0327   \n",
       "572   0.0776    12.75    20.98    1.2148   0.0168     0.0936   \n",
       "573   0.1398    11.65    21.38    0.9247   0.0081     0.0559   \n",
       "\n",
       "         Sample_ID_Cpx  \n",
       "0     Lava_1_text_cpx1  \n",
       "1    Lava_1_text_cpx_1  \n",
       "2    Lava_1_text_cpx_1  \n",
       "3    Lava_1_text_cpx_2  \n",
       "4    Lava_1_text_cpx_2  \n",
       "..                 ...  \n",
       "569  LaPalma_L_cpx121_  \n",
       "570  LaPalma_L_cpx122_  \n",
       "571  LaPalma_L_cpx124_  \n",
       "572  LaPalma_L_cpx126_  \n",
       "573  LaPalma_L_cpx129_  \n",
       "\n",
       "[574 rows x 13 columns]"
      ]
     },
     "execution_count": 3,
     "metadata": {},
     "output_type": "execute_result"
    }
   ],
   "source": [
    "Calc_P=pt.calculate_cpx_only_press_temp(cpx_comps=Cpxs1, \n",
    "                                               equationT=\"T_Put2008_eq32d\",\n",
    "                                               equationP=\"P_Put2008_eq32b\")  \n",
    "Calc_P"
   ]
  },
  {
   "cell_type": "markdown",
   "id": "2677060e-1ac8-4199-897b-5b7d1f5952c0",
   "metadata": {},
   "source": [
    "## Now convert pressure to depth using a variety of crustal density models"
   ]
  },
  {
   "cell_type": "code",
   "execution_count": 5,
   "id": "c5d6eab0-9fa2-4a35-9ef8-9b14e4897588",
   "metadata": {},
   "outputs": [
    {
     "data": {
      "text/plain": [
       "<matplotlib.legend.Legend at 0x17084d98a60>"
      ]
     },
     "execution_count": 5,
     "metadata": {},
     "output_type": "execute_result"
    },
    {
     "data": {
      "image/png": "[encoded data removed]",
      "text/plain": [
       "<Figure size 432x288 with 1 Axes>"
      ]
     },
     "metadata": {
      "needs_background": "light"
     },
     "output_type": "display_data"
    }
   ],
   "source": [
    "# Lets first examine these density models using a linear array between 0.5 and 10 kbar\n",
    "P_array=np.linspace(0.5, 10, 10)\n",
    "\n",
    "ryan_lerner=pt.convert_pressure_to_depth(P_kbar=P_array,\n",
    "                                      model=\"ryan_lerner\")\n",
    "\n",
    "mavko_debari=pt.convert_pressure_to_depth(P_kbar=P_array,\n",
    "                                      model=\"mavko_debari\")\n",
    "\n",
    "prezzi=pt.convert_pressure_to_depth(P_kbar=P_array,\n",
    "                                      model=\"prezzi\")\n",
    "\n",
    "\n",
    "hill_zucca=pt.convert_pressure_to_depth(P_kbar=P_array,\n",
    "                                      model=\"hill_zucca\")\n",
    "\n",
    "plt.plot(P_array, ryan_lerner, '-r', label='ryan_lerner')\n",
    "plt.plot(P_array, mavko_debari, '-b', label='mavko_debari')\n",
    "plt.plot(P_array, hill_zucca, '-g', label='hill_zucca')\n",
    "plt.plot(P_array, prezzi, ':k', label='Prezzi 2009')\n",
    "plt.xlabel('Pressure (kbar)')\n",
    "plt.ylabel('Depth (km)')\n",
    "plt.legend()"
   ]
  },
  {
   "cell_type": "markdown",
   "id": "cb57a834-4033-4f22-9b59-a89aa626c36d",
   "metadata": {},
   "source": [
    "## Now lets choose one for our samples"
   ]
  },
  {
   "cell_type": "code",
   "execution_count": 6,
   "id": "8b3f78e8-7642-4cb6-a157-34c761974be1",
   "metadata": {},
   "outputs": [
    {
     "data": {
      "text/plain": [
       "0       7.653447\n",
       "1      14.476528\n",
       "2      13.716467\n",
       "3      16.685551\n",
       "4      11.188643\n",
       "         ...    \n",
       "569    28.202109\n",
       "570    21.592532\n",
       "571    14.001327\n",
       "572    24.112308\n",
       "573    24.250966\n",
       "Length: 574, dtype: float64"
      ]
     },
     "execution_count": 6,
     "metadata": {},
     "output_type": "execute_result"
    }
   ],
   "source": [
    "Depth_ryan_lerner=pt.convert_pressure_to_depth(P_kbar=Calc_P['P_kbar_calc'], model='ryan_lerner')\n",
    "Depth_ryan_lerner"
   ]
  },
  {
   "cell_type": "markdown",
   "id": "5aebab70-04bf-4c81-97b4-e3f006917987",
   "metadata": {},
   "source": [
    "## Or we can use a constant density"
   ]
  },
  {
   "cell_type": "code",
   "execution_count": 5,
   "id": "6acb1be4-aee4-42d1-a1fe-badbdf9a59c2",
   "metadata": {},
   "outputs": [
    {
     "data": {
      "text/plain": [
       "0       7.179753\n",
       "1      14.665578\n",
       "2      13.838945\n",
       "3      16.992104\n",
       "4      11.040332\n",
       "         ...    \n",
       "569    28.720642\n",
       "570    21.989539\n",
       "571    14.149996\n",
       "572    24.555644\n",
       "573    24.696852\n",
       "Name: P_kbar_calc, Length: 574, dtype: float64"
      ]
     },
     "execution_count": 5,
     "metadata": {},
     "output_type": "execute_result"
    }
   ],
   "source": [
    "Depth_ryan_lerner=pt.convert_pressure_to_depth(P_kbar=Calc_P['P_kbar_calc'], crust_dens_kgm3=2700)\n",
    "Depth_ryan_lerner"
   ]
  },
  {
   "cell_type": "code",
   "execution_count": null,
   "id": "46a96b0a-6de0-413f-9d5b-bb8e7dae3ffd",
   "metadata": {},
   "outputs": [],
   "source": []
  }
 ],
 "metadata": {
  "kernelspec": {
   "display_name": "Python 3 (ipykernel)",
   "language": "python",
   "name": "python3"
  },
  "language_info": {
   "codemirror_mode": {
    "name": "ipython",
    "version": 3
   },
   "file_extension": ".py",
   "mimetype": "text/x-python",
   "name": "python",
   "nbconvert_exporter": "python",
   "pygments_lexer": "ipython3",
   "version": "3.9.12"
  }
 },
 "nbformat": 4,
 "nbformat_minor": 5
}
