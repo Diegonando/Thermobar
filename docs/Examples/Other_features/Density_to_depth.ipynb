{
 "cells": [
  {
   "cell_type": "markdown",
   "id": "0d767f0c-7dc4-4bba-89d0-2e7573580011",
   "metadata": {},
   "source": [
    "## Converting pressures into depths\n",
    "- This notebook shows how to use the density profiles built into Thermobar to convert density to depth. \n",
    "- In this example, we are using Cpx-only barometry just as an example"
   ]
  },
  {
   "cell_type": "code",
   "execution_count": null,
   "id": "8f74459e-45a1-4758-a9f2-50a28e9c5535",
   "metadata": {},
   "outputs": [],
   "source": [
    "import Thermobar as pt\n",
    "import pandas as pd\n",
    "import numpy as np\n",
    "import matplotlib.pyplot as plt"
   ]
  },
  {
   "cell_type": "code",
   "execution_count": null,
   "id": "176387b7-71b0-468a-a91b-09f329646637",
   "metadata": {},
   "outputs": [],
   "source": [
    "out2=pt.import_excel('teneguia1971_py.xlsx', sheet_name=\"Pyroxene\")\n",
    "Cpxs1=out2['Cpxs']"
   ]
  },
  {
   "cell_type": "code",
   "execution_count": null,
   "id": "c68d3cfe-418c-47bd-ba90-5337b8a3889d",
   "metadata": {},
   "outputs": [],
   "source": [
    "Calc_P=pt.calculate_cpx_only_press_temp(cpx_comps=Cpxs1, \n",
    "                                               equationT=\"T_Put2008_eq32d\",\n",
    "                                               equationP=\"P_Put2008_eq32b\")  \n",
    "Calc_P"
   ]
  },
  {
   "cell_type": "markdown",
   "id": "2677060e-1ac8-4199-897b-5b7d1f5952c0",
   "metadata": {},
   "source": [
    "## Now convert pressure to depth using a variety of crustal density models"
   ]
  },
  {
   "cell_type": "code",
   "execution_count": 8,
   "id": "c5d6eab0-9fa2-4a35-9ef8-9b14e4897588",
   "metadata": {},
   "outputs": [
    {
     "name": "stdout",
     "output_type": "stream",
     "text": [
      "not working yet, obvious typo, have asked keith\n",
      "not working yet, obvious typo, have asked keith\n",
      "not working yet, obvious typo, have asked keith\n",
      "not working yet, obvious typo, have asked keith\n",
      "not working yet, obvious typo, have asked keith\n",
      "not working yet, obvious typo, have asked keith\n",
      "not working yet, obvious typo, have asked keith\n",
      "not working yet, obvious typo, have asked keith\n",
      "not working yet, obvious typo, have asked keith\n",
      "not working yet, obvious typo, have asked keith\n"
     ]
    },
    {
     "data": {
      "text/plain": [
       "Text(0, 0.5, 'Depth (km)')"
      ]
     },
     "execution_count": 8,
     "metadata": {},
     "output_type": "execute_result"
    },
    {
     "data": {
      "image/png": "[encoded data removed]",
      "text/plain": [
       "<Figure size 432x288 with 1 Axes>"
      ]
     },
     "metadata": {
      "needs_background": "light"
     },
     "output_type": "display_data"
    }
   ],
   "source": [
    "# Lets first examine these density models using a linear array between 0.5 and 10 kbar\n",
    "P_array=np.linspace(0.5, 10, 10)\n",
    "\n",
    "ryan_lerner=pt.convert_pressure_to_depth(P_kbar=P_array,\n",
    "                                      model=\"ryan_lerner\")\n",
    "\n",
    "mavko_debari=pt.convert_pressure_to_depth(P_kbar=P_array,\n",
    "                                      model=\"mavko_debari\")\n",
    "\n",
    "prezzi=pt.convert_pressure_to_depth(P_kbar=P_array,\n",
    "                                      model=\"prezzi\")\n",
    "\n",
    "\n",
    "hill_zucca=pt.convert_pressure_to_depth(P_kbar=P_array,\n",
    "                                      model=\"hill_zucca\")\n",
    "\n",
    "plt.plot(P_array, ryan_lerner, '-r', label='ryan_lerner')\n",
    "plt.plot(P_array, mavko_debari, '-b', label='mavko_debari')\n",
    "plt.plot(P_array, hill_zucca, '-g', label='hill_zucca')\n",
    "plt.plot(P_array, prezzi, ':k', label='Prezzi 2009')\n",
    "plt.xlabel('Pressure (kbar)')\n",
    "plt.ylabel('Depth (km)')"
   ]
  },
  {
   "cell_type": "code",
   "execution_count": 4,
   "id": "8b3f78e8-7642-4cb6-a157-34c761974be1",
   "metadata": {},
   "outputs": [
    {
     "data": {
      "text/plain": [
       "0       7.653447\n",
       "1      14.476528\n",
       "2      13.716467\n",
       "3      16.685551\n",
       "4      11.188643\n",
       "         ...    \n",
       "569    28.202109\n",
       "570    21.592532\n",
       "571    14.001327\n",
       "572    24.112308\n",
       "573    24.250966\n",
       "Length: 574, dtype: float64"
      ]
     },
     "execution_count": 4,
     "metadata": {},
     "output_type": "execute_result"
    }
   ],
   "source": [
    "Depth_ryan_lerner=pt.convert_pressure_to_depth(P_kbar=Calc_P['P_kbar_calc'], model='ryan_lerner')\n",
    "Depth_ryan_lerner"
   ]
  },
  {
   "cell_type": "code",
   "execution_count": 5,
   "id": "6acb1be4-aee4-42d1-a1fe-badbdf9a59c2",
   "metadata": {},
   "outputs": [
    {
     "data": {
      "text/plain": [
       "0       7.179753\n",
       "1      14.665578\n",
       "2      13.838945\n",
       "3      16.992104\n",
       "4      11.040332\n",
       "         ...    \n",
       "569    28.720642\n",
       "570    21.989539\n",
       "571    14.149996\n",
       "572    24.555644\n",
       "573    24.696852\n",
       "Name: P_kbar_calc, Length: 574, dtype: float64"
      ]
     },
     "execution_count": 5,
     "metadata": {},
     "output_type": "execute_result"
    }
   ],
   "source": [
    "Depth_ryan_lerner=pt.convert_pressure_to_depth(P_kbar=Calc_P['P_kbar_calc'], crust_dens_kgm3=2700)\n",
    "Depth_ryan_lerner"
   ]
  },
  {
   "cell_type": "code",
   "execution_count": null,
   "id": "46a96b0a-6de0-413f-9d5b-bb8e7dae3ffd",
   "metadata": {},
   "outputs": [],
   "source": []
  }
 ],
 "metadata": {
  "kernelspec": {
   "display_name": "Python 3 (ipykernel)",
   "language": "python",
   "name": "python3"
  },
  "language_info": {
   "codemirror_mode": {
    "name": "ipython",
    "version": 3
   },
   "file_extension": ".py",
   "mimetype": "text/x-python",
   "name": "python",
   "nbconvert_exporter": "python",
   "pygments_lexer": "ipython3",
   "version": "3.9.12"
  }
 },
 "nbformat": 4,
 "nbformat_minor": 5
}
