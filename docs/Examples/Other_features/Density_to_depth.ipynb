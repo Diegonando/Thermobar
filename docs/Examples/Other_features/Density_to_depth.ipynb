{
 "cells": [
  {
   "cell_type": "markdown",
   "id": "0d767f0c-7dc4-4bba-89d0-2e7573580011",
   "metadata": {},
   "source": [
    "# Converting pressures into depths\n",
    "- This notebook shows how to use the density profiles built into Thermobar to convert density to depth. \n",
    "- In this example, we are using Cpx-only barometry just as an example. You can download the example data here: https://github.com/PennyWieser/Thermobar/blob/main/docs/Examples/Other_features/Example_Liq_Px_Amp.xlsx\n",
    "- If you haven't imported Thermobar, do so below by removing the #"
   ]
  },
  {
   "cell_type": "code",
   "execution_count": 1,
   "id": "59549d56-d145-4119-aea9-4b3c099b8963",
   "metadata": {},
   "outputs": [],
   "source": [
    "#!pip install Thermobar"
   ]
  },
  {
   "cell_type": "code",
   "execution_count": 2,
   "id": "8f74459e-45a1-4758-a9f2-50a28e9c5535",
   "metadata": {},
   "outputs": [],
   "source": [
    "import Thermobar as pt\n",
    "import pandas as pd\n",
    "import numpy as np\n",
    "import matplotlib.pyplot as plt"
   ]
  },
  {
   "cell_type": "code",
   "execution_count": 3,
   "id": "176387b7-71b0-468a-a91b-09f329646637",
   "metadata": {},
   "outputs": [
    {
     "data": {
      "text/html": [
       "<div>\n",
       "<style scoped>\n",
       "    .dataframe tbody tr th:only-of-type {\n",
       "        vertical-align: middle;\n",
       "    }\n",
       "\n",
       "    .dataframe tbody tr th {\n",
       "        vertical-align: top;\n",
       "    }\n",
       "\n",
       "    .dataframe thead th {\n",
       "        text-align: right;\n",
       "    }\n",
       "</style>\n",
       "<table border=\"1\" class=\"dataframe\">\n",
       "  <thead>\n",
       "    <tr style=\"text-align: right;\">\n",
       "      <th></th>\n",
       "      <th>SiO2_Cpx</th>\n",
       "      <th>TiO2_Cpx</th>\n",
       "      <th>Al2O3_Cpx</th>\n",
       "      <th>FeOt_Cpx</th>\n",
       "      <th>MnO_Cpx</th>\n",
       "      <th>MgO_Cpx</th>\n",
       "      <th>CaO_Cpx</th>\n",
       "      <th>Na2O_Cpx</th>\n",
       "      <th>K2O_Cpx</th>\n",
       "      <th>Cr2O3_Cpx</th>\n",
       "      <th>Sample_ID_Cpx</th>\n",
       "    </tr>\n",
       "  </thead>\n",
       "  <tbody>\n",
       "    <tr>\n",
       "      <th>0</th>\n",
       "      <td>45.19</td>\n",
       "      <td>3.31</td>\n",
       "      <td>8.88</td>\n",
       "      <td>7.98</td>\n",
       "      <td>0.0764</td>\n",
       "      <td>11.88</td>\n",
       "      <td>20.94</td>\n",
       "      <td>0.6452</td>\n",
       "      <td>0.0000</td>\n",
       "      <td>0.2344</td>\n",
       "      <td>Lava_1_text_cpx1</td>\n",
       "    </tr>\n",
       "    <tr>\n",
       "      <th>1</th>\n",
       "      <td>48.50</td>\n",
       "      <td>2.51</td>\n",
       "      <td>6.47</td>\n",
       "      <td>7.11</td>\n",
       "      <td>0.1244</td>\n",
       "      <td>13.07</td>\n",
       "      <td>21.35</td>\n",
       "      <td>0.6048</td>\n",
       "      <td>0.0007</td>\n",
       "      <td>0.1034</td>\n",
       "      <td>Lava_1_text_cpx_1</td>\n",
       "    </tr>\n",
       "    <tr>\n",
       "      <th>2</th>\n",
       "      <td>48.18</td>\n",
       "      <td>2.62</td>\n",
       "      <td>6.70</td>\n",
       "      <td>7.63</td>\n",
       "      <td>0.1498</td>\n",
       "      <td>12.77</td>\n",
       "      <td>21.41</td>\n",
       "      <td>0.7057</td>\n",
       "      <td>0.0027</td>\n",
       "      <td>0.2723</td>\n",
       "      <td>Lava_1_text_cpx_1</td>\n",
       "    </tr>\n",
       "    <tr>\n",
       "      <th>3</th>\n",
       "      <td>49.73</td>\n",
       "      <td>2.03</td>\n",
       "      <td>5.86</td>\n",
       "      <td>7.03</td>\n",
       "      <td>0.0519</td>\n",
       "      <td>13.67</td>\n",
       "      <td>21.00</td>\n",
       "      <td>0.4540</td>\n",
       "      <td>0.0083</td>\n",
       "      <td>0.1600</td>\n",
       "      <td>Lava_1_text_cpx_2</td>\n",
       "    </tr>\n",
       "    <tr>\n",
       "      <th>4</th>\n",
       "      <td>46.01</td>\n",
       "      <td>3.22</td>\n",
       "      <td>8.73</td>\n",
       "      <td>8.08</td>\n",
       "      <td>0.1089</td>\n",
       "      <td>11.95</td>\n",
       "      <td>20.82</td>\n",
       "      <td>0.6429</td>\n",
       "      <td>0.0037</td>\n",
       "      <td>0.0000</td>\n",
       "      <td>Lava_1_text_cpx_2</td>\n",
       "    </tr>\n",
       "  </tbody>\n",
       "</table>\n",
       "</div>"
      ],
      "text/plain": [
       "   SiO2_Cpx  TiO2_Cpx  Al2O3_Cpx  FeOt_Cpx  MnO_Cpx  MgO_Cpx  CaO_Cpx  \\\n",
       "0     45.19      3.31       8.88      7.98   0.0764    11.88    20.94   \n",
       "1     48.50      2.51       6.47      7.11   0.1244    13.07    21.35   \n",
       "2     48.18      2.62       6.70      7.63   0.1498    12.77    21.41   \n",
       "3     49.73      2.03       5.86      7.03   0.0519    13.67    21.00   \n",
       "4     46.01      3.22       8.73      8.08   0.1089    11.95    20.82   \n",
       "\n",
       "   Na2O_Cpx  K2O_Cpx  Cr2O3_Cpx      Sample_ID_Cpx  \n",
       "0    0.6452   0.0000     0.2344   Lava_1_text_cpx1  \n",
       "1    0.6048   0.0007     0.1034  Lava_1_text_cpx_1  \n",
       "2    0.7057   0.0027     0.2723  Lava_1_text_cpx_1  \n",
       "3    0.4540   0.0083     0.1600  Lava_1_text_cpx_2  \n",
       "4    0.6429   0.0037     0.0000  Lava_1_text_cpx_2  "
      ]
     },
     "execution_count": 3,
     "metadata": {},
     "output_type": "execute_result"
    }
   ],
   "source": [
    "out2=pt.import_excel('Example_Liq_Px_Amp.xlsx', sheet_name=\"Pyroxene\")\n",
    "Cpxs1=out2['Cpxs']\n",
    "Cpxs1.head()"
   ]
  },
  {
   "cell_type": "code",
   "execution_count": 4,
   "id": "c68d3cfe-418c-47bd-ba90-5337b8a3889d",
   "metadata": {},
   "outputs": [
    {
     "name": "stderr",
     "output_type": "stream",
     "text": [
      "C:\\Users\\penny\\anaconda3\\lib\\site-packages\\pandas\\core\\indexing.py:2115: FutureWarning: In a future version, the Index constructor will not infer numeric dtypes when passed object-dtype sequences (matching Series behavior)\n",
      "  new_ix = Index(new_ix)\n",
      "C:\\Users\\penny\\anaconda3\\lib\\site-packages\\pandas\\core\\indexing.py:2115: FutureWarning: In a future version, the Index constructor will not infer numeric dtypes when passed object-dtype sequences (matching Series behavior)\n",
      "  new_ix = Index(new_ix)\n",
      "g:\\my drive\\postdoc\\pymme\\mybarometers\\thermobar_outer\\src\\Thermobar\\clinopyroxene_thermobarometry.py:3025: UserWarning: This Cpx-only barometer is sensitive to H2O content of the liquid.  By default, this function uses H2O=0 wt%, else you can enter a value of H2O_Liq in the function\n",
      "  w.warn('This Cpx-only barometer is sensitive to H2O content of the liquid. '\n"
     ]
    },
    {
     "data": {
      "text/html": [
       "<div>\n",
       "<style scoped>\n",
       "    .dataframe tbody tr th:only-of-type {\n",
       "        vertical-align: middle;\n",
       "    }\n",
       "\n",
       "    .dataframe tbody tr th {\n",
       "        vertical-align: top;\n",
       "    }\n",
       "\n",
       "    .dataframe thead th {\n",
       "        text-align: right;\n",
       "    }\n",
       "</style>\n",
       "<table border=\"1\" class=\"dataframe\">\n",
       "  <thead>\n",
       "    <tr style=\"text-align: right;\">\n",
       "      <th></th>\n",
       "      <th>P_kbar_calc</th>\n",
       "      <th>T_K_calc</th>\n",
       "      <th>Delta_P_kbar_Iter</th>\n",
       "      <th>Delta_T_K_Iter</th>\n",
       "      <th>SiO2_Cpx</th>\n",
       "      <th>TiO2_Cpx</th>\n",
       "      <th>Al2O3_Cpx</th>\n",
       "      <th>FeOt_Cpx</th>\n",
       "      <th>MnO_Cpx</th>\n",
       "      <th>MgO_Cpx</th>\n",
       "      <th>CaO_Cpx</th>\n",
       "      <th>Na2O_Cpx</th>\n",
       "      <th>K2O_Cpx</th>\n",
       "      <th>Cr2O3_Cpx</th>\n",
       "      <th>Sample_ID_Cpx</th>\n",
       "    </tr>\n",
       "  </thead>\n",
       "  <tbody>\n",
       "    <tr>\n",
       "      <th>0</th>\n",
       "      <td>1.899763</td>\n",
       "      <td>1355.756009</td>\n",
       "      <td>2.273737e-13</td>\n",
       "      <td>1.591616e-12</td>\n",
       "      <td>45.19</td>\n",
       "      <td>3.31</td>\n",
       "      <td>8.88</td>\n",
       "      <td>7.98</td>\n",
       "      <td>0.0764</td>\n",
       "      <td>11.88</td>\n",
       "      <td>20.94</td>\n",
       "      <td>0.6452</td>\n",
       "      <td>0.0000</td>\n",
       "      <td>0.2344</td>\n",
       "      <td>Lava_1_text_cpx1</td>\n",
       "    </tr>\n",
       "    <tr>\n",
       "      <th>1</th>\n",
       "      <td>3.880512</td>\n",
       "      <td>1396.492499</td>\n",
       "      <td>0.000000e+00</td>\n",
       "      <td>0.000000e+00</td>\n",
       "      <td>48.50</td>\n",
       "      <td>2.51</td>\n",
       "      <td>6.47</td>\n",
       "      <td>7.11</td>\n",
       "      <td>0.1244</td>\n",
       "      <td>13.07</td>\n",
       "      <td>21.35</td>\n",
       "      <td>0.6048</td>\n",
       "      <td>0.0007</td>\n",
       "      <td>0.1034</td>\n",
       "      <td>Lava_1_text_cpx_1</td>\n",
       "    </tr>\n",
       "    <tr>\n",
       "      <th>2</th>\n",
       "      <td>3.661785</td>\n",
       "      <td>1385.544329</td>\n",
       "      <td>0.000000e+00</td>\n",
       "      <td>0.000000e+00</td>\n",
       "      <td>48.18</td>\n",
       "      <td>2.62</td>\n",
       "      <td>6.70</td>\n",
       "      <td>7.63</td>\n",
       "      <td>0.1498</td>\n",
       "      <td>12.77</td>\n",
       "      <td>21.41</td>\n",
       "      <td>0.7057</td>\n",
       "      <td>0.0027</td>\n",
       "      <td>0.2723</td>\n",
       "      <td>Lava_1_text_cpx_1</td>\n",
       "    </tr>\n",
       "    <tr>\n",
       "      <th>3</th>\n",
       "      <td>4.496111</td>\n",
       "      <td>1422.672182</td>\n",
       "      <td>0.000000e+00</td>\n",
       "      <td>0.000000e+00</td>\n",
       "      <td>49.73</td>\n",
       "      <td>2.03</td>\n",
       "      <td>5.86</td>\n",
       "      <td>7.03</td>\n",
       "      <td>0.0519</td>\n",
       "      <td>13.67</td>\n",
       "      <td>21.00</td>\n",
       "      <td>0.4540</td>\n",
       "      <td>0.0083</td>\n",
       "      <td>0.1600</td>\n",
       "      <td>Lava_1_text_cpx_2</td>\n",
       "    </tr>\n",
       "    <tr>\n",
       "      <th>4</th>\n",
       "      <td>2.921272</td>\n",
       "      <td>1369.518603</td>\n",
       "      <td>0.000000e+00</td>\n",
       "      <td>0.000000e+00</td>\n",
       "      <td>46.01</td>\n",
       "      <td>3.22</td>\n",
       "      <td>8.73</td>\n",
       "      <td>8.08</td>\n",
       "      <td>0.1089</td>\n",
       "      <td>11.95</td>\n",
       "      <td>20.82</td>\n",
       "      <td>0.6429</td>\n",
       "      <td>0.0037</td>\n",
       "      <td>0.0000</td>\n",
       "      <td>Lava_1_text_cpx_2</td>\n",
       "    </tr>\n",
       "  </tbody>\n",
       "</table>\n",
       "</div>"
      ],
      "text/plain": [
       "   P_kbar_calc     T_K_calc  Delta_P_kbar_Iter  Delta_T_K_Iter  SiO2_Cpx  \\\n",
       "0     1.899763  1355.756009       2.273737e-13    1.591616e-12     45.19   \n",
       "1     3.880512  1396.492499       0.000000e+00    0.000000e+00     48.50   \n",
       "2     3.661785  1385.544329       0.000000e+00    0.000000e+00     48.18   \n",
       "3     4.496111  1422.672182       0.000000e+00    0.000000e+00     49.73   \n",
       "4     2.921272  1369.518603       0.000000e+00    0.000000e+00     46.01   \n",
       "\n",
       "   TiO2_Cpx  Al2O3_Cpx  FeOt_Cpx  MnO_Cpx  MgO_Cpx  CaO_Cpx  Na2O_Cpx  \\\n",
       "0      3.31       8.88      7.98   0.0764    11.88    20.94    0.6452   \n",
       "1      2.51       6.47      7.11   0.1244    13.07    21.35    0.6048   \n",
       "2      2.62       6.70      7.63   0.1498    12.77    21.41    0.7057   \n",
       "3      2.03       5.86      7.03   0.0519    13.67    21.00    0.4540   \n",
       "4      3.22       8.73      8.08   0.1089    11.95    20.82    0.6429   \n",
       "\n",
       "   K2O_Cpx  Cr2O3_Cpx      Sample_ID_Cpx  \n",
       "0   0.0000     0.2344   Lava_1_text_cpx1  \n",
       "1   0.0007     0.1034  Lava_1_text_cpx_1  \n",
       "2   0.0027     0.2723  Lava_1_text_cpx_1  \n",
       "3   0.0083     0.1600  Lava_1_text_cpx_2  \n",
       "4   0.0037     0.0000  Lava_1_text_cpx_2  "
      ]
     },
     "execution_count": 4,
     "metadata": {},
     "output_type": "execute_result"
    }
   ],
   "source": [
    "Calc_P=pt.calculate_cpx_only_press_temp(cpx_comps=Cpxs1, \n",
    "                                               equationT=\"T_Put2008_eq32d\",\n",
    "                                               equationP=\"P_Put2008_eq32b\")  \n",
    "Calc_P.head()"
   ]
  },
  {
   "cell_type": "markdown",
   "id": "2677060e-1ac8-4199-897b-5b7d1f5952c0",
   "metadata": {},
   "source": [
    "## Now convert pressure to depth using a variety of crustal density models"
   ]
  },
  {
   "cell_type": "code",
   "execution_count": 5,
   "id": "42deddb6-8c09-4418-b9f5-2bc3816a18f7",
   "metadata": {},
   "outputs": [
    {
     "name": "stdout",
     "output_type": "stream",
     "text": [
      "Help on function convert_pressure_to_depth in module Thermobar.density_profiles:\n",
      "\n",
      "convert_pressure_to_depth(P_kbar=None, crust_dens_kgm3=None, g=9.81, d1=None, d2=None, rho1=None, rho2=None, rho3=None, model=None)\n",
      "    Converts pressure in kbar to depth in km using a variety of crustal density profiles\n",
      "    \n",
      "    \n",
      "    Parameters\n",
      "    -----------\n",
      "    \n",
      "    P_kbar: int, float, pd.Series, np.ndarray\n",
      "        Pressure in kbar\n",
      "    \n",
      "    g: float\n",
      "        gravitational constant, in m/s2\n",
      "    \n",
      "    crust_dens_kgm3: float or str\n",
      "        If float: Crustal density in kg/m3\n",
      "    \n",
      "        If model, choose from:\n",
      "    \n",
      "        ryan_lerner:\n",
      "            Parameterization of Ryan 1987, actual equation from Lerner et al. 2021\n",
      "            After 16.88 km (455 MPa), assume density is 2.746, as density turns around again. This profile is tweaked for Hawaii\n",
      "    \n",
      "        mavko_debari:\n",
      "            Parameterization of Mavko and Thompson (1983) and DeBari and Greene (2011)\n",
      "            as given in Putirka (2017) Down the Crater Elements supplement.\n",
      "    \n",
      "    \n",
      "        hill_zucca:\n",
      "            Parameterization of Hill and Zucca (1987),\n",
      "            as given in Putirka (2017) Down the Crater Elements supplement\n",
      "    \n",
      "        prezzi:\n",
      "            Parameterization of Prezzi et al. (2009),\n",
      "            as given in Putirka (2017) Down the Crater Elements supplement. Tweaked for Andes.\n",
      "    \n",
      "        rasmussen:\n",
      "            Linear fit to the supporting information of Rasmussen et al. 2022,\n",
      "            overall best fit density vs. depth\n",
      "    \n",
      "        two-step:\n",
      "            If two step, must also define d1 (depth to 1st step), rho1 (density to 1st step), rho2 (density to 2nd step)\n",
      "    \n",
      "        three-step:\n",
      "            If three step, must also define d1 (depth to 1st step), d2 (depth to second step), rho1 (density to 1st step), rho2 (density to 2nd step),\n",
      "            rho3 (density after 3rd step) in km and kg/m3 respectively.\n",
      "    \n",
      "    \n",
      "    \n",
      "    \n",
      "    OR\n",
      "    \n",
      "    \n",
      "    \n",
      "    Else, just enter a crustal density in kg/m3, e.g., model=2700\n",
      "    \n",
      "    \n",
      "    \n",
      "    Returns\n",
      "    -----------\n",
      "    \n",
      "    Depth in km as a panda series\n",
      "\n"
     ]
    }
   ],
   "source": [
    "help(pt.convert_pressure_to_depth)"
   ]
  },
  {
   "cell_type": "code",
   "execution_count": 8,
   "id": "c5d6eab0-9fa2-4a35-9ef8-9b14e4897588",
   "metadata": {},
   "outputs": [
    {
     "data": {
      "text/plain": [
       "<matplotlib.legend.Legend at 0x26620174c10>"
      ]
     },
     "execution_count": 8,
     "metadata": {},
     "output_type": "execute_result"
    },
    {
     "data": {
      "image/png": "[encoded data removed]",
      "text/plain": [
       "<Figure size 432x288 with 1 Axes>"
      ]
     },
     "metadata": {
      "needs_background": "light"
     },
     "output_type": "display_data"
    }
   ],
   "source": [
    "# Lets first examine these density models using a linear array between 0.5 and 10 kbar\n",
    "P_array=np.linspace(0.5, 10, 10)\n",
    "\n",
    "# Using the density model from Lerner et al. (2021) based on Ryan\n",
    "ryan_lerner=pt.convert_pressure_to_depth(P_kbar=P_array,\n",
    "                                      model=\"ryan_lerner\")\n",
    "\n",
    "# Using the  Parameterization of Mavko and Thompson (1983) and DeBari and Greene (2011)\n",
    "# as given in Putirka (2017) Down the Crater Elements supplement.\n",
    "mavko_debari=pt.convert_pressure_to_depth(P_kbar=P_array,\n",
    "                                      model=\"mavko_debari\")\n",
    "\n",
    "#             Parameterization of Prezzi et al. (2009),\n",
    "# as given in Putirka (2017) Down the Crater Elements supplement. Tweaked for Andes.\n",
    "prezzi=pt.convert_pressure_to_depth(P_kbar=P_array,\n",
    "                                      model=\"prezzi\")\n",
    "\n",
    "#            Parameterization of Hill and Zucca (1987),\n",
    "# as given in Putirka (2017) Down the Crater Elements supplement\n",
    "hill_zucca=pt.convert_pressure_to_depth(P_kbar=P_array,\n",
    "                                      model=\"hill_zucca\")\n",
    "\n",
    "\n",
    "plt.plot(P_array, ryan_lerner, '-r', label='ryan_lerner')\n",
    "plt.plot(P_array, mavko_debari, '-b', label='mavko_debari')\n",
    "plt.plot(P_array, hill_zucca, '-g', label='hill_zucca')\n",
    "plt.plot(P_array, prezzi, ':k', label='Prezzi 2009')\n",
    "plt.xlabel('Pressure (kbar)')\n",
    "plt.ylabel('Depth (km)')\n",
    "plt.legend()"
   ]
  },
  {
   "cell_type": "markdown",
   "id": "23ee8fe3-c66c-4573-a1d7-871438e0a4d4",
   "metadata": {},
   "source": [
    "## Density models for given densities in kg/m3"
   ]
  },
  {
   "cell_type": "code",
   "execution_count": 11,
   "id": "5f853703-d516-4d3a-b906-f1c81bd67026",
   "metadata": {},
   "outputs": [
    {
     "data": {
      "text/plain": [
       "<matplotlib.legend.Legend at 0x266216d91c0>"
      ]
     },
     "execution_count": 11,
     "metadata": {},
     "output_type": "execute_result"
    },
    {
     "data": {
      "image/png": "[encoded data removed]",
      "text/plain": [
       "<Figure size 432x288 with 1 Axes>"
      ]
     },
     "metadata": {
      "needs_background": "light"
     },
     "output_type": "display_data"
    }
   ],
   "source": [
    "# Single density of 2700 kg/m3 all the way through\n",
    "Constant_2700=pt.convert_pressure_to_depth(P_kbar=P_array, crust_dens_kgm3=2700, g=9.81)\n",
    "                                           \n",
    "# Two step density profile, d1 is first step (e.g. Moho here)\n",
    "Two_step_2700_3300=pt.convert_pressure_to_depth(P_kbar=P_array, \n",
    "                    model='two-step', d1=13, rho1=2700, rho2=3300, g=9.81)                                    \n",
    "                                           \n",
    "Two_step_2500_2900_3100=pt.convert_pressure_to_depth(P_kbar=P_array, \n",
    "                    model='two-step', d1=5, d2=14, rho1=2500, rho2=2900, rho3=3100,g=9.81)                                    \n",
    "plt.plot(P_array, Constant_2700, '-r', label='Constant_2700')\n",
    "plt.plot(P_array, Two_step_2700_3300, '-b', label='Two_step_2700_3300')\n",
    "plt.plot(P_array, Two_step_2500_2900_3100, '-g', label='Two_step_2500_2900_3100')\n",
    "plt.xlabel('Pressure (kbar)')\n",
    "plt.ylabel('Depth (km)')\n",
    "plt.legend()                                          "
   ]
  },
  {
   "cell_type": "markdown",
   "id": "cb57a834-4033-4f22-9b59-a89aa626c36d",
   "metadata": {},
   "source": [
    "## Now lets choose one for our samples"
   ]
  },
  {
   "cell_type": "code",
   "execution_count": 12,
   "id": "8b3f78e8-7642-4cb6-a157-34c761974be1",
   "metadata": {},
   "outputs": [
    {
     "data": {
      "text/plain": [
       "0       7.653447\n",
       "1      14.476528\n",
       "2      13.716467\n",
       "3      16.685551\n",
       "4      11.188643\n",
       "         ...    \n",
       "569    28.202109\n",
       "570    21.592532\n",
       "571    14.001327\n",
       "572    24.112308\n",
       "573    24.250966\n",
       "Length: 574, dtype: float64"
      ]
     },
     "execution_count": 12,
     "metadata": {},
     "output_type": "execute_result"
    }
   ],
   "source": [
    "Depth_ryan_lerner=pt.convert_pressure_to_depth(P_kbar=Calc_P['P_kbar_calc'], model='ryan_lerner')\n",
    "Depth_ryan_lerner"
   ]
  },
  {
   "cell_type": "markdown",
   "id": "c3504316-4ee2-4b23-b128-0ab50825e79b",
   "metadata": {},
   "source": [
    "## Now we can draw a histogram of depths in km"
   ]
  },
  {
   "cell_type": "code",
   "execution_count": 17,
   "id": "6651e5aa-4a22-40bb-b32a-56c890ecfe2f",
   "metadata": {},
   "outputs": [
    {
     "data": {
      "text/plain": [
       "Text(0.5, 0, 'Calc Depth (km)')"
      ]
     },
     "execution_count": 17,
     "metadata": {},
     "output_type": "execute_result"
    },
    {
     "data": {
      "image/png": "[encoded data removed]",
      "text/plain": [
       "<Figure size 432x288 with 1 Axes>"
      ]
     },
     "metadata": {
      "needs_background": "light"
     },
     "output_type": "display_data"
    }
   ],
   "source": [
    "plt.hist(Depth_ryan_lerner, ec='k');\n",
    "plt.xlabel('Calc Depth (km)')"
   ]
  },
  {
   "cell_type": "markdown",
   "id": "5aebab70-04bf-4c81-97b4-e3f006917987",
   "metadata": {},
   "source": [
    "## Or we can use a constant density"
   ]
  },
  {
   "cell_type": "code",
   "execution_count": 13,
   "id": "6acb1be4-aee4-42d1-a1fe-badbdf9a59c2",
   "metadata": {},
   "outputs": [
    {
     "data": {
      "text/plain": [
       "0       7.179753\n",
       "1      14.665578\n",
       "2      13.838945\n",
       "3      16.992104\n",
       "4      11.040332\n",
       "         ...    \n",
       "569    28.720642\n",
       "570    21.989539\n",
       "571    14.149996\n",
       "572    24.555644\n",
       "573    24.696852\n",
       "Name: P_kbar_calc, Length: 574, dtype: float64"
      ]
     },
     "execution_count": 13,
     "metadata": {},
     "output_type": "execute_result"
    }
   ],
   "source": [
    "Depth_constrho=pt.convert_pressure_to_depth(P_kbar=Calc_P['P_kbar_calc'], crust_dens_kgm3=2700)\n",
    "Depth_constrho"
   ]
  }
 ],
 "metadata": {
  "kernelspec": {
   "display_name": "Python 3 (ipykernel)",
   "language": "python",
   "name": "python3"
  },
  "language_info": {
   "codemirror_mode": {
    "name": "ipython",
    "version": 3
   },
   "file_extension": ".py",
   "mimetype": "text/x-python",
   "name": "python",
   "nbconvert_exporter": "python",
   "pygments_lexer": "ipython3",
   "version": "3.9.12"
  }
 },
 "nbformat": 4,
 "nbformat_minor": 5
}
