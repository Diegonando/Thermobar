{
 "cells": [
  {
   "cell_type": "markdown",
   "id": "3bc57bc3-aa12-446d-9a7f-941b38d9fad7",
   "metadata": {},
   "source": [
    "# Calculating Viscosity from liquid compositions\n",
    "- This notebook shows how to calculate Viscosity using Giordano et al. (2008)\n",
    "- You can download the Excel spreadsheet from: https://github.com/PennyWieser/Thermobar/blob/main/docs/Examples/Other_features/Viscoity_Giordano.xlsx"
   ]
  },
  {
   "cell_type": "code",
   "execution_count": 1,
   "id": "57c0802b-aeb7-4e18-bc23-86556992829b",
   "metadata": {},
   "outputs": [],
   "source": [
    "# If you haven't done so, pip install Thermobar by removing the # symbol\n",
    "#!pip install Thermobar"
   ]
  },
  {
   "cell_type": "code",
   "execution_count": 2,
   "id": "0e98ab7b-15e4-415a-835a-e1d449238f6d",
   "metadata": {},
   "outputs": [],
   "source": [
    "import numpy as np\n",
    "import pandas as pd\n",
    "import Thermobar as pt\n",
    "import matplotlib.pyplot as plt\n",
    "pd.options.display.max_columns = None"
   ]
  },
  {
   "cell_type": "markdown",
   "id": "1c08fcf6-9512-4937-87c4-519f5dda0abe",
   "metadata": {},
   "source": [
    "## Lets load in some melt compositions from a MELTS model published in Wieser et al. (2022)"
   ]
  },
  {
   "cell_type": "code",
   "execution_count": 3,
   "id": "510b12cc-296c-4f8b-bb13-fcd059d37af2",
   "metadata": {},
   "outputs": [],
   "source": [
    "Liqs_import2=pt.import_excel('Viscoity_Giordano.xlsx', sheet_name='MELTSTest', suffix=\"_Liq\")\n",
    "Liqs2=Liqs_import2['Liqs']\n",
    "Liqs_input2=Liqs_import2['my_input']"
   ]
  },
  {
   "cell_type": "markdown",
   "id": "f986accf-bfc9-401d-ac8b-a5f8c2e6b643",
   "metadata": {},
   "source": [
    "## Inspect the liquid data you have loaded in to make sure it makes sense"
   ]
  },
  {
   "cell_type": "code",
   "execution_count": 4,
   "id": "46ca2c45-38a0-46b7-884b-ccfcd6fc41f5",
   "metadata": {},
   "outputs": [
    {
     "data": {
      "text/html": [
       "<div>\n",
       "<style scoped>\n",
       "    .dataframe tbody tr th:only-of-type {\n",
       "        vertical-align: middle;\n",
       "    }\n",
       "\n",
       "    .dataframe tbody tr th {\n",
       "        vertical-align: top;\n",
       "    }\n",
       "\n",
       "    .dataframe thead th {\n",
       "        text-align: right;\n",
       "    }\n",
       "</style>\n",
       "<table border=\"1\" class=\"dataframe\">\n",
       "  <thead>\n",
       "    <tr style=\"text-align: right;\">\n",
       "      <th></th>\n",
       "      <th>SiO2_Liq</th>\n",
       "      <th>TiO2_Liq</th>\n",
       "      <th>Al2O3_Liq</th>\n",
       "      <th>FeOt_Liq</th>\n",
       "      <th>MnO_Liq</th>\n",
       "      <th>MgO_Liq</th>\n",
       "      <th>CaO_Liq</th>\n",
       "      <th>Na2O_Liq</th>\n",
       "      <th>K2O_Liq</th>\n",
       "      <th>Cr2O3_Liq</th>\n",
       "      <th>P2O5_Liq</th>\n",
       "      <th>H2O_Liq</th>\n",
       "      <th>Fe3Fet_Liq</th>\n",
       "      <th>NiO_Liq</th>\n",
       "      <th>CoO_Liq</th>\n",
       "      <th>CO2_Liq</th>\n",
       "      <th>Sample_ID_Liq</th>\n",
       "    </tr>\n",
       "  </thead>\n",
       "  <tbody>\n",
       "    <tr>\n",
       "      <th>0</th>\n",
       "      <td>51.456179</td>\n",
       "      <td>2.601690</td>\n",
       "      <td>13.529073</td>\n",
       "      <td>11.114610</td>\n",
       "      <td>0.185873</td>\n",
       "      <td>6.698477</td>\n",
       "      <td>10.974609</td>\n",
       "      <td>2.406926</td>\n",
       "      <td>0.483801</td>\n",
       "      <td>0.0</td>\n",
       "      <td>0.248535</td>\n",
       "      <td>0.508277</td>\n",
       "      <td>0.0</td>\n",
       "      <td>0.0</td>\n",
       "      <td>0.0</td>\n",
       "      <td>0.0</td>\n",
       "      <td>0</td>\n",
       "    </tr>\n",
       "    <tr>\n",
       "      <th>1</th>\n",
       "      <td>51.462403</td>\n",
       "      <td>2.641448</td>\n",
       "      <td>13.717522</td>\n",
       "      <td>11.175642</td>\n",
       "      <td>0.189570</td>\n",
       "      <td>6.497934</td>\n",
       "      <td>10.814571</td>\n",
       "      <td>2.451116</td>\n",
       "      <td>0.493423</td>\n",
       "      <td>0.0</td>\n",
       "      <td>0.253478</td>\n",
       "      <td>0.518386</td>\n",
       "      <td>0.0</td>\n",
       "      <td>0.0</td>\n",
       "      <td>0.0</td>\n",
       "      <td>0.0</td>\n",
       "      <td>1</td>\n",
       "    </tr>\n",
       "    <tr>\n",
       "      <th>2</th>\n",
       "      <td>51.491657</td>\n",
       "      <td>2.771451</td>\n",
       "      <td>13.666925</td>\n",
       "      <td>11.521905</td>\n",
       "      <td>0.200504</td>\n",
       "      <td>6.275374</td>\n",
       "      <td>10.459901</td>\n",
       "      <td>2.509225</td>\n",
       "      <td>0.520502</td>\n",
       "      <td>0.0</td>\n",
       "      <td>0.268098</td>\n",
       "      <td>0.548285</td>\n",
       "      <td>0.0</td>\n",
       "      <td>0.0</td>\n",
       "      <td>0.0</td>\n",
       "      <td>0.0</td>\n",
       "      <td>2</td>\n",
       "    </tr>\n",
       "    <tr>\n",
       "      <th>3</th>\n",
       "      <td>51.508276</td>\n",
       "      <td>2.872896</td>\n",
       "      <td>13.569897</td>\n",
       "      <td>11.795709</td>\n",
       "      <td>0.208908</td>\n",
       "      <td>6.138356</td>\n",
       "      <td>10.217900</td>\n",
       "      <td>2.543802</td>\n",
       "      <td>0.541088</td>\n",
       "      <td>0.0</td>\n",
       "      <td>0.279336</td>\n",
       "      <td>0.571268</td>\n",
       "      <td>0.0</td>\n",
       "      <td>0.0</td>\n",
       "      <td>0.0</td>\n",
       "      <td>0.0</td>\n",
       "      <td>3</td>\n",
       "    </tr>\n",
       "    <tr>\n",
       "      <th>4</th>\n",
       "      <td>51.506960</td>\n",
       "      <td>3.058952</td>\n",
       "      <td>13.350351</td>\n",
       "      <td>12.214913</td>\n",
       "      <td>0.223782</td>\n",
       "      <td>5.856971</td>\n",
       "      <td>9.977521</td>\n",
       "      <td>2.592645</td>\n",
       "      <td>0.577148</td>\n",
       "      <td>0.0</td>\n",
       "      <td>0.299224</td>\n",
       "      <td>0.611940</td>\n",
       "      <td>0.0</td>\n",
       "      <td>0.0</td>\n",
       "      <td>0.0</td>\n",
       "      <td>0.0</td>\n",
       "      <td>4</td>\n",
       "    </tr>\n",
       "  </tbody>\n",
       "</table>\n",
       "</div>"
      ],
      "text/plain": [
       "    SiO2_Liq  TiO2_Liq  Al2O3_Liq   FeOt_Liq   MnO_Liq   MgO_Liq    CaO_Liq  \\\n",
       "0  51.456179  2.601690  13.529073  11.114610  0.185873  6.698477  10.974609   \n",
       "1  51.462403  2.641448  13.717522  11.175642  0.189570  6.497934  10.814571   \n",
       "2  51.491657  2.771451  13.666925  11.521905  0.200504  6.275374  10.459901   \n",
       "3  51.508276  2.872896  13.569897  11.795709  0.208908  6.138356  10.217900   \n",
       "4  51.506960  3.058952  13.350351  12.214913  0.223782  5.856971   9.977521   \n",
       "\n",
       "   Na2O_Liq   K2O_Liq  Cr2O3_Liq  P2O5_Liq   H2O_Liq  Fe3Fet_Liq  NiO_Liq  \\\n",
       "0  2.406926  0.483801        0.0  0.248535  0.508277         0.0      0.0   \n",
       "1  2.451116  0.493423        0.0  0.253478  0.518386         0.0      0.0   \n",
       "2  2.509225  0.520502        0.0  0.268098  0.548285         0.0      0.0   \n",
       "3  2.543802  0.541088        0.0  0.279336  0.571268         0.0      0.0   \n",
       "4  2.592645  0.577148        0.0  0.299224  0.611940         0.0      0.0   \n",
       "\n",
       "   CoO_Liq  CO2_Liq  Sample_ID_Liq  \n",
       "0      0.0      0.0              0  \n",
       "1      0.0      0.0              1  \n",
       "2      0.0      0.0              2  \n",
       "3      0.0      0.0              3  \n",
       "4      0.0      0.0              4  "
      ]
     },
     "execution_count": 4,
     "metadata": {},
     "output_type": "execute_result"
    }
   ],
   "source": [
    "Liqs2.head()"
   ]
  },
  {
   "cell_type": "markdown",
   "id": "da9c8258-9f78-4b4b-b473-f40048cf48d5",
   "metadata": {},
   "source": [
    "## Lets calculate viscosity at the temperature stored in the column \"Temp HT1987_K\"\n",
    "- Here, we had already calculated temperature using Helz and Thornber, which was stored in the input spreadsheet in a column named 'Temp HT1987_K'\n",
    "- The dataframe Liqs_input2 contains all input columns, so we can access the values stored in this column using Liqs_input2['Temp HT1987_K']\n",
    "- This temperature needs to be in Kelvin!"
   ]
  },
  {
   "cell_type": "code",
   "execution_count": 5,
   "id": "99c8b1c8-a81b-4041-9a36-528180cd3583",
   "metadata": {},
   "outputs": [],
   "source": [
    "Calc_ExcelT=pt.calculate_viscosity_giordano_2008(liq_comps=Liqs2, \n",
    "                                                  T=Liqs_input2['Temp HT1987_K'])"
   ]
  },
  {
   "cell_type": "code",
   "execution_count": 10,
   "id": "3483d7c2-9667-4df7-8021-a73ce260c738",
   "metadata": {},
   "outputs": [
    {
     "data": {
      "text/plain": [
       "Text(0.5, 0, 'SiO2 content Liq (Wt%)')"
      ]
     },
     "execution_count": 10,
     "metadata": {},
     "output_type": "execute_result"
    },
    {
     "data": {
      "image/png": "[encoded data removed]",
      "text/plain": [
       "<Figure size 720x360 with 2 Axes>"
      ]
     },
     "metadata": {
      "needs_background": "light"
     },
     "output_type": "display_data"
    }
   ],
   "source": [
    "fig, (ax1, ax2) = plt.subplots(1, 2, figsize=(10,5))\n",
    "ax1.plot(Calc_ExcelT['MgO_Liq'], Calc_ExcelT['n_melt'], '-k')\n",
    "ax2.plot(Calc_ExcelT['SiO2_Liq'], Calc_ExcelT['n_melt'], '-k')\n",
    "\n",
    "ax1.set_ylabel('Viscosity (PaS)')\n",
    "ax1.set_xlabel('MgO content Liq (Wt%)')\n",
    "ax2.set_xlabel('SiO2 content Liq (Wt%)')"
   ]
  },
  {
   "cell_type": "markdown",
   "id": "5366396a-299a-405d-8584-3c83b98e0f4d",
   "metadata": {},
   "source": [
    "## Using a different thermometer for temperature\n",
    "- You can get a list of all thermometers in Thermobar using the help function"
   ]
  },
  {
   "cell_type": "code",
   "execution_count": 11,
   "id": "b8e7e79c-cc52-46ca-aea9-2df3dacefe98",
   "metadata": {},
   "outputs": [
    {
     "name": "stdout",
     "output_type": "stream",
     "text": [
      "Help on function calculate_liq_only_temp in module Thermobar.liquid_thermometers:\n",
      "\n",
      "calculate_liq_only_temp(*, liq_comps, equationT, P=None, H2O_Liq=None, print=False)\n",
      "     Liquid-only thermometery. Returns a temperature in Kelvin.\n",
      "    \n",
      "    Parameters\n",
      "     -------\n",
      "    \n",
      "     liq_comps: pandas.DataFrame\n",
      "         liquid compositions with column headings SiO2_Liq, MgO_Liq etc.\n",
      "    \n",
      "     equationT: str\n",
      "         If has _sat at the end, represents the saturation surface of that mineral.\n",
      "    \n",
      "         Equations from Putirka et al. (2016).\n",
      "             | T_Put2016_eq3_amp_sat (saturation surface of amphibole)\n",
      "    \n",
      "         Equations from Putirka (2008) and older studies:\n",
      "    \n",
      "             | T_Put2008_eq13\n",
      "             | T_Put2008_eq14\n",
      "             | T_Put2008_eq15\n",
      "             | T_Put2008_eq16\n",
      "             | T_Put2008_eq34_cpx_sat\n",
      "             | T_Put2008_eq28b_opx_sat\n",
      "             | T_Put1999_cpx_sat\n",
      "             * Following 3 thermometers are adaptations of olivine-liquid thermometers with  DMg calculated using Beattie 1993,\n",
      "             This means you can use them without knowing an olivine composition. ocan be applied when you haven't measured an olivine composiiton.\n",
      "             | T_Put2008_eq19_BeattDMg\n",
      "             | T_Put2008_eq21_BeattDMg\n",
      "             | T_Put2008_eq22_BeattDMg\n",
      "    \n",
      "         Equations from Sugawara (2000):\n",
      "    \n",
      "             | T_Sug2000_eq1\n",
      "             | T_Sug2000_eq3_ol\n",
      "             | T_Sug2000_eq3_opx\n",
      "             | T_Sug2000_eq3_cpx\n",
      "             | T_Sug2000_eq3_pig\n",
      "             | T_Sug2000_eq6a\n",
      "             | T_Sug2000_eq6b\n",
      "    \n",
      "         Equations from Helz and Thornber (1987):\n",
      "    \n",
      "             | T_Helz1987_MgO\n",
      "             | T_Helz1987_CaO\n",
      "    \n",
      "         Equation from Molina et al. (2015)\n",
      "    \n",
      "             | T_Molina2015_amp_sat\n",
      "    \n",
      "         Equation from Montrieth 1995\n",
      "            | T_Montierth1995_MgO\n",
      "    \n",
      "         Equation from Beattie (1993)\n",
      "            | T_Beatt1993_opx\n",
      "    \n",
      "     P: float, int, pandas.Series, str  (\"Solve\")\n",
      "         Pressure in kbar\n",
      "         Only needed for P-sensitive thermometers.\n",
      "         If enter P=\"Solve\", returns a partial function\n",
      "         Else, enter an integer, float, or panda series\n",
      "    \n",
      "     H2O_Liq: optional.\n",
      "         If None, uses H2O_Liq column from input.\n",
      "         If int, float, pandas.Series, uses this instead of H2O_Liq Column\n",
      "    \n",
      "    \n",
      "     Returns\n",
      "     -------\n",
      "     pandas series\n",
      "        Temperature in K\n",
      "\n"
     ]
    }
   ],
   "source": [
    "help(pt.calculate_liq_only_temp)"
   ]
  },
  {
   "cell_type": "markdown",
   "id": "4119cf31-ca43-4fdb-a50e-259a2f812d4b",
   "metadata": {},
   "source": [
    "### Lets use \"T_Put2008_eq13\""
   ]
  },
  {
   "cell_type": "code",
   "execution_count": 19,
   "id": "fa8b7a3a-ea75-4bd8-997b-dd7f894c889f",
   "metadata": {},
   "outputs": [],
   "source": [
    "CalcT_eq13=pt.calculate_liq_only_temp(liq_comps=Liqs2, equationT=\"T_Put2008_eq13\")\n",
    "Calc_Puteq13=pt.calculate_viscosity_giordano_2008(liq_comps=Liqs2, \n",
    "                                                  T=CalcT_eq13)"
   ]
  },
  {
   "cell_type": "code",
   "execution_count": 20,
   "id": "6f998329-f081-45f9-96c0-73d700a3e30d",
   "metadata": {},
   "outputs": [
    {
     "data": {
      "text/plain": [
       "Text(0.5, 0, 'SiO2 content Liq (Wt%)')"
      ]
     },
     "execution_count": 20,
     "metadata": {},
     "output_type": "execute_result"
    },
    {
     "data": {
      "image/png": "[encoded data removed]",
      "text/plain": [
       "<Figure size 720x360 with 2 Axes>"
      ]
     },
     "metadata": {
      "needs_background": "light"
     },
     "output_type": "display_data"
    }
   ],
   "source": [
    "fig, (ax1, ax2) = plt.subplots(1, 2, figsize=(10,5))\n",
    "ax1.plot(Calc_Puteq13['MgO_Liq'], Calc_Puteq13['n_melt'], '-r', label='TPut13')\n",
    "ax2.plot(Calc_Puteq13['SiO2_Liq'], Calc_Puteq13['n_melt'], '-r')\n",
    "\n",
    "\n",
    "ax1.plot(Calc_ExcelT['MgO_Liq'], Calc_ExcelT['n_melt'], '-k', label='HT87')\n",
    "ax2.plot(Calc_ExcelT['SiO2_Liq'], Calc_ExcelT['n_melt'], '-k')\n",
    "ax1.legend()\n",
    "ax1.set_ylabel('Viscosity (PaS)')\n",
    "ax1.set_xlabel('MgO content Liq (Wt%)')\n",
    "ax2.set_xlabel('SiO2 content Liq (Wt%)')"
   ]
  },
  {
   "cell_type": "markdown",
   "id": "59d44ab6-4d4d-41d6-94e8-feda75df356a",
   "metadata": {},
   "source": [
    "## With different F2O contents\n",
    "- By default, we perform calculations with no F, to use the same input structure as the rest of the liquids\n",
    "- However, Giordano parameterize in terms of F2O, so you can enter this straight in the function\n",
    "- We have 2 functions, allowing you to convert from F2O to F and back"
   ]
  },
  {
   "cell_type": "code",
   "execution_count": 21,
   "id": "b6bc488f-9b15-434c-8386-cf076452fbd4",
   "metadata": {},
   "outputs": [
    {
     "data": {
      "text/plain": [
       "0.14210723396066502"
      ]
     },
     "execution_count": 21,
     "metadata": {},
     "output_type": "execute_result"
    }
   ],
   "source": [
    "F2O_calc=pt.convert_F_to_F2O(F_ppm=1000)\n",
    "F2O_calc"
   ]
  },
  {
   "cell_type": "code",
   "execution_count": 22,
   "id": "78ca6c38-d232-449d-85e4-9f0ccdb1e9aa",
   "metadata": {},
   "outputs": [
    {
     "data": {
      "text/plain": [
       "1000.0"
      ]
     },
     "execution_count": 22,
     "metadata": {},
     "output_type": "execute_result"
    }
   ],
   "source": [
    "F_calc=pt.convert_F2O_to_F_ppm(F2O_wt=F2O_calc)\n",
    "F_calc"
   ]
  },
  {
   "cell_type": "code",
   "execution_count": 23,
   "id": "f07540b4-f39c-4f4d-8029-a748f7b800fc",
   "metadata": {},
   "outputs": [],
   "source": [
    "WithF=pt.calculate_viscosity_giordano_2008(liq_comps=Liqs2, \n",
    "                                    T=Liqs_input2['Temp HT1987_K'],\n",
    "                                     F2O_content=F2O_calc)"
   ]
  },
  {
   "cell_type": "code",
   "execution_count": 25,
   "id": "fa075518-a820-4d9f-9637-4fbb2488596b",
   "metadata": {},
   "outputs": [
    {
     "data": {
      "text/plain": [
       "Text(0.5, 0, 'MgO content Liq')"
      ]
     },
     "execution_count": 25,
     "metadata": {},
     "output_type": "execute_result"
    },
    {
     "data": {
      "image/png": "[encoded data removed]",
      "text/plain": [
       "<Figure size 432x288 with 1 Axes>"
      ]
     },
     "metadata": {
      "needs_background": "light"
     },
     "output_type": "display_data"
    }
   ],
   "source": [
    "plt.plot( Calc_ExcelT['MgO_Liq'], Calc_ExcelT['n_melt'], '-k', label='No F')\n",
    "plt.plot( WithF['MgO_Liq'], WithF['n_melt'], '-g', label='With 1000 ppm F')\n",
    "plt.legend()\n",
    "plt.ylabel('Viscosity')\n",
    "plt.xlabel('MgO content Liq')"
   ]
  }
 ],
 "metadata": {
  "kernelspec": {
   "display_name": "Python 3 (ipykernel)",
   "language": "python",
   "name": "python3"
  },
  "language_info": {
   "codemirror_mode": {
    "name": "ipython",
    "version": 3
   },
   "file_extension": ".py",
   "mimetype": "text/x-python",
   "name": "python",
   "nbconvert_exporter": "python",
   "pygments_lexer": "ipython3",
   "version": "3.9.12"
  }
 },
 "nbformat": 4,
 "nbformat_minor": 5
}
