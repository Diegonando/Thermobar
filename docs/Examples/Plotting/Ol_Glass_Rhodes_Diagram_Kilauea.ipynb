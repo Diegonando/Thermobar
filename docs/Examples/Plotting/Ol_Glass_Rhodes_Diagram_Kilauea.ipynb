{
 "cells": [
  {
   "cell_type": "markdown",
   "id": "923472f6-2606-47a4-9ea5-488c1d7d9664",
   "metadata": {},
   "source": [
    "# Rhodes Diagram for Ol-Liq data\n",
    "- We consider a more real word example, using olivine and liquid compositions from Wieser et al. (2021) - https://agupubs.onlinelibrary.wiley.com/doi/10.1029/2020GC009364"
   ]
  },
  {
   "cell_type": "markdown",
   "id": "f3fe3cc5-0130-4c1b-aae0-1b27d7a71b97",
   "metadata": {},
   "source": [
    "## Load python things"
   ]
  },
  {
   "cell_type": "code",
   "execution_count": 1,
   "id": "34527cbc-2599-4b08-b595-e202cd2fd927",
   "metadata": {},
   "outputs": [],
   "source": [
    "import matplotlib.pyplot as plt\n",
    "import numpy as np\n",
    "import pandas as pd\n",
    "import Thermobar as pt"
   ]
  },
  {
   "cell_type": "markdown",
   "id": "a5078dd5-6082-4153-807d-8938dbebd929",
   "metadata": {},
   "source": [
    "## Set Plotting Parameters"
   ]
  },
  {
   "cell_type": "code",
   "execution_count": 2,
   "id": "64ef6f43-c7ed-48c1-a037-6526d7759f94",
   "metadata": {},
   "outputs": [],
   "source": [
    "plt.rcParams[\"font.family\"] = 'arial'\n",
    "plt.rcParams[\"font.size\"] =12\n",
    "plt.rcParams[\"mathtext.default\"] = \"regular\"\n",
    "plt.rcParams[\"mathtext.fontset\"] = \"dejavusans\"\n",
    "plt.rcParams['patch.linewidth'] = 1\n",
    "plt.rcParams['axes.linewidth'] = 1\n",
    "plt.rcParams[\"xtick.direction\"] = \"in\"\n",
    "plt.rcParams[\"ytick.direction\"] = \"in\"\n",
    "plt.rcParams[\"ytick.direction\"] = \"in\"\n",
    "plt.rcParams[\"xtick.major.size\"] = 6 # Sets length of ticks\n",
    "plt.rcParams[\"ytick.major.size\"] = 4 # Sets length of ticks\n",
    "plt.rcParams[\"ytick.labelsize\"] = 12 # Sets size of numbers on tick marks\n",
    "plt.rcParams[\"xtick.labelsize\"] = 12 # Sets size of numbers on tick marks\n",
    "plt.rcParams[\"axes.titlesize\"] = 14 # Overall title\n",
    "plt.rcParams[\"axes.labelsize\"] = 14 # Axes labels"
   ]
  },
  {
   "cell_type": "markdown",
   "id": "e2f3589b-731c-4f7f-958e-1252dd24c46d",
   "metadata": {},
   "source": [
    "## Available Data\n",
    "- Olivine compositions were measured from 3 different samples (indicated by Sample_ID_Ol)\n",
    "- We also have a number of EPMA measurements of liquids from co-erupted matrix glasses (sample ID indicated by Sample_ID_Liq)\n",
    "- Lets load these two separate excel sheets in:"
   ]
  },
  {
   "cell_type": "code",
   "execution_count": 3,
   "id": "5f8ed7b2-541f-41d6-8afb-e0e3a8372b3b",
   "metadata": {},
   "outputs": [],
   "source": [
    "## Loading Olivine\n",
    "Ol_dict=pt.import_excel('Plotting_inputs_Amp_Cpx_Ol_Fspar.xlsx', sheet_name='Olivines_F8')\n",
    "Ol_Comps=Ol_dict['Ols']"
   ]
  },
  {
   "cell_type": "code",
   "execution_count": 4,
   "id": "e7d71b6a-4c59-4b61-8533-1287752f892c",
   "metadata": {},
   "outputs": [],
   "source": [
    "## Loading Liquids\n",
    "Liq_dict=pt.import_excel('Plotting_inputs_Amp_Cpx_Ol_Fspar.xlsx', sheet_name='Glass_F8')\n",
    "Liq_Comps=Liq_dict['Liqs']"
   ]
  },
  {
   "cell_type": "markdown",
   "id": "83687d7d-849e-412d-8bbd-5b1fa27d7e3b",
   "metadata": {},
   "source": [
    "## Subsampling per eruption\n",
    "- To plot a Rhodes diagram, we want to plot all the olivines from a single sample, against the average matrix glass Mg# of that sample.\n",
    "- First, lets find out what unique sample names we have for olivines and liquids using the .unique function"
   ]
  },
  {
   "cell_type": "code",
   "execution_count": 5,
   "id": "c960055e-acb2-465f-8f99-7cd367edb001",
   "metadata": {},
   "outputs": [
    {
     "data": {
      "text/plain": [
       "array(['Fissure 8 (May 30th)', 'Fissure 8 (Mid July)',\n",
       "       'Fissure 8 (Aug 1st)'], dtype=object)"
      ]
     },
     "execution_count": 5,
     "metadata": {},
     "output_type": "execute_result"
    }
   ],
   "source": [
    "Liq_Comps['Sample_ID_Liq'].unique()"
   ]
  },
  {
   "cell_type": "code",
   "execution_count": 6,
   "id": "74e175cf-c09f-40b2-b429-4f5da8959e91",
   "metadata": {},
   "outputs": [
    {
     "data": {
      "text/plain": [
       "array(['Fissure 8 (Mid July)', 'Fissure 8 (May 30th)',\n",
       "       'Fissure 8 (Aug 1st)'], dtype=object)"
      ]
     },
     "execution_count": 6,
     "metadata": {},
     "output_type": "execute_result"
    }
   ],
   "source": [
    "Ol_Comps['Sample_ID_Ol'].unique()"
   ]
  },
  {
   "cell_type": "markdown",
   "id": "cd7139e4-d192-42d2-99a2-99101e63654c",
   "metadata": {},
   "source": [
    "## Lets calculate olivine forsterite contents, and then append this new row onto the Ol_Comps dataframe"
   ]
  },
  {
   "cell_type": "code",
   "execution_count": 7,
   "id": "230c8485-e2ce-46f4-877f-6d3a0f9f547a",
   "metadata": {},
   "outputs": [],
   "source": [
    "Ol_Fo_Calc=pt.calculate_ol_fo(ol_comps=Ol_Comps)\n",
    "Ol_Comps['Fo']=Ol_Fo_Calc"
   ]
  },
  {
   "cell_type": "markdown",
   "id": "74cdcc04-2d0f-47c6-b71a-75c653005ccf",
   "metadata": {},
   "source": [
    "### Now lets use the python .loc function to pull out a dataframe of olivines from each sample. \n",
    "- Basically saying find all rows where the same name is July.. Aug.. May. "
   ]
  },
  {
   "cell_type": "code",
   "execution_count": 8,
   "id": "07486bc8-7a07-4bbc-b022-ff0a300661b9",
   "metadata": {},
   "outputs": [],
   "source": [
    "Ol_Comps_July=Ol_Comps.loc[Ol_Comps['Sample_ID_Ol']== \"Fissure 8 (Mid July)\"]\n",
    "Ol_Comps_May=Ol_Comps.loc[Ol_Comps['Sample_ID_Ol']== \"Fissure 8 (May 30th)\"]\n",
    "Ol_Comps_Aug=Ol_Comps.loc[Ol_Comps['Sample_ID_Ol']== \"Fissure 8 (Aug 1st)\"]"
   ]
  },
  {
   "cell_type": "markdown",
   "id": "9822fdfb-b886-445a-a7e2-59548796b2dc",
   "metadata": {},
   "source": [
    "## Similarly, lets calculate matrix glass Mg# and append it onto the datafarme of liquid compositions\n",
    "- Here, we use Fe3Fet=0.15. "
   ]
  },
  {
   "cell_type": "code",
   "execution_count": 9,
   "id": "1d94322a-36ea-4ab9-ab08-3f58af475d98",
   "metadata": {},
   "outputs": [],
   "source": [
    "Liq_Mgno_calc=pt.calculate_liq_mgno(liq_comps=Liq_Comps, Fe3Fet_Liq=0.15)\n",
    "Liq_Comps['Mg#']=Liq_Mgno_calc"
   ]
  },
  {
   "cell_type": "markdown",
   "id": "8ab073e1-4d98-4e43-ad95-1692aed3ed16",
   "metadata": {},
   "source": [
    "### Now lets use the python loc function to pull out liquids for each eruption. "
   ]
  },
  {
   "cell_type": "code",
   "execution_count": 10,
   "id": "d30e6d45-9b9f-41c1-bbb0-8295cf8c599b",
   "metadata": {},
   "outputs": [],
   "source": [
    "Liq_Comps_July=Liq_Comps.loc[Liq_Comps['Sample_ID_Liq']== \"Fissure 8 (Mid July)\"]\n",
    "Liq_Comps_May=Liq_Comps.loc[Liq_Comps['Sample_ID_Liq']== \"Fissure 8 (May 30th)\"]\n",
    "Liq_Comps_Aug=Liq_Comps.loc[Liq_Comps['Sample_ID_Liq']== \"Fissure 8 (Aug 1st)\"]"
   ]
  },
  {
   "cell_type": "markdown",
   "id": "6818dae2-8906-4a80-9ae8-833eece08f2f",
   "metadata": {},
   "source": [
    "### Lets calculate the mean and standard deviation for each eruption in terms of Mg#"
   ]
  },
  {
   "cell_type": "code",
   "execution_count": 11,
   "id": "ae891868-5b07-446e-959f-ff8c808a0de7",
   "metadata": {},
   "outputs": [],
   "source": [
    "Liq_Comps_July_Mean_Mgno=np.nanmean(Liq_Comps_July['Mg#'])\n",
    "Liq_Comps_May_Mean_Mgno=np.nanmean(Liq_Comps_May['Mg#'])\n",
    "Liq_Comps_Aug_Mean_Mgno=np.nanmean(Liq_Comps_Aug['Mg#'])\n",
    "\n",
    "Liq_Comps_July_Std_Mgno=np.nanstd(Liq_Comps_July['Mg#'])\n",
    "Liq_Comps_May_Std_Mgno=np.nanstd(Liq_Comps_May['Mg#'])\n",
    "Liq_Comps_Aug_Std_Mgno=np.nanstd(Liq_Comps_Aug['Mg#'])"
   ]
  },
  {
   "cell_type": "markdown",
   "id": "0499a168-e81a-44ec-9892-a7d7faafa576",
   "metadata": {},
   "source": [
    "## Now lets calculate the various equilibrium lines for the Rhodes Diagram"
   ]
  },
  {
   "cell_type": "code",
   "execution_count": 12,
   "id": "8cc236a7-6967-4276-bbbf-ec39f4d89c9a",
   "metadata": {},
   "outputs": [
    {
     "data": {
      "text/html": [
       "<div>\n",
       "<style scoped>\n",
       "    .dataframe tbody tr th:only-of-type {\n",
       "        vertical-align: middle;\n",
       "    }\n",
       "\n",
       "    .dataframe tbody tr th {\n",
       "        vertical-align: top;\n",
       "    }\n",
       "\n",
       "    .dataframe thead th {\n",
       "        text-align: right;\n",
       "    }\n",
       "</style>\n",
       "<table border=\"1\" class=\"dataframe\">\n",
       "  <thead>\n",
       "    <tr style=\"text-align: right;\">\n",
       "      <th></th>\n",
       "      <th>Mg#_Liq</th>\n",
       "      <th>Eq_Ol_Fo_Roeder (Kd=0.3)</th>\n",
       "      <th>Eq_Ol_Fo_Roeder (Kd=0.27)</th>\n",
       "      <th>Eq_Ol_Fo_Roeder (Kd=0.33)</th>\n",
       "      <th>Eq_Ol_Fo_Matzen (Kd=0.34)</th>\n",
       "      <th>Eq_Ol_Fo_Matzen (Kd=0.328)</th>\n",
       "      <th>Eq_Ol_Fo_Matzen (Kd=0.352)</th>\n",
       "    </tr>\n",
       "  </thead>\n",
       "  <tbody>\n",
       "    <tr>\n",
       "      <th>0</th>\n",
       "      <td>0.500000</td>\n",
       "      <td>0.769231</td>\n",
       "      <td>0.787402</td>\n",
       "      <td>0.751880</td>\n",
       "      <td>0.746269</td>\n",
       "      <td>0.753012</td>\n",
       "      <td>0.739645</td>\n",
       "    </tr>\n",
       "    <tr>\n",
       "      <th>1</th>\n",
       "      <td>0.502020</td>\n",
       "      <td>0.770662</td>\n",
       "      <td>0.788751</td>\n",
       "      <td>0.753384</td>\n",
       "      <td>0.747796</td>\n",
       "      <td>0.754512</td>\n",
       "      <td>0.741198</td>\n",
       "    </tr>\n",
       "    <tr>\n",
       "      <th>2</th>\n",
       "      <td>0.504040</td>\n",
       "      <td>0.772087</td>\n",
       "      <td>0.790095</td>\n",
       "      <td>0.754883</td>\n",
       "      <td>0.749317</td>\n",
       "      <td>0.756006</td>\n",
       "      <td>0.742745</td>\n",
       "    </tr>\n",
       "    <tr>\n",
       "      <th>3</th>\n",
       "      <td>0.506061</td>\n",
       "      <td>0.773506</td>\n",
       "      <td>0.791432</td>\n",
       "      <td>0.756375</td>\n",
       "      <td>0.750832</td>\n",
       "      <td>0.757493</td>\n",
       "      <td>0.744286</td>\n",
       "    </tr>\n",
       "    <tr>\n",
       "      <th>4</th>\n",
       "      <td>0.508081</td>\n",
       "      <td>0.774919</td>\n",
       "      <td>0.792763</td>\n",
       "      <td>0.757861</td>\n",
       "      <td>0.752341</td>\n",
       "      <td>0.758975</td>\n",
       "      <td>0.745822</td>\n",
       "    </tr>\n",
       "  </tbody>\n",
       "</table>\n",
       "</div>"
      ],
      "text/plain": [
       "    Mg#_Liq  Eq_Ol_Fo_Roeder (Kd=0.3)  Eq_Ol_Fo_Roeder (Kd=0.27)  \\\n",
       "0  0.500000                  0.769231                   0.787402   \n",
       "1  0.502020                  0.770662                   0.788751   \n",
       "2  0.504040                  0.772087                   0.790095   \n",
       "3  0.506061                  0.773506                   0.791432   \n",
       "4  0.508081                  0.774919                   0.792763   \n",
       "\n",
       "   Eq_Ol_Fo_Roeder (Kd=0.33)  Eq_Ol_Fo_Matzen (Kd=0.34)  \\\n",
       "0                   0.751880                   0.746269   \n",
       "1                   0.753384                   0.747796   \n",
       "2                   0.754883                   0.749317   \n",
       "3                   0.756375                   0.750832   \n",
       "4                   0.757861                   0.752341   \n",
       "\n",
       "   Eq_Ol_Fo_Matzen (Kd=0.328)  Eq_Ol_Fo_Matzen (Kd=0.352)  \n",
       "0                    0.753012                    0.739645  \n",
       "1                    0.754512                    0.741198  \n",
       "2                    0.756006                    0.742745  \n",
       "3                    0.757493                    0.744286  \n",
       "4                    0.758975                    0.745822  "
      ]
     },
     "execution_count": 12,
     "metadata": {},
     "output_type": "execute_result"
    }
   ],
   "source": [
    "Rhodes=pt.calculate_ol_rhodes_diagram_lines(Min_Mgno=0.5, Max_Mgno=0.7)\n",
    "Rhodes.head()"
   ]
  },
  {
   "cell_type": "markdown",
   "id": "f92bb0b2-568f-4e25-b207-e2f09ae833e1",
   "metadata": {},
   "source": [
    "## Making the plot\n",
    "- Here, we decide to draw the Ol-Liq field as a shaded grey region between Kd=0.27 from Roeder and Emslie, 1970 as a lower bound, and Matzen (2011) as an upper bound."
   ]
  },
  {
   "cell_type": "code",
   "execution_count": 18,
   "id": "9e920652-5a14-4ebd-a8be-f8d0fb5ecdc4",
   "metadata": {},
   "outputs": [
    {
     "data": {
      "image/png": "[encoded data removed]",
      "text/plain": [
       "<Figure size 360x288 with 1 Axes>"
      ]
     },
     "metadata": {
      "needs_background": "light"
     },
     "output_type": "display_data"
    }
   ],
   "source": [
    "fig, (ax1) = plt.subplots(1, 1, figsize=(5,4))\n",
    "\n",
    "# These lines sort x and arrange y so that we can use the \"fill between function\"\n",
    "xfill_pap = np.sort(Rhodes['Mg#_Liq'])\n",
    "y1fill_pap = Rhodes['Eq_Ol_Fo_Roeder (Kd=0.27)'] # Choice of lower bound on Kd\n",
    "y2fill_pap = Rhodes['Eq_Ol_Fo_Matzen (Kd=0.352)'] # Choice of upper bound on Kd. Could replace with Eq_Ol_Fo_Roeder (Kd=0.33)\n",
    "ax1.fill_between(xfill_pap, y1fill_pap, y2fill_pap, where=y1fill_pap < y2fill_pap,\n",
    "                 interpolate=True, color='grey',  alpha=0.3)\n",
    "ax1.fill_between(xfill_pap, y1fill_pap, y2fill_pap, where=y1fill_pap > y2fill_pap, \n",
    "                 interpolate=True, color='grey', linewidth=0.5, alpha=0.3, label='Eq Field')\n",
    "\n",
    "# This plots the same lines, so that we have a black outline in addition to the grey field\n",
    "ax1.plot(Rhodes['Mg#_Liq'], Rhodes['Eq_Ol_Fo_Roeder (Kd=0.27)'], '-k', linewidth=1)\n",
    "ax1.plot(Rhodes['Mg#_Liq'], Rhodes['Eq_Ol_Fo_Matzen (Kd=0.352)'], '-k', linewidth=1)\n",
    "\n",
    "# Now, we need to plot the data. We want to plot each eruption as a different color, \n",
    "#with the x axis equal to the mean of the Mg# of that glass. \n",
    "# However, python wants the x coordinate to be the same length, so we do a trick, \n",
    "#where we just multiply the average by np.ones, which makes a vector of ones with length equal to the y axis\n",
    "\n",
    "# Plotting July sample as red\n",
    "ax1.plot(Liq_Comps_July_Mean_Mgno*np.ones(len(Ol_Comps_July)),\n",
    "         Ol_Comps_July['Fo'], 'ok', mfc='red', label='July-18')\n",
    "\n",
    "# Plotting Aug sample as orange\n",
    "ax1.plot(Liq_Comps_Aug_Mean_Mgno*np.ones(len(Ol_Comps_Aug)),\n",
    "         Ol_Comps_Aug['Fo'], 'ok', mfc='orange', label='Aug-18')\n",
    "\n",
    "# Plotting May as blue\n",
    "ax1.plot(Liq_Comps_May_Mean_Mgno*np.ones(len(Ol_Comps_May)),\n",
    "         Ol_Comps_May['Fo'], 'ok', mfc='blue', label='May-18')\n",
    "\n",
    "\n",
    "# Add a legend\n",
    "ax1.legend(loc='upper right', fontsize=13)\n",
    "\n",
    "# Add your axes labels\n",
    "ax1.set_ylabel('Olivine Forsterite content')\n",
    "ax1.set_xlabel('Glass Mg#')\n",
    "\n",
    "# Adjust axes limits\n",
    "ax1.set_ylim([0.74, 0.9]);\n",
    "ax1.set_xlim([0.5, 0.6]);\n",
    "\n",
    "# Add a subplot label\n",
    "ax1.annotate(\"a)\", xy=(0.02, 0.95), xycoords=\"axes fraction\", fontsize=14)\n",
    "\n",
    "# Save figure to jpg\n",
    "fig.savefig('Kil-Liq-Ol-Eq.png', dpi=200)"
   ]
  },
  {
   "cell_type": "code",
   "execution_count": null,
   "id": "0e93e932-20d0-4b9e-a2ef-68cde4ae7c62",
   "metadata": {},
   "outputs": [],
   "source": []
  }
 ],
 "metadata": {
  "kernelspec": {
   "display_name": "Python 3",
   "language": "python",
   "name": "python3"
  },
  "language_info": {
   "codemirror_mode": {
    "name": "ipython",
    "version": 3
   },
   "file_extension": ".py",
   "mimetype": "text/x-python",
   "name": "python",
   "nbconvert_exporter": "python",
   "pygments_lexer": "ipython3",
   "version": "3.8.5"
  }
 },
 "nbformat": 4,
 "nbformat_minor": 5
}
