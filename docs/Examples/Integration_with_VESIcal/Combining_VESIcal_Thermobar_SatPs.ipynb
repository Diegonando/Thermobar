{
 "cells": [
  {
   "cell_type": "markdown",
   "id": "17e4dd20-6f65-49d6-bac5-35155283b1d9",
   "metadata": {},
   "source": [
    "# Combining Thermobar with VESIcal for Sat P at known T\n",
    "- We show how to use various thermometers in Thermobar to calculate temperature, which can then be fed into saturation pressure calculations\n",
    "- We also show how to combine thermometry (which is often sensitive to water content) with VESIcal calculate dissolved volatile calculations for insights into different H$_2$O contents at a range of crustal depths\n",
    "- You can find the excel spreadsheet here: https://github.com/PennyWieser/Thermobar/blob/main/docs/Examples/Integration_with_VESIcal/Ol_hosted_melt_inclusions.xlsx\n",
    "\n",
    "!!!!! Please Note !!!!!!!\n",
    "\n",
    "- VESIcal requires Thermoengine to run. If you do not have Thermoengine installed locally on your laptop, you will either need to instal it, or more simply to start with, run calculations using the ENKI server (http://enki-portal.org/). For more information, watch the following YouTube videos:\n",
    "1. https://www.youtube.com/watch?v=BuwUhu9YdG4&t=2s (Enki server)\n",
    "2. https://www.youtube.com/watch?v=FRpsDbouuec&t=763s (Worked example)"
   ]
  },
  {
   "cell_type": "markdown",
   "id": "f5385e70-8c6e-4302-9e99-c39dea40d039",
   "metadata": {},
   "source": [
    "## First, load the python things you might need"
   ]
  },
  {
   "cell_type": "code",
   "execution_count": null,
   "id": "87f5ffec-66c0-40bf-8dcc-531b03f9cb1c",
   "metadata": {},
   "outputs": [],
   "source": [
    "import numpy as np\n",
    "import pandas as pd\n",
    "import matplotlib.pyplot as plt"
   ]
  },
  {
   "cell_type": "markdown",
   "id": "41cd1e7d-4540-4639-be88-fbd1a810257b",
   "metadata": {},
   "source": [
    "### Now, install VESIcal if you aren't running on the server"
   ]
  },
  {
   "cell_type": "code",
   "execution_count": null,
   "id": "5b8a6c16-7425-4e3f-8149-c5e91c5c287b",
   "metadata": {},
   "outputs": [],
   "source": [
    "#!pip install VESIcal"
   ]
  },
  {
   "cell_type": "markdown",
   "id": "e2e5b0b7-b7d2-4b09-82da-d40951c5c163",
   "metadata": {},
   "source": [
    "### Now install Thermobar if you dont already have it"
   ]
  },
  {
   "cell_type": "code",
   "execution_count": null,
   "id": "94bd24fa-3034-4641-ab24-5badefcb5121",
   "metadata": {},
   "outputs": [],
   "source": [
    "#!pip install Thermobar"
   ]
  },
  {
   "cell_type": "markdown",
   "id": "107b971f-03b3-4410-ae2c-84d1d4dba036",
   "metadata": {},
   "source": [
    "## Now import both Thermobar and VESIcal"
   ]
  },
  {
   "cell_type": "code",
   "execution_count": null,
   "id": "150b4358-400e-4298-8ffd-7a984909e1e3",
   "metadata": {},
   "outputs": [],
   "source": [
    "# You need to uncomment this if you are running on the enki server\n",
    "import VESIcal as v\n",
    "print('VESIcal version')\n",
    "print(v.__version__)"
   ]
  },
  {
   "cell_type": "code",
   "execution_count": null,
   "id": "50cd7830-e7c8-4801-bb78-6df3a063651c",
   "metadata": {},
   "outputs": [],
   "source": [
    "import Thermobar as pt\n",
    "# This prints the versions\n",
    "print('Thermobar version')\n",
    "print(pt.__version__)"
   ]
  },
  {
   "cell_type": "markdown",
   "id": "64bb1103-9a34-42fc-be27-9152681fc14f",
   "metadata": {},
   "source": [
    "## Example 1 - Simple integration of thermometry and saturation pressures\n",
    "- Here, we calculating saturation pressures for olivine-hosted melt inclusions from Kilauea using temperatures from a specific thermometer"
   ]
  },
  {
   "cell_type": "markdown",
   "id": "629aede5-14ef-4baf-866e-69150d93e7bb",
   "metadata": {},
   "source": [
    "### Step 1: import the data\n",
    "- Here, we import the data using Thermobars input structure, e.g., oxides for a liquid are followed by _Liq, and oxides for olivine are followed by _Ol"
   ]
  },
  {
   "cell_type": "code",
   "execution_count": null,
   "id": "f748111a-cab8-4aa7-bd0a-4eb5dd1eb10b",
   "metadata": {},
   "outputs": [],
   "source": [
    "out=pt.import_excel('Ol_hosted_melt_inclusions.xlsx', sheet_name=\"Ol-Liq\")\n",
    "\n",
    "# This subdivdes outputs into a dataframe for all inputs (my_input), ols, and liqs\n",
    "my_input=out['my_input']\n",
    "myOls=out['Ols']\n",
    "myLiquids1=out['Liqs']\n",
    "\n",
    "## Lets check the outputs have loaded right\n",
    "display(myOls.head())\n",
    "display(myLiquids1.head())"
   ]
  },
  {
   "cell_type": "markdown",
   "id": "db8f95b4-38b0-48cf-be53-c572138e8367",
   "metadata": {},
   "source": [
    "### Step 2: lets calculate the temperature using the Helz and Thornber (1987) thermometer which only uses liquid compositions."
   ]
  },
  {
   "cell_type": "code",
   "execution_count": null,
   "id": "527fa175-84a7-4689-a68e-52b251b470b2",
   "metadata": {},
   "outputs": [],
   "source": [
    "T_HT87=pt.calculate_liq_only_temp(liq_comps=myLiquids1, equationT=\"T_Helz1987_MgO\")\n",
    "T_HT87"
   ]
  },
  {
   "cell_type": "markdown",
   "id": "d99df264-1c8f-459a-a20f-71f588c405ce",
   "metadata": {},
   "source": [
    "### Step 3: lets calculate the saturation pressure using VESIcal at this temperature. \n",
    "- The function \"convert_To_VESIcal\" converts a liquid dataframe into the form needed for VESIcal, and adds a new column called \"Temperature\" in celcius based on an input you have given it in Kelvin from Thermobar\n",
    "- It strips away the _Liq from each oxide used by Thermobar, and partitions into FeO and Fe2O3 depending user-entered Fe3Fet_Liq, as some solubility models are sensitive to redox."
   ]
  },
  {
   "cell_type": "code",
   "execution_count": null,
   "id": "aa0b3fd8-831a-455c-a0b6-37df35b44258",
   "metadata": {},
   "outputs": [],
   "source": [
    "# This function \n",
    "df_HT87=pt.convert_to_vesical(liq_comps=myLiquids1, \n",
    "                              T1=T_HT87, unit='Kelvin', Fe3Fet_Liq=0.15)\n",
    "df_HT87.head()"
   ]
  },
  {
   "cell_type": "markdown",
   "id": "e686f45a-b492-4a6b-8e00-93a8fecd9ed5",
   "metadata": {},
   "source": [
    "### Step 4: Now we do the final step to convert this dataframe into an object that we can enter into the calculation structures of VESIcal"
   ]
  },
  {
   "cell_type": "code",
   "execution_count": null,
   "id": "02265461-ea5a-48e6-9766-0bd721a5bc6b",
   "metadata": {},
   "outputs": [],
   "source": [
    "VESIcal_out=v.BatchFile(filename=None, dataframe=df_HT87, label='Sample_ID')\n",
    "VESIcal_out.data"
   ]
  },
  {
   "cell_type": "markdown",
   "id": "be53835e-f4da-49da-a338-ea09274171dd",
   "metadata": {},
   "source": [
    "### Step 5: Final step - Calculate saturation pressure! "
   ]
  },
  {
   "cell_type": "code",
   "execution_count": null,
   "id": "56453609-e7a7-40ac-be36-9bee31836c3a",
   "metadata": {},
   "outputs": [],
   "source": [
    "# First lets use the default model MagmaSat\n",
    "SatP_HT87=VESIcal_out.calculate_saturation_pressure(temperature=\"Temp\")\n",
    "SatP_HT87.head()\n"
   ]
  },
  {
   "cell_type": "markdown",
   "id": "027b8d82-7e03-47e5-8b7f-2018fd278cbb",
   "metadata": {},
   "source": [
    "## Example 2 - Using a P-sensitive thermometer\n",
    "- The first example was relatively simple, because the thermometer we choose wasn't sensitive to pressure\n",
    "- Many more recent thermometers also have a pressure term. For example, the Sugawara (2000) eq 3 olivine thermometer requires a pressure\n",
    "- Thus, we show a way to iterate towards a solution\n",
    "- First, we use the saturation pressure calculated above using the Helz and Thornber thermometer as a first guess. We then use the Sugawara thermometer as a P-sensitive thermometer to calculate a new temperature based on this pressure."
   ]
  },
  {
   "cell_type": "markdown",
   "id": "a23685b3-31b7-40f2-ba21-affc4672a2e6",
   "metadata": {},
   "source": [
    "### Step 1 - Calc a new temp using a P-sensitive thermometer"
   ]
  },
  {
   "cell_type": "code",
   "execution_count": null,
   "id": "c5aa368c-3106-4e8d-9b25-15c2624ff710",
   "metadata": {},
   "outputs": [],
   "source": [
    "# Here, we get temperature from the sat Ps calculated above, remember to divide by 1000 as Thermobar wants kbar not bar. \n",
    "T_Sug=pt.calculate_liq_only_temp(liq_comps=myLiquids1, equationT=\"T_Sug2000_eq3_ol\", \n",
    "                                 P=SatP_HT87['SaturationP_bars_VESIcal'].values/1000)"
   ]
  },
  {
   "cell_type": "markdown",
   "id": "f30e26e0-42fd-4e47-8df2-6f330a7f17ea",
   "metadata": {},
   "source": [
    "### Step 2 -  Lets add a new column called Temp_Sug and store our temp calculated (converted to values and to float)"
   ]
  },
  {
   "cell_type": "code",
   "execution_count": null,
   "id": "d3c542f4-4f15-4976-9221-e6a2557a80c8",
   "metadata": {},
   "outputs": [],
   "source": [
    "VESIcal_out.data[\"Temp_Sug\"] =T_Sug.values.astype(float)-273.15 # Remmeber to store as celcius\n",
    "VESIcal_out.data"
   ]
  },
  {
   "cell_type": "markdown",
   "id": "49bcfd5b-80e2-40d8-b0e0-1733dba052b6",
   "metadata": {},
   "source": [
    "### Step 3: Now we calculate saturation pressure using this new temperature"
   ]
  },
  {
   "cell_type": "code",
   "execution_count": null,
   "id": "21221eb9-8b07-4d18-8ced-b38477206306",
   "metadata": {},
   "outputs": [],
   "source": [
    "# Remember to subtract 273.15 if using direct outputs from thermobar \n",
    "# (which use Kelvin, VESical wants celcius)\n",
    "SatP_Sug1=VESIcal_out.calculate_saturation_pressure(temperature=\"Temp_Sug\") "
   ]
  },
  {
   "cell_type": "markdown",
   "id": "39c2cebb-b338-4632-b4d3-77df31f7e9a6",
   "metadata": {},
   "source": [
    "### Example 3 - Using an olivine-Liquid thermometer which is sensitive to temperature and pressure\n",
    "- Here, we use the solubility model of IaconoMarziano"
   ]
  },
  {
   "cell_type": "markdown",
   "id": "e11d5386-54cb-4760-b86c-cf844086fbad",
   "metadata": {},
   "source": [
    "### Step 1: Calculate temperature using a best guess of your pressure (e.g from knowledge of your system, 10 kbar here)"
   ]
  },
  {
   "cell_type": "code",
   "execution_count": null,
   "id": "dd3d1611-6d1a-4912-9312-177662ae0e0c",
   "metadata": {},
   "outputs": [],
   "source": [
    "T_Put_10kbar=pt.calculate_ol_liq_temp(ol_comps=myOls, liq_comps=myLiquids1,\n",
    "                                equationT=\"T_Put2008_eq22\", P=10)"
   ]
  },
  {
   "cell_type": "markdown",
   "id": "a328f809-b8cc-4f13-a92a-5948859f35d8",
   "metadata": {},
   "source": [
    "### Step 3: Append a new temperature onto the dataframe"
   ]
  },
  {
   "cell_type": "code",
   "execution_count": null,
   "id": "abeb5555-30d4-4ce9-b084-3709a25ed3b3",
   "metadata": {},
   "outputs": [],
   "source": [
    "# Now we append this as a third temperature. We need T_K_calc \n",
    "# because this thermometer returns a dataframe\n",
    "# Remmeber to store as celcius\n",
    "VESIcal_out.data[\"Temp_Put_10kbar\"] =T_Put_10kbar['T_K_calc'].values.astype(float)-273.15 \n",
    "VESIcal_out.data"
   ]
  },
  {
   "cell_type": "markdown",
   "id": "2b63a05a-2b0c-4275-8767-7433cc292fc7",
   "metadata": {},
   "source": [
    "### Step 4: Calculate sat P using this temperature"
   ]
  },
  {
   "cell_type": "code",
   "execution_count": null,
   "id": "e5a27a45-754a-472b-b2e4-6c9e570075d5",
   "metadata": {},
   "outputs": [],
   "source": [
    "# Now we calculate saturation pressure using this temperature\n",
    "SatP_Put10kbar=VESIcal_out.calculate_saturation_pressure(temperature=\"Temp_Put_10kbar\", \n",
    "                                model=\"IaconoMarziano\") "
   ]
  },
  {
   "cell_type": "code",
   "execution_count": null,
   "id": "32c4a432-357b-43f1-bf0b-76322c2df817",
   "metadata": {},
   "outputs": [],
   "source": [
    "# We can see our guess of 10 kbar was way too high\n",
    "plt.hist(SatP_Put10kbar['SaturationP_bars_VESIcal']/1000)\n",
    "plt.plot([10, 10], [0, 10], '-r')"
   ]
  },
  {
   "cell_type": "markdown",
   "id": "e13fbaa7-7e1f-4e4b-b2f0-f73fde6ab5ed",
   "metadata": {},
   "source": [
    "### Step 5: We could then repeat this process to basically \"iterate\" down to the right pressure"
   ]
  },
  {
   "cell_type": "code",
   "execution_count": null,
   "id": "f148c1f5-62f4-4f3e-9fe0-2373b0b2a98e",
   "metadata": {},
   "outputs": [],
   "source": [
    "# Here we calculate a new temprature using these newly calculated pressures \n",
    "T_Put_PSat1=pt.calculate_ol_liq_temp(ol_comps=myOls, liq_comps=myLiquids1, \n",
    "equationT=\"T_Put2008_eq22\", P=SatP_Put10kbar['SaturationP_bars_VESIcal'].values/1000)\n",
    "\n",
    "# Add another new column with this new temperature\n",
    "# Remmeber to store as celcius\n",
    "VESIcal_out.data[\"Temp_Put_PSat1\"] =T_Put_PSat1['T_K_calc'].values.astype(float)-273.15 \n",
    "\n",
    "# Calculate saturation pressure again using this new temperature. \n",
    "SatP_Put_PSat1=VESIcal_out.calculate_saturation_pressure(temperature=\"Temp_Put_PSat1\", \n",
    "                model=\"IaconoMarziano\") "
   ]
  },
  {
   "cell_type": "markdown",
   "id": "5bcadcb3-a5c1-447f-912f-bdde3d22442f",
   "metadata": {},
   "source": [
    "### Step 6 -  Lets compare the pressures calculated vs. the first step where we assumed 10 kbar."
   ]
  },
  {
   "cell_type": "code",
   "execution_count": null,
   "id": "9682645a-94c8-4bf6-abe2-2567c0275f90",
   "metadata": {},
   "outputs": [],
   "source": [
    "plt.plot(VESIcal_out.data['Temp_Put_PSat1'] - VESIcal_out.data['Temp_Put_10kbar'], \n",
    "    SatP_Put_PSat1['SaturationP_bars_VESIcal']-SatP_Put10kbar['SaturationP_bars_VESIcal'], 'ok') \n",
    "plt.xlabel('Difference in T \\n (P=10 kbar - P calc)')\n",
    "plt.ylabel('Difference in Pressure \\n for different T (bars)')"
   ]
  },
  {
   "cell_type": "markdown",
   "id": "ec9b56cf-0ea4-400c-b19d-2b92dfb940c7",
   "metadata": {},
   "source": [
    "## Example 4 - Lets generally compare thermometer models and how much difference they make"
   ]
  },
  {
   "cell_type": "code",
   "execution_count": null,
   "id": "2fb33d95-2464-4347-be46-78f17f36f13b",
   "metadata": {},
   "outputs": [],
   "source": [
    "T_Put22_DMg=pt.calculate_liq_only_temp(liq_comps=myLiquids1, \n",
    "            equationT=\"T_Put2008_eq22_BeattDMg\", P=2)\n",
    "\n",
    "# Remmeber to store as celcius\n",
    "VESIcal_out.data[\"T_Put22_DMg\"] =T_Put22_DMg.values.astype(float)-273.15 \n",
    "\n",
    "SatP_T_Put22_DMg=VESIcal_out.calculate_saturation_pressure(temperature=\"T_Put22_DMg\") "
   ]
  },
  {
   "cell_type": "code",
   "execution_count": null,
   "id": "7626d359-b1dd-434c-ad83-f8f0e1095022",
   "metadata": {},
   "outputs": [],
   "source": [
    "plt.plot(SatP_HT87['H2O'], \n",
    "    SatP_T_Put22_DMg['SaturationP_bars_VESIcal']-SatP_HT87['SaturationP_bars_VESIcal'], 'ok', mfc='red') \n",
    "plt.xlabel('H$_2$O content',  fontsize=13)\n",
    "plt.ylabel('Difference in Pressure: \\n HT87 \\n vs. P2008 eq22 (bars)', fontsize=13)"
   ]
  },
  {
   "cell_type": "markdown",
   "id": "ecd07a85-77a1-41e2-befb-ad8b56d6696a",
   "metadata": {},
   "source": [
    "### Summary \n",
    "- This notebook shows that VESIcal combined with Thermobar offers you lots of options. In reality, you will find that basaltic solubility models really aren't that sensitive to temperature, so in general there is no need to iterate tempeature and pressure (but you can confirm this yourself)\n",
    "-  But, in water-rich arcs, choosing a temperature from say Helz and Thornber vs. a thermometer which has H2O included could make more of a difference. "
   ]
  }
 ],
 "metadata": {
  "kernelspec": {
   "display_name": "Python 3 (ipykernel)",
   "language": "python",
   "name": "python3"
  },
  "language_info": {
   "codemirror_mode": {
    "name": "ipython",
    "version": 3
   },
   "file_extension": ".py",
   "mimetype": "text/x-python",
   "name": "python",
   "nbconvert_exporter": "python",
   "pygments_lexer": "ipython3",
   "version": "3.8.12"
  },
  "nbsphinx": {
   "execute": "never"
  }
 },
 "nbformat": 4,
 "nbformat_minor": 5
}
