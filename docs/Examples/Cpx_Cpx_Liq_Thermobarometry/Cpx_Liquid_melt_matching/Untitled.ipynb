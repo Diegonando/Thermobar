{
 "cells": [
  {
   "cell_type": "markdown",
   "id": "20224836-df38-4232-9717-5c57d09d2ac7",
   "metadata": {},
   "source": [
    "    print('Done!!! I found a total of N='+str(len(combo_liq_cpx_fur_filt)) + ' Cpx-Liq matches using the specified filter. N=' + str(len(df1_M)) + ' Cpx out of the N='+str(LenCpx)+' Cpx that you input matched to 1 or more liquids')"
   ]
  },
  {
   "cell_type": "code",
   "execution_count": null,
   "id": "6a3b8b32-06a6-43c0-9e6a-837790c9ec6c",
   "metadata": {},
   "outputs": [],
   "source": [
    "    LenCpx=len(cpx_comps)\n",
    "    LenLiqs=len(liq_comps)\n",
    "    print(\"Considering N=\" + str(LenCpx) + \" Cpx & N=\" + str(LenLiqs) +\" Liqs, which is a total of N=\"+ str(LenCombo) +\n",
    "          \" Liq-Cpx pairs, be patient if this is >>1 million!\")\n"
   ]
  }
 ],
 "metadata": {
  "kernelspec": {
   "display_name": "Python 3 (ipykernel)",
   "language": "python",
   "name": "python3"
  },
  "language_info": {
   "codemirror_mode": {
    "name": "ipython",
    "version": 3
   },
   "file_extension": ".py",
   "mimetype": "text/x-python",
   "name": "python",
   "nbconvert_exporter": "python",
   "pygments_lexer": "ipython3",
   "version": "3.9.12"
  }
 },
 "nbformat": 4,
 "nbformat_minor": 5
}
