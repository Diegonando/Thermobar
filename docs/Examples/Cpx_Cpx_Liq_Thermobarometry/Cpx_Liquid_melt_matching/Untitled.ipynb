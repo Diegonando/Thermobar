{
 "cells": [
  {
   "cell_type": "markdown",
   "id": "20224836-df38-4232-9717-5c57d09d2ac7",
   "metadata": {},
   "source": [
    "    print('Done!!! I found a total of N='+str(len(combo_liq_cpx_fur_filt)) + ' Cpx-Liq matches using the specified filter. N=' + str(len(df1_M)) + ' Cpx out of the N='+str(LenCpx)+' Cpx that you input matched to 1 or more liquids')"
   ]
  },
  {
   "cell_type": "code",
   "execution_count": null,
   "id": "6a3b8b32-06a6-43c0-9e6a-837790c9ec6c",
   "metadata": {},
   "outputs": [],
   "source": [
    "    LenCpx=len(cpx_comps)\n",
    "    LenLiqs=len(liq_comps)\n",
    "    print(\"Considering N=\" + str(LenCpx) + \" Cpx & N=\" + str(LenLiqs) +\" Liqs, which is a total of N=\"+ str(LenCombo) +\n",
    "          \" Liq-Cpx pairs, be patient if this is >>1 million!\")\n"
   ]
  },
  {
   "cell_type": "code",
   "execution_count": null,
   "id": "05b7d33a-2894-435d-a880-799c9bc15bdb",
   "metadata": {},
   "outputs": [],
   "source": [
    "        count=0\n"
   ]
  },
  {
   "cell_type": "code",
   "execution_count": null,
   "id": "7e5e9af9-5cb4-4220-93d6-337c3d8408db",
   "metadata": {},
   "outputs": [],
   "source": [
    "        count=0\n",
    "        for _ in range(iterations):\n",
    "            P_guess = P_func(T_K_guess)\n",
    "            T_K_guess = T_func(P_guess)\n",
    "            if count==iterations-2:\n",
    "                # On the second last step, save the pressure\n",
    "                P_out_loop=P_guess.values\n",
    "                T_out_loop=T_K_guess.values\n",
    "            count=count+1\n",
    "            \n",
    "        DeltaP=P_guess-P_out_loop\n",
    "        DeltaT=T_K_guess-T_out_loop\n",
    "            \n",
    "        \n",
    "    else:\n",
    "        DeltaP=0\n",
    "        DeltaT=0    \n",
    "        \n",
    "# This gets rid of any stray Nans, 0s, 0C etc.\n",
    "    T_K_guess_is_bad = (T_K_guess == 0) | (T_K_guess == 273.15) | (T_K_guess ==  -np.inf) | (T_K_guess ==  np.inf)\n",
    "    T_K_guess[T_K_guess_is_bad] = np.nan\n",
    "    P_guess[T_K_guess_is_bad] = np.nan\n",
    "    \n",
    "\n",
    "    # calculates Kd Fe-Mg if eq_tests=\"True\"\n",
    "    if eq_tests is False:\n",
    "        PT_out = pd.DataFrame(data={'P_kbar_calc': P_guess,\n",
    "                                    'T_K_calc': T_K_guess,\n",
    "                                    'Delta_P_kbar_Iter': DeltaP,\n",
    "                                    'Delta_T_K_Iter': DeltaT})"
   ]
  },
  {
   "cell_type": "code",
   "execution_count": null,
   "id": "4ab972fc-f1c5-4ed2-9e9c-ee0c7e326e9c",
   "metadata": {},
   "outputs": [],
   "source": [
    "        for _ in range(iterations):\n",
    "\n",
    "\n",
    "\n",
    "\n",
    "            P_guess = P_func(T_K_guess)\n",
    "            T_K_guess = T_func(P_guess)\n",
    "            if count==iterations-2:\n",
    "                # On the second last step, save the pressure\n",
    "                P_out_loop=P_guess.values\n",
    "                T_out_loop=T_K_guess.values\n",
    "\n",
    "            count=count+1\n",
    "            \n",
    "                    PT_out = pd.DataFrame(data={'P_kbar_calc': P_guess,\n",
    "                                    'T_K_calc': T_K_guess,\n",
    "                                    'Delta_P_kbar_Iter': DeltaP,\n",
    "                                    'Delta_T_K_Iter': DeltaT})\n",
    "                \n",
    "        DeltaP=P_guess-P_out_loop\n",
    "        DeltaT=T_K_guess-T_out_loop\n",
    "        \n",
    "    else:\n",
    "        DeltaP=0\n",
    "        DeltaT=0"
   ]
  }
 ],
 "metadata": {
  "kernelspec": {
   "display_name": "Python 3 (ipykernel)",
   "language": "python",
   "name": "python3"
  },
  "language_info": {
   "codemirror_mode": {
    "name": "ipython",
    "version": 3
   },
   "file_extension": ".py",
   "mimetype": "text/x-python",
   "name": "python",
   "nbconvert_exporter": "python",
   "pygments_lexer": "ipython3",
   "version": "3.9.12"
  }
 },
 "nbformat": 4,
 "nbformat_minor": 5
}
